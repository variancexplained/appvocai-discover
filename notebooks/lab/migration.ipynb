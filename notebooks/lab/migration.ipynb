{
 "cells": [
  {
   "cell_type": "markdown",
   "metadata": {},
   "source": [
    "# Code Migration"
   ]
  },
  {
   "cell_type": "code",
   "execution_count": 1,
   "metadata": {},
   "outputs": [],
   "source": [
    "import shutil\n",
    "import os\n",
    "import logging\n",
    "import pandas as pd\n",
    "\n",
    "logger = logging.getLogger(__name__)"
   ]
  },
  {
   "cell_type": "code",
   "execution_count": 2,
   "metadata": {},
   "outputs": [],
   "source": [
    "FP = \"notes/ModuleInventory.csv\""
   ]
  },
  {
   "cell_type": "code",
   "execution_count": 3,
   "metadata": {},
   "outputs": [],
   "source": [
    "def get_modules() -> pd.DataFrame:\n",
    "    df = pd.read_csv(FP, keep_default_na=False)\n",
    "    return df.loc[df[\"Status\"] == \"ready\"]"
   ]
  },
  {
   "cell_type": "code",
   "execution_count": 4,
   "metadata": {},
   "outputs": [],
   "source": [
    "def format_source_path(module: dict) -> str:\n",
    "    return (\n",
    "        os.path.join(\n",
    "            \"discover\",\n",
    "            \"appinsight\",\n",
    "            module[\"source\"],\n",
    "            module[\"source_package\"],\n",
    "            module[\"source_subpackage\"],\n",
    "            module[\"source_module\"],\n",
    "        )\n",
    "        + \".py\"\n",
    "    )"
   ]
  },
  {
   "cell_type": "code",
   "execution_count": 5,
   "metadata": {},
   "outputs": [],
   "source": [
    "def format_target_path(module: dict) -> str:\n",
    "    return (\n",
    "        os.path.join(\n",
    "            \"discover\",\n",
    "            module[\"Layer\"],\n",
    "            module[\"Package\"],\n",
    "            module[\"Subpackage\"],\n",
    "            module[\"Sub2Package\"],\n",
    "            module[\"Module\"],\n",
    "        )\n",
    "        + \".py\"\n",
    "    )"
   ]
  },
  {
   "cell_type": "code",
   "execution_count": 6,
   "metadata": {},
   "outputs": [],
   "source": [
    "df = get_modules().reset_index()\n",
    "modules = df.to_dict(orient=\"index\")"
   ]
  },
  {
   "cell_type": "code",
   "execution_count": 7,
   "metadata": {},
   "outputs": [],
   "source": [
    "files_copied = 0\n",
    "files_not_copied = 0\n",
    "paths_not_copied = []\n",
    "for k, v in modules.items():\n",
    "    source = format_source_path(v)\n",
    "    target = format_target_path(v)\n",
    "    if os.path.exists(target):\n",
    "        files_not_copied += 1\n",
    "        paths_not_copied.append(target)\n",
    "    else:\n",
    "        os.makedirs(os.path.dirname(target), exist_ok=True)\n",
    "        try:\n",
    "            shutil.copy(source, target)\n",
    "            files_copied += 1\n",
    "        except Exception as e:\n",
    "            files_not_copied += 1\n",
    "            paths_not_copied.append(target)\n",
    "            logger.exception(e)"
   ]
  },
  {
   "cell_type": "code",
   "execution_count": 8,
   "metadata": {},
   "outputs": [
    {
     "name": "stdout",
     "output_type": "stream",
     "text": [
      "66 files were copied. 23 were not.\n"
     ]
    },
    {
     "data": {
      "text/plain": [
       "['discover/core/data.py',\n",
       " 'discover/core/data.py',\n",
       " 'discover/core/enum.py',\n",
       " 'discover/domain/services/data_processing/data_prep/config.py',\n",
       " 'discover/domain/services/data_processing/data_prep/pipeline.py',\n",
       " 'discover/domain/services/data_processing/data_prep/task.py',\n",
       " 'discover/domain/services/data_processing/data_quality_analysis/task.py',\n",
       " 'discover/domain/services/data_processing/data_quality_analysis/task.py',\n",
       " 'discover/domain/services/data_processing/data_quality_analysis/task.py',\n",
       " 'discover/domain/services/data_processing/data_quality_analysis/task.py',\n",
       " 'discover/domain/services/data_processing/data_quality_analysis/task.py',\n",
       " 'discover/domain/services/data_processing/data_quality_analysis/task.py',\n",
       " 'discover/domain/services/data_processing/data_quality_analysis/task.py',\n",
       " 'discover/domain/services/data_processing/data_quality_analysis/task.py',\n",
       " 'discover/domain/services/data_processing/data_quality_analysis/task.py',\n",
       " 'discover/domain/services/data_processing/data_quality_analysis/task.py',\n",
       " 'discover/domain/services/data_processing/feature_engineering/task.py',\n",
       " 'discover/domain/services/exploratory_data_analysis/overview.py',\n",
       " 'discover/infra/config/config.py',\n",
       " 'discover/infra/file_setup/pipeline.py',\n",
       " 'discover/infra/repo/review.py',\n",
       " 'discover/infra/data_task/convert/base.py',\n",
       " 'discover/infra/utils/date.py']"
      ]
     },
     "execution_count": 8,
     "metadata": {},
     "output_type": "execute_result"
    }
   ],
   "source": [
    "print(f\"{files_copied} files were copied. {files_not_copied} were not.\")\n",
    "paths_not_copied"
   ]
  }
 ],
 "metadata": {
  "kernelspec": {
   "display_name": "appvocai",
   "language": "python",
   "name": "python3"
  },
  "language_info": {
   "codemirror_mode": {
    "name": "ipython",
    "version": 3
   },
   "file_extension": ".py",
   "mimetype": "text/x-python",
   "name": "python",
   "nbconvert_exporter": "python",
   "pygments_lexer": "ipython3",
   "version": "3.10.14"
  }
 },
 "nbformat": 4,
 "nbformat_minor": 2
}
