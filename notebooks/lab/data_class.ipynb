{
 "cells": [
  {
   "cell_type": "markdown",
   "metadata": {},
   "source": [
    "## DataClass Lab"
   ]
  },
  {
   "cell_type": "code",
   "execution_count": 4,
   "metadata": {},
   "outputs": [
    {
     "name": "stdout",
     "output_type": "stream",
     "text": [
      "    a  b\n",
      "0 NaN  5\n"
     ]
    }
   ],
   "source": [
    "from dataclasses import dataclass\n",
    "from discover.core.data_class import DataClass\n",
    "\n",
    "\n",
    "@dataclass\n",
    "class A(DataClass):\n",
    "    a: str = \"a_something\"\n",
    "\n",
    "\n",
    "@dataclass\n",
    "class B(DataClass):\n",
    "    a: A = A()\n",
    "    b: int = 5\n",
    "\n",
    "\n",
    "b = B()\n",
    "print(b.as_df())"
   ]
  }
 ],
 "metadata": {
  "kernelspec": {
   "display_name": "appvocai",
   "language": "python",
   "name": "python3"
  },
  "language_info": {
   "codemirror_mode": {
    "name": "ipython",
    "version": 3
   },
   "file_extension": ".py",
   "mimetype": "text/x-python",
   "name": "python",
   "nbconvert_exporter": "python",
   "pygments_lexer": "ipython3",
   "version": "3.10.14"
  }
 },
 "nbformat": 4,
 "nbformat_minor": 2
}
