{
    "cells": [
        {
            "cell_type": "markdown",
            "metadata": {},
            "source": [
                "# Setup Lab\n",
                "Lab for experimenting with setup routines"
            ]
        },
        {
            "cell_type": "code",
            "execution_count": 1,
            "metadata": {},
            "outputs": [],
            "source": [
                "import os\n",
                "from appvocai-genailabslm.shared.config.dataset import DatasetConfig\n",
                "from appvocai-genailabslm.shared.persist.file.io import IOService\n",
                "from appvocai-genailabslm.shared.persist.file.filesystem import FileSystem"
            ]
        },
        {
            "cell_type": "code",
            "execution_count": 2,
            "metadata": {},
            "outputs": [],
            "source": [
                "from importlib import reload  # Not needed in Python 2\n",
                "import logging\n",
                "reload(logging)\n",
                "logging.basicConfig(format='%(asctime)s %(levelname)s:%(message)s', level=logging.DEBUG, datefmt='%I:%M:%S')"
            ]
        },
        {
            "cell_type": "code",
            "execution_count": 3,
            "metadata": {},
            "outputs": [],
            "source": [
                "SOURCE = \"data/ext/reviews\"\n",
                "DESTINATION = \"data/test/00_raw/reviews\""
            ]
        },
        {
            "cell_type": "markdown",
            "metadata": {},
            "source": [
                "## Load Data"
            ]
        },
        {
            "cell_type": "code",
            "execution_count": 4,
            "metadata": {},
            "outputs": [],
            "source": [
                "df = IOService.read(filepath=SOURCE)"
            ]
        },
        {
            "cell_type": "markdown",
            "metadata": {},
            "source": [
                "## Sample Data"
            ]
        },
        {
            "cell_type": "code",
            "execution_count": 5,
            "metadata": {},
            "outputs": [],
            "source": [
                "df2 = df.sample(frac=DatasetConfig().get_frac())"
            ]
        },
        {
            "cell_type": "markdown",
            "metadata": {},
            "source": [
                "## Create Data"
            ]
        },
        {
            "cell_type": "code",
            "execution_count": 6,
            "metadata": {},
            "outputs": [],
            "source": [
                "FileSystem().create(directory=\"00_raw\", filename=\"reviews\", data=df2, **DatasetConfig().get_save_kwargs())"
            ]
        },
        {
            "cell_type": "code",
            "execution_count": 7,
            "metadata": {},
            "outputs": [
                {
                    "name": "stdout",
                    "output_type": "stream",
                    "text": [
                        "done\n"
                    ]
                }
            ],
            "source": [
                "assert os.path.exists(DESTINATION)\n",
                "print(\"done\")"
            ]
        }
    ],
    "metadata": {
        "kernelspec": {
            "display_name": "genai-lab-slm",
            "language": "python",
            "name": "python3"
        },
        "language_info": {
            "codemirror_mode": {
                "name": "ipython",
                "version": 3
            },
            "file_extension": ".py",
            "mimetype": "text/x-python",
            "name": "python",
            "nbconvert_exporter": "python",
            "pygments_lexer": "ipython3",
            "version": "3.10.14"
        }
    },
    "nbformat": 4,
    "nbformat_minor": 2
}