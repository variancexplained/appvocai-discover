{
 "cells": [
  {
   "cell_type": "markdown",
   "metadata": {},
   "source": [
    "# Class Inventory"
   ]
  },
  {
   "cell_type": "code",
   "execution_count": 1,
   "metadata": {},
   "outputs": [],
   "source": [
    "import os\n",
    "import pandas as pd\n",
    "import re\n",
    "from typing import List, Tuple"
   ]
  },
  {
   "cell_type": "code",
   "execution_count": 2,
   "metadata": {},
   "outputs": [],
   "source": [
    "def get_class_inventory(base_dir: str, layer: str) -> List[Tuple[str, str]]:\n",
    "    \"\"\"\n",
    "    Returns a list of tuples containing class names and the path to the module\n",
    "    containing the class from the given base directory and its subdirectories.\n",
    "    This function uses regex to find class definitions instead of importing the modules.\n",
    "\n",
    "    Args:\n",
    "        base_dir (str): The base directory to start searching.\n",
    "        layer (str): The layer (can be a specific subdirectory) to search for classes.\n",
    "\n",
    "    Returns:\n",
    "        List[Tuple[str, str]]: A list of (class_name, module_path) tuples.\n",
    "    \"\"\"\n",
    "    class_inventory = []\n",
    "\n",
    "    # Full path to the directory where we will start the search\n",
    "    search_path = os.path.join(base_dir, layer)\n",
    "\n",
    "    # Regex pattern to find class definitions\n",
    "    class_pattern = re.compile(r\"^class\\s+(\\w+)\\s*\\(.*\\):\")\n",
    "\n",
    "    # Walk through the directory and find all .py files\n",
    "    for root, _, files in os.walk(search_path):\n",
    "        for file in files:\n",
    "            if file.endswith(\".py\") and not file.startswith(\"__\"):\n",
    "                file_path = os.path.join(root, file)\n",
    "                relative_path = os.path.relpath(file_path, base_dir)\n",
    "                module_path = relative_path.replace(os.sep, \".\")[\n",
    "                    :-3\n",
    "                ]  # Convert to module path\n",
    "\n",
    "                try:\n",
    "                    # Open the file and search for class definitions using regex\n",
    "                    with open(file_path, \"r\", encoding=\"utf-8\") as f:\n",
    "                        for line in f:\n",
    "                            match = class_pattern.match(line.strip())\n",
    "                            if match:\n",
    "                                class_name = match.group(1)\n",
    "                                class_inventory.append((class_name, module_path))\n",
    "\n",
    "                except Exception as e:\n",
    "                    # Handle file read errors or permission issues\n",
    "                    print(f\"Error reading file {file_path}: {e}\")\n",
    "\n",
    "    return class_inventory\n",
    "\n",
    "\n",
    "# Example usage:\n",
    "# base_dir = '/path/to/base/directory'\n",
    "# layer = 'your_layer'\n",
    "# class_inventory = get_class_inventory_via_regex(base_dir, layer)\n",
    "# for class_name, module_path in class_inventory:\n",
    "#     print(f\"Class: {class_name}, Module: {module_path}\")"
   ]
  },
  {
   "cell_type": "code",
   "execution_count": 3,
   "metadata": {},
   "outputs": [],
   "source": [
    "# Example usage:\n",
    "base_dir = \"discover\"\n",
    "layer = \"infra\"\n",
    "filepath = \"notes/class_inventory_infra.csv\"\n",
    "class_inventory = get_class_inventory(base_dir, layer)\n",
    "df = pd.DataFrame(data=class_inventory, columns=[\"Class\", \"Modulle\"])\n",
    "df.to_csv(filepath)"
   ]
  }
 ],
 "metadata": {
  "kernelspec": {
   "display_name": "appvocai",
   "language": "python",
   "name": "python3"
  },
  "language_info": {
   "codemirror_mode": {
    "name": "ipython",
    "version": 3
   },
   "file_extension": ".py",
   "mimetype": "text/x-python",
   "name": "python",
   "nbconvert_exporter": "python",
   "pygments_lexer": "ipython3",
   "version": "3.10.14"
  }
 },
 "nbformat": 4,
 "nbformat_minor": 2
}
