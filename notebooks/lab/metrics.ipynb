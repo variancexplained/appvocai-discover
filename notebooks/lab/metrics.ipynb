{
 "cells": [
  {
   "cell_type": "markdown",
   "metadata": {},
   "source": [
    "# Metrics\n",
    "This lab notebook prototypes the process of aggregation and computation of review metrics using PySpark "
   ]
  },
  {
   "cell_type": "code",
   "execution_count": 1,
   "metadata": {},
   "outputs": [],
   "source": [
    "\n",
    "import pyspark\n",
    "from pyspark.sql.functions import  col, from_unixtime\n",
    "from pyspark.sql import SparkSession\n",
    "from pyspark.sql.types import StructType, StructField, StringType, DoubleType, LongType\n",
    "from appvocai-discover.utils.repo import ReviewRepo\n",
    "from pyspark.sql import functions as sparkFunc"
   ]
  },
  {
   "cell_type": "markdown",
   "metadata": {},
   "source": [
    "## Spark Session"
   ]
  },
  {
   "cell_type": "code",
   "execution_count": 2,
   "metadata": {},
   "outputs": [
    {
     "name": "stderr",
     "output_type": "stream",
     "text": [
      "your 131072x1 screen size is bogus. expect trouble\n",
      "24/05/28 22:29:59 WARN Utils: Your hostname, Leviathan resolves to a loopback address: 127.0.1.1; using 172.29.219.103 instead (on interface eth0)\n",
      "24/05/28 22:29:59 WARN Utils: Set SPARK_LOCAL_IP if you need to bind to another address\n"
     ]
    },
    {
     "name": "stdout",
     "output_type": "stream",
     "text": [
      ":: loading settings :: url = jar:file:/home/john/anaconda3/envs/appvocai-discover/lib/python3.10/site-packages/pyspark/jars/ivy-2.5.1.jar!/org/apache/ivy/core/settings/ivysettings.xml\n"
     ]
    },
    {
     "name": "stderr",
     "output_type": "stream",
     "text": [
      "Ivy Default Cache set to: /home/john/.ivy2/cache\n",
      "The jars for the packages stored in: /home/john/.ivy2/jars\n",
      "com.johnsnowlabs.nlp#spark-nlp_2.12 added as a dependency\n",
      ":: resolving dependencies :: org.apache.spark#spark-submit-parent-714cf5d2-5ed6-4770-9517-668c00dd629f;1.0\n",
      "\tconfs: [default]\n",
      "\tfound com.johnsnowlabs.nlp#spark-nlp_2.12;5.3.3 in central\n",
      "\tfound com.typesafe#config;1.4.2 in central\n",
      "\tfound org.rocksdb#rocksdbjni;6.29.5 in central\n",
      "\tfound com.amazonaws#aws-java-sdk-s3;1.12.500 in central\n",
      "\tfound com.amazonaws#aws-java-sdk-kms;1.12.500 in central\n",
      "\tfound com.amazonaws#aws-java-sdk-core;1.12.500 in central\n",
      "\tfound commons-logging#commons-logging;1.1.3 in central\n",
      "\tfound commons-codec#commons-codec;1.15 in central\n",
      "\tfound org.apache.httpcomponents#httpclient;4.5.13 in central\n",
      "\tfound org.apache.httpcomponents#httpcore;4.4.13 in central\n",
      "\tfound software.amazon.ion#ion-java;1.0.2 in central\n",
      "\tfound joda-time#joda-time;2.8.1 in central\n",
      "\tfound com.amazonaws#jmespath-java;1.12.500 in central\n",
      "\tfound com.github.universal-automata#liblevenshtein;3.0.0 in central\n",
      "\tfound com.google.protobuf#protobuf-java-util;3.0.0-beta-3 in central\n",
      "\tfound com.google.protobuf#protobuf-java;3.0.0-beta-3 in central\n",
      "\tfound com.google.code.gson#gson;2.3 in central\n",
      "\tfound it.unimi.dsi#fastutil;7.0.12 in central\n",
      "\tfound org.projectlombok#lombok;1.16.8 in central\n",
      "\tfound com.google.cloud#google-cloud-storage;2.20.1 in central\n",
      "\tfound com.google.guava#guava;31.1-jre in central\n",
      "\tfound com.google.guava#failureaccess;1.0.1 in central\n",
      "\tfound com.google.guava#listenablefuture;9999.0-empty-to-avoid-conflict-with-guava in central\n",
      "\tfound com.google.errorprone#error_prone_annotations;2.18.0 in central\n",
      "\tfound com.google.j2objc#j2objc-annotations;1.3 in central\n",
      "\tfound com.google.http-client#google-http-client;1.43.0 in central\n",
      "\tfound io.opencensus#opencensus-contrib-http-util;0.31.1 in central\n",
      "\tfound com.google.http-client#google-http-client-jackson2;1.43.0 in central\n",
      "\tfound com.google.http-client#google-http-client-gson;1.43.0 in central\n",
      "\tfound com.google.api-client#google-api-client;2.2.0 in central\n",
      "\tfound com.google.oauth-client#google-oauth-client;1.34.1 in central\n",
      "\tfound com.google.http-client#google-http-client-apache-v2;1.43.0 in central\n",
      "\tfound com.google.apis#google-api-services-storage;v1-rev20220705-2.0.0 in central\n",
      "\tfound com.google.code.gson#gson;2.10.1 in central\n",
      "\tfound com.google.cloud#google-cloud-core;2.12.0 in central\n",
      "\tfound io.grpc#grpc-context;1.53.0 in central\n",
      "\tfound com.google.auto.value#auto-value-annotations;1.10.1 in central\n",
      "\tfound com.google.auto.value#auto-value;1.10.1 in central\n",
      "\tfound javax.annotation#javax.annotation-api;1.3.2 in central\n",
      "\tfound com.google.cloud#google-cloud-core-http;2.12.0 in central\n",
      "\tfound com.google.http-client#google-http-client-appengine;1.43.0 in central\n",
      "\tfound com.google.api#gax-httpjson;0.108.2 in central\n",
      "\tfound com.google.cloud#google-cloud-core-grpc;2.12.0 in central\n",
      "\tfound io.grpc#grpc-alts;1.53.0 in central\n",
      "\tfound io.grpc#grpc-grpclb;1.53.0 in central\n",
      "\tfound org.conscrypt#conscrypt-openjdk-uber;2.5.2 in central\n",
      "\tfound io.grpc#grpc-auth;1.53.0 in central\n",
      "\tfound io.grpc#grpc-protobuf;1.53.0 in central\n",
      "\tfound io.grpc#grpc-protobuf-lite;1.53.0 in central\n",
      "\tfound io.grpc#grpc-core;1.53.0 in central\n",
      "\tfound com.google.api#gax;2.23.2 in central\n",
      "\tfound com.google.api#gax-grpc;2.23.2 in central\n",
      "\tfound com.google.auth#google-auth-library-credentials;1.16.0 in central\n",
      "\tfound com.google.auth#google-auth-library-oauth2-http;1.16.0 in central\n",
      "\tfound com.google.api#api-common;2.6.2 in central\n",
      "\tfound io.opencensus#opencensus-api;0.31.1 in central\n",
      "\tfound com.google.api.grpc#proto-google-iam-v1;1.9.2 in central\n",
      "\tfound com.google.protobuf#protobuf-java;3.21.12 in central\n",
      "\tfound com.google.protobuf#protobuf-java-util;3.21.12 in central\n",
      "\tfound com.google.api.grpc#proto-google-common-protos;2.14.2 in central\n",
      "\tfound org.threeten#threetenbp;1.6.5 in central\n",
      "\tfound com.google.api.grpc#proto-google-cloud-storage-v2;2.20.1-alpha in central\n",
      "\tfound com.google.api.grpc#grpc-google-cloud-storage-v2;2.20.1-alpha in central\n",
      "\tfound com.google.api.grpc#gapic-google-cloud-storage-v2;2.20.1-alpha in central\n",
      "\tfound com.google.code.findbugs#jsr305;3.0.2 in central\n",
      "\tfound io.grpc#grpc-api;1.53.0 in central\n",
      "\tfound io.grpc#grpc-stub;1.53.0 in central\n",
      "\tfound org.checkerframework#checker-qual;3.31.0 in central\n",
      "\tfound io.perfmark#perfmark-api;0.26.0 in central\n",
      "\tfound com.google.android#annotations;4.1.1.4 in central\n",
      "\tfound org.codehaus.mojo#animal-sniffer-annotations;1.22 in central\n",
      "\tfound io.opencensus#opencensus-proto;0.2.0 in central\n",
      "\tfound io.grpc#grpc-services;1.53.0 in central\n",
      "\tfound com.google.re2j#re2j;1.6 in central\n",
      "\tfound io.grpc#grpc-netty-shaded;1.53.0 in central\n",
      "\tfound io.grpc#grpc-googleapis;1.53.0 in central\n",
      "\tfound io.grpc#grpc-xds;1.53.0 in central\n",
      "\tfound com.navigamez#greex;1.0 in central\n",
      "\tfound dk.brics.automaton#automaton;1.11-8 in central\n",
      "\tfound com.johnsnowlabs.nlp#tensorflow-cpu_2.12;0.4.4 in central\n",
      "\tfound com.microsoft.onnxruntime#onnxruntime;1.17.0 in central\n",
      ":: resolution report :: resolve 1744ms :: artifacts dl 62ms\n",
      "\t:: modules in use:\n",
      "\tcom.amazonaws#aws-java-sdk-core;1.12.500 from central in [default]\n",
      "\tcom.amazonaws#aws-java-sdk-kms;1.12.500 from central in [default]\n",
      "\tcom.amazonaws#aws-java-sdk-s3;1.12.500 from central in [default]\n",
      "\tcom.amazonaws#jmespath-java;1.12.500 from central in [default]\n",
      "\tcom.github.universal-automata#liblevenshtein;3.0.0 from central in [default]\n",
      "\tcom.google.android#annotations;4.1.1.4 from central in [default]\n",
      "\tcom.google.api#api-common;2.6.2 from central in [default]\n",
      "\tcom.google.api#gax;2.23.2 from central in [default]\n",
      "\tcom.google.api#gax-grpc;2.23.2 from central in [default]\n",
      "\tcom.google.api#gax-httpjson;0.108.2 from central in [default]\n",
      "\tcom.google.api-client#google-api-client;2.2.0 from central in [default]\n",
      "\tcom.google.api.grpc#gapic-google-cloud-storage-v2;2.20.1-alpha from central in [default]\n",
      "\tcom.google.api.grpc#grpc-google-cloud-storage-v2;2.20.1-alpha from central in [default]\n",
      "\tcom.google.api.grpc#proto-google-cloud-storage-v2;2.20.1-alpha from central in [default]\n",
      "\tcom.google.api.grpc#proto-google-common-protos;2.14.2 from central in [default]\n",
      "\tcom.google.api.grpc#proto-google-iam-v1;1.9.2 from central in [default]\n",
      "\tcom.google.apis#google-api-services-storage;v1-rev20220705-2.0.0 from central in [default]\n",
      "\tcom.google.auth#google-auth-library-credentials;1.16.0 from central in [default]\n",
      "\tcom.google.auth#google-auth-library-oauth2-http;1.16.0 from central in [default]\n",
      "\tcom.google.auto.value#auto-value;1.10.1 from central in [default]\n",
      "\tcom.google.auto.value#auto-value-annotations;1.10.1 from central in [default]\n",
      "\tcom.google.cloud#google-cloud-core;2.12.0 from central in [default]\n",
      "\tcom.google.cloud#google-cloud-core-grpc;2.12.0 from central in [default]\n",
      "\tcom.google.cloud#google-cloud-core-http;2.12.0 from central in [default]\n",
      "\tcom.google.cloud#google-cloud-storage;2.20.1 from central in [default]\n",
      "\tcom.google.code.findbugs#jsr305;3.0.2 from central in [default]\n",
      "\tcom.google.code.gson#gson;2.10.1 from central in [default]\n",
      "\tcom.google.errorprone#error_prone_annotations;2.18.0 from central in [default]\n",
      "\tcom.google.guava#failureaccess;1.0.1 from central in [default]\n",
      "\tcom.google.guava#guava;31.1-jre from central in [default]\n",
      "\tcom.google.guava#listenablefuture;9999.0-empty-to-avoid-conflict-with-guava from central in [default]\n",
      "\tcom.google.http-client#google-http-client;1.43.0 from central in [default]\n",
      "\tcom.google.http-client#google-http-client-apache-v2;1.43.0 from central in [default]\n",
      "\tcom.google.http-client#google-http-client-appengine;1.43.0 from central in [default]\n",
      "\tcom.google.http-client#google-http-client-gson;1.43.0 from central in [default]\n",
      "\tcom.google.http-client#google-http-client-jackson2;1.43.0 from central in [default]\n",
      "\tcom.google.j2objc#j2objc-annotations;1.3 from central in [default]\n",
      "\tcom.google.oauth-client#google-oauth-client;1.34.1 from central in [default]\n",
      "\tcom.google.protobuf#protobuf-java;3.21.12 from central in [default]\n",
      "\tcom.google.protobuf#protobuf-java-util;3.21.12 from central in [default]\n",
      "\tcom.google.re2j#re2j;1.6 from central in [default]\n",
      "\tcom.johnsnowlabs.nlp#spark-nlp_2.12;5.3.3 from central in [default]\n",
      "\tcom.johnsnowlabs.nlp#tensorflow-cpu_2.12;0.4.4 from central in [default]\n",
      "\tcom.microsoft.onnxruntime#onnxruntime;1.17.0 from central in [default]\n",
      "\tcom.navigamez#greex;1.0 from central in [default]\n",
      "\tcom.typesafe#config;1.4.2 from central in [default]\n",
      "\tcommons-codec#commons-codec;1.15 from central in [default]\n",
      "\tcommons-logging#commons-logging;1.1.3 from central in [default]\n",
      "\tdk.brics.automaton#automaton;1.11-8 from central in [default]\n",
      "\tio.grpc#grpc-alts;1.53.0 from central in [default]\n",
      "\tio.grpc#grpc-api;1.53.0 from central in [default]\n",
      "\tio.grpc#grpc-auth;1.53.0 from central in [default]\n",
      "\tio.grpc#grpc-context;1.53.0 from central in [default]\n",
      "\tio.grpc#grpc-core;1.53.0 from central in [default]\n",
      "\tio.grpc#grpc-googleapis;1.53.0 from central in [default]\n",
      "\tio.grpc#grpc-grpclb;1.53.0 from central in [default]\n",
      "\tio.grpc#grpc-netty-shaded;1.53.0 from central in [default]\n",
      "\tio.grpc#grpc-protobuf;1.53.0 from central in [default]\n",
      "\tio.grpc#grpc-protobuf-lite;1.53.0 from central in [default]\n",
      "\tio.grpc#grpc-services;1.53.0 from central in [default]\n",
      "\tio.grpc#grpc-stub;1.53.0 from central in [default]\n",
      "\tio.grpc#grpc-xds;1.53.0 from central in [default]\n",
      "\tio.opencensus#opencensus-api;0.31.1 from central in [default]\n",
      "\tio.opencensus#opencensus-contrib-http-util;0.31.1 from central in [default]\n",
      "\tio.opencensus#opencensus-proto;0.2.0 from central in [default]\n",
      "\tio.perfmark#perfmark-api;0.26.0 from central in [default]\n",
      "\tit.unimi.dsi#fastutil;7.0.12 from central in [default]\n",
      "\tjavax.annotation#javax.annotation-api;1.3.2 from central in [default]\n",
      "\tjoda-time#joda-time;2.8.1 from central in [default]\n",
      "\torg.apache.httpcomponents#httpclient;4.5.13 from central in [default]\n",
      "\torg.apache.httpcomponents#httpcore;4.4.13 from central in [default]\n",
      "\torg.checkerframework#checker-qual;3.31.0 from central in [default]\n",
      "\torg.codehaus.mojo#animal-sniffer-annotations;1.22 from central in [default]\n",
      "\torg.conscrypt#conscrypt-openjdk-uber;2.5.2 from central in [default]\n",
      "\torg.projectlombok#lombok;1.16.8 from central in [default]\n",
      "\torg.rocksdb#rocksdbjni;6.29.5 from central in [default]\n",
      "\torg.threeten#threetenbp;1.6.5 from central in [default]\n",
      "\tsoftware.amazon.ion#ion-java;1.0.2 from central in [default]\n",
      "\t:: evicted modules:\n",
      "\tcommons-logging#commons-logging;1.2 by [commons-logging#commons-logging;1.1.3] in [default]\n",
      "\tcommons-codec#commons-codec;1.11 by [commons-codec#commons-codec;1.15] in [default]\n",
      "\tcom.google.protobuf#protobuf-java-util;3.0.0-beta-3 by [com.google.protobuf#protobuf-java-util;3.21.12] in [default]\n",
      "\tcom.google.protobuf#protobuf-java;3.0.0-beta-3 by [com.google.protobuf#protobuf-java;3.21.12] in [default]\n",
      "\tcom.google.code.gson#gson;2.3 by [com.google.code.gson#gson;2.10.1] in [default]\n",
      "\t---------------------------------------------------------------------\n",
      "\t|                  |            modules            ||   artifacts   |\n",
      "\t|       conf       | number| search|dwnlded|evicted|| number|dwnlded|\n",
      "\t---------------------------------------------------------------------\n",
      "\t|      default     |   83  |   0   |   0   |   5   ||   78  |   0   |\n",
      "\t---------------------------------------------------------------------\n",
      ":: retrieving :: org.apache.spark#spark-submit-parent-714cf5d2-5ed6-4770-9517-668c00dd629f\n",
      "\tconfs: [default]\n",
      "\t0 artifacts copied, 78 already retrieved (0kB/29ms)\n",
      "24/05/28 22:30:03 WARN NativeCodeLoader: Unable to load native-hadoop library for your platform... using builtin-java classes where applicable\n",
      "Setting default log level to \"WARN\".\n",
      "To adjust logging level use sc.setLogLevel(newLevel). For SparkR, use setLogLevel(newLevel).\n"
     ]
    }
   ],
   "source": [
    "spark = (\n",
    "    SparkSession.builder.appName(\"AppVoCAI-Discover\")\n",
    "    .master(\"local[*]\")\n",
    "    .config(\"spark.driver.memory\", \"32g\")\n",
    "    .config(\"spark.executor.memory\", \"32g\")\n",
    "    .config(\"spark.serializer\", \"org.apache.spark.serializer.KryoSerializer\")\n",
    "    .config(\"spark.kryoserializer.buffer.max\", \"2000M\")\n",
    "    .config(\"spark.driver.maxResultSize\", \"0\")\n",
    "    .config(\"spark.jars.packages\", \"com.johnsnowlabs.nlp:spark-nlp_2.12:5.3.3\")\n",
    "    .config(\"spark.sql.legacy.parquet.nanosAsLong\", \"true\")    \n",
    "    .getOrCreate()\n",
    ")"
   ]
  },
  {
   "cell_type": "markdown",
   "metadata": {},
   "source": [
    "## Data"
   ]
  },
  {
   "cell_type": "code",
   "execution_count": 3,
   "metadata": {},
   "outputs": [],
   "source": [
    "schema = StructType([ \\\n",
    "    StructField(\"id\", StringType(), True), \\\n",
    "    StructField(\"app_id\", StringType(), True), \\\n",
    "    StructField(\"app_name\", StringType(), True), \\\n",
    "    StructField(\"category_id\", StringType(), True), \\\n",
    "    StructField(\"category\", StringType(), True), \\\n",
    "    StructField(\"author\", StringType(), True), \\\n",
    "    StructField(\"rating\", DoubleType(), True), \\\n",
    "    StructField(\"title\", StringType(), True), \\\n",
    "    StructField(\"content\", StringType(), True), \\\n",
    "    StructField(\"eda_review_length\", LongType(), True), \\\n",
    "    StructField(\"vote_count\", LongType(), True), \\\n",
    "    StructField(\"vote_sum\", LongType(), True), \\\n",
    "    StructField(\"date\", LongType(), True), \\\n",
    "    \n",
    "    ])\n",
    "\n",
    "column_dict = {\n",
    "    \"id\": StringType(),\n",
    "    \"app_id\": StringType(),\n",
    "    \"app_name\": StringType(),\n",
    "    \"category_id\": StringType(),\n",
    "    \"category\": StringType(),\n",
    "    \"author\": StringType(),\n",
    "    \"rating\": DoubleType(),\n",
    "    \"title\": StringType(),\n",
    "    \"content\": StringType(),\n",
    "    \"eda_review_length\": LongType(),\n",
    "    \"vote_count\": LongType(),\n",
    "    \"vote_sum\": LongType(),\n",
    "    \"date\": LongType()\n",
    "}"
   ]
  },
  {
   "cell_type": "code",
   "execution_count": 4,
   "metadata": {},
   "outputs": [],
   "source": [
    "FP1 = {\"directory\": \"00_raw\", \"filename\": \"reviews.pkl\"}\n",
    "FP2 = {\"directory\": \"05_precomp\", \"filename\": \"reviews.parquet\"}\n",
    "FP_CATEGORY = {\"directory\": \"05_precomp\", \"filename\": \"category.pkl\"}\n",
    "FP_AUTHOR = {\"directory\": \"05_precomp\", \"filename\": \"author.pkl\"}\n",
    "FP_APP = {\"directory\": \"05_precomp\", \"filename\": \"app.pkl\"}\n",
    "FP_CATEGORY_AUTHOR = {\"directory\": \"05_precomp\", \"filename\": \"category_author.pkl\"}\n",
    "df1 = ReviewRepo.read(directory=FP1['directory'], filename=FP1[\"filename\"])\n",
    "filepath = ReviewRepo.get_filepath(directory=FP2[\"directory\"], filename=FP2[\"filename\"])\n",
    "\n",
    "df1.to_parquet(filepath)\n"
   ]
  },
  {
   "cell_type": "markdown",
   "metadata": {},
   "source": [
    "## Create Spark DataFrame"
   ]
  },
  {
   "cell_type": "code",
   "execution_count": 5,
   "metadata": {},
   "outputs": [
    {
     "name": "stdout",
     "output_type": "stream",
     "text": [
      "root\n",
      " |-- id: string (nullable = true)\n",
      " |-- app_id: string (nullable = true)\n",
      " |-- app_name: string (nullable = true)\n",
      " |-- category_id: string (nullable = true)\n",
      " |-- category: string (nullable = true)\n",
      " |-- author: string (nullable = true)\n",
      " |-- rating: double (nullable = true)\n",
      " |-- title: string (nullable = true)\n",
      " |-- content: string (nullable = true)\n",
      " |-- eda_review_length: long (nullable = true)\n",
      " |-- vote_count: long (nullable = true)\n",
      " |-- vote_sum: long (nullable = true)\n",
      " |-- date: long (nullable = true)\n",
      "\n"
     ]
    },
    {
     "name": "stderr",
     "output_type": "stream",
     "text": [
      "                                                                                \r"
     ]
    },
    {
     "data": {
      "text/plain": [
       "[Row(id='1421843662', app_id='536049508', app_name='Full Fitness : Exercise Workout Trainer', category_id='6013', category='Health & Fitness', author='Shawarma Sheikh', rating=1.0, title='Waste of $3', content='Exactly the same as \"Fitness Buddy\" app. Almost verbatim.', eda_review_length=9, vote_count=0, vote_sum=0, date=1469760910000000000),\n",
       " Row(id='2180538326', app_id='386022579', app_name='Pregnancy Tracker - BabyCenter', category_id='6013', category='Health & Fitness', author='Baby, I Am Your Father!', rating=5.0, title='Great App', content='My wife has the app but I think I use it more than her.... 😂', eda_review_length=15, vote_count=0, vote_sum=0, date=1518062808000000000),\n",
       " Row(id='830423077', app_id='379693831', app_name='Audible: Audio Entertainment', category_id='6018', category='Book', author='Fluffymarshmellow', rating=1.0, title=\"Doesn't let me join\", content=\"Not worth it if I can't just join an account so I don't need a computer to do this not downloading ever again\", eda_review_length=23, vote_count=0, vote_sum=0, date=1372826160000000000),\n",
       " Row(id='1482082638', app_id='879478102', app_name='Google Slides', category_id='6007', category='Productivity', author='RAindrop11!', rating=5.0, title='AMAZING!!!', content=\"I love this app. It's super simple and easy to use!\", eda_review_length=11, vote_count=0, vote_sum=0, date=1478794320000000000),\n",
       " Row(id='949211950', app_id='538946076', app_name='Zillow Rentals', category_id='6012', category='Lifestyle', author='On ios', rating=3.0, title='Great so far', content='Still looking for a place in June, zillow has been very helpful!', eda_review_length=12, vote_count=0, vote_sum=0, date=1393213612000000000)]"
      ]
     },
     "execution_count": 5,
     "metadata": {},
     "output_type": "execute_result"
    }
   ],
   "source": [
    "df2 = spark.read.schema(schema).parquet(filepath)\n",
    "df = df2.withColumn(\"date\", (col(\"date\") / 100000000).cast(\"timestamp\"))\n",
    "df2.printSchema()\n",
    "df2.take(5)"
   ]
  },
  {
   "cell_type": "markdown",
   "metadata": {},
   "source": [
    "## Category Metrics"
   ]
  },
  {
   "cell_type": "code",
   "execution_count": 6,
   "metadata": {},
   "outputs": [],
   "source": [
    "df_category = df2.groupBy(\"category\").agg(\n",
    "    sparkFunc.countDistinct(col(\"app_id\")).alias(\"app_count\"),\n",
    "    sparkFunc.countDistinct(col(\"author\")).alias(\"author_count\"),\n",
    "    sparkFunc.count(\"*\").alias(\"review_count\"),\n",
    "    sparkFunc.min(col(\"rating\")).alias(\"rating_min\"),\n",
    "    sparkFunc.max(col(\"rating\")).alias(\"rating_max\"),\n",
    "    sparkFunc.avg(col(\"rating\")).alias(\"rating_avg\"),\n",
    "    sparkFunc.mode(col(\"rating\")).alias(\"rating_mode\"),\n",
    "    sparkFunc.stddev(col(\"rating\")).alias(\"rating_std\"),\n",
    "    sparkFunc.min(col(\"eda_review_length\")).alias(\"eda_review_length_min\"),\n",
    "    sparkFunc.max(col(\"eda_review_length\")).alias(\"eda_review_length_max\"),\n",
    "    sparkFunc.avg(col(\"eda_review_length\")).alias(\"eda_review_length_avg\"),\n",
    "    sparkFunc.mode(col(\"eda_review_length\")).alias(\"eda_review_length_mode\"),\n",
    "    sparkFunc.stddev(col(\"eda_review_length\")).alias(\"eda_review_length_std\"),\n",
    "    sparkFunc.min(col(\"vote_count\")).alias(\"vote_count_min\"),\n",
    "    sparkFunc.max(col(\"vote_count\")).alias(\"vote_count_max\"),\n",
    "    sparkFunc.avg(col(\"vote_count\")).alias(\"vote_count_avg\"),\n",
    "    sparkFunc.mode(col(\"vote_count\")).alias(\"vote_count_mode\"),\n",
    "    sparkFunc.stddev(col(\"vote_count\")).alias(\"vote_count_std\"),\n",
    "    sparkFunc.min(col(\"vote_sum\")).alias(\"vote_sum_min\"),\n",
    "    sparkFunc.max(col(\"vote_sum\")).alias(\"vote_sum_max\"),\n",
    "    sparkFunc.avg(col(\"vote_sum\")).alias(\"vote_sum_avg\"),\n",
    "    sparkFunc.mode(col(\"vote_sum\")).alias(\"vote_sum_mode\"),\n",
    "    sparkFunc.stddev(col(\"vote_sum\")).alias(\"vote_sum_std\"),\n",
    "    sparkFunc.min(col(\"date\")).alias(\"date_min\"),\n",
    "    sparkFunc.max(col(\"date\")).alias(\"date_max\"),\n",
    "    sparkFunc.mode(col(\"date\")).alias(\"date_mode\")\n",
    "    )\n"
   ]
  },
  {
   "cell_type": "markdown",
   "metadata": {},
   "source": [
    "### Category Metrics Revealed"
   ]
  },
  {
   "cell_type": "code",
   "execution_count": 7,
   "metadata": {},
   "outputs": [
    {
     "name": "stderr",
     "output_type": "stream",
     "text": [
      "24/05/28 22:30:23 WARN SparkStringUtils: Truncated the string representation of a plan since it was too large. This behavior can be adjusted by setting 'spark.sql.debug.maxToStringFields'.\n",
      "                                                                                \r"
     ]
    },
    {
     "data": {
      "text/plain": [
       "[Row(category='Education', app_count=1086, author_count=11123, review_count=11133, rating_min=1.0, rating_max=5.0, rating_avg=3.56911883589329, rating_mode=5.0, rating_std=1.7564127936010225, eda_review_length_min=1, eda_review_length_max=915, eda_review_length_avg=27.842540195814244, eda_review_length_mode=1, eda_review_length_std=36.98320623452128, vote_count_min=0, vote_count_max=158, vote_count_avg=0.15988502649779934, vote_count_mode=0, vote_count_std=2.167886280370067, vote_sum_min=0, vote_sum_max=91, vote_sum_avg=0.0997035839396389, vote_sum_mode=0, vote_sum_std=1.274537427514254, date_min=1234909970000000000, date_max=1691898124000000000, date_mode=1585069723000000000),\n",
       " Row(category='Entertainment', app_count=952, author_count=20295, review_count=20316, rating_min=1.0, rating_max=5.0, rating_avg=3.536424493010435, rating_mode=5.0, rating_std=1.689947197301256, eda_review_length_min=1, eda_review_length_max=1049, eda_review_length_avg=27.27057491632211, eda_review_length_mode=1, eda_review_length_std=33.80538738250126, vote_count_min=0, vote_count_max=325, vote_count_avg=0.13004528450482378, vote_count_mode=0, vote_count_std=2.5840383633511386, vote_sum_min=0, vote_sum_max=165, vote_sum_avg=0.081167552667848, vote_sum_mode=0, vote_sum_std=1.4308089016366723, date_min=1217223317000000000, date_max=1691802122000000000, date_mode=1673061962000000000),\n",
       " Row(category='Social Networking', app_count=920, author_count=27660, review_count=27682, rating_min=1.0, rating_max=5.0, rating_avg=3.487753775016256, rating_mode=5.0, rating_std=1.7118616490870542, eda_review_length_min=1, eda_review_length_max=536, eda_review_length_avg=23.437504515569685, eda_review_length_mode=1, eda_review_length_std=31.04177610631889, vote_count_min=0, vote_count_max=1037, vote_count_avg=0.18633046745177373, vote_count_mode=0, vote_count_std=7.021873341863882, vote_sum_min=0, vote_sum_max=547, vote_sum_avg=0.11906654143486742, vote_sum_mode=0, vote_sum_std=4.4495313708478506, date_min=1229749863000000000, date_max=1692427062000000000, date_mode=1342222861000000000),\n",
       " Row(category='Book', app_count=438, author_count=7921, review_count=7926, rating_min=1.0, rating_max=5.0, rating_avg=4.154554630330558, rating_mode=5.0, rating_std=1.3812475766012715, eda_review_length_min=1, eda_review_length_max=619, eda_review_length_avg=33.45003785011355, eda_review_length_mode=2, eda_review_length_std=38.43710699727972, vote_count_min=0, vote_count_max=26, vote_count_avg=0.10269997476659097, vote_count_mode=0, vote_count_std=0.739374978653373, vote_sum_min=0, vote_sum_max=18, vote_sum_avg=0.07241988392631844, vote_sum_mode=0, vote_sum_std=0.5596789285334298, date_min=1218427980000000000, date_max=1690345920000000000, date_mode=1384004100000000000),\n",
       " Row(category='Health & Fitness', app_count=2759, author_count=39300, review_count=39394, rating_min=1.0, rating_max=5.0, rating_avg=4.227801187998172, rating_mode=5.0, rating_std=1.3403943727796435, eda_review_length_min=1, eda_review_length_max=1014, eda_review_length_avg=32.32063258364218, eda_review_length_mode=2, eda_review_length_std=38.95982316998088, vote_count_min=0, vote_count_max=314, vote_count_avg=0.14144285931867798, vote_count_mode=0, vote_count_std=3.5831095274796803, vote_sum_min=0, vote_sum_max=186, vote_sum_avg=0.09531908412448596, vote_sum_mode=0, vote_sum_std=2.1362654344261065, date_min=1221454174000000000, date_max=1691701519000000000, date_mode=1403794195000000000)]"
      ]
     },
     "execution_count": 7,
     "metadata": {},
     "output_type": "execute_result"
    }
   ],
   "source": [
    "df_category.take(5)"
   ]
  },
  {
   "cell_type": "markdown",
   "metadata": {},
   "source": [
    "### Category Metrics Saved"
   ]
  },
  {
   "cell_type": "code",
   "execution_count": 8,
   "metadata": {},
   "outputs": [
    {
     "name": "stderr",
     "output_type": "stream",
     "text": [
      "                                                                                \r"
     ]
    }
   ],
   "source": [
    "df_pandas = df_category.toPandas()\n",
    "ReviewRepo().write(directory=FP_CATEGORY[\"directory\"], filename=FP_CATEGORY[\"filename\"], data=df_pandas)"
   ]
  },
  {
   "cell_type": "markdown",
   "metadata": {},
   "source": [
    "## Author Metrics"
   ]
  },
  {
   "cell_type": "code",
   "execution_count": 9,
   "metadata": {},
   "outputs": [],
   "source": [
    "df_author = df2.groupBy(\"author\").agg(\n",
    "    sparkFunc.countDistinct(col(\"app_id\")).alias(\"app_count\"),\n",
    "    sparkFunc.countDistinct(col(\"category\")).alias(\"category\"),\n",
    "    sparkFunc.count(\"*\").alias(\"review_count\"),\n",
    "    sparkFunc.min(col(\"rating\")).alias(\"rating_min\"),\n",
    "    sparkFunc.max(col(\"rating\")).alias(\"rating_max\"),\n",
    "    sparkFunc.avg(col(\"rating\")).alias(\"rating_avg\"),\n",
    "    sparkFunc.mode(col(\"rating\")).alias(\"rating_mode\"),\n",
    "    sparkFunc.stddev(col(\"rating\")).alias(\"rating_std\"),\n",
    "    sparkFunc.min(col(\"eda_review_length\")).alias(\"eda_review_length_min\"),\n",
    "    sparkFunc.max(col(\"eda_review_length\")).alias(\"eda_review_length_max\"),\n",
    "    sparkFunc.avg(col(\"eda_review_length\")).alias(\"eda_review_length_avg\"),\n",
    "    sparkFunc.mode(col(\"eda_review_length\")).alias(\"eda_review_length_mode\"),\n",
    "    sparkFunc.stddev(col(\"eda_review_length\")).alias(\"eda_review_length_std\"),\n",
    "    sparkFunc.min(col(\"vote_count\")).alias(\"vote_count_min\"),\n",
    "    sparkFunc.max(col(\"vote_count\")).alias(\"vote_count_max\"),\n",
    "    sparkFunc.avg(col(\"vote_count\")).alias(\"vote_count_avg\"),\n",
    "    sparkFunc.mode(col(\"vote_count\")).alias(\"vote_count_mode\"),\n",
    "    sparkFunc.stddev(col(\"vote_count\")).alias(\"vote_count_std\"),\n",
    "    sparkFunc.min(col(\"vote_sum\")).alias(\"vote_sum_min\"),\n",
    "    sparkFunc.max(col(\"vote_sum\")).alias(\"vote_sum_max\"),\n",
    "    sparkFunc.avg(col(\"vote_sum\")).alias(\"vote_sum_avg\"),\n",
    "    sparkFunc.mode(col(\"vote_sum\")).alias(\"vote_sum_mode\"),\n",
    "    sparkFunc.stddev(col(\"vote_sum\")).alias(\"vote_sum_std\"),\n",
    "    sparkFunc.min(col(\"date\")).alias(\"date_min\"),\n",
    "    sparkFunc.max(col(\"date\")).alias(\"date_max\"),\n",
    "    sparkFunc.mode(col(\"date\")).alias(\"date_mode\")\n",
    "    )"
   ]
  },
  {
   "cell_type": "markdown",
   "metadata": {},
   "source": [
    "### Author Metrics Revealed"
   ]
  },
  {
   "cell_type": "code",
   "execution_count": 10,
   "metadata": {},
   "outputs": [
    {
     "name": "stderr",
     "output_type": "stream",
     "text": [
      "                                                                                \r"
     ]
    },
    {
     "data": {
      "text/plain": [
       "[Row(author='$&$FortniteGamer$&$', app_count=1, category=1, review_count=1, rating_min=5.0, rating_max=5.0, rating_avg=5.0, rating_mode=5.0, rating_std=None, eda_review_length_min=3, eda_review_length_max=3, eda_review_length_avg=3.0, eda_review_length_mode=3, eda_review_length_std=None, vote_count_min=0, vote_count_max=0, vote_count_avg=0.0, vote_count_mode=0, vote_count_std=None, vote_sum_min=0, vote_sum_max=0, vote_sum_avg=0.0, vote_sum_mode=0, vote_sum_std=None, date_min=1589815084000000000, date_max=1589815084000000000, date_mode=1589815084000000000),\n",
       " Row(author='222Gem', app_count=1, category=1, review_count=1, rating_min=5.0, rating_max=5.0, rating_avg=5.0, rating_mode=5.0, rating_std=None, eda_review_length_min=13, eda_review_length_max=13, eda_review_length_avg=13.0, eda_review_length_mode=13, eda_review_length_std=None, vote_count_min=0, vote_count_max=0, vote_count_avg=0.0, vote_count_mode=0, vote_count_std=None, vote_sum_min=0, vote_sum_max=0, vote_sum_avg=0.0, vote_sum_mode=0, vote_sum_std=None, date_min=1684761810000000000, date_max=1684761810000000000, date_mode=1684761810000000000),\n",
       " Row(author='29 moves', app_count=1, category=1, review_count=1, rating_min=5.0, rating_max=5.0, rating_avg=5.0, rating_mode=5.0, rating_std=None, eda_review_length_min=12, eda_review_length_max=12, eda_review_length_avg=12.0, eda_review_length_mode=12, eda_review_length_std=None, vote_count_min=0, vote_count_max=0, vote_count_avg=0.0, vote_count_mode=0, vote_count_std=None, vote_sum_min=0, vote_sum_max=0, vote_sum_avg=0.0, vote_sum_mode=0, vote_sum_std=None, date_min=1602338915000000000, date_max=1602338915000000000, date_mode=1602338915000000000),\n",
       " Row(author='29erSS', app_count=1, category=1, review_count=1, rating_min=2.0, rating_max=2.0, rating_avg=2.0, rating_mode=2.0, rating_std=None, eda_review_length_min=48, eda_review_length_max=48, eda_review_length_avg=48.0, eda_review_length_mode=48, eda_review_length_std=None, vote_count_min=0, vote_count_max=0, vote_count_avg=0.0, vote_count_mode=0, vote_count_std=None, vote_sum_min=0, vote_sum_max=0, vote_sum_avg=0.0, vote_sum_mode=0, vote_sum_std=None, date_min=1577044741000000000, date_max=1577044741000000000, date_mode=1577044741000000000),\n",
       " Row(author='3 year max TH10 player', app_count=1, category=1, review_count=1, rating_min=5.0, rating_max=5.0, rating_avg=5.0, rating_mode=5.0, rating_std=None, eda_review_length_min=2, eda_review_length_max=2, eda_review_length_avg=2.0, eda_review_length_mode=2, eda_review_length_std=None, vote_count_min=0, vote_count_max=0, vote_count_avg=0.0, vote_count_mode=0, vote_count_std=None, vote_sum_min=0, vote_sum_max=0, vote_sum_avg=0.0, vote_sum_mode=0, vote_sum_std=None, date_min=1645480440000000000, date_max=1645480440000000000, date_mode=1645480440000000000)]"
      ]
     },
     "execution_count": 10,
     "metadata": {},
     "output_type": "execute_result"
    }
   ],
   "source": [
    "df_author.take(5)"
   ]
  },
  {
   "cell_type": "markdown",
   "metadata": {},
   "source": [
    "### Author Metrics Saved"
   ]
  },
  {
   "cell_type": "code",
   "execution_count": 11,
   "metadata": {},
   "outputs": [
    {
     "name": "stderr",
     "output_type": "stream",
     "text": [
      "                                                                                \r"
     ]
    }
   ],
   "source": [
    "df_pandas = df_author.toPandas()\n",
    "ReviewRepo().write(directory=FP_AUTHOR[\"directory\"], filename=FP_AUTHOR[\"filename\"], data=df_pandas)"
   ]
  },
  {
   "cell_type": "markdown",
   "metadata": {},
   "source": [
    "## App Metrics"
   ]
  },
  {
   "cell_type": "code",
   "execution_count": 12,
   "metadata": {},
   "outputs": [],
   "source": [
    "df_app = df2.groupBy(\"app_name\").agg(\n",
    "    sparkFunc.countDistinct(col(\"author\")).alias(\"author_count\"),\n",
    "    sparkFunc.count(\"*\").alias(\"review_count\"),\n",
    "    sparkFunc.min(col(\"rating\")).alias(\"rating_min\"),\n",
    "    sparkFunc.max(col(\"rating\")).alias(\"rating_max\"),\n",
    "    sparkFunc.avg(col(\"rating\")).alias(\"rating_avg\"),\n",
    "    sparkFunc.mode(col(\"rating\")).alias(\"rating_mode\"),\n",
    "    sparkFunc.stddev(col(\"rating\")).alias(\"rating_std\"),\n",
    "    sparkFunc.min(col(\"eda_review_length\")).alias(\"eda_review_length_min\"),\n",
    "    sparkFunc.max(col(\"eda_review_length\")).alias(\"eda_review_length_max\"),\n",
    "    sparkFunc.avg(col(\"eda_review_length\")).alias(\"eda_review_length_avg\"),\n",
    "    sparkFunc.mode(col(\"eda_review_length\")).alias(\"eda_review_length_mode\"),\n",
    "    sparkFunc.stddev(col(\"eda_review_length\")).alias(\"eda_review_length_std\"),\n",
    "    sparkFunc.min(col(\"vote_count\")).alias(\"vote_count_min\"),\n",
    "    sparkFunc.max(col(\"vote_count\")).alias(\"vote_count_max\"),\n",
    "    sparkFunc.avg(col(\"vote_count\")).alias(\"vote_count_avg\"),\n",
    "    sparkFunc.mode(col(\"vote_count\")).alias(\"vote_count_mode\"),\n",
    "    sparkFunc.stddev(col(\"vote_count\")).alias(\"vote_count_std\"),\n",
    "    sparkFunc.min(col(\"vote_sum\")).alias(\"vote_sum_min\"),\n",
    "    sparkFunc.max(col(\"vote_sum\")).alias(\"vote_sum_max\"),\n",
    "    sparkFunc.avg(col(\"vote_sum\")).alias(\"vote_sum_avg\"),\n",
    "    sparkFunc.mode(col(\"vote_sum\")).alias(\"vote_sum_mode\"),\n",
    "    sparkFunc.stddev(col(\"vote_sum\")).alias(\"vote_sum_std\"),\n",
    "    sparkFunc.min(col(\"date\")).alias(\"date_min\"),\n",
    "    sparkFunc.max(col(\"date\")).alias(\"date_max\"),\n",
    "    sparkFunc.mode(col(\"date\")).alias(\"date_mode\")\n",
    "    )"
   ]
  },
  {
   "cell_type": "markdown",
   "metadata": {},
   "source": [
    "### App Metrics Revealed"
   ]
  },
  {
   "cell_type": "code",
   "execution_count": 13,
   "metadata": {},
   "outputs": [
    {
     "name": "stderr",
     "output_type": "stream",
     "text": [
      "                                                                                \r"
     ]
    },
    {
     "data": {
      "text/plain": [
       "[Row(app_name='#TrailsRoc Maps', author_count=1, review_count=1, rating_min=2.0, rating_max=2.0, rating_avg=2.0, rating_mode=2.0, rating_std=None, eda_review_length_min=9, eda_review_length_max=9, eda_review_length_avg=9.0, eda_review_length_mode=9, eda_review_length_std=None, vote_count_min=1, vote_count_max=1, vote_count_avg=1.0, vote_count_mode=1, vote_count_std=None, vote_sum_min=0, vote_sum_max=0, vote_sum_avg=0.0, vote_sum_mode=0, vote_sum_std=None, date_min=1508685986000000000, date_max=1508685986000000000, date_mode=1508685986000000000),\n",
       " Row(app_name='-•- (Dash Dot Dash)', author_count=1, review_count=1, rating_min=5.0, rating_max=5.0, rating_avg=5.0, rating_mode=5.0, rating_std=None, eda_review_length_min=51, eda_review_length_max=51, eda_review_length_avg=51.0, eda_review_length_mode=51, eda_review_length_std=None, vote_count_min=12, vote_count_max=12, vote_count_avg=12.0, vote_count_mode=12, vote_count_std=None, vote_sum_min=11, vote_sum_max=11, vote_sum_avg=11.0, vote_sum_mode=11, vote_sum_std=None, date_min=1605673512000000000, date_max=1605673512000000000, date_mode=1605673512000000000),\n",
       " Row(app_name='1 Giant Mind: Learn Meditation', author_count=6, review_count=6, rating_min=4.0, rating_max=5.0, rating_avg=4.833333333333333, rating_mode=5.0, rating_std=0.408248290463863, eda_review_length_min=7, eda_review_length_max=67, eda_review_length_avg=43.0, eda_review_length_mode=52, eda_review_length_std=20.79422996891205, vote_count_min=0, vote_count_max=0, vote_count_avg=0.0, vote_count_mode=0, vote_count_std=0.0, vote_sum_min=0, vote_sum_max=0, vote_sum_avg=0.0, vote_sum_mode=0, vote_sum_std=0.0, date_min=1436608983000000000, date_max=1598266012000000000, date_mode=1515347523000000000),\n",
       " Row(app_name='10 Fitness.', author_count=1, review_count=1, rating_min=3.0, rating_max=3.0, rating_avg=3.0, rating_mode=3.0, rating_std=None, eda_review_length_min=73, eda_review_length_max=73, eda_review_length_avg=73.0, eda_review_length_mode=73, eda_review_length_std=None, vote_count_min=0, vote_count_max=0, vote_count_avg=0.0, vote_count_mode=0, vote_count_std=None, vote_sum_min=0, vote_sum_max=0, vote_sum_avg=0.0, vote_sum_mode=0, vote_sum_std=None, date_min=1528050650000000000, date_max=1528050650000000000, date_mode=1528050650000000000),\n",
       " Row(app_name='1000 Hours Outside', author_count=5, review_count=5, rating_min=1.0, rating_max=5.0, rating_avg=3.8, rating_mode=5.0, rating_std=1.7888543819998317, eda_review_length_min=8, eda_review_length_max=98, eda_review_length_avg=39.0, eda_review_length_mode=55, eda_review_length_std=37.69615364994153, vote_count_min=0, vote_count_max=0, vote_count_avg=0.0, vote_count_mode=0, vote_count_std=0.0, vote_sum_min=0, vote_sum_max=0, vote_sum_avg=0.0, vote_sum_mode=0, vote_sum_std=0.0, date_min=1622864018000000000, date_max=1675122722000000000, date_mode=1675122722000000000)]"
      ]
     },
     "execution_count": 13,
     "metadata": {},
     "output_type": "execute_result"
    }
   ],
   "source": [
    "df_app.take(5)"
   ]
  },
  {
   "cell_type": "markdown",
   "metadata": {},
   "source": [
    "### App Metrics Saved"
   ]
  },
  {
   "cell_type": "code",
   "execution_count": 14,
   "metadata": {},
   "outputs": [
    {
     "name": "stderr",
     "output_type": "stream",
     "text": [
      "                                                                                \r"
     ]
    }
   ],
   "source": [
    "df_pandas = df_app.toPandas()\n",
    "ReviewRepo().write(directory=FP_APP[\"directory\"], filename=FP_APP[\"filename\"], data=df_pandas)"
   ]
  },
  {
   "cell_type": "markdown",
   "metadata": {},
   "source": []
  },
  {
   "cell_type": "markdown",
   "metadata": {},
   "source": [
    "## Category / Author Metrics"
   ]
  },
  {
   "cell_type": "code",
   "execution_count": 15,
   "metadata": {},
   "outputs": [],
   "source": [
    "df_category_author = df2.groupBy(\"category\", \"author\").agg(    \n",
    "    sparkFunc.countDistinct(col(\"app_id\")).alias(\"app_count\"),\n",
    "    sparkFunc.count(\"*\").alias(\"review_count\"),\n",
    "    sparkFunc.min(col(\"rating\")).alias(\"rating_min\"),\n",
    "    sparkFunc.max(col(\"rating\")).alias(\"rating_max\"),\n",
    "    sparkFunc.avg(col(\"rating\")).alias(\"rating_avg\"),\n",
    "    sparkFunc.mode(col(\"rating\")).alias(\"rating_mode\"),\n",
    "    sparkFunc.stddev(col(\"rating\")).alias(\"rating_std\"),\n",
    "    sparkFunc.min(col(\"eda_review_length\")).alias(\"eda_review_length_min\"),\n",
    "    sparkFunc.max(col(\"eda_review_length\")).alias(\"eda_review_length_max\"),\n",
    "    sparkFunc.avg(col(\"eda_review_length\")).alias(\"eda_review_length_avg\"),\n",
    "    sparkFunc.mode(col(\"eda_review_length\")).alias(\"eda_review_length_mode\"),\n",
    "    sparkFunc.stddev(col(\"eda_review_length\")).alias(\"eda_review_length_std\"),\n",
    "    sparkFunc.min(col(\"vote_count\")).alias(\"vote_count_min\"),\n",
    "    sparkFunc.max(col(\"vote_count\")).alias(\"vote_count_max\"),\n",
    "    sparkFunc.avg(col(\"vote_count\")).alias(\"vote_count_avg\"),\n",
    "    sparkFunc.mode(col(\"vote_count\")).alias(\"vote_count_mode\"),\n",
    "    sparkFunc.stddev(col(\"vote_count\")).alias(\"vote_count_std\"),\n",
    "    sparkFunc.min(col(\"vote_sum\")).alias(\"vote_sum_min\"),\n",
    "    sparkFunc.max(col(\"vote_sum\")).alias(\"vote_sum_max\"),\n",
    "    sparkFunc.avg(col(\"vote_sum\")).alias(\"vote_sum_avg\"),\n",
    "    sparkFunc.mode(col(\"vote_sum\")).alias(\"vote_sum_mode\"),\n",
    "    sparkFunc.stddev(col(\"vote_sum\")).alias(\"vote_sum_std\"),\n",
    "    sparkFunc.min(col(\"date\")).alias(\"date_min\"),\n",
    "    sparkFunc.max(col(\"date\")).alias(\"date_max\"),\n",
    "    sparkFunc.mode(col(\"date\")).alias(\"date_mode\")\n",
    "    )"
   ]
  },
  {
   "cell_type": "markdown",
   "metadata": {},
   "source": [
    "### Category / Author Metrics Revealed"
   ]
  },
  {
   "cell_type": "code",
   "execution_count": 16,
   "metadata": {},
   "outputs": [
    {
     "name": "stderr",
     "output_type": "stream",
     "text": [
      "                                                                                \r"
     ]
    },
    {
     "data": {
      "text/plain": [
       "[Row(category='Book', author=' missyb08', app_count=1, review_count=1, rating_min=5.0, rating_max=5.0, rating_avg=5.0, rating_mode=5.0, rating_std=None, eda_review_length_min=2, eda_review_length_max=2, eda_review_length_avg=2.0, eda_review_length_mode=2, eda_review_length_std=None, vote_count_min=0, vote_count_max=0, vote_count_avg=0.0, vote_count_mode=0, vote_count_std=None, vote_sum_min=0, vote_sum_max=0, vote_sum_avg=0.0, vote_sum_mode=0, vote_sum_std=None, date_min=1659675780000000000, date_max=1659675780000000000, date_mode=1659675780000000000),\n",
       " Row(category='Book', author='\"Cici\"', app_count=1, review_count=1, rating_min=5.0, rating_max=5.0, rating_avg=5.0, rating_mode=5.0, rating_std=None, eda_review_length_min=5, eda_review_length_max=5, eda_review_length_avg=5.0, eda_review_length_mode=5, eda_review_length_std=None, vote_count_min=0, vote_count_max=0, vote_count_avg=0.0, vote_count_mode=0, vote_count_std=None, vote_sum_min=0, vote_sum_max=0, vote_sum_avg=0.0, vote_sum_mode=0, vote_sum_std=None, date_min=1559392680000000000, date_max=1559392680000000000, date_mode=1559392680000000000),\n",
       " Row(category='Book', author='#Shadowhunter4life', app_count=1, review_count=1, rating_min=5.0, rating_max=5.0, rating_avg=5.0, rating_mode=5.0, rating_std=None, eda_review_length_min=20, eda_review_length_max=20, eda_review_length_avg=20.0, eda_review_length_mode=20, eda_review_length_std=None, vote_count_min=0, vote_count_max=0, vote_count_avg=0.0, vote_count_mode=0, vote_count_std=None, vote_sum_min=0, vote_sum_max=0, vote_sum_avg=0.0, vote_sum_mode=0, vote_sum_std=None, date_min=1564060620000000000, date_max=1564060620000000000, date_mode=1564060620000000000),\n",
       " Row(category='Book', author=\"'DogFather\", app_count=1, review_count=1, rating_min=5.0, rating_max=5.0, rating_avg=5.0, rating_mode=5.0, rating_std=None, eda_review_length_min=37, eda_review_length_max=37, eda_review_length_avg=37.0, eda_review_length_mode=37, eda_review_length_std=None, vote_count_min=0, vote_count_max=0, vote_count_avg=0.0, vote_count_mode=0, vote_count_std=None, vote_sum_min=0, vote_sum_max=0, vote_sum_avg=0.0, vote_sum_mode=0, vote_sum_std=None, date_min=1673651760000000000, date_max=1673651760000000000, date_mode=1673651760000000000),\n",
       " Row(category='Book', author='()();;34', app_count=1, review_count=1, rating_min=1.0, rating_max=1.0, rating_avg=1.0, rating_mode=1.0, rating_std=None, eda_review_length_min=73, eda_review_length_max=73, eda_review_length_avg=73.0, eda_review_length_mode=73, eda_review_length_std=None, vote_count_min=0, vote_count_max=0, vote_count_avg=0.0, vote_count_mode=0, vote_count_std=None, vote_sum_min=0, vote_sum_max=0, vote_sum_avg=0.0, vote_sum_mode=0, vote_sum_std=None, date_min=1515768600000000000, date_max=1515768600000000000, date_mode=1515768600000000000)]"
      ]
     },
     "execution_count": 16,
     "metadata": {},
     "output_type": "execute_result"
    }
   ],
   "source": [
    "df_category_author.take(5)"
   ]
  },
  {
   "cell_type": "markdown",
   "metadata": {},
   "source": [
    "### Category / Author Metrics Saved"
   ]
  },
  {
   "cell_type": "code",
   "execution_count": 17,
   "metadata": {},
   "outputs": [
    {
     "name": "stderr",
     "output_type": "stream",
     "text": [
      "                                                                                \r"
     ]
    }
   ],
   "source": [
    "df_pandas = df_category_author.toPandas()\n",
    "ReviewRepo().write(directory=FP_CATEGORY_AUTHOR[\"directory\"], filename=FP_CATEGORY_AUTHOR[\"filename\"], data=df_pandas)"
   ]
  }
 ],
 "metadata": {
  "kernelspec": {
   "display_name": "appvocai-discover",
   "language": "python",
   "name": "python3"
  },
  "language_info": {
   "codemirror_mode": {
    "name": "ipython",
    "version": 3
   },
   "file_extension": ".py",
   "mimetype": "text/x-python",
   "name": "python",
   "nbconvert_exporter": "python",
   "pygments_lexer": "ipython3",
   "version": "3.1.undefined"
  }
 },
 "nbformat": 4,
 "nbformat_minor": 2
}
