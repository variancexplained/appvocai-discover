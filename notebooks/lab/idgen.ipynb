{
 "cells": [
  {
   "cell_type": "markdown",
   "metadata": {},
   "source": [
    "# IDGen Lab"
   ]
  },
  {
   "cell_type": "code",
   "execution_count": 1,
   "metadata": {},
   "outputs": [],
   "source": [
    "from genailab.infra.workspace.idgen import IDGen\n",
    "from genailab.infra.workspace.version import VersionManager"
   ]
  },
  {
   "cell_type": "code",
   "execution_count": 2,
   "metadata": {},
   "outputs": [],
   "source": [
    "FP = \"tests/data/idgen.test_db\""
   ]
  },
  {
   "cell_type": "code",
   "execution_count": 3,
   "metadata": {},
   "outputs": [],
   "source": [
    "\n",
    "from genailab.core.flow import StageDef, PhaseDef, StageDef, TestStageDef\n",
    "\n",
    "\n",
    "idg = IDGen(version_manager=VersionManager(FP))\n",
    "name, version = tuple(\n",
    "    idg.gen_asset_id(\n",
    "        asset_type=AssetType.DATASET,\n",
    "        phase=PhaseDef.ENRICHMENT,\n",
    "        stage=TestStageDef.PERFORMANCE_TEST,\n",
    "        name=\"test_dataset\",\n",
    "    )\n",
    "    .as_dict()\n",
    "    .values()\n",
    ")"
   ]
  },
  {
   "cell_type": "code",
   "execution_count": 4,
   "metadata": {},
   "outputs": [
    {
     "name": "stdout",
     "output_type": "stream",
     "text": [
      "dataset_test_dataset_v2.4.11\n",
      "v2.4.11\n"
     ]
    }
   ],
   "source": [
    "print(name)\n",
    "print(version)"
   ]
  }
 ],
 "metadata": {
  "kernelspec": {
   "display_name": "appvocai",
   "language": "python",
   "name": "python3"
  },
  "language_info": {
   "codemirror_mode": {
    "name": "ipython",
    "version": 3
   },
   "file_extension": ".py",
   "mimetype": "text/x-python",
   "name": "python",
   "nbconvert_exporter": "python",
   "pygments_lexer": "ipython3",
   "version": "3.10.15"
  }
 },
 "nbformat": 4,
 "nbformat_minor": 2
}
