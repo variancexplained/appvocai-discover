{
 "cells": [
  {
   "cell_type": "code",
   "execution_count": 1,
   "metadata": {},
   "outputs": [],
   "source": [
    "from genailab.infra.utils.file.io import IOService\n",
    "import pandas as pd"
   ]
  },
  {
   "cell_type": "code",
   "execution_count": 2,
   "metadata": {},
   "outputs": [],
   "source": [
    "FP = \"models/perplexity/perplexity_dev.csv\""
   ]
  },
  {
   "cell_type": "code",
   "execution_count": null,
   "metadata": {},
   "outputs": [
    {
     "data": {
      "text/html": [
       "<div>\n",
       "<style scoped>\n",
       "    .dataframe tbody tr th:only-of-type {\n",
       "        vertical-align: middle;\n",
       "    }\n",
       "\n",
       "    .dataframe tbody tr th {\n",
       "        vertical-align: top;\n",
       "    }\n",
       "\n",
       "    .dataframe thead th {\n",
       "        text-align: right;\n",
       "    }\n",
       "</style>\n",
       "<table border=\"1\" class=\"dataframe\">\n",
       "  <thead>\n",
       "    <tr style=\"text-align: right;\">\n",
       "      <th></th>\n",
       "      <th>id</th>\n",
       "      <th>content</th>\n",
       "      <th>an_perplexity</th>\n",
       "    </tr>\n",
       "  </thead>\n",
       "  <tbody>\n",
       "    <tr>\n",
       "      <th>0</th>\n",
       "      <td>7274451735</td>\n",
       "      <td>I travel full time and have no room for printe...</td>\n",
       "      <td>127.894768</td>\n",
       "    </tr>\n",
       "    <tr>\n",
       "      <th>1</th>\n",
       "      <td>9902949494</td>\n",
       "      <td>Es una excelente biblia con buenas opciones de...</td>\n",
       "      <td>98.579117</td>\n",
       "    </tr>\n",
       "    <tr>\n",
       "      <th>2</th>\n",
       "      <td>10148012333</td>\n",
       "      <td>Great audiobooks listen to beginning of sorrow...</td>\n",
       "      <td>106.803886</td>\n",
       "    </tr>\n",
       "    <tr>\n",
       "      <th>3</th>\n",
       "      <td>6215646730</td>\n",
       "      <td>P</td>\n",
       "      <td>NaN</td>\n",
       "    </tr>\n",
       "    <tr>\n",
       "      <th>4</th>\n",
       "      <td>6716692611</td>\n",
       "      <td>Finally deleted the app before I finished my f...</td>\n",
       "      <td>35.554199</td>\n",
       "    </tr>\n",
       "  </tbody>\n",
       "</table>\n",
       "</div>"
      ],
      "text/plain": [
       "            id                                            content  \\\n",
       "0   7274451735  I travel full time and have no room for printe...   \n",
       "1   9902949494  Es una excelente biblia con buenas opciones de...   \n",
       "2  10148012333  Great audiobooks listen to beginning of sorrow...   \n",
       "3   6215646730                                                  P   \n",
       "4   6716692611  Finally deleted the app before I finished my f...   \n",
       "\n",
       "   an_perplexity  \n",
       "0     127.894768  \n",
       "1      98.579117  \n",
       "2     106.803886  \n",
       "3            NaN  \n",
       "4      35.554199  "
      ]
     },
     "execution_count": 3,
     "metadata": {},
     "output_type": "execute_result"
    }
   ],
   "source": [
    "df = IOService.read(FP, lineterminator=\"\\n\")\n",
    "df = df.rename(columns={\"dqp_perplexity\": \"an_perplexity\"})\n",
    "df.head()"
   ]
  },
  {
   "cell_type": "code",
   "execution_count": 4,
   "metadata": {},
   "outputs": [],
   "source": [
    "IOService.write(filepath=FP, data=df)"
   ]
  }
 ],
 "metadata": {
  "kernelspec": {
   "display_name": "appvocai",
   "language": "python",
   "name": "python3"
  },
  "language_info": {
   "codemirror_mode": {
    "name": "ipython",
    "version": 3
   },
   "file_extension": ".py",
   "mimetype": "text/x-python",
   "name": "python",
   "nbconvert_exporter": "python",
   "pygments_lexer": "ipython3",
   "version": "3.10.15"
  }
 },
 "nbformat": 4,
 "nbformat_minor": 2
}
