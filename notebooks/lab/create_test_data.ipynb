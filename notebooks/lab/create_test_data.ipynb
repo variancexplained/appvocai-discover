{
    "cells": [
        {
            "cell_type": "markdown",
            "metadata": {},
            "source": [
                "## Create Test Data\n",
                "This notebook creates test datasets. At present, two datasets are produced.\n",
                "1. **Raw Augmented Dataset**: This is the development set with additional samples augmented for testing purposes.\n",
                "2. **Preconditioned Dataset** : The above dataset with newlines removed from text, and proper formatting and encoding of text content.\n",
                "\n",
                "For some preprocessing methods, preconditioned text is required. "
            ]
        },
        {
            "cell_type": "code",
            "execution_count": 1,
            "metadata": {},
            "outputs": [],
            "source": [
                "import warnings\n",
                "import pandas as pd\n",
                "import numpy as np\n",
                "from appvocai-genailabslm.shared.io import IOService\n",
                "warnings.filterwarnings(\"ignore\")"
            ]
        },
        {
            "cell_type": "code",
            "execution_count": 2,
            "metadata": {},
            "outputs": [],
            "source": [
                "TEXT_COLUMN = \"content\""
            ]
        },
        {
            "cell_type": "markdown",
            "metadata": {},
            "source": [
                "## Get Data\n",
                "Reads development and augmented samples datasets."
            ]
        },
        {
            "cell_type": "code",
            "execution_count": 3,
            "metadata": {},
            "outputs": [
                {
                    "name": "stdout",
                    "output_type": "stream",
                    "text": [
                        "Development dataset has shape (183010, 13)\n",
                        "Augment samples has shape (5, 13)\n"
                    ]
                }
            ],
            "source": [
                "# Raw Data\n",
                "FP1 = \"data/dev/00_raw/reviews.pkl\"\n",
                "df1 = IOService.read(filepath=FP1)\n",
                "print(f\"Development dataset has shape {df1.shape}\")\n",
                "\n",
                "# Augment Samples\n",
                "FP2 = \"tests/data/00_review_noise.csv\"\n",
                "df2 = IOService.read(filepath=FP2)\n",
                "print(f\"Augment samples has shape {df2.shape}\")"
            ]
        },
        {
            "cell_type": "markdown",
            "metadata": {},
            "source": [
                "## Augment Data\n",
                "Combines the development and augmented samples. Random noise is added in the form of missing data and NaNs."
            ]
        },
        {
            "cell_type": "code",
            "execution_count": 4,
            "metadata": {},
            "outputs": [
                {
                    "name": "stdout",
                    "output_type": "stream",
                    "text": [
                        "Raw Test dataset has shape (183015, 13)\n"
                    ]
                }
            ],
            "source": [
                "df3 = pd.concat([df1, df2], axis=0)\n",
                "df3.loc[df3.sample(frac=0.1).index, \"rating\"] = np.nan  # Add additional NA values\n",
                "df3.loc[df3.sample(frac=0.1).index, \"author\"] = \"\"  # Add additional missing authors\n",
                "print(f\"Raw Test dataset has shape {df3.shape}\")\n"
            ]
        },
        {
            "cell_type": "markdown",
            "metadata": {},
            "source": [
                "## Save Raw Test Data"
            ]
        },
        {
            "cell_type": "code",
            "execution_count": 5,
            "metadata": {},
            "outputs": [
                {
                    "name": "stdout",
                    "output_type": "stream",
                    "text": [
                        "Raw Test dataset saved at tests/data/01_reviews_raw.pkl\n"
                    ]
                }
            ],
            "source": [
                "FP3 = \"tests/data/01_reviews_raw.pkl\"\n",
                "IOService.write(filepath=FP3, data=df3)\n",
                "print(f\"Raw Test dataset saved at {FP3}\")"
            ]
        },
        {
            "cell_type": "markdown",
            "metadata": {},
            "source": [
                "## Precondition Data\n",
                "Next, we precondition the data for downstream method testing. Newlines are removed, and the data are properly encoded and typed."
            ]
        },
        {
            "cell_type": "code",
            "execution_count": 6,
            "metadata": {},
            "outputs": [],
            "source": [
                "df3[TEXT_COLUMN] = df3[TEXT_COLUMN].astype(str)\n",
                "# Replace newlines with whitespace\n",
                "df3[TEXT_COLUMN] = df3[TEXT_COLUMN].str.replace(\"\\n\", \" \")\n",
                "# Encode utf-8\n",
                "df3[TEXT_COLUMN] = df3[TEXT_COLUMN].apply(\n",
                "    lambda x: x.encode(\"utf-8\").decode(\"utf-8\")) \n"
            ]
        },
        {
            "cell_type": "markdown",
            "metadata": {},
            "source": [
                "## Save Preconditioned Test Data"
            ]
        },
        {
            "cell_type": "code",
            "execution_count": 7,
            "metadata": {},
            "outputs": [
                {
                    "name": "stdout",
                    "output_type": "stream",
                    "text": [
                        "Preconditioned Test Data Complete.\n"
                    ]
                }
            ],
            "source": [
                "FP3 = \"tests/data/02_reviews_preconditioned.pkl\"\n",
                "IOService.write(filepath=FP3, data=df3)\n",
                "print(\"Preconditioned Test Data Complete.\")"
            ]
        }
    ],
    "metadata": {
        "kernelspec": {
            "display_name": "genai-lab-slm",
            "language": "python",
            "name": "python3"
        },
        "language_info": {
            "codemirror_mode": {
                "name": "ipython",
                "version": 3
            },
            "file_extension": ".py",
            "mimetype": "text/x-python",
            "name": "python",
            "nbconvert_exporter": "python",
            "pygments_lexer": "ipython3",
            "version": "3.10.14"
        }
    },
    "nbformat": 4,
    "nbformat_minor": 2
}