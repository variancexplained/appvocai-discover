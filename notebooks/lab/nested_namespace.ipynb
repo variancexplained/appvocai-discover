{
 "cells": [
  {
   "cell_type": "markdown",
   "metadata": {},
   "source": [
    "# Nested Namespace"
   ]
  },
  {
   "cell_type": "code",
   "execution_count": 1,
   "metadata": {},
   "outputs": [
    {
     "name": "stdout",
     "output_type": "stream",
     "text": [
      "2\n"
     ]
    }
   ],
   "source": [
    "import pickle\n",
    "\n",
    "# Import your NestedNamespace class\n",
    "from genailab.core.data_structure import NestedNamespace\n",
    "\n",
    "data = {\"key1\": 1, \"key2\": {\"nested_key\": 2}}\n",
    "namespace = NestedNamespace(data)\n",
    "\n",
    "# Serialize\n",
    "serialized = pickle.dumps(namespace)\n",
    "\n",
    "# Deserialize\n",
    "deserialized = pickle.loads(serialized)\n",
    "print(deserialized.key2.nested_key)  # Should print 2"
   ]
  }
 ],
 "metadata": {
  "kernelspec": {
   "display_name": "appvocai",
   "language": "python",
   "name": "python3"
  },
  "language_info": {
   "codemirror_mode": {
    "name": "ipython",
    "version": 3
   },
   "file_extension": ".py",
   "mimetype": "text/x-python",
   "name": "python",
   "nbconvert_exporter": "python",
   "pygments_lexer": "ipython3",
   "version": "3.10.15"
  }
 },
 "nbformat": 4,
 "nbformat_minor": 2
}
