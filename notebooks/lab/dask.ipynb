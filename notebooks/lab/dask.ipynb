{
 "cells": [
  {
   "cell_type": "markdown",
   "metadata": {},
   "source": [
    "# Dask Lab"
   ]
  },
  {
   "cell_type": "code",
   "execution_count": 11,
   "metadata": {},
   "outputs": [
    {
     "name": "stderr",
     "output_type": "stream",
     "text": [
      "/home/john/miniconda3/envs/genai/lib/python3.10/site-packages/distributed/node.py:187: UserWarning: Port 8787 is already in use.\n",
      "Perhaps you already have a cluster running?\n",
      "Hosting the HTTP server on port 38945 instead\n",
      "  warnings.warn(\n"
     ]
    },
    {
     "name": "stdout",
     "output_type": "stream",
     "text": [
      "<Future: pending, key: finalize-48ebbb338bda9687dfbd477c1fb18085>\n"
     ]
    },
    {
     "name": "stderr",
     "output_type": "stream",
     "text": [
      "2025-01-30 23:58:06,336 - distributed.worker.state_machine - WARNING - Async instruction for <Task cancelled name=\"execute(('arange-ea4586756014f93f6968a45e92391814', 4))\" coro=<Worker.execute() done, defined at /home/john/miniconda3/envs/genai/lib/python3.10/site-packages/distributed/worker_state_machine.py:3606>> ended with CancelledError\n",
      "2025-01-30 23:58:06,336 - distributed.worker.state_machine - WARNING - Async instruction for <Task cancelled name=\"execute(('arange-ea4586756014f93f6968a45e92391814', 1))\" coro=<Worker.execute() done, defined at /home/john/miniconda3/envs/genai/lib/python3.10/site-packages/distributed/worker_state_machine.py:3606>> ended with CancelledError\n",
      "2025-01-30 23:58:06,336 - distributed.worker.state_machine - WARNING - Async instruction for <Task cancelled name=\"execute(('arange-ea4586756014f93f6968a45e92391814', 7))\" coro=<Worker.execute() done, defined at /home/john/miniconda3/envs/genai/lib/python3.10/site-packages/distributed/worker_state_machine.py:3606>> ended with CancelledError\n",
      "2025-01-30 23:58:06,343 - distributed.worker.state_machine - WARNING - Async instruction for <Task cancelled name=\"execute(('arange-ea4586756014f93f6968a45e92391814', 0))\" coro=<Worker.execute() done, defined at /home/john/miniconda3/envs/genai/lib/python3.10/site-packages/distributed/worker_state_machine.py:3606>> ended with CancelledError\n",
      "2025-01-30 23:58:06,344 - distributed.worker.state_machine - WARNING - Async instruction for <Task cancelled name=\"execute(('arange-ea4586756014f93f6968a45e92391814', 6))\" coro=<Worker.execute() done, defined at /home/john/miniconda3/envs/genai/lib/python3.10/site-packages/distributed/worker_state_machine.py:3606>> ended with CancelledError\n",
      "2025-01-30 23:58:06,346 - distributed.worker.state_machine - WARNING - Async instruction for <Task cancelled name=\"execute(('arange-ea4586756014f93f6968a45e92391814', 5))\" coro=<Worker.execute() done, defined at /home/john/miniconda3/envs/genai/lib/python3.10/site-packages/distributed/worker_state_machine.py:3606>> ended with CancelledError\n",
      "2025-01-30 23:58:06,347 - distributed.worker.state_machine - WARNING - Async instruction for <Task cancelled name=\"execute(('arange-ea4586756014f93f6968a45e92391814', 3))\" coro=<Worker.execute() done, defined at /home/john/miniconda3/envs/genai/lib/python3.10/site-packages/distributed/worker_state_machine.py:3606>> ended with CancelledError\n",
      "2025-01-30 23:58:06,347 - distributed.worker.state_machine - WARNING - Async instruction for <Task cancelled name=\"execute(('arange-ea4586756014f93f6968a45e92391814', 9))\" coro=<Worker.execute() done, defined at /home/john/miniconda3/envs/genai/lib/python3.10/site-packages/distributed/worker_state_machine.py:3606>> ended with CancelledError\n",
      "2025-01-30 23:58:06,348 - distributed.worker.state_machine - WARNING - Async instruction for <Task cancelled name=\"execute(('arange-ea4586756014f93f6968a45e92391814', 8))\" coro=<Worker.execute() done, defined at /home/john/miniconda3/envs/genai/lib/python3.10/site-packages/distributed/worker_state_machine.py:3606>> ended with CancelledError\n",
      "2025-01-30 23:58:06,349 - distributed.worker.state_machine - WARNING - Async instruction for <Task cancelled name=\"execute(('arange-ea4586756014f93f6968a45e92391814', 2))\" coro=<Worker.execute() done, defined at /home/john/miniconda3/envs/genai/lib/python3.10/site-packages/distributed/worker_state_machine.py:3606>> ended with CancelledError\n"
     ]
    }
   ],
   "source": [
    "from dask.distributed import Client, LocalCluster\n",
    "from dask.diagnostics import ProgressBar\n",
    "import dask.array as da\n",
    "\n",
    "cluster = LocalCluster()\n",
    "client = Client(cluster)\n",
    "\n",
    "try:\n",
    "    x = da.arange(1000, chunks=100)\n",
    "\n",
    "    with ProgressBar():\n",
    "        result = client.compute(x)\n",
    "\n",
    "    print(result)\n",
    "\n",
    "finally:\n",
    "    client.close()\n",
    "    cluster.close()\n"
   ]
  }
 ],
 "metadata": {
  "kernelspec": {
   "display_name": "genai",
   "language": "python",
   "name": "python3"
  },
  "language_info": {
   "codemirror_mode": {
    "name": "ipython",
    "version": 3
   },
   "file_extension": ".py",
   "mimetype": "text/x-python",
   "name": "python",
   "nbconvert_exporter": "python",
   "pygments_lexer": "ipython3",
   "version": "3.10.13"
  }
 },
 "nbformat": 4,
 "nbformat_minor": 2
}
