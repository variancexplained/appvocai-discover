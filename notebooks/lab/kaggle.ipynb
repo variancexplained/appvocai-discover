{
 "cells": [
  {
   "cell_type": "markdown",
   "metadata": {},
   "source": [
    "# Kaggle Dataset Upload Lab"
   ]
  },
  {
   "cell_type": "code",
   "execution_count": 1,
   "metadata": {},
   "outputs": [],
   "source": [
    "import pandas as pd\n",
    "import os\n",
    "from discover.assets.idgen import AssetIDGen\n",
    "from discover.container import DiscoverContainer\n",
    "from discover.core.flow import StageDef, PhaseDef\n",
    "from discover.infra.utils.file.io import IOService\n",
    "from discover.infra.config.app import AppConfigReader\n",
    "from discover.infra.persistence.cloud.kaggle import KaggleService\n",
    "\n",
    "pd.options.display.max_rows = 999"
   ]
  },
  {
   "cell_type": "code",
   "execution_count": 2,
   "metadata": {},
   "outputs": [],
   "source": [
    "config_reader = AppConfigReader()\n",
    "env = config_reader.get_environment()\n",
    "username = config_reader.get_env_var(\"KAGGLE_USERNAME\")\n",
    "filepath = os.path.join(\"data\", \"stage\", env, \"reviews.csv\")\n",
    "title = f\"AppVoCAI Reviews Dataset ({env.upper()})\""
   ]
  },
  {
   "cell_type": "markdown",
   "metadata": {},
   "source": [
    "## Load Dataset"
   ]
  },
  {
   "cell_type": "code",
   "execution_count": 3,
   "metadata": {},
   "outputs": [],
   "source": [
    "container = DiscoverContainer()\n",
    "container.init_resources()\n",
    "container.wire(\n",
    "    modules=[\n",
    "        \"discover.flow.data_prep.base.stage\",\n",
    "        \"discover.app.base\",\n",
    "    ],\n",
    ")"
   ]
  },
  {
   "cell_type": "code",
   "execution_count": 4,
   "metadata": {},
   "outputs": [],
   "source": [
    "idg = AssetIDGen()\n",
    "asset_id = idg.get_asset_id(\n",
    "    asset_type=\"dataset\",\n",
    "    phase=PhaseDef.DATAPREP,\n",
    "    stage=StageDef.INGEST,\n",
    "    name=\"review\",\n",
    ")\n",
    "\n",
    "# Instantiate the repository\n",
    "repo = container.repo.dataset_repo()\n",
    "# Load the dataset from the repository\n",
    "dataset = repo.get(asset_id, distributed=False)\n",
    "df = dataset.content"
   ]
  },
  {
   "cell_type": "code",
   "execution_count": 5,
   "metadata": {},
   "outputs": [
    {
     "data": {
      "text/plain": [
       "'dataset-dev-dataprep-ingest-review'"
      ]
     },
     "execution_count": 5,
     "metadata": {},
     "output_type": "execute_result"
    }
   ],
   "source": [
    "dataset.asset_id"
   ]
  },
  {
   "cell_type": "markdown",
   "metadata": {},
   "source": [
    "## Stage Dataset"
   ]
  },
  {
   "cell_type": "code",
   "execution_count": 6,
   "metadata": {},
   "outputs": [],
   "source": [
    "reviews = df[[\"id\", \"content\"]]\n",
    "IOService.write(filepath=filepath, data=reviews)"
   ]
  },
  {
   "cell_type": "markdown",
   "metadata": {},
   "source": [
    "## Instantiate Kaggle Service and Upload"
   ]
  },
  {
   "cell_type": "code",
   "execution_count": 7,
   "metadata": {},
   "outputs": [
    {
     "name": "stdout",
     "output_type": "stream",
     "text": [
      "Compressed data/stage/dev/reviews.csv into data/stage/dev/reviews.zip\n",
      "Warning: Your Kaggle API key is readable by other users on this system! To fix this, you can run 'chmod 600 /home/john/.kaggle/kaggle.json'\n",
      "Starting upload for file reviews.zip\n"
     ]
    },
    {
     "name": "stderr",
     "output_type": "stream",
     "text": [
      "100%|██████████| 6.19M/6.19M [00:05<00:00, 1.30MB/s]\n"
     ]
    },
    {
     "name": "stdout",
     "output_type": "stream",
     "text": [
      "Upload successful: reviews.zip (6MB)\n",
      "Your private Dataset is being created. Please check progress at https://www.kaggle.com/datasets/johnjames/dataset-dev-dataprep-ingest-review\n"
     ]
    }
   ],
   "source": [
    "kags = KaggleService(username=username)\n",
    "kags.upload(\n",
    "    filepath=filepath,\n",
    "    title=title,\n",
    "    dataset_name=dataset.asset_id,\n",
    "    private=True,\n",
    ")"
   ]
  }
 ],
 "metadata": {
  "kernelspec": {
   "display_name": "appvocai",
   "language": "python",
   "name": "python3"
  },
  "language_info": {
   "codemirror_mode": {
    "name": "ipython",
    "version": 3
   },
   "file_extension": ".py",
   "mimetype": "text/x-python",
   "name": "python",
   "nbconvert_exporter": "python",
   "pygments_lexer": "ipython3",
   "version": "3.10.15"
  }
 },
 "nbformat": 4,
 "nbformat_minor": 2
}
