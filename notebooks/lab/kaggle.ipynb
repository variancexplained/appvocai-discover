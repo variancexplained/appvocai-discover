{
 "cells": [
  {
   "cell_type": "markdown",
   "metadata": {},
   "source": [
    "# Kaggle Dataset Upload Lab"
   ]
  },
  {
   "cell_type": "code",
   "execution_count": 1,
   "metadata": {},
   "outputs": [],
   "source": [
    "import pandas as pd\n",
    "import os\n",
    "from discover.assets.idgen import AssetIDGen\n",
    "from discover.container import DiscoverContainer\n",
    "from discover.core.flow import DataPrepStageDef, PhaseDef\n",
    "from discover.infra.utils.file.io import IOService\n",
    "from discover.infra.config.app import AppConfigReader\n",
    "from discover.infra.utils.file.compress import ZipFileHandler\n",
    "\n",
    "pd.options.display.max_rows = 999"
   ]
  },
  {
   "cell_type": "code",
   "execution_count": 2,
   "metadata": {},
   "outputs": [],
   "source": [
    "config_reader = AppConfigReader()\n",
    "env = config_reader.get_environment()\n",
    "filepath = os.path.join(\"data\", \"stage\", env, \"reviews.csv\")\n",
    "zipfilepath = os.path.join(\"data\", \"stage\", env, \"reviews.zip\")\n",
    "jsonfilepath = os.path.join(\"data\", \"stage\", env, \"dataset-metadata.json\")\n",
    "dataset_dir = os.path.dirname(zipfilepath)"
   ]
  },
  {
   "cell_type": "markdown",
   "metadata": {},
   "source": [
    "## Load Dataset"
   ]
  },
  {
   "cell_type": "code",
   "execution_count": 3,
   "metadata": {},
   "outputs": [],
   "source": [
    "container = DiscoverContainer()\n",
    "container.init_resources()\n",
    "container.wire(\n",
    "    modules=[\n",
    "        \"discover.flow.data_prep.stage\",\n",
    "        \"discover.app.base\",\n",
    "    ],\n",
    ")"
   ]
  },
  {
   "cell_type": "code",
   "execution_count": null,
   "metadata": {},
   "outputs": [],
   "source": [
    "idg = AssetIDGen()\n",
    "asset_id = idg.get_asset_id(\n",
    "    asset_type=\"dataset\",\n",
    "    phase=PhaseDef.DATAPREP,\n",
    "    stage=DataPrepStageDef.TQA,\n",
    "    name=\"review\",\n",
    ")\n",
    "\n",
    "# Instantiate the repository\n",
    "repo = container.repo.dataset_repo()\n",
    "# Load the dataset from the repository\n",
    "dataset = repo.get(asset_id, distributed=False)\n",
    "df = dataset.content"
   ]
  },
  {
   "cell_type": "markdown",
   "metadata": {},
   "source": [
    "## Stage Dataset"
   ]
  },
  {
   "cell_type": "code",
   "execution_count": 5,
   "metadata": {},
   "outputs": [
    {
     "name": "stdout",
     "output_type": "stream",
     "text": [
      "Compressed data/stage/dev/reviews.csv into data/stage/dev/reviews.zip\n",
      "Dataset is staged at data/stage/dev/reviews.zip\n"
     ]
    }
   ],
   "source": [
    "reviews = df[[\"id\", \"content\"]]\n",
    "IOService.write(filepath=filepath, data=reviews)\n",
    "zipper = ZipFileHandler()\n",
    "zipper.compress_file(file_path=filepath, zip_path=zipfilepath)\n",
    "if os.path.exists(zipfilepath):\n",
    "    os.remove(filepath)\n",
    "    print(f\"Dataset is staged at {zipfilepath}\")"
   ]
  },
  {
   "cell_type": "markdown",
   "metadata": {},
   "source": [
    "## Prepare Dataset for Upload"
   ]
  },
  {
   "cell_type": "code",
   "execution_count": null,
   "metadata": {},
   "outputs": [],
   "source": [
    "dataset_metadata = {\n",
    "    \"title\": \"AppVoCAI Reviews Dataset\",\n",
    "    \"id\": f\"johnjamesai/{dataset.name}\",\n",
    "    \"licenses\": [{\"name\": \"CC0-1.0\"}],\n",
    "    \"isPrivate\": True,\n",
    "}\n",
    "IOService.write(filepath=jsonfilepath, data=dataset_metadata)"
   ]
  },
  {
   "cell_type": "markdown",
   "metadata": {},
   "source": [
    "## Upload Dataset"
   ]
  },
  {
   "cell_type": "code",
   "execution_count": null,
   "metadata": {},
   "outputs": [
    {
     "name": "stdout",
     "output_type": "stream",
     "text": [
      "Starting upload for file reviews.zip\n",
      "100%|██████████████████████████████████████| 6.19M/6.19M [00:04<00:00, 1.30MB/s]\n",
      "Upload successful: reviews.zip (6MB)\n",
      "Your private Dataset is being created. Please check progress at https://www.kaggle.com/datasets/johnjamesai/review\n"
     ]
    }
   ],
   "source": [
    "#!kaggle datasets create -p {dataset_dir}"
   ]
  },
  {
   "cell_type": "code",
   "execution_count": 11,
   "metadata": {},
   "outputs": [
    {
     "name": "stdout",
     "output_type": "stream",
     "text": [
      "Starting upload for file reviews.zip\n",
      "100%|██████████████████████████████████████| 6.19M/6.19M [00:05<00:00, 1.30MB/s]\n",
      "Upload successful: reviews.zip (6MB)\n",
      "Dataset version is being created. Please check progress at https://www.kaggle.com/johnjamesai/review\n"
     ]
    }
   ],
   "source": [
    "!kaggle datasets version -p{dataset_dir} --m \"Updating dataset visibility to private\""
   ]
  }
 ],
 "metadata": {
  "kernelspec": {
   "display_name": "appvocai",
   "language": "python",
   "name": "python3"
  },
  "language_info": {
   "codemirror_mode": {
    "name": "ipython",
    "version": 3
   },
   "file_extension": ".py",
   "mimetype": "text/x-python",
   "name": "python",
   "nbconvert_exporter": "python",
   "pygments_lexer": "ipython3",
   "version": "3.10.15"
  }
 },
 "nbformat": 4,
 "nbformat_minor": 2
}
