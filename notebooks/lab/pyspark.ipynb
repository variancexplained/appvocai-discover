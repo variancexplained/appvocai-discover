{
    "cells": [
        {
            "cell_type": "markdown",
            "metadata": {},
            "source": [
                "# PySpark Lab"
            ]
        },
        {
            "cell_type": "code",
            "execution_count": 1,
            "metadata": {},
            "outputs": [
                {
                    "data": {
                        "text/plain": [
                            "'3.5.0'"
                        ]
                    },
                    "execution_count": 1,
                    "metadata": {},
                    "output_type": "execute_result"
                }
            ],
            "source": [
                "\n",
                "from sparknlp.base import Pipeline\n",
                "from sparknlp.annotator import DocumentAssembler, LanguageDetectorDL\n",
                "import pyspark\n",
                "from pyspark.sql.functions import  col, from_unixtime\n",
                "from pyspark.sql import SparkSession\n",
                "from pyspark.sql.types import StructType, StructField, StringType, IntegerType, TimestampType, DoubleType, LongType\n",
                "from appvocai-discover.shared.io import IOService\n",
                "pyspark.__version__\n"
            ]
        },
        {
            "cell_type": "markdown",
            "metadata": {},
            "source": [
                "## Spark Session"
            ]
        },
        {
            "cell_type": "code",
            "execution_count": 2,
            "metadata": {},
            "outputs": [
                {
                    "name": "stderr",
                    "output_type": "stream",
                    "text": [
                        "your 131072x1 screen size is bogus. expect trouble\n",
                        "24/05/24 07:05:58 WARN Utils: Your hostname, Leviathan resolves to a loopback address: 127.0.1.1; using 172.29.219.103 instead (on interface eth0)\n",
                        "24/05/24 07:05:58 WARN Utils: Set SPARK_LOCAL_IP if you need to bind to another address\n"
                    ]
                },
                {
                    "name": "stdout",
                    "output_type": "stream",
                    "text": [
                        ":: loading settings :: url = jar:file:/home/john/anaconda3/envs/appvocai-discover/lib/python3.10/site-packages/pyspark/jars/ivy-2.5.1.jar!/org/apache/ivy/core/settings/ivysettings.xml\n"
                    ]
                },
                {
                    "name": "stderr",
                    "output_type": "stream",
                    "text": [
                        "Ivy Default Cache set to: /home/john/.ivy2/cache\n",
                        "The jars for the packages stored in: /home/john/.ivy2/jars\n",
                        "com.johnsnowlabs.nlp#spark-nlp_2.12 added as a dependency\n",
                        ":: resolving dependencies :: org.apache.spark#spark-submit-parent-923465b1-16f9-45e1-aee3-3d236e86c992;1.0\n",
                        "\tconfs: [default]\n",
                        "\tfound com.johnsnowlabs.nlp#spark-nlp_2.12;5.3.3 in central\n",
                        "\tfound com.typesafe#config;1.4.2 in central\n",
                        "\tfound org.rocksdb#rocksdbjni;6.29.5 in central\n",
                        "\tfound com.amazonaws#aws-java-sdk-s3;1.12.500 in central\n",
                        "\tfound com.amazonaws#aws-java-sdk-kms;1.12.500 in central\n",
                        "\tfound com.amazonaws#aws-java-sdk-core;1.12.500 in central\n",
                        "\tfound commons-logging#commons-logging;1.1.3 in central\n",
                        "\tfound commons-codec#commons-codec;1.15 in central\n",
                        "\tfound org.apache.httpcomponents#httpclient;4.5.13 in central\n",
                        "\tfound org.apache.httpcomponents#httpcore;4.4.13 in central\n",
                        "\tfound software.amazon.ion#ion-java;1.0.2 in central\n",
                        "\tfound joda-time#joda-time;2.8.1 in central\n",
                        "\tfound com.amazonaws#jmespath-java;1.12.500 in central\n",
                        "\tfound com.github.universal-automata#liblevenshtein;3.0.0 in central\n",
                        "\tfound com.google.protobuf#protobuf-java-util;3.0.0-beta-3 in central\n",
                        "\tfound com.google.protobuf#protobuf-java;3.0.0-beta-3 in central\n",
                        "\tfound com.google.code.gson#gson;2.3 in central\n",
                        "\tfound it.unimi.dsi#fastutil;7.0.12 in central\n",
                        "\tfound org.projectlombok#lombok;1.16.8 in central\n",
                        "\tfound com.google.cloud#google-cloud-storage;2.20.1 in central\n",
                        "\tfound com.google.guava#guava;31.1-jre in central\n",
                        "\tfound com.google.guava#failureaccess;1.0.1 in central\n",
                        "\tfound com.google.guava#listenablefuture;9999.0-empty-to-avoid-conflict-with-guava in central\n",
                        "\tfound com.google.errorprone#error_prone_annotations;2.18.0 in central\n",
                        "\tfound com.google.j2objc#j2objc-annotations;1.3 in central\n",
                        "\tfound com.google.http-client#google-http-client;1.43.0 in central\n",
                        "\tfound io.opencensus#opencensus-contrib-http-util;0.31.1 in central\n",
                        "\tfound com.google.http-client#google-http-client-jackson2;1.43.0 in central\n",
                        "\tfound com.google.http-client#google-http-client-gson;1.43.0 in central\n",
                        "\tfound com.google.api-client#google-api-client;2.2.0 in central\n",
                        "\tfound com.google.oauth-client#google-oauth-client;1.34.1 in central\n",
                        "\tfound com.google.http-client#google-http-client-apache-v2;1.43.0 in central\n",
                        "\tfound com.google.apis#google-api-services-storage;v1-rev20220705-2.0.0 in central\n",
                        "\tfound com.google.code.gson#gson;2.10.1 in central\n",
                        "\tfound com.google.cloud#google-cloud-core;2.12.0 in central\n",
                        "\tfound io.grpc#grpc-context;1.53.0 in central\n",
                        "\tfound com.google.auto.value#auto-value-annotations;1.10.1 in central\n",
                        "\tfound com.google.auto.value#auto-value;1.10.1 in central\n",
                        "\tfound javax.annotation#javax.annotation-api;1.3.2 in central\n",
                        "\tfound com.google.cloud#google-cloud-core-http;2.12.0 in central\n",
                        "\tfound com.google.http-client#google-http-client-appengine;1.43.0 in central\n",
                        "\tfound com.google.api#gax-httpjson;0.108.2 in central\n",
                        "\tfound com.google.cloud#google-cloud-core-grpc;2.12.0 in central\n",
                        "\tfound io.grpc#grpc-alts;1.53.0 in central\n",
                        "\tfound io.grpc#grpc-grpclb;1.53.0 in central\n",
                        "\tfound org.conscrypt#conscrypt-openjdk-uber;2.5.2 in central\n",
                        "\tfound io.grpc#grpc-auth;1.53.0 in central\n",
                        "\tfound io.grpc#grpc-protobuf;1.53.0 in central\n",
                        "\tfound io.grpc#grpc-protobuf-lite;1.53.0 in central\n",
                        "\tfound io.grpc#grpc-core;1.53.0 in central\n",
                        "\tfound com.google.api#gax;2.23.2 in central\n",
                        "\tfound com.google.api#gax-grpc;2.23.2 in central\n",
                        "\tfound com.google.auth#google-auth-library-credentials;1.16.0 in central\n",
                        "\tfound com.google.auth#google-auth-library-oauth2-http;1.16.0 in central\n",
                        "\tfound com.google.api#api-common;2.6.2 in central\n",
                        "\tfound io.opencensus#opencensus-api;0.31.1 in central\n",
                        "\tfound com.google.api.grpc#proto-google-iam-v1;1.9.2 in central\n",
                        "\tfound com.google.protobuf#protobuf-java;3.21.12 in central\n",
                        "\tfound com.google.protobuf#protobuf-java-util;3.21.12 in central\n",
                        "\tfound com.google.api.grpc#proto-google-common-protos;2.14.2 in central\n",
                        "\tfound org.threeten#threetenbp;1.6.5 in central\n",
                        "\tfound com.google.api.grpc#proto-google-cloud-storage-v2;2.20.1-alpha in central\n",
                        "\tfound com.google.api.grpc#grpc-google-cloud-storage-v2;2.20.1-alpha in central\n",
                        "\tfound com.google.api.grpc#gapic-google-cloud-storage-v2;2.20.1-alpha in central\n",
                        "\tfound com.google.code.findbugs#jsr305;3.0.2 in central\n",
                        "\tfound io.grpc#grpc-api;1.53.0 in central\n",
                        "\tfound io.grpc#grpc-stub;1.53.0 in central\n",
                        "\tfound org.checkerframework#checker-qual;3.31.0 in central\n",
                        "\tfound io.perfmark#perfmark-api;0.26.0 in central\n",
                        "\tfound com.google.android#annotations;4.1.1.4 in central\n",
                        "\tfound org.codehaus.mojo#animal-sniffer-annotations;1.22 in central\n",
                        "\tfound io.opencensus#opencensus-proto;0.2.0 in central\n",
                        "\tfound io.grpc#grpc-services;1.53.0 in central\n",
                        "\tfound com.google.re2j#re2j;1.6 in central\n",
                        "\tfound io.grpc#grpc-netty-shaded;1.53.0 in central\n",
                        "\tfound io.grpc#grpc-googleapis;1.53.0 in central\n",
                        "\tfound io.grpc#grpc-xds;1.53.0 in central\n",
                        "\tfound com.navigamez#greex;1.0 in central\n",
                        "\tfound dk.brics.automaton#automaton;1.11-8 in central\n",
                        "\tfound com.johnsnowlabs.nlp#tensorflow-cpu_2.12;0.4.4 in central\n",
                        "\tfound com.microsoft.onnxruntime#onnxruntime;1.17.0 in central\n",
                        ":: resolution report :: resolve 1793ms :: artifacts dl 60ms\n",
                        "\t:: modules in use:\n",
                        "\tcom.amazonaws#aws-java-sdk-core;1.12.500 from central in [default]\n",
                        "\tcom.amazonaws#aws-java-sdk-kms;1.12.500 from central in [default]\n",
                        "\tcom.amazonaws#aws-java-sdk-s3;1.12.500 from central in [default]\n",
                        "\tcom.amazonaws#jmespath-java;1.12.500 from central in [default]\n",
                        "\tcom.github.universal-automata#liblevenshtein;3.0.0 from central in [default]\n",
                        "\tcom.google.android#annotations;4.1.1.4 from central in [default]\n",
                        "\tcom.google.api#api-common;2.6.2 from central in [default]\n",
                        "\tcom.google.api#gax;2.23.2 from central in [default]\n",
                        "\tcom.google.api#gax-grpc;2.23.2 from central in [default]\n",
                        "\tcom.google.api#gax-httpjson;0.108.2 from central in [default]\n",
                        "\tcom.google.api-client#google-api-client;2.2.0 from central in [default]\n",
                        "\tcom.google.api.grpc#gapic-google-cloud-storage-v2;2.20.1-alpha from central in [default]\n",
                        "\tcom.google.api.grpc#grpc-google-cloud-storage-v2;2.20.1-alpha from central in [default]\n",
                        "\tcom.google.api.grpc#proto-google-cloud-storage-v2;2.20.1-alpha from central in [default]\n",
                        "\tcom.google.api.grpc#proto-google-common-protos;2.14.2 from central in [default]\n",
                        "\tcom.google.api.grpc#proto-google-iam-v1;1.9.2 from central in [default]\n",
                        "\tcom.google.apis#google-api-services-storage;v1-rev20220705-2.0.0 from central in [default]\n",
                        "\tcom.google.auth#google-auth-library-credentials;1.16.0 from central in [default]\n",
                        "\tcom.google.auth#google-auth-library-oauth2-http;1.16.0 from central in [default]\n",
                        "\tcom.google.auto.value#auto-value;1.10.1 from central in [default]\n",
                        "\tcom.google.auto.value#auto-value-annotations;1.10.1 from central in [default]\n",
                        "\tcom.google.cloud#google-cloud-core;2.12.0 from central in [default]\n",
                        "\tcom.google.cloud#google-cloud-core-grpc;2.12.0 from central in [default]\n",
                        "\tcom.google.cloud#google-cloud-core-http;2.12.0 from central in [default]\n",
                        "\tcom.google.cloud#google-cloud-storage;2.20.1 from central in [default]\n",
                        "\tcom.google.code.findbugs#jsr305;3.0.2 from central in [default]\n",
                        "\tcom.google.code.gson#gson;2.10.1 from central in [default]\n",
                        "\tcom.google.errorprone#error_prone_annotations;2.18.0 from central in [default]\n",
                        "\tcom.google.guava#failureaccess;1.0.1 from central in [default]\n",
                        "\tcom.google.guava#guava;31.1-jre from central in [default]\n",
                        "\tcom.google.guava#listenablefuture;9999.0-empty-to-avoid-conflict-with-guava from central in [default]\n",
                        "\tcom.google.http-client#google-http-client;1.43.0 from central in [default]\n",
                        "\tcom.google.http-client#google-http-client-apache-v2;1.43.0 from central in [default]\n",
                        "\tcom.google.http-client#google-http-client-appengine;1.43.0 from central in [default]\n",
                        "\tcom.google.http-client#google-http-client-gson;1.43.0 from central in [default]\n",
                        "\tcom.google.http-client#google-http-client-jackson2;1.43.0 from central in [default]\n",
                        "\tcom.google.j2objc#j2objc-annotations;1.3 from central in [default]\n",
                        "\tcom.google.oauth-client#google-oauth-client;1.34.1 from central in [default]\n",
                        "\tcom.google.protobuf#protobuf-java;3.21.12 from central in [default]\n",
                        "\tcom.google.protobuf#protobuf-java-util;3.21.12 from central in [default]\n",
                        "\tcom.google.re2j#re2j;1.6 from central in [default]\n",
                        "\tcom.johnsnowlabs.nlp#spark-nlp_2.12;5.3.3 from central in [default]\n",
                        "\tcom.johnsnowlabs.nlp#tensorflow-cpu_2.12;0.4.4 from central in [default]\n",
                        "\tcom.microsoft.onnxruntime#onnxruntime;1.17.0 from central in [default]\n",
                        "\tcom.navigamez#greex;1.0 from central in [default]\n",
                        "\tcom.typesafe#config;1.4.2 from central in [default]\n",
                        "\tcommons-codec#commons-codec;1.15 from central in [default]\n",
                        "\tcommons-logging#commons-logging;1.1.3 from central in [default]\n",
                        "\tdk.brics.automaton#automaton;1.11-8 from central in [default]\n",
                        "\tio.grpc#grpc-alts;1.53.0 from central in [default]\n",
                        "\tio.grpc#grpc-api;1.53.0 from central in [default]\n",
                        "\tio.grpc#grpc-auth;1.53.0 from central in [default]\n",
                        "\tio.grpc#grpc-context;1.53.0 from central in [default]\n",
                        "\tio.grpc#grpc-core;1.53.0 from central in [default]\n",
                        "\tio.grpc#grpc-googleapis;1.53.0 from central in [default]\n",
                        "\tio.grpc#grpc-grpclb;1.53.0 from central in [default]\n",
                        "\tio.grpc#grpc-netty-shaded;1.53.0 from central in [default]\n",
                        "\tio.grpc#grpc-protobuf;1.53.0 from central in [default]\n",
                        "\tio.grpc#grpc-protobuf-lite;1.53.0 from central in [default]\n",
                        "\tio.grpc#grpc-services;1.53.0 from central in [default]\n",
                        "\tio.grpc#grpc-stub;1.53.0 from central in [default]\n",
                        "\tio.grpc#grpc-xds;1.53.0 from central in [default]\n",
                        "\tio.opencensus#opencensus-api;0.31.1 from central in [default]\n",
                        "\tio.opencensus#opencensus-contrib-http-util;0.31.1 from central in [default]\n",
                        "\tio.opencensus#opencensus-proto;0.2.0 from central in [default]\n",
                        "\tio.perfmark#perfmark-api;0.26.0 from central in [default]\n",
                        "\tit.unimi.dsi#fastutil;7.0.12 from central in [default]\n",
                        "\tjavax.annotation#javax.annotation-api;1.3.2 from central in [default]\n",
                        "\tjoda-time#joda-time;2.8.1 from central in [default]\n",
                        "\torg.apache.httpcomponents#httpclient;4.5.13 from central in [default]\n",
                        "\torg.apache.httpcomponents#httpcore;4.4.13 from central in [default]\n",
                        "\torg.checkerframework#checker-qual;3.31.0 from central in [default]\n",
                        "\torg.codehaus.mojo#animal-sniffer-annotations;1.22 from central in [default]\n",
                        "\torg.conscrypt#conscrypt-openjdk-uber;2.5.2 from central in [default]\n",
                        "\torg.projectlombok#lombok;1.16.8 from central in [default]\n",
                        "\torg.rocksdb#rocksdbjni;6.29.5 from central in [default]\n",
                        "\torg.threeten#threetenbp;1.6.5 from central in [default]\n",
                        "\tsoftware.amazon.ion#ion-java;1.0.2 from central in [default]\n",
                        "\t:: evicted modules:\n",
                        "\tcommons-logging#commons-logging;1.2 by [commons-logging#commons-logging;1.1.3] in [default]\n",
                        "\tcommons-codec#commons-codec;1.11 by [commons-codec#commons-codec;1.15] in [default]\n",
                        "\tcom.google.protobuf#protobuf-java-util;3.0.0-beta-3 by [com.google.protobuf#protobuf-java-util;3.21.12] in [default]\n",
                        "\tcom.google.protobuf#protobuf-java;3.0.0-beta-3 by [com.google.protobuf#protobuf-java;3.21.12] in [default]\n",
                        "\tcom.google.code.gson#gson;2.3 by [com.google.code.gson#gson;2.10.1] in [default]\n",
                        "\t---------------------------------------------------------------------\n",
                        "\t|                  |            modules            ||   artifacts   |\n",
                        "\t|       conf       | number| search|dwnlded|evicted|| number|dwnlded|\n",
                        "\t---------------------------------------------------------------------\n",
                        "\t|      default     |   83  |   0   |   0   |   5   ||   78  |   0   |\n",
                        "\t---------------------------------------------------------------------\n",
                        ":: retrieving :: org.apache.spark#spark-submit-parent-923465b1-16f9-45e1-aee3-3d236e86c992\n",
                        "\tconfs: [default]\n",
                        "\t0 artifacts copied, 78 already retrieved (0kB/27ms)\n",
                        "24/05/24 07:06:02 WARN NativeCodeLoader: Unable to load native-hadoop library for your platform... using builtin-java classes where applicable\n",
                        "Setting default log level to \"WARN\".\n",
                        "To adjust logging level use sc.setLogLevel(newLevel). For SparkR, use setLogLevel(newLevel).\n"
                    ]
                }
            ],
            "source": [
                "spark = (\n",
                "    SparkSession.builder.appName(\"AppInsight\")\n",
                "    .master(\"local[*]\")\n",
                "    .config(\"spark.driver.memory\", \"32g\")\n",
                "    .config(\"spark.executor.memory\", \"32g\")\n",
                "    .config(\"spark.serializer\", \"org.apache.spark.serializer.KryoSerializer\")\n",
                "    .config(\"spark.kryoserializer.buffer.max\", \"2000M\")\n",
                "    .config(\"spark.driver.maxResultSize\", \"0\")\n",
                "    .config(\"spark.jars.packages\", \"com.johnsnowlabs.nlp:spark-nlp_2.12:5.3.3\")\n",
                "    .config(\"spark.sql.legacy.parquet.nanosAsLong\", \"true\")    \n",
                "    .getOrCreate()\n",
                ")"
            ]
        },
        {
            "cell_type": "markdown",
            "metadata": {},
            "source": [
                "## Data"
            ]
        },
        {
            "cell_type": "code",
            "execution_count": 3,
            "metadata": {},
            "outputs": [],
            "source": [
                "schema = StructType([ \\\n",
                "    StructField(\"id\", StringType(), True), \\\n",
                "    StructField(\"app_id\", StringType(), True), \\\n",
                "    StructField(\"app_name\", StringType(), True), \\\n",
                "    StructField(\"category_id\", StringType(), True), \\\n",
                "    StructField(\"category\", StringType(), True), \\\n",
                "    StructField(\"author\", StringType(), True), \\\n",
                "    StructField(\"rating\", DoubleType(), True), \\\n",
                "    StructField(\"title\", StringType(), True), \\\n",
                "    StructField(\"content\", StringType(), True), \\\n",
                "    StructField(\"review_length\", LongType(), True), \\\n",
                "    StructField(\"vote_count\", LongType(), True), \\\n",
                "    StructField(\"vote_sum\", LongType(), True), \\\n",
                "    StructField(\"date\", LongType(), True), \\\n",
                "    \n",
                "    ])"
            ]
        },
        {
            "cell_type": "code",
            "execution_count": 4,
            "metadata": {},
            "outputs": [],
            "source": [
                "fp1 = \"data/dev/00_raw/reviews.pkl\"\n",
                "fp2 = \"data/dev/00_raw/reviews.parquet\"\n",
                "df1 = IOService.read(filepath=fp1)\n",
                "df1.to_parquet(fp2)\n"
            ]
        },
        {
            "cell_type": "markdown",
            "metadata": {},
            "source": [
                "## Create Spark DataFrame"
            ]
        },
        {
            "cell_type": "code",
            "execution_count": 5,
            "metadata": {},
            "outputs": [
                {
                    "name": "stdout",
                    "output_type": "stream",
                    "text": [
                        "root\n",
                        " |-- id: string (nullable = true)\n",
                        " |-- app_id: string (nullable = true)\n",
                        " |-- app_name: string (nullable = true)\n",
                        " |-- category_id: string (nullable = true)\n",
                        " |-- category: string (nullable = true)\n",
                        " |-- author: string (nullable = true)\n",
                        " |-- rating: double (nullable = true)\n",
                        " |-- title: string (nullable = true)\n",
                        " |-- content: string (nullable = true)\n",
                        " |-- review_length: long (nullable = true)\n",
                        " |-- vote_count: long (nullable = true)\n",
                        " |-- vote_sum: long (nullable = true)\n",
                        " |-- date: timestamp (nullable = true)\n",
                        "\n"
                    ]
                },
                {
                    "name": "stderr",
                    "output_type": "stream",
                    "text": [
                        "                                                                                \r"
                    ]
                },
                {
                    "data": {
                        "text/plain": [
                            "[Row(id='1147487073', app_id='361309726', app_name='Pages', category_id='6007', category='Productivity', author='Ali Boorghani', rating=4.0, title='ترك', content='اخه اپ استور ترك تازه يه ساعته دانلود كردم برا چي براش اپديت اومده؟؟؟؟😳😡', review_length=14, vote_count=0, vote_sum=0, date=datetime.datetime(2015, 2, 13, 16, 13)),\n",
                            " Row(id='6725734679', app_id='1377084545', app_name='EMOJI Face Recorder', category_id='6002', category='Utilities', author='Is a blast', rating=1.0, title='I HATE THIS GAME!!!🤮🤮🤮', content='I hate this game don't download it u can't even stick ur tongue it doesn't even copy ur face u can't even record the is a liar they lie to u you soo much don't get ittttt!!!', review_length=37, vote_count=0, vote_sum=0, date=datetime.datetime(2020, 12, 6, 22, 52, 2)),\n",
                            " Row(id='7007544886', app_id='764595159', app_name='Perfect Hairstyle:New Hair Cut', category_id='6012', category='Lifestyle', author='DRghpl56', rating=5.0, title='DRghpl56', content='Great app had fun with styles', review_length=6, vote_count=0, vote_sum=0, date=datetime.datetime(2021, 2, 17, 21, 25, 36)),\n",
                            " Row(id='1857711599', app_id='455894484', app_name='Meijer Rx', category_id='6013', category='Health & Fitness', author='Hokey1', rating=1.0, title='Rx renewal', content='Need to supply a list of my meds like other apps as sometimes I have tossed the empty bottle and there is no scanner to scan the bottle if I do have it. Sometimes the number itself is not visible.', review_length=40, vote_count=0, vote_sum=0, date=datetime.datetime(2017, 10, 18, 11, 39, 37)),\n",
                            " Row(id='675051840', app_id='429177928', app_name='Best Flash Light - Flashlight', category_id='6002', category='Utilities', author='John314259', rating=4.0, title='Get it!', content='Works great.', review_length=2, vote_count=0, vote_sum=0, date=datetime.datetime(2012, 10, 15, 21, 59, 57))]"
                        ]
                    },
                    "execution_count": 5,
                    "metadata": {},
                    "output_type": "execute_result"
                }
            ],
            "source": [
                "df2 = spark.read.option(\"header\", \"true\").schema(schema).parquet(fp2)\n",
                "df2 = df2.withColumn(\"date\", from_unixtime(col(\"date\")/1000000000).cast('timestamp'))\n",
                "df2.printSchema()\n",
                "df2.take(5)"
            ]
        },
        {
            "cell_type": "markdown",
            "metadata": {},
            "source": [
                "## Pipeline"
            ]
        },
        {
            "cell_type": "code",
            "execution_count": 6,
            "metadata": {},
            "outputs": [
                {
                    "name": "stdout",
                    "output_type": "stream",
                    "text": [
                        "ld_wiki_tatoeba_cnn_21 download started this may take some time.\n",
                        "Approximate size to download 7.1 MB\n",
                        "[ | ]ld_wiki_tatoeba_cnn_21 download started this may take some time.\n",
                        "Approximate size to download 7.1 MB\n",
                        "Download done! Loading the resource.\n",
                        "[ / ]"
                    ]
                },
                {
                    "name": "stderr",
                    "output_type": "stream",
                    "text": [
                        "ERROR:root:Exception while sending command.\n",
                        "Traceback (most recent call last):\n",
                        "  File \"/home/john/anaconda3/envs/appvocai-discover/lib/python3.10/site-packages/py4j/clientserver.py\", line 516, in send_command\n",
                        "    raise Py4JNetworkError(\"Answer from Java side is empty\")\n",
                        "py4j.protocol.Py4JNetworkError: Answer from Java side is empty\n",
                        "\n",
                        "During handling of the above exception, another exception occurred:\n",
                        "\n",
                        "Traceback (most recent call last):\n",
                        "  File \"/home/john/anaconda3/envs/appvocai-discover/lib/python3.10/site-packages/py4j/java_gateway.py\", line 1038, in send_command\n",
                        "    response = connection.send_command(command)\n",
                        "  File \"/home/john/anaconda3/envs/appvocai-discover/lib/python3.10/site-packages/py4j/clientserver.py\", line 539, in send_command\n",
                        "    raise Py4JNetworkError(\n",
                        "py4j.protocol.Py4JNetworkError: Error while sending or receiving\n"
                    ]
                },
                {
                    "name": "stdout",
                    "output_type": "stream",
                    "text": [
                        "#\n",
                        "# A fatal error has been detected by the Java Runtime Environment:\n",
                        "#\n",
                        "#  SIGILL (0x4) at pc=0x00007f0afb672260, pid=22624, tid=0x00007f0c2d96b640\n",
                        "#\n",
                        "# JRE version: OpenJDK Runtime Environment (8.0_402-b06) (build 1.8.0_402-8u402-ga-2ubuntu1~22.04-b06)\n",
                        "# Java VM: OpenJDK 64-Bit Server VM (25.402-b06 mixed mode linux-amd64 )\n",
                        "# Problematic frame:\n",
                        "# C  [libtensorflow_framework.so.2+0x16bc260]  nsync::nsync_mu_init(nsync::nsync_mu_s_*)+0x0\n",
                        "#\n",
                        "# Failed to write core dump. Core dumps have been disabled. To enable core dumping, try \"ulimit -c unlimited\" before starting Java again\n",
                        "#\n",
                        "# An error report file with more information is saved as:\n",
                        "# /home/john/projects/appvocai-discover/hs_err_pid22624.log\n",
                        "#\n",
                        "# If you would like to submit a bug report, please visit:\n",
                        "#   http://bugreport.java.com/bugreport/crash.jsp\n",
                        "# The crash happened outside the Java Virtual Machine in native code.\n",
                        "# See problematic frame for where to report the bug.\n",
                        "#\n"
                    ]
                },
                {
                    "name": "stderr",
                    "output_type": "stream",
                    "text": [
                        "ERROR:root:Exception while sending command.\n",
                        "Traceback (most recent call last):\n",
                        "  File \"/home/john/anaconda3/envs/appvocai-discover/lib/python3.10/site-packages/py4j/clientserver.py\", line 516, in send_command\n",
                        "    raise Py4JNetworkError(\"Answer from Java side is empty\")\n",
                        "py4j.protocol.Py4JNetworkError: Answer from Java side is empty\n",
                        "\n",
                        "During handling of the above exception, another exception occurred:\n",
                        "\n",
                        "Traceback (most recent call last):\n",
                        "  File \"/home/john/anaconda3/envs/appvocai-discover/lib/python3.10/site-packages/py4j/java_gateway.py\", line 1038, in send_command\n",
                        "    response = connection.send_command(command)\n",
                        "  File \"/home/john/anaconda3/envs/appvocai-discover/lib/python3.10/site-packages/py4j/clientserver.py\", line 539, in send_command\n",
                        "    raise Py4JNetworkError(\n",
                        "py4j.protocol.Py4JNetworkError: Error while sending or receiving\n"
                    ]
                },
                {
                    "name": "stdout",
                    "output_type": "stream",
                    "text": [
                        "[OK!]\n"
                    ]
                },
                {
                    "ename": "Py4JError",
                    "evalue": "An error occurred while calling z:com.johnsnowlabs.nlp.pretrained.PythonResourceDownloader.downloadModel",
                    "output_type": "error",
                    "traceback": [
                        "\u001b[0;31m---------------------------------------------------------------------------\u001b[0m",
                        "\u001b[0;31mPy4JError\u001b[0m                                 Traceback (most recent call last)",
                        "Cell \u001b[0;32mIn[6], line 4\u001b[0m\n\u001b[1;32m      1\u001b[0m documentAssembler \u001b[38;5;241m=\u001b[39m DocumentAssembler()\u001b[38;5;241m.\u001b[39msetInputCol(\u001b[38;5;124m\"\u001b[39m\u001b[38;5;124mcontent\u001b[39m\u001b[38;5;124m\"\u001b[39m)\u001b[38;5;241m.\u001b[39msetOutputCol(\u001b[38;5;124m'\u001b[39m\u001b[38;5;124mdocument\u001b[39m\u001b[38;5;124m'\u001b[39m)\n\u001b[1;32m      3\u001b[0m \u001b[38;5;66;03m#language detection\u001b[39;00m\n\u001b[0;32m----> 4\u001b[0m languageDetector \u001b[38;5;241m=\u001b[39m \u001b[43mLanguageDetectorDL\u001b[49m\u001b[38;5;241;43m.\u001b[39;49m\u001b[43mpretrained\u001b[49m\u001b[43m(\u001b[49m\u001b[43m)\u001b[49m \\\n\u001b[1;32m      5\u001b[0m   \u001b[38;5;241m.\u001b[39msetInputCols([\u001b[38;5;124m\"\u001b[39m\u001b[38;5;124mdocument\u001b[39m\u001b[38;5;124m\"\u001b[39m]) \\\n\u001b[1;32m      6\u001b[0m   \u001b[38;5;241m.\u001b[39msetOutputCol(\u001b[38;5;124m\"\u001b[39m\u001b[38;5;124mlanguage\u001b[39m\u001b[38;5;124m\"\u001b[39m)\n\u001b[1;32m      8\u001b[0m pipe \u001b[38;5;241m=\u001b[39m Pipeline(stages\u001b[38;5;241m=\u001b[39m[documentAssembler, languageDetector])\n\u001b[1;32m      9\u001b[0m results \u001b[38;5;241m=\u001b[39m pipe\u001b[38;5;241m.\u001b[39mfit(df2)\u001b[38;5;241m.\u001b[39mtransform(df2)\n",
                        "File \u001b[0;32m~/anaconda3/envs/appvocai-discover/lib/python3.10/site-packages/sparknlp/annotator/ld_dl/language_detector_dl.py:199\u001b[0m, in \u001b[0;36mLanguageDetectorDL.pretrained\u001b[0;34m(name, lang, remote_loc)\u001b[0m\n\u001b[1;32m    181\u001b[0m \u001b[38;5;250m\u001b[39m\u001b[38;5;124;03m\"\"\"Downloads and loads a pretrained model.\u001b[39;00m\n\u001b[1;32m    182\u001b[0m \n\u001b[1;32m    183\u001b[0m \u001b[38;5;124;03mParameters\u001b[39;00m\n\u001b[0;32m   (...)\u001b[0m\n\u001b[1;32m    196\u001b[0m \u001b[38;5;124;03m    The restored model\u001b[39;00m\n\u001b[1;32m    197\u001b[0m \u001b[38;5;124;03m\"\"\"\u001b[39;00m\n\u001b[1;32m    198\u001b[0m \u001b[38;5;28;01mfrom\u001b[39;00m \u001b[38;5;21;01msparknlp\u001b[39;00m\u001b[38;5;21;01m.\u001b[39;00m\u001b[38;5;21;01mpretrained\u001b[39;00m \u001b[38;5;28;01mimport\u001b[39;00m ResourceDownloader\n\u001b[0;32m--> 199\u001b[0m \u001b[38;5;28;01mreturn\u001b[39;00m \u001b[43mResourceDownloader\u001b[49m\u001b[38;5;241;43m.\u001b[39;49m\u001b[43mdownloadModel\u001b[49m\u001b[43m(\u001b[49m\u001b[43mLanguageDetectorDL\u001b[49m\u001b[43m,\u001b[49m\u001b[43m \u001b[49m\u001b[43mname\u001b[49m\u001b[43m,\u001b[49m\u001b[43m \u001b[49m\u001b[43mlang\u001b[49m\u001b[43m,\u001b[49m\u001b[43m \u001b[49m\u001b[43mremote_loc\u001b[49m\u001b[43m)\u001b[49m\n",
                        "File \u001b[0;32m~/anaconda3/envs/appvocai-discover/lib/python3.10/site-packages/sparknlp/pretrained/resource_downloader.py:95\u001b[0m, in \u001b[0;36mResourceDownloader.downloadModel\u001b[0;34m(reader, name, language, remote_loc, j_dwn)\u001b[0m\n\u001b[1;32m     93\u001b[0m t1\u001b[38;5;241m.\u001b[39mstart()\n\u001b[1;32m     94\u001b[0m \u001b[38;5;28;01mtry\u001b[39;00m:\n\u001b[0;32m---> 95\u001b[0m     j_obj \u001b[38;5;241m=\u001b[39m \u001b[43m_internal\u001b[49m\u001b[38;5;241;43m.\u001b[39;49m\u001b[43m_DownloadModel\u001b[49m\u001b[43m(\u001b[49m\u001b[43mreader\u001b[49m\u001b[38;5;241;43m.\u001b[39;49m\u001b[43mname\u001b[49m\u001b[43m,\u001b[49m\u001b[43m \u001b[49m\u001b[43mname\u001b[49m\u001b[43m,\u001b[49m\u001b[43m \u001b[49m\u001b[43mlanguage\u001b[49m\u001b[43m,\u001b[49m\u001b[43m \u001b[49m\u001b[43mremote_loc\u001b[49m\u001b[43m,\u001b[49m\u001b[43m \u001b[49m\u001b[43mj_dwn\u001b[49m\u001b[43m)\u001b[49m\u001b[38;5;241m.\u001b[39mapply()\n\u001b[1;32m     96\u001b[0m \u001b[38;5;28;01mexcept\u001b[39;00m Py4JJavaError \u001b[38;5;28;01mas\u001b[39;00m e:\n\u001b[1;32m     97\u001b[0m     sys\u001b[38;5;241m.\u001b[39mstdout\u001b[38;5;241m.\u001b[39mwrite(\u001b[38;5;124m\"\u001b[39m\u001b[38;5;130;01m\\n\u001b[39;00m\u001b[38;5;124m\"\u001b[39m \u001b[38;5;241m+\u001b[39m \u001b[38;5;28mstr\u001b[39m(e))\n",
                        "File \u001b[0;32m~/anaconda3/envs/appvocai-discover/lib/python3.10/site-packages/sparknlp/internal/__init__.py:366\u001b[0m, in \u001b[0;36m_DownloadModel.__init__\u001b[0;34m(self, reader, name, language, remote_loc, validator)\u001b[0m\n\u001b[1;32m    365\u001b[0m \u001b[38;5;28;01mdef\u001b[39;00m \u001b[38;5;21m__init__\u001b[39m(\u001b[38;5;28mself\u001b[39m, reader, name, language, remote_loc, validator):\n\u001b[0;32m--> 366\u001b[0m     \u001b[38;5;28;43msuper\u001b[39;49m\u001b[43m(\u001b[49m\u001b[43m_DownloadModel\u001b[49m\u001b[43m,\u001b[49m\u001b[43m \u001b[49m\u001b[38;5;28;43mself\u001b[39;49m\u001b[43m)\u001b[49m\u001b[38;5;241;43m.\u001b[39;49m\u001b[38;5;21;43m__init__\u001b[39;49m\u001b[43m(\u001b[49m\u001b[38;5;124;43m\"\u001b[39;49m\u001b[38;5;124;43mcom.johnsnowlabs.nlp.pretrained.\u001b[39;49m\u001b[38;5;124;43m\"\u001b[39;49m\u001b[43m \u001b[49m\u001b[38;5;241;43m+\u001b[39;49m\u001b[43m \u001b[49m\u001b[43mvalidator\u001b[49m\u001b[43m \u001b[49m\u001b[38;5;241;43m+\u001b[39;49m\u001b[43m \u001b[49m\u001b[38;5;124;43m\"\u001b[39;49m\u001b[38;5;124;43m.downloadModel\u001b[39;49m\u001b[38;5;124;43m\"\u001b[39;49m\u001b[43m,\u001b[49m\u001b[43m \u001b[49m\u001b[43mreader\u001b[49m\u001b[43m,\u001b[49m\n\u001b[1;32m    367\u001b[0m \u001b[43m                                         \u001b[49m\u001b[43mname\u001b[49m\u001b[43m,\u001b[49m\u001b[43m \u001b[49m\u001b[43mlanguage\u001b[49m\u001b[43m,\u001b[49m\u001b[43m \u001b[49m\u001b[43mremote_loc\u001b[49m\u001b[43m)\u001b[49m\n",
                        "File \u001b[0;32m~/anaconda3/envs/appvocai-discover/lib/python3.10/site-packages/sparknlp/internal/extended_java_wrapper.py:27\u001b[0m, in \u001b[0;36mExtendedJavaWrapper.__init__\u001b[0;34m(self, java_obj, *args)\u001b[0m\n\u001b[1;32m     25\u001b[0m \u001b[38;5;28msuper\u001b[39m(ExtendedJavaWrapper, \u001b[38;5;28mself\u001b[39m)\u001b[38;5;241m.\u001b[39m\u001b[38;5;21m__init__\u001b[39m(java_obj)\n\u001b[1;32m     26\u001b[0m \u001b[38;5;28mself\u001b[39m\u001b[38;5;241m.\u001b[39msc \u001b[38;5;241m=\u001b[39m SparkContext\u001b[38;5;241m.\u001b[39m_active_spark_context\n\u001b[0;32m---> 27\u001b[0m \u001b[38;5;28mself\u001b[39m\u001b[38;5;241m.\u001b[39m_java_obj \u001b[38;5;241m=\u001b[39m \u001b[38;5;28;43mself\u001b[39;49m\u001b[38;5;241;43m.\u001b[39;49m\u001b[43mnew_java_obj\u001b[49m\u001b[43m(\u001b[49m\u001b[43mjava_obj\u001b[49m\u001b[43m,\u001b[49m\u001b[43m \u001b[49m\u001b[38;5;241;43m*\u001b[39;49m\u001b[43margs\u001b[49m\u001b[43m)\u001b[49m\n\u001b[1;32m     28\u001b[0m \u001b[38;5;28mself\u001b[39m\u001b[38;5;241m.\u001b[39mjava_obj \u001b[38;5;241m=\u001b[39m \u001b[38;5;28mself\u001b[39m\u001b[38;5;241m.\u001b[39m_java_obj\n",
                        "File \u001b[0;32m~/anaconda3/envs/appvocai-discover/lib/python3.10/site-packages/sparknlp/internal/extended_java_wrapper.py:37\u001b[0m, in \u001b[0;36mExtendedJavaWrapper.new_java_obj\u001b[0;34m(self, java_class, *args)\u001b[0m\n\u001b[1;32m     36\u001b[0m \u001b[38;5;28;01mdef\u001b[39;00m \u001b[38;5;21mnew_java_obj\u001b[39m(\u001b[38;5;28mself\u001b[39m, java_class, \u001b[38;5;241m*\u001b[39margs):\n\u001b[0;32m---> 37\u001b[0m     \u001b[38;5;28;01mreturn\u001b[39;00m \u001b[38;5;28;43mself\u001b[39;49m\u001b[38;5;241;43m.\u001b[39;49m\u001b[43m_new_java_obj\u001b[49m\u001b[43m(\u001b[49m\u001b[43mjava_class\u001b[49m\u001b[43m,\u001b[49m\u001b[43m \u001b[49m\u001b[38;5;241;43m*\u001b[39;49m\u001b[43margs\u001b[49m\u001b[43m)\u001b[49m\n",
                        "File \u001b[0;32m~/anaconda3/envs/appvocai-discover/lib/python3.10/site-packages/pyspark/ml/wrapper.py:86\u001b[0m, in \u001b[0;36mJavaWrapper._new_java_obj\u001b[0;34m(java_class, *args)\u001b[0m\n\u001b[1;32m     84\u001b[0m     java_obj \u001b[38;5;241m=\u001b[39m \u001b[38;5;28mgetattr\u001b[39m(java_obj, name)\n\u001b[1;32m     85\u001b[0m java_args \u001b[38;5;241m=\u001b[39m [_py2java(sc, arg) \u001b[38;5;28;01mfor\u001b[39;00m arg \u001b[38;5;129;01min\u001b[39;00m args]\n\u001b[0;32m---> 86\u001b[0m \u001b[38;5;28;01mreturn\u001b[39;00m \u001b[43mjava_obj\u001b[49m\u001b[43m(\u001b[49m\u001b[38;5;241;43m*\u001b[39;49m\u001b[43mjava_args\u001b[49m\u001b[43m)\u001b[49m\n",
                        "File \u001b[0;32m~/anaconda3/envs/appvocai-discover/lib/python3.10/site-packages/py4j/java_gateway.py:1322\u001b[0m, in \u001b[0;36mJavaMember.__call__\u001b[0;34m(self, *args)\u001b[0m\n\u001b[1;32m   1316\u001b[0m command \u001b[38;5;241m=\u001b[39m proto\u001b[38;5;241m.\u001b[39mCALL_COMMAND_NAME \u001b[38;5;241m+\u001b[39m\\\n\u001b[1;32m   1317\u001b[0m     \u001b[38;5;28mself\u001b[39m\u001b[38;5;241m.\u001b[39mcommand_header \u001b[38;5;241m+\u001b[39m\\\n\u001b[1;32m   1318\u001b[0m     args_command \u001b[38;5;241m+\u001b[39m\\\n\u001b[1;32m   1319\u001b[0m     proto\u001b[38;5;241m.\u001b[39mEND_COMMAND_PART\n\u001b[1;32m   1321\u001b[0m answer \u001b[38;5;241m=\u001b[39m \u001b[38;5;28mself\u001b[39m\u001b[38;5;241m.\u001b[39mgateway_client\u001b[38;5;241m.\u001b[39msend_command(command)\n\u001b[0;32m-> 1322\u001b[0m return_value \u001b[38;5;241m=\u001b[39m \u001b[43mget_return_value\u001b[49m\u001b[43m(\u001b[49m\n\u001b[1;32m   1323\u001b[0m \u001b[43m    \u001b[49m\u001b[43manswer\u001b[49m\u001b[43m,\u001b[49m\u001b[43m \u001b[49m\u001b[38;5;28;43mself\u001b[39;49m\u001b[38;5;241;43m.\u001b[39;49m\u001b[43mgateway_client\u001b[49m\u001b[43m,\u001b[49m\u001b[43m \u001b[49m\u001b[38;5;28;43mself\u001b[39;49m\u001b[38;5;241;43m.\u001b[39;49m\u001b[43mtarget_id\u001b[49m\u001b[43m,\u001b[49m\u001b[43m \u001b[49m\u001b[38;5;28;43mself\u001b[39;49m\u001b[38;5;241;43m.\u001b[39;49m\u001b[43mname\u001b[49m\u001b[43m)\u001b[49m\n\u001b[1;32m   1325\u001b[0m \u001b[38;5;28;01mfor\u001b[39;00m temp_arg \u001b[38;5;129;01min\u001b[39;00m temp_args:\n\u001b[1;32m   1326\u001b[0m     \u001b[38;5;28;01mif\u001b[39;00m \u001b[38;5;28mhasattr\u001b[39m(temp_arg, \u001b[38;5;124m\"\u001b[39m\u001b[38;5;124m_detach\u001b[39m\u001b[38;5;124m\"\u001b[39m):\n",
                        "File \u001b[0;32m~/anaconda3/envs/appvocai-discover/lib/python3.10/site-packages/pyspark/errors/exceptions/captured.py:179\u001b[0m, in \u001b[0;36mcapture_sql_exception.<locals>.deco\u001b[0;34m(*a, **kw)\u001b[0m\n\u001b[1;32m    177\u001b[0m \u001b[38;5;28;01mdef\u001b[39;00m \u001b[38;5;21mdeco\u001b[39m(\u001b[38;5;241m*\u001b[39ma: Any, \u001b[38;5;241m*\u001b[39m\u001b[38;5;241m*\u001b[39mkw: Any) \u001b[38;5;241m-\u001b[39m\u001b[38;5;241m>\u001b[39m Any:\n\u001b[1;32m    178\u001b[0m     \u001b[38;5;28;01mtry\u001b[39;00m:\n\u001b[0;32m--> 179\u001b[0m         \u001b[38;5;28;01mreturn\u001b[39;00m \u001b[43mf\u001b[49m\u001b[43m(\u001b[49m\u001b[38;5;241;43m*\u001b[39;49m\u001b[43ma\u001b[49m\u001b[43m,\u001b[49m\u001b[43m \u001b[49m\u001b[38;5;241;43m*\u001b[39;49m\u001b[38;5;241;43m*\u001b[39;49m\u001b[43mkw\u001b[49m\u001b[43m)\u001b[49m\n\u001b[1;32m    180\u001b[0m     \u001b[38;5;28;01mexcept\u001b[39;00m Py4JJavaError \u001b[38;5;28;01mas\u001b[39;00m e:\n\u001b[1;32m    181\u001b[0m         converted \u001b[38;5;241m=\u001b[39m convert_exception(e\u001b[38;5;241m.\u001b[39mjava_exception)\n",
                        "File \u001b[0;32m~/anaconda3/envs/appvocai-discover/lib/python3.10/site-packages/py4j/protocol.py:334\u001b[0m, in \u001b[0;36mget_return_value\u001b[0;34m(answer, gateway_client, target_id, name)\u001b[0m\n\u001b[1;32m    330\u001b[0m             \u001b[38;5;28;01mraise\u001b[39;00m Py4JError(\n\u001b[1;32m    331\u001b[0m                 \u001b[38;5;124m\"\u001b[39m\u001b[38;5;124mAn error occurred while calling \u001b[39m\u001b[38;5;132;01m{0}\u001b[39;00m\u001b[38;5;132;01m{1}\u001b[39;00m\u001b[38;5;132;01m{2}\u001b[39;00m\u001b[38;5;124m. Trace:\u001b[39m\u001b[38;5;130;01m\\n\u001b[39;00m\u001b[38;5;132;01m{3}\u001b[39;00m\u001b[38;5;130;01m\\n\u001b[39;00m\u001b[38;5;124m\"\u001b[39m\u001b[38;5;241m.\u001b[39m\n\u001b[1;32m    332\u001b[0m                 \u001b[38;5;28mformat\u001b[39m(target_id, \u001b[38;5;124m\"\u001b[39m\u001b[38;5;124m.\u001b[39m\u001b[38;5;124m\"\u001b[39m, name, value))\n\u001b[1;32m    333\u001b[0m     \u001b[38;5;28;01melse\u001b[39;00m:\n\u001b[0;32m--> 334\u001b[0m         \u001b[38;5;28;01mraise\u001b[39;00m Py4JError(\n\u001b[1;32m    335\u001b[0m             \u001b[38;5;124m\"\u001b[39m\u001b[38;5;124mAn error occurred while calling \u001b[39m\u001b[38;5;132;01m{0}\u001b[39;00m\u001b[38;5;132;01m{1}\u001b[39;00m\u001b[38;5;132;01m{2}\u001b[39;00m\u001b[38;5;124m\"\u001b[39m\u001b[38;5;241m.\u001b[39m\n\u001b[1;32m    336\u001b[0m             \u001b[38;5;28mformat\u001b[39m(target_id, \u001b[38;5;124m\"\u001b[39m\u001b[38;5;124m.\u001b[39m\u001b[38;5;124m\"\u001b[39m, name))\n\u001b[1;32m    337\u001b[0m \u001b[38;5;28;01melse\u001b[39;00m:\n\u001b[1;32m    338\u001b[0m     \u001b[38;5;28mtype\u001b[39m \u001b[38;5;241m=\u001b[39m answer[\u001b[38;5;241m1\u001b[39m]\n",
                        "\u001b[0;31mPy4JError\u001b[0m: An error occurred while calling z:com.johnsnowlabs.nlp.pretrained.PythonResourceDownloader.downloadModel"
                    ]
                }
            ],
            "source": [
                "documentAssembler = DocumentAssembler().setInputCol(\"content\").setOutputCol('document')\n",
                "\n",
                "#language detection\n",
                "languageDetector = LanguageDetectorDL.pretrained() \\\n",
                "  .setInputCols([\"document\"]) \\\n",
                "  .setOutputCol(\"language\")\n",
                "\n",
                "pipe = Pipeline(stages=[documentAssembler, languageDetector])\n",
                "results = pipe.fit(df2).transform(df2)"
            ]
        },
        {
            "cell_type": "markdown",
            "metadata": {},
            "source": [
                "## Resullts"
            ]
        },
        {
            "cell_type": "code",
            "execution_count": null,
            "metadata": {},
            "outputs": [],
            "source": [
                "results.select(\"language.result\").show()"
            ]
        }
    ],
    "metadata": {
        "kernelspec": {
            "display_name": "appvocai-discover",
            "language": "python",
            "name": "python3"
        },
        "language_info": {
            "codemirror_mode": {
                "name": "ipython",
                "version": 3
            },
            "file_extension": ".py",
            "mimetype": "text/x-python",
            "name": "python",
            "nbconvert_exporter": "python",
            "pygments_lexer": "ipython3",
            "version": "3.10.14"
        }
    },
    "nbformat": 4,
    "nbformat_minor": 2
}