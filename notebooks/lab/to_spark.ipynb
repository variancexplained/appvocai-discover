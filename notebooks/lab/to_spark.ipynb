{
 "cells": [
  {
   "cell_type": "markdown",
   "metadata": {},
   "source": [
    "# Convert Pandas to Spark"
   ]
  },
  {
   "cell_type": "code",
   "execution_count": null,
   "metadata": {},
   "outputs": [
    {
     "name": "stderr",
     "output_type": "stream",
     "text": [
      "/home/john/miniconda3/envs/appvocai/lib/python3.10/site-packages/pyspark/pandas/__init__.py:50: UserWarning: 'PYARROW_IGNORE_TIMEZONE' environment variable was not set. It is required to set this environment variable to '1' in both driver and executor sides if you use pyarrow>=2.0.0. pandas-on-Spark will set it for you but it does not work if there is a Spark context already launched.\n",
      "  warnings.warn(\n"
     ]
    },
    {
     "name": "stdout",
     "output_type": "stream",
     "text": [
      "3.7.2\n"
     ]
    }
   ],
   "source": [
    "import os\n",
    "import pyspark.pandas as ps\n",
    "from discover.infra.utils.file.io import IOService\n",
    "import spacy\n",
    "\n",
    "print(spacy.__version__)\n",
    "\n",
    "os.environ[\"PYARROW_IGNORE_TIMEZONE\"] = \"1\""
   ]
  },
  {
   "cell_type": "code",
   "execution_count": null,
   "metadata": {},
   "outputs": [
    {
     "data": {
      "text/html": [
       "<div>\n",
       "<style scoped>\n",
       "    .dataframe tbody tr th:only-of-type {\n",
       "        vertical-align: middle;\n",
       "    }\n",
       "\n",
       "    .dataframe tbody tr th {\n",
       "        vertical-align: top;\n",
       "    }\n",
       "\n",
       "    .dataframe thead th {\n",
       "        text-align: right;\n",
       "    }\n",
       "</style>\n",
       "<table border=\"1\" class=\"dataframe\">\n",
       "  <thead>\n",
       "    <tr style=\"text-align: right;\">\n",
       "      <th></th>\n",
       "      <th>Filter</th>\n",
       "      <th>Perplexity</th>\n",
       "    </tr>\n",
       "  </thead>\n",
       "  <tbody>\n",
       "    <tr>\n",
       "      <th>0</th>\n",
       "      <td>tqf_has_adjective</td>\n",
       "      <td>4.546495</td>\n",
       "    </tr>\n",
       "    <tr>\n",
       "      <th>1</th>\n",
       "      <td>tqf_has_adverb</td>\n",
       "      <td>4.583549</td>\n",
       "    </tr>\n",
       "    <tr>\n",
       "      <th>2</th>\n",
       "      <td>tqf_has_determiner</td>\n",
       "      <td>4.462878</td>\n",
       "    </tr>\n",
       "    <tr>\n",
       "      <th>3</th>\n",
       "      <td>tqf_has_noun</td>\n",
       "      <td>4.512285</td>\n",
       "    </tr>\n",
       "    <tr>\n",
       "      <th>4</th>\n",
       "      <td>tqf_has_terminal_punctuation</td>\n",
       "      <td>4.651699</td>\n",
       "    </tr>\n",
       "    <tr>\n",
       "      <th>5</th>\n",
       "      <td>tqf_has_verb</td>\n",
       "      <td>4.389349</td>\n",
       "    </tr>\n",
       "    <tr>\n",
       "      <th>6</th>\n",
       "      <td>tqf_high_punctuation_ratio</td>\n",
       "      <td>5.892704</td>\n",
       "    </tr>\n",
       "    <tr>\n",
       "      <th>7</th>\n",
       "      <td>tqf_word_count_range</td>\n",
       "      <td>4.521953</td>\n",
       "    </tr>\n",
       "    <tr>\n",
       "      <th>8</th>\n",
       "      <td>tqf_stop_word_match</td>\n",
       "      <td>4.549662</td>\n",
       "    </tr>\n",
       "    <tr>\n",
       "      <th>9</th>\n",
       "      <td>tqf_first_letter_cap</td>\n",
       "      <td>4.761631</td>\n",
       "    </tr>\n",
       "    <tr>\n",
       "      <th>10</th>\n",
       "      <td>tqf_no_all_caps</td>\n",
       "      <td>4.678274</td>\n",
       "    </tr>\n",
       "    <tr>\n",
       "      <th>11</th>\n",
       "      <td>tqf_high_word_repetition</td>\n",
       "      <td>4.503226</td>\n",
       "    </tr>\n",
       "    <tr>\n",
       "      <th>12</th>\n",
       "      <td>tqf_no_special_chars</td>\n",
       "      <td>4.916765</td>\n",
       "    </tr>\n",
       "  </tbody>\n",
       "</table>\n",
       "</div>"
      ],
      "text/plain": [
       "                          Filter  Perplexity\n",
       "0              tqf_has_adjective    4.546495\n",
       "1                 tqf_has_adverb    4.583549\n",
       "2             tqf_has_determiner    4.462878\n",
       "3                   tqf_has_noun    4.512285\n",
       "4   tqf_has_terminal_punctuation    4.651699\n",
       "5                   tqf_has_verb    4.389349\n",
       "6     tqf_high_punctuation_ratio    5.892704\n",
       "7           tqf_word_count_range    4.521953\n",
       "8            tqf_stop_word_match    4.549662\n",
       "9           tqf_first_letter_cap    4.761631\n",
       "10               tqf_no_all_caps    4.678274\n",
       "11      tqf_high_word_repetition    4.503226\n",
       "12          tqf_no_special_chars    4.916765"
      ]
     },
     "execution_count": 12,
     "metadata": {},
     "output_type": "execute_result"
    }
   ],
   "source": [
    "fp = \"models/tqa/tqa_ppl.csv\"\n",
    "df = IOService.read(filepath=fp)\n",
    "df.reset_index(inplace=True)\n",
    "IOService.write(filepath=fp, data=df[[\"Filter\", \"Perplexity\"]])\n",
    "df = IOService.read(filepath=fp)\n",
    "df"
   ]
  },
  {
   "cell_type": "code",
   "execution_count": 9,
   "metadata": {},
   "outputs": [
    {
     "name": "stderr",
     "output_type": "stream",
     "text": [
      "/home/john/miniconda3/envs/appvocai/lib/python3.10/site-packages/pyspark/pandas/utils.py:1016: PandasAPIOnSparkAdviceWarning: If `index_col` is not specified for `to_spark`, the existing index is lost when converting to Spark DataFrame.\n",
      "  warnings.warn(message, PandasAPIOnSparkAdviceWarning)\n",
      "                                                                                \r"
     ]
    },
    {
     "data": {
      "text/plain": [
       "[Row(Filter='tqf_has_adjective', Perplexity=4.546494960784912),\n",
       " Row(Filter='tqf_has_adverb', Perplexity=4.5835490226745605),\n",
       " Row(Filter='tqf_has_determiner', Perplexity=4.4628777503967285),\n",
       " Row(Filter='tqf_has_noun', Perplexity=4.512285232543945),\n",
       " Row(Filter='tqf_has_terminal_punctuation', Perplexity=4.651699066162109),\n",
       " Row(Filter='tqf_has_verb', Perplexity=4.389349460601807),\n",
       " Row(Filter='tqf_high_punctuation_ratio', Perplexity=5.892704486846924),\n",
       " Row(Filter='tqf_word_count_range', Perplexity=4.521953105926514),\n",
       " Row(Filter='tqf_stop_word_match', Perplexity=4.549662113189697),\n",
       " Row(Filter='tqf_first_letter_cap', Perplexity=4.761631011962891),\n",
       " Row(Filter='tqf_no_all_caps', Perplexity=4.678274154663086),\n",
       " Row(Filter='tqf_high_word_repetition', Perplexity=4.503225803375244),\n",
       " Row(Filter='tqf_no_special_chars', Perplexity=4.916765213012695)]"
      ]
     },
     "execution_count": 9,
     "metadata": {},
     "output_type": "execute_result"
    }
   ],
   "source": [
    "df = df.reset_index(drop=True)\n",
    "sdf = ps.DataFrame(df).to_spark()\n",
    "sdf.collect()"
   ]
  },
  {
   "cell_type": "code",
   "execution_count": null,
   "metadata": {},
   "outputs": [
    {
     "data": {
      "text/plain": [
       "[]"
      ]
     },
     "execution_count": 2,
     "metadata": {},
     "output_type": "execute_result"
    }
   ],
   "source": [
    "cols = [\n",
    "    \"id\",\n",
    "    \"app_id\",\n",
    "    \"app_name\",\n",
    "    \"category_id\",\n",
    "    \"author\",\n",
    "    \"rating\",\n",
    "    \"content\",\n",
    "    \"vote_sum\",\n",
    "    \"vote_count\",\n",
    "    \"date\",\n",
    "    \"edp_review_age\",\n",
    "    \"edp_review_length\",\n",
    "    \"edp_review_month\",\n",
    "    \"edp_review_day_of_week\",\n",
    "    \"edp_review_hour\",\n",
    "    \"sentiment\",\n",
    "    \"sentiment_classification\",\n",
    "    \"category\",\n",
    "    \"pos_n_nouns\",\n",
    "    \"pos_n_verbs\",\n",
    "    \"pos_n_adjectives\",\n",
    "    \"pos_n_adverbs\",\n",
    "    \"pos_n_determiners\",\n",
    "    \"pos_p_nouns\",\n",
    "    \"pos_p_verbs\",\n",
    "    \"pos_p_adjectives\",\n",
    "    \"pos_p_adverbs\",\n",
    "    \"pos_p_determiners\",\n",
    "    \"stats_char_count\",\n",
    "    \"stats_digits_count\",\n",
    "    \"stats_digits_proportion\",\n",
    "    \"stats_special_chars_count\",\n",
    "    \"stats_special_chars_proportion\",\n",
    "    \"stats_punctuation_count\",\n",
    "    \"stats_punctuation_proportion\",\n",
    "    \"stats_word_count\",\n",
    "    \"stats_unique_word_count\",\n",
    "    \"stats_unique_word_proportion\",\n",
    "    \"stats_word_repetition_ratio\",\n",
    "    \"stats_word_length_min\",\n",
    "    \"stats_word_length_max\",\n",
    "    \"stats_word_length_mean\",\n",
    "    \"stats_word_length_std\",\n",
    "    \"tqf_has_adjective\",\n",
    "    \"tqf_has_adverb\",\n",
    "    \"tqf_has_determiner\",\n",
    "    \"tqf_has_noun\",\n",
    "    \"tqf_has_terminal_punctuation\",\n",
    "    \"tqf_has_verb\",\n",
    "    \"tqf_high_special_chars_ratio\",\n",
    "    \"tqf_high_punctuation_ratio\",\n",
    "    \"tqf_word_count_range\",\n",
    "    \"tqf_stop_word_match\",\n",
    "    \"tqf_first_letter_cap\",\n",
    "    \"tqf_no_all_caps\",\n",
    "    \"tqf_high_word_repetition\",\n",
    "    \"tqf_no_special_chars\",\n",
    "    \"tqm_pos_count_score\",\n",
    "    \"tqm_pos_diversity_score\",\n",
    "    \"tqm_lexical_complexity_score\",\n",
    "    \"tqm_pos_density_score\",\n",
    "    \"tqm_tqa_check_score\",\n",
    "    \"enrichment_tqa_score1\",\n",
    "]\n",
    "filters = [\n",
    "    \"tqf_has_adjective\",\n",
    "    \"tqf_has_adverb\",\n",
    "    \"tqf_has_determiner\",\n",
    "    \"tqf_has_noun\",\n",
    "    \"tqf_has_terminal_punctuation\",\n",
    "    \"tqf_has_verb\",\n",
    "    \"tqf_high_punctuation_ratio\",\n",
    "    \"tqf_word_count_range\",\n",
    "    \"tqf_stop_word_match\",\n",
    "    \"tqf_first_letter_cap\",\n",
    "    \"tqf_no_all_caps\",\n",
    "    \"tqf_high_word_repetition\",\n",
    "    \"tqf_no_special_chars\",\n",
    "]\n",
    "misses = [filter for filter in filters if filter not in cols]\n",
    "misses"
   ]
  },
  {
   "cell_type": "code",
   "execution_count": null,
   "metadata": {},
   "outputs": [],
   "source": [
    "[11/08/2024 09:55:46 PM] [ERROR] [TQATask2.run] [wrapper] : Exception occurred in TQATask2 called with data=DataFrame[id: string, app_id: string, app_name: string, category_id: string, author: string, rating: smallint, content: string, vote_sum: bigint, vote_count: bigint, date: timestamp_ntz, edp_review_age: int, edp_review_length: int, edp_review_month: int, edp_review_day_of_week: int, edp_review_hour: int, sentiment: double, sentiment_classification: string, category: string, pos_n_nouns: int, pos_n_verbs: int, pos_n_adjectives: int, pos_n_adverbs: int, pos_n_determiners: int, pos_p_nouns: double, pos_p_verbs: double, pos_p_adjectives: double, pos_p_adverbs: double, pos_p_determiners: double, stats_char_count: int, stats_digits_count: int, stats_digits_proportion: double, stats_special_chars_count: int, stats_special_chars_proportion: double, stats_punctuation_count: int, stats_punctuation_proportion: double, stats_word_count: int, stats_unique_word_count: int, stats_unique_word_proportion: double, stats_word_repetition_ratio: double, stats_word_length_min: int, stats_word_length_max: int, stats_word_length_mean: double, stats_word_length_std: double, tqf_has_adjective: boolean, tqf_has_adverb: boolean, tqf_has_determiner: boolean, tqf_has_noun: boolean, tqf_has_terminal_punctuation: boolean, tqf_has_verb: boolean, tqf_high_special_chars_ratio: boolean, tqf_high_punctuation_ratio: boolean, tqf_word_count_range: boolean, tqf_stop_word_match: boolean, tqf_first_letter_cap: boolean, tqf_no_all_caps: boolean, tqf_high_word_repetition: boolean, tqf_no_special_chars: boolean, tqm_pos_count_score: double, tqm_pos_diversity_score: float, tqm_lexical_complexity_score: float, tqm_pos_density_score: float, tqm_tqa_check_score: float, enrichment_tqa_score1: double]\n",
    "An error occurred while calling o561.withColumn. Trace:"
   ]
  }
 ],
 "metadata": {
  "kernelspec": {
   "display_name": "appvocai",
   "language": "python",
   "name": "python3"
  },
  "language_info": {
   "codemirror_mode": {
    "name": "ipython",
    "version": 3
   },
   "file_extension": ".py",
   "mimetype": "text/x-python",
   "name": "python",
   "nbconvert_exporter": "python",
   "pygments_lexer": "ipython3",
   "version": "3.10.15"
  }
 },
 "nbformat": 4,
 "nbformat_minor": 2
}
