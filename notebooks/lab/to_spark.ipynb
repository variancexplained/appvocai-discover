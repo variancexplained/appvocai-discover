{
 "cells": [
  {
   "cell_type": "markdown",
   "metadata": {},
   "source": [
    "# Convert Pandas to Spark"
   ]
  },
  {
   "cell_type": "code",
   "execution_count": 1,
   "metadata": {},
   "outputs": [
    {
     "name": "stderr",
     "output_type": "stream",
     "text": [
      "/home/john/miniconda3/envs/appvocai/lib/python3.10/site-packages/pyspark/pandas/__init__.py:50: UserWarning: 'PYARROW_IGNORE_TIMEZONE' environment variable was not set. It is required to set this environment variable to '1' in both driver and executor sides if you use pyarrow>=2.0.0. pandas-on-Spark will set it for you but it does not work if there is a Spark context already launched.\n",
      "  warnings.warn(\n"
     ]
    }
   ],
   "source": [
    "import os\n",
    "import pyspark.pandas as ps\n",
    "import shutil\n",
    "from discover.infra.persist.dataframe.spark import (\n",
    "    SparkDataFrameParquetWriter,\n",
    "    SparkDataFrameCSVReader,\n",
    ")\n",
    "from discover.infra.utils.file.io import IOService\n",
    "\n",
    "os.environ[\"PYARROW_IGNORE_TIMEZONE\"] = \"1\""
   ]
  },
  {
   "cell_type": "code",
   "execution_count": 2,
   "metadata": {},
   "outputs": [
    {
     "name": "stderr",
     "output_type": "stream",
     "text": [
      "your 131072x1 screen size is bogus. expect trouble\n",
      "Setting default log level to \"WARN\".\n",
      "To adjust logging level use sc.setLogLevel(newLevel). For SparkR, use setLogLevel(newLevel).\n",
      "                                                                                \r"
     ]
    },
    {
     "data": {
      "text/plain": [
       "Row(id='4813570766', app_id='1380362212', app_name='GALATEA: Novels & Audiobooks', category_id='6018', author='cca5ebe8da6ec628c7fd', rating=5, content='I love this app! Though the chapters are short and you have to wait for the new one... it’s almost like a game... what a fun way to get my generation back into stories and storytelling!', vote_sum=0, vote_count=0, date='9/21/2019 4:27', category='accents')"
      ]
     },
     "execution_count": 2,
     "metadata": {},
     "output_type": "execute_result"
    }
   ],
   "source": [
    "from discover.core.dstruct import NestedNamespace\n",
    "from discover.infra.service.spark.pool import SparkSessionPool, SparkSessionType\n",
    "\n",
    "\n",
    "fp = \"tests/data/dirty_reviews.csv\"\n",
    "fp2 = \"tests/data/dirty_reviews.parquet\"\n",
    "shutil.rmtree(fp2, ignore_errors=True)\n",
    "\n",
    "read_kwargs = {\"encoding\": \"UTF-8\", \"header\": True, \"inferSchema\": True}\n",
    "spark_config = {\"memory\": \"96g\", \"retries\": 3, \"parquet_block_size\": 536870912}\n",
    "spark = SparkSessionPool(spark_config=spark_config).get_spark_session(\n",
    "    spark_session_type=SparkSessionType.SPARK\n",
    ")\n",
    "reader = SparkDataFrameCSVReader(kwargs=read_kwargs)\n",
    "df = reader.read(filepath=fp, spark=spark)\n",
    "\n",
    "# Write as parquet\n",
    "write_kwargs = {\"mode\": \"error\", \"partitionBy\": [\"category\"]}\n",
    "writer = SparkDataFrameParquetWriter(kwargs=write_kwargs)\n",
    "writer.write(dataframe=df, filepath=fp2, overwrite=True)\n",
    "df.head()"
   ]
  },
  {
   "cell_type": "code",
   "execution_count": null,
   "metadata": {},
   "outputs": [
    {
     "data": {
      "text/plain": [
       "[Row(),\n",
       " Row(),\n",
       " Row(),\n",
       " Row(),\n",
       " Row(),\n",
       " Row(),\n",
       " Row(),\n",
       " Row(),\n",
       " Row(),\n",
       " Row(),\n",
       " Row(),\n",
       " Row(),\n",
       " Row(),\n",
       " Row(),\n",
       " Row(),\n",
       " Row(),\n",
       " Row(),\n",
       " Row(),\n",
       " Row(),\n",
       " Row(),\n",
       " Row(),\n",
       " Row(),\n",
       " Row(),\n",
       " Row(),\n",
       " Row(),\n",
       " Row(),\n",
       " Row(),\n",
       " Row(),\n",
       " Row(),\n",
       " Row(),\n",
       " Row(),\n",
       " Row(),\n",
       " Row(),\n",
       " Row(),\n",
       " Row(),\n",
       " Row(),\n",
       " Row(),\n",
       " Row(),\n",
       " Row(),\n",
       " Row(),\n",
       " Row(),\n",
       " Row(),\n",
       " Row(),\n",
       " Row(),\n",
       " Row(),\n",
       " Row(),\n",
       " Row(),\n",
       " Row(),\n",
       " Row(),\n",
       " Row()]"
      ]
     },
     "execution_count": 4,
     "metadata": {},
     "output_type": "execute_result"
    }
   ],
   "source": []
  }
 ],
 "metadata": {
  "kernelspec": {
   "display_name": "appvocai",
   "language": "python",
   "name": "python3"
  },
  "language_info": {
   "codemirror_mode": {
    "name": "ipython",
    "version": 3
   },
   "file_extension": ".py",
   "mimetype": "text/x-python",
   "name": "python",
   "nbconvert_exporter": "python",
   "pygments_lexer": "ipython3",
   "version": "3.10.15"
  }
 },
 "nbformat": 4,
 "nbformat_minor": 2
}
