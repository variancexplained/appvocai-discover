{
 "cells": [
  {
   "cell_type": "markdown",
   "metadata": {},
   "source": [
    "# Dataset Staging Lab\n",
    "Stages datasets for ingestion to avoid repeatedly sampling from the 22m row raw dataset. Also ensures that the test environment comes from the development set population, ensuring that all test observations have model inference data, such as perplexities and sentiments. "
   ]
  },
  {
   "cell_type": "code",
   "execution_count": 14,
   "metadata": {},
   "outputs": [],
   "source": [
    "import os\n",
    "import numpy as np\n",
    "import pandas as pd\n",
    "from discover.flow.data_prep.ingest.task import FilterTask\n",
    "from discover.infra.utils.file.io import IOService\n",
    "from tqdm import tqdm\n",
    "\n",
    "\n",
    "pd.set_option(\"display.max_columns\", 999)\n",
    "pd.set_option(\"display.max_colwidth\", None)\n",
    "pd.set_option(\"display.max_rows\", 999)"
   ]
  },
  {
   "cell_type": "markdown",
   "metadata": {},
   "source": [
    "## Setup Configuration\n",
    "Configurations for each file include the source and destination filepaths, the fraction of the source to sample, and random_state for reproducibility.  "
   ]
  },
  {
   "cell_type": "code",
   "execution_count": null,
   "metadata": {},
   "outputs": [],
   "source": [
    "configs = [\n",
    "    {\n",
    "        \"source\": \"data/raw/reviews\",\n",
    "        \"dest\": \"data/stage/prod/reviews\",\n",
    "        \"frac\": 1,\n",
    "        \"random_state\": 65,\n",
    "    },\n",
    "    {\n",
    "        \"source\": \"data/raw/reviews\",\n",
    "        \"dest\": \"data/stage/dev/reviews\",\n",
    "        \"frac\": 0.01,\n",
    "        \"random_state\": 51,\n",
    "    },\n",
    "    {\n",
    "        \"source\": \"data/stage/dev/reviews\",\n",
    "        \"dest\": \"data/stage/test/reviews\",\n",
    "        \"frac\": 0.1,\n",
    "        \"random_state\": 51,\n",
    "    },\n",
    "]"
   ]
  },
  {
   "cell_type": "markdown",
   "metadata": {},
   "source": [
    "## Stage Files\n",
    "Iterating through the configs, this cell stages the production, development, and test files using the same seeds as used in the pipelines to ensure that the data are the same as that in the workspace."
   ]
  },
  {
   "cell_type": "code",
   "execution_count": null,
   "metadata": {},
   "outputs": [
    {
     "name": "stderr",
     "output_type": "stream",
     "text": [
      "  0%|          | 0/3 [00:00<?, ?it/s]"
     ]
    },
    {
     "name": "stdout",
     "output_type": "stream",
     "text": [
      "Reading dataset from data/raw/reviews.\n",
      "\n",
      "\n",
      "                                   FilterTask                                   \n",
      "                                   ----------                                   \n",
      "                          Start Datetime | Tue, 19 Nov 2024 20:48:31\n",
      "                       Complete Datetime | Tue, 19 Nov 2024 20:48:44\n",
      "                                 Runtime | 12.87 seconds\n"
     ]
    },
    {
     "name": "stderr",
     "output_type": "stream",
     "text": [
      " 33%|███▎      | 1/3 [01:24<02:48, 84.24s/it]"
     ]
    },
    {
     "name": "stdout",
     "output_type": "stream",
     "text": [
      "Created dataset of 8670475 rows and persisted to data/stage/prod/reviews\n",
      "\n",
      "\n",
      "                                   FilterTask                                   \n",
      "                                   ----------                                   \n",
      "                          Start Datetime | Tue, 19 Nov 2024 20:49:15\n",
      "                       Complete Datetime | Tue, 19 Nov 2024 20:49:29\n",
      "                                 Runtime | 14.62 seconds\n"
     ]
    },
    {
     "name": "stderr",
     "output_type": "stream",
     "text": [
      " 67%|██████▋   | 2/3 [01:40<00:44, 44.13s/it]"
     ]
    },
    {
     "name": "stdout",
     "output_type": "stream",
     "text": [
      "Created dataset of 86705 rows and persisted to data/stage/dev/reviews\n",
      "Reading dataset from data/stage/dev/reviews.\n",
      "\n",
      "\n",
      "                                   FilterTask                                   \n",
      "                                   ----------                                   \n",
      "                          Start Datetime | Tue, 19 Nov 2024 20:49:36\n"
     ]
    },
    {
     "name": "stderr",
     "output_type": "stream",
     "text": [
      "100%|██████████| 3/3 [01:47<00:00, 35.69s/it]"
     ]
    },
    {
     "name": "stdout",
     "output_type": "stream",
     "text": [
      "                       Complete Datetime | Tue, 19 Nov 2024 20:49:37\n",
      "                                 Runtime | 0.53 seconds\n",
      "Created dataset of 867 rows and persisted to data/stage/test/reviews\n"
     ]
    },
    {
     "name": "stderr",
     "output_type": "stream",
     "text": [
      "\n"
     ]
    }
   ],
   "source": [
    "column = \"date\"\n",
    "date = 2020\n",
    "filepath = None\n",
    "df = None\n",
    "for config in tqdm(configs):\n",
    "    if os.path.exists(config[\"dest\"]):\n",
    "        proceed = input(\n",
    "            f\"file already exists at {config['dest']}. Would you like to proceed? [y/n]: \"\n",
    "        )\n",
    "        if \"n\" in proceed.lower():\n",
    "            break\n",
    "    if filepath != config[\"source\"]:\n",
    "        print(f\"Reading dataset from {config['source']}.\")\n",
    "        df = IOService.read(filepath=config[\"source\"])\n",
    "        filepath = config[\"source\"]\n",
    "    filter = FilterTask(\n",
    "        column=column,\n",
    "        frac=config[\"frac\"],\n",
    "        date=date,\n",
    "        random_state=config[\"random_state\"],\n",
    "    )\n",
    "    data = filter.run(data=df)\n",
    "    IOService.write(filepath=config[\"dest\"], data=data)\n",
    "    print(f\"Created dataset of {data.shape[0]} rows and persisted to {config['dest']}\")"
   ]
  },
  {
   "cell_type": "markdown",
   "metadata": {},
   "source": [
    "## Validate Results\n",
    "We compare id's from the development set created to those from the development set in the workspace.  "
   ]
  },
  {
   "cell_type": "code",
   "execution_count": 15,
   "metadata": {},
   "outputs": [],
   "source": [
    "# Compare dev set\n",
    "fp1 = \"data/stage/dev/reviews\"\n",
    "fp2 = \"workspace/dev/dataset/01_dataprep/appvocai_discover-01_dataprep-01_ingest-review-dataset.parquet\"\n",
    "df1 = IOService.read(fp1)\n",
    "df2 = IOService.read(fp2)\n",
    "id1 = df1[\"id\"].sort_values().values\n",
    "id2 = df2[\"id\"].sort_values().values\n",
    "assert len(id1) == len(id2)\n",
    "assert np.array_equal(id1, id2)"
   ]
  },
  {
   "cell_type": "code",
   "execution_count": null,
   "metadata": {},
   "outputs": [
    {
     "data": {
      "text/html": [
       "<div>\n",
       "<style scoped>\n",
       "    .dataframe tbody tr th:only-of-type {\n",
       "        vertical-align: middle;\n",
       "    }\n",
       "\n",
       "    .dataframe tbody tr th {\n",
       "        vertical-align: top;\n",
       "    }\n",
       "\n",
       "    .dataframe thead th {\n",
       "        text-align: right;\n",
       "    }\n",
       "</style>\n",
       "<table border=\"1\" class=\"dataframe\">\n",
       "  <thead>\n",
       "    <tr style=\"text-align: right;\">\n",
       "      <th></th>\n",
       "      <th>id</th>\n",
       "      <th>app_id</th>\n",
       "      <th>app_name</th>\n",
       "      <th>category_id</th>\n",
       "      <th>author</th>\n",
       "      <th>rating</th>\n",
       "      <th>content</th>\n",
       "      <th>vote_sum</th>\n",
       "      <th>vote_count</th>\n",
       "      <th>date</th>\n",
       "      <th>category</th>\n",
       "    </tr>\n",
       "  </thead>\n",
       "  <tbody>\n",
       "    <tr>\n",
       "      <th>9340033</th>\n",
       "      <td>10000000715</td>\n",
       "      <td>442138791</td>\n",
       "      <td>Fast Chest and Arms Workouts</td>\n",
       "      <td>6013</td>\n",
       "      <td>0bccb91ceff07cd1b848</td>\n",
       "      <td>5.0</td>\n",
       "      <td>Excellent</td>\n",
       "      <td>0</td>\n",
       "      <td>0</td>\n",
       "      <td>2023-06-04 23:56:58</td>\n",
       "      <td>Health &amp; Fitness</td>\n",
       "    </tr>\n",
       "    <tr>\n",
       "      <th>8434846</th>\n",
       "      <td>10000006274</td>\n",
       "      <td>600446812</td>\n",
       "      <td>Pacer Pedometer &amp; Step Tracker</td>\n",
       "      <td>6013</td>\n",
       "      <td>9ad5d8c172370634d65d</td>\n",
       "      <td>5.0</td>\n",
       "      <td>It’s great so far. It is cool to know how many steps I’ve taken while walking. This will help me get to my goal weight</td>\n",
       "      <td>0</td>\n",
       "      <td>0</td>\n",
       "      <td>2023-06-04 23:59:41</td>\n",
       "      <td>Health &amp; Fitness</td>\n",
       "    </tr>\n",
       "    <tr>\n",
       "      <th>9619923</th>\n",
       "      <td>10000071511</td>\n",
       "      <td>1454778585</td>\n",
       "      <td>Water tracker Waterllama</td>\n",
       "      <td>6013</td>\n",
       "      <td>330959af7d0e278e5661</td>\n",
       "      <td>5.0</td>\n",
       "      <td>Made me drink water</td>\n",
       "      <td>0</td>\n",
       "      <td>0</td>\n",
       "      <td>2023-06-05 00:30:34</td>\n",
       "      <td>Health &amp; Fitness</td>\n",
       "    </tr>\n",
       "    <tr>\n",
       "      <th>18116766</th>\n",
       "      <td>10000120462</td>\n",
       "      <td>985746746</td>\n",
       "      <td>Discord - Chat, Talk &amp; Hangout</td>\n",
       "      <td>6005</td>\n",
       "      <td>0e44e615ce705c94d990</td>\n",
       "      <td>3.0</td>\n",
       "      <td>It is useful with voice chats and things but some buttons should be simplified or have a thing to show you what things you can do and stuff.</td>\n",
       "      <td>1</td>\n",
       "      <td>1</td>\n",
       "      <td>2023-06-05 00:53:28</td>\n",
       "      <td>Social Networking</td>\n",
       "    </tr>\n",
       "    <tr>\n",
       "      <th>417938</th>\n",
       "      <td>10000146481</td>\n",
       "      <td>1076402606</td>\n",
       "      <td>Libby, by OverDrive</td>\n",
       "      <td>6018</td>\n",
       "      <td>42d1e4fff46e4a190a8c</td>\n",
       "      <td>5.0</td>\n",
       "      <td>Libby is an easy to use app. I linked it to my library card and can easily borrow both audible and written books; I can download books to my kindle and/or iPad. What a delight!</td>\n",
       "      <td>0</td>\n",
       "      <td>0</td>\n",
       "      <td>2023-06-05 01:05:00</td>\n",
       "      <td>Book</td>\n",
       "    </tr>\n",
       "  </tbody>\n",
       "</table>\n",
       "</div>"
      ],
      "text/plain": [
       "                   id      app_id                        app_name category_id  \\\n",
       "9340033   10000000715   442138791    Fast Chest and Arms Workouts        6013   \n",
       "8434846   10000006274   600446812  Pacer Pedometer & Step Tracker        6013   \n",
       "9619923   10000071511  1454778585        Water tracker Waterllama        6013   \n",
       "18116766  10000120462   985746746  Discord - Chat, Talk & Hangout        6005   \n",
       "417938    10000146481  1076402606             Libby, by OverDrive        6018   \n",
       "\n",
       "                        author  rating  \\\n",
       "9340033   0bccb91ceff07cd1b848     5.0   \n",
       "8434846   9ad5d8c172370634d65d     5.0   \n",
       "9619923   330959af7d0e278e5661     5.0   \n",
       "18116766  0e44e615ce705c94d990     3.0   \n",
       "417938    42d1e4fff46e4a190a8c     5.0   \n",
       "\n",
       "                                                                                                                                                                                   content  \\\n",
       "9340033                                                                                                                                                                          Excellent   \n",
       "8434846                                                             It’s great so far. It is cool to know how many steps I’ve taken while walking. This will help me get to my goal weight   \n",
       "9619923                                                                                                                                                                Made me drink water   \n",
       "18116766                                      It is useful with voice chats and things but some buttons should be simplified or have a thing to show you what things you can do and stuff.   \n",
       "417938    Libby is an easy to use app. I linked it to my library card and can easily borrow both audible and written books; I can download books to my kindle and/or iPad. What a delight!   \n",
       "\n",
       "          vote_sum  vote_count                date           category  \n",
       "9340033          0           0 2023-06-04 23:56:58   Health & Fitness  \n",
       "8434846          0           0 2023-06-04 23:59:41   Health & Fitness  \n",
       "9619923          0           0 2023-06-05 00:30:34   Health & Fitness  \n",
       "18116766         1           1 2023-06-05 00:53:28  Social Networking  \n",
       "417938           0           0 2023-06-05 01:05:00               Book  "
      ]
     },
     "execution_count": 7,
     "metadata": {},
     "output_type": "execute_result"
    }
   ],
   "source": [
    "df1.sort_values(by=\"id\").tail()"
   ]
  },
  {
   "cell_type": "code",
   "execution_count": null,
   "metadata": {},
   "outputs": [
    {
     "data": {
      "text/html": [
       "<div>\n",
       "<style scoped>\n",
       "    .dataframe tbody tr th:only-of-type {\n",
       "        vertical-align: middle;\n",
       "    }\n",
       "\n",
       "    .dataframe tbody tr th {\n",
       "        vertical-align: top;\n",
       "    }\n",
       "\n",
       "    .dataframe thead th {\n",
       "        text-align: right;\n",
       "    }\n",
       "</style>\n",
       "<table border=\"1\" class=\"dataframe\">\n",
       "  <thead>\n",
       "    <tr style=\"text-align: right;\">\n",
       "      <th></th>\n",
       "      <th>id</th>\n",
       "      <th>app_id</th>\n",
       "      <th>app_name</th>\n",
       "      <th>category_id</th>\n",
       "      <th>author</th>\n",
       "      <th>rating</th>\n",
       "      <th>content</th>\n",
       "      <th>vote_sum</th>\n",
       "      <th>vote_count</th>\n",
       "      <th>date</th>\n",
       "      <th>review_length</th>\n",
       "      <th>category</th>\n",
       "    </tr>\n",
       "  </thead>\n",
       "  <tbody>\n",
       "    <tr>\n",
       "      <th>33550</th>\n",
       "      <td>10000000715</td>\n",
       "      <td>442138791</td>\n",
       "      <td>Fast Chest and Arms Workouts</td>\n",
       "      <td>6013</td>\n",
       "      <td>0bccb91ceff07cd1b848</td>\n",
       "      <td>5</td>\n",
       "      <td>Excellent</td>\n",
       "      <td>0</td>\n",
       "      <td>0</td>\n",
       "      <td>2023-06-04 23:56:58</td>\n",
       "      <td>1</td>\n",
       "      <td>Health &amp; Fitness</td>\n",
       "    </tr>\n",
       "    <tr>\n",
       "      <th>37675</th>\n",
       "      <td>10000006274</td>\n",
       "      <td>600446812</td>\n",
       "      <td>Pacer Pedometer &amp; Step Tracker</td>\n",
       "      <td>6013</td>\n",
       "      <td>9ad5d8c172370634d65d</td>\n",
       "      <td>5</td>\n",
       "      <td>It’s great so far. It is cool to know how many steps I’ve taken while walking. This will help me get to my goal weight</td>\n",
       "      <td>0</td>\n",
       "      <td>0</td>\n",
       "      <td>2023-06-04 23:59:41</td>\n",
       "      <td>25</td>\n",
       "      <td>Health &amp; Fitness</td>\n",
       "    </tr>\n",
       "    <tr>\n",
       "      <th>28003</th>\n",
       "      <td>10000071511</td>\n",
       "      <td>1454778585</td>\n",
       "      <td>Water tracker Waterllama</td>\n",
       "      <td>6013</td>\n",
       "      <td>330959af7d0e278e5661</td>\n",
       "      <td>5</td>\n",
       "      <td>Made me drink water</td>\n",
       "      <td>0</td>\n",
       "      <td>0</td>\n",
       "      <td>2023-06-05 00:30:34</td>\n",
       "      <td>4</td>\n",
       "      <td>Health &amp; Fitness</td>\n",
       "    </tr>\n",
       "    <tr>\n",
       "      <th>65304</th>\n",
       "      <td>10000120462</td>\n",
       "      <td>985746746</td>\n",
       "      <td>Discord - Chat, Talk &amp; Hangout</td>\n",
       "      <td>6005</td>\n",
       "      <td>0e44e615ce705c94d990</td>\n",
       "      <td>3</td>\n",
       "      <td>It is useful with voice chats and things but some buttons should be simplified or have a thing to show you what things you can do and stuff.</td>\n",
       "      <td>1</td>\n",
       "      <td>1</td>\n",
       "      <td>2023-06-05 00:53:28</td>\n",
       "      <td>28</td>\n",
       "      <td>Social Networking</td>\n",
       "    </tr>\n",
       "    <tr>\n",
       "      <th>2491</th>\n",
       "      <td>10000146481</td>\n",
       "      <td>1076402606</td>\n",
       "      <td>Libby, by OverDrive</td>\n",
       "      <td>6018</td>\n",
       "      <td>42d1e4fff46e4a190a8c</td>\n",
       "      <td>5</td>\n",
       "      <td>Libby is an easy to use app. I linked it to my library card and can easily borrow both audible and written books; I can download books to my kindle and/or iPad. What a delight!</td>\n",
       "      <td>0</td>\n",
       "      <td>0</td>\n",
       "      <td>2023-06-05 01:05:00</td>\n",
       "      <td>35</td>\n",
       "      <td>Book</td>\n",
       "    </tr>\n",
       "  </tbody>\n",
       "</table>\n",
       "</div>"
      ],
      "text/plain": [
       "                id      app_id                        app_name category_id  \\\n",
       "33550  10000000715   442138791    Fast Chest and Arms Workouts        6013   \n",
       "37675  10000006274   600446812  Pacer Pedometer & Step Tracker        6013   \n",
       "28003  10000071511  1454778585        Water tracker Waterllama        6013   \n",
       "65304  10000120462   985746746  Discord - Chat, Talk & Hangout        6005   \n",
       "2491   10000146481  1076402606             Libby, by OverDrive        6018   \n",
       "\n",
       "                     author  rating  \\\n",
       "33550  0bccb91ceff07cd1b848       5   \n",
       "37675  9ad5d8c172370634d65d       5   \n",
       "28003  330959af7d0e278e5661       5   \n",
       "65304  0e44e615ce705c94d990       3   \n",
       "2491   42d1e4fff46e4a190a8c       5   \n",
       "\n",
       "                                                                                                                                                                                content  \\\n",
       "33550                                                                                                                                                                         Excellent   \n",
       "37675                                                            It’s great so far. It is cool to know how many steps I’ve taken while walking. This will help me get to my goal weight   \n",
       "28003                                                                                                                                                               Made me drink water   \n",
       "65304                                      It is useful with voice chats and things but some buttons should be simplified or have a thing to show you what things you can do and stuff.   \n",
       "2491   Libby is an easy to use app. I linked it to my library card and can easily borrow both audible and written books; I can download books to my kindle and/or iPad. What a delight!   \n",
       "\n",
       "       vote_sum  vote_count                date  review_length  \\\n",
       "33550         0           0 2023-06-04 23:56:58              1   \n",
       "37675         0           0 2023-06-04 23:59:41             25   \n",
       "28003         0           0 2023-06-05 00:30:34              4   \n",
       "65304         1           1 2023-06-05 00:53:28             28   \n",
       "2491          0           0 2023-06-05 01:05:00             35   \n",
       "\n",
       "                category  \n",
       "33550   Health & Fitness  \n",
       "37675   Health & Fitness  \n",
       "28003   Health & Fitness  \n",
       "65304  Social Networking  \n",
       "2491                Book  "
      ]
     },
     "execution_count": 8,
     "metadata": {},
     "output_type": "execute_result"
    }
   ],
   "source": [
    "df2.sort_values(by=\"id\").tail()"
   ]
  }
 ],
 "metadata": {
  "kernelspec": {
   "display_name": "appvocai",
   "language": "python",
   "name": "python3"
  },
  "language_info": {
   "codemirror_mode": {
    "name": "ipython",
    "version": 3
   },
   "file_extension": ".py",
   "mimetype": "text/x-python",
   "name": "python",
   "nbconvert_exporter": "python",
   "pygments_lexer": "ipython3",
   "version": "3.10.15"
  }
 },
 "nbformat": 4,
 "nbformat_minor": 2
}
