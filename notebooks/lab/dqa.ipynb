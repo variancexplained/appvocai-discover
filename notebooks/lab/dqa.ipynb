{
 "cells": [
  {
   "cell_type": "markdown",
   "metadata": {},
   "source": [
    "# DQA Lab"
   ]
  },
  {
   "cell_type": "code",
   "execution_count": 1,
   "metadata": {},
   "outputs": [],
   "source": [
    "import numpy as np\n",
    "from collections import Counter\n",
    "import pandas as pd\n",
    "\n",
    "\n",
    "from discover.infra.utils.file.io import IOService\n",
    "from pandarallel import pandarallel"
   ]
  },
  {
   "cell_type": "code",
   "execution_count": 2,
   "metadata": {},
   "outputs": [],
   "source": [
    "fp = \"workspace/test/dataset/01_dataprep/appvocai_discover-01_dataprep-01_normalize-review-dataset.parquet\""
   ]
  },
  {
   "cell_type": "code",
   "execution_count": 3,
   "metadata": {},
   "outputs": [],
   "source": [
    "pandarallel.initialize(progress_bar=False, nb_workers=18, verbose=0)"
   ]
  },
  {
   "cell_type": "code",
   "execution_count": 11,
   "metadata": {},
   "outputs": [
    {
     "name": "stdout",
     "output_type": "stream",
     "text": [
      "<class 'pandas.core.frame.DataFrame'>\n",
      "Index: 59283 entries, 12828 to 22165124\n",
      "Data columns (total 11 columns):\n",
      " #   Column       Non-Null Count  Dtype         \n",
      "---  ------       --------------  -----         \n",
      " 0   id           59283 non-null  string        \n",
      " 1   app_id       59283 non-null  object        \n",
      " 2   app_name     59283 non-null  object        \n",
      " 3   category_id  59283 non-null  category      \n",
      " 4   author       59283 non-null  string        \n",
      " 5   rating       59283 non-null  int16         \n",
      " 6   content      59283 non-null  string        \n",
      " 7   vote_sum     59283 non-null  int64         \n",
      " 8   vote_count   59283 non-null  int64         \n",
      " 9   date         59283 non-null  datetime64[ms]\n",
      " 10  category     59283 non-null  category      \n",
      "dtypes: category(2), datetime64[ms](1), int16(1), int64(2), object(2), string(3)\n",
      "memory usage: 4.3+ MB\n"
     ]
    }
   ],
   "source": [
    "df = IOService.read(fp)\n",
    "result = df.duplicated(subset=None, keep=\"first\")\n",
    "result"
   ]
  }
 ],
 "metadata": {
  "kernelspec": {
   "display_name": "appvocai",
   "language": "python",
   "name": "python3"
  },
  "language_info": {
   "codemirror_mode": {
    "name": "ipython",
    "version": 3
   },
   "file_extension": ".py",
   "mimetype": "text/x-python",
   "name": "python",
   "nbconvert_exporter": "python",
   "pygments_lexer": "ipython3",
   "version": "3.10.14"
  }
 },
 "nbformat": 4,
 "nbformat_minor": 2
}
