{
 "cells": [
  {
   "cell_type": "markdown",
   "metadata": {},
   "source": [
    "# DQA Lab"
   ]
  },
  {
   "cell_type": "code",
   "execution_count": 1,
   "metadata": {},
   "outputs": [],
   "source": [
    "from genailab.core.dtypes import DFType\n",
    "from genailab.core.flow import PhaseDef, StageDef\n",
    "# Wire container\n",
    "from genailab.setup import auto_wire_container\n",
    "container = auto_wire_container()"
   ]
  },
  {
   "cell_type": "code",
   "execution_count": 2,
   "metadata": {},
   "outputs": [],
   "source": [
    "repo = container.io.repo()\n",
    "asset_id = repo.get_asset_id(phase=PhaseDef.DATAPREP, stage=StageDef.DQA, name=\"review\")\n",
    "ds = repo.get(asset_id=asset_id, dftype=DFType.PANDAS)\n",
    "df = ds.dataframe"
   ]
  },
  {
   "cell_type": "code",
   "execution_count": 3,
   "metadata": {},
   "outputs": [
    {
     "name": "stdout",
     "output_type": "stream",
     "text": [
      "<class 'pandas.core.frame.DataFrame'>\n",
      "RangeIndex: 8670 entries, 0 to 8669\n",
      "Data columns (total 33 columns):\n",
      " #   Column                                            Non-Null Count  Dtype         \n",
      "---  ------                                            --------------  -----         \n",
      " 0   id                                                8670 non-null   string        \n",
      " 1   app_id                                            8670 non-null   string        \n",
      " 2   app_name                                          8670 non-null   string        \n",
      " 3   category_id                                       8670 non-null   category      \n",
      " 4   author                                            8670 non-null   string        \n",
      " 5   rating                                            8670 non-null   int16         \n",
      " 6   content                                           8670 non-null   string        \n",
      " 7   vote_sum                                          8670 non-null   int64         \n",
      " 8   vote_count                                        8670 non-null   int64         \n",
      " 9   date                                              8670 non-null   datetime64[ms]\n",
      " 10  dqa_relevance_contains_non_english_app_name       8670 non-null   bool          \n",
      " 11  dqa_relevance_contains_non_english_text           8670 non-null   bool          \n",
      " 12  dqa_privacy_contains_email                        8670 non-null   bool          \n",
      " 13  dqa_privacy_contains_phone                        8670 non-null   bool          \n",
      " 14  dqa_privacy_contains_url                          8670 non-null   bool          \n",
      " 15  dqa_uniqueness_duplicate_review_id                8670 non-null   bool          \n",
      " 16  dqa_uniqueness_duplicate_review                   8670 non-null   bool          \n",
      " 17  dqa_uniqueness_duplicate_row                      8670 non-null   bool          \n",
      " 18  dqa_validity_invalid_category                     8670 non-null   bool          \n",
      " 19  dqa_validity_invalid_rating                       8670 non-null   bool          \n",
      " 20  dqa_validity_invalid_review_date                  8670 non-null   bool          \n",
      " 21  dqa_validity_contains_elongation                  8670 non-null   bool          \n",
      " 22  dqa_validity_contains_irrelevant_special_chars    8670 non-null   bool          \n",
      " 23  dqa_validity_contains_accents                     8670 non-null   bool          \n",
      " 24  dqa_validity_contains_ctrl_chars                  8670 non-null   bool          \n",
      " 25  dqa_validity_contains_html_chars                  8670 non-null   bool          \n",
      " 26  dqa_validity_contains_excess_special_chars        8670 non-null   bool          \n",
      " 27  dqa_validity_contains_excess_word_repetition      8670 non-null   bool          \n",
      " 28  dqa_validity_contains_excess_sequence_repetition  8670 non-null   bool          \n",
      " 29  dqa_validity_contains_excess_phrase_repetition    8670 non-null   bool          \n",
      " 30  dqa_relevance_short_review                        8670 non-null   bool          \n",
      " 31  dqa_validity_contains_excess_whitespace           8670 non-null   bool          \n",
      " 32  category                                          8670 non-null   category      \n",
      "dtypes: bool(22), category(2), datetime64[ms](1), int16(1), int64(2), string(5)\n",
      "memory usage: 763.4 KB\n"
     ]
    }
   ],
   "source": [
    "df.info()"
   ]
  },
  {
   "cell_type": "code",
   "execution_count": 7,
   "metadata": {},
   "outputs": [
    {
     "data": {
      "text/plain": [
       "Index(['dqa_relevance_contains_non_english_app_name',\n",
       "       'dqa_relevance_contains_non_english_text', 'dqa_privacy_contains_email',\n",
       "       'dqa_privacy_contains_phone', 'dqa_privacy_contains_url',\n",
       "       'dqa_uniqueness_duplicate_review_id', 'dqa_uniqueness_duplicate_review',\n",
       "       'dqa_uniqueness_duplicate_row', 'dqa_validity_invalid_category',\n",
       "       'dqa_validity_invalid_rating', 'dqa_validity_invalid_review_date',\n",
       "       'dqa_validity_contains_elongation',\n",
       "       'dqa_validity_contains_irrelevant_special_chars',\n",
       "       'dqa_validity_contains_accents', 'dqa_validity_contains_ctrl_chars',\n",
       "       'dqa_validity_contains_html_chars',\n",
       "       'dqa_validity_contains_excess_special_chars',\n",
       "       'dqa_validity_contains_excess_word_repetition',\n",
       "       'dqa_validity_contains_excess_sequence_repetition',\n",
       "       'dqa_validity_contains_excess_phrase_repetition',\n",
       "       'dqa_relevance_short_review',\n",
       "       'dqa_validity_contains_excess_whitespace'],\n",
       "      dtype='object')"
      ]
     },
     "execution_count": 7,
     "metadata": {},
     "output_type": "execute_result"
    }
   ],
   "source": [
    "df.columns[df.columns.str.startswith(\"dqa\")]"
   ]
  }
 ],
 "metadata": {
  "kernelspec": {
   "display_name": "genai-lab",
   "language": "python",
   "name": "python3"
  },
  "language_info": {
   "codemirror_mode": {
    "name": "ipython",
    "version": 3
   },
   "file_extension": ".py",
   "mimetype": "text/x-python",
   "name": "python",
   "nbconvert_exporter": "python",
   "pygments_lexer": "ipython3",
   "version": "3.10.16"
  }
 },
 "nbformat": 4,
 "nbformat_minor": 2
}
