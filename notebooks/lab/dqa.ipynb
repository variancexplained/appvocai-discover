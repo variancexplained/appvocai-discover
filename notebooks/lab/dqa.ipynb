{
 "cells": [
  {
   "cell_type": "markdown",
   "metadata": {},
   "source": [
    "# DQA Lab"
   ]
  },
  {
   "cell_type": "code",
   "execution_count": 26,
   "metadata": {},
   "outputs": [],
   "source": [
    "import numpy as np\n",
    "from collections import Counter\n",
    "import pandas as pd\n",
    "\n",
    "\n",
    "from genailabslm.infra.utils.file.io import IOService\n",
    "from pandarallel import pandarallel"
   ]
  },
  {
   "cell_type": "code",
   "execution_count": 27,
   "metadata": {},
   "outputs": [],
   "source": [
    "fp = \"workspace/dev/dataset/01_dataprep/appvocai_discover-01_dataprep-02_dqa-review-dataset.parquet\""
   ]
  },
  {
   "cell_type": "code",
   "execution_count": 28,
   "metadata": {},
   "outputs": [],
   "source": [
    "pandarallel.initialize(progress_bar=False, nb_workers=18, verbose=0)"
   ]
  },
  {
   "cell_type": "code",
   "execution_count": 35,
   "metadata": {},
   "outputs": [
    {
     "data": {
      "text/plain": [
       "8989"
      ]
     },
     "execution_count": 35,
     "metadata": {},
     "output_type": "execute_result"
    }
   ],
   "source": [
    "df = IOService.read(fp)\n",
    "df.head().T\n",
    "df.dqa_non_english_app_name.sum()"
   ]
  },
  {
   "cell_type": "code",
   "execution_count": 30,
   "metadata": {},
   "outputs": [
    {
     "data": {
      "text/plain": [
       "dqa_entropy                     193\n",
       "dqa_duplicate_rows                0\n",
       "dqa_duplicate_id                  0\n",
       "dqa_duplicate_review           3282\n",
       "dqa_has_null                      0\n",
       "dqa_invalid_rating                0\n",
       "dqa_non_english_review         2946\n",
       "dqa_non_english_app_name       8989\n",
       "dqa_has_emoji                  3490\n",
       "dqa_excessive_special_chars     809\n",
       "dqa_invalid_date                  0\n",
       "dqa_has_profanity               573\n",
       "dqa_contains_email                0\n",
       "dqa_contains_url                  0\n",
       "dqa_contains_phone_number        26\n",
       "dtype: int64"
      ]
     },
     "execution_count": 30,
     "metadata": {},
     "output_type": "execute_result"
    }
   ],
   "source": [
    "cols = [col for col in df.columns if col.startswith(\"dqa\")]\n",
    "dqa.sum()"
   ]
  },
  {
   "cell_type": "code",
   "execution_count": 31,
   "metadata": {},
   "outputs": [
    {
     "data": {
      "text/html": [
       "<div>\n",
       "<style scoped>\n",
       "    .dataframe tbody tr th:only-of-type {\n",
       "        vertical-align: middle;\n",
       "    }\n",
       "\n",
       "    .dataframe tbody tr th {\n",
       "        vertical-align: top;\n",
       "    }\n",
       "\n",
       "    .dataframe thead th {\n",
       "        text-align: right;\n",
       "    }\n",
       "</style>\n",
       "<table border=\"1\" class=\"dataframe\">\n",
       "  <thead>\n",
       "    <tr style=\"text-align: right;\">\n",
       "      <th></th>\n",
       "      <th>n</th>\n",
       "      <th>%</th>\n",
       "    </tr>\n",
       "  </thead>\n",
       "  <tbody>\n",
       "    <tr>\n",
       "      <th>dqa_entropy</th>\n",
       "      <td>193</td>\n",
       "      <td>0.33</td>\n",
       "    </tr>\n",
       "    <tr>\n",
       "      <th>dqa_duplicate_rows</th>\n",
       "      <td>0</td>\n",
       "      <td>0.00</td>\n",
       "    </tr>\n",
       "    <tr>\n",
       "      <th>dqa_duplicate_id</th>\n",
       "      <td>0</td>\n",
       "      <td>0.00</td>\n",
       "    </tr>\n",
       "    <tr>\n",
       "      <th>dqa_duplicate_review</th>\n",
       "      <td>3282</td>\n",
       "      <td>5.56</td>\n",
       "    </tr>\n",
       "    <tr>\n",
       "      <th>dqa_has_null</th>\n",
       "      <td>0</td>\n",
       "      <td>0.00</td>\n",
       "    </tr>\n",
       "    <tr>\n",
       "      <th>dqa_invalid_rating</th>\n",
       "      <td>0</td>\n",
       "      <td>0.00</td>\n",
       "    </tr>\n",
       "    <tr>\n",
       "      <th>dqa_non_english_review</th>\n",
       "      <td>2946</td>\n",
       "      <td>4.99</td>\n",
       "    </tr>\n",
       "    <tr>\n",
       "      <th>dqa_non_english_app_name</th>\n",
       "      <td>8989</td>\n",
       "      <td>15.23</td>\n",
       "    </tr>\n",
       "    <tr>\n",
       "      <th>dqa_has_emoji</th>\n",
       "      <td>3490</td>\n",
       "      <td>5.91</td>\n",
       "    </tr>\n",
       "    <tr>\n",
       "      <th>dqa_excessive_special_chars</th>\n",
       "      <td>809</td>\n",
       "      <td>1.37</td>\n",
       "    </tr>\n",
       "    <tr>\n",
       "      <th>dqa_invalid_date</th>\n",
       "      <td>0</td>\n",
       "      <td>0.00</td>\n",
       "    </tr>\n",
       "    <tr>\n",
       "      <th>dqa_has_profanity</th>\n",
       "      <td>573</td>\n",
       "      <td>0.97</td>\n",
       "    </tr>\n",
       "    <tr>\n",
       "      <th>dqa_contains_email</th>\n",
       "      <td>0</td>\n",
       "      <td>0.00</td>\n",
       "    </tr>\n",
       "    <tr>\n",
       "      <th>dqa_contains_url</th>\n",
       "      <td>0</td>\n",
       "      <td>0.00</td>\n",
       "    </tr>\n",
       "    <tr>\n",
       "      <th>dqa_contains_phone_number</th>\n",
       "      <td>26</td>\n",
       "      <td>0.04</td>\n",
       "    </tr>\n",
       "  </tbody>\n",
       "</table>\n",
       "</div>"
      ],
      "text/plain": [
       "                                n      %\n",
       "dqa_entropy                   193   0.33\n",
       "dqa_duplicate_rows              0   0.00\n",
       "dqa_duplicate_id                0   0.00\n",
       "dqa_duplicate_review         3282   5.56\n",
       "dqa_has_null                    0   0.00\n",
       "dqa_invalid_rating              0   0.00\n",
       "dqa_non_english_review       2946   4.99\n",
       "dqa_non_english_app_name     8989  15.23\n",
       "dqa_has_emoji                3490   5.91\n",
       "dqa_excessive_special_chars   809   1.37\n",
       "dqa_invalid_date                0   0.00\n",
       "dqa_has_profanity             573   0.97\n",
       "dqa_contains_email              0   0.00\n",
       "dqa_contains_url                0   0.00\n",
       "dqa_contains_phone_number      26   0.04"
      ]
     },
     "execution_count": 31,
     "metadata": {},
     "output_type": "execute_result"
    }
   ],
   "source": [
    "s = dqa.sum(axis=0)\n",
    "s = pd.DataFrame(s, columns=[\"n\"])\n",
    "s[\"%\"] = round(dqa.sum(axis=0) / df.shape[0] * 100, 2)\n",
    "s"
   ]
  },
  {
   "cell_type": "code",
   "execution_count": 32,
   "metadata": {},
   "outputs": [],
   "source": [
    "dup_reviews = df.loc[df[\"dqa_non_english_app_name\"], \"app_name\"]"
   ]
  },
  {
   "cell_type": "code",
   "execution_count": 33,
   "metadata": {},
   "outputs": [
    {
     "data": {
      "text/plain": [
       "3          Golden Quran | المصحف الذهبي\n",
       "7                         Amazon Kindle\n",
       "9                         Amazon Kindle\n",
       "18       قرآن هادی با ترجمه تفسیر فارسی\n",
       "20                        Amazon Kindle\n",
       "                      ...              \n",
       "59007                            myAT&T\n",
       "59008    Poke Genie -Remote Raid IV PvP\n",
       "59016                        Pi Browser\n",
       "59017              Puffin Cloud Browser\n",
       "59020    Facemoji Keyboard: Fonts&Emoji\n",
       "Name: app_name, Length: 8989, dtype: object"
      ]
     },
     "execution_count": 33,
     "metadata": {},
     "output_type": "execute_result"
    }
   ],
   "source": [
    "pd.set_option(\"display.max_rows\", 100)\n",
    "dup_reviews"
   ]
  },
  {
   "cell_type": "code",
   "execution_count": 34,
   "metadata": {},
   "outputs": [
    {
     "data": {
      "text/plain": [
       "Language.ENGLISH"
      ]
     },
     "execution_count": 34,
     "metadata": {},
     "output_type": "execute_result"
    }
   ],
   "source": [
    "from lingua import Language, LanguageDetectorBuilder\n",
    "\n",
    "languages = [Language.ENGLISH, Language.FRENCH, Language.GERMAN, Language.SPANISH]\n",
    "detector = LanguageDetectorBuilder.from_languages(*languages).build()\n",
    "detector.detect_language_of(\"languages are awesome\")"
   ]
  }
 ],
 "metadata": {
  "kernelspec": {
   "display_name": "appvocai",
   "language": "python",
   "name": "python3"
  },
  "language_info": {
   "codemirror_mode": {
    "name": "ipython",
    "version": 3
   },
   "file_extension": ".py",
   "mimetype": "text/x-python",
   "name": "python",
   "nbconvert_exporter": "python",
   "pygments_lexer": "ipython3",
   "version": "3.10.15"
  }
 },
 "nbformat": 4,
 "nbformat_minor": 2
}
