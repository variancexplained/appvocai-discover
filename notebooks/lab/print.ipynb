{
 "cells": [
  {
   "cell_type": "markdown",
   "metadata": {},
   "source": [
    "# Print Lab"
   ]
  },
  {
   "cell_type": "code",
   "execution_count": 1,
   "metadata": {},
   "outputs": [],
   "source": [
    "from discover.infra.utils.visual.print import Printer"
   ]
  },
  {
   "cell_type": "code",
   "execution_count": 2,
   "metadata": {},
   "outputs": [
    {
     "name": "stdout",
     "output_type": "stream",
     "text": [
      "\n",
      "\n",
      "                                   sometitle                                    \n",
      "                              self._name | John\n",
      "                           _height_level | 6.1\n",
      "                                  _leans | left\n",
      "some vaery long very longsome vaery long very longsome vaery long very longsome\n",
      "vaery long very longsome vaery long very longsome vaery long very longsome vaery\n",
      "long very longsome vaery long very longsome vaery long very longsome vaery long\n",
      "very long\n"
     ]
    }
   ],
   "source": [
    "printer = Printer()\n",
    "title = \"Some Time\"\n",
    "d = {\n",
    "    \"self._name\": \"John\",\n",
    "    \"_height_level\": \"6.1\",\n",
    "    \"_leans\": \"left\",\n",
    "    \"text\": \"some vaery long very longsome vaery long very longsome vaery long very longsome vaery long very longsome vaery long very longsome vaery long very longsome vaery long very longsome vaery long very longsome vaery long very longsome vaery long very long\",\n",
    "}\n",
    "printer.print_dict(title=\"sometitle\", data=d, text_col=\"text\")"
   ]
  }
 ],
 "metadata": {
  "kernelspec": {
   "display_name": "appvocai",
   "language": "python",
   "name": "python3"
  },
  "language_info": {
   "codemirror_mode": {
    "name": "ipython",
    "version": 3
   },
   "file_extension": ".py",
   "mimetype": "text/x-python",
   "name": "python",
   "nbconvert_exporter": "python",
   "pygments_lexer": "ipython3",
   "version": "3.10.15"
  }
 },
 "nbformat": 4,
 "nbformat_minor": 2
}
