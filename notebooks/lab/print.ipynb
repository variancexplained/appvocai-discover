{
 "cells": [
  {
   "cell_type": "markdown",
   "metadata": {},
   "source": [
    "# Print Lab"
   ]
  },
  {
   "cell_type": "code",
   "execution_count": 1,
   "metadata": {},
   "outputs": [],
   "source": [
    "from discover.infra.utils.visual.print import Printer"
   ]
  },
  {
   "cell_type": "code",
   "execution_count": 3,
   "metadata": {},
   "outputs": [
    {
     "name": "stdout",
     "output_type": "stream",
     "text": [
      "\n",
      "\n",
      "                                   Some Time                                    \n",
      "                                   ---------                                    \n",
      "                                    name | John\n",
      "                                  height | 6.1\n"
     ]
    }
   ],
   "source": [
    "printer = Printer()\n",
    "title = \"Some Time\"\n",
    "d = {\"self._name\": \"John\", \"_height_level\": \"6.1\", \"_leans\": \"left\"}\n",
    "printer.print_subheader(subtitle=title)\n",
    "printer.print_kv(k=\"name\", v=d[\"self._name\"])\n",
    "printer.print_kv(k=\"height\", v=d[\"_height_level\"])"
   ]
  }
 ],
 "metadata": {
  "kernelspec": {
   "display_name": "appvocai",
   "language": "python",
   "name": "python3"
  },
  "language_info": {
   "codemirror_mode": {
    "name": "ipython",
    "version": 3
   },
   "file_extension": ".py",
   "mimetype": "text/x-python",
   "name": "python",
   "nbconvert_exporter": "python",
   "pygments_lexer": "ipython3",
   "version": "3.10.14"
  }
 },
 "nbformat": 4,
 "nbformat_minor": 2
}
