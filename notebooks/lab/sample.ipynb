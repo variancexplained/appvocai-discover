{
 "cells": [
  {
   "cell_type": "markdown",
   "metadata": {},
   "source": [
    "# Sample Lab"
   ]
  },
  {
   "cell_type": "code",
   "execution_count": 6,
   "metadata": {},
   "outputs": [],
   "source": [
    "from discover.infra.utils.file.io import IOService"
   ]
  },
  {
   "cell_type": "code",
   "execution_count": 7,
   "metadata": {},
   "outputs": [],
   "source": [
    "source = \"workspace/dev/dataset/01_dataprep/appvocai_discover-01_dataprep-03_tqa-review-dataset.parquet\"\n",
    "destination = \"data/working/dataprep/tqa_small.csv\"\n",
    "frac = 0.01"
   ]
  },
  {
   "cell_type": "code",
   "execution_count": null,
   "metadata": {},
   "outputs": [
    {
     "name": "stdout",
     "output_type": "stream",
     "text": [
      "<class 'pandas.core.frame.DataFrame'>\n",
      "Index: 1680 entries, 115968 to 96711\n",
      "Data columns (total 60 columns):\n",
      " #   Column                           Non-Null Count  Dtype         \n",
      "---  ------                           --------------  -----         \n",
      " 0   app_id                           1680 non-null   object        \n",
      " 1   id                               1680 non-null   object        \n",
      " 2   app_name                         1680 non-null   object        \n",
      " 3   category_id                      1680 non-null   object        \n",
      " 4   author                           1680 non-null   object        \n",
      " 5   rating                           1680 non-null   int16         \n",
      " 6   content                          1680 non-null   object        \n",
      " 7   vote_sum                         1680 non-null   int64         \n",
      " 8   vote_count                       1680 non-null   int64         \n",
      " 9   date                             1680 non-null   datetime64[us]\n",
      " 10  eda_review_length                    1680 non-null   int64         \n",
      " 11  pos_n_nouns                      1680 non-null   int32         \n",
      " 12  pos_n_verbs                      1680 non-null   int32         \n",
      " 13  pos_n_adjectives                 1680 non-null   int32         \n",
      " 14  pos_n_adverbs                    1680 non-null   int32         \n",
      " 15  pos_n_determiners                1680 non-null   int32         \n",
      " 16  pos_p_nouns                      1680 non-null   float64       \n",
      " 17  pos_p_verbs                      1680 non-null   float64       \n",
      " 18  pos_p_adjectives                 1680 non-null   float64       \n",
      " 19  pos_p_adverbs                    1680 non-null   float64       \n",
      " 20  pos_p_determiners                1680 non-null   float64       \n",
      " 21  stats_char_count                 1680 non-null   int32         \n",
      " 22  stats_digits_count               1680 non-null   int32         \n",
      " 23  stats_digits_proportion          1680 non-null   float64       \n",
      " 24  stats_punctuation_count          1680 non-null   int32         \n",
      " 25  stats_punctuation_proportion     1680 non-null   float64       \n",
      " 26  stats_word_count                 1680 non-null   int32         \n",
      " 27  stats_unique_word_count          1680 non-null   int32         \n",
      " 28  stats_unique_word_proportion     1680 non-null   float64       \n",
      " 29  stats_word_repetition_ratio      1680 non-null   float64       \n",
      " 30  stats_word_length_min            1680 non-null   int32         \n",
      " 31  stats_word_length_max            1680 non-null   int32         \n",
      " 32  stats_word_length_mean           1680 non-null   float64       \n",
      " 33  stats_word_length_std            1680 non-null   float64       \n",
      " 34  eda_review_age                 1680 non-null   int32         \n",
      " 35  stats_rating_avg                 1680 non-null   float64       \n",
      " 36  eda_rating_deviation           1680 non-null   float64       \n",
      " 37  stats_eda_review_length_avg          1680 non-null   float64       \n",
      " 38  eda_review_length_deviation    1680 non-null   float64       \n",
      " 39  tqf_has_adjective                1680 non-null   bool          \n",
      " 40  tqf_has_adverb                   1680 non-null   bool          \n",
      " 41  tqf_has_determiner               1680 non-null   bool          \n",
      " 42  tqf_has_noun                     1680 non-null   bool          \n",
      " 43  tqf_has_terminal_punctuation     1680 non-null   bool          \n",
      " 44  tqf_has_verb                     1680 non-null   bool          \n",
      " 45  tqf_high_digit_ratio             1680 non-null   bool          \n",
      " 46  tqf_high_punctuation_ratio       1680 non-null   bool          \n",
      " 47  tqf_word_count_range             1680 non-null   bool          \n",
      " 48  tqf_stop_word_match              1680 non-null   bool          \n",
      " 49  tqf_first_letter_cap             1680 non-null   bool          \n",
      " 50  tqf_no_all_caps                  1680 non-null   bool          \n",
      " 51  tqf_high_word_repetition         1680 non-null   bool          \n",
      " 52  tqf_no_special_chars             1680 non-null   bool          \n",
      " 53  tqm_pos_count_score              1680 non-null   float64       \n",
      " 54  tqm_pos_diversity_score          1680 non-null   float64       \n",
      " 55  tqm_structural_complexity_score  1680 non-null   float64       \n",
      " 56  tqm_pos_intensity_score          1680 non-null   float64       \n",
      " 57  tqm_tqa_check_score              1680 non-null   float64       \n",
      " 58  tqa_score                        1680 non-null   float64       \n",
      " 59  category                         1680 non-null   category      \n",
      "dtypes: bool(14), category(1), datetime64[us](1), float64(21), int16(1), int32(13), int64(3), object(6)\n",
      "memory usage: 533.9+ KB\n"
     ]
    }
   ],
   "source": [
    "from itertools import groupby\n",
    "\n",
    "\n",
    "df = IOService.read(filepath=source)\n",
    "df = df.loc[df[\"eda_review_length\"] > 5]\n",
    "df = df.loc[df[\"eda_review_length\"] < 1000]\n",
    "df2 = df.sample(frac=frac)\n",
    "df2.info()\n",
    "IOService.write(filepath=destination, data=df2)"
   ]
  },
  {
   "cell_type": "code",
   "execution_count": null,
   "metadata": {},
   "outputs": [
    {
     "name": "stdout",
     "output_type": "stream",
     "text": [
      "tqf_has_adjective 1445\n",
      "tqf_has_adverb 1359\n",
      "tqf_has_determiner 1409\n",
      "tqf_has_noun 1627\n",
      "tqf_has_terminal_punctuation 1171\n",
      "tqf_has_verb 1610\n",
      "tqf_high_digit_ratio 0\n",
      "tqf_high_punctuation_ratio 65\n",
      "tqf_word_count_range 1676\n",
      "tqf_stop_word_match 1164\n",
      "tqf_first_letter_cap 1621\n",
      "tqf_no_all_caps 1673\n",
      "tqf_high_word_repetition 292\n",
      "tqf_no_special_chars 1039\n"
     ]
    }
   ],
   "source": [
    "filters = df2.columns[df2.columns.str.contains(\"tqf\")]\n",
    "for filter in filters:\n",
    "    print(filter, len(df2.loc[df2[filter]]))"
   ]
  }
 ],
 "metadata": {
  "kernelspec": {
   "display_name": "appvocai",
   "language": "python",
   "name": "python3"
  },
  "language_info": {
   "codemirror_mode": {
    "name": "ipython",
    "version": 3
   },
   "file_extension": ".py",
   "mimetype": "text/x-python",
   "name": "python",
   "nbconvert_exporter": "python",
   "pygments_lexer": "ipython3",
   "version": "3.10.15"
  }
 },
 "nbformat": 4,
 "nbformat_minor": 2
}
