{
 "cells": [
  {
   "cell_type": "markdown",
   "metadata": {},
   "source": [
    "# Sample Lab"
   ]
  },
  {
   "cell_type": "code",
   "execution_count": 1,
   "metadata": {},
   "outputs": [],
   "source": [
    "from discover.infra.storage.local.file_io import IOService"
   ]
  },
  {
   "cell_type": "code",
   "execution_count": 2,
   "metadata": {},
   "outputs": [],
   "source": [
    "source = \"data/prod/00_raw/reviews\"\n",
    "destination = \"data/test/00_raw/reviews\"\n",
    "frac = 0.001"
   ]
  },
  {
   "cell_type": "code",
   "execution_count": 3,
   "metadata": {},
   "outputs": [
    {
     "name": "stderr",
     "output_type": "stream",
     "text": [
      "/tmp/ipykernel_93359/636179700.py:5: FutureWarning: The default of observed=False is deprecated and will be changed to True in a future version of pandas. Pass observed=False to retain current behavior or observed=True to adopt the future default and silence this warning.\n",
      "  df2 = df.groupby(\"category\").sample(frac=frac)\n"
     ]
    },
    {
     "name": "stdout",
     "output_type": "stream",
     "text": [
      "<class 'pandas.core.frame.DataFrame'>\n",
      "Index: 22165 entries, 773451 to 19552679\n",
      "Data columns (total 11 columns):\n",
      " #   Column       Non-Null Count  Dtype         \n",
      "---  ------       --------------  -----         \n",
      " 0   id           22165 non-null  string        \n",
      " 1   app_id       22165 non-null  string        \n",
      " 2   app_name     22165 non-null  string        \n",
      " 3   category_id  22165 non-null  object        \n",
      " 4   author       22165 non-null  object        \n",
      " 5   rating       22165 non-null  float64       \n",
      " 6   content      22165 non-null  string        \n",
      " 7   vote_sum     22165 non-null  Int64         \n",
      " 8   vote_count   22165 non-null  Int64         \n",
      " 9   date         22165 non-null  datetime64[us]\n",
      " 10  category     22165 non-null  category      \n",
      "dtypes: Int64(2), category(1), datetime64[us](1), float64(1), object(2), string(4)\n",
      "memory usage: 1.9+ MB\n"
     ]
    }
   ],
   "source": [
    "from itertools import groupby\n",
    "\n",
    "\n",
    "df = IOService.read(filepath=source)\n",
    "df2 = df.groupby(\"category\").sample(frac=frac)\n",
    "df2.info()\n",
    "IOService.write(filepath=destination, data=df2, partition_cols=[\"category\"])"
   ]
  }
 ],
 "metadata": {
  "kernelspec": {
   "display_name": "appvocai-discover",
   "language": "python",
   "name": "python3"
  },
  "language_info": {
   "codemirror_mode": {
    "name": "ipython",
    "version": 3
   },
   "file_extension": ".py",
   "mimetype": "text/x-python",
   "name": "python",
   "nbconvert_exporter": "python",
   "pygments_lexer": "ipython3",
   "version": "3.10.14"
  }
 },
 "nbformat": 4,
 "nbformat_minor": 2
}
