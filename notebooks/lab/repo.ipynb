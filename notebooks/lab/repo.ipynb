{
 "cells": [
  {
   "cell_type": "markdown",
   "metadata": {},
   "source": [
    "# Repository Lab"
   ]
  },
  {
   "cell_type": "code",
   "execution_count": 1,
   "metadata": {},
   "outputs": [],
   "source": [
    "from discover.container import DiscoverContainer\n",
    "from discover.assets.idgen import AssetIDGen"
   ]
  },
  {
   "cell_type": "markdown",
   "metadata": {},
   "source": [
    "## Dependency Container"
   ]
  },
  {
   "cell_type": "code",
   "execution_count": 2,
   "metadata": {},
   "outputs": [],
   "source": [
    "container = DiscoverContainer()\n",
    "container.init_resources()"
   ]
  },
  {
   "cell_type": "markdown",
   "metadata": {},
   "source": [
    "## Repository"
   ]
  },
  {
   "cell_type": "code",
   "execution_count": 3,
   "metadata": {},
   "outputs": [],
   "source": [
    "# Instantiate the repository\n",
    "repo = container.repo.dataset_repo()"
   ]
  },
  {
   "cell_type": "markdown",
   "metadata": {},
   "source": [
    "## Get Dataset"
   ]
  },
  {
   "cell_type": "code",
   "execution_count": 5,
   "metadata": {},
   "outputs": [
    {
     "name": "stdout",
     "output_type": "stream",
     "text": [
      "\n",
      "\n",
      "                            Dataset                             \n",
      "                           phase | Data Preparation Phase\n",
      "                           stage | Text Quality Detection Stage\n",
      "                            name | review\n",
      "                         content | None\n",
      "                      dt_created | 2024-11-16T22:19:27.718914\n",
      "                        asset_id | dataset-dev-dataprep-tqd-review\n",
      "                             nlp | True\n",
      "                     distributed | True\n",
      "                storage_location | workspace/dev/dataset/01_dataprep/appvocai_discover-01_dataprep-04_tqd-review-dataset.parquet\n",
      "                           nrows | 86705\n",
      "                           ncols | 32\n",
      "                            size | 86705\n",
      "                        consumed | True\n",
      "                     consumed_by | None\n",
      "                     dt_consumed | 2024-11-16T22:27:00.999402\n",
      "\n",
      "\n"
     ]
    }
   ],
   "source": [
    "from discover.core.flow import PhaseDef, StageDef\n",
    "\n",
    "\n",
    "asset_id = AssetIDGen.get_asset_id(\n",
    "    asset_type=\"dataset\",\n",
    "    phase=PhaseDef.DATAPREP,\n",
    "    stage=StageDef.TQD,\n",
    "    name=\"review\",\n",
    ")\n",
    "ds = repo.get_dataset_metadata(asset_id=asset_id)\n",
    "print(ds)"
   ]
  }
 ],
 "metadata": {
  "kernelspec": {
   "display_name": "appvocai",
   "language": "python",
   "name": "python3"
  },
  "language_info": {
   "codemirror_mode": {
    "name": "ipython",
    "version": 3
   },
   "file_extension": ".py",
   "mimetype": "text/x-python",
   "name": "python",
   "nbconvert_exporter": "python",
   "pygments_lexer": "ipython3",
   "version": "3.10.15"
  }
 },
 "nbformat": 4,
 "nbformat_minor": 2
}
