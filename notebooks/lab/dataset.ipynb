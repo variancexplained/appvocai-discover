{
 "cells": [
  {
   "cell_type": "markdown",
   "metadata": {},
   "source": [
    "# Dataset Lab"
   ]
  },
  {
   "cell_type": "code",
   "execution_count": null,
   "metadata": {},
   "outputs": [],
   "source": [
    "import os\n",
    "import pandas as pd\n",
    "from discover.infra.utils.file.io import IOService\n",
    "\n",
    "pd.set_option(\"display.max_columns\", 999)\n",
    "pd.set_option(\"display.max_colwidth\", None)\n",
    "pd.set_option(\"display.max_rows\", 999)"
   ]
  },
  {
   "cell_type": "code",
   "execution_count": null,
   "metadata": {},
   "outputs": [
    {
     "name": "stdout",
     "output_type": "stream",
     "text": [
      "<class 'pandas.core.frame.DataFrame'>\n",
      "RangeIndex: 86705 entries, 0 to 86704\n",
      "Data columns (total 33 columns):\n",
      " #   Column                             Non-Null Count  Dtype         \n",
      "---  ------                             --------------  -----         \n",
      " 0   id                                 86705 non-null  object        \n",
      " 1   app_id                             86705 non-null  object        \n",
      " 2   app_name                           86705 non-null  object        \n",
      " 3   category_id                        86705 non-null  object        \n",
      " 4   author                             86705 non-null  object        \n",
      " 5   rating                             86705 non-null  int16         \n",
      " 6   content                            86705 non-null  object        \n",
      " 7   vote_sum                           86705 non-null  int64         \n",
      " 8   vote_count                         86705 non-null  int64         \n",
      " 9   date                               86705 non-null  datetime64[us]\n",
      " 10  review_length                      86705 non-null  int64         \n",
      " 11  sa_sentiment                       86705 non-null  object        \n",
      " 12  pa_perplexity                      84708 non-null  float64       \n",
      " 13  dqd_url                            86705 non-null  bool          \n",
      " 14  dqd_email                          86705 non-null  bool          \n",
      " 15  dqd_phone                          86705 non-null  bool          \n",
      " 16  dqd_ctrl_chars                     86705 non-null  bool          \n",
      " 17  dqd_accents                        86705 non-null  bool          \n",
      " 18  dqd_html_chars                     86705 non-null  bool          \n",
      " 19  dqd_excess_whitespace              86705 non-null  bool          \n",
      " 20  dqd_non_english_app_name           86705 non-null  bool          \n",
      " 21  dqd_non_english_text               86705 non-null  bool          \n",
      " 22  dqd_excess_special_chars           86705 non-null  bool          \n",
      " 23  dqd_duplicate_review_id            86705 non-null  bool          \n",
      " 24  dqd_elongation                     86705 non-null  bool          \n",
      " 25  dqd_non_ascii_chars                86705 non-null  bool          \n",
      " 26  dqd_excess_non_ascii_chars         86705 non-null  bool          \n",
      " 27  dqd_excess_sequence_repetition     86705 non-null  bool          \n",
      " 28  dqd_excess_word_repetition         86705 non-null  bool          \n",
      " 29  dqd_excess_phrase_repetition       86705 non-null  bool          \n",
      " 30  dqd_low_perplexity                 84708 non-null  object        \n",
      " 31  dqd_review_length_below_min_value  0 non-null      object        \n",
      " 32  category                           86705 non-null  category      \n",
      "dtypes: bool(17), category(1), datetime64[us](1), float64(1), int16(1), int64(3), object(9)\n",
      "memory usage: 10.9+ MB\n"
     ]
    }
   ],
   "source": [
    "from datetime import datetime\n",
    "\n",
    "\n",
    "fpin = \"data/raw/reviews\"\n",
    "config ={\"prod\": {\"source\": \"data/raw/reviews\", \"dest\": \"data/stage/prod/reviews\"}}\n",
    "fpout = {\"filepath\":\"data/stage/prod/reviews\",\"frac\":\n",
    "\"data/stage/dev/reviews\",\n",
    "\"data/stage/test/reviews\"]\n",
    "df = IOService.read(fp)\n",
    "for fp in fpout:\n",
    "    os.makedirs(os.path.dirname(fp), exist_ok=True)\n",
    "    IOService.write(data=df, filepath=fp)\n",
    "\n",
    "\n",
    "IOService\n",
    "df.info()"
   ]
  }
 ],
 "metadata": {
  "kernelspec": {
   "display_name": "appvocai",
   "language": "python",
   "name": "python3"
  },
  "language_info": {
   "codemirror_mode": {
    "name": "ipython",
    "version": 3
   },
   "file_extension": ".py",
   "mimetype": "text/x-python",
   "name": "python",
   "nbconvert_exporter": "python",
   "pygments_lexer": "ipython3",
   "version": "3.10.15"
  }
 },
 "nbformat": 4,
 "nbformat_minor": 2
}
