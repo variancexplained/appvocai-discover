{
 "cells": [
  {
   "cell_type": "markdown",
   "metadata": {},
   "source": [
    "# Dataset Lab"
   ]
  },
  {
   "cell_type": "code",
   "execution_count": 1,
   "metadata": {},
   "outputs": [],
   "source": [
    "from discover.infra.utils.file.io import IOService"
   ]
  },
  {
   "cell_type": "code",
   "execution_count": 2,
   "metadata": {},
   "outputs": [
    {
     "name": "stdout",
     "output_type": "stream",
     "text": [
      "<class 'pandas.core.frame.DataFrame'>\n",
      "RangeIndex: 22166591 entries, 0 to 22166590\n",
      "Data columns (total 11 columns):\n",
      " #   Column       Dtype         \n",
      "---  ------       -----         \n",
      " 0   id           string        \n",
      " 1   app_id       string        \n",
      " 2   app_name     string        \n",
      " 3   category_id  object        \n",
      " 4   author       object        \n",
      " 5   rating       float64       \n",
      " 6   content      string        \n",
      " 7   vote_sum     Int64         \n",
      " 8   vote_count   Int64         \n",
      " 9   date         datetime64[us]\n",
      " 10  category     category      \n",
      "dtypes: Int64(2), category(1), datetime64[us](1), float64(1), object(2), string(4)\n",
      "memory usage: 1.7+ GB\n"
     ]
    }
   ],
   "source": [
    "from datetime import datetime\n",
    "\n",
    "\n",
    "fp = \"data/raw/reviews\"\n",
    "df = IOService.read(fp)\n",
    "df2 = df.loc[df[\"date\"] > datetime(2022, 1, 1)]\n",
    "df2.head()\n",
    "df2.shape"
   ]
  }
 ],
 "metadata": {
  "kernelspec": {
   "display_name": "appvocai",
   "language": "python",
   "name": "python3"
  },
  "language_info": {
   "codemirror_mode": {
    "name": "ipython",
    "version": 3
   },
   "file_extension": ".py",
   "mimetype": "text/x-python",
   "name": "python",
   "nbconvert_exporter": "python",
   "pygments_lexer": "ipython3",
   "version": "3.10.14"
  }
 },
 "nbformat": 4,
 "nbformat_minor": 2
}
