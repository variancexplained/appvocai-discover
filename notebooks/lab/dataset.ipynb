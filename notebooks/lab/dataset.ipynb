{
 "cells": [
  {
   "cell_type": "markdown",
   "metadata": {},
   "source": [
    "# Dataset Lab"
   ]
  },
  {
   "cell_type": "code",
   "execution_count": 1,
   "metadata": {},
   "outputs": [],
   "source": [
    "from discover.infra.utils.file.io import IOService\n",
    "import pandas as pd\n",
    "from discover.infra.utils.data.dataframe import Optimizer\n",
    "\n",
    "pd.set_option(\"display.max_columns\", 999)\n",
    "pd.set_option(\"display.max_colwidth\", None)\n",
    "pd.set_option(\"display.max_rows\", 999)"
   ]
  },
  {
   "cell_type": "code",
   "execution_count": 2,
   "metadata": {},
   "outputs": [
    {
     "name": "stdout",
     "output_type": "stream",
     "text": [
      "<class 'pandas.core.frame.DataFrame'>\n",
      "RangeIndex: 86705 entries, 0 to 86704\n",
      "Data columns (total 32 columns):\n",
      " #   Column                             Non-Null Count  Dtype         \n",
      "---  ------                             --------------  -----         \n",
      " 0   id                                 86705 non-null  object        \n",
      " 1   app_id                             86705 non-null  object        \n",
      " 2   app_name                           86705 non-null  object        \n",
      " 3   category_id                        86705 non-null  object        \n",
      " 4   author                             86705 non-null  object        \n",
      " 5   rating                             86705 non-null  int16         \n",
      " 6   content                            86705 non-null  object        \n",
      " 7   vote_sum                           86705 non-null  int64         \n",
      " 8   vote_count                         86705 non-null  int64         \n",
      " 9   date                               86705 non-null  datetime64[us]\n",
      " 10  review_length                      86705 non-null  int64         \n",
      " 11  an_sentiment                       86705 non-null  object        \n",
      " 12  an_perplexity                      84708 non-null  float64       \n",
      " 13  tqd_url                            86705 non-null  bool          \n",
      " 14  tqd_email                          86705 non-null  bool          \n",
      " 15  tqd_phone                          86705 non-null  bool          \n",
      " 16  tqd_ctrl_chars                     86705 non-null  bool          \n",
      " 17  tqd_accents                        86705 non-null  bool          \n",
      " 18  tqd_html_chars                     86705 non-null  bool          \n",
      " 19  tqd_excess_whitespace              86705 non-null  bool          \n",
      " 20  tqd_non_english_app_name           86705 non-null  bool          \n",
      " 21  tqd_non_english_text               86705 non-null  bool          \n",
      " 22  tqd_excess_special_chars           86705 non-null  bool          \n",
      " 23  tqd_duplicate_review_id            86705 non-null  bool          \n",
      " 24  tqd_elongation                     86705 non-null  bool          \n",
      " 25  tqd_non_ascii_chars                86705 non-null  bool          \n",
      " 26  tqd_excess_non_ascii_chars         86705 non-null  bool          \n",
      " 27  tqd_excess_sequence_repetition     86705 non-null  bool          \n",
      " 28  tqd_excess_word_phrase_repetition  86705 non-null  bool          \n",
      " 29  tqd_review_length_outlier          86705 non-null  bool          \n",
      " 30  tqd_perplexity_outlier             86705 non-null  bool          \n",
      " 31  category                           86705 non-null  category      \n",
      "dtypes: bool(18), category(1), datetime64[us](1), float64(1), int16(1), int64(3), object(7)\n",
      "memory usage: 9.7+ MB\n"
     ]
    }
   ],
   "source": [
    "from datetime import datetime\n",
    "\n",
    "\n",
    "fp = \"workspace/dev/dataset/01_dataprep/appvocai_discover-01_dataprep-04_tqd-review-dataset.parquet\"\n",
    "df = IOService.read(fp)\n",
    "df.info()"
   ]
  }
 ],
 "metadata": {
  "kernelspec": {
   "display_name": "appvocai",
   "language": "python",
   "name": "python3"
  },
  "language_info": {
   "codemirror_mode": {
    "name": "ipython",
    "version": 3
   },
   "file_extension": ".py",
   "mimetype": "text/x-python",
   "name": "python",
   "nbconvert_exporter": "python",
   "pygments_lexer": "ipython3",
   "version": "3.10.15"
  }
 },
 "nbformat": 4,
 "nbformat_minor": 2
}
