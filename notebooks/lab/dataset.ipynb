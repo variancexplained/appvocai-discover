{
 "cells": [
  {
   "cell_type": "markdown",
   "metadata": {},
   "source": [
    "# Dataset Lab"
   ]
  },
  {
   "cell_type": "code",
   "execution_count": 1,
   "metadata": {},
   "outputs": [],
   "source": [
    "import pandas as pd\n",
    "from genailab.infra.utils.file.io import IOService\n",
    "\n",
    "\n",
    "pd.set_option(\"display.max_columns\", 999)\n",
    "pd.set_option(\"display.max_colwidth\", None)\n",
    "pd.set_option(\"display.max_rows\", 999)"
   ]
  },
  {
   "cell_type": "code",
   "execution_count": 2,
   "metadata": {},
   "outputs": [
    {
     "name": "stdout",
     "output_type": "stream",
     "text": [
      "<class 'pandas.core.frame.DataFrame'>\n",
      "Index: 5904 entries, 20255427 to 1506823\n",
      "Data columns (total 11 columns):\n",
      " #   Column       Non-Null Count  Dtype         \n",
      "---  ------       --------------  -----         \n",
      " 0   id           5904 non-null   string        \n",
      " 1   app_id       5904 non-null   string        \n",
      " 2   app_name     5904 non-null   string        \n",
      " 3   category_id  5904 non-null   object        \n",
      " 4   author       5904 non-null   object        \n",
      " 5   rating       5904 non-null   float64       \n",
      " 6   content      5904 non-null   string        \n",
      " 7   vote_sum     5904 non-null   Int64         \n",
      " 8   vote_count   5904 non-null   Int64         \n",
      " 9   date         5904 non-null   datetime64[ms]\n",
      " 10  category     5904 non-null   category      \n",
      "dtypes: Int64(2), category(1), datetime64[ms](1), float64(1), object(2), string(4)\n",
      "memory usage: 525.3+ KB\n"
     ]
    }
   ],
   "source": [
    "fp = \"data/stage/test/reviews\"\n",
    "df = IOService.read(fp)\n",
    "df.info()"
   ]
  },
  {
   "cell_type": "code",
   "execution_count": 3,
   "metadata": {},
   "outputs": [
    {
     "name": "stdout",
     "output_type": "stream",
     "text": [
      "<class 'pandas.core.frame.DataFrame'>\n",
      "Index: 5904 entries, 20255427 to 1506823\n",
      "Data columns (total 11 columns):\n",
      " #   Column       Non-Null Count  Dtype         \n",
      "---  ------       --------------  -----         \n",
      " 0   id           5904 non-null   string        \n",
      " 1   app_id       5904 non-null   string        \n",
      " 2   app_name     5904 non-null   string        \n",
      " 3   category_id  5904 non-null   object        \n",
      " 4   author       5904 non-null   object        \n",
      " 5   rating       5904 non-null   float64       \n",
      " 6   content      5904 non-null   string        \n",
      " 7   vote_sum     5904 non-null   Int64         \n",
      " 8   vote_count   5904 non-null   Int64         \n",
      " 9   date         5904 non-null   datetime64[ms]\n",
      " 10  category     5904 non-null   category      \n",
      "dtypes: Int64(2), category(1), datetime64[ms](1), float64(1), object(2), string(4)\n",
      "memory usage: 525.3+ KB\n"
     ]
    }
   ],
   "source": [
    "df.info()"
   ]
  }
 ],
 "metadata": {
  "kernelspec": {
   "display_name": "genai-lab",
   "language": "python",
   "name": "python3"
  },
  "language_info": {
   "codemirror_mode": {
    "name": "ipython",
    "version": 3
   },
   "file_extension": ".py",
   "mimetype": "text/x-python",
   "name": "python",
   "nbconvert_exporter": "python",
   "pygments_lexer": "ipython3",
   "version": "3.10.16"
  }
 },
 "nbformat": 4,
 "nbformat_minor": 2
}
