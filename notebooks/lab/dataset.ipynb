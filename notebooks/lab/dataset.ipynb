{
 "cells": [
  {
   "cell_type": "markdown",
   "metadata": {},
   "source": [
    "# Dataset Lab"
   ]
  },
  {
   "cell_type": "code",
   "execution_count": 1,
   "metadata": {},
   "outputs": [],
   "source": [
    "from discover.infra.utils.file.io import IOService\n",
    "import pandas as pd\n",
    "\n",
    "pd.set_option(\"display.max_columns\", 999)\n",
    "pd.set_option(\"display.max_colwidth\", None)\n",
    "pd.set_option(\"display.max_rows\", 999)"
   ]
  },
  {
   "cell_type": "code",
   "execution_count": 2,
   "metadata": {},
   "outputs": [
    {
     "name": "stdout",
     "output_type": "stream",
     "text": [
      "<class 'pandas.core.frame.DataFrame'>\n",
      "RangeIndex: 211924 entries, 0 to 211923\n",
      "Data columns (total 61 columns):\n",
      " #   Column                           Non-Null Count   Dtype         \n",
      "---  ------                           --------------   -----         \n",
      " 0   app_id                           211924 non-null  object        \n",
      " 1   id                               211924 non-null  object        \n",
      " 2   app_name                         211924 non-null  object        \n",
      " 3   category_id                      211924 non-null  object        \n",
      " 4   author                           211924 non-null  object        \n",
      " 5   rating                           211924 non-null  int16         \n",
      " 6   content                          211924 non-null  object        \n",
      " 7   vote_sum                         211924 non-null  int64         \n",
      " 8   vote_count                       211924 non-null  int64         \n",
      " 9   date                             211924 non-null  datetime64[us]\n",
      " 10  review_length                    211924 non-null  int64         \n",
      " 11  tp_tokens                        211924 non-null  object        \n",
      " 12  tp_pos                           211924 non-null  object        \n",
      " 13  pos_n_nouns                      211924 non-null  int32         \n",
      " 14  pos_n_verbs                      211924 non-null  int32         \n",
      " 15  pos_n_adjectives                 211924 non-null  int32         \n",
      " 16  pos_n_adverbs                    211924 non-null  int32         \n",
      " 17  pos_n_determiners                211924 non-null  int32         \n",
      " 18  pos_p_nouns                      211924 non-null  float64       \n",
      " 19  pos_p_verbs                      211924 non-null  float64       \n",
      " 20  pos_p_adjectives                 211924 non-null  float64       \n",
      " 21  pos_p_adverbs                    211924 non-null  float64       \n",
      " 22  pos_p_determiners                211924 non-null  float64       \n",
      " 23  stats_char_count                 211924 non-null  int32         \n",
      " 24  stats_digits_count               211924 non-null  int32         \n",
      " 25  stats_digits_proportion          211924 non-null  float64       \n",
      " 26  stats_punctuation_count          211924 non-null  int32         \n",
      " 27  stats_punctuation_proportion     211924 non-null  float64       \n",
      " 28  stats_word_count                 211924 non-null  int32         \n",
      " 29  stats_unique_word_count          211924 non-null  int32         \n",
      " 30  stats_unique_word_proportion     211924 non-null  float64       \n",
      " 31  stats_word_repetition_ratio      211924 non-null  float64       \n",
      " 32  stats_word_length_min            211924 non-null  int32         \n",
      " 33  stats_word_length_max            211924 non-null  int32         \n",
      " 34  stats_word_length_mean           211924 non-null  float64       \n",
      " 35  stats_word_length_std            211924 non-null  float64       \n",
      " 36  stats_review_age                 211924 non-null  int32         \n",
      " 37  stats_rating_avg                 211924 non-null  float64       \n",
      " 38  stats_rating_deviation           211924 non-null  float64       \n",
      " 39  stats_review_length_avg          211924 non-null  float64       \n",
      " 40  stats_review_length_deviation    211924 non-null  float64       \n",
      " 41  readability_flesch_reading_ease  211924 non-null  float64       \n",
      " 42  tqf_has_adjective                211924 non-null  bool          \n",
      " 43  tqf_has_adverb                   211924 non-null  bool          \n",
      " 44  tqf_has_determiner               211924 non-null  bool          \n",
      " 45  tqf_has_noun                     211924 non-null  bool          \n",
      " 46  tqf_has_terminal_punctuation     211924 non-null  bool          \n",
      " 47  tqf_has_verb                     211924 non-null  bool          \n",
      " 48  tqf_high_digit_ratio             211924 non-null  bool          \n",
      " 49  tqf_high_punctuation_ratio       211924 non-null  bool          \n",
      " 50  tqf_word_count_range             211924 non-null  bool          \n",
      " 51  tqf_readability_easy             211924 non-null  bool          \n",
      " 52  tqf_readability_std              211924 non-null  bool          \n",
      " 53  tqf_readability_difficult        211924 non-null  bool          \n",
      " 54  tqf_stop_word_match              211924 non-null  bool          \n",
      " 55  tqf_first_letter_cap             211924 non-null  bool          \n",
      " 56  tqf_no_all_caps                  211924 non-null  bool          \n",
      " 57  tqf_high_word_repetition         211924 non-null  bool          \n",
      " 58  tqf_no_special_chars             211924 non-null  bool          \n",
      " 59  tqa_score                        211924 non-null  float64       \n",
      " 60  category                         211924 non-null  category      \n",
      "dtypes: bool(17), category(1), datetime64[us](1), float64(17), int16(1), int32(13), int64(3), object(8)\n",
      "memory usage: 61.4+ MB\n"
     ]
    }
   ],
   "source": [
    "from datetime import datetime\n",
    "\n",
    "\n",
    "fp = \"workspace/dev/dataset/01_dataprep/appvocai_discover-01_dataprep-03_tqa-review-dataset.parquet\"\n",
    "df = IOService.read(fp)\n",
    "df.info()"
   ]
  },
  {
   "cell_type": "code",
   "execution_count": 3,
   "metadata": {},
   "outputs": [
    {
     "data": {
      "text/html": [
       "<div>\n",
       "<style scoped>\n",
       "    .dataframe tbody tr th:only-of-type {\n",
       "        vertical-align: middle;\n",
       "    }\n",
       "\n",
       "    .dataframe tbody tr th {\n",
       "        vertical-align: top;\n",
       "    }\n",
       "\n",
       "    .dataframe thead th {\n",
       "        text-align: right;\n",
       "    }\n",
       "</style>\n",
       "<table border=\"1\" class=\"dataframe\">\n",
       "  <thead>\n",
       "    <tr style=\"text-align: right;\">\n",
       "      <th></th>\n",
       "      <th>app_name</th>\n",
       "      <th>content</th>\n",
       "      <th>tqa_score</th>\n",
       "    </tr>\n",
       "  </thead>\n",
       "  <tbody>\n",
       "    <tr>\n",
       "      <th>53824</th>\n",
       "      <td>Starbucks</td>\n",
       "      <td>So convenient!! Don't need anything but iPhone...</td>\n",
       "      <td>12.044404</td>\n",
       "    </tr>\n",
       "    <tr>\n",
       "      <th>159425</th>\n",
       "      <td>TextFree: Private Texting App</td>\n",
       "      <td>Ok my bro attacked me with 141 messages and it...</td>\n",
       "      <td>12.447371</td>\n",
       "    </tr>\n",
       "    <tr>\n",
       "      <th>57317</th>\n",
       "      <td>Taco Bell Fast Food &amp; Delivery</td>\n",
       "      <td>Crashes, crashes and more crashes. Cant even s...</td>\n",
       "      <td>10.555408</td>\n",
       "    </tr>\n",
       "    <tr>\n",
       "      <th>154017</th>\n",
       "      <td>Bible - Daily Bible Verse KJV</td>\n",
       "      <td>Very confused about life lord</td>\n",
       "      <td>11.744183</td>\n",
       "    </tr>\n",
       "    <tr>\n",
       "      <th>150279</th>\n",
       "      <td>Bible - Audio &amp; Video Bibles</td>\n",
       "      <td>I love this app because it reads the bible to ...</td>\n",
       "      <td>12.339220</td>\n",
       "    </tr>\n",
       "  </tbody>\n",
       "</table>\n",
       "</div>"
      ],
      "text/plain": [
       "                              app_name  \\\n",
       "53824                        Starbucks   \n",
       "159425   TextFree: Private Texting App   \n",
       "57317   Taco Bell Fast Food & Delivery   \n",
       "154017   Bible - Daily Bible Verse KJV   \n",
       "150279    Bible - Audio & Video Bibles   \n",
       "\n",
       "                                                  content  tqa_score  \n",
       "53824   So convenient!! Don't need anything but iPhone...  12.044404  \n",
       "159425  Ok my bro attacked me with 141 messages and it...  12.447371  \n",
       "57317   Crashes, crashes and more crashes. Cant even s...  10.555408  \n",
       "154017                      Very confused about life lord  11.744183  \n",
       "150279  I love this app because it reads the bible to ...  12.339220  "
      ]
     },
     "execution_count": 3,
     "metadata": {},
     "output_type": "execute_result"
    }
   ],
   "source": [
    "df[[\"app_name\", \"content\", \"tqa_score\"]].sample(n=5)"
   ]
  }
 ],
 "metadata": {
  "kernelspec": {
   "display_name": "appvocai",
   "language": "python",
   "name": "python3"
  },
  "language_info": {
   "codemirror_mode": {
    "name": "ipython",
    "version": 3
   },
   "file_extension": ".py",
   "mimetype": "text/x-python",
   "name": "python",
   "nbconvert_exporter": "python",
   "pygments_lexer": "ipython3",
   "version": "3.10.15"
  }
 },
 "nbformat": 4,
 "nbformat_minor": 2
}
