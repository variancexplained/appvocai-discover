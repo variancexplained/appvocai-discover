{
 "cells": [
  {
   "cell_type": "markdown",
   "metadata": {},
   "source": [
    "# Dataset Lab"
   ]
  },
  {
   "cell_type": "code",
   "execution_count": 1,
   "metadata": {},
   "outputs": [],
   "source": [
    "import os\n",
    "import pandas as pd\n",
    "from discover.infra.utils.file.io import IOService\n",
    "from discover.core.dtypes import DTYPES\n",
    "\n",
    "\n",
    "pd.set_option(\"display.max_columns\", 999)\n",
    "pd.set_option(\"display.max_colwidth\", None)\n",
    "pd.set_option(\"display.max_rows\", 999)"
   ]
  },
  {
   "cell_type": "code",
   "execution_count": 2,
   "metadata": {},
   "outputs": [],
   "source": [
    "fp1 = \"tests/data/reviews\"\n",
    "df1 = IOService.read(fp1)"
   ]
  },
  {
   "cell_type": "code",
   "execution_count": 3,
   "metadata": {},
   "outputs": [
    {
     "name": "stdout",
     "output_type": "stream",
     "text": [
      "<class 'pandas.core.frame.DataFrame'>\n",
      "Index: 22167 entries, 8541681 to 1731306\n",
      "Data columns (total 11 columns):\n",
      " #   Column       Non-Null Count  Dtype         \n",
      "---  ------       --------------  -----         \n",
      " 0   id           22167 non-null  string        \n",
      " 1   app_id       22167 non-null  string        \n",
      " 2   app_name     22167 non-null  string        \n",
      " 3   category_id  22167 non-null  object        \n",
      " 4   author       22167 non-null  object        \n",
      " 5   rating       22167 non-null  float64       \n",
      " 6   content      22167 non-null  string        \n",
      " 7   vote_sum     22167 non-null  Int64         \n",
      " 8   vote_count   22167 non-null  Int64         \n",
      " 9   date         22167 non-null  datetime64[us]\n",
      " 10  category     22167 non-null  category      \n",
      "dtypes: Int64(2), category(1), datetime64[us](1), float64(1), object(2), string(4)\n",
      "memory usage: 1.9+ MB\n"
     ]
    }
   ],
   "source": [
    "df1.info()\n",
    "# df2.info()"
   ]
  }
 ],
 "metadata": {
  "kernelspec": {
   "display_name": "appvocai",
   "language": "python",
   "name": "python3"
  },
  "language_info": {
   "codemirror_mode": {
    "name": "ipython",
    "version": 3
   },
   "file_extension": ".py",
   "mimetype": "text/x-python",
   "name": "python",
   "nbconvert_exporter": "python",
   "pygments_lexer": "ipython3",
   "version": "3.10.15"
  }
 },
 "nbformat": 4,
 "nbformat_minor": 2
}
