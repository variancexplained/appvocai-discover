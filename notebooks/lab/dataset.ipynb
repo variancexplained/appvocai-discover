{
 "cells": [
  {
   "cell_type": "markdown",
   "metadata": {},
   "source": [
    "# Dataset Lab"
   ]
  },
  {
   "cell_type": "code",
   "execution_count": 1,
   "metadata": {},
   "outputs": [],
   "source": [
    "import os\n",
    "import pandas as pd\n",
    "from discover.infra.utils.file.io import IOService\n",
    "\n",
    "pd.set_option(\"display.max_columns\", 999)\n",
    "pd.set_option(\"display.max_colwidth\", None)\n",
    "pd.set_option(\"display.max_rows\", 999)"
   ]
  },
  {
   "cell_type": "code",
   "execution_count": 2,
   "metadata": {},
   "outputs": [
    {
     "name": "stdout",
     "output_type": "stream",
     "text": [
      "<class 'pandas.core.frame.DataFrame'>\n",
      "RangeIndex: 8670 entries, 0 to 8669\n",
      "Data columns (total 36 columns):\n",
      " #   Column                                   Non-Null Count  Dtype         \n",
      "---  ------                                   --------------  -----         \n",
      " 0   id                                       8670 non-null   object        \n",
      " 1   app_id                                   8670 non-null   object        \n",
      " 2   app_name                                 8670 non-null   object        \n",
      " 3   category_id                              8670 non-null   object        \n",
      " 4   author                                   8670 non-null   object        \n",
      " 5   rating                                   8670 non-null   int16         \n",
      " 6   content                                  8670 non-null   object        \n",
      " 7   vote_sum                                 8670 non-null   int64         \n",
      " 8   vote_count                               8670 non-null   int64         \n",
      " 9   date                                     8670 non-null   datetime64[us]\n",
      " 10  review_length                            8670 non-null   int64         \n",
      " 11  pa_perplexity                            8468 non-null   float64       \n",
      " 12  sa_sentiment                             8670 non-null   object        \n",
      " 13  dqd_contains_url                         8670 non-null   bool          \n",
      " 14  dqd_contains_email                       8670 non-null   bool          \n",
      " 15  dqd_contains_phone                       8670 non-null   bool          \n",
      " 16  dqd_contains_ctrl_chars                  8670 non-null   bool          \n",
      " 17  dqd_contains_accents                     8670 non-null   bool          \n",
      " 18  dqd_contains_html_chars                  8670 non-null   bool          \n",
      " 19  dqd_contains_excess_whitespace           8670 non-null   bool          \n",
      " 20  dqd_contains_non_english_app_name        8670 non-null   bool          \n",
      " 21  dqd_contains_non_english_text            8670 non-null   bool          \n",
      " 22  dqd_contains_excess_special_chars        8670 non-null   bool          \n",
      " 23  dqd_duplicate_row                        8670 non-null   bool          \n",
      " 24  dqd_duplicate_review_id                  8670 non-null   bool          \n",
      " 25  dqd_duplicate_review                     8670 non-null   bool          \n",
      " 26  dqd_contains_elongation                  8670 non-null   bool          \n",
      " 27  dqd_contains_non_ascii_chars             8670 non-null   bool          \n",
      " 28  dqd_contains_excess_sequence_repetition  8670 non-null   bool          \n",
      " 29  dqd_excess_word_repetition               8670 non-null   bool          \n",
      " 30  dqd_excess_phrase_repetition             8670 non-null   bool          \n",
      " 31  dqd_low_perplexity                       8670 non-null   bool          \n",
      " 32  dqd_short_review                         8670 non-null   bool          \n",
      " 33  dqd_invalid_category                     8670 non-null   bool          \n",
      " 34  dqd_invalid_rating                       8670 non-null   bool          \n",
      " 35  category                                 8670 non-null   category      \n",
      "dtypes: bool(22), category(1), datetime64[us](1), float64(1), int16(1), int64(3), object(7)\n",
      "memory usage: 1.0+ MB\n"
     ]
    }
   ],
   "source": [
    "fp = \"workspace/test/dataset/01_dataprep/appvocai_discover-01_dataprep-04_dqd-review-dataset.parquet\"\n",
    "df = IOService.read(fp)\n",
    "df.info()"
   ]
  },
  {
   "cell_type": "code",
   "execution_count": 3,
   "metadata": {},
   "outputs": [
    {
     "data": {
      "text/plain": [
       "['Book',\n",
       " 'Business',\n",
       " 'Education',\n",
       " 'Entertainment',\n",
       " 'Finance',\n",
       " 'Food & Drink',\n",
       " 'Health & Fitness',\n",
       " 'Lifestyle',\n",
       " 'Medical',\n",
       " 'Photo & Video',\n",
       " 'Productivity',\n",
       " 'Reference',\n",
       " 'Social Networking',\n",
       " 'Utilities']"
      ]
     },
     "execution_count": 3,
     "metadata": {},
     "output_type": "execute_result"
    }
   ],
   "source": [
    "df[\"category\"].unique().tolist()"
   ]
  }
 ],
 "metadata": {
  "kernelspec": {
   "display_name": "appvocai",
   "language": "python",
   "name": "python3"
  },
  "language_info": {
   "codemirror_mode": {
    "name": "ipython",
    "version": 3
   },
   "file_extension": ".py",
   "mimetype": "text/x-python",
   "name": "python",
   "nbconvert_exporter": "python",
   "pygments_lexer": "ipython3",
   "version": "3.10.15"
  }
 },
 "nbformat": 4,
 "nbformat_minor": 2
}
