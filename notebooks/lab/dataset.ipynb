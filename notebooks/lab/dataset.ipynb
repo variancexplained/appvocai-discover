{
 "cells": [
  {
   "cell_type": "markdown",
   "metadata": {},
   "source": [
    "# Dataset Lab"
   ]
  },
  {
   "cell_type": "code",
   "execution_count": 1,
   "metadata": {},
   "outputs": [
    {
     "data": {
      "text/plain": [
       "'2.2.2'"
      ]
     },
     "execution_count": 1,
     "metadata": {},
     "output_type": "execute_result"
    }
   ],
   "source": [
    "import pandas as pd\n",
    "from genailab.infra.utils.file.io import IOService\n",
    "\n",
    "\n",
    "pd.set_option(\"display.max_columns\", 999)\n",
    "pd.set_option(\"display.max_colwidth\", None)\n",
    "pd.set_option(\"display.max_rows\", 999)\n",
    "pd.__version__"
   ]
  },
  {
   "cell_type": "code",
   "execution_count": 3,
   "metadata": {},
   "outputs": [
    {
     "name": "stdout",
     "output_type": "stream",
     "text": [
      "<class 'pandas.core.frame.DataFrame'>\n",
      "Index: 86705 entries, 11786863 to 13276372\n",
      "Data columns (total 11 columns):\n",
      " #   Column       Non-Null Count  Dtype         \n",
      "---  ------       --------------  -----         \n",
      " 0   id           86705 non-null  string        \n",
      " 1   app_id       86705 non-null  string        \n",
      " 2   app_name     86705 non-null  string        \n",
      " 3   category_id  86705 non-null  object        \n",
      " 4   author       86705 non-null  object        \n",
      " 5   rating       86705 non-null  float64       \n",
      " 6   content      86705 non-null  string        \n",
      " 7   vote_sum     86705 non-null  Int64         \n",
      " 8   vote_count   86705 non-null  Int64         \n",
      " 9   date         86705 non-null  datetime64[us]\n",
      " 10  category     86705 non-null  category      \n",
      "dtypes: Int64(2), category(1), datetime64[us](1), float64(1), object(2), string(4)\n",
      "memory usage: 7.5+ MB\n"
     ]
    }
   ],
   "source": [
    "fp = \"data/stage/dev/reviews\"\n",
    "df = IOService.read(fp)\n",
    "df.info()"
   ]
  }
 ],
 "metadata": {
  "kernelspec": {
   "display_name": "genai-lab",
   "language": "python",
   "name": "python3"
  },
  "language_info": {
   "codemirror_mode": {
    "name": "ipython",
    "version": 3
   },
   "file_extension": ".py",
   "mimetype": "text/x-python",
   "name": "python",
   "nbconvert_exporter": "python",
   "pygments_lexer": "ipython3",
   "version": "3.10.16"
  }
 },
 "nbformat": 4,
 "nbformat_minor": 2
}
