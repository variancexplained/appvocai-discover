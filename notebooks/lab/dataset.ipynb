{
 "cells": [
  {
   "cell_type": "markdown",
   "metadata": {},
   "source": [
    "# Dataset Lab"
   ]
  },
  {
   "cell_type": "code",
   "execution_count": 1,
   "metadata": {},
   "outputs": [],
   "source": [
    "from discover.infra.utils.file.io import IOService\n",
    "import pandas as pd\n",
    "from discover.infra.utils.data.dataframe import Optimizer\n",
    "\n",
    "pd.set_option(\"display.max_columns\", 999)\n",
    "pd.set_option(\"display.max_colwidth\", None)\n",
    "pd.set_option(\"display.max_rows\", 999)"
   ]
  },
  {
   "cell_type": "code",
   "execution_count": 3,
   "metadata": {},
   "outputs": [
    {
     "name": "stdout",
     "output_type": "stream",
     "text": [
      "<class 'pandas.core.frame.DataFrame'>\n",
      "RangeIndex: 86705 entries, 0 to 86704\n",
      "Data columns (total 13 columns):\n",
      " #   Column         Non-Null Count  Dtype         \n",
      "---  ------         --------------  -----         \n",
      " 0   id             86705 non-null  string        \n",
      " 1   app_id         86705 non-null  string        \n",
      " 2   app_name       86705 non-null  string        \n",
      " 3   category_id    86705 non-null  category      \n",
      " 4   author         86705 non-null  string        \n",
      " 5   rating         86705 non-null  int16         \n",
      " 6   content        86705 non-null  string        \n",
      " 7   vote_sum       86705 non-null  int64         \n",
      " 8   vote_count     86705 non-null  int64         \n",
      " 9   date           86705 non-null  datetime64[ms]\n",
      " 10  review_length  86705 non-null  int64         \n",
      " 11  dqp_sentiment  86705 non-null  object        \n",
      " 12  category       86705 non-null  category      \n",
      "dtypes: category(2), datetime64[ms](1), int16(1), int64(3), object(1), string(5)\n",
      "memory usage: 6.9+ MB\n"
     ]
    }
   ],
   "source": [
    "from datetime import datetime\n",
    "\n",
    "\n",
    "fp = \"workspace/dev/dataset/01_dataprep/appvocai_discover-01_dataprep-02_sentiment-review-dataset.parquet\"\n",
    "df = IOService.read(fp)\n",
    "df.info()"
   ]
  }
 ],
 "metadata": {
  "kernelspec": {
   "display_name": "appvocai",
   "language": "python",
   "name": "python3"
  },
  "language_info": {
   "codemirror_mode": {
    "name": "ipython",
    "version": 3
   },
   "file_extension": ".py",
   "mimetype": "text/x-python",
   "name": "python",
   "nbconvert_exporter": "python",
   "pygments_lexer": "ipython3",
   "version": "3.10.15"
  }
 },
 "nbformat": 4,
 "nbformat_minor": 2
}
