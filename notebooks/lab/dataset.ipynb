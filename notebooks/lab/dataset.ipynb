{
 "cells": [
  {
   "cell_type": "markdown",
   "metadata": {},
   "source": [
    "# Dataset Lab"
   ]
  },
  {
   "cell_type": "code",
   "execution_count": 1,
   "metadata": {},
   "outputs": [],
   "source": [
    "from discover.infra.storage.local.io import IOService"
   ]
  },
  {
   "cell_type": "code",
   "execution_count": 2,
   "metadata": {},
   "outputs": [
    {
     "name": "stdout",
     "output_type": "stream",
     "text": [
      "<class 'pandas.core.frame.DataFrame'>\n",
      "Index: 22165 entries, 773451 to 19552679\n",
      "Data columns (total 11 columns):\n",
      " #   Column       Non-Null Count  Dtype         \n",
      "---  ------       --------------  -----         \n",
      " 0   id           22165 non-null  string        \n",
      " 1   app_id       22165 non-null  string        \n",
      " 2   app_name     22165 non-null  string        \n",
      " 3   category_id  22165 non-null  category      \n",
      " 4   author       22165 non-null  string        \n",
      " 5   rating       22165 non-null  int16         \n",
      " 6   content      22165 non-null  string        \n",
      " 7   vote_sum     22165 non-null  int64         \n",
      " 8   vote_count   22165 non-null  int64         \n",
      " 9   date         22165 non-null  datetime64[ms]\n",
      " 10  category     22165 non-null  category      \n",
      "dtypes: category(2), datetime64[ms](1), int16(1), int64(2), string(5)\n",
      "memory usage: 1.6 MB\n"
     ]
    }
   ],
   "source": [
    "FP1 = \"workspace/test/00_dataprep/01_ingest/reviews\"\n",
    "FP2 = \"workspace/test/00_dataprep/01_ingest/reviews.parquet\"\n",
    "df = IOService.read(FP1)\n",
    "IOService.write(filepath=FP2, data=df)\n",
    "df.info()"
   ]
  }
 ],
 "metadata": {
  "kernelspec": {
   "display_name": "appvocai-discover",
   "language": "python",
   "name": "python3"
  },
  "language_info": {
   "codemirror_mode": {
    "name": "ipython",
    "version": 3
   },
   "file_extension": ".py",
   "mimetype": "text/x-python",
   "name": "python",
   "nbconvert_exporter": "python",
   "pygments_lexer": "ipython3",
   "version": "3.10.14"
  }
 },
 "nbformat": 4,
 "nbformat_minor": 2
}
