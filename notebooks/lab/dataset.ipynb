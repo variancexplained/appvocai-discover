{
 "cells": [
  {
   "cell_type": "markdown",
   "metadata": {},
   "source": [
    "# Dataset Lab"
   ]
  },
  {
   "cell_type": "code",
   "execution_count": 7,
   "metadata": {},
   "outputs": [],
   "source": [
    "from discover.infra.utils.file.io import IOService\n",
    "import pandas as pd\n",
    "from discover.infra.utils.data.dataframe import Optimizer\n",
    "\n",
    "pd.set_option(\"display.max_columns\", 999)\n",
    "pd.set_option(\"display.max_colwidth\", None)\n",
    "pd.set_option(\"display.max_rows\", 999)"
   ]
  },
  {
   "cell_type": "code",
   "execution_count": 9,
   "metadata": {},
   "outputs": [
    {
     "name": "stdout",
     "output_type": "stream",
     "text": [
      "<class 'pandas.core.frame.DataFrame'>\n",
      "RangeIndex: 86705 entries, 0 to 86704\n",
      "Data columns (total 84 columns):\n",
      " #   Column                             Non-Null Count  Dtype         \n",
      "---  ------                             --------------  -----         \n",
      " 0   id                                 86705 non-null  object        \n",
      " 1   app_id                             86705 non-null  object        \n",
      " 2   app_name                           86705 non-null  object        \n",
      " 3   category_id                        86705 non-null  object        \n",
      " 4   author                             86705 non-null  object        \n",
      " 5   rating                             86705 non-null  int16         \n",
      " 6   content                            86705 non-null  object        \n",
      " 7   vote_sum                           86705 non-null  int64         \n",
      " 8   vote_count                         86705 non-null  int64         \n",
      " 9   date                               86705 non-null  datetime64[us]\n",
      " 10  review_length                      86705 non-null  int64         \n",
      " 11  tqd_url                            86705 non-null  bool          \n",
      " 12  tqd_email                          86705 non-null  bool          \n",
      " 13  tqd_phone                          86705 non-null  bool          \n",
      " 14  tqd_ctrl_chars                     86705 non-null  bool          \n",
      " 15  tqd_accents                        86705 non-null  bool          \n",
      " 16  tqd_html_chars                     86705 non-null  bool          \n",
      " 17  tqd_excess_whitespace              86705 non-null  bool          \n",
      " 18  tqd_non_english_app_name           86705 non-null  bool          \n",
      " 19  tqd_non_english_text               86705 non-null  bool          \n",
      " 20  tqd_excess_special_chars           86705 non-null  bool          \n",
      " 21  tqd_duplicate_review_id            86705 non-null  bool          \n",
      " 22  tqd_elongation                     86705 non-null  bool          \n",
      " 23  tqd_non_ascii_chars                86705 non-null  bool          \n",
      " 24  tqd_review_length_outlier          86705 non-null  bool          \n",
      " 25  tqd_short_review                   86705 non-null  bool          \n",
      " 26  pos_n_nouns                        86705 non-null  int32         \n",
      " 27  pos_n_verbs                        86705 non-null  int32         \n",
      " 28  pos_n_adjectives                   86705 non-null  int32         \n",
      " 29  pos_n_adverbs                      86705 non-null  int32         \n",
      " 30  pos_n_determiners                  86705 non-null  int32         \n",
      " 31  pos_p_nouns                        86705 non-null  float64       \n",
      " 32  pos_p_verbs                        86705 non-null  float64       \n",
      " 33  pos_p_adjectives                   86705 non-null  float64       \n",
      " 34  pos_p_adverbs                      86705 non-null  float64       \n",
      " 35  pos_p_determiners                  86705 non-null  float64       \n",
      " 36  stats_char_count                   86705 non-null  int32         \n",
      " 37  stats_digits_count                 86705 non-null  int32         \n",
      " 38  stats_digits_proportion            86705 non-null  float64       \n",
      " 39  stats_special_chars_count          86705 non-null  int32         \n",
      " 40  stats_special_chars_proportion     86705 non-null  float64       \n",
      " 41  stats_punctuation_count            86705 non-null  int32         \n",
      " 42  stats_punctuation_proportion       86705 non-null  float64       \n",
      " 43  stats_word_count                   86705 non-null  int32         \n",
      " 44  stats_unique_word_count            86705 non-null  int32         \n",
      " 45  stats_unique_word_proportion       86705 non-null  float64       \n",
      " 46  stats_word_repetition_ratio        86705 non-null  float64       \n",
      " 47  stats_word_length_min              86705 non-null  int32         \n",
      " 48  stats_word_length_max              86705 non-null  int32         \n",
      " 49  stats_word_length_mean             86705 non-null  float64       \n",
      " 50  stats_word_length_std              86705 non-null  float64       \n",
      " 51  tqf_has_adjective                  86705 non-null  bool          \n",
      " 52  tqf_has_adverb                     86705 non-null  bool          \n",
      " 53  tqf_has_determiner                 86705 non-null  bool          \n",
      " 54  tqf_has_noun                       86705 non-null  bool          \n",
      " 55  tqf_has_terminal_punctuation       86705 non-null  bool          \n",
      " 56  tqf_has_verb                       86705 non-null  bool          \n",
      " 57  tqf_high_special_chars_ratio       86705 non-null  bool          \n",
      " 58  tqf_high_punctuation_ratio         86705 non-null  bool          \n",
      " 59  tqf_word_count_range               86705 non-null  bool          \n",
      " 60  tqf_stop_word_match                86705 non-null  bool          \n",
      " 61  tqf_first_letter_cap               86705 non-null  bool          \n",
      " 62  tqf_no_all_caps                    86705 non-null  bool          \n",
      " 63  tqf_high_word_repetition           86705 non-null  bool          \n",
      " 64  tqf_no_special_chars               86705 non-null  bool          \n",
      " 65  tqm_pos_count_score                86705 non-null  float64       \n",
      " 66  tqm_pos_diversity_score            86705 non-null  float32       \n",
      " 67  tqm_structural_complexity_score    86705 non-null  float32       \n",
      " 68  tqm_pos_intensity_score            86705 non-null  float32       \n",
      " 69  tqm_tqa_check_score                86705 non-null  float32       \n",
      " 70  tqa_syntactic_score                86705 non-null  float64       \n",
      " 71  tqa_perplexity_score               86705 non-null  float64       \n",
      " 72  tqa_score                          86705 non-null  float64       \n",
      " 73  quant_sentiment_score              86705 non-null  float64       \n",
      " 74  quant_sentiment_class              86705 non-null  object        \n",
      " 75  quant_review_age                   86705 non-null  int32         \n",
      " 76  quant_review_month                 86705 non-null  int32         \n",
      " 77  quant_review_day_of_week           86705 non-null  int32         \n",
      " 78  quant_review_hour                  86705 non-null  int32         \n",
      " 79  quant_pct_deviation_rating         86705 non-null  float64       \n",
      " 80  quant_pct_deviation_review_length  86705 non-null  float64       \n",
      " 81  quant_pct_deviation_sentiment      86705 non-null  float64       \n",
      " 82  quant_pct_deviation_tqa_score      86705 non-null  float64       \n",
      " 83  category                           86705 non-null  category      \n",
      "dtypes: bool(29), category(1), datetime64[us](1), float32(4), float64(21), int16(1), int32(17), int64(3), object(7)\n",
      "memory usage: 30.8+ MB\n"
     ]
    }
   ],
   "source": [
    "from datetime import datetime\n",
    "\n",
    "\n",
    "fp = \"workspace/dev/dataset/01_dataprep/appvocai_discover-01_dataprep-05_quant-review-dataset.parquet\"\n",
    "df = IOService.read(fp)\n",
    "df.info()"
   ]
  }
 ],
 "metadata": {
  "kernelspec": {
   "display_name": "appvocai",
   "language": "python",
   "name": "python3"
  },
  "language_info": {
   "codemirror_mode": {
    "name": "ipython",
    "version": 3
   },
   "file_extension": ".py",
   "mimetype": "text/x-python",
   "name": "python",
   "nbconvert_exporter": "python",
   "pygments_lexer": "ipython3",
   "version": "3.10.15"
  }
 },
 "nbformat": 4,
 "nbformat_minor": 2
}
