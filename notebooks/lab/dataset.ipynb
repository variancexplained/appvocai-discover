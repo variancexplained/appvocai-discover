{
 "cells": [
  {
   "cell_type": "markdown",
   "metadata": {},
   "source": [
    "# Dataset Lab"
   ]
  },
  {
   "cell_type": "code",
   "execution_count": 3,
   "metadata": {},
   "outputs": [],
   "source": [
    "from appvocai-discover.utils.file import IOService\n",
    "import pandas as pd\n",
    "pd.options.display.max_rows = 100"
   ]
  },
  {
   "cell_type": "code",
   "execution_count": 4,
   "metadata": {},
   "outputs": [
    {
     "name": "stdout",
     "output_type": "stream",
     "text": [
      "<class 'pandas.core.frame.DataFrame'>\n",
      "RangeIndex: 221666 entries, 0 to 221665\n",
      "Data columns (total 27 columns):\n",
      " #   Column                           Non-Null Count   Dtype         \n",
      "---  ------                           --------------   -----         \n",
      " 0   id                               221666 non-null  string        \n",
      " 1   index                            221666 non-null  int64         \n",
      " 2   app_id                           221666 non-null  string        \n",
      " 3   app_name                         221666 non-null  string        \n",
      " 4   category_id                      221666 non-null  category      \n",
      " 5   author                           221666 non-null  string        \n",
      " 6   rating                           221666 non-null  int16         \n",
      " 7   content                          221666 non-null  string        \n",
      " 8   vote_sum                         221666 non-null  int64         \n",
      " 9   vote_count                       221666 non-null  int64         \n",
      " 10  date                             221666 non-null  datetime64[ns]\n",
      " 11  dqa_is_duplicate                 221666 non-null  bool          \n",
      " 12  dqa_is_duplicate_review_id       221666 non-null  bool          \n",
      " 13  dqa_has_null_values              221666 non-null  bool          \n",
      " 14  dqa_vote_sum_outlier             221666 non-null  bool          \n",
      " 15  dqa_vote_count_outlier           221666 non-null  bool          \n",
      " 16  dqa_has_emojis                   221666 non-null  bool          \n",
      " 17  dqa_has_excessive_special_chars  221666 non-null  bool          \n",
      " 18  dqa_has_invalid_date             221666 non-null  bool          \n",
      " 19  dqa_has_invalid_rating           221666 non-null  bool          \n",
      " 20  dqa_contains_email               221666 non-null  bool          \n",
      " 21  dqa_contains_url                 221666 non-null  bool          \n",
      " 22  dqa_contains_phone_number        221666 non-null  bool          \n",
      " 23  dqa_has_non_english_review       221666 non-null  bool          \n",
      " 24  dqa_has_non_english_app_name     221666 non-null  bool          \n",
      " 25  dqa_has_profanity                221666 non-null  bool          \n",
      " 26  category                         221666 non-null  category      \n",
      "dtypes: bool(15), category(2), datetime64[ns](1), int16(1), int64(3), string(5)\n",
      "memory usage: 19.2 MB\n"
     ]
    }
   ],
   "source": [
    "FP = \"data/dev/02_dqa/reviews\"\n",
    "df = IOService.read(FP)\n",
    "df.info()"
   ]
  }
 ],
 "metadata": {
  "kernelspec": {
   "display_name": "appvocai-discover",
   "language": "python",
   "name": "python3"
  },
  "language_info": {
   "codemirror_mode": {
    "name": "ipython",
    "version": 3
   },
   "file_extension": ".py",
   "mimetype": "text/x-python",
   "name": "python",
   "nbconvert_exporter": "python",
   "pygments_lexer": "ipython3",
   "version": "3.10.14"
  }
 },
 "nbformat": 4,
 "nbformat_minor": 2
}
