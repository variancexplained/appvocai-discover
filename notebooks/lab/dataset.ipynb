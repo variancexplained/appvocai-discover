{
 "cells": [
  {
   "cell_type": "markdown",
   "metadata": {},
   "source": [
    "# Dataset Lab"
   ]
  },
  {
   "cell_type": "code",
   "execution_count": 1,
   "metadata": {},
   "outputs": [],
   "source": [
    "import os\n",
    "import pandas as pd\n",
    "from genailab.infra.utils.file.io import IOService\n",
    "from genailab.core.dtypes import DTYPES\n",
    "\n",
    "\n",
    "pd.set_option(\"display.max_columns\", 999)\n",
    "pd.set_option(\"display.max_colwidth\", None)\n",
    "pd.set_option(\"display.max_rows\", 999)"
   ]
  },
  {
   "cell_type": "code",
   "execution_count": 2,
   "metadata": {},
   "outputs": [],
   "source": [
    "fp1 = \"tests/data/dirty_reviews.csv\"\n",
    "fp2 = \"tests/data/dirty_reviews.parquet\"\n",
    "df1 = IOService.read(fp1)\n",
    "IOService.write(data=df1, filepath=fp2)"
   ]
  },
  {
   "cell_type": "code",
   "execution_count": 3,
   "metadata": {},
   "outputs": [
    {
     "name": "stdout",
     "output_type": "stream",
     "text": [
      "<class 'pandas.core.frame.DataFrame'>\n",
      "RangeIndex: 46 entries, 0 to 45\n",
      "Data columns (total 11 columns):\n",
      " #   Column       Non-Null Count  Dtype \n",
      "---  ------       --------------  ----- \n",
      " 0   id           46 non-null     int64 \n",
      " 1   app_id       46 non-null     int64 \n",
      " 2   app_name     46 non-null     object\n",
      " 3   category_id  46 non-null     int64 \n",
      " 4   author       46 non-null     object\n",
      " 5   rating       46 non-null     int64 \n",
      " 6   content      46 non-null     object\n",
      " 7   vote_sum     46 non-null     int64 \n",
      " 8   vote_count   46 non-null     int64 \n",
      " 9   date         46 non-null     object\n",
      " 10  category     46 non-null     object\n",
      "dtypes: int64(6), object(5)\n",
      "memory usage: 4.1+ KB\n"
     ]
    }
   ],
   "source": [
    "df1.info()"
   ]
  }
 ],
 "metadata": {
  "kernelspec": {
   "display_name": "appvocai",
   "language": "python",
   "name": "python3"
  },
  "language_info": {
   "codemirror_mode": {
    "name": "ipython",
    "version": 3
   },
   "file_extension": ".py",
   "mimetype": "text/x-python",
   "name": "python",
   "nbconvert_exporter": "python",
   "pygments_lexer": "ipython3",
   "version": "3.10.15"
  }
 },
 "nbformat": 4,
 "nbformat_minor": 2
}
