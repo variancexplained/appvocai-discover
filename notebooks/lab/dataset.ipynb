{
 "cells": [
  {
   "cell_type": "markdown",
   "metadata": {},
   "source": [
    "# Dataset Lab"
   ]
  },
  {
   "cell_type": "code",
   "execution_count": 7,
   "metadata": {},
   "outputs": [],
   "source": [
    "import os\n",
    "import pandas as pd\n",
    "from discover.infra.utils.file.io import IOService\n",
    "from discover.core.dtypes import DTYPES\n",
    "\n",
    "\n",
    "pd.set_option(\"display.max_columns\", 999)\n",
    "pd.set_option(\"display.max_colwidth\", None)\n",
    "pd.set_option(\"display.max_rows\", 999)"
   ]
  },
  {
   "cell_type": "code",
   "execution_count": 8,
   "metadata": {},
   "outputs": [],
   "source": [
    "fp1 = \"data/stage/test/reviews\"\n",
    "fp2 = \"workspace/test/files/dataprep/dataset/dataset_reviews_v1.1.106.parquet\"\n",
    "df1 = IOService.read(fp1)\n",
    "df2 = IOService.read(fp2)"
   ]
  },
  {
   "cell_type": "code",
   "execution_count": 9,
   "metadata": {},
   "outputs": [
    {
     "name": "stdout",
     "output_type": "stream",
     "text": [
      "<class 'pandas.core.frame.DataFrame'>\n",
      "Index: 8670 entries, 8839229 to 1597121\n",
      "Data columns (total 11 columns):\n",
      " #   Column       Non-Null Count  Dtype         \n",
      "---  ------       --------------  -----         \n",
      " 0   id           8670 non-null   string        \n",
      " 1   app_id       8670 non-null   string        \n",
      " 2   app_name     8670 non-null   string        \n",
      " 3   category_id  8670 non-null   object        \n",
      " 4   author       8670 non-null   object        \n",
      " 5   rating       8670 non-null   float64       \n",
      " 6   content      8670 non-null   string        \n",
      " 7   vote_sum     8670 non-null   Int64         \n",
      " 8   vote_count   8670 non-null   Int64         \n",
      " 9   date         8670 non-null   datetime64[us]\n",
      " 10  category     8670 non-null   category      \n",
      "dtypes: Int64(2), category(1), datetime64[us](1), float64(1), object(2), string(4)\n",
      "memory usage: 771.1+ KB\n"
     ]
    }
   ],
   "source": [
    "df1.info()"
   ]
  },
  {
   "cell_type": "code",
   "execution_count": 10,
   "metadata": {},
   "outputs": [
    {
     "name": "stdout",
     "output_type": "stream",
     "text": [
      "<class 'pandas.core.frame.DataFrame'>\n",
      "RangeIndex: 8670 entries, 0 to 8669\n",
      "Data columns (total 11 columns):\n",
      " #   Column       Non-Null Count  Dtype         \n",
      "---  ------       --------------  -----         \n",
      " 0   id           8670 non-null   string        \n",
      " 1   app_id       8670 non-null   string        \n",
      " 2   app_name     8670 non-null   string        \n",
      " 3   category_id  8670 non-null   category      \n",
      " 4   author       8670 non-null   string        \n",
      " 5   rating       8670 non-null   int16         \n",
      " 6   content      8670 non-null   string        \n",
      " 7   vote_sum     8670 non-null   int64         \n",
      " 8   vote_count   8670 non-null   int64         \n",
      " 9   date         8670 non-null   datetime64[ms]\n",
      " 10  category     8670 non-null   category      \n",
      "dtypes: category(2), datetime64[ms](1), int16(1), int64(2), string(5)\n",
      "memory usage: 577.2 KB\n"
     ]
    }
   ],
   "source": [
    "df2.info()"
   ]
  }
 ],
 "metadata": {
  "kernelspec": {
   "display_name": "appvocai",
   "language": "python",
   "name": "python3"
  },
  "language_info": {
   "codemirror_mode": {
    "name": "ipython",
    "version": 3
   },
   "file_extension": ".py",
   "mimetype": "text/x-python",
   "name": "python",
   "nbconvert_exporter": "python",
   "pygments_lexer": "ipython3",
   "version": "3.10.15"
  }
 },
 "nbformat": 4,
 "nbformat_minor": 2
}
