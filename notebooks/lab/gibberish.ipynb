{
 "cells": [
  {
   "cell_type": "markdown",
   "metadata": {},
   "source": [
    "## Gibberish Analysis"
   ]
  },
  {
   "cell_type": "code",
   "execution_count": null,
   "metadata": {},
   "outputs": [],
   "source": [
    "import pandas as pd\n",
    "from discover.infra.utils.file.io import IOService\n",
    "\n",
    "pd.options.display.max_colwidth = None"
   ]
  },
  {
   "cell_type": "code",
   "execution_count": 8,
   "metadata": {},
   "outputs": [],
   "source": [
    "FP = \"models/gibberish/gibberish_dev.csv\""
   ]
  },
  {
   "cell_type": "code",
   "execution_count": null,
   "metadata": {},
   "outputs": [],
   "source": [
    "df = IOService.read(FP, lineterminator=\"\\n\")"
   ]
  },
  {
   "cell_type": "code",
   "execution_count": 10,
   "metadata": {},
   "outputs": [],
   "source": [
    "df[\"gibberish\"] = (\n",
    "    df[[\"clean\", \"mild_gibberish\", \"noise\", \"word_salad\"]].idxmax(\n",
    "        axis=1\n",
    "    )\n",
    "    != \"clean\"\n",
    ")"
   ]
  },
  {
   "cell_type": "code",
   "execution_count": null,
   "metadata": {},
   "outputs": [
    {
     "data": {
      "text/html": [
       "<div>\n",
       "<style scoped>\n",
       "    .dataframe tbody tr th:only-of-type {\n",
       "        vertical-align: middle;\n",
       "    }\n",
       "\n",
       "    .dataframe tbody tr th {\n",
       "        vertical-align: top;\n",
       "    }\n",
       "\n",
       "    .dataframe thead th {\n",
       "        text-align: right;\n",
       "    }\n",
       "</style>\n",
       "<table border=\"1\" class=\"dataframe\">\n",
       "  <thead>\n",
       "    <tr style=\"text-align: right;\">\n",
       "      <th></th>\n",
       "      <th>Unnamed: 0</th>\n",
       "      <th>id</th>\n",
       "      <th>content</th>\n",
       "      <th>clean</th>\n",
       "      <th>mild_gibberish</th>\n",
       "      <th>noise</th>\n",
       "      <th>word_salad</th>\n",
       "      <th>gibberish</th>\n",
       "    </tr>\n",
       "  </thead>\n",
       "  <tbody>\n",
       "    <tr>\n",
       "      <th>0</th>\n",
       "      <td>0</td>\n",
       "      <td>7274451735</td>\n",
       "      <td>I travel full time and have no room for printed books.  I am an avid reader and am amazed at the vast library of titles available on Libby.  The  added benefit of audio books, cookbooks and now magazines makes this the most valuable and indispensable app I have.</td>\n",
       "      <td>0.181951</td>\n",
       "      <td>0.814976</td>\n",
       "      <td>0.000670</td>\n",
       "      <td>0.002403</td>\n",
       "      <td>True</td>\n",
       "    </tr>\n",
       "    <tr>\n",
       "      <th>3</th>\n",
       "      <td>3</td>\n",
       "      <td>6215646730</td>\n",
       "      <td>P</td>\n",
       "      <td>0.299423</td>\n",
       "      <td>0.322935</td>\n",
       "      <td>0.162890</td>\n",
       "      <td>0.214752</td>\n",
       "      <td>True</td>\n",
       "    </tr>\n",
       "    <tr>\n",
       "      <th>10</th>\n",
       "      <td>10</td>\n",
       "      <td>7290511728</td>\n",
       "      <td>👍🏻</td>\n",
       "      <td>0.288839</td>\n",
       "      <td>0.314596</td>\n",
       "      <td>0.157907</td>\n",
       "      <td>0.238658</td>\n",
       "      <td>True</td>\n",
       "    </tr>\n",
       "    <tr>\n",
       "      <th>14</th>\n",
       "      <td>14</td>\n",
       "      <td>9252849338</td>\n",
       "      <td>Love the stories on the app, but have having to wait 6 hrs until I can read the next chapter after I finish the free chapters. Lately my app has been giving me problems, I have to swipe out of it so it can fully load. Then it takes a while for the chapter to load. I can’t make and comments, couldn’t put emojis before these problems either. Once I’m done with the chapter and press next, it shows it’s loading again. I have to swipe out of the app again just so I can go back into the book to press next for the 6 hr wait. Update: ever since the new update of the app, commenting and using emojis have been a breeze. But now the app won’t even load sometimes. I end up having to delete the app altogether and re-downloading just to read more chapters.</td>\n",
       "      <td>0.497203</td>\n",
       "      <td>0.500071</td>\n",
       "      <td>0.000604</td>\n",
       "      <td>0.002123</td>\n",
       "      <td>True</td>\n",
       "    </tr>\n",
       "    <tr>\n",
       "      <th>20</th>\n",
       "      <td>20</td>\n",
       "      <td>8262504355</td>\n",
       "      <td>- Cập nhật rất nhiều lần mà vẫn lỗi. Nhiều khi muốn nghe mà không nghe nổi.  - Khá nhiều tựa sách nhưng mới chỉ là ebook. Cần nhiều sách nói hơn nữa.</td>\n",
       "      <td>0.008005</td>\n",
       "      <td>0.015740</td>\n",
       "      <td>0.964077</td>\n",
       "      <td>0.012177</td>\n",
       "      <td>True</td>\n",
       "    </tr>\n",
       "  </tbody>\n",
       "</table>\n",
       "</div>"
      ],
      "text/plain": [
       "    Unnamed: 0          id  \\\n",
       "0            0  7274451735   \n",
       "3            3  6215646730   \n",
       "10          10  7290511728   \n",
       "14          14  9252849338   \n",
       "20          20  8262504355   \n",
       "\n",
       "                                                                                                                                                                                                                                                                                                                                                                                                                                                                                                                                                                                                                                                                                                                                                                             content  \\\n",
       "0                                                                                                                                                                                                                                                                                                                                                                                                                                                                                                             I travel full time and have no room for printed books.  I am an avid reader and am amazed at the vast library of titles available on Libby.  The  added benefit of audio books, cookbooks and now magazines makes this the most valuable and indispensable app I have.   \n",
       "3                                                                                                                                                                                                                                                                                                                                                                                                                                                                                                                                                                                                                                                                                                                                                                                  P   \n",
       "10                                                                                                                                                                                                                                                                                                                                                                                                                                                                                                                                                                                                                                                                                                                                                                                👍🏻   \n",
       "14  Love the stories on the app, but have having to wait 6 hrs until I can read the next chapter after I finish the free chapters. Lately my app has been giving me problems, I have to swipe out of it so it can fully load. Then it takes a while for the chapter to load. I can’t make and comments, couldn’t put emojis before these problems either. Once I’m done with the chapter and press next, it shows it’s loading again. I have to swipe out of the app again just so I can go back into the book to press next for the 6 hr wait. Update: ever since the new update of the app, commenting and using emojis have been a breeze. But now the app won’t even load sometimes. I end up having to delete the app altogether and re-downloading just to read more chapters.   \n",
       "20                                                                                                                                                                                                                                                                                                                                                                                                                                                                                                                                                                                                                             - Cập nhật rất nhiều lần mà vẫn lỗi. Nhiều khi muốn nghe mà không nghe nổi.  - Khá nhiều tựa sách nhưng mới chỉ là ebook. Cần nhiều sách nói hơn nữa.   \n",
       "\n",
       "    clean  mild_gibberish  noise  word_salad  gibberish  \n",
       "0    0.181951            0.814976   0.000670        0.002403           True  \n",
       "3    0.299423            0.322935   0.162890        0.214752           True  \n",
       "10   0.288839            0.314596   0.157907        0.238658           True  \n",
       "14   0.497203            0.500071   0.000604        0.002123           True  \n",
       "20   0.008005            0.015740   0.964077        0.012177           True  "
      ]
     },
     "execution_count": 12,
     "metadata": {},
     "output_type": "execute_result"
    }
   ],
   "source": [
    "df.loc[df[\"gibberish\"]].head()"
   ]
  }
 ],
 "metadata": {
  "kernelspec": {
   "display_name": "appvocai",
   "language": "python",
   "name": "python3"
  },
  "language_info": {
   "codemirror_mode": {
    "name": "ipython",
    "version": 3
   },
   "file_extension": ".py",
   "mimetype": "text/x-python",
   "name": "python",
   "nbconvert_exporter": "python",
   "pygments_lexer": "ipython3",
   "version": "3.10.15"
  }
 },
 "nbformat": 4,
 "nbformat_minor": 2
}
