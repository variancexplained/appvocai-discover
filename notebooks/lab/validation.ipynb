{
 "cells": [
  {
   "cell_type": "markdown",
   "metadata": {},
   "source": [
    "# Validation Exception Lab"
   ]
  },
  {
   "cell_type": "code",
   "execution_count": 1,
   "metadata": {},
   "outputs": [],
   "source": [
    "from discover.dynamics.data_prep.norm.validation_test import Example"
   ]
  },
  {
   "cell_type": "code",
   "execution_count": 2,
   "metadata": {},
   "outputs": [
    {
     "name": "stderr",
     "output_type": "stream",
     "text": [
      "ERROR:root:\n",
      "Module: discover.dynamics.data_prep.norm.validation_test\n",
      "Class Name: Example\n",
      "Method Name: validate\n",
      "Validation Errors:\n",
      "Field 'name' cannot be empty\n",
      "Field 'age' must be a positive integer\n"
     ]
    },
    {
     "ename": "ValidationError",
     "evalue": "\nModule: discover.dynamics.data_prep.norm.validation_test\nClass Name: Example\nMethod Name: validate\nValidation Errors:\nField 'name' cannot be empty\nField 'age' must be a positive integer",
     "output_type": "error",
     "traceback": [
      "\u001b[0;31m---------------------------------------------------------------------------\u001b[0m",
      "\u001b[0;31mValidationError\u001b[0m                           Traceback (most recent call last)",
      "Cell \u001b[0;32mIn[2], line 2\u001b[0m\n\u001b[1;32m      1\u001b[0m e \u001b[38;5;241m=\u001b[39m Example()\n\u001b[0;32m----> 2\u001b[0m \u001b[43me\u001b[49m\u001b[38;5;241;43m.\u001b[39;49m\u001b[43mvalidate\u001b[49m\u001b[43m(\u001b[49m\u001b[43m)\u001b[49m\n",
      "File \u001b[0;32m~/projects/appvocai-discover/discover/dynamics/data_prep/norm/validation_test.py:28\u001b[0m, in \u001b[0;36mExample.validate\u001b[0;34m(self)\u001b[0m\n\u001b[1;32m     26\u001b[0m error\u001b[38;5;241m.\u001b[39madd_error(\u001b[38;5;124m\"\u001b[39m\u001b[38;5;124mField \u001b[39m\u001b[38;5;124m'\u001b[39m\u001b[38;5;124mname\u001b[39m\u001b[38;5;124m'\u001b[39m\u001b[38;5;124m cannot be empty\u001b[39m\u001b[38;5;124m\"\u001b[39m)\n\u001b[1;32m     27\u001b[0m error\u001b[38;5;241m.\u001b[39madd_error(\u001b[38;5;124m\"\u001b[39m\u001b[38;5;124mField \u001b[39m\u001b[38;5;124m'\u001b[39m\u001b[38;5;124mage\u001b[39m\u001b[38;5;124m'\u001b[39m\u001b[38;5;124m must be a positive integer\u001b[39m\u001b[38;5;124m\"\u001b[39m)\n\u001b[0;32m---> 28\u001b[0m \u001b[43merror\u001b[49m\u001b[38;5;241;43m.\u001b[39;49m\u001b[43mlog_raise\u001b[49m\u001b[43m(\u001b[49m\u001b[43m)\u001b[49m\n",
      "File \u001b[0;32m~/projects/appvocai-discover/discover/core/validation.py:70\u001b[0m, in \u001b[0;36mValidationError.log_raise\u001b[0;34m(self)\u001b[0m\n\u001b[1;32m     68\u001b[0m \u001b[38;5;28;01mdel\u001b[39;00m caller_frame\n\u001b[1;32m     69\u001b[0m \u001b[38;5;66;03m# Raise the exception\u001b[39;00m\n\u001b[0;32m---> 70\u001b[0m \u001b[38;5;28;01mraise\u001b[39;00m \u001b[38;5;28mself\u001b[39m\n",
      "\u001b[0;31mValidationError\u001b[0m: \nModule: discover.dynamics.data_prep.norm.validation_test\nClass Name: Example\nMethod Name: validate\nValidation Errors:\nField 'name' cannot be empty\nField 'age' must be a positive integer"
     ]
    }
   ],
   "source": [
    "e = Example()\n",
    "e.validate()"
   ]
  }
 ],
 "metadata": {
  "kernelspec": {
   "display_name": "appvocai",
   "language": "python",
   "name": "python3"
  },
  "language_info": {
   "codemirror_mode": {
    "name": "ipython",
    "version": 3
   },
   "file_extension": ".py",
   "mimetype": "text/x-python",
   "name": "python",
   "nbconvert_exporter": "python",
   "pygments_lexer": "ipython3",
   "version": "3.10.14"
  }
 },
 "nbformat": 4,
 "nbformat_minor": 2
}
