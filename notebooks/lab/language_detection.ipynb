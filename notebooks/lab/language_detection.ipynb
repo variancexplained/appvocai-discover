{
 "cells": [
  {
   "cell_type": "code",
   "execution_count": 1,
   "metadata": {},
   "outputs": [
    {
     "name": "stdout",
     "output_type": "stream",
     "text": [
      "Collecting gcld3\n",
      "  Downloading gcld3-3.0.13.tar.gz (647 kB)\n",
      "\u001b[2K     \u001b[90m━━━━━━━━━━━━━━━━━━━━━━━━━━━━━━━━━━━━━━━\u001b[0m \u001b[32m647.8/647.8 kB\u001b[0m \u001b[31m1.9 MB/s\u001b[0m eta \u001b[36m0:00:00\u001b[0m00:01\u001b[0m00:01\u001b[0m\n",
      "\u001b[?25h  Preparing metadata (setup.py) ... \u001b[?25ldone\n",
      "\u001b[?25hBuilding wheels for collected packages: gcld3\n",
      "  Building wheel for gcld3 (setup.py) ... \u001b[?25ldone\n",
      "\u001b[?25h  Created wheel for gcld3: filename=gcld3-3.0.13-cp310-cp310-linux_x86_64.whl size=559758 sha256=0d3ccad3315dfc4ee3854249d90d56f8a4dcc343a5662c273c2c00570910efa6\n",
      "  Stored in directory: /home/john/.cache/pip/wheels/c2/11/e7/63c983a0b8506287ddd72b64db2a4d28f1e343eab85249a278\n",
      "Successfully built gcld3\n",
      "Installing collected packages: gcld3\n",
      "Successfully installed gcld3-3.0.13\n",
      "Detected language: en\n"
     ]
    }
   ],
   "source": [
    "!pip install gcld3\n",
    "import gcld3\n",
    "\n",
    "def detect_language_gcld3(text):\n",
    "    try:\n",
    "        detector = gcld3.NNetLanguageIdentifier(min_num_bytes=0, max_num_bytes=1000)\n",
    "        result = detector.FindLanguage(text=text)\n",
    "        lang_detected = result.language\n",
    "        return lang_detected\n",
    "    except Exception as e:\n",
    "        print(\"An error occurred:\", e)\n",
    "        return None\n",
    "\n",
    "sample_text = \"This text is written in English\"\n",
    "detected_language = detect_language_gcld3(sample_text)\n",
    "print(f\"Detected language: {detected_language}\")"
   ]
  }
 ],
 "metadata": {
  "kernelspec": {
   "display_name": "genailab",
   "language": "python",
   "name": "python3"
  },
  "language_info": {
   "codemirror_mode": {
    "name": "ipython",
    "version": 3
   },
   "file_extension": ".py",
   "mimetype": "text/x-python",
   "name": "python",
   "nbconvert_exporter": "python",
   "pygments_lexer": "ipython3",
   "version": "3.10.14"
  }
 },
 "nbformat": 4,
 "nbformat_minor": 2
}
