{
    "cells": [
        {
            "cell_type": "markdown",
            "metadata": {},
            "source": [
                "# AppVoCAI-Discover Sentiment Analysis: A Semi-Supervised Approach\n",
                "Our objective is to classify the sentiment of 18 million app reviews through an iterative, computationally efficient, and high-performing process. For this effort, we will be iteratively fine-tuning the Bertweet-Sentiment-Analysis model, a RoBERTa model trained on English tweets, and fine-tuned on the SemEval 2017 corpus of approximately 40k tweets {cite}`perez2021pysentimiento`. Our iterative procedure unfolds as follows:\n",
                "\n",
                "1. **Sample Reviews**: Obtain a random sampling of reviews from the reviews dataset. \n",
                "2. **Predict Pseudolabels**: Predict sentiment analysis labels for the sample using the model.\n",
                "3. **Select Predictions**: Select the most confident predictions and add them to the labeled dataset.\n",
                "4. **Fine-Tune Model**: Fine-tune the model on the labeled dataset.\n",
                "\n",
                "We repeat the above four steps until our labeled dataset size is large enough, or predictive performance has plateaued.  Finally, we use the fine-tuned model to predict labels for the entire reviews dataset; thereby, ensuring effective sentiment analysis across the extensive collection of app reviews."
            ]
        },
        {
            "cell_type": "code",
            "execution_count": 1,
            "metadata": {},
            "outputs": [
                {
                    "name": "stderr",
                    "output_type": "stream",
                    "text": [
                        "/home/john/anaconda3/envs/appvocai-discover/lib/python3.10/site-packages/tqdm/auto.py:21: TqdmWarning: IProgress not found. Please update jupyter and ipywidgets. See https://ipywidgets.readthedocs.io/en/stable/user_install.html\n",
                        "  from .autonotebook import tqdm as notebook_tqdm\n"
                    ]
                }
            ],
            "source": [
                "from appvocai-discover.app.sentiment import SentimentClassifierSelfTrained\n",
                "from appvocai-discover.app.config import SentimentClassifierTrainingConfig, SentimentClassifierDataManagerConfig, SentimentClassifierFineTuningConfig\n",
                "from appvocai-discover.callbacks.early_stop import EarlyStop\n",
                "from appvocai-discover.callbacks.stats import SessionStats\n",
                "from appvocai-discover.data.review import ReviewDataset"
            ]
        },
        {
            "cell_type": "code",
            "execution_count": 2,
            "metadata": {},
            "outputs": [],
            "source": [
                "BASE_MODEL = \"finiteautomata/bertweet-base-sentiment-analysis\"\n",
                "FILEPATH = \"data/02_exp/review.csv\""
            ]
        },
        {
            "cell_type": "markdown",
            "metadata": {},
            "source": [
                "## Configuration"
            ]
        },
        {
            "cell_type": "code",
            "execution_count": 3,
            "metadata": {},
            "outputs": [],
            "source": [
                "train_config = SentimentClassifierTrainingConfig()\n",
                "finetune_config = SentimentClassifierFineTuningConfig()\n",
                "datamanager_config = SentimentClassifierDataManagerConfig(dataset_size=0.01)\n",
                "callbacks = [EarlyStop(patience=3),SessionStats()]"
            ]
        },
        {
            "cell_type": "markdown",
            "metadata": {},
            "source": [
                "## Sentiment Classifier"
            ]
        },
        {
            "cell_type": "code",
            "execution_count": 4,
            "metadata": {},
            "outputs": [
                {
                    "name": "stderr",
                    "output_type": "stream",
                    "text": [
                        "/home/john/anaconda3/envs/appvocai-discover/lib/python3.10/site-packages/huggingface_hub/file_download.py:1132: FutureWarning: `resume_download` is deprecated and will be removed in version 1.0.0. Downloads always resume when possible. If you want to force a new download, use `force_download=True`.\n",
                        "  warnings.warn(\n",
                        "DEBUG:urllib3.connectionpool:Starting new HTTPS connection (1): huggingface.co:443\n",
                        "DEBUG:urllib3.connectionpool:https://huggingface.co:443 \"HEAD /finiteautomata/bertweet-base-sentiment-analysis/resolve/main/config.json HTTP/1.1\" 200 0\n",
                        "DEBUG:urllib3.connectionpool:Starting new HTTPS connection (1): huggingface.co:443\n",
                        "DEBUG:urllib3.connectionpool:https://huggingface.co:443 \"HEAD /finiteautomata/bertweet-base-sentiment-analysis/resolve/main/model.safetensors HTTP/1.1\" 404 0\n",
                        "DEBUG:urllib3.connectionpool:https://huggingface.co:443 \"HEAD /finiteautomata/bertweet-base-sentiment-analysis/resolve/main/tokenizer_config.json HTTP/1.1\" 200 0\n",
                        "DEBUG:urllib3.connectionpool:Starting new HTTPS connection (1): s3.amazonaws.com:443\n",
                        "DEBUG:urllib3.connectionpool:https://s3.amazonaws.com:443 \"HEAD /datasets.huggingface.co/datasets/metrics/evaluate-metric/accuracy/evaluate-metric/accuracy.py HTTP/1.1\" 404 0\n",
                        "DEBUG:urllib3.connectionpool:Starting new HTTPS connection (1): huggingface.co:443\n",
                        "DEBUG:urllib3.connectionpool:https://huggingface.co:443 \"HEAD /spaces/evaluate-metric/accuracy/resolve/v0.4.0/accuracy.py HTTP/1.1\" 200 0\n"
                    ]
                },
                {
                    "name": "stdout",
                    "output_type": "stream",
                    "text": [
                        "\n",
                        "Session for EarlyStop begun at 2024-05-07 22:32:56.466954\n",
                        "\n",
                        "Session for SessionStats begun at 2024-05-07 22:32:56.467129\n"
                    ]
                },
                {
                    "name": "stderr",
                    "output_type": "stream",
                    "text": [
                        "Map:   0%|          | 0/1831 [00:00<?, ? examples/s]INFO:SentimentClassifierSelfTrained:Predict method returning 183 predictions.\n",
                        "DEBUG:SentimentClassifierDataManager:Augmented 183 observations for a total labeled observations of 183\n",
                        "DEBUG:SentimentClassifierDataManager:          app_id category_id rating  \\\n",
                        "0 793,322,895.00        6013   5.00   \n",
                        "1 720,796,332.00        6013   4.00   \n",
                        "2 578,068,250.00        6013   5.00   \n",
                        "3 426,826,309.00        6013   5.00   \n",
                        "4 340,787,494.00        6005   4.00   \n",
                        "\n",
                        "                                             content __index_level_0__ label  \\\n",
                        "0  Love this tool, helped me to lose weight and g...            146520   POS   \n",
                        "1                                          Thumbs up             44233   POS   \n",
                        "2                  I absolutely love this! Great app            130425   POS   \n",
                        "3  You get to see what your friends are doing and...             35826   POS   \n",
                        "4                       Works great!!very helpful!!!             93165   POS   \n",
                        "\n",
                        "   score  \n",
                        "0   0.99  \n",
                        "1   0.91  \n",
                        "2   0.99  \n",
                        "3   0.97  \n",
                        "4   0.99  \n",
                        "INFO:SentimentClassifierDataManager:None\n",
                        "DEBUG:SentimentClassifierSelfTrained:Tokenized Datasets:\n",
                        "DatasetDict({\n",
                        "    train: Dataset({\n",
                        "        features: ['labels', 'input_ids', 'token_type_ids', 'attention_mask'],\n",
                        "        num_rows: 146\n",
                        "    })\n",
                        "    validation: Dataset({\n",
                        "        features: ['labels', 'input_ids', 'token_type_ids', 'attention_mask'],\n",
                        "        num_rows: 18\n",
                        "    })\n",
                        "    test: Dataset({\n",
                        "        features: ['labels', 'input_ids', 'token_type_ids', 'attention_mask'],\n",
                        "        num_rows: 19\n",
                        "    })\n",
                        "})\n"
                    ]
                },
                {
                    "name": "stdout",
                    "output_type": "stream",
                    "text": [
                        "\n",
                        "\n",
                        "                                      Tokenized Dataset Sizes                                       \n",
                        "                                             Train | 146\n",
                        "                                        Validation | 18\n",
                        "                                              Test | 19\n",
                        "\n",
                        "\n",
                        "\n",
                        "Training begun for EarlyStop begun at 2024-05-07 22:36:09.827122\n"
                    ]
                },
                {
                    "name": "stderr",
                    "output_type": "stream",
                    "text": [
                        "DEBUG:git.cmd:Popen(['git', 'version'], cwd=/home/john/projects/appvocai-discover, universal_newlines=False, shell=None, istream=None)\n",
                        "DEBUG:git.cmd:Popen(['git', 'version'], cwd=/home/john/projects/appvocai-discover, universal_newlines=False, shell=None, istream=None)\n",
                        "DEBUG:wandb.docker.auth:Trying paths: ['/home/john/.docker/config.json', '/home/john/.dockercfg']\n",
                        "DEBUG:wandb.docker.auth:Found file at path: /home/john/.docker/config.json\n",
                        "DEBUG:wandb.docker.auth:Found 'credsStore' section\n",
                        "INFO:SentimentClassifierSelfTrained:Training started on 146 observations.\n",
                        "ERROR:wandb.jupyter:Failed to detect the name of this notebook, you can set it manually with the WANDB_NOTEBOOK_NAME environment variable to enable code saving.\n",
                        "DEBUG:urllib3.connectionpool:Starting new HTTPS connection (1): api.wandb.ai:443\n",
                        "DEBUG:urllib3.connectionpool:https://api.wandb.ai:443 \"POST /graphql HTTP/1.1\" 200 1843\n",
                        "DEBUG:urllib3.connectionpool:https://api.wandb.ai:443 \"POST /graphql HTTP/1.1\" 200 364\n",
                        "\u001b[34m\u001b[1mwandb\u001b[0m: Currently logged in as: \u001b[33maistudio\u001b[0m. Use \u001b[1m`wandb login --relogin`\u001b[0m to force relogin\n",
                        "DEBUG:git.cmd:Popen(['git', 'cat-file', '--batch-check'], cwd=/home/john/projects/appvocai-discover, universal_newlines=False, shell=None, istream=<valid stream>)\n"
                    ]
                },
                {
                    "data": {
                        "text/html": [
                            "wandb version 0.17.0 is available!  To upgrade, please run:\n",
                            " $ pip install wandb --upgrade"
                        ],
                        "text/plain": [
                            "<IPython.core.display.HTML object>"
                        ]
                    },
                    "metadata": {},
                    "output_type": "display_data"
                },
                {
                    "data": {
                        "text/html": [
                            "Tracking run with wandb version 0.16.6"
                        ],
                        "text/plain": [
                            "<IPython.core.display.HTML object>"
                        ]
                    },
                    "metadata": {},
                    "output_type": "display_data"
                },
                {
                    "data": {
                        "text/html": [
                            "Run data is saved locally in <code>/home/john/projects/appvocai-discover/wandb/run-20240507_223612-af3omioa</code>"
                        ],
                        "text/plain": [
                            "<IPython.core.display.HTML object>"
                        ]
                    },
                    "metadata": {},
                    "output_type": "display_data"
                },
                {
                    "data": {
                        "text/html": [
                            "Syncing run <strong><a href='https://wandb.ai/aistudio/huggingface/runs/af3omioa' target=\"_blank\">NoneType</a></strong> to <a href='https://wandb.ai/aistudio/huggingface' target=\"_blank\">Weights & Biases</a> (<a href='https://wandb.me/run' target=\"_blank\">docs</a>)<br/>"
                        ],
                        "text/plain": [
                            "<IPython.core.display.HTML object>"
                        ]
                    },
                    "metadata": {},
                    "output_type": "display_data"
                },
                {
                    "data": {
                        "text/html": [
                            " View project at <a href='https://wandb.ai/aistudio/huggingface' target=\"_blank\">https://wandb.ai/aistudio/huggingface</a>"
                        ],
                        "text/plain": [
                            "<IPython.core.display.HTML object>"
                        ]
                    },
                    "metadata": {},
                    "output_type": "display_data"
                },
                {
                    "data": {
                        "text/html": [
                            " View run at <a href='https://wandb.ai/aistudio/huggingface/runs/af3omioa' target=\"_blank\">https://wandb.ai/aistudio/huggingface/runs/af3omioa</a>"
                        ],
                        "text/plain": [
                            "<IPython.core.display.HTML object>"
                        ]
                    },
                    "metadata": {},
                    "output_type": "display_data"
                },
                {
                    "data": {
                        "text/html": [
                            "\n",
                            "    <div>\n",
                            "      \n",
                            "      <progress value='15' max='15' style='width:300px; height:20px; vertical-align: middle;'></progress>\n",
                            "      [15/15 02:35, Epoch 3/3]\n",
                            "    </div>\n",
                            "    <table border=\"1\" class=\"dataframe\">\n",
                            "  <thead>\n",
                            " <tr style=\"text-align: left;\">\n",
                            "      <th>Epoch</th>\n",
                            "      <th>Training Loss</th>\n",
                            "      <th>Validation Loss</th>\n",
                            "      <th>Accuracy</th>\n",
                            "    </tr>\n",
                            "  </thead>\n",
                            "  <tbody>\n",
                            "    <tr>\n",
                            "      <td>1</td>\n",
                            "      <td>No log</td>\n",
                            "      <td>0.133287</td>\n",
                            "      <td>0.894737</td>\n",
                            "    </tr>\n",
                            "    <tr>\n",
                            "      <td>2</td>\n",
                            "      <td>No log</td>\n",
                            "      <td>0.159664</td>\n",
                            "      <td>0.947368</td>\n",
                            "    </tr>\n",
                            "    <tr>\n",
                            "      <td>3</td>\n",
                            "      <td>No log</td>\n",
                            "      <td>0.151955</td>\n",
                            "      <td>0.947368</td>\n",
                            "    </tr>\n",
                            "  </tbody>\n",
                            "</table><p>"
                        ],
                        "text/plain": [
                            "<IPython.core.display.HTML object>"
                        ]
                    },
                    "metadata": {},
                    "output_type": "display_data"
                },
                {
                    "name": "stderr",
                    "output_type": "stream",
                    "text": [
                        "DEBUG:fsspec.local:open file: /home/john/.cache/huggingface/metrics/accuracy/default/default_experiment-1-0.arrow\n",
                        "DEBUG:fsspec.local:open file: /home/john/.cache/huggingface/metrics/accuracy/default/default_experiment-1-0.arrow\n",
                        "DEBUG:fsspec.local:open file: /home/john/.cache/huggingface/metrics/accuracy/default/default_experiment-1-0.arrow\n",
                        "INFO:SentimentClassifierSelfTrained:Training complete\n"
                    ]
                },
                {
                    "data": {
                        "text/html": [
                            "\n",
                            "    <div>\n",
                            "      \n",
                            "      <progress value='7' max='5' style='width:300px; height:20px; vertical-align: middle;'></progress>\n",
                            "      [5/5 00:41]\n",
                            "    </div>\n",
                            "    "
                        ],
                        "text/plain": [
                            "<IPython.core.display.HTML object>"
                        ]
                    },
                    "metadata": {},
                    "output_type": "display_data"
                },
                {
                    "name": "stderr",
                    "output_type": "stream",
                    "text": [
                        "DEBUG:fsspec.local:open file: /home/john/.cache/huggingface/metrics/accuracy/default/default_experiment-1-0.arrow\n",
                        "DEBUG:fsspec.local:open file: /home/john/.cache/huggingface/metrics/accuracy/default/default_experiment-1-0.arrow\n",
                        "DEBUG:fsspec.local:open file: /home/john/.cache/huggingface/metrics/accuracy/default/default_experiment-1-0.arrow\n",
                        "DEBUG:SentimentClassifierSelfTrained:\n",
                        "None\n",
                        "DEBUG:SentimentClassifierSelfTrained:\n",
                        "{'train_loss': 0.04463806375861168, 'train_accuracy': 0.9863013698630136, 'train_runtime': 40.4053, 'train_samples_per_second': 3.613, 'train_steps_per_second': 0.124, 'epoch': 3.0, 'validation_loss': 0.02128441445529461, 'validation_accuracy': 1.0, 'validation_runtime': 5.2011, 'validation_samples_per_second': 3.461, 'validation_steps_per_second': 0.192, 'test_loss': 0.15195532143115997, 'test_accuracy': 0.9473684210526315, 'test_runtime': 5.4056, 'test_samples_per_second': 3.515, 'test_steps_per_second': 0.185}\n",
                        "DEBUG:SessionStats:None\n",
                        "Map:  10%|▉         | 183/1831 [06:44<1:00:40,  2.21s/ examples]"
                    ]
                },
                {
                    "name": "stdout",
                    "output_type": "stream",
                    "text": [
                        "\n",
                        "\n",
                        "                                               Scores                                               \n",
                        "                                        train_loss | 0.04463806375861168\n",
                        "                                    train_accuracy | 0.9863013698630136\n",
                        "                                     train_runtime | 40.4053\n",
                        "                          train_samples_per_second | 3.613\n",
                        "                            train_steps_per_second | 0.124\n",
                        "                                              poch | 3.0\n",
                        "                                   validation_loss | 0.02128441445529461\n",
                        "                               validation_accuracy | 1.0\n",
                        "                                validation_runtime | 5.2011\n",
                        "                     validation_samples_per_second | 3.461\n",
                        "                       validation_steps_per_second | 0.192\n",
                        "                                         test_loss | 0.15195532143115997\n",
                        "                                     test_accuracy | 0.9473684210526315\n",
                        "                                      test_runtime | 5.4056\n",
                        "                           test_samples_per_second | 3.515\n",
                        "                             test_steps_per_second | 0.185\n",
                        "\n",
                        "\n",
                        "\n",
                        "\n",
                        "                                 sentiment-analysis-lora-1831_v.13                                  \n",
                        "                                         iteration | 1\n",
                        "                                        model.name | sentiment-analysis-lora-1831_v.13\n",
                        "                                      dataset_size | 1831\n",
                        "                                              tart | 2024-05-07 22:36:09.827155\n",
                        "                                               top | 2024-05-07 22:39:55.237167\n",
                        "                                           runtime | 225.410012\n",
                        "                                    train_accuracy | 0.9863013698630136\n",
                        "                               validation_accuracy | 1.0\n",
                        "                                     test_accuracy | 0.9473684210526315\n",
                        "                                           overfit | 1.0410958904109588\n",
                        "\n",
                        "\n"
                    ]
                },
                {
                    "name": "stderr",
                    "output_type": "stream",
                    "text": [
                        "INFO:SentimentClassifierSelfTrained:Predict method returning 183 predictions.\n",
                        "DEBUG:SentimentClassifierDataManager:Augmented 183 observations for a total labeled observations of 366\n",
                        "DEBUG:SentimentClassifierDataManager:            app_id category_id rating  \\\n",
                        "0   363,590,051.00        6016   1.00   \n",
                        "1   511,376,996.00        6002   5.00   \n",
                        "2   314,498,713.00        6013   5.00   \n",
                        "3 1,324,048,797.00        6002   5.00   \n",
                        "4   291,890,420.00        6013   4.00   \n",
                        "\n",
                        "                                             content __index_level_0__ label  \\\n",
                        "0  I go to enter my log in information and I clic...             32268   NEU   \n",
                        "1  15 minute setup...and works flawlessly so far....            173747   POS   \n",
                        "2  I mix white noise with rain and it drowns out ...             99208   NEU   \n",
                        "3                                      Best app ever            174504   POS   \n",
                        "4  I'm a simple man. I can work my way around thi...            117343   POS   \n",
                        "\n",
                        "   score  \n",
                        "0   0.55  \n",
                        "1   1.00  \n",
                        "2   0.95  \n",
                        "3   1.00  \n",
                        "4   1.00  \n",
                        "INFO:SentimentClassifierDataManager:None\n",
                        "DEBUG:SentimentClassifierSelfTrained:Tokenized Datasets:\n",
                        "DatasetDict({\n",
                        "    train: Dataset({\n",
                        "        features: ['labels', 'input_ids', 'token_type_ids', 'attention_mask'],\n",
                        "        num_rows: 292\n",
                        "    })\n",
                        "    validation: Dataset({\n",
                        "        features: ['labels', 'input_ids', 'token_type_ids', 'attention_mask'],\n",
                        "        num_rows: 37\n",
                        "    })\n",
                        "    test: Dataset({\n",
                        "        features: ['labels', 'input_ids', 'token_type_ids', 'attention_mask'],\n",
                        "        num_rows: 37\n",
                        "    })\n",
                        "})\n",
                        "INFO:SentimentClassifierSelfTrained:Training started on 292 observations.\n"
                    ]
                },
                {
                    "name": "stdout",
                    "output_type": "stream",
                    "text": [
                        "\n",
                        "\n",
                        "                                      Tokenized Dataset Sizes                                       \n",
                        "                                             Train | 292\n",
                        "                                        Validation | 37\n",
                        "                                              Test | 37\n",
                        "\n",
                        "\n",
                        "\n",
                        "Training begun for EarlyStop begun at 2024-05-07 22:40:57.642988\n"
                    ]
                },
                {
                    "data": {
                        "text/html": [
                            "\n",
                            "    <div>\n",
                            "      \n",
                            "      <progress value='30' max='30' style='width:300px; height:20px; vertical-align: middle;'></progress>\n",
                            "      [30/30 05:42, Epoch 3/3]\n",
                            "    </div>\n",
                            "    <table border=\"1\" class=\"dataframe\">\n",
                            "  <thead>\n",
                            " <tr style=\"text-align: left;\">\n",
                            "      <th>Epoch</th>\n",
                            "      <th>Training Loss</th>\n",
                            "      <th>Validation Loss</th>\n",
                            "      <th>Accuracy</th>\n",
                            "    </tr>\n",
                            "  </thead>\n",
                            "  <tbody>\n",
                            "    <tr>\n",
                            "      <td>1</td>\n",
                            "      <td>No log</td>\n",
                            "      <td>0.053291</td>\n",
                            "      <td>0.972973</td>\n",
                            "    </tr>\n",
                            "    <tr>\n",
                            "      <td>2</td>\n",
                            "      <td>No log</td>\n",
                            "      <td>0.070934</td>\n",
                            "      <td>0.945946</td>\n",
                            "    </tr>\n",
                            "    <tr>\n",
                            "      <td>3</td>\n",
                            "      <td>No log</td>\n",
                            "      <td>0.135020</td>\n",
                            "      <td>0.945946</td>\n",
                            "    </tr>\n",
                            "  </tbody>\n",
                            "</table><p>"
                        ],
                        "text/plain": [
                            "<IPython.core.display.HTML object>"
                        ]
                    },
                    "metadata": {},
                    "output_type": "display_data"
                },
                {
                    "name": "stderr",
                    "output_type": "stream",
                    "text": [
                        "DEBUG:fsspec.local:open file: /home/john/.cache/huggingface/metrics/accuracy/default/default_experiment-1-0.arrow\n",
                        "DEBUG:fsspec.local:open file: /home/john/.cache/huggingface/metrics/accuracy/default/default_experiment-1-0.arrow\n",
                        "DEBUG:fsspec.local:open file: /home/john/.cache/huggingface/metrics/accuracy/default/default_experiment-1-0.arrow\n",
                        "INFO:SentimentClassifierSelfTrained:Training complete\n"
                    ]
                },
                {
                    "data": {
                        "text/html": [
                            "\n",
                            "    <div>\n",
                            "      \n",
                            "      <progress value='14' max='10' style='width:300px; height:20px; vertical-align: middle;'></progress>\n",
                            "      [10/10 01:27]\n",
                            "    </div>\n",
                            "    "
                        ],
                        "text/plain": [
                            "<IPython.core.display.HTML object>"
                        ]
                    },
                    "metadata": {},
                    "output_type": "display_data"
                },
                {
                    "name": "stderr",
                    "output_type": "stream",
                    "text": [
                        "DEBUG:fsspec.local:open file: /home/john/.cache/huggingface/metrics/accuracy/default/default_experiment-1-0.arrow\n",
                        "DEBUG:fsspec.local:open file: /home/john/.cache/huggingface/metrics/accuracy/default/default_experiment-1-0.arrow\n",
                        "DEBUG:fsspec.local:open file: /home/john/.cache/huggingface/metrics/accuracy/default/default_experiment-1-0.arrow\n",
                        "DEBUG:SentimentClassifierSelfTrained:\n",
                        "None\n",
                        "DEBUG:SentimentClassifierSelfTrained:\n",
                        "{'train_loss': 0.07690171152353287, 'train_accuracy': 0.958904109589041, 'train_runtime': 72.4725, 'train_samples_per_second': 4.029, 'train_steps_per_second': 0.138, 'epoch': 3.0, 'validation_loss': 0.06438413262367249, 'validation_accuracy': 0.972972972972973, 'validation_runtime': 10.7295, 'validation_samples_per_second': 3.448, 'validation_steps_per_second': 0.186, 'test_loss': 0.13501963019371033, 'test_accuracy': 0.9459459459459459, 'test_runtime': 11.277, 'test_samples_per_second': 3.281, 'test_steps_per_second': 0.177}\n",
                        "DEBUG:SessionStats:None\n",
                        "Map:  20%|█▉        | 366/1831 [15:15<1:02:22,  2.55s/ examples]"
                    ]
                },
                {
                    "name": "stdout",
                    "output_type": "stream",
                    "text": [
                        "\n",
                        "\n",
                        "                                               Scores                                               \n",
                        "                                        train_loss | 0.07690171152353287\n",
                        "                                    train_accuracy | 0.958904109589041\n",
                        "                                     train_runtime | 72.4725\n",
                        "                          train_samples_per_second | 4.029\n",
                        "                            train_steps_per_second | 0.138\n",
                        "                                              poch | 3.0\n",
                        "                                   validation_loss | 0.06438413262367249\n",
                        "                               validation_accuracy | 0.972972972972973\n",
                        "                                validation_runtime | 10.7295\n",
                        "                     validation_samples_per_second | 3.448\n",
                        "                       validation_steps_per_second | 0.186\n",
                        "                                         test_loss | 0.13501963019371033\n",
                        "                                     test_accuracy | 0.9459459459459459\n",
                        "                                      test_runtime | 11.277\n",
                        "                           test_samples_per_second | 3.281\n",
                        "                             test_steps_per_second | 0.177\n",
                        "\n",
                        "\n",
                        "\n",
                        "\n",
                        "                                 sentiment-analysis-lora-1831_v.13                                  \n",
                        "                                         iteration | 2\n",
                        "                                        model.name | sentiment-analysis-lora-1831_v.13\n",
                        "                                      dataset_size | 1831\n",
                        "                                              tart | 2024-05-07 22:40:57.643459\n",
                        "                                               top | 2024-05-07 22:48:26.927335\n",
                        "                                           runtime | 449.283876\n",
                        "                                    train_accuracy | 0.958904109589041\n",
                        "                               validation_accuracy | 0.972972972972973\n",
                        "                                     test_accuracy | 0.9459459459459459\n",
                        "                                           overfit | 1.0136986301369864\n",
                        "\n",
                        "\n"
                    ]
                },
                {
                    "name": "stderr",
                    "output_type": "stream",
                    "text": [
                        "INFO:SentimentClassifierSelfTrained:Predict method returning 183 predictions.\n",
                        "DEBUG:SentimentClassifierDataManager:Augmented 183 observations for a total labeled observations of 549\n",
                        "DEBUG:SentimentClassifierDataManager:            app_id category_id rating  \\\n",
                        "0   708,200,178.00        6002   5.00   \n",
                        "1   519,625,336.00        6018   5.00   \n",
                        "2 1,169,054,597.00        6013   1.00   \n",
                        "3   305,343,404.00        6005   5.00   \n",
                        "4 1,537,362,606.00        6002   1.00   \n",
                        "\n",
                        "                                             content __index_level_0__ label  \\\n",
                        "0                                                bad             60156   NEG   \n",
                        "1             Para estar. Cerca De Dios y su palabra             31711   NEU   \n",
                        "2  ... and then suddenly you can't add any foods ...            160043   NEG   \n",
                        "3  I'm another teenager addicted to the Internet ...             35092   POS   \n",
                        "4  Please don't try this!! It's a scam. How it wo...             84099   NEG   \n",
                        "\n",
                        "   score  \n",
                        "0   1.00  \n",
                        "1   1.00  \n",
                        "2   1.00  \n",
                        "3   0.98  \n",
                        "4   1.00  \n",
                        "INFO:SentimentClassifierDataManager:None\n",
                        "DEBUG:SentimentClassifierSelfTrained:Tokenized Datasets:\n",
                        "DatasetDict({\n",
                        "    train: Dataset({\n",
                        "        features: ['labels', 'input_ids', 'token_type_ids', 'attention_mask'],\n",
                        "        num_rows: 439\n",
                        "    })\n",
                        "    validation: Dataset({\n",
                        "        features: ['labels', 'input_ids', 'token_type_ids', 'attention_mask'],\n",
                        "        num_rows: 55\n",
                        "    })\n",
                        "    test: Dataset({\n",
                        "        features: ['labels', 'input_ids', 'token_type_ids', 'attention_mask'],\n",
                        "        num_rows: 55\n",
                        "    })\n",
                        "})\n",
                        "INFO:SentimentClassifierSelfTrained:Training started on 439 observations.\n"
                    ]
                },
                {
                    "name": "stdout",
                    "output_type": "stream",
                    "text": [
                        "\n",
                        "\n",
                        "                                      Tokenized Dataset Sizes                                       \n",
                        "                                             Train | 439\n",
                        "                                        Validation | 55\n",
                        "                                              Test | 55\n",
                        "\n",
                        "\n",
                        "\n",
                        "Training begun for EarlyStop begun at 2024-05-07 22:50:51.159542\n"
                    ]
                },
                {
                    "data": {
                        "text/html": [
                            "\n",
                            "    <div>\n",
                            "      \n",
                            "      <progress value='42' max='42' style='width:300px; height:20px; vertical-align: middle;'></progress>\n",
                            "      [42/42 04:22, Epoch 3/3]\n",
                            "    </div>\n",
                            "    <table border=\"1\" class=\"dataframe\">\n",
                            "  <thead>\n",
                            " <tr style=\"text-align: left;\">\n",
                            "      <th>Epoch</th>\n",
                            "      <th>Training Loss</th>\n",
                            "      <th>Validation Loss</th>\n",
                            "      <th>Accuracy</th>\n",
                            "    </tr>\n",
                            "  </thead>\n",
                            "  <tbody>\n",
                            "    <tr>\n",
                            "      <td>1</td>\n",
                            "      <td>No log</td>\n",
                            "      <td>0.044249</td>\n",
                            "      <td>0.981818</td>\n",
                            "    </tr>\n",
                            "    <tr>\n",
                            "      <td>2</td>\n",
                            "      <td>No log</td>\n",
                            "      <td>0.053799</td>\n",
                            "      <td>0.963636</td>\n",
                            "    </tr>\n",
                            "    <tr>\n",
                            "      <td>3</td>\n",
                            "      <td>No log</td>\n",
                            "      <td>0.052516</td>\n",
                            "      <td>0.963636</td>\n",
                            "    </tr>\n",
                            "  </tbody>\n",
                            "</table><p>"
                        ],
                        "text/plain": [
                            "<IPython.core.display.HTML object>"
                        ]
                    },
                    "metadata": {},
                    "output_type": "display_data"
                },
                {
                    "name": "stderr",
                    "output_type": "stream",
                    "text": [
                        "DEBUG:fsspec.local:open file: /home/john/.cache/huggingface/metrics/accuracy/default/default_experiment-1-0.arrow\n",
                        "DEBUG:fsspec.local:open file: /home/john/.cache/huggingface/metrics/accuracy/default/default_experiment-1-0.arrow\n",
                        "DEBUG:fsspec.local:open file: /home/john/.cache/huggingface/metrics/accuracy/default/default_experiment-1-0.arrow\n",
                        "INFO:SentimentClassifierSelfTrained:Training complete\n"
                    ]
                },
                {
                    "data": {
                        "text/html": [
                            "\n",
                            "    <div>\n",
                            "      \n",
                            "      <progress value='18' max='14' style='width:300px; height:20px; vertical-align: middle;'></progress>\n",
                            "      [14/14 02:02]\n",
                            "    </div>\n",
                            "    "
                        ],
                        "text/plain": [
                            "<IPython.core.display.HTML object>"
                        ]
                    },
                    "metadata": {},
                    "output_type": "display_data"
                },
                {
                    "name": "stderr",
                    "output_type": "stream",
                    "text": [
                        "DEBUG:fsspec.local:open file: /home/john/.cache/huggingface/metrics/accuracy/default/default_experiment-1-0.arrow\n",
                        "DEBUG:fsspec.local:open file: /home/john/.cache/huggingface/metrics/accuracy/default/default_experiment-1-0.arrow\n",
                        "DEBUG:fsspec.local:open file: /home/john/.cache/huggingface/metrics/accuracy/default/default_experiment-1-0.arrow\n",
                        "DEBUG:SentimentClassifierSelfTrained:\n",
                        "None\n",
                        "DEBUG:SentimentClassifierSelfTrained:\n",
                        "{'train_loss': 0.05171392112970352, 'train_accuracy': 0.979498861047836, 'train_runtime': 107.9497, 'train_samples_per_second': 4.067, 'train_steps_per_second': 0.13, 'epoch': 3.0, 'validation_loss': 0.03215145319700241, 'validation_accuracy': 0.9818181818181818, 'validation_runtime': 10.7583, 'validation_samples_per_second': 5.112, 'validation_steps_per_second': 0.186, 'test_loss': 0.052515659481287, 'test_accuracy': 0.9636363636363636, 'test_runtime': 9.812, 'test_samples_per_second': 5.605, 'test_steps_per_second': 0.204}\n",
                        "INFO:EarlyStop:\n",
                        "test_accuracy improved by 1.72% from 0.9636363636363636 to 0.9473684210526315\n",
                        "DEBUG:SessionStats:None\n",
                        "Map:  30%|██▉       | 549/1831 [24:18<58:34,  2.74s/ examples]  "
                    ]
                },
                {
                    "name": "stdout",
                    "output_type": "stream",
                    "text": [
                        "\n",
                        "\n",
                        "                                               Scores                                               \n",
                        "                                        train_loss | 0.05171392112970352\n",
                        "                                    train_accuracy | 0.979498861047836\n",
                        "                                     train_runtime | 107.9497\n",
                        "                          train_samples_per_second | 4.067\n",
                        "                            train_steps_per_second | 0.13\n",
                        "                                              poch | 3.0\n",
                        "                                   validation_loss | 0.03215145319700241\n",
                        "                               validation_accuracy | 0.9818181818181818\n",
                        "                                validation_runtime | 10.7583\n",
                        "                     validation_samples_per_second | 5.112\n",
                        "                       validation_steps_per_second | 0.186\n",
                        "                                         test_loss | 0.052515659481287\n",
                        "                                     test_accuracy | 0.9636363636363636\n",
                        "                                      test_runtime | 9.812\n",
                        "                           test_samples_per_second | 5.605\n",
                        "                             test_steps_per_second | 0.204\n",
                        "\n",
                        "\n",
                        "\n",
                        "\n",
                        "                                 sentiment-analysis-lora-1831_v.13                                  \n",
                        "                                         iteration | 3\n",
                        "                                        model.name | sentiment-analysis-lora-1831_v.13\n",
                        "                                      dataset_size | 1831\n",
                        "                                              tart | 2024-05-07 22:50:51.160359\n",
                        "                                               top | 2024-05-07 22:57:29.435196\n",
                        "                                           runtime | 398.274837\n",
                        "                                    train_accuracy | 0.979498861047836\n",
                        "                               validation_accuracy | 0.9818181818181818\n",
                        "                                     test_accuracy | 0.9636363636363636\n",
                        "                                           overfit | 1.0164610822194524\n",
                        "\n",
                        "\n"
                    ]
                },
                {
                    "name": "stderr",
                    "output_type": "stream",
                    "text": [
                        "INFO:SentimentClassifierSelfTrained:Predict method returning 183 predictions.\n",
                        "DEBUG:SentimentClassifierDataManager:Augmented 183 observations for a total labeled observations of 732\n",
                        "DEBUG:SentimentClassifierDataManager:            app_id category_id rating  \\\n",
                        "0   906,225,296.00        6005   5.00   \n",
                        "1   820,789,008.00        6012   5.00   \n",
                        "2   907,211,565.00        6013   1.00   \n",
                        "3   601,174,087.00        6012   1.00   \n",
                        "4 1,483,034,045.00        6007   5.00   \n",
                        "\n",
                        "                                             content __index_level_0__ label  \\\n",
                        "0                                       It is v good             43265   POS   \n",
                        "1                                               Wooo             45979   POS   \n",
                        "2  Way too much work for too little information. ...            126032   NEG   \n",
                        "3  Paid for membership to not be able to message ...            169369   NEG   \n",
                        "4                                                 如题            113304   NEU   \n",
                        "\n",
                        "   score  \n",
                        "0   1.00  \n",
                        "1   0.99  \n",
                        "2   1.00  \n",
                        "3   1.00  \n",
                        "4   0.99  \n",
                        "INFO:SentimentClassifierDataManager:None\n",
                        "DEBUG:SentimentClassifierSelfTrained:Tokenized Datasets:\n",
                        "DatasetDict({\n",
                        "    train: Dataset({\n",
                        "        features: ['labels', 'input_ids', 'token_type_ids', 'attention_mask'],\n",
                        "        num_rows: 585\n",
                        "    })\n",
                        "    validation: Dataset({\n",
                        "        features: ['labels', 'input_ids', 'token_type_ids', 'attention_mask'],\n",
                        "        num_rows: 73\n",
                        "    })\n",
                        "    test: Dataset({\n",
                        "        features: ['labels', 'input_ids', 'token_type_ids', 'attention_mask'],\n",
                        "        num_rows: 74\n",
                        "    })\n",
                        "})\n",
                        "INFO:SentimentClassifierSelfTrained:Training started on 585 observations.\n"
                    ]
                },
                {
                    "name": "stdout",
                    "output_type": "stream",
                    "text": [
                        "\n",
                        "\n",
                        "                                      Tokenized Dataset Sizes                                       \n",
                        "                                             Train | 585\n",
                        "                                        Validation | 73\n",
                        "                                              Test | 74\n",
                        "\n",
                        "\n",
                        "\n",
                        "Training begun for EarlyStop begun at 2024-05-07 22:58:12.524329\n"
                    ]
                },
                {
                    "data": {
                        "text/html": [
                            "\n",
                            "    <div>\n",
                            "      \n",
                            "      <progress value='57' max='57' style='width:300px; height:20px; vertical-align: middle;'></progress>\n",
                            "      [57/57 08:09, Epoch 3/3]\n",
                            "    </div>\n",
                            "    <table border=\"1\" class=\"dataframe\">\n",
                            "  <thead>\n",
                            " <tr style=\"text-align: left;\">\n",
                            "      <th>Epoch</th>\n",
                            "      <th>Training Loss</th>\n",
                            "      <th>Validation Loss</th>\n",
                            "      <th>Accuracy</th>\n",
                            "    </tr>\n",
                            "  </thead>\n",
                            "  <tbody>\n",
                            "    <tr>\n",
                            "      <td>1</td>\n",
                            "      <td>No log</td>\n",
                            "      <td>0.068761</td>\n",
                            "      <td>0.972973</td>\n",
                            "    </tr>\n",
                            "    <tr>\n",
                            "      <td>2</td>\n",
                            "      <td>No log</td>\n",
                            "      <td>0.088913</td>\n",
                            "      <td>0.945946</td>\n",
                            "    </tr>\n",
                            "    <tr>\n",
                            "      <td>3</td>\n",
                            "      <td>No log</td>\n",
                            "      <td>0.089681</td>\n",
                            "      <td>0.945946</td>\n",
                            "    </tr>\n",
                            "  </tbody>\n",
                            "</table><p>"
                        ],
                        "text/plain": [
                            "<IPython.core.display.HTML object>"
                        ]
                    },
                    "metadata": {},
                    "output_type": "display_data"
                },
                {
                    "name": "stderr",
                    "output_type": "stream",
                    "text": [
                        "DEBUG:fsspec.local:open file: /home/john/.cache/huggingface/metrics/accuracy/default/default_experiment-1-0.arrow\n",
                        "DEBUG:fsspec.local:open file: /home/john/.cache/huggingface/metrics/accuracy/default/default_experiment-1-0.arrow\n",
                        "DEBUG:fsspec.local:open file: /home/john/.cache/huggingface/metrics/accuracy/default/default_experiment-1-0.arrow\n",
                        "INFO:SentimentClassifierSelfTrained:Training complete\n"
                    ]
                },
                {
                    "data": {
                        "text/html": [
                            "\n",
                            "    <div>\n",
                            "      \n",
                            "      <progress value='25' max='19' style='width:300px; height:20px; vertical-align: middle;'></progress>\n",
                            "      [19/19 02:29]\n",
                            "    </div>\n",
                            "    "
                        ],
                        "text/plain": [
                            "<IPython.core.display.HTML object>"
                        ]
                    },
                    "metadata": {},
                    "output_type": "display_data"
                },
                {
                    "name": "stderr",
                    "output_type": "stream",
                    "text": [
                        "DEBUG:fsspec.local:open file: /home/john/.cache/huggingface/metrics/accuracy/default/default_experiment-1-0.arrow\n",
                        "DEBUG:fsspec.local:open file: /home/john/.cache/huggingface/metrics/accuracy/default/default_experiment-1-0.arrow\n",
                        "DEBUG:fsspec.local:open file: /home/john/.cache/huggingface/metrics/accuracy/default/default_experiment-1-0.arrow\n",
                        "DEBUG:SentimentClassifierSelfTrained:\n",
                        "None\n",
                        "DEBUG:SentimentClassifierSelfTrained:\n",
                        "{'train_loss': 0.03474527224898338, 'train_accuracy': 0.9880341880341881, 'train_runtime': 120.0793, 'train_samples_per_second': 4.872, 'train_steps_per_second': 0.158, 'epoch': 3.0, 'validation_loss': 0.024991726502776146, 'validation_accuracy': 1.0, 'validation_runtime': 17.9745, 'validation_samples_per_second': 4.061, 'validation_steps_per_second': 0.167, 'test_loss': 0.08968093246221542, 'test_accuracy': 0.9459459459459459, 'test_runtime': 16.7625, 'test_samples_per_second': 4.415, 'test_steps_per_second': 0.179}\n",
                        "DEBUG:SessionStats:None\n",
                        "Map:  40%|███▉      | 732/1831 [35:54<57:53,  3.16s/ examples]"
                    ]
                },
                {
                    "name": "stdout",
                    "output_type": "stream",
                    "text": [
                        "\n",
                        "\n",
                        "                                               Scores                                               \n",
                        "                                        train_loss | 0.03474527224898338\n",
                        "                                    train_accuracy | 0.9880341880341881\n",
                        "                                     train_runtime | 120.0793\n",
                        "                          train_samples_per_second | 4.872\n",
                        "                            train_steps_per_second | 0.158\n",
                        "                                              poch | 3.0\n",
                        "                                   validation_loss | 0.024991726502776146\n",
                        "                               validation_accuracy | 1.0\n",
                        "                                validation_runtime | 17.9745\n",
                        "                     validation_samples_per_second | 4.061\n",
                        "                       validation_steps_per_second | 0.167\n",
                        "                                         test_loss | 0.08968093246221542\n",
                        "                                     test_accuracy | 0.9459459459459459\n",
                        "                                      test_runtime | 16.7625\n",
                        "                           test_samples_per_second | 4.415\n",
                        "                             test_steps_per_second | 0.179\n",
                        "\n",
                        "\n",
                        "\n",
                        "\n",
                        "                                 sentiment-analysis-lora-1831_v.13                                  \n",
                        "                                         iteration | 4\n",
                        "                                        model.name | sentiment-analysis-lora-1831_v.13\n",
                        "                                      dataset_size | 1831\n",
                        "                                              tart | 2024-05-07 22:58:12.524958\n",
                        "                                               top | 2024-05-07 23:09:05.422916\n",
                        "                                           runtime | 652.897958\n",
                        "                                    train_accuracy | 0.9880341880341881\n",
                        "                               validation_accuracy | 1.0\n",
                        "                                     test_accuracy | 0.9459459459459459\n",
                        "                                           overfit | 1.0444932844932846\n",
                        "\n",
                        "\n"
                    ]
                },
                {
                    "name": "stderr",
                    "output_type": "stream",
                    "text": [
                        "INFO:SentimentClassifierSelfTrained:Predict method returning 183 predictions.\n",
                        "DEBUG:SentimentClassifierDataManager:Augmented 183 observations for a total labeled observations of 915\n",
                        "DEBUG:SentimentClassifierDataManager:            app_id category_id rating  \\\n",
                        "0 1,232,780,281.00        6007   4.00   \n",
                        "1 1,476,041,890.00        6000   5.00   \n",
                        "2   733,503,978.00        6020   5.00   \n",
                        "3   369,971,145.00        6012   5.00   \n",
                        "4 1,137,885,597.00        6012   5.00   \n",
                        "\n",
                        "                                             content __index_level_0__ label  \\\n",
                        "0  could you guys add a feature for sub tasks. i ...             79008   NEU   \n",
                        "1                            god app thank you apple             52968   POS   \n",
                        "2                          أحسنتم صنعًا ، تطبيق رائع              6734   NEU   \n",
                        "3     It has a lot of options and very user friendly             78791   POS   \n",
                        "4                                 We love our Nanit!            107330   POS   \n",
                        "\n",
                        "   score  \n",
                        "0   0.91  \n",
                        "1   1.00  \n",
                        "2   0.99  \n",
                        "3   1.00  \n",
                        "4   1.00  \n",
                        "INFO:SentimentClassifierDataManager:None\n",
                        "DEBUG:SentimentClassifierSelfTrained:Tokenized Datasets:\n",
                        "DatasetDict({\n",
                        "    train: Dataset({\n",
                        "        features: ['labels', 'input_ids', 'token_type_ids', 'attention_mask'],\n",
                        "        num_rows: 732\n",
                        "    })\n",
                        "    validation: Dataset({\n",
                        "        features: ['labels', 'input_ids', 'token_type_ids', 'attention_mask'],\n",
                        "        num_rows: 91\n",
                        "    })\n",
                        "    test: Dataset({\n",
                        "        features: ['labels', 'input_ids', 'token_type_ids', 'attention_mask'],\n",
                        "        num_rows: 92\n",
                        "    })\n",
                        "})\n",
                        "INFO:SentimentClassifierSelfTrained:Training started on 732 observations.\n"
                    ]
                },
                {
                    "name": "stdout",
                    "output_type": "stream",
                    "text": [
                        "\n",
                        "\n",
                        "                                      Tokenized Dataset Sizes                                       \n",
                        "                                             Train | 732\n",
                        "                                        Validation | 91\n",
                        "                                              Test | 92\n",
                        "\n",
                        "\n",
                        "\n",
                        "Training begun for EarlyStop begun at 2024-05-07 23:10:27.856751\n"
                    ]
                },
                {
                    "data": {
                        "text/html": [
                            "\n",
                            "    <div>\n",
                            "      \n",
                            "      <progress value='69' max='69' style='width:300px; height:20px; vertical-align: middle;'></progress>\n",
                            "      [69/69 09:06, Epoch 3/3]\n",
                            "    </div>\n",
                            "    <table border=\"1\" class=\"dataframe\">\n",
                            "  <thead>\n",
                            " <tr style=\"text-align: left;\">\n",
                            "      <th>Epoch</th>\n",
                            "      <th>Training Loss</th>\n",
                            "      <th>Validation Loss</th>\n",
                            "      <th>Accuracy</th>\n",
                            "    </tr>\n",
                            "  </thead>\n",
                            "  <tbody>\n",
                            "    <tr>\n",
                            "      <td>1</td>\n",
                            "      <td>No log</td>\n",
                            "      <td>0.074916</td>\n",
                            "      <td>0.967391</td>\n",
                            "    </tr>\n",
                            "    <tr>\n",
                            "      <td>2</td>\n",
                            "      <td>No log</td>\n",
                            "      <td>0.074020</td>\n",
                            "      <td>0.978261</td>\n",
                            "    </tr>\n",
                            "    <tr>\n",
                            "      <td>3</td>\n",
                            "      <td>No log</td>\n",
                            "      <td>0.086716</td>\n",
                            "      <td>0.956522</td>\n",
                            "    </tr>\n",
                            "  </tbody>\n",
                            "</table><p>"
                        ],
                        "text/plain": [
                            "<IPython.core.display.HTML object>"
                        ]
                    },
                    "metadata": {},
                    "output_type": "display_data"
                },
                {
                    "name": "stderr",
                    "output_type": "stream",
                    "text": [
                        "DEBUG:fsspec.local:open file: /home/john/.cache/huggingface/metrics/accuracy/default/default_experiment-1-0.arrow\n",
                        "DEBUG:fsspec.local:open file: /home/john/.cache/huggingface/metrics/accuracy/default/default_experiment-1-0.arrow\n",
                        "DEBUG:fsspec.local:open file: /home/john/.cache/huggingface/metrics/accuracy/default/default_experiment-1-0.arrow\n",
                        "INFO:SentimentClassifierSelfTrained:Training complete\n"
                    ]
                },
                {
                    "data": {
                        "text/html": [
                            "\n",
                            "    <div>\n",
                            "      \n",
                            "      <progress value='29' max='23' style='width:300px; height:20px; vertical-align: middle;'></progress>\n",
                            "      [23/23 02:54]\n",
                            "    </div>\n",
                            "    "
                        ],
                        "text/plain": [
                            "<IPython.core.display.HTML object>"
                        ]
                    },
                    "metadata": {},
                    "output_type": "display_data"
                },
                {
                    "name": "stderr",
                    "output_type": "stream",
                    "text": [
                        "DEBUG:fsspec.local:open file: /home/john/.cache/huggingface/metrics/accuracy/default/default_experiment-1-0.arrow\n",
                        "DEBUG:fsspec.local:open file: /home/john/.cache/huggingface/metrics/accuracy/default/default_experiment-1-0.arrow\n",
                        "DEBUG:fsspec.local:open file: /home/john/.cache/huggingface/metrics/accuracy/default/default_experiment-1-0.arrow\n",
                        "DEBUG:SentimentClassifierSelfTrained:\n",
                        "None\n",
                        "DEBUG:SentimentClassifierSelfTrained:\n",
                        "{'train_loss': 0.038025468587875366, 'train_accuracy': 0.9836065573770492, 'train_runtime': 146.8159, 'train_samples_per_second': 4.986, 'train_steps_per_second': 0.157, 'epoch': 3.0, 'validation_loss': 0.04889288917183876, 'validation_accuracy': 0.967032967032967, 'validation_runtime': 16.6601, 'validation_samples_per_second': 5.462, 'validation_steps_per_second': 0.18, 'test_loss': 0.0867159515619278, 'test_accuracy': 0.9565217391304348, 'test_runtime': 17.3899, 'test_samples_per_second': 5.29, 'test_steps_per_second': 0.173}\n",
                        "DEBUG:SessionStats:None\n",
                        "Map:  50%|████▉     | 915/1831 [49:30<55:24,  3.63s/ examples]"
                    ]
                },
                {
                    "name": "stdout",
                    "output_type": "stream",
                    "text": [
                        "\n",
                        "\n",
                        "                                               Scores                                               \n",
                        "                                        train_loss | 0.038025468587875366\n",
                        "                                    train_accuracy | 0.9836065573770492\n",
                        "                                     train_runtime | 146.8159\n",
                        "                          train_samples_per_second | 4.986\n",
                        "                            train_steps_per_second | 0.157\n",
                        "                                              poch | 3.0\n",
                        "                                   validation_loss | 0.04889288917183876\n",
                        "                               validation_accuracy | 0.967032967032967\n",
                        "                                validation_runtime | 16.6601\n",
                        "                     validation_samples_per_second | 5.462\n",
                        "                       validation_steps_per_second | 0.18\n",
                        "                                         test_loss | 0.0867159515619278\n",
                        "                                     test_accuracy | 0.9565217391304348\n",
                        "                                      test_runtime | 17.3899\n",
                        "                           test_samples_per_second | 5.29\n",
                        "                             test_steps_per_second | 0.173\n",
                        "\n",
                        "\n",
                        "\n",
                        "\n",
                        "                                 sentiment-analysis-lora-1831_v.13                                  \n",
                        "                                         iteration | 5\n",
                        "                                        model.name | sentiment-analysis-lora-1831_v.13\n",
                        "                                      dataset_size | 1831\n",
                        "                                              tart | 2024-05-07 23:10:27.858395\n",
                        "                                               top | 2024-05-07 23:22:41.899812\n",
                        "                                           runtime | 734.041417\n",
                        "                                    train_accuracy | 0.9836065573770492\n",
                        "                               validation_accuracy | 0.967032967032967\n",
                        "                                     test_accuracy | 0.9565217391304348\n",
                        "                                           overfit | 1.0283159463487332\n",
                        "\n",
                        "\n"
                    ]
                },
                {
                    "name": "stderr",
                    "output_type": "stream",
                    "text": [
                        "INFO:SentimentClassifierSelfTrained:Predict method returning 183 predictions.\n",
                        "DEBUG:SentimentClassifierDataManager:Augmented 183 observations for a total labeled observations of 1098\n",
                        "DEBUG:SentimentClassifierDataManager:            app_id category_id rating  \\\n",
                        "0   636,240,052.00        6013   1.00   \n",
                        "1   480,883,488.00        6017   5.00   \n",
                        "2 1,080,102,131.00        6012   3.00   \n",
                        "3   484,090,401.00        6016   5.00   \n",
                        "4 1,449,170,265.00        6012   5.00   \n",
                        "\n",
                        "                                             content __index_level_0__ label  \\\n",
                        "0  I am not happy because I just started using th...            145255   NEG   \n",
                        "1  For my first year in college this program is m...             41463   POS   \n",
                        "2     It's alright as far as these types of apps go.             78753   POS   \n",
                        "3  HOOOOOLLLLYYYY CRAAAAAP\\nI'm so creeped out ri...            122884   NEG   \n",
                        "4   I like better use the app, that use the web view             59539   POS   \n",
                        "\n",
                        "   score  \n",
                        "0   1.00  \n",
                        "1   1.00  \n",
                        "2   0.58  \n",
                        "3   1.00  \n",
                        "4   1.00  \n",
                        "INFO:SentimentClassifierDataManager:None\n",
                        "DEBUG:SentimentClassifierSelfTrained:Tokenized Datasets:\n",
                        "DatasetDict({\n",
                        "    train: Dataset({\n",
                        "        features: ['labels', 'input_ids', 'token_type_ids', 'attention_mask'],\n",
                        "        num_rows: 878\n",
                        "    })\n",
                        "    validation: Dataset({\n",
                        "        features: ['labels', 'input_ids', 'token_type_ids', 'attention_mask'],\n",
                        "        num_rows: 110\n",
                        "    })\n",
                        "    test: Dataset({\n",
                        "        features: ['labels', 'input_ids', 'token_type_ids', 'attention_mask'],\n",
                        "        num_rows: 110\n",
                        "    })\n",
                        "})\n",
                        "INFO:SentimentClassifierSelfTrained:Training started on 878 observations.\n"
                    ]
                },
                {
                    "name": "stdout",
                    "output_type": "stream",
                    "text": [
                        "\n",
                        "\n",
                        "                                      Tokenized Dataset Sizes                                       \n",
                        "                                             Train | 878\n",
                        "                                        Validation | 110\n",
                        "                                              Test | 110\n",
                        "\n",
                        "\n",
                        "\n",
                        "Training begun for EarlyStop begun at 2024-05-07 23:23:27.552702\n"
                    ]
                },
                {
                    "data": {
                        "text/html": [
                            "\n",
                            "    <div>\n",
                            "      \n",
                            "      <progress value='84' max='84' style='width:300px; height:20px; vertical-align: middle;'></progress>\n",
                            "      [84/84 11:09, Epoch 3/3]\n",
                            "    </div>\n",
                            "    <table border=\"1\" class=\"dataframe\">\n",
                            "  <thead>\n",
                            " <tr style=\"text-align: left;\">\n",
                            "      <th>Epoch</th>\n",
                            "      <th>Training Loss</th>\n",
                            "      <th>Validation Loss</th>\n",
                            "      <th>Accuracy</th>\n",
                            "    </tr>\n",
                            "  </thead>\n",
                            "  <tbody>\n",
                            "    <tr>\n",
                            "      <td>1</td>\n",
                            "      <td>No log</td>\n",
                            "      <td>0.081969</td>\n",
                            "      <td>0.963636</td>\n",
                            "    </tr>\n",
                            "    <tr>\n",
                            "      <td>2</td>\n",
                            "      <td>No log</td>\n",
                            "      <td>0.039732</td>\n",
                            "      <td>0.981818</td>\n",
                            "    </tr>\n",
                            "    <tr>\n",
                            "      <td>3</td>\n",
                            "      <td>No log</td>\n",
                            "      <td>0.052556</td>\n",
                            "      <td>0.981818</td>\n",
                            "    </tr>\n",
                            "  </tbody>\n",
                            "</table><p>"
                        ],
                        "text/plain": [
                            "<IPython.core.display.HTML object>"
                        ]
                    },
                    "metadata": {},
                    "output_type": "display_data"
                },
                {
                    "name": "stderr",
                    "output_type": "stream",
                    "text": [
                        "DEBUG:fsspec.local:open file: /home/john/.cache/huggingface/metrics/accuracy/default/default_experiment-1-0.arrow\n",
                        "DEBUG:fsspec.local:open file: /home/john/.cache/huggingface/metrics/accuracy/default/default_experiment-1-0.arrow\n",
                        "DEBUG:fsspec.local:open file: /home/john/.cache/huggingface/metrics/accuracy/default/default_experiment-1-0.arrow\n",
                        "INFO:SentimentClassifierSelfTrained:Training complete\n"
                    ]
                },
                {
                    "data": {
                        "text/html": [
                            "\n",
                            "    <div>\n",
                            "      \n",
                            "      <progress value='36' max='28' style='width:300px; height:20px; vertical-align: middle;'></progress>\n",
                            "      [28/28 04:04]\n",
                            "    </div>\n",
                            "    "
                        ],
                        "text/plain": [
                            "<IPython.core.display.HTML object>"
                        ]
                    },
                    "metadata": {},
                    "output_type": "display_data"
                },
                {
                    "name": "stderr",
                    "output_type": "stream",
                    "text": [
                        "DEBUG:fsspec.local:open file: /home/john/.cache/huggingface/metrics/accuracy/default/default_experiment-1-0.arrow\n",
                        "DEBUG:fsspec.local:open file: /home/john/.cache/huggingface/metrics/accuracy/default/default_experiment-1-0.arrow\n",
                        "DEBUG:fsspec.local:open file: /home/john/.cache/huggingface/metrics/accuracy/default/default_experiment-1-0.arrow\n",
                        "DEBUG:SentimentClassifierSelfTrained:\n",
                        "None\n",
                        "DEBUG:SentimentClassifierSelfTrained:\n",
                        "{'train_loss': 0.037330664694309235, 'train_accuracy': 0.9863325740318907, 'train_runtime': 194.4242, 'train_samples_per_second': 4.516, 'train_steps_per_second': 0.144, 'epoch': 3.0, 'validation_loss': 0.07799019664525986, 'validation_accuracy': 0.9636363636363636, 'validation_runtime': 31.3538, 'validation_samples_per_second': 3.508, 'validation_steps_per_second': 0.128, 'test_loss': 0.052556268870830536, 'test_accuracy': 0.9818181818181818, 'test_runtime': 27.6258, 'test_samples_per_second': 3.982, 'test_steps_per_second': 0.145}\n",
                        "INFO:EarlyStop:\n",
                        "test_accuracy improved by 1.89% from 0.9818181818181818 to 0.9636363636363636\n",
                        "DEBUG:SessionStats:None\n",
                        "Map:  60%|█████▉    | 1098/1831 [1:05:46<51:24,  4.21s/ examples]"
                    ]
                },
                {
                    "name": "stdout",
                    "output_type": "stream",
                    "text": [
                        "\n",
                        "\n",
                        "                                               Scores                                               \n",
                        "                                        train_loss | 0.037330664694309235\n",
                        "                                    train_accuracy | 0.9863325740318907\n",
                        "                                     train_runtime | 194.4242\n",
                        "                          train_samples_per_second | 4.516\n",
                        "                            train_steps_per_second | 0.144\n",
                        "                                              poch | 3.0\n",
                        "                                   validation_loss | 0.07799019664525986\n",
                        "                               validation_accuracy | 0.9636363636363636\n",
                        "                                validation_runtime | 31.3538\n",
                        "                     validation_samples_per_second | 3.508\n",
                        "                       validation_steps_per_second | 0.128\n",
                        "                                         test_loss | 0.052556268870830536\n",
                        "                                     test_accuracy | 0.9818181818181818\n",
                        "                                      test_runtime | 27.6258\n",
                        "                           test_samples_per_second | 3.982\n",
                        "                             test_steps_per_second | 0.145\n",
                        "\n",
                        "\n",
                        "\n",
                        "\n",
                        "                                 sentiment-analysis-lora-1831_v.13                                  \n",
                        "                                         iteration | 6\n",
                        "                                        model.name | sentiment-analysis-lora-1831_v.13\n",
                        "                                      dataset_size | 1831\n",
                        "                                              tart | 2024-05-07 23:23:27.553723\n",
                        "                                               top | 2024-05-07 23:38:57.362107\n",
                        "                                           runtime | 929.808384\n",
                        "                                    train_accuracy | 0.9863325740318907\n",
                        "                               validation_accuracy | 0.9636363636363636\n",
                        "                                     test_accuracy | 0.9818181818181818\n",
                        "                                           overfit | 1.0045979920695183\n",
                        "\n",
                        "\n"
                    ]
                },
                {
                    "name": "stderr",
                    "output_type": "stream",
                    "text": [
                        "INFO:SentimentClassifierSelfTrained:Predict method returning 183 predictions.\n",
                        "DEBUG:SentimentClassifierDataManager:Augmented 183 observations for a total labeled observations of 1281\n",
                        "DEBUG:SentimentClassifierDataManager:            app_id category_id rating  \\\n",
                        "0   375,990,038.00        6005   1.00   \n",
                        "1   994,053,492.00        6002   1.00   \n",
                        "2   377,194,688.00        6016   5.00   \n",
                        "3 1,586,018,825.00        6005   5.00   \n",
                        "4 1,076,402,606.00        6018   5.00   \n",
                        "\n",
                        "                                             content __index_level_0__ label  \\\n",
                        "0  It has become so hard to browse the meetups, s...             58421   NEG   \n",
                        "1  App keeps changing language on its own. Unit k...            174569   NEG   \n",
                        "2               Me: who's da best?\\nTom: we da best!            147091   POS   \n",
                        "3          We must support diverse forms of speech .            168121   POS   \n",
                        "4  I love how the app works. It makes so easy for...            124616   POS   \n",
                        "\n",
                        "   score  \n",
                        "0   1.00  \n",
                        "1   1.00  \n",
                        "2   1.00  \n",
                        "3   1.00  \n",
                        "4   1.00  \n",
                        "INFO:SentimentClassifierDataManager:None\n",
                        "DEBUG:SentimentClassifierSelfTrained:Tokenized Datasets:\n",
                        "DatasetDict({\n",
                        "    train: Dataset({\n",
                        "        features: ['labels', 'input_ids', 'token_type_ids', 'attention_mask'],\n",
                        "        num_rows: 1024\n",
                        "    })\n",
                        "    validation: Dataset({\n",
                        "        features: ['labels', 'input_ids', 'token_type_ids', 'attention_mask'],\n",
                        "        num_rows: 128\n",
                        "    })\n",
                        "    test: Dataset({\n",
                        "        features: ['labels', 'input_ids', 'token_type_ids', 'attention_mask'],\n",
                        "        num_rows: 129\n",
                        "    })\n",
                        "})\n",
                        "INFO:SentimentClassifierSelfTrained:Training started on 1024 observations.\n"
                    ]
                },
                {
                    "name": "stdout",
                    "output_type": "stream",
                    "text": [
                        "\n",
                        "\n",
                        "                                      Tokenized Dataset Sizes                                       \n",
                        "                                             Train | 1024\n",
                        "                                        Validation | 128\n",
                        "                                              Test | 129\n",
                        "\n",
                        "\n",
                        "\n",
                        "Training begun for EarlyStop begun at 2024-05-07 23:39:49.419601\n"
                    ]
                },
                {
                    "data": {
                        "text/html": [
                            "\n",
                            "    <div>\n",
                            "      \n",
                            "      <progress value='96' max='96' style='width:300px; height:20px; vertical-align: middle;'></progress>\n",
                            "      [96/96 14:32, Epoch 3/3]\n",
                            "    </div>\n",
                            "    <table border=\"1\" class=\"dataframe\">\n",
                            "  <thead>\n",
                            " <tr style=\"text-align: left;\">\n",
                            "      <th>Epoch</th>\n",
                            "      <th>Training Loss</th>\n",
                            "      <th>Validation Loss</th>\n",
                            "      <th>Accuracy</th>\n",
                            "    </tr>\n",
                            "  </thead>\n",
                            "  <tbody>\n",
                            "    <tr>\n",
                            "      <td>1</td>\n",
                            "      <td>No log</td>\n",
                            "      <td>0.079482</td>\n",
                            "      <td>0.968992</td>\n",
                            "    </tr>\n",
                            "    <tr>\n",
                            "      <td>2</td>\n",
                            "      <td>No log</td>\n",
                            "      <td>0.051086</td>\n",
                            "      <td>0.984496</td>\n",
                            "    </tr>\n",
                            "    <tr>\n",
                            "      <td>3</td>\n",
                            "      <td>No log</td>\n",
                            "      <td>0.066928</td>\n",
                            "      <td>0.968992</td>\n",
                            "    </tr>\n",
                            "  </tbody>\n",
                            "</table><p>"
                        ],
                        "text/plain": [
                            "<IPython.core.display.HTML object>"
                        ]
                    },
                    "metadata": {},
                    "output_type": "display_data"
                },
                {
                    "name": "stderr",
                    "output_type": "stream",
                    "text": [
                        "DEBUG:fsspec.local:open file: /home/john/.cache/huggingface/metrics/accuracy/default/default_experiment-1-0.arrow\n",
                        "DEBUG:fsspec.local:open file: /home/john/.cache/huggingface/metrics/accuracy/default/default_experiment-1-0.arrow\n",
                        "DEBUG:fsspec.local:open file: /home/john/.cache/huggingface/metrics/accuracy/default/default_experiment-1-0.arrow\n",
                        "INFO:SentimentClassifierSelfTrained:Training complete\n"
                    ]
                },
                {
                    "data": {
                        "text/html": [
                            "\n",
                            "    <div>\n",
                            "      \n",
                            "      <progress value='41' max='32' style='width:300px; height:20px; vertical-align: middle;'></progress>\n",
                            "      [32/32 04:23]\n",
                            "    </div>\n",
                            "    "
                        ],
                        "text/plain": [
                            "<IPython.core.display.HTML object>"
                        ]
                    },
                    "metadata": {},
                    "output_type": "display_data"
                },
                {
                    "name": "stderr",
                    "output_type": "stream",
                    "text": [
                        "DEBUG:fsspec.local:open file: /home/john/.cache/huggingface/metrics/accuracy/default/default_experiment-1-0.arrow\n",
                        "DEBUG:fsspec.local:open file: /home/john/.cache/huggingface/metrics/accuracy/default/default_experiment-1-0.arrow\n",
                        "DEBUG:fsspec.local:open file: /home/john/.cache/huggingface/metrics/accuracy/default/default_experiment-1-0.arrow\n",
                        "DEBUG:SentimentClassifierSelfTrained:\n",
                        "None\n",
                        "DEBUG:SentimentClassifierSelfTrained:\n",
                        "{'train_loss': 0.03528449684381485, 'train_accuracy': 0.9873046875, 'train_runtime': 218.3758, 'train_samples_per_second': 4.689, 'train_steps_per_second': 0.147, 'epoch': 3.0, 'validation_loss': 0.04600575566291809, 'validation_accuracy': 0.984375, 'validation_runtime': 25.1573, 'validation_samples_per_second': 5.088, 'validation_steps_per_second': 0.159, 'test_loss': 0.0669284239411354, 'test_accuracy': 0.9689922480620154, 'test_runtime': 26.719, 'test_samples_per_second': 4.828, 'test_steps_per_second': 0.187}\n",
                        "DEBUG:SessionStats:None\n",
                        "Map:  70%|██████▉   | 1281/1831 [1:25:50<45:40,  4.98s/ examples]"
                    ]
                },
                {
                    "name": "stdout",
                    "output_type": "stream",
                    "text": [
                        "\n",
                        "\n",
                        "                                               Scores                                               \n",
                        "                                        train_loss | 0.03528449684381485\n",
                        "                                    train_accuracy | 0.9873046875\n",
                        "                                     train_runtime | 218.3758\n",
                        "                          train_samples_per_second | 4.689\n",
                        "                            train_steps_per_second | 0.147\n",
                        "                                              poch | 3.0\n",
                        "                                   validation_loss | 0.04600575566291809\n",
                        "                               validation_accuracy | 0.984375\n",
                        "                                validation_runtime | 25.1573\n",
                        "                     validation_samples_per_second | 5.088\n",
                        "                       validation_steps_per_second | 0.159\n",
                        "                                         test_loss | 0.0669284239411354\n",
                        "                                     test_accuracy | 0.9689922480620154\n",
                        "                                      test_runtime | 26.719\n",
                        "                           test_samples_per_second | 4.828\n",
                        "                             test_steps_per_second | 0.187\n",
                        "\n",
                        "\n",
                        "\n",
                        "\n",
                        "                                 sentiment-analysis-lora-1831_v.13                                  \n",
                        "                                         iteration | 7\n",
                        "                                        model.name | sentiment-analysis-lora-1831_v.13\n",
                        "                                      dataset_size | 1831\n",
                        "                                              tart | 2024-05-07 23:39:49.421305\n",
                        "                                               top | 2024-05-07 23:59:01.086111\n",
                        "                                           runtime | 1151.664806\n",
                        "                                    train_accuracy | 0.9873046875\n",
                        "                               validation_accuracy | 0.984375\n",
                        "                                     test_accuracy | 0.9689922480620154\n",
                        "                                           overfit | 1.0188984375\n",
                        "\n",
                        "\n"
                    ]
                },
                {
                    "name": "stderr",
                    "output_type": "stream",
                    "text": [
                        "INFO:SentimentClassifierSelfTrained:Predict method returning 183 predictions.\n",
                        "DEBUG:SentimentClassifierDataManager:Augmented 183 observations for a total labeled observations of 1464\n",
                        "DEBUG:SentimentClassifierDataManager:          app_id category_id rating  \\\n",
                        "0 536,425,111.00        6013   5.00   \n",
                        "1 411,766,326.00        6017   1.00   \n",
                        "2 288,429,040.00        6000   1.00   \n",
                        "3 986,496,028.00        6002   1.00   \n",
                        "4 719,219,382.00        6017   5.00   \n",
                        "\n",
                        "                                             content __index_level_0__ label  \\\n",
                        "0  I recently switched from Diabetes app, which h...             79467   POS   \n",
                        "1                I just simply don't like it. Mwahh.             86409   NEG   \n",
                        "2                                              !!!!!            119312   NEU   \n",
                        "3  Android Wear is already limited on the iPhone....             18917   NEG   \n",
                        "4                                       And it's fun             21257   POS   \n",
                        "\n",
                        "   score  \n",
                        "0   0.80  \n",
                        "1   1.00  \n",
                        "2   0.96  \n",
                        "3   1.00  \n",
                        "4   1.00  \n",
                        "INFO:SentimentClassifierDataManager:None\n",
                        "DEBUG:SentimentClassifierSelfTrained:Tokenized Datasets:\n",
                        "DatasetDict({\n",
                        "    train: Dataset({\n",
                        "        features: ['labels', 'input_ids', 'token_type_ids', 'attention_mask'],\n",
                        "        num_rows: 1171\n",
                        "    })\n",
                        "    validation: Dataset({\n",
                        "        features: ['labels', 'input_ids', 'token_type_ids', 'attention_mask'],\n",
                        "        num_rows: 146\n",
                        "    })\n",
                        "    test: Dataset({\n",
                        "        features: ['labels', 'input_ids', 'token_type_ids', 'attention_mask'],\n",
                        "        num_rows: 147\n",
                        "    })\n",
                        "})\n",
                        "INFO:SentimentClassifierSelfTrained:Training started on 1171 observations.\n"
                    ]
                },
                {
                    "name": "stdout",
                    "output_type": "stream",
                    "text": [
                        "\n",
                        "\n",
                        "                                      Tokenized Dataset Sizes                                       \n",
                        "                                             Train | 1171\n",
                        "                                        Validation | 146\n",
                        "                                              Test | 147\n",
                        "\n",
                        "\n",
                        "\n",
                        "Training begun for EarlyStop begun at 2024-05-08 00:00:17.824523\n"
                    ]
                },
                {
                    "data": {
                        "text/html": [
                            "\n",
                            "    <div>\n",
                            "      \n",
                            "      <progress value='111' max='111' style='width:300px; height:20px; vertical-align: middle;'></progress>\n",
                            "      [111/111 13:24, Epoch 3/3]\n",
                            "    </div>\n",
                            "    <table border=\"1\" class=\"dataframe\">\n",
                            "  <thead>\n",
                            " <tr style=\"text-align: left;\">\n",
                            "      <th>Epoch</th>\n",
                            "      <th>Training Loss</th>\n",
                            "      <th>Validation Loss</th>\n",
                            "      <th>Accuracy</th>\n",
                            "    </tr>\n",
                            "  </thead>\n",
                            "  <tbody>\n",
                            "    <tr>\n",
                            "      <td>1</td>\n",
                            "      <td>No log</td>\n",
                            "      <td>0.058460</td>\n",
                            "      <td>0.986395</td>\n",
                            "    </tr>\n",
                            "    <tr>\n",
                            "      <td>2</td>\n",
                            "      <td>No log</td>\n",
                            "      <td>0.061713</td>\n",
                            "      <td>0.986395</td>\n",
                            "    </tr>\n",
                            "    <tr>\n",
                            "      <td>3</td>\n",
                            "      <td>No log</td>\n",
                            "      <td>0.063403</td>\n",
                            "      <td>0.986395</td>\n",
                            "    </tr>\n",
                            "  </tbody>\n",
                            "</table><p>"
                        ],
                        "text/plain": [
                            "<IPython.core.display.HTML object>"
                        ]
                    },
                    "metadata": {},
                    "output_type": "display_data"
                },
                {
                    "name": "stderr",
                    "output_type": "stream",
                    "text": [
                        "DEBUG:fsspec.local:open file: /home/john/.cache/huggingface/metrics/accuracy/default/default_experiment-1-0.arrow\n",
                        "DEBUG:fsspec.local:open file: /home/john/.cache/huggingface/metrics/accuracy/default/default_experiment-1-0.arrow\n",
                        "DEBUG:fsspec.local:open file: /home/john/.cache/huggingface/metrics/accuracy/default/default_experiment-1-0.arrow\n",
                        "INFO:SentimentClassifierSelfTrained:Training complete\n"
                    ]
                },
                {
                    "data": {
                        "text/html": [
                            "\n",
                            "    <div>\n",
                            "      \n",
                            "      <progress value='47' max='37' style='width:300px; height:20px; vertical-align: middle;'></progress>\n",
                            "      [37/37 04:39]\n",
                            "    </div>\n",
                            "    "
                        ],
                        "text/plain": [
                            "<IPython.core.display.HTML object>"
                        ]
                    },
                    "metadata": {},
                    "output_type": "display_data"
                },
                {
                    "name": "stderr",
                    "output_type": "stream",
                    "text": [
                        "DEBUG:fsspec.local:open file: /home/john/.cache/huggingface/metrics/accuracy/default/default_experiment-1-0.arrow\n",
                        "DEBUG:fsspec.local:open file: /home/john/.cache/huggingface/metrics/accuracy/default/default_experiment-1-0.arrow\n",
                        "DEBUG:fsspec.local:open file: /home/john/.cache/huggingface/metrics/accuracy/default/default_experiment-1-0.arrow\n",
                        "DEBUG:SentimentClassifierSelfTrained:\n",
                        "None\n",
                        "DEBUG:SentimentClassifierSelfTrained:\n",
                        "{'train_loss': 0.036677729338407516, 'train_accuracy': 0.9880444064901793, 'train_runtime': 227.0251, 'train_samples_per_second': 5.158, 'train_steps_per_second': 0.163, 'epoch': 3.0, 'validation_loss': 0.08431290090084076, 'validation_accuracy': 0.958904109589041, 'validation_runtime': 29.6965, 'validation_samples_per_second': 4.916, 'validation_steps_per_second': 0.168, 'test_loss': 0.06340292096138, 'test_accuracy': 0.9863945578231292, 'test_runtime': 29.3587, 'test_samples_per_second': 5.007, 'test_steps_per_second': 0.17}\n",
                        "INFO:EarlyStop:\n",
                        "test_accuracy improved by 0.47% from 0.9863945578231292 to 0.9818181818181818\n",
                        "DEBUG:SessionStats:None\n",
                        "Map:  80%|███████▉  | 1464/1831 [1:45:27<33:18,  5.45s/ examples]"
                    ]
                },
                {
                    "name": "stdout",
                    "output_type": "stream",
                    "text": [
                        "\n",
                        "\n",
                        "                                               Scores                                               \n",
                        "                                        train_loss | 0.036677729338407516\n",
                        "                                    train_accuracy | 0.9880444064901793\n",
                        "                                     train_runtime | 227.0251\n",
                        "                          train_samples_per_second | 5.158\n",
                        "                            train_steps_per_second | 0.163\n",
                        "                                              poch | 3.0\n",
                        "                                   validation_loss | 0.08431290090084076\n",
                        "                               validation_accuracy | 0.958904109589041\n",
                        "                                validation_runtime | 29.6965\n",
                        "                     validation_samples_per_second | 4.916\n",
                        "                       validation_steps_per_second | 0.168\n",
                        "                                         test_loss | 0.06340292096138\n",
                        "                                     test_accuracy | 0.9863945578231292\n",
                        "                                      test_runtime | 29.3587\n",
                        "                           test_samples_per_second | 5.007\n",
                        "                             test_steps_per_second | 0.17\n",
                        "\n",
                        "\n",
                        "\n",
                        "\n",
                        "                                 sentiment-analysis-lora-1831_v.13                                  \n",
                        "                                         iteration | 8\n",
                        "                                        model.name | sentiment-analysis-lora-1831_v.13\n",
                        "                                      dataset_size | 1831\n",
                        "                                              tart | 2024-05-08 00:00:17.825222\n",
                        "                                               top | 2024-05-08 00:18:38.812157\n",
                        "                                           runtime | 1100.986935\n",
                        "                                    train_accuracy | 0.9880444064901793\n",
                        "                               validation_accuracy | 0.958904109589041\n",
                        "                                     test_accuracy | 0.9863945578231292\n",
                        "                                           overfit | 1.0016726052003888\n",
                        "\n",
                        "\n"
                    ]
                },
                {
                    "name": "stderr",
                    "output_type": "stream",
                    "text": [
                        "INFO:SentimentClassifierSelfTrained:Predict method returning 183 predictions.\n",
                        "DEBUG:SentimentClassifierDataManager:Augmented 183 observations for a total labeled observations of 1647\n",
                        "DEBUG:SentimentClassifierDataManager:          app_id category_id rating  \\\n",
                        "0 336,430,939.00        6002   5.00   \n",
                        "1 570,060,128.00        6017   3.00   \n",
                        "2 917,932,200.00        6002   5.00   \n",
                        "3 384,830,320.00        6005   1.00   \n",
                        "4 728,659,261.00        6012   5.00   \n",
                        "\n",
                        "                                             content __index_level_0__ label  \\\n",
                        "0  Yes, it only plays four notes, but that's all ...             22828   POS   \n",
                        "1  It's really good the only thing I don't like i...            100400   NEG   \n",
                        "2                                        Easy to use             94557   POS   \n",
                        "3                                           Horrible            169929   NEG   \n",
                        "4  I recently used this service for the first tim...             22474   POS   \n",
                        "\n",
                        "   score  \n",
                        "0   1.00  \n",
                        "1   0.96  \n",
                        "2   1.00  \n",
                        "3   1.00  \n",
                        "4   1.00  \n",
                        "INFO:SentimentClassifierDataManager:None\n",
                        "DEBUG:SentimentClassifierSelfTrained:Tokenized Datasets:\n",
                        "DatasetDict({\n",
                        "    train: Dataset({\n",
                        "        features: ['labels', 'input_ids', 'token_type_ids', 'attention_mask'],\n",
                        "        num_rows: 1317\n",
                        "    })\n",
                        "    validation: Dataset({\n",
                        "        features: ['labels', 'input_ids', 'token_type_ids', 'attention_mask'],\n",
                        "        num_rows: 165\n",
                        "    })\n",
                        "    test: Dataset({\n",
                        "        features: ['labels', 'input_ids', 'token_type_ids', 'attention_mask'],\n",
                        "        num_rows: 165\n",
                        "    })\n",
                        "})\n",
                        "INFO:SentimentClassifierSelfTrained:Training started on 1317 observations.\n"
                    ]
                },
                {
                    "name": "stdout",
                    "output_type": "stream",
                    "text": [
                        "\n",
                        "\n",
                        "                                      Tokenized Dataset Sizes                                       \n",
                        "                                             Train | 1317\n",
                        "                                        Validation | 165\n",
                        "                                              Test | 165\n",
                        "\n",
                        "\n",
                        "\n",
                        "Training begun for EarlyStop begun at 2024-05-08 00:19:32.660545\n"
                    ]
                },
                {
                    "data": {
                        "text/html": [
                            "\n",
                            "    <div>\n",
                            "      \n",
                            "      <progress value='126' max='126' style='width:300px; height:20px; vertical-align: middle;'></progress>\n",
                            "      [126/126 14:48, Epoch 3/3]\n",
                            "    </div>\n",
                            "    <table border=\"1\" class=\"dataframe\">\n",
                            "  <thead>\n",
                            " <tr style=\"text-align: left;\">\n",
                            "      <th>Epoch</th>\n",
                            "      <th>Training Loss</th>\n",
                            "      <th>Validation Loss</th>\n",
                            "      <th>Accuracy</th>\n",
                            "    </tr>\n",
                            "  </thead>\n",
                            "  <tbody>\n",
                            "    <tr>\n",
                            "      <td>1</td>\n",
                            "      <td>No log</td>\n",
                            "      <td>0.084739</td>\n",
                            "      <td>0.957576</td>\n",
                            "    </tr>\n",
                            "    <tr>\n",
                            "      <td>2</td>\n",
                            "      <td>No log</td>\n",
                            "      <td>0.093379</td>\n",
                            "      <td>0.963636</td>\n",
                            "    </tr>\n",
                            "    <tr>\n",
                            "      <td>3</td>\n",
                            "      <td>No log</td>\n",
                            "      <td>0.054415</td>\n",
                            "      <td>0.981818</td>\n",
                            "    </tr>\n",
                            "  </tbody>\n",
                            "</table><p>"
                        ],
                        "text/plain": [
                            "<IPython.core.display.HTML object>"
                        ]
                    },
                    "metadata": {},
                    "output_type": "display_data"
                },
                {
                    "name": "stderr",
                    "output_type": "stream",
                    "text": [
                        "DEBUG:fsspec.local:open file: /home/john/.cache/huggingface/metrics/accuracy/default/default_experiment-1-0.arrow\n",
                        "DEBUG:fsspec.local:open file: /home/john/.cache/huggingface/metrics/accuracy/default/default_experiment-1-0.arrow\n",
                        "DEBUG:fsspec.local:open file: /home/john/.cache/huggingface/metrics/accuracy/default/default_experiment-1-0.arrow\n",
                        "INFO:SentimentClassifierSelfTrained:Training complete\n"
                    ]
                },
                {
                    "data": {
                        "text/html": [
                            "\n",
                            "    <div>\n",
                            "      \n",
                            "      <progress value='54' max='42' style='width:300px; height:20px; vertical-align: middle;'></progress>\n",
                            "      [42/42 05:03]\n",
                            "    </div>\n",
                            "    "
                        ],
                        "text/plain": [
                            "<IPython.core.display.HTML object>"
                        ]
                    },
                    "metadata": {},
                    "output_type": "display_data"
                },
                {
                    "name": "stderr",
                    "output_type": "stream",
                    "text": [
                        "DEBUG:fsspec.local:open file: /home/john/.cache/huggingface/metrics/accuracy/default/default_experiment-1-0.arrow\n",
                        "DEBUG:fsspec.local:open file: /home/john/.cache/huggingface/metrics/accuracy/default/default_experiment-1-0.arrow\n",
                        "DEBUG:fsspec.local:open file: /home/john/.cache/huggingface/metrics/accuracy/default/default_experiment-1-0.arrow\n",
                        "DEBUG:SentimentClassifierSelfTrained:\n",
                        "None\n",
                        "DEBUG:SentimentClassifierSelfTrained:\n",
                        "{'train_loss': 0.027296235784888268, 'train_accuracy': 0.9916476841305999, 'train_runtime': 241.046, 'train_samples_per_second': 5.464, 'train_steps_per_second': 0.174, 'epoch': 3.0, 'validation_loss': 0.0492328405380249, 'validation_accuracy': 0.9818181818181818, 'validation_runtime': 31.8445, 'validation_samples_per_second': 5.181, 'validation_steps_per_second': 0.188, 'test_loss': 0.054414551705121994, 'test_accuracy': 0.9818181818181818, 'test_runtime': 36.4286, 'test_samples_per_second': 4.529, 'test_steps_per_second': 0.165}\n",
                        "DEBUG:SessionStats:None\n",
                        "Map:  90%|████████▉ | 1647/1831 [2:06:26<18:04,  5.89s/ examples]"
                    ]
                },
                {
                    "name": "stdout",
                    "output_type": "stream",
                    "text": [
                        "\n",
                        "\n",
                        "                                               Scores                                               \n",
                        "                                        train_loss | 0.027296235784888268\n",
                        "                                    train_accuracy | 0.9916476841305999\n",
                        "                                     train_runtime | 241.046\n",
                        "                          train_samples_per_second | 5.464\n",
                        "                            train_steps_per_second | 0.174\n",
                        "                                              poch | 3.0\n",
                        "                                   validation_loss | 0.0492328405380249\n",
                        "                               validation_accuracy | 0.9818181818181818\n",
                        "                                validation_runtime | 31.8445\n",
                        "                     validation_samples_per_second | 5.181\n",
                        "                       validation_steps_per_second | 0.188\n",
                        "                                         test_loss | 0.054414551705121994\n",
                        "                                     test_accuracy | 0.9818181818181818\n",
                        "                                      test_runtime | 36.4286\n",
                        "                           test_samples_per_second | 4.529\n",
                        "                             test_steps_per_second | 0.165\n",
                        "\n",
                        "\n",
                        "\n",
                        "\n",
                        "                                 sentiment-analysis-lora-1831_v.13                                  \n",
                        "                                         iteration | 9\n",
                        "                                        model.name | sentiment-analysis-lora-1831_v.13\n",
                        "                                      dataset_size | 1831\n",
                        "                                              tart | 2024-05-08 00:19:32.661900\n",
                        "                                               top | 2024-05-08 00:39:37.218051\n",
                        "                                           runtime | 1204.556151\n",
                        "                                    train_accuracy | 0.9916476841305999\n",
                        "                               validation_accuracy | 0.9818181818181818\n",
                        "                                     test_accuracy | 0.9818181818181818\n",
                        "                                           overfit | 1.0100115301330184\n",
                        "\n",
                        "\n"
                    ]
                },
                {
                    "name": "stderr",
                    "output_type": "stream",
                    "text": [
                        "INFO:SentimentClassifierSelfTrained:Predict method returning 183 predictions.\n",
                        "DEBUG:SentimentClassifierDataManager:Augmented 183 observations for a total labeled observations of 1830\n",
                        "DEBUG:SentimentClassifierDataManager:            app_id category_id rating  \\\n",
                        "0   995,252,384.00        6013   5.00   \n",
                        "1 1,184,577,212.00        6012   3.00   \n",
                        "2   647,750,636.00        6002   5.00   \n",
                        "3 1,248,062,869.00        6018   3.00   \n",
                        "4   711,449,645.00        6020   2.00   \n",
                        "\n",
                        "                                             content __index_level_0__ label  \\\n",
                        "0  Definitely gives me a outlet to speak my feeli...             57418   POS   \n",
                        "1  Zap is cool, it has “many” (2, if you're lucky...            177912   NEG   \n",
                        "2                                        Amazing App            107485   POS   \n",
                        "3  This app has great writers and realistic story...            165403   POS   \n",
                        "4  But if the app takes you to the website for an...            158414   NEG   \n",
                        "\n",
                        "   score  \n",
                        "0   1.00  \n",
                        "1   1.00  \n",
                        "2   1.00  \n",
                        "3   1.00  \n",
                        "4   0.85  \n",
                        "INFO:SentimentClassifierDataManager:None\n",
                        "DEBUG:SentimentClassifierSelfTrained:Tokenized Datasets:\n",
                        "DatasetDict({\n",
                        "    train: Dataset({\n",
                        "        features: ['labels', 'input_ids', 'token_type_ids', 'attention_mask'],\n",
                        "        num_rows: 1464\n",
                        "    })\n",
                        "    validation: Dataset({\n",
                        "        features: ['labels', 'input_ids', 'token_type_ids', 'attention_mask'],\n",
                        "        num_rows: 183\n",
                        "    })\n",
                        "    test: Dataset({\n",
                        "        features: ['labels', 'input_ids', 'token_type_ids', 'attention_mask'],\n",
                        "        num_rows: 183\n",
                        "    })\n",
                        "})\n",
                        "INFO:SentimentClassifierSelfTrained:Training started on 1464 observations.\n"
                    ]
                },
                {
                    "name": "stdout",
                    "output_type": "stream",
                    "text": [
                        "\n",
                        "\n",
                        "                                      Tokenized Dataset Sizes                                       \n",
                        "                                             Train | 1464\n",
                        "                                        Validation | 183\n",
                        "                                              Test | 183\n",
                        "\n",
                        "\n",
                        "\n",
                        "Training begun for EarlyStop begun at 2024-05-08 00:40:15.197022\n"
                    ]
                },
                {
                    "data": {
                        "text/html": [
                            "\n",
                            "    <div>\n",
                            "      \n",
                            "      <progress value='138' max='138' style='width:300px; height:20px; vertical-align: middle;'></progress>\n",
                            "      [138/138 16:49, Epoch 3/3]\n",
                            "    </div>\n",
                            "    <table border=\"1\" class=\"dataframe\">\n",
                            "  <thead>\n",
                            " <tr style=\"text-align: left;\">\n",
                            "      <th>Epoch</th>\n",
                            "      <th>Training Loss</th>\n",
                            "      <th>Validation Loss</th>\n",
                            "      <th>Accuracy</th>\n",
                            "    </tr>\n",
                            "  </thead>\n",
                            "  <tbody>\n",
                            "    <tr>\n",
                            "      <td>1</td>\n",
                            "      <td>No log</td>\n",
                            "      <td>0.072157</td>\n",
                            "      <td>0.961749</td>\n",
                            "    </tr>\n",
                            "    <tr>\n",
                            "      <td>2</td>\n",
                            "      <td>No log</td>\n",
                            "      <td>0.051537</td>\n",
                            "      <td>0.978142</td>\n",
                            "    </tr>\n",
                            "    <tr>\n",
                            "      <td>3</td>\n",
                            "      <td>No log</td>\n",
                            "      <td>0.062494</td>\n",
                            "      <td>0.961749</td>\n",
                            "    </tr>\n",
                            "  </tbody>\n",
                            "</table><p>"
                        ],
                        "text/plain": [
                            "<IPython.core.display.HTML object>"
                        ]
                    },
                    "metadata": {},
                    "output_type": "display_data"
                },
                {
                    "name": "stderr",
                    "output_type": "stream",
                    "text": [
                        "DEBUG:fsspec.local:open file: /home/john/.cache/huggingface/metrics/accuracy/default/default_experiment-1-0.arrow\n",
                        "DEBUG:fsspec.local:open file: /home/john/.cache/huggingface/metrics/accuracy/default/default_experiment-1-0.arrow\n",
                        "DEBUG:fsspec.local:open file: /home/john/.cache/huggingface/metrics/accuracy/default/default_experiment-1-0.arrow\n",
                        "INFO:SentimentClassifierSelfTrained:Training complete\n"
                    ]
                },
                {
                    "data": {
                        "text/html": [
                            "\n",
                            "    <div>\n",
                            "      \n",
                            "      <progress value='58' max='46' style='width:300px; height:20px; vertical-align: middle;'></progress>\n",
                            "      [46/46 06:38]\n",
                            "    </div>\n",
                            "    "
                        ],
                        "text/plain": [
                            "<IPython.core.display.HTML object>"
                        ]
                    },
                    "metadata": {},
                    "output_type": "display_data"
                },
                {
                    "name": "stderr",
                    "output_type": "stream",
                    "text": [
                        "DEBUG:fsspec.local:open file: /home/john/.cache/huggingface/metrics/accuracy/default/default_experiment-1-0.arrow\n",
                        "DEBUG:fsspec.local:open file: /home/john/.cache/huggingface/metrics/accuracy/default/default_experiment-1-0.arrow\n",
                        "DEBUG:fsspec.local:open file: /home/john/.cache/huggingface/metrics/accuracy/default/default_experiment-1-0.arrow\n",
                        "DEBUG:SentimentClassifierSelfTrained:\n",
                        "None\n",
                        "DEBUG:SentimentClassifierSelfTrained:\n",
                        "{'train_loss': 0.03544449061155319, 'train_accuracy': 0.9904371584699454, 'train_runtime': 322.4778, 'train_samples_per_second': 4.54, 'train_steps_per_second': 0.143, 'epoch': 3.0, 'validation_loss': 0.04382188245654106, 'validation_accuracy': 0.9836065573770492, 'validation_runtime': 41.3948, 'validation_samples_per_second': 4.421, 'validation_steps_per_second': 0.145, 'test_loss': 0.06249383091926575, 'test_accuracy': 0.9617486338797814, 'test_runtime': 39.7953, 'test_samples_per_second': 4.599, 'test_steps_per_second': 0.151}\n",
                        "DEBUG:SessionStats:None\n",
                        "Map: 100%|█████████▉| 1830/1831 [2:30:44<00:06,  6.53s/ examples]"
                    ]
                },
                {
                    "name": "stdout",
                    "output_type": "stream",
                    "text": [
                        "\n",
                        "\n",
                        "                                               Scores                                               \n",
                        "                                        train_loss | 0.03544449061155319\n",
                        "                                    train_accuracy | 0.9904371584699454\n",
                        "                                     train_runtime | 322.4778\n",
                        "                          train_samples_per_second | 4.54\n",
                        "                            train_steps_per_second | 0.143\n",
                        "                                              poch | 3.0\n",
                        "                                   validation_loss | 0.04382188245654106\n",
                        "                               validation_accuracy | 0.9836065573770492\n",
                        "                                validation_runtime | 41.3948\n",
                        "                     validation_samples_per_second | 4.421\n",
                        "                       validation_steps_per_second | 0.145\n",
                        "                                         test_loss | 0.06249383091926575\n",
                        "                                     test_accuracy | 0.9617486338797814\n",
                        "                                      test_runtime | 39.7953\n",
                        "                           test_samples_per_second | 4.599\n",
                        "                             test_steps_per_second | 0.151\n",
                        "\n",
                        "\n",
                        "\n",
                        "\n",
                        "                                 sentiment-analysis-lora-1831_v.13                                  \n",
                        "                                         iteration | 10\n",
                        "                                        model.name | sentiment-analysis-lora-1831_v.13\n",
                        "                                      dataset_size | 1831\n",
                        "                                              tart | 2024-05-08 00:40:15.197411\n",
                        "                                               top | 2024-05-08 01:03:55.119043\n",
                        "                                           runtime | 1419.921632\n",
                        "                                    train_accuracy | 0.9904371584699454\n",
                        "                               validation_accuracy | 0.9836065573770492\n",
                        "                                     test_accuracy | 0.9617486338797814\n",
                        "                                           overfit | 1.0298295454545456\n",
                        "\n",
                        "\n"
                    ]
                },
                {
                    "name": "stderr",
                    "output_type": "stream",
                    "text": [
                        "INFO:SentimentClassifierSelfTrained:Predict method returning 1 predictions.\n",
                        "DEBUG:SentimentClassifierDataManager:Augmented 1 observations for a total labeled observations of 1831\n",
                        "DEBUG:SentimentClassifierDataManager:          app_id category_id rating  \\\n",
                        "0 736,179,781.00        6016   5.00   \n",
                        "\n",
                        "                                             content __index_level_0__ label  \\\n",
                        "0  Recently haven't been able to connect the app ...             79419   NEG   \n",
                        "\n",
                        "   score  \n",
                        "0   1.00  \n",
                        "INFO:SentimentClassifierDataManager:None\n",
                        "DEBUG:SentimentClassifierSelfTrained:Tokenized Datasets:\n",
                        "DatasetDict({\n",
                        "    train: Dataset({\n",
                        "        features: ['labels', 'input_ids', 'token_type_ids', 'attention_mask'],\n",
                        "        num_rows: 1464\n",
                        "    })\n",
                        "    validation: Dataset({\n",
                        "        features: ['labels', 'input_ids', 'token_type_ids', 'attention_mask'],\n",
                        "        num_rows: 183\n",
                        "    })\n",
                        "    test: Dataset({\n",
                        "        features: ['labels', 'input_ids', 'token_type_ids', 'attention_mask'],\n",
                        "        num_rows: 184\n",
                        "    })\n",
                        "})\n",
                        "INFO:SentimentClassifierSelfTrained:Training started on 1464 observations.\n"
                    ]
                },
                {
                    "name": "stdout",
                    "output_type": "stream",
                    "text": [
                        "\n",
                        "\n",
                        "                                      Tokenized Dataset Sizes                                       \n",
                        "                                             Train | 1464\n",
                        "                                        Validation | 183\n",
                        "                                              Test | 184\n",
                        "\n",
                        "\n",
                        "\n",
                        "Training begun for EarlyStop begun at 2024-05-08 01:04:07.892234\n"
                    ]
                },
                {
                    "data": {
                        "text/html": [
                            "\n",
                            "    <div>\n",
                            "      \n",
                            "      <progress value='17' max='138' style='width:300px; height:20px; vertical-align: middle;'></progress>\n",
                            "      [ 17/138 01:50 < 14:55, 0.14 it/s, Epoch 0.35/3]\n",
                            "    </div>\n",
                            "    <table border=\"1\" class=\"dataframe\">\n",
                            "  <thead>\n",
                            " <tr style=\"text-align: left;\">\n",
                            "      <th>Epoch</th>\n",
                            "      <th>Training Loss</th>\n",
                            "      <th>Validation Loss</th>\n",
                            "    </tr>\n",
                            "  </thead>\n",
                            "  <tbody>\n",
                            "  </tbody>\n",
                            "</table><p>"
                        ],
                        "text/plain": [
                            "<IPython.core.display.HTML object>"
                        ]
                    },
                    "metadata": {},
                    "output_type": "display_data"
                }
            ],
            "source": [
                "clf = SentimentClassifierSelfTrained(reviews=ReviewDataset(filepath=FILEPATH), \n",
                "                                     datamanager_config=datamanager_config, \n",
                "                                     train_config=train_config, \n",
                "                                     finetune_config=finetune_config, \n",
                "                                     callbacks=callbacks,\n",
                "                                     base_model=BASE_MODEL)\n",
                "history = clf.run()\n",
                "history"
            ]
        }
    ],
    "metadata": {
        "kernelspec": {
            "display_name": "appvocai-discover",
            "language": "python",
            "name": "python3"
        },
        "language_info": {
            "codemirror_mode": {
                "name": "ipython",
                "version": 3
            },
            "file_extension": ".py",
            "mimetype": "text/x-python",
            "name": "python",
            "nbconvert_exporter": "python",
            "pygments_lexer": "ipython3",
            "version": "3.1.undefined"
        }
    },
    "nbformat": 4,
    "nbformat_minor": 2
}