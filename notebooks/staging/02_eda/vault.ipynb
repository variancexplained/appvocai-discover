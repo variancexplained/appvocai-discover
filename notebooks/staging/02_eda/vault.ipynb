{
    "cells": [
        {
            "cell_type": "code",
            "execution_count": 1,
            "metadata": {},
            "outputs": [],
            "source": [
                "import os\n",
                "if 'jbook' in os.getcwd():\n",
                "    os.chdir(os.path.abspath(os.path.join(\"../..\")))\n",
                "import warnings\n",
                "warnings.filterwarnings(\"ignore\")"
            ]
        },
        {
            "cell_type": "markdown",
            "metadata": {
                "tags": [
                    "hide-cell"
                ]
            },
            "source": [
                "## Preliminaries\n",
                "Imports, let's get this out of the way."
            ]
        },
        {
            "cell_type": "code",
            "execution_count": 2,
            "metadata": {
                "tags": [
                    "hide-cell"
                ]
            },
            "outputs": [],
            "source": [
                "import warnings\n",
                "from appvocai-discover.app.overview import DatasetOverview\n",
                "warnings.simplefilter(\"ignore\")"
            ]
        },
        {
            "cell_type": "code",
            "execution_count": 3,
            "metadata": {
                "tags": [
                    "hide-cell"
                ]
            },
            "outputs": [],
            "source": [
                "DIRECTORY = \"04_features\"\n",
                "FILENAME = \"reviews.pkl\""
            ]
        },
        {
            "cell_type": "markdown",
            "metadata": {},
            "source": [
                "## AppVoC Overview and Summary\n"
            ]
        },
        {
            "cell_type": "code",
            "execution_count": 4,
            "metadata": {},
            "outputs": [
                {
                    "name": "stdout",
                    "output_type": "stream",
                    "text": [
                        "\n",
                        "\n",
                        "                                AppVoC Overview                                 \n",
                        "                       Number of Reviews | 17109\n",
                        "                         Number of Users | 17097\n",
                        "                          Number of Apps | 3997\n",
                        "                    Number of Categories | 10\n",
                        "                    Date of First Review | 2008-09-04\n",
                        "                     Date of Last Review | 2023-08-17\n",
                        "\n",
                        "\n"
                    ]
                }
            ],
            "source": [
                "ov = DatasetOverview(directory=DIRECTORY, filename=FILENAME)\n",
                "ov.overview\n",
                "\n"
            ]
        },
        {
            "cell_type": "markdown",
            "metadata": {},
            "source": [
                "## AppVoC Overview and Summary\n",
                "The App Store review dataset was compiled in December of 2023 and encapsulates user sentiment or opinion of mobile apps in the Apple Appstore from July of 2008 through August of 2023. The preprocessed dataset comprising 17 variables and is structured as follows:\n",
                "\n",
                "| #  | Name          | Data Type      | Measurement | Description                                                                                         |\n",
                "|----|---------------|----------------|-------------|-----------------------------------------------------------------------------------------------------|\n",
                "| 1  | id            | string         | nominal     | Unique identifier for each review.                                                                  |\n",
                "| 2  | app_id        | string         | nominal     | Unique identifier for each app in the App Store.                                                    |\n",
                "| 3  | app_name      | string         | nominal     | Name for each app in the App Store.                                                                 |\n",
                "| 4  | category      | category       | nominal     | Name of the category or genre to which each app belongs.                                            |\n",
                "| 5  | author        | string         | nominal     | 10-character hash sequence representing a unique review author.                                     |\n",
                "| 6  | rating        | numeric        | interval    | Represents the author's level of satisfaction with the app on a   five-point scale from 1 to 5.     |\n",
                "| 7  | title         | string         | nominal     | String that characterizes or summarizes a review.                                                   |\n",
                "| 8  | content       | text           | nominal     | Strings that comprise an app review.                                                                |\n",
                "| 9  | review_length | numeric        | discrete    | Number of words in a review.                                                                        |\n",
                "| 10 | vote_count    | numeric        | discrete    | Number of users that cast a vote on the usefullness or value of a   review.                         |\n",
                "| 11 | vote_sum      | numeric        | discrete    | Total of the value of the votes given by users indicating the value or   usefullness of a review.   |\n",
                "| 12 | date          | datetime64[ms] | interval    | The date the review was submitted.                                                                  |\n",
                "| 13 | year          | numeric        | interval    | The year the review was submitted.                                                                  |\n",
                "| 14 | month         | numeric        | interval    | The month the review was submitted.                                                                 |\n",
                "| 15 | day           | numeric        | interval    | The day the review was submitted.                                                                   |\n",
                "| 16 | year_month    | numeric        | interval    | The year and month the review was submitted.                                                        |\n",
                "| 17 | ymd           | numeric        | interval    | The year month a day the review was submitted.                                                      |\n",
                " \n",
                "\n",
                "We begin by examining basic information about the dataset such as the number of observations, variables/features, and storage data types, but first..."
            ]
        },
        {
            "cell_type": "markdown",
            "metadata": {},
            "source": [
                "### Assumption and Justification for Treating Ratings as Interval Data\n",
                "For the purposes of this analysis, we assume that the ratings are measured on an interval scale. This implies that the differences between consecutive rating values are consistent and meaningful. Specifically, the difference in satisfaction between a rating of 1 and 2 is the same as between a rating of 4 and 5.\n",
                "\n",
                "### Theoretical Justification:\n",
                "1. **Interval Scale Properties**:\n",
                "   - **Equal Intervals**: Interval scales have equal intervals between points, which means that the difference between any two consecutive points on the scale is the same throughout the scale.\n",
                "   - **Arithmetic Operations**: Because interval scales have equal intervals, arithmetic operations such as addition and averaging are meaningful. This allows us to compute metrics like the average rating to summarize central tendency.\n",
                "\n",
                "2. **Ordinal vs. Interval**:\n",
                "   - **Ordinal Data**: Ratings can be considered ordinal, indicating a rank order without assuming equal intervals (e.g., 1-star is worse than 2-star, but the difference might not be the same as between 3-star and 4-star).\n",
                "   - **Interval Assumption**: By assuming equal intervals, we can leverage more sophisticated statistical techniques and derive summary statistics that can be easily interpreted and compared.\n",
                "\n",
                "### Precedent and Practical Use:\n",
                "1. **Industry Standard**:\n",
                "   - Many popular platforms and services (such as Amazon, IMDb, and Yelp) commonly calculate and display average ratings. This suggests a practical acceptance and precedent for treating ratings as interval data.\n",
                "   - These platforms provide average ratings as a key metric for summarizing user feedback and comparing different products, services, or categories.\n",
                "\n",
                "2. **Analytical Utility**:\n",
                "   - **Average Rating**: The average rating is a widely used and easily understood metric that provides a quick summary of overall user satisfaction.\n",
                "   - **Statistical Analysis**: Treating ratings as interval data allows us to perform more comprehensive statistical analyses, such as regression and correlation analysis, which require numerical data.\n",
                "\n",
                "### Practical Considerations:\n",
                "1. **Potential Bias**: It is important to recognize that the assumption of equal intervals might not perfectly reflect all users' perceptions. Some users may perceive the difference between certain ratings as larger or smaller than others.\n",
                "2. **Communication**: When presenting the results, we will clarify that the average rating is calculated based on the assumption of equal intervals and discuss any potential implications.\n",
                "\n",
                "By treating ratings as interval data, we align with common industry practices and leverage the full range of statistical tools available for numerical data. This approach allows us to compute average ratings and other summary statistics that provide valuable insights into user feedback and overall satisfaction."
            ]
        },
        {
            "cell_type": "markdown",
            "metadata": {},
            "source": [
                "Let's examine some basic characteristics of the dataset."
            ]
        },
        {
            "cell_type": "code",
            "execution_count": 5,
            "metadata": {},
            "outputs": [
                {
                    "data": {
                        "text/plain": [
                            "<function appvocai-discover.app.overview.cachenow.<locals>.decorator.<locals>.wrapper>"
                        ]
                    },
                    "execution_count": 5,
                    "metadata": {},
                    "output_type": "execute_result"
                }
            ],
            "source": [
                "ov.structure"
            ]
        },
        {
            "cell_type": "markdown",
            "metadata": {},
            "source": [
                "This confirms the number of observations and variables in the dataset. The memory footprint is non-trivial, suggesting that efficient data processing techniques will be necessary to handle the dataset effectively."
            ]
        },
        {
            "cell_type": "markdown",
            "metadata": {},
            "source": [
                " This table provides a summary of key metrics, including the number of reviews, users, apps, and categories. Let's examine the profile of the data."
            ]
        },
        {
            "cell_type": "markdown",
            "metadata": {},
            "source": [
                "## Data Profile\n",
                "The profile summarizes the data and aspects of data quality in terms of:\n",
                "\n",
                "- **Column**: Represents the column names in the dataset.\n",
                "- **DataType**: Indicates the data type of each column.\n",
                "- **Complete**: Displays the count of complete cases (non-null values) in each column.\n",
                "- **Null**: Shows the count of null values in each column.\n",
                "- **Completeness**: Represents the completeness of each column, calculated as the ratio of complete cases to the total number of cases.\n",
                "- **Unique**: Indicates the count of unique values in each column.\n",
                "- **Duplicate**: Displays the count of duplicate values in each column.\n",
                "- **Uniqueness**: Represents the uniqueness of values within each column, calculated as the ratio of unique values to the total number of cases.\n",
                "- **Size**: Represents the size of the column in bytes.\n",
                "\n"
            ]
        },
        {
            "cell_type": "code",
            "execution_count": 6,
            "metadata": {},
            "outputs": [
                {
                    "data": {
                        "text/plain": [
                            "<function appvocai-discover.app.overview.cachenow.<locals>.decorator.<locals>.wrapper>"
                        ]
                    },
                    "execution_count": 6,
                    "metadata": {},
                    "output_type": "execute_result"
                }
            ],
            "source": [
                "ov.info"
            ]
        },
        {
            "cell_type": "markdown",
            "metadata": {},
            "source": [
                "All columns in the dataset are complete with no null values. Key observations include high uniqueness in identifiers like `id` and `author`, while columns such as `category`, `rating`, and `vote_sum` show very low uniqueness. Some columns, such as `app_id` and `app_name`, have significant duplication. Each columns's overall size in bytes varies, with the `content` column being notably large due to its detailed text data.\n",
                "\n",
                "Here is a breakdown of reviews by category, revealing a breadth of diversity of user feedback."
            ]
        },
        {
            "cell_type": "code",
            "execution_count": 7,
            "metadata": {},
            "outputs": [
                {
                    "data": {
                        "text/plain": [
                            "<function appvocai-discover.app.overview.cachenow.<locals>.decorator.<locals>.wrapper>"
                        ]
                    },
                    "execution_count": 7,
                    "metadata": {},
                    "output_type": "execute_result"
                }
            ],
            "source": [
                "ov.summary"
            ]
        },
        {
            "cell_type": "markdown",
            "metadata": {},
            "source": [
                "The dataset showcases a diverse range of categories, spanning from books and education to social networking and utilities. This diversity reflects the broad spectrum of apps and services available in the dataset.\n",
                "\n",
                "Having introduced the dataset, let's outline how our exploratory data analysis will unfold over the next few sections."
            ]
        },
        {
            "cell_type": "markdown",
            "metadata": {},
            "source": [
                "## Data Distribution Exploration\n",
                "In the data distribution exploration section, we examine the statistical characteristics and patterns inherent within the dataset.\n",
                "\n",
                "### Numeric Variable Distributions\n",
                "Starting with the numeric variables, we expose insights into their spread, central tendency, and shape.\n",
                "\n",
                "#### Rating\n",
                "Let's begin with descriptive statistics and visualization of ratings data. Apps are rated on a five-point scale."
            ]
        },
        {
            "cell_type": "code",
            "execution_count": 8,
            "metadata": {},
            "outputs": [
                {
                    "ename": "NameError",
                    "evalue": "name 'reviews' is not defined",
                    "output_type": "error",
                    "traceback": [
                        "\u001b[0;31m---------------------------------------------------------------------------\u001b[0m",
                        "\u001b[0;31mNameError\u001b[0m                                 Traceback (most recent call last)",
                        "Cell \u001b[0;32mIn[8], line 1\u001b[0m\n\u001b[0;32m----> 1\u001b[0m \u001b[43mreviews\u001b[49m\u001b[38;5;241m.\u001b[39mdescribe(x\u001b[38;5;241m=\u001b[39m[\u001b[38;5;124m\"\u001b[39m\u001b[38;5;124mrating\u001b[39m\u001b[38;5;124m\"\u001b[39m])\u001b[38;5;241m.\u001b[39mnumeric\u001b[38;5;241m.\u001b[39mT\n",
                        "\u001b[0;31mNameError\u001b[0m: name 'reviews' is not defined"
                    ]
                }
            ],
            "source": [
                "reviews.describe(x=[\"rating\"]).numeric.T"
            ]
        },
        {
            "cell_type": "code",
            "execution_count": null,
            "metadata": {},
            "outputs": [],
            "source": [
                "reviews.plot.countplot(x=\"rating\", title=\"Distribution of Ratings\")"
            ]
        },
        {
            "cell_type": "markdown",
            "metadata": {},
            "source": [
                "The ratings data exhibit a notable concentration toward the higher end, with a significant proportion of ratings clustered around the upper quartile (75th percentile). The median rating of 5 suggests that a substantial portion of reviews have received the highest possible rating, indicating overall positive sentiment towards the mobile applications. Additionally, the relatively low standard deviation implies that ratings tend to be consistent around the mean, albeit with some variability."
            ]
        },
        {
            "cell_type": "markdown",
            "metadata": {},
            "source": [
                "#### Vote Sum\n",
                "Users are able to rate a review as being helpful on a scale of 1 to 5. Vote sum represents the sum of votes rendered on reviews. "
            ]
        },
        {
            "cell_type": "code",
            "execution_count": null,
            "metadata": {},
            "outputs": [],
            "source": [
                "reviews.describe(x=[\"vote_sum\"]).numeric.T"
            ]
        },
        {
            "cell_type": "code",
            "execution_count": null,
            "metadata": {},
            "outputs": [],
            "source": [
                "\n",
                "fig, ax = plt.subplots(nrows=2, ncols=1, figsize=(12,6))\n",
                "histogram = reviews.plot.histogram(x=\"vote_sum\", title=\"Vote Sum Histogram\", ax=ax[0])\n",
                "boxplot = reviews.plot.violinplot(x=\"vote_sum\", title=\"Vote Sum Violin Plot\", ax=ax[1])\n",
                "_ = fig.suptitle(\"Distribution of Vote Sum\")\n",
                "fig.tight_layout()\n",
                "plt.show()\n"
            ]
        },
        {
            "cell_type": "markdown",
            "metadata": {},
            "source": [
                "The distribution of the vote_sum variable reveals that the majority of reviews have received a minimal number of votes, as indicated by the median (50th percentile) and 75th percentile values of 0.00. However, the presence of a non-zero mean value suggests the existence of a relatively small number of reviews with higher vote counts. Additionally, the wide standard deviation indicates significant variability in the number of votes received, with some reviews receiving a substantial number of votes, as evidenced by the maximum value of 4,433."
            ]
        },
        {
            "cell_type": "markdown",
            "metadata": {},
            "source": [
                "#### Vote Count\n",
                "Vote count represents the number of users who rendered a vote for a specific review."
            ]
        },
        {
            "cell_type": "code",
            "execution_count": null,
            "metadata": {},
            "outputs": [],
            "source": [
                "reviews.describe(x=[\"vote_count\"]).numeric.T"
            ]
        },
        {
            "cell_type": "code",
            "execution_count": null,
            "metadata": {},
            "outputs": [],
            "source": [
                "fig, ax = plt.subplots(nrows=2, ncols=1, figsize=(12,6))\n",
                "histogram = reviews.plot.histogram(x=\"vote_count\", title=\"Vote Count Histogram\", ax=ax[0])\n",
                "boxplot = reviews.plot.violinplot(x=\"vote_count\", title=\"Vote Count Violin Plot\", ax=ax[1])\n",
                "_ = fig.suptitle(\"Distribution of Vote Count\")\n",
                "fig.tight_layout()\n",
                "plt.show()"
            ]
        },
        {
            "cell_type": "markdown",
            "metadata": {},
            "source": [
                "The statistics for the vote_count variable indicate that the majority of reviews have not received any votes, as demonstrated by the median (50th percentile) and 75th percentile values of 0.00. The mean value being greater than zero suggests the presence of a subset of reviews with non-zero vote counts, albeit with a wide standard deviation, indicating significant variability in the number of votes received. The maximum value of 8,494 highlights the existence of a small number of reviews with exceptionally high vote counts."
            ]
        },
        {
            "cell_type": "markdown",
            "metadata": {},
            "source": [
                "#### Review Length\n",
                "Review length is measured in terms of the number of words in the review."
            ]
        },
        {
            "cell_type": "code",
            "execution_count": null,
            "metadata": {},
            "outputs": [],
            "source": [
                "reviews.describe(x=[\"review_length\"]).numeric.T"
            ]
        },
        {
            "cell_type": "code",
            "execution_count": null,
            "metadata": {},
            "outputs": [],
            "source": [
                "fig, ax = plt.subplots(nrows=2, ncols=1, figsize=(12,6))\n",
                "histogram = reviews.plot.histogram(x=\"review_length\", title=\"Review Length Histogram\", ax=ax[0], kde=True)\n",
                "boxplot = reviews.plot.violinplot(x=\"review_length\", title=\"Review Length Violin Plot\", ax=ax[1])\n",
                "_ = fig.suptitle(\"Distribution of Review Length\")\n",
                "fig.tight_layout()\n",
                "plt.show()"
            ]
        },
        {
            "cell_type": "markdown",
            "metadata": {},
            "source": [
                "The distribution of review_length demonstrates considerable variability, with a mean of 28.31 and a standard deviation of 37.13. The majority of reviews have relatively short lengths, as evidenced by the median (50th percentile) and 75th percentile values of 17.00 and 36.00, respectively. However, there is notable variability, with some reviews being significantly longer, as indicated by the maximum length of 2,624 words. Additionally, the presence of reviews with a minimum length of 0 suggests the existence of empty or very short reviews in the dataset."
            ]
        },
        {
            "cell_type": "markdown",
            "metadata": {},
            "source": [
                "### Categorical Frequency Distributions\n",
                "Next, we explore the frequency distribution and composition of categorical variables.\n",
                "\n",
                "#### App ID\n",
                "The `app_id` uniquely identifies an app in the Apple App ecosystem."
            ]
        },
        {
            "cell_type": "code",
            "execution_count": null,
            "metadata": {},
            "outputs": [],
            "source": [
                "reviews.describe(x=[\"app_id\"]).categorical.T"
            ]
        },
        {
            "cell_type": "markdown",
            "metadata": {},
            "source": [
                "The frequency distribution of app IDs reveals that there are 34,064 unique mobile applications represented in the dataset. The most common app ID, 341232718 occurs with a frequency of 338,097. This app ID is associated with a significant number of reviews within the dataset, suggesting a high level of user engagement or popularity for this particular application."
            ]
        },
        {
            "cell_type": "code",
            "execution_count": null,
            "metadata": {},
            "outputs": [],
            "source": [
                "counts, stats = reviews.countstats(x='app_id')\n",
                "stats"
            ]
        },
        {
            "cell_type": "markdown",
            "metadata": {},
            "source": [
                "The distribution of `app_id` counts reveals considerable variability in the number of reviews associated with each unique app ID. The mean count of reviews per app ID is 528.14, with a standard deviation of 4,864.06, indicating significant dispersion around the mean. \n",
                "\n",
                "The range of counts per app ID is substantial, with the minimum count being 1 and the maximum count reaching as high as 338,097. Indeed, the difference between the mean and the 50th percentile evinces significant right skew in the shape of the distribution. The quartile values further illustrate this variability, with 25% of app IDs having 9 or fewer reviews, 50% having 27 or fewer reviews, and 75% having 109 or fewer reviews.  \n",
                "\n",
                "The wide range and dispersion in app ID counts suggest that the dataset encompasses a diverse range of mobile applications, with some apps receiving relatively few reviews while others are associated with a much larger volume of reviews."
            ]
        },
        {
            "cell_type": "markdown",
            "metadata": {},
            "source": [
                "#### Author\n",
                "The authors names have been hashed; however, we can evaluate the distribution of author reviews\n",
                "within the dataset."
            ]
        },
        {
            "cell_type": "code",
            "execution_count": null,
            "metadata": {},
            "outputs": [],
            "source": [
                "reviews.describe(x=['author']).categorical.T"
            ]
        },
        {
            "cell_type": "markdown",
            "metadata": {},
            "source": [
                "The dataset contains a total of 17,990,555 authors, out of which 13,242,121 are unique. The most frequently occurring author ID in the dataset is \"32322782b8377dd81989\", which appears 126 times. This indicates that while there are a vast number of unique authors, some authors are significantly more prolific or more frequently represented than others."
            ]
        },
        {
            "cell_type": "code",
            "execution_count": null,
            "metadata": {},
            "outputs": [],
            "source": [
                "counts, stats = reviews.countstats(x='author')\n",
                "stats"
            ]
        },
        {
            "cell_type": "markdown",
            "metadata": {},
            "source": [
                "The dataset includes 13,242,121 unique authors. On average, each author has 1.36 entries in the dataset, with a standard deviation of 1.03. The number of entries per author ranges from a minimum of 1 to a maximum of 126. The 25th, 50th (median), and 75th percentiles are all 1, indicating that most authors have only a single entry. However, there are a few authors with significantly higher counts, as reflected by the maximum value."
            ]
        },
        {
            "cell_type": "markdown",
            "metadata": {},
            "source": [
                "#### App Name"
            ]
        },
        {
            "cell_type": "code",
            "execution_count": null,
            "metadata": {},
            "outputs": [],
            "source": [
                "reviews.describe(x=[\"app_name\"]).categorical.T"
            ]
        },
        {
            "cell_type": "markdown",
            "metadata": {},
            "source": [
                "The summary of the `app_name` variable reveals that there are 17,990,555 observations in the dataset, consisting of 34,051 unique mobile application names. The most frequently occurring app name is \"MyFitnessPal: Calorie Counter,\" which appears 338,097 times in the dataset. This suggests that \"MyFitnessPal: Calorie Counter\" is the most commonly reviewed or referenced mobile application among the dataset's observations."
            ]
        },
        {
            "cell_type": "code",
            "execution_count": null,
            "metadata": {},
            "outputs": [],
            "source": [
                "counts, stats = reviews.countstats(x='app_name')\n",
                "stats"
            ]
        },
        {
            "cell_type": "markdown",
            "metadata": {},
            "source": [
                "The summary statistics for the `app_name` variable indicate that there are 34,051 unique mobile application names in the dataset. The mean count of reviews per app name is 528.34, with a standard deviation of 4,864.99, suggesting significant variability in the number of reviews associated with each app name. The distribution ranges from a minimum of 1 review to a maximum of 338,097 reviews, with quartile values indicating that 25% of app names have 9 or fewer reviews, 50% have 27 or fewer reviews, and 75% have 109 or fewer reviews."
            ]
        },
        {
            "cell_type": "markdown",
            "metadata": {},
            "source": [
                "#### Category Id\n",
                "The `category_id` numerically references a specific category or genre in the App Store."
            ]
        },
        {
            "cell_type": "code",
            "execution_count": null,
            "metadata": {},
            "outputs": [],
            "source": [
                "reviews.describe(x=[\"category_id\"]).categorical.T"
            ]
        },
        {
            "cell_type": "markdown",
            "metadata": {},
            "source": [
                "The frequency distribution for the `category_id` variable reveals that there are 17,990,555 observations in the dataset, categorized into 11 unique category IDs. The most frequently occurring category ID is \"6013,\" which appears 3,946,182 times in the dataset. This indicates that category ID \"6013\" is the most common category among the observations, suggesting that a significant proportion of reviews belong to this particular category."
            ]
        },
        {
            "cell_type": "code",
            "execution_count": null,
            "metadata": {},
            "outputs": [],
            "source": [
                "counts, stats = reviews.countstats(x='category_id')\n",
                "stats"
            ]
        },
        {
            "cell_type": "code",
            "execution_count": null,
            "metadata": {},
            "outputs": [],
            "source": [
                "reviews.plot.countplot(x=\"category_id\", title=\"Distribution of Category IDs\")"
            ]
        },
        {
            "cell_type": "markdown",
            "metadata": {},
            "source": [
                "The summary statistics for the `category_id` variable indicate that there are 11 unique category IDs in the dataset. The mean category ID count is 1,635,505.00, with a standard deviation of 1,173,223.76, suggesting variability in the number of reviews across categories. The distribution ranges from a minimum category ID count of 9 to a maximum count of 3,946,182, with quartile values indicating that 25% of category IDs have a count of 807,466.50 or fewer, 50% have 1,405,019.00 or fewer, and 75% have 2,378,821.50 or fewer."
            ]
        },
        {
            "cell_type": "markdown",
            "metadata": {},
            "source": [
                "#### Category"
            ]
        },
        {
            "cell_type": "code",
            "execution_count": null,
            "metadata": {},
            "outputs": [],
            "source": [
                "reviews.describe(x=[\"category\"]).categorical.T"
            ]
        },
        {
            "cell_type": "markdown",
            "metadata": {},
            "source": [
                "The summary of the `category` variable indicates that there are 17,990,555 observations in the dataset, categorized into 11 unique categories. The most frequently occurring category is \"Health & Fitness,\" which appears 3,946,182 times in the dataset. This suggests that \"Health & Fitness\" is the most common category among the observations, indicating a significant proportion of reviews are related to this category."
            ]
        },
        {
            "cell_type": "code",
            "execution_count": null,
            "metadata": {},
            "outputs": [],
            "source": [
                "counts, stats = reviews.countstats(x='category')\n",
                "stats"
            ]
        },
        {
            "cell_type": "code",
            "execution_count": null,
            "metadata": {},
            "outputs": [],
            "source": [
                "_ = reviews.plot.countplot(x=\"category\", title=\"Distribution of Categories\")"
            ]
        },
        {
            "cell_type": "markdown",
            "metadata": {},
            "source": [
                "The `category` and `category_id` variables share precisely the same distribution. The summary statistics for the `category` variable show that there are 11 unique categories in the dataset. The mean count of observations per category is approximately 1,635,505, with a standard deviation of approximately 1,173,223.76. The distribution ranges from a minimum of 9 observations to a maximum of 3,946,182 observations. Quartile values suggest that 25% of categories have 807,466.50 or fewer observations, 50% have 1,405,019.00 or fewer observations, and 75% have 2,378,821.50 or fewer observations."
            ]
        },
        {
            "cell_type": "markdown",
            "metadata": {},
            "source": [
                "### Temporal Analysis\n",
                "Finally, we have the datetime variable, `date`, which indicates the date the review was submitted."
            ]
        },
        {
            "cell_type": "code",
            "execution_count": null,
            "metadata": {},
            "outputs": [],
            "source": [
                "reviews.describe(x=[\"date\"], include=\"datetime\").numeric"
            ]
        },
        {
            "cell_type": "code",
            "execution_count": null,
            "metadata": {},
            "outputs": [],
            "source": [
                "histogram = reviews.plot.histogram(x=\"date\", title=\"Review Date Histogram\", fill=True, kde=True)"
            ]
        },
        {
            "cell_type": "markdown",
            "metadata": {},
            "source": [
                "The frequency distribution for the `date` variable indicates that there are 17,990,555 observations in the dataset. The mean date is approximately November 29, 2017, suggesting that the average review date falls around this time. \n",
                "\n",
                "The earliest review date in the dataset is July 10, 2008, while the latest review date is August 19, 2023, indicating a broad range of review dates over a span of several years.\n",
                "\n",
                "The quartile values provide insight into the distribution of review dates:\n",
                "- 25% of the reviews occurred on or before October 10, 2014.\n",
                "- 50% of the reviews occurred on or before June 10, 2018.\n",
                "- 75% of the reviews occurred on or before January 6, 2021.\n",
                "\n",
                "Overall, the distribution of review dates spans a wide range, with reviews occurring over a period of more than a decade, from 2008 to 2023."
            ]
        },
        {
            "cell_type": "markdown",
            "metadata": {},
            "source": [
                "#### Reviews by Year\n",
                "Our dataset contains reviews from 2008 through 2023. For which years were users most opinionated?"
            ]
        },
        {
            "cell_type": "code",
            "execution_count": null,
            "metadata": {},
            "outputs": [],
            "source": [
                "df_dates = IOService.read(FP_DATES)\n"
            ]
        },
        {
            "cell_type": "code",
            "execution_count": null,
            "metadata": {},
            "outputs": [],
            "source": [
                "counts, stats = reviews.countstats(x=\"year\", df=df_dates)\n",
                "counts.sort_values(by=\"year\", inplace=True)"
            ]
        },
        {
            "cell_type": "code",
            "execution_count": null,
            "metadata": {},
            "outputs": [],
            "source": [
                "_ = reviews.plot.barplot(data=counts, x='year', y=\"count\", title=\"Distribution of Reviews by Year\")"
            ]
        },
        {
            "cell_type": "markdown",
            "metadata": {},
            "source": [
                "Several observations are made:\n",
                "- Review counts have generally increased over the years, with a noticeable spike in 2020. \n",
                "- There's a gradual upward trend from 2008 to 2019, followed by a significant jump in 2020, indicating a potential surge in activity or interest. \n",
                "- While there are fluctuations in review counts between years, the overall trend suggests a growing engagement or usage over time, with particularly high activity in recent years."
            ]
        },
        {
            "cell_type": "markdown",
            "metadata": {},
            "source": [
                "#### Reviews by Month\n",
                "What is the distribution of reviews by month over the entire dataset period, and are there any notable trends or patterns in the monthly review counts?"
            ]
        },
        {
            "cell_type": "code",
            "execution_count": null,
            "metadata": {},
            "outputs": [],
            "source": [
                "counts, stats = reviews.countstats(x=\"month\", df=df_dates)"
            ]
        },
        {
            "cell_type": "code",
            "execution_count": null,
            "metadata": {},
            "outputs": [],
            "source": [
                "_ = reviews.plot.barplot(data=counts, x='month', y=\"count\", title=\"Distribution of Reviews by Month\")"
            ]
        },
        {
            "cell_type": "markdown",
            "metadata": {},
            "source": [
                "Here are key points from the review counts by month:\n",
                "- January has the highest number of reviews, followed closely by March, May, and July.\n",
                "- November has the lowest review count among the months.\n",
                "- There's a relatively consistent level of activity from April to August, with slight variations.\n",
                "- The months with the highest review counts (January, March, May, July) might correspond to periods of increased activity, possibly influenced by seasonal or external factors."
            ]
        },
        {
            "cell_type": "markdown",
            "metadata": {},
            "source": [
                "#### Reviews by Day of Week\n",
                "How does the volume of opinion vary throughout the week?"
            ]
        },
        {
            "cell_type": "code",
            "execution_count": null,
            "metadata": {},
            "outputs": [],
            "source": [
                "counts, stats = reviews.countstats(x=\"day\", df=df_dates)"
            ]
        },
        {
            "cell_type": "code",
            "execution_count": null,
            "metadata": {},
            "outputs": [],
            "source": [
                "_ = reviews.plot.barplot(data=counts, x='day', y=\"count\", title=\"Distribution of Reviews by Day of Week\")"
            ]
        },
        {
            "cell_type": "markdown",
            "metadata": {},
            "source": [
                "Several points are illuminated here:\n",
                "- Wednesday has the highest number of reviews, followed closely by Tuesday and Thursday.\n",
                "- Saturday and Sunday have the lowest review counts among the days of the week.\n",
                "- There's a relatively consistent level of activity from Monday to Friday, with slight variations.\n",
                "- The higher review counts on weekdays compared to weekends suggest that more reviews are submitted during the workweek, possibly reflecting patterns of user engagement or behavior."
            ]
        },
        {
            "cell_type": "markdown",
            "metadata": {},
            "source": [
                "#### Reviews Top Day and Month \n",
                "Which month and day had the most reviews over the 15 year span in the dataset."
            ]
        },
        {
            "cell_type": "code",
            "execution_count": null,
            "metadata": {},
            "outputs": [],
            "source": [
                "counts, stats = reviews.countstats(x=\"year_month\", df=df_dates)\n",
                "counts[['year_month', 'count']][0:5]\n"
            ]
        },
        {
            "cell_type": "markdown",
            "metadata": {},
            "source": [
                "Based on the provided table showing the top 5 months by review count, it can be inferred that:\n",
                "- The months of April, March, and May 2020 experienced exceptionally high review counts, indicating a period of heightened user engagement or activity, possibly influenced by global events or seasonal trends.\n",
                "- Additionally, the presence of January 2021 and July 2023 in the top 5 suggests sustained interest or increased activity across different time periods, highlighting the importance of monitoring trends over time to understand user behavior and engagement patterns."
            ]
        },
        {
            "cell_type": "code",
            "execution_count": null,
            "metadata": {},
            "outputs": [],
            "source": [
                "counts, stats = reviews.countstats(x=\"ymd\", df=df_dates)\n",
                "counts[['ymd', \"count\"]][0:5]"
            ]
        },
        {
            "cell_type": "markdown",
            "metadata": {},
            "source": [
                "Based on the provided table showing the top days by review count, it may be inferred that:\n",
                "- March and April 2020 were particularly active periods, with multiple days featuring prominently in the top rankings. This suggests that these months may have been marked by significant events or developments that prompted increased user engagement.\n",
                "- The top days, such as March 13th and May 15th, likely correspond to specific events or moments of heightened activity within those months, indicating the importance of monitoring and understanding temporal patterns to glean insights into user behavior and engagement trends."
            ]
        },
        {
            "cell_type": "markdown",
            "metadata": {},
            "source": [
                "## Variable Relationships\n",
                "In this bivariate analysis section of our exploratory data analysis (EDA), we aim to investigate the\n",
                "relationships between pairs of variables within our dataset, and understand how different variables\n",
                "interact with each other and identify potential correlations or associations. By examining\n",
                "combinations of categorical, ordinal, and numerical variables, we will uncover insights that are not apparent from univariate analysis alone."
            ]
        },
        {
            "cell_type": "markdown",
            "metadata": {},
            "source": [
                "### Categorical Analysis\n",
                "In this section, we'll evaluate the relationships among categorical variables such as category and author in terms of review, app, and author counts. We will motivate this part of the analysis with a few guiding questions: \n",
                "\n",
                "1. What is the distribution of review counts by category?\n",
                "2. What is the distribution of app counts by category?\n",
                "3. What is the distribution of authors by category?\n",
                "\n",
                "Such an examination will illuminate the level of engagement among the categories from app, review and author perspectives."
            ]
        },
        {
            "cell_type": "markdown",
            "metadata": {},
            "source": [
                "#### Distribution Review Counts by Category"
            ]
        },
        {
            "cell_type": "code",
            "execution_count": null,
            "metadata": {},
            "outputs": [],
            "source": [
                "counts, stats = reviews.countstats(by=[\"category\"], var=\"id\", unique=False)\n",
                "counts.set_index(keys=[\"category\"], inplace=True)\n",
                "counts.T"
            ]
        },
        {
            "cell_type": "code",
            "execution_count": null,
            "metadata": {},
            "outputs": [],
            "source": [
                "_ = reviews.plot.barplot(data=counts, x=\"category\", y=\"count\", title=\"Review Counts by Category\")"
            ]
        },
        {
            "cell_type": "markdown",
            "metadata": {},
            "source": [
                "The distribution of reviews across different categories highlights varying levels of user engagement and interest:\n",
                "\n",
                "- **Health & Fitness**: Dominates with the highest number of reviews at 3,946,182.\n",
                "- **Utilities**: Follows closely with 2,928,883 reviews.\n",
                "- **Social Networking**: Also highly popular, gathering 2,735,869 reviews.\n",
                "- **Entertainment**: Attracts substantial user interaction with 2,021,774 reviews.\n",
                "- **Business, Education, and Lifestyle**: Each has over a million reviews, reflecting significant but slightly lower engagement compared to top categories.\n",
                "- **Productivity and Medical**: Moderate interest with 822,674 and 621,340 reviews, respectively.\n",
                "- **Book**: Moderate engagement with 792,259 reviews.\n",
                "- **Shopping**: Exceptionally low engagement, with only 9 reviews, which is likely an outlier or underreporting.\n",
                "\n",
                "This summary provides a snapshot of user review distribution across app categories."
            ]
        },
        {
            "cell_type": "markdown",
            "metadata": {},
            "source": [
                "##### Distribution of Author Counts by Category\n",
                "Here, we examine the number of users who've written reviews by category to assess user engagement from this dimension."
            ]
        },
        {
            "cell_type": "code",
            "execution_count": null,
            "metadata": {},
            "outputs": [],
            "source": [
                "\n",
                "df = reviews.subset\n",
                "counts\n"
            ]
        },
        {
            "cell_type": "markdown",
            "metadata": {},
            "source": [
                "### Summary of Distribution of Author Reviews by Category\n",
                "\n",
                "The table summarizes the statistical distribution of the number of reviews written by authors across different app categories. Each category includes data on count, mean, standard deviation (std), and various percentiles.\n",
                "\n",
                "- **Total Author Reviews**: Each category has the same total count of 13,242,121 reviews.\n",
                "\n",
                "- **Mean (Average Reviews per Author)**:\n",
                "  - Highest: **Health & Fitness (0.30)**\n",
                "  - High: Utilities (0.22), Social Networking (0.21)\n",
                "  - Moderate: Entertainment (0.15), Lifestyle (0.12), Business (0.11)\n",
                "  - Lower: Education (0.08), Book (0.06), Productivity (0.06), Medical (0.05)\n",
                "  - Lowest: Shopping (0.00)\n",
                "\n",
                "- **Standard Deviation (Variability in Reviews per Author)**:\n",
                "  - Highest variability: **Health & Fitness (0.58)**\n",
                "  - High variability: Utilities (0.49), Social Networking (0.45), Entertainment (0.40)\n",
                "  - Moderate variability: Business (0.34), Lifestyle (0.35), Education (0.30), Productivity (0.27)\n",
                "  - Lower variability: Medical (0.23), Book (0.25)\n",
                "  - Lowest variability: Shopping (0.00)\n",
                "\n",
                "- **Percentiles**:\n",
                "  - **25th, 50th, 75th Percentiles**: Most categories have the 25th, 50th, and 75th percentiles at 0.00, indicating that a significant portion of authors have not written multiple reviews. \n",
                "  - **75th Percentile**: Health & Fitness has a higher 75th percentile (1.00), indicating that 25% of authors have written more than one review.\n",
                "\n",
                "- **Maximum Reviews by a Single Author**:\n",
                "  - Highest: **Business (75 reviews)**\n",
                "  - Other high values: Medical (39), Utilities (41), Health & Fitness (57), Social Networking (24), Productivity (32), Education (28)\n",
                "  - Moderate values: Entertainment (23), Book (28), Lifestyle (12)\n",
                "  - Lowest: Shopping (1 review)\n",
                "\n",
                "### Interpretation:\n",
                "- **Health & Fitness** stands out with the highest average number of reviews per author and the highest variability, suggesting intense engagement by a smaller group of authors.\n",
                "- **Utilities and Social Networking** also show high average reviews and variability, reflecting significant user interaction.\n",
                "- **Shopping** has the lowest engagement, with minimal reviews per author.\n",
                "- The majority of authors in most categories have written very few reviews, as indicated by the lower percentiles.\n",
                "\n",
                "This summary is visually supported by the following barplot to illustrate the differences in the average number of reviews per author across categories."
            ]
        },
        {
            "cell_type": "code",
            "execution_count": null,
            "metadata": {},
            "outputs": [],
            "source": [
                "stats"
            ]
        },
        {
            "cell_type": "code",
            "execution_count": null,
            "metadata": {},
            "outputs": [],
            "source": [
                "df = stats.loc[(\"count\",\"mean\")].reset_index()\n",
                "df.columns = [\"category\", \"count\"]\n",
                "_ = reviews.plot.barplot(data=df,x=\"category\", y=\"count\", title=\"Average Author Reviews by Category\")\n"
            ]
        },
        {
            "cell_type": "markdown",
            "metadata": {},
            "source": [
                "##### Reviews by Category"
            ]
        }
    ],
    "metadata": {
        "kernelspec": {
            "display_name": "appvocai-discover",
            "language": "python",
            "name": "python3"
        },
        "language_info": {
            "codemirror_mode": {
                "name": "ipython",
                "version": 3
            },
            "file_extension": ".py",
            "mimetype": "text/x-python",
            "name": "python",
            "nbconvert_exporter": "python",
            "pygments_lexer": "ipython3",
            "version": "3.10.14"
        }
    },
    "nbformat": 4,
    "nbformat_minor": 2
}