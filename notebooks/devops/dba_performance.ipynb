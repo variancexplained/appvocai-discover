{
 "cells": [
  {
   "cell_type": "markdown",
   "metadata": {},
   "source": [
    "# DevOps: Performance Database Administration"
   ]
  },
  {
   "cell_type": "code",
   "execution_count": 1,
   "metadata": {},
   "outputs": [],
   "source": [
    "import sys\n",
    "from sqlalchemy import Table, Column, Integer, String, Float, ForeignKey\n",
    "from appvocai-genailabslm.container import genai-lab-slmContainer"
   ]
  },
  {
   "cell_type": "markdown",
   "metadata": {},
   "source": [
    "## SQLAlchemy MetaData"
   ]
  },
  {
   "cell_type": "markdown",
   "metadata": {},
   "source": [
    "## Metric Table DDL"
   ]
  },
  {
   "cell_type": "code",
   "execution_count": null,
   "metadata": {},
   "outputs": [],
   "source": [
    "metric_table = Table(\n",
    "    \"metric\",\n",
    "    metadata,\n",
    "    Column(\"id\", Integer, primary_key=True),\n",
    "    Column(\"task\", String),\n",
    "    Column(\"runtime\", Float),\n",
    "    Column(\"cpu_usage_pct\", Float),\n",
    "    Column(\"memory_usage\", Float),\n",
    "    Column(\"disk_read_bytes\", Integer),\n",
    "    Column(\"disk_write_bytes\", Integer),\n",
    "    Column(\"disk_total_bytes\", Integer),\n",
    "    Column(\"disk_read_time\", Integer),\n",
    "    Column(\"disk_write_time\", Integer),\n",
    "    Column(\"disk_total_time\", Integer),\n",
    "    Column(\"disk_busy_time\", Integer),\n",
    "    Column(\"input_records\", Integer),\n",
    "    Column(\"output_records\", Integer),\n",
    "    Column(\"input_records_per_second\", Integer),\n",
    "    Column(\"output_records_per_second\", Integer),\n",
    "    Column(\"timestamp\", Integer),\n",
    "    Column(\"task\", ForeignKey(\"task.task\"), nullable=False)\n",
    ")"
   ]
  },
  {
   "cell_type": "markdown",
   "metadata": {},
   "source": [
    "## Task Table DDL"
   ]
  },
  {
   "cell_type": "code",
   "execution_count": null,
   "metadata": {},
   "outputs": [],
   "source": [
    "task_table = Table(\n",
    "    \"task\",\n",
    "    metadata,\n",
    "    Column(\"id\", Integer, primary_key=True),\n",
    "    Column(\"phase\", String),\n",
    "    Column(\"stage\", String),\n",
    "    Column(\"task\", String),\n",
    "    Column(\"task\", ForeignKey(\"metric.task\"), nullable=False)\n",
    ")"
   ]
  }
 ],
 "metadata": {
  "kernelspec": {
   "display_name": "genai-lab-slm",
   "language": "python",
   "name": "python3"
  },
  "language_info": {
   "codemirror_mode": {
    "name": "ipython",
    "version": 3
   },
   "file_extension": ".py",
   "mimetype": "text/x-python",
   "name": "python",
   "nbconvert_exporter": "python",
   "pygments_lexer": "ipython3",
   "version": "3.10.14"
  }
 },
 "nbformat": 4,
 "nbformat_minor": 2
}
