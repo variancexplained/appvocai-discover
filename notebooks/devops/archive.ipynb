{
 "cells": [
  {
   "cell_type": "markdown",
   "metadata": {},
   "source": [
    "# Data Archive Notebook"
   ]
  },
  {
   "cell_type": "code",
   "execution_count": 7,
   "metadata": {},
   "outputs": [],
   "source": [
    "from discover.infra.tools.file.compress import TarGzHandler\n",
    "import shutil\n",
    "import os"
   ]
  },
  {
   "cell_type": "code",
   "execution_count": 8,
   "metadata": {},
   "outputs": [],
   "source": [
    "source = \"workspace/prod/00_dataprep/02_dqa/reviews\"\n",
    "destination = \"data/archive/prod/dataprep_02_dqa_reviews_20241012.tar.gz\""
   ]
  },
  {
   "cell_type": "code",
   "execution_count": 9,
   "metadata": {},
   "outputs": [
    {
     "name": "stdout",
     "output_type": "stream",
     "text": [
      "Compressed workspace/prod/00_dataprep/02_dqa/reviews into data/archive/prod/dataprep_02_dqa_reviews_20241012.tar.gz\n"
     ]
    }
   ],
   "source": [
    "targz = TarGzHandler()\n",
    "targz.compress_file(file_path=source, tar_gz_path=destination)\n",
    "if os.path.exists(destination):\n",
    "    shutil.rmtree(source)"
   ]
  }
 ],
 "metadata": {
  "kernelspec": {
   "display_name": "appvocai",
   "language": "python",
   "name": "python3"
  },
  "language_info": {
   "codemirror_mode": {
    "name": "ipython",
    "version": 3
   },
   "file_extension": ".py",
   "mimetype": "text/x-python",
   "name": "python",
   "nbconvert_exporter": "python",
   "pygments_lexer": "ipython3",
   "version": "3.10.14"
  }
 },
 "nbformat": 4,
 "nbformat_minor": 2
}
