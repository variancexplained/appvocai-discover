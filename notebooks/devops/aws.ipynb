{
 "cells": [
  {
   "cell_type": "markdown",
   "metadata": {},
   "source": [
    "# Amazon AWS    "
   ]
  },
  {
   "cell_type": "code",
   "execution_count": 1,
   "metadata": {},
   "outputs": [],
   "source": [
    "from appvocai-genailabslm.utils.aws import S3Downloader"
   ]
  },
  {
   "cell_type": "code",
   "execution_count": 2,
   "metadata": {},
   "outputs": [],
   "source": [
    "BUCKET_NAME = \"appstore-raw\"\n",
    "S3_KEY = \"appstore_2023-09-17_T113629.tar.gz\"\n",
    "LOCAL_PATH = \"data/raw/appstore_2023-09-17_T113629.tar.gz\"\n"
   ]
  },
  {
   "cell_type": "code",
   "execution_count": 3,
   "metadata": {},
   "outputs": [
    {
     "name": "stdout",
     "output_type": "stream",
     "text": [
      "Downloaded appstore_2023-09-17_T113629.tar.gz from appstore-raw to data/raw/appstore_2023-09-17_T113629.tar.gz\n"
     ]
    }
   ],
   "source": [
    "dl = S3Downloader()\n",
    "dl.download_file(bucket_name=BUCKET_NAME, s3_key=S3_KEY, local_path=LOCAL_PATH)"
   ]
  }
 ],
 "metadata": {
  "kernelspec": {
   "display_name": "genai-lab-slm",
   "language": "python",
   "name": "python3"
  },
  "language_info": {
   "codemirror_mode": {
    "name": "ipython",
    "version": 3
   },
   "file_extension": ".py",
   "mimetype": "text/x-python",
   "name": "python",
   "nbconvert_exporter": "python",
   "pygments_lexer": "ipython3",
   "version": "3.10.14"
  }
 },
 "nbformat": 4,
 "nbformat_minor": 2
}
