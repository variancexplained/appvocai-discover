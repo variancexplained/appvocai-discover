{
    "cells": [
        {
            "cell_type": "code",
            "execution_count": 1,
            "metadata": {
                "tags": [
                    "remove-cell"
                ]
            },
            "outputs": [],
            "source": [
                "import os\n",
                "if 'jbook' in os.getcwd():\n",
                "    os.chdir(os.path.abspath(os.path.join(\"../..\")))\n",
                "import warnings\n",
                "warnings.filterwarnings(\"ignore\")"
            ]
        },
        {
            "cell_type": "markdown",
            "metadata": {},
            "source": [
                "# Cleaning\n",
                "\n",
                "This stage involves systematically addressing anomalies identified during the data quality assessment.\n",
                "\n",
                "## Approach to Addressing Anomalies\n",
                "\n",
                "During the data quality assessment, we identified various anomalies within the dataset. Each anomaly was then evaluated to estimate its potential impact on subsequent analyses. This evaluation process categorized anomalies into four distinct levels of criticality:\n",
                "\n",
                "1. **Critical**: These anomalies have a significant impact on the integrity and reliability of the data. If left unaddressed, they could severely distort the results of any analysis. Examples include duplicate records, non-English text (if the analysis is language-specific), and invalid ratings.\n",
                "\n",
                "2. **High**: High impact anomalies also pose a substantial threat to the validity of the analysis but are slightly less severe than critical issues. These include records with excessive special characters, profanity, and privacy-related issues such as email addresses, or phone numbers embedded in the text.\n",
                "\n",
                "3. **Medium**: Medium impact anomalies have a moderate effect on the analysis. While they do not necessarily distort results as severely as critical or high issues, they can still introduce noise and reduce the overall quality of insights. Examples include outliers in vote sums and vote counts.\n",
                "\n",
                "4. **Low**: Low impact anomalies are considered minor issues that have minimal impact on the overall analysis. These include the presence of emojis and URLs in the text, which typically do not affect the analytical outcome significantly.\n",
                "\n",
                "## Removal Criteria\n",
                "\n",
                "Based on the criticality assessment, a systematic approach was adopted to handle these anomalies:\n",
                "\n",
                "- **Critical and High Impact Issues**: Observations containing anomalies classified as critical or high impact were earmarked for removal. The rationale behind this strict approach is to eliminate any potential distortions in the analysis that could arise from these severe issues. By removing these observations, we ensure that the dataset maintains a high level of integrity and reliability.\n",
                "\n",
                "- **Medium and Low Impact Issues**: Anomalies classified as medium or low impact were not grounds for removal of the observations. Instead, these issues were retained in the dataset to preserve as much data as possible while accepting a tolerable level of noise. This approach balances the need for data quality with the necessity of maintaining a sufficient volume of data for robust analysis.\n",
                "\n",
                "## Sorting\n",
                "Reviews are sorted by date to support temporal analysis.\n"
            ]
        },
        {
            "cell_type": "code",
            "execution_count": 2,
            "metadata": {},
            "outputs": [],
            "source": [
                "from appvocai-discover.data_prep.clean import DataCleaner, CleanConfig\n",
                "from appvocai-discover.analysis.dqa import DataQualityAnalysis"
            ]
        },
        {
            "cell_type": "code",
            "execution_count": 3,
            "metadata": {},
            "outputs": [
                {
                    "name": "stdout",
                    "output_type": "stream",
                    "text": [
                        "\n",
                        "\n",
                        "# ============================================================================ #\n",
                        "#                             DataCleaner Pipeline                             #\n",
                        "# ============================================================================ #\n",
                        "\n"
                    ]
                },
                {
                    "name": "stderr",
                    "output_type": "stream",
                    "text": [
                        "Error executing function 'DataCleaningTask.run': 'Column not found in the DataFrame: \"[\\'dqa_is_duplicate_rating_id\\', \\'dqa_app_name_non_english\\', \\'dqa_has_profanity\\'] not in index\"'\n"
                    ]
                },
                {
                    "name": "stdout",
                    "output_type": "stream",
                    "text": [
                        "Task Reader completed successfully.\n"
                    ]
                },
                {
                    "name": "stderr",
                    "output_type": "stream",
                    "text": [
                        "Exception occurred in DataCleaningTask.run called with <appvocai-discover.data_prep.clean.DataCleaningTask object at 0x7f0550ebb1c0>,                   id      app_id                        app_name category_id  \\\n",
                        "0         1119912682   302584613                   Amazon Kindle        6018   \n",
                        "1          599135993   377951542           Crackle - Movies & TV        6016   \n",
                        "2          817378711   379693831    Audible: Audio Entertainment        6018   \n",
                        "3         1140598740   454638411                       Messenger        6005   \n",
                        "4         5104781144   912561374    Marco Polo - Video Messenger        6005   \n",
                        "...              ...         ...                             ...         ...   \n",
                        "22166586  7129296333  1075603018                      Funimation        6016   \n",
                        "22166587  8063238669  1492683521  TuckerMoji - Tucker Budzyn Dog        6016   \n",
                        "22166588  4677288812   316800034                         Workday        6000   \n",
                        "22166589  8030630370  1269081011      Zoe: Lesbian Dating & Chat        6005   \n",
                        "22166590   829561864   532457588           Tip Calculator % Gold        6023   \n",
                        "\n",
                        "                   category                author  rating  \\\n",
                        "0                      Book  d2358b883165f67f1c7a       5   \n",
                        "1             Entertainment  9894e5c595f721134031       4   \n",
                        "2                      Book  17d3294e9ba52b6e991e       1   \n",
                        "3         Social Networking  5a2fdce30b0f0e36878f       1   \n",
                        "4         Social Networking  4edc9a386d1204b7160a       5   \n",
                        "...                     ...                   ...     ...   \n",
                        "22166586      Entertainment  2dbc07d1ff7e577bd22b       1   \n",
                        "22166587      Entertainment  45b8b3869bb1746588b6       5   \n",
                        "22166588           Business  7f665e7ca98c9fe7c375       2   \n",
                        "22166589  Social Networking  80cb15a40cdb48e8b5d6       5   \n",
                        "22166590       Food & Drink  9cc9cc38571ed8e3dedf       5   \n",
                        "\n",
                        "                                                    content  vote_sum  \\\n",
                        "0         I read using the kindle app several times a da...         0   \n",
                        "1                                                     Cesar         0   \n",
                        "2         No way to see other books or browse titles.  I...         0   \n",
                        "3         I have a messenger app already. Its my text me...         0   \n",
                        "4         I love getting little video messages!  Gives m...         0   \n",
                        "...                                                     ...       ...   \n",
                        "22166586  Banner ad for the subscription options clearly...         0   \n",
                        "22166587  Its awesome. Its a great way to express tucker...         0   \n",
                        "22166588                              Difficult to navigate         0   \n",
                        "22166589              Seems fun can't wait to have some Fun         0   \n",
                        "22166590                         Easy to use, very helpful.         0   \n",
                        "\n",
                        "          vote_count  ... dqa_vote_count_outlier  dqa_content_non_english  \\\n",
                        "0                  0  ...                  False                    False   \n",
                        "1                  0  ...                  False                    False   \n",
                        "2                  0  ...                  False                    False   \n",
                        "3                  0  ...                  False                    False   \n",
                        "4                  0  ...                  False                    False   \n",
                        "...              ...  ...                    ...                      ...   \n",
                        "22166586           0  ...                  False                    False   \n",
                        "22166587           0  ...                  False                    False   \n",
                        "22166588           0  ...                  False                    False   \n",
                        "22166589           0  ...                  False                    False   \n",
                        "22166590           0  ...                  False                    False   \n",
                        "\n",
                        "          dqa_app_name_non_english_app_name  dqa_has_emoji  \\\n",
                        "0                                      True          False   \n",
                        "1                                      True          False   \n",
                        "2                                     False          False   \n",
                        "3                                     False          False   \n",
                        "4                                     False          False   \n",
                        "...                                     ...            ...   \n",
                        "22166586                              False          False   \n",
                        "22166587                              False           True   \n",
                        "22166588                              False          False   \n",
                        "22166589                              False          False   \n",
                        "22166590                               True          False   \n",
                        "\n",
                        "          dqa_has_excessive_special_chars  dqa_date_invalid  \\\n",
                        "0                                   False             False   \n",
                        "1                                   False             False   \n",
                        "2                                   False             False   \n",
                        "3                                   False             False   \n",
                        "4                                   False             False   \n",
                        "...                                   ...               ...   \n",
                        "22166586                            False             False   \n",
                        "22166587                            False             False   \n",
                        "22166588                            False             False   \n",
                        "22166589                            False             False   \n",
                        "22166590                            False             False   \n",
                        "\n",
                        "          dqa_rating_invalid  dqa_contains_email  dqa_contains_url  \\\n",
                        "0                      False               False             False   \n",
                        "1                      False               False             False   \n",
                        "2                      False               False             False   \n",
                        "3                      False               False             False   \n",
                        "4                      False               False             False   \n",
                        "...                      ...                 ...               ...   \n",
                        "22166586               False               False             False   \n",
                        "22166587               False               False             False   \n",
                        "22166588               False               False             False   \n",
                        "22166589               False               False             False   \n",
                        "22166590               False               False             False   \n",
                        "\n",
                        "          dqa_contains_phone_number  \n",
                        "0                             False  \n",
                        "1                             False  \n",
                        "2                             False  \n",
                        "3                             False  \n",
                        "4                             False  \n",
                        "...                             ...  \n",
                        "22166586                      False  \n",
                        "22166587                      False  \n",
                        "22166588                      False  \n",
                        "22166589                      False  \n",
                        "22166590                      False  \n",
                        "\n",
                        "[22166591 rows x 25 columns]\n",
                        "'Column not found in the DataFrame: \"[\\'dqa_is_duplicate_rating_id\\', \\'dqa_app_name_non_english\\', \\'dqa_has_profanity\\'] not in index\"'\n",
                        "Traceback (most recent call last):\n",
                        "  File \"/home/john/projects/appvocai-discover/appvocai-discover/data_prep/clean.py\", line 186, in run\n",
                        "    mask_to_remove = data[self._issues_to_remove].sum(axis=1) > 0\n",
                        "  File \"/home/john/miniconda3/envs/appvocai-discover/lib/python3.10/site-packages/pandas/core/frame.py\", line 3899, in __getitem__\n",
                        "    indexer = self.columns._get_indexer_strict(key, \"columns\")[1]\n",
                        "  File \"/home/john/miniconda3/envs/appvocai-discover/lib/python3.10/site-packages/pandas/core/indexes/base.py\", line 6115, in _get_indexer_strict\n",
                        "    self._raise_if_missing(keyarr, indexer, axis_name)\n",
                        "  File \"/home/john/miniconda3/envs/appvocai-discover/lib/python3.10/site-packages/pandas/core/indexes/base.py\", line 6179, in _raise_if_missing\n",
                        "    raise KeyError(f\"{not_found} not in index\")\n",
                        "KeyError: \"['dqa_is_duplicate_rating_id', 'dqa_app_name_non_english', 'dqa_has_profanity'] not in index\"\n",
                        "\n",
                        "During handling of the above exception, another exception occurred:\n",
                        "\n",
                        "Traceback (most recent call last):\n",
                        "  File \"/home/john/projects/appvocai-discover/appvocai-discover/infrastructure/logging.py\", line 33, in wrapper\n",
                        "    return func(*args, **kwargs)\n",
                        "  File \"/home/john/projects/appvocai-discover/appvocai-discover/infrastructure/profiling/decorator.py\", line 52, in wrapper\n",
                        "    result = func(*args, **kwargs)\n",
                        "  File \"/home/john/projects/appvocai-discover/appvocai-discover/data_prep/clean.py\", line 190, in run\n",
                        "    raise KeyError(f\"Column not found in the DataFrame: {e}\")\n",
                        "KeyError: 'Column not found in the DataFrame: \"[\\'dqa_is_duplicate_rating_id\\', \\'dqa_app_name_non_english\\', \\'dqa_has_profanity\\'] not in index\"'\n"
                    ]
                },
                {
                    "ename": "KeyError",
                    "evalue": "'Column not found in the DataFrame: \"[\\'dqa_is_duplicate_rating_id\\', \\'dqa_app_name_non_english\\', \\'dqa_has_profanity\\'] not in index\"'",
                    "output_type": "error",
                    "traceback": [
                        "\u001b[0;31m---------------------------------------------------------------------------\u001b[0m",
                        "\u001b[0;31mKeyError\u001b[0m                                  Traceback (most recent call last)",
                        "File \u001b[0;32m~/projects/appvocai-discover/appvocai-discover/data_prep/clean.py:186\u001b[0m, in \u001b[0;36mDataCleaningTask.run\u001b[0;34m(self, data)\u001b[0m\n\u001b[1;32m    185\u001b[0m \u001b[38;5;28;01mtry\u001b[39;00m:\n\u001b[0;32m--> 186\u001b[0m     mask_to_remove \u001b[38;5;241m=\u001b[39m \u001b[43mdata\u001b[49m\u001b[43m[\u001b[49m\u001b[38;5;28;43mself\u001b[39;49m\u001b[38;5;241;43m.\u001b[39;49m\u001b[43m_issues_to_remove\u001b[49m\u001b[43m]\u001b[49m\u001b[38;5;241m.\u001b[39msum(axis\u001b[38;5;241m=\u001b[39m\u001b[38;5;241m1\u001b[39m) \u001b[38;5;241m>\u001b[39m \u001b[38;5;241m0\u001b[39m\n\u001b[1;32m    187\u001b[0m     clean_df \u001b[38;5;241m=\u001b[39m data[\u001b[38;5;241m~\u001b[39mmask_to_remove]\n",
                        "File \u001b[0;32m~/miniconda3/envs/appvocai-discover/lib/python3.10/site-packages/pandas/core/frame.py:3899\u001b[0m, in \u001b[0;36mDataFrame.__getitem__\u001b[0;34m(self, key)\u001b[0m\n\u001b[1;32m   3898\u001b[0m         key \u001b[38;5;241m=\u001b[39m \u001b[38;5;28mlist\u001b[39m(key)\n\u001b[0;32m-> 3899\u001b[0m     indexer \u001b[38;5;241m=\u001b[39m \u001b[38;5;28;43mself\u001b[39;49m\u001b[38;5;241;43m.\u001b[39;49m\u001b[43mcolumns\u001b[49m\u001b[38;5;241;43m.\u001b[39;49m\u001b[43m_get_indexer_strict\u001b[49m\u001b[43m(\u001b[49m\u001b[43mkey\u001b[49m\u001b[43m,\u001b[49m\u001b[43m \u001b[49m\u001b[38;5;124;43m\"\u001b[39;49m\u001b[38;5;124;43mcolumns\u001b[39;49m\u001b[38;5;124;43m\"\u001b[39;49m\u001b[43m)\u001b[49m[\u001b[38;5;241m1\u001b[39m]\n\u001b[1;32m   3901\u001b[0m \u001b[38;5;66;03m# take() does not accept boolean indexers\u001b[39;00m\n",
                        "File \u001b[0;32m~/miniconda3/envs/appvocai-discover/lib/python3.10/site-packages/pandas/core/indexes/base.py:6115\u001b[0m, in \u001b[0;36mIndex._get_indexer_strict\u001b[0;34m(self, key, axis_name)\u001b[0m\n\u001b[1;32m   6113\u001b[0m     keyarr, indexer, new_indexer \u001b[38;5;241m=\u001b[39m \u001b[38;5;28mself\u001b[39m\u001b[38;5;241m.\u001b[39m_reindex_non_unique(keyarr)\n\u001b[0;32m-> 6115\u001b[0m \u001b[38;5;28;43mself\u001b[39;49m\u001b[38;5;241;43m.\u001b[39;49m\u001b[43m_raise_if_missing\u001b[49m\u001b[43m(\u001b[49m\u001b[43mkeyarr\u001b[49m\u001b[43m,\u001b[49m\u001b[43m \u001b[49m\u001b[43mindexer\u001b[49m\u001b[43m,\u001b[49m\u001b[43m \u001b[49m\u001b[43maxis_name\u001b[49m\u001b[43m)\u001b[49m\n\u001b[1;32m   6117\u001b[0m keyarr \u001b[38;5;241m=\u001b[39m \u001b[38;5;28mself\u001b[39m\u001b[38;5;241m.\u001b[39mtake(indexer)\n",
                        "File \u001b[0;32m~/miniconda3/envs/appvocai-discover/lib/python3.10/site-packages/pandas/core/indexes/base.py:6179\u001b[0m, in \u001b[0;36mIndex._raise_if_missing\u001b[0;34m(self, key, indexer, axis_name)\u001b[0m\n\u001b[1;32m   6178\u001b[0m not_found \u001b[38;5;241m=\u001b[39m \u001b[38;5;28mlist\u001b[39m(ensure_index(key)[missing_mask\u001b[38;5;241m.\u001b[39mnonzero()[\u001b[38;5;241m0\u001b[39m]]\u001b[38;5;241m.\u001b[39munique())\n\u001b[0;32m-> 6179\u001b[0m \u001b[38;5;28;01mraise\u001b[39;00m \u001b[38;5;167;01mKeyError\u001b[39;00m(\u001b[38;5;124mf\u001b[39m\u001b[38;5;124m\"\u001b[39m\u001b[38;5;132;01m{\u001b[39;00mnot_found\u001b[38;5;132;01m}\u001b[39;00m\u001b[38;5;124m not in index\u001b[39m\u001b[38;5;124m\"\u001b[39m)\n",
                        "\u001b[0;31mKeyError\u001b[0m: \"['dqa_is_duplicate_rating_id', 'dqa_app_name_non_english', 'dqa_has_profanity'] not in index\"",
                        "\nDuring handling of the above exception, another exception occurred:\n",
                        "\u001b[0;31mKeyError\u001b[0m                                  Traceback (most recent call last)",
                        "Cell \u001b[0;32mIn[3], line 3\u001b[0m\n\u001b[1;32m      1\u001b[0m config \u001b[38;5;241m=\u001b[39m CleanConfig(force\u001b[38;5;241m=\u001b[39m\u001b[38;5;28;01mTrue\u001b[39;00m)\n\u001b[1;32m      2\u001b[0m cleaner \u001b[38;5;241m=\u001b[39m DataCleaner(config\u001b[38;5;241m=\u001b[39mconfig)\n\u001b[0;32m----> 3\u001b[0m data_clean \u001b[38;5;241m=\u001b[39m \u001b[43mcleaner\u001b[49m\u001b[38;5;241;43m.\u001b[39;49m\u001b[43mexecute\u001b[49m\u001b[43m(\u001b[49m\u001b[43m)\u001b[49m\n",
                        "File \u001b[0;32m~/projects/appvocai-discover/appvocai-discover/data_prep/base.py:94\u001b[0m, in \u001b[0;36mPreprocessor.execute\u001b[0;34m(self)\u001b[0m\n\u001b[1;32m     92\u001b[0m     pipeline \u001b[38;5;241m=\u001b[39m \u001b[38;5;28mself\u001b[39m\u001b[38;5;241m.\u001b[39mcreate_pipeline()\n\u001b[1;32m     93\u001b[0m     \u001b[38;5;28mself\u001b[39m\u001b[38;5;241m.\u001b[39mlogger\u001b[38;5;241m.\u001b[39mdebug(\u001b[38;5;124m\"\u001b[39m\u001b[38;5;124mPipeline created.\u001b[39m\u001b[38;5;124m\"\u001b[39m)\n\u001b[0;32m---> 94\u001b[0m     \u001b[38;5;28mself\u001b[39m\u001b[38;5;241m.\u001b[39m_data \u001b[38;5;241m=\u001b[39m \u001b[43mpipeline\u001b[49m\u001b[38;5;241;43m.\u001b[39;49m\u001b[43mexecute\u001b[49m\u001b[43m(\u001b[49m\u001b[43m)\u001b[49m\n\u001b[1;32m     95\u001b[0m \u001b[38;5;28;01mreturn\u001b[39;00m \u001b[38;5;28mself\u001b[39m\u001b[38;5;241m.\u001b[39m_data\n",
                        "File \u001b[0;32m~/projects/appvocai-discover/appvocai-discover/workflow/pipeline.py:82\u001b[0m, in \u001b[0;36mPipeline.execute\u001b[0;34m(self)\u001b[0m\n\u001b[1;32m     78\u001b[0m data \u001b[38;5;241m=\u001b[39m \u001b[38;5;28;01mNone\u001b[39;00m\n\u001b[1;32m     80\u001b[0m \u001b[38;5;28;01mfor\u001b[39;00m task \u001b[38;5;129;01min\u001b[39;00m \u001b[38;5;28mself\u001b[39m\u001b[38;5;241m.\u001b[39m_tasks:\n\u001b[0;32m---> 82\u001b[0m     data \u001b[38;5;241m=\u001b[39m \u001b[43mtask\u001b[49m\u001b[38;5;241;43m.\u001b[39;49m\u001b[43mexecute\u001b[49m\u001b[43m(\u001b[49m\u001b[43mdata\u001b[49m\u001b[43m)\u001b[49m\n\u001b[1;32m     83\u001b[0m     \u001b[38;5;28mself\u001b[39m\u001b[38;5;241m.\u001b[39m_data \u001b[38;5;241m=\u001b[39m data \u001b[38;5;28;01mif\u001b[39;00m data \u001b[38;5;129;01mis\u001b[39;00m \u001b[38;5;129;01mnot\u001b[39;00m \u001b[38;5;28;01mNone\u001b[39;00m \u001b[38;5;28;01melse\u001b[39;00m \u001b[38;5;28mself\u001b[39m\u001b[38;5;241m.\u001b[39m_data\n\u001b[1;32m     85\u001b[0m     \u001b[38;5;28mself\u001b[39m\u001b[38;5;241m.\u001b[39m_tasks_completed\u001b[38;5;241m.\u001b[39mappend(task)\n",
                        "File \u001b[0;32m~/projects/appvocai-discover/appvocai-discover/workflow/task.py:75\u001b[0m, in \u001b[0;36mTask.execute\u001b[0;34m(self, *args, **kwargs)\u001b[0m\n\u001b[1;32m     73\u001b[0m \u001b[38;5;250m\u001b[39m\u001b[38;5;124;03m\"\"\"Wraps the execute tasks with metrics capture and calculations\"\"\"\u001b[39;00m\n\u001b[1;32m     74\u001b[0m \u001b[38;5;28mself\u001b[39m\u001b[38;5;241m.\u001b[39mstart_task()\n\u001b[0;32m---> 75\u001b[0m data \u001b[38;5;241m=\u001b[39m \u001b[38;5;28;43mself\u001b[39;49m\u001b[38;5;241;43m.\u001b[39;49m\u001b[43mrun\u001b[49m\u001b[43m(\u001b[49m\u001b[38;5;241;43m*\u001b[39;49m\u001b[43margs\u001b[49m\u001b[43m,\u001b[49m\u001b[43m \u001b[49m\u001b[38;5;241;43m*\u001b[39;49m\u001b[38;5;241;43m*\u001b[39;49m\u001b[43mkwargs\u001b[49m\u001b[43m)\u001b[49m\n\u001b[1;32m     76\u001b[0m \u001b[38;5;28mself\u001b[39m\u001b[38;5;241m.\u001b[39mstop_task()\n\u001b[1;32m     77\u001b[0m \u001b[38;5;28;01mreturn\u001b[39;00m data\n",
                        "File \u001b[0;32m~/projects/appvocai-discover/appvocai-discover/infrastructure/logging.py:33\u001b[0m, in \u001b[0;36mlog_exceptions.<locals>.decorator.<locals>.wrapper\u001b[0;34m(*args, **kwargs)\u001b[0m\n\u001b[1;32m     30\u001b[0m \u001b[38;5;129m@functools\u001b[39m\u001b[38;5;241m.\u001b[39mwraps(func)\n\u001b[1;32m     31\u001b[0m \u001b[38;5;28;01mdef\u001b[39;00m \u001b[38;5;21mwrapper\u001b[39m(\u001b[38;5;241m*\u001b[39margs, \u001b[38;5;241m*\u001b[39m\u001b[38;5;241m*\u001b[39mkwargs):\n\u001b[1;32m     32\u001b[0m     \u001b[38;5;28;01mtry\u001b[39;00m:\n\u001b[0;32m---> 33\u001b[0m         \u001b[38;5;28;01mreturn\u001b[39;00m \u001b[43mfunc\u001b[49m\u001b[43m(\u001b[49m\u001b[38;5;241;43m*\u001b[39;49m\u001b[43margs\u001b[49m\u001b[43m,\u001b[49m\u001b[43m \u001b[49m\u001b[38;5;241;43m*\u001b[39;49m\u001b[38;5;241;43m*\u001b[39;49m\u001b[43mkwargs\u001b[49m\u001b[43m)\u001b[49m\n\u001b[1;32m     34\u001b[0m     \u001b[38;5;28;01mexcept\u001b[39;00m \u001b[38;5;167;01mException\u001b[39;00m \u001b[38;5;28;01mas\u001b[39;00m e:\n\u001b[1;32m     35\u001b[0m         args_repr \u001b[38;5;241m=\u001b[39m [\u001b[38;5;28mrepr\u001b[39m(a) \u001b[38;5;28;01mfor\u001b[39;00m a \u001b[38;5;129;01min\u001b[39;00m args]\n",
                        "File \u001b[0;32m~/projects/appvocai-discover/appvocai-discover/infrastructure/profiling/decorator.py:52\u001b[0m, in \u001b[0;36mprofiler.<locals>.decorator.<locals>.wrapper\u001b[0;34m(*args, **kwargs)\u001b[0m\n\u001b[1;32m     50\u001b[0m \u001b[38;5;66;03m# Execute the function and capture the result\u001b[39;00m\n\u001b[1;32m     51\u001b[0m \u001b[38;5;28;01mtry\u001b[39;00m:\n\u001b[0;32m---> 52\u001b[0m     result \u001b[38;5;241m=\u001b[39m \u001b[43mfunc\u001b[49m\u001b[43m(\u001b[49m\u001b[38;5;241;43m*\u001b[39;49m\u001b[43margs\u001b[49m\u001b[43m,\u001b[49m\u001b[43m \u001b[49m\u001b[38;5;241;43m*\u001b[39;49m\u001b[38;5;241;43m*\u001b[39;49m\u001b[43mkwargs\u001b[49m\u001b[43m)\u001b[49m\n\u001b[1;32m     53\u001b[0m \u001b[38;5;28;01mexcept\u001b[39;00m \u001b[38;5;167;01mException\u001b[39;00m \u001b[38;5;28;01mas\u001b[39;00m e:\n\u001b[1;32m     54\u001b[0m     logger\u001b[38;5;241m.\u001b[39merror(\u001b[38;5;124mf\u001b[39m\u001b[38;5;124m\"\u001b[39m\u001b[38;5;124mError executing function \u001b[39m\u001b[38;5;124m'\u001b[39m\u001b[38;5;132;01m{\u001b[39;00mfunc\u001b[38;5;241m.\u001b[39m\u001b[38;5;18m__qualname__\u001b[39m\u001b[38;5;132;01m}\u001b[39;00m\u001b[38;5;124m'\u001b[39m\u001b[38;5;124m: \u001b[39m\u001b[38;5;132;01m{\u001b[39;00me\u001b[38;5;132;01m}\u001b[39;00m\u001b[38;5;124m\"\u001b[39m)\n",
                        "File \u001b[0;32m~/projects/appvocai-discover/appvocai-discover/data_prep/clean.py:190\u001b[0m, in \u001b[0;36mDataCleaningTask.run\u001b[0;34m(self, data)\u001b[0m\n\u001b[1;32m    188\u001b[0m     dirty_df \u001b[38;5;241m=\u001b[39m data[mask_to_remove]\n\u001b[1;32m    189\u001b[0m \u001b[38;5;28;01mexcept\u001b[39;00m \u001b[38;5;167;01mKeyError\u001b[39;00m \u001b[38;5;28;01mas\u001b[39;00m e:\n\u001b[0;32m--> 190\u001b[0m     \u001b[38;5;28;01mraise\u001b[39;00m \u001b[38;5;167;01mKeyError\u001b[39;00m(\u001b[38;5;124mf\u001b[39m\u001b[38;5;124m\"\u001b[39m\u001b[38;5;124mColumn not found in the DataFrame: \u001b[39m\u001b[38;5;132;01m{\u001b[39;00me\u001b[38;5;132;01m}\u001b[39;00m\u001b[38;5;124m\"\u001b[39m)\n\u001b[1;32m    191\u001b[0m \u001b[38;5;28;01mexcept\u001b[39;00m \u001b[38;5;167;01mException\u001b[39;00m \u001b[38;5;28;01mas\u001b[39;00m e:\n\u001b[1;32m    192\u001b[0m     \u001b[38;5;28;01mraise\u001b[39;00m \u001b[38;5;167;01mRuntimeError\u001b[39;00m(\u001b[38;5;124mf\u001b[39m\u001b[38;5;124m\"\u001b[39m\u001b[38;5;124mError during data cleaning: \u001b[39m\u001b[38;5;132;01m{\u001b[39;00me\u001b[38;5;132;01m}\u001b[39;00m\u001b[38;5;124m\"\u001b[39m)\n",
                        "\u001b[0;31mKeyError\u001b[0m: 'Column not found in the DataFrame: \"[\\'dqa_is_duplicate_rating_id\\', \\'dqa_app_name_non_english\\', \\'dqa_has_profanity\\'] not in index\"'"
                    ]
                }
            ],
            "source": [
                "config = CleanConfig(force=True)\n",
                "cleaner = DataCleaner(config=config)\n",
                "data_clean = cleaner.run()"
            ]
        },
        {
            "cell_type": "markdown",
            "metadata": {},
            "source": [
                "With the data cleaning stage successfully completed, we have ensured that our dataset is free from critical and high-impact anomalies."
            ]
        },
        {
            "cell_type": "markdown",
            "metadata": {},
            "source": [
                "## Validation\n",
                "Let's verify that the critical and high impact issues have been addressed."
            ]
        },
        {
            "cell_type": "code",
            "execution_count": null,
            "metadata": {},
            "outputs": [],
            "source": [
                "\n",
                "analyzer = DataQualityAnalysis()\n",
                "results = analyzer.run_analysis(data=data_clean)\n",
                "results"
            ]
        },
        {
            "cell_type": "markdown",
            "metadata": {},
            "source": [
                "The results show that the observations with critical and high impact issues have been removed from the dataset. Next, we enrich the dataset with features that facilitate temporal and text analysis. Chalo!"
            ]
        }
    ],
    "metadata": {
        "kernelspec": {
            "display_name": "appvocai-discover",
            "language": "python",
            "name": "python3"
        },
        "language_info": {
            "codemirror_mode": {
                "name": "ipython",
                "version": 3
            },
            "file_extension": ".py",
            "mimetype": "text/x-python",
            "name": "python",
            "nbconvert_exporter": "python",
            "pygments_lexer": "ipython3",
            "version": "3.10.14"
        }
    },
    "nbformat": 4,
    "nbformat_minor": 2
}