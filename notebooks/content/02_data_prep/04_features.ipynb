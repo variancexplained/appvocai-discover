{
    "cells": [
        {
            "cell_type": "code",
            "execution_count": 1,
            "metadata": {
                "tags": [
                    "remove-cell"
                ]
            },
            "outputs": [],
            "source": [
                "import os\n",
                "if 'jbook' in os.getcwd():\n",
                "    os.chdir(os.path.abspath(os.path.join(\"../..\")))\n",
                "import warnings\n",
                "warnings.filterwarnings(\"ignore\")"
            ]
        },
        {
            "cell_type": "markdown",
            "metadata": {},
            "source": [
                "Features such as lexical density, review length, and readability measures can reflect the influence a review may have on other buyers' purchase decisions. Recent studies have shown that review readability has a greater effect on review helpfulness than its length, highlighting the importance of such lexical features on consumer behavior {cite}`korfiatisEvaluatingContentQuality2012` \n",
                "\n",
                "In this section, we extract textual and lexical features from the review text to garner insights from how a review is expressed. \n",
                "\n",
                "**1. Basic Text Features**\n",
                "- Word Count: Total number of words in a review.\n",
                "- Sentence Count: Total number of sentences in a review.\n",
                "- Word Density: Average number of words per sentence.\n",
                "- Sentence Density: Average number of sentences per paragraph (if applicable).\n",
                "\n",
                "**2. Lexical Features**\n",
                "- Unique Words: Count of unique words in a review.\n",
                "- Type/Token Ratio (TTR): Ratio of unique words to the total number of words.\n",
                "- Average Word Length: Average number of characters per word.\n",
                "\n",
                "**3. Readability Metrics**\n",
                "- Flesch reading ease scores: A widely-used measure of text readability based on average sentence length and average number of syllables per word.   \n",
                "- Flesch–Kincaid reading difficulty grade scores: Provides the US school grade level of the text.\n",
                "- Gunning Fog Index: Measures text complexity as a proportion of words that have three or more syllables.\n",
                "- SMOG Index: Estimates the difficulty of a text based on the number of sentences and words with three or more syllables.\n",
                "\n",
                "Redundant features such as `category_id` will be removed from the dataset and downstream analyses. Finally, we'll parse the review date into its constituent parts for temporal analysis.\n"
            ]
        },
        {
            "cell_type": "code",
            "execution_count": 2,
            "metadata": {},
            "outputs": [
                {
                    "name": "stderr",
                    "output_type": "stream",
                    "text": [
                        "[nltk_data] Downloading package punkt to /home/john/nltk_data...\n",
                        "[nltk_data]   Unzipping tokenizers/punkt.zip.\n",
                        "[nltk_data] Downloading package stopwords to /home/john/nltk_data...\n",
                        "[nltk_data]   Unzipping corpora/stopwords.zip.\n",
                        "[nltk_data] Downloading package averaged_perceptron_tagger to\n",
                        "[nltk_data]     /home/john/nltk_data...\n",
                        "[nltk_data]   Unzipping taggers/averaged_perceptron_tagger.zip.\n"
                    ]
                }
            ],
            "source": [
                "from appvocai-discover.data_prep.feature import FeatureEngineer, FeatureEngineeringConfig"
            ]
        },
        {
            "cell_type": "markdown",
            "metadata": {},
            "source": [
                " The following code snippet sets up and executes this process, which involves configuring the feature engineering parameters and applying the transformations to the dataset:"
            ]
        },
        {
            "cell_type": "code",
            "execution_count": 3,
            "metadata": {},
            "outputs": [
                {
                    "name": "stderr",
                    "output_type": "stream",
                    "text": [
                        "File was not found at data/prod/03_clean/reviews.pkl\n",
                        "[Errno 2] No such file or directory: 'data/prod/03_clean/reviews.pkl'\n",
                        "Traceback (most recent call last):\n",
                        "  File \"/home/john/projects/appvocai-discover/appvocai-discover/utils/io.py\", line 46, in read\n",
                        "    return self._io.read(filepath=filepath)\n",
                        "  File \"/home/john/projects/appvocai-discover/appvocai-discover/utils/file.py\", line 360, in read\n",
                        "    return io.read(filepath, **kwargs)\n",
                        "  File \"/home/john/projects/appvocai-discover/appvocai-discover/utils/file.py\", line 43, in read\n",
                        "    data = cls._read(filepath, **kwargs)\n",
                        "  File \"/home/john/projects/appvocai-discover/appvocai-discover/utils/file.py\", line 245, in _read\n",
                        "    with open(filepath, \"rb\") as f:\n",
                        "FileNotFoundError: [Errno 2] No such file or directory: 'data/prod/03_clean/reviews.pkl'\n",
                        "Error executing function 'ReadTask.run': [Errno 2] No such file or directory: 'data/prod/03_clean/reviews.pkl'\n",
                        "Exception occurred in ReadTask.run called with <appvocai-discover.data_prep.io.ReadTask object at 0x7f8977a5b280>, None\n",
                        "[Errno 2] No such file or directory: 'data/prod/03_clean/reviews.pkl'\n",
                        "Traceback (most recent call last):\n",
                        "  File \"/home/john/projects/appvocai-discover/appvocai-discover/infrastructure/logging.py\", line 33, in wrapper\n",
                        "    return func(*args, **kwargs)\n",
                        "  File \"/home/john/projects/appvocai-discover/appvocai-discover/infrastructure/profiling/decorator.py\", line 52, in wrapper\n",
                        "    result = func(*args, **kwargs)\n",
                        "  File \"/home/john/projects/appvocai-discover/appvocai-discover/data_prep/io.py\", line 68, in run\n",
                        "    results = self._reader.read(filepath=filepath)\n",
                        "  File \"/home/john/projects/appvocai-discover/appvocai-discover/utils/io.py\", line 46, in read\n",
                        "    return self._io.read(filepath=filepath)\n",
                        "  File \"/home/john/projects/appvocai-discover/appvocai-discover/utils/file.py\", line 360, in read\n",
                        "    return io.read(filepath, **kwargs)\n",
                        "  File \"/home/john/projects/appvocai-discover/appvocai-discover/utils/file.py\", line 43, in read\n",
                        "    data = cls._read(filepath, **kwargs)\n",
                        "  File \"/home/john/projects/appvocai-discover/appvocai-discover/utils/file.py\", line 245, in _read\n",
                        "    with open(filepath, \"rb\") as f:\n",
                        "FileNotFoundError: [Errno 2] No such file or directory: 'data/prod/03_clean/reviews.pkl'\n"
                    ]
                },
                {
                    "name": "stdout",
                    "output_type": "stream",
                    "text": [
                        "\n",
                        "\n",
                        "# ============================================================================ #\n",
                        "#                         FeatureEngineering Pipeline                          #\n",
                        "# ============================================================================ #\n",
                        "\n"
                    ]
                },
                {
                    "ename": "FileNotFoundError",
                    "evalue": "[Errno 2] No such file or directory: 'data/prod/03_clean/reviews.pkl'",
                    "output_type": "error",
                    "traceback": [
                        "\u001b[0;31m---------------------------------------------------------------------------\u001b[0m",
                        "\u001b[0;31mFileNotFoundError\u001b[0m                         Traceback (most recent call last)",
                        "Cell \u001b[0;32mIn[3], line 3\u001b[0m\n\u001b[1;32m      1\u001b[0m config \u001b[38;5;241m=\u001b[39m  FeatureEngineeringConfig(force\u001b[38;5;241m=\u001b[39m\u001b[38;5;28;01mTrue\u001b[39;00m)\n\u001b[1;32m      2\u001b[0m features \u001b[38;5;241m=\u001b[39m FeatureEngineer(config\u001b[38;5;241m=\u001b[39mconfig)\n\u001b[0;32m----> 3\u001b[0m data_fe \u001b[38;5;241m=\u001b[39m\u001b[43mfeatures\u001b[49m\u001b[38;5;241;43m.\u001b[39;49m\u001b[43mexecute\u001b[49m\u001b[43m(\u001b[49m\u001b[43m)\u001b[49m\n",
                        "File \u001b[0;32m~/projects/appvocai-discover/appvocai-discover/data_prep/base.py:94\u001b[0m, in \u001b[0;36mPreprocessor.execute\u001b[0;34m(self)\u001b[0m\n\u001b[1;32m     92\u001b[0m     pipeline \u001b[38;5;241m=\u001b[39m \u001b[38;5;28mself\u001b[39m\u001b[38;5;241m.\u001b[39mcreate_pipeline()\n\u001b[1;32m     93\u001b[0m     \u001b[38;5;28mself\u001b[39m\u001b[38;5;241m.\u001b[39mlogger\u001b[38;5;241m.\u001b[39mdebug(\u001b[38;5;124m\"\u001b[39m\u001b[38;5;124mPipeline created.\u001b[39m\u001b[38;5;124m\"\u001b[39m)\n\u001b[0;32m---> 94\u001b[0m     \u001b[38;5;28mself\u001b[39m\u001b[38;5;241m.\u001b[39m_data \u001b[38;5;241m=\u001b[39m \u001b[43mpipeline\u001b[49m\u001b[38;5;241;43m.\u001b[39;49m\u001b[43mexecute\u001b[49m\u001b[43m(\u001b[49m\u001b[43m)\u001b[49m\n\u001b[1;32m     95\u001b[0m \u001b[38;5;28;01mreturn\u001b[39;00m \u001b[38;5;28mself\u001b[39m\u001b[38;5;241m.\u001b[39m_data\n",
                        "File \u001b[0;32m~/projects/appvocai-discover/appvocai-discover/workflow/pipeline.py:82\u001b[0m, in \u001b[0;36mPipeline.execute\u001b[0;34m(self)\u001b[0m\n\u001b[1;32m     78\u001b[0m data \u001b[38;5;241m=\u001b[39m \u001b[38;5;28;01mNone\u001b[39;00m\n\u001b[1;32m     80\u001b[0m \u001b[38;5;28;01mfor\u001b[39;00m task \u001b[38;5;129;01min\u001b[39;00m \u001b[38;5;28mself\u001b[39m\u001b[38;5;241m.\u001b[39m_tasks:\n\u001b[0;32m---> 82\u001b[0m     data \u001b[38;5;241m=\u001b[39m \u001b[43mtask\u001b[49m\u001b[38;5;241;43m.\u001b[39;49m\u001b[43mexecute\u001b[49m\u001b[43m(\u001b[49m\u001b[43mdata\u001b[49m\u001b[43m)\u001b[49m\n\u001b[1;32m     83\u001b[0m     \u001b[38;5;28mself\u001b[39m\u001b[38;5;241m.\u001b[39m_data \u001b[38;5;241m=\u001b[39m data \u001b[38;5;28;01mif\u001b[39;00m data \u001b[38;5;129;01mis\u001b[39;00m \u001b[38;5;129;01mnot\u001b[39;00m \u001b[38;5;28;01mNone\u001b[39;00m \u001b[38;5;28;01melse\u001b[39;00m \u001b[38;5;28mself\u001b[39m\u001b[38;5;241m.\u001b[39m_data\n\u001b[1;32m     85\u001b[0m     \u001b[38;5;28mself\u001b[39m\u001b[38;5;241m.\u001b[39m_tasks_completed\u001b[38;5;241m.\u001b[39mappend(task)\n",
                        "File \u001b[0;32m~/projects/appvocai-discover/appvocai-discover/workflow/task.py:75\u001b[0m, in \u001b[0;36mTask.execute\u001b[0;34m(self, *args, **kwargs)\u001b[0m\n\u001b[1;32m     73\u001b[0m \u001b[38;5;250m\u001b[39m\u001b[38;5;124;03m\"\"\"Wraps the execute tasks with metrics capture and calculations\"\"\"\u001b[39;00m\n\u001b[1;32m     74\u001b[0m \u001b[38;5;28mself\u001b[39m\u001b[38;5;241m.\u001b[39mstart_task()\n\u001b[0;32m---> 75\u001b[0m data \u001b[38;5;241m=\u001b[39m \u001b[38;5;28;43mself\u001b[39;49m\u001b[38;5;241;43m.\u001b[39;49m\u001b[43mrun\u001b[49m\u001b[43m(\u001b[49m\u001b[38;5;241;43m*\u001b[39;49m\u001b[43margs\u001b[49m\u001b[43m,\u001b[49m\u001b[43m \u001b[49m\u001b[38;5;241;43m*\u001b[39;49m\u001b[38;5;241;43m*\u001b[39;49m\u001b[43mkwargs\u001b[49m\u001b[43m)\u001b[49m\n\u001b[1;32m     76\u001b[0m \u001b[38;5;28mself\u001b[39m\u001b[38;5;241m.\u001b[39mstop_task()\n\u001b[1;32m     77\u001b[0m \u001b[38;5;28;01mreturn\u001b[39;00m data\n",
                        "File \u001b[0;32m~/projects/appvocai-discover/appvocai-discover/infrastructure/logging.py:33\u001b[0m, in \u001b[0;36mlog_exceptions.<locals>.decorator.<locals>.wrapper\u001b[0;34m(*args, **kwargs)\u001b[0m\n\u001b[1;32m     30\u001b[0m \u001b[38;5;129m@functools\u001b[39m\u001b[38;5;241m.\u001b[39mwraps(func)\n\u001b[1;32m     31\u001b[0m \u001b[38;5;28;01mdef\u001b[39;00m \u001b[38;5;21mwrapper\u001b[39m(\u001b[38;5;241m*\u001b[39margs, \u001b[38;5;241m*\u001b[39m\u001b[38;5;241m*\u001b[39mkwargs):\n\u001b[1;32m     32\u001b[0m     \u001b[38;5;28;01mtry\u001b[39;00m:\n\u001b[0;32m---> 33\u001b[0m         \u001b[38;5;28;01mreturn\u001b[39;00m \u001b[43mfunc\u001b[49m\u001b[43m(\u001b[49m\u001b[38;5;241;43m*\u001b[39;49m\u001b[43margs\u001b[49m\u001b[43m,\u001b[49m\u001b[43m \u001b[49m\u001b[38;5;241;43m*\u001b[39;49m\u001b[38;5;241;43m*\u001b[39;49m\u001b[43mkwargs\u001b[49m\u001b[43m)\u001b[49m\n\u001b[1;32m     34\u001b[0m     \u001b[38;5;28;01mexcept\u001b[39;00m \u001b[38;5;167;01mException\u001b[39;00m \u001b[38;5;28;01mas\u001b[39;00m e:\n\u001b[1;32m     35\u001b[0m         args_repr \u001b[38;5;241m=\u001b[39m [\u001b[38;5;28mrepr\u001b[39m(a) \u001b[38;5;28;01mfor\u001b[39;00m a \u001b[38;5;129;01min\u001b[39;00m args]\n",
                        "File \u001b[0;32m~/projects/appvocai-discover/appvocai-discover/infrastructure/profiling/decorator.py:52\u001b[0m, in \u001b[0;36mtask_profiler.<locals>.decorator.<locals>.wrapper\u001b[0;34m(*args, **kwargs)\u001b[0m\n\u001b[1;32m     50\u001b[0m \u001b[38;5;66;03m# Execute the function and capture the result\u001b[39;00m\n\u001b[1;32m     51\u001b[0m \u001b[38;5;28;01mtry\u001b[39;00m:\n\u001b[0;32m---> 52\u001b[0m     result \u001b[38;5;241m=\u001b[39m \u001b[43mfunc\u001b[49m\u001b[43m(\u001b[49m\u001b[38;5;241;43m*\u001b[39;49m\u001b[43margs\u001b[49m\u001b[43m,\u001b[49m\u001b[43m \u001b[49m\u001b[38;5;241;43m*\u001b[39;49m\u001b[38;5;241;43m*\u001b[39;49m\u001b[43mkwargs\u001b[49m\u001b[43m)\u001b[49m\n\u001b[1;32m     53\u001b[0m \u001b[38;5;28;01mexcept\u001b[39;00m \u001b[38;5;167;01mException\u001b[39;00m \u001b[38;5;28;01mas\u001b[39;00m e:\n\u001b[1;32m     54\u001b[0m     logger\u001b[38;5;241m.\u001b[39merror(\u001b[38;5;124mf\u001b[39m\u001b[38;5;124m\"\u001b[39m\u001b[38;5;124mError executing function \u001b[39m\u001b[38;5;124m'\u001b[39m\u001b[38;5;132;01m{\u001b[39;00mfunc\u001b[38;5;241m.\u001b[39m\u001b[38;5;18m__qualname__\u001b[39m\u001b[38;5;132;01m}\u001b[39;00m\u001b[38;5;124m'\u001b[39m\u001b[38;5;124m: \u001b[39m\u001b[38;5;132;01m{\u001b[39;00me\u001b[38;5;132;01m}\u001b[39;00m\u001b[38;5;124m\"\u001b[39m)\n",
                        "File \u001b[0;32m~/projects/appvocai-discover/appvocai-discover/data_prep/io.py:68\u001b[0m, in \u001b[0;36mReadTask.run\u001b[0;34m(self, *args, **kwargs)\u001b[0m\n\u001b[1;32m     64\u001b[0m filepath \u001b[38;5;241m=\u001b[39m \u001b[38;5;28mself\u001b[39m\u001b[38;5;241m.\u001b[39m_review_repo\u001b[38;5;241m.\u001b[39mget_filepath(\n\u001b[1;32m     65\u001b[0m     directory\u001b[38;5;241m=\u001b[39m\u001b[38;5;28mself\u001b[39m\u001b[38;5;241m.\u001b[39m_directory, filename\u001b[38;5;241m=\u001b[39m\u001b[38;5;28mself\u001b[39m\u001b[38;5;241m.\u001b[39m_filename\n\u001b[1;32m     66\u001b[0m )\n\u001b[1;32m     67\u001b[0m \u001b[38;5;28mself\u001b[39m\u001b[38;5;241m.\u001b[39m_logger\u001b[38;5;241m.\u001b[39mdebug(\u001b[38;5;124mf\u001b[39m\u001b[38;5;124m\"\u001b[39m\u001b[38;5;124mReading from \u001b[39m\u001b[38;5;132;01m{\u001b[39;00mfilepath\u001b[38;5;132;01m}\u001b[39;00m\u001b[38;5;124m\"\u001b[39m)\n\u001b[0;32m---> 68\u001b[0m results \u001b[38;5;241m=\u001b[39m \u001b[38;5;28;43mself\u001b[39;49m\u001b[38;5;241;43m.\u001b[39;49m\u001b[43m_reader\u001b[49m\u001b[38;5;241;43m.\u001b[39;49m\u001b[43mread\u001b[49m\u001b[43m(\u001b[49m\u001b[43mfilepath\u001b[49m\u001b[38;5;241;43m=\u001b[39;49m\u001b[43mfilepath\u001b[49m\u001b[43m)\u001b[49m\n\u001b[1;32m     70\u001b[0m \u001b[38;5;28;01mreturn\u001b[39;00m results\n",
                        "File \u001b[0;32m~/projects/appvocai-discover/appvocai-discover/utils/io.py:46\u001b[0m, in \u001b[0;36mPandasReader.read\u001b[0;34m(self, filepath)\u001b[0m\n\u001b[1;32m     44\u001b[0m \u001b[38;5;250m\u001b[39m\u001b[38;5;124;03m\"\"\"Reads Pandas DataFrames from various file formats.\"\"\"\u001b[39;00m\n\u001b[1;32m     45\u001b[0m \u001b[38;5;28;01mtry\u001b[39;00m:\n\u001b[0;32m---> 46\u001b[0m     \u001b[38;5;28;01mreturn\u001b[39;00m \u001b[38;5;28;43mself\u001b[39;49m\u001b[38;5;241;43m.\u001b[39;49m\u001b[43m_io\u001b[49m\u001b[38;5;241;43m.\u001b[39;49m\u001b[43mread\u001b[49m\u001b[43m(\u001b[49m\u001b[43mfilepath\u001b[49m\u001b[38;5;241;43m=\u001b[39;49m\u001b[43mfilepath\u001b[49m\u001b[43m)\u001b[49m\n\u001b[1;32m     47\u001b[0m \u001b[38;5;28;01mexcept\u001b[39;00m \u001b[38;5;167;01mFileNotFoundError\u001b[39;00m \u001b[38;5;28;01mas\u001b[39;00m fe:\n\u001b[1;32m     48\u001b[0m     msg \u001b[38;5;241m=\u001b[39m \u001b[38;5;124mf\u001b[39m\u001b[38;5;124m\"\u001b[39m\u001b[38;5;124mFile was not found at \u001b[39m\u001b[38;5;132;01m{\u001b[39;00mfilepath\u001b[38;5;132;01m}\u001b[39;00m\u001b[38;5;130;01m\\n\u001b[39;00m\u001b[38;5;132;01m{\u001b[39;00mfe\u001b[38;5;132;01m}\u001b[39;00m\u001b[38;5;124m\"\u001b[39m\n",
                        "File \u001b[0;32m~/projects/appvocai-discover/appvocai-discover/utils/file.py:360\u001b[0m, in \u001b[0;36mIOService.read\u001b[0;34m(cls, filepath, **kwargs)\u001b[0m\n\u001b[1;32m    357\u001b[0m \u001b[38;5;129m@classmethod\u001b[39m\n\u001b[1;32m    358\u001b[0m \u001b[38;5;28;01mdef\u001b[39;00m \u001b[38;5;21mread\u001b[39m(\u001b[38;5;28mcls\u001b[39m, filepath: \u001b[38;5;28mstr\u001b[39m, \u001b[38;5;241m*\u001b[39m\u001b[38;5;241m*\u001b[39mkwargs) \u001b[38;5;241m-\u001b[39m\u001b[38;5;241m>\u001b[39m Any:\n\u001b[1;32m    359\u001b[0m     io \u001b[38;5;241m=\u001b[39m \u001b[38;5;28mcls\u001b[39m\u001b[38;5;241m.\u001b[39m_get_io(filepath)\n\u001b[0;32m--> 360\u001b[0m     \u001b[38;5;28;01mreturn\u001b[39;00m \u001b[43mio\u001b[49m\u001b[38;5;241;43m.\u001b[39;49m\u001b[43mread\u001b[49m\u001b[43m(\u001b[49m\u001b[43mfilepath\u001b[49m\u001b[43m,\u001b[49m\u001b[43m \u001b[49m\u001b[38;5;241;43m*\u001b[39;49m\u001b[38;5;241;43m*\u001b[39;49m\u001b[43mkwargs\u001b[49m\u001b[43m)\u001b[49m\n",
                        "File \u001b[0;32m~/projects/appvocai-discover/appvocai-discover/utils/file.py:43\u001b[0m, in \u001b[0;36mIO.read\u001b[0;34m(cls, filepath, *args, **kwargs)\u001b[0m\n\u001b[1;32m     41\u001b[0m \u001b[38;5;129m@classmethod\u001b[39m\n\u001b[1;32m     42\u001b[0m \u001b[38;5;28;01mdef\u001b[39;00m \u001b[38;5;21mread\u001b[39m(\u001b[38;5;28mcls\u001b[39m, filepath: \u001b[38;5;28mstr\u001b[39m, \u001b[38;5;241m*\u001b[39margs, \u001b[38;5;241m*\u001b[39m\u001b[38;5;241m*\u001b[39mkwargs) \u001b[38;5;241m-\u001b[39m\u001b[38;5;241m>\u001b[39m Any:\n\u001b[0;32m---> 43\u001b[0m     data \u001b[38;5;241m=\u001b[39m \u001b[38;5;28;43mcls\u001b[39;49m\u001b[38;5;241;43m.\u001b[39;49m\u001b[43m_read\u001b[49m\u001b[43m(\u001b[49m\u001b[43mfilepath\u001b[49m\u001b[43m,\u001b[49m\u001b[43m \u001b[49m\u001b[38;5;241;43m*\u001b[39;49m\u001b[38;5;241;43m*\u001b[39;49m\u001b[43mkwargs\u001b[49m\u001b[43m)\u001b[49m\n\u001b[1;32m     44\u001b[0m     \u001b[38;5;28;01mreturn\u001b[39;00m data\n",
                        "File \u001b[0;32m~/projects/appvocai-discover/appvocai-discover/utils/file.py:245\u001b[0m, in \u001b[0;36mPickleIO._read\u001b[0;34m(cls, filepath, **kwargs)\u001b[0m\n\u001b[1;32m    243\u001b[0m \u001b[38;5;129m@classmethod\u001b[39m\n\u001b[1;32m    244\u001b[0m \u001b[38;5;28;01mdef\u001b[39;00m \u001b[38;5;21m_read\u001b[39m(\u001b[38;5;28mcls\u001b[39m, filepath: \u001b[38;5;28mstr\u001b[39m, \u001b[38;5;241m*\u001b[39m\u001b[38;5;241m*\u001b[39mkwargs) \u001b[38;5;241m-\u001b[39m\u001b[38;5;241m>\u001b[39m Any:\n\u001b[0;32m--> 245\u001b[0m     \u001b[38;5;28;01mwith\u001b[39;00m \u001b[38;5;28;43mopen\u001b[39;49m\u001b[43m(\u001b[49m\u001b[43mfilepath\u001b[49m\u001b[43m,\u001b[49m\u001b[43m \u001b[49m\u001b[38;5;124;43m\"\u001b[39;49m\u001b[38;5;124;43mrb\u001b[39;49m\u001b[38;5;124;43m\"\u001b[39;49m\u001b[43m)\u001b[49m \u001b[38;5;28;01mas\u001b[39;00m f:\n\u001b[1;32m    246\u001b[0m         \u001b[38;5;28;01mtry\u001b[39;00m:\n\u001b[1;32m    247\u001b[0m             \u001b[38;5;28;01mreturn\u001b[39;00m pickle\u001b[38;5;241m.\u001b[39mload(f)\n",
                        "\u001b[0;31mFileNotFoundError\u001b[0m: [Errno 2] No such file or directory: 'data/prod/03_clean/reviews.pkl'"
                    ]
                }
            ],
            "source": [
                "config =  FeatureEngineeringConfig(force=True)\n",
                "features = FeatureEngineer(config=config)\n",
                "data_fe =features.run()"
            ]
        },
        {
            "cell_type": "markdown",
            "metadata": {},
            "source": [
                "Let's review the results, subsetting on the key features."
            ]
        },
        {
            "cell_type": "code",
            "execution_count": null,
            "metadata": {},
            "outputs": [],
            "source": [
                "data_fe[[\"id\", \"app_name\", \"category\", \"author\", \"year\", \"month\", \"day\", \"year_month\", \"ymd\"]].sample(n=5)"
            ]
        },
        {
            "cell_type": "markdown",
            "metadata": {},
            "source": [
                "The author information has been effectively anonymized, and the date parsing has been completed successfully. Having completed the initial stages of data cleaning and feature engineering, we now move on to a critical phase in our data preparation: text processing. This phase involves transforming raw text data into a structured format that can be effectively used in our analysis and modeling tasks. We will utilize PySpark, a powerful big data processing framework, to handle the large volume of text data efficiently."
            ]
        }
    ],
    "metadata": {
        "kernelspec": {
            "display_name": "appvocai-discover",
            "language": "python",
            "name": "python3"
        },
        "language_info": {
            "codemirror_mode": {
                "name": "ipython",
                "version": 3
            },
            "file_extension": ".py",
            "mimetype": "text/x-python",
            "name": "python",
            "nbconvert_exporter": "python",
            "pygments_lexer": "ipython3",
            "version": "3.10.14"
        }
    },
    "nbformat": 4,
    "nbformat_minor": 2
}