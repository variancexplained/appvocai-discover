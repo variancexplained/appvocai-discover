{
    "cells": [
        {
            "cell_type": "code",
            "execution_count": 1,
            "metadata": {
                "tags": [
                    "remove-cell"
                ]
            },
            "outputs": [],
            "source": [
                "import os\n",
                "if 'jbook' in os.getcwd():\n",
                "    os.chdir(os.path.abspath(os.path.join(\"../..\")))\n",
                "import warnings\n",
                "warnings.filterwarnings(\"ignore\", category=FutureWarning)"
            ]
        },
        {
            "cell_type": "code",
            "execution_count": 2,
            "metadata": {
                "tags": [
                    "remove-cell"
                ]
            },
            "outputs": [],
            "source": [
                "# from importlib import reload  # Not needed in Python 2\n",
                "# import logging\n",
                "# reload(logging)\n",
                "# logging.basicConfig(format='%(asctime)s %(levelname)s:%(message)s', level=logging.DEBUG, datefmt='%I:%M:%S')"
            ]
        },
        {
            "cell_type": "markdown",
            "metadata": {},
            "source": [
                "# Data Quality Assessment\n",
                "The second stage of data processing is the Data Quality Assessment. This stage ensures that our dataset is ready for subsequent analysis and modeling tasks. By identifying and rectifying data quality issues early, we can avoid potential pitfalls that might compromise the integrity and accuracy of our results.\n",
                "\n",
                "## Data Quality Checks\n",
                "In this stage, we employ a series of tasks designed to identify and address any noise or irregularities within the dataset. Each task focuses on a specific aspect of data quality, ranging from detecting duplicate entries to identifying profanity, special patterns, and other potential sources of bias or distortion.\n",
                "1. **Duplicate Rows**: We identify and remove duplicate entries to ensure that each observation is unique, preventing skewed analyses and inflated metrics.\n",
                "2. **Null Values**: We detect and handle missing data appropriately, which could involve imputation, deletion, or flagging incomplete records for further investigation.\n",
                "3. **Outliers**: Check for outliers in numeric columns using the non-parametric Interquartile Range (IQR) method.\n",
                "4. **Non-English Text**: We check for and address non-English text in reviews and app names, as they may not be relevant to our analysis or could require special handling.\n",
                "5. **Emojis**: Emojis can carry significant meaning in certain contexts but might also introduce noise. We identify and decide on their treatment—whether to retain, remove, or translate them into textual representations.\n",
                "6. **Excessive Special Characters**: Special characters can disrupt text analysis and need to be managed, either by cleaning or encoding them appropriately.\n",
                "7. **Invalid Dates**: We verify that date values fall within expected ranges and formats, correcting or flagging anomalies for further review.\n",
                "8. **Invalid Ratings**: Ratings that fall outside the expected scale (e.g., 1 to 5) are identified and corrected or flagged.\n",
                "9. **Profanity**: We detect and handle profane content to ensure that our dataset adheres to appropriate usage standards, especially if it's intended for public or sensitive applications.\n",
                "10. **Special Patterns**: We identify and manage special patterns such as URLs, phone numbers, and emails. These patterns could be indicative of spam or need to be anonymized to protect privacy.\n",
                "\n",
                "By conducting these data quality checks, we ensure that our dataset is clean, reliable, and ready for detailed analysis. This foundational step sets the stage for accurate insights and robust conclusions in the subsequent phases of our data processing pipeline."
            ]
        },
        {
            "cell_type": "code",
            "execution_count": 3,
            "metadata": {},
            "outputs": [],
            "source": [
                "\n",
                "from appvocai-discover.data_prep.dqa import DataQualityAssessment, DQAConfig"
            ]
        },
        {
            "cell_type": "markdown",
            "metadata": {},
            "source": [
                "We've encapsulated the data quality assessment process in a `DataQualityAssessment` class. This class conducts the 10 data quality checks, marking the observations that require attention."
            ]
        },
        {
            "cell_type": "code",
            "execution_count": 4,
            "metadata": {},
            "outputs": [
                {
                    "name": "stdout",
                    "output_type": "stream",
                    "text": [
                        "\n",
                        "\n",
                        "# ============================================================================ #\n",
                        "#                        DataQualityAssessment Pipeline                        #\n",
                        "# ============================================================================ #\n",
                        "\n",
                        "Task ReadTask completed successfully. Runtime: 00 Minutes 34.717367 Seconds\n",
                        "Task DQAInitTask completed successfully. Runtime: 02 Minutes 55.801189 Seconds\n",
                        "Task DetectDuplicateRowTask completed successfully. Runtime: 03 Minutes 23.022217 Seconds\n",
                        "Task DetectDuplicateRowTask completed successfully. Runtime: 00 Minutes 24.250085 Seconds\n",
                        "Task DetectNullValuesTask completed successfully. Runtime: 00 Minutes 22.300297 Seconds\n",
                        "Task DetectOutliersTask completed successfully. Runtime: 00 Minutes 00.967243 Seconds\n",
                        "Task DetectOutliersTask completed successfully. Runtime: 00 Minutes 00.978536 Seconds\n",
                        "Task DetectEmojiTask completed successfully. Runtime: 01 Minutes 16.951561 Seconds\n",
                        "Task DetectSpecialCharacterTask completed successfully. Runtime: 00 Minutes 43.556092 Seconds\n",
                        "Task DetectInvalidDatesTask completed successfully. Runtime: 00 Minutes 47.550629 Seconds\n",
                        "Task DetectInvalidRatingsTask completed successfully. Runtime: 00 Minutes 04.629448 Seconds\n",
                        "Task DetectEmailTask completed successfully. Runtime: 00 Minutes 49.478096 Seconds\n",
                        "Task DetectURLTask completed successfully. Runtime: 00 Minutes 45.171660 Seconds\n",
                        "Task DetectPhoneNumberTask completed successfully. Runtime: 00 Minutes 59.279822 Seconds\n"
                    ]
                },
                {
                    "name": "stderr",
                    "output_type": "stream",
                    "text": [
                        "100%|██████████| 19/19 [00:03<00:00,  6.13it/s]\n"
                    ]
                },
                {
                    "name": "stdout",
                    "output_type": "stream",
                    "text": [
                        "Task DetectNonEnglishTask completed successfully. Runtime: 03 Minutes 53.615644 Seconds\n"
                    ]
                },
                {
                    "name": "stderr",
                    "output_type": "stream",
                    "text": [
                        "100%|██████████| 19/19 [00:00<00:00, 3933.07it/s]\n"
                    ]
                },
                {
                    "name": "stdout",
                    "output_type": "stream",
                    "text": [
                        "Task DetectNonEnglishTask completed successfully. Runtime: 02 Minutes 26.148681 Seconds\n"
                    ]
                },
                {
                    "name": "stderr",
                    "output_type": "stream",
                    "text": [
                        "100%|██████████| 101/101 [3:00:45<00:00, 107.38s/it] \n"
                    ]
                },
                {
                    "name": "stdout",
                    "output_type": "stream",
                    "text": [
                        "Task DetectProfanityTask completed successfully. Runtime: 3 Hours 01 Minutes 03.547875 Seconds\n",
                        "Task DQAFinalizeTask completed successfully. Runtime: 12 Minutes 52.593024 Seconds\n",
                        "Task WriteTask completed successfully. Runtime: 01 Minutes 19.442435 Seconds\n",
                        "\n",
                        "\n",
                        "                             DataQualityAssessment                              \n",
                        "                          Pipeline Start | 2024-06-29 17:36:03.020887\n",
                        "                           Pipeline Stop | 2024-06-29 21:10:55.395214\n",
                        "                        Pipeline Runtime | 3 Hours 34 Minutes 52.374327 Seconds\n",
                        "\n",
                        "\n",
                        "\n",
                        "\n",
                        "# ============================================================================ #\n",
                        "\n"
                    ]
                }
            ],
            "source": [
                "config = DQAConfig()\n",
                "warnings.filterwarnings(\"ignore\", category=FutureWarning)\n",
                "dqa = DataQualityAssessment(config=config)\n",
                "data = dqa.run()"
            ]
        },
        {
            "cell_type": "markdown",
            "metadata": {},
            "source": [
                "Let's get a summary of the data quality issues by type."
            ]
        },
        {
            "cell_type": "code",
            "execution_count": 5,
            "metadata": {},
            "outputs": [
                {
                    "data": {
                        "text/html": [
                            "<style type=\"text/css\">\n",
                            "</style>\n",
                            "<table id=\"T_68ae7\">\n",
                            "  <thead>\n",
                            "    <tr>\n",
                            "      <th class=\"blank level0\" >&nbsp;</th>\n",
                            "      <th id=\"T_68ae7_level0_col0\" class=\"col_heading level0 col0\" >Count</th>\n",
                            "      <th id=\"T_68ae7_level0_col1\" class=\"col_heading level0 col1\" >Percent</th>\n",
                            "    </tr>\n",
                            "  </thead>\n",
                            "  <tbody>\n",
                            "    <tr>\n",
                            "      <th id=\"T_68ae7_level0_row0\" class=\"row_heading level0 row0\" >dqa_is_duplicate</th>\n",
                            "      <td id=\"T_68ae7_row0_col0\" class=\"data row0 col0\" >0</td>\n",
                            "      <td id=\"T_68ae7_row0_col1\" class=\"data row0 col1\" >0.00</td>\n",
                            "    </tr>\n",
                            "    <tr>\n",
                            "      <th id=\"T_68ae7_level0_row1\" class=\"row_heading level0 row1\" >dqa_is_duplicate_review_id</th>\n",
                            "      <td id=\"T_68ae7_row1_col0\" class=\"data row1 col0\" >117</td>\n",
                            "      <td id=\"T_68ae7_row1_col1\" class=\"data row1 col1\" >0.00</td>\n",
                            "    </tr>\n",
                            "    <tr>\n",
                            "      <th id=\"T_68ae7_level0_row2\" class=\"row_heading level0 row2\" >dqa_has_null_values</th>\n",
                            "      <td id=\"T_68ae7_row2_col0\" class=\"data row2 col0\" >0</td>\n",
                            "      <td id=\"T_68ae7_row2_col1\" class=\"data row2 col1\" >0.00</td>\n",
                            "    </tr>\n",
                            "    <tr>\n",
                            "      <th id=\"T_68ae7_level0_row3\" class=\"row_heading level0 row3\" >dqa_vote_sum_outlier</th>\n",
                            "      <td id=\"T_68ae7_row3_col0\" class=\"data row3 col0\" >848,492</td>\n",
                            "      <td id=\"T_68ae7_row3_col1\" class=\"data row3 col1\" >3.83</td>\n",
                            "    </tr>\n",
                            "    <tr>\n",
                            "      <th id=\"T_68ae7_level0_row4\" class=\"row_heading level0 row4\" >dqa_vote_count_outlier</th>\n",
                            "      <td id=\"T_68ae7_row4_col0\" class=\"data row4 col0\" >1,116,830</td>\n",
                            "      <td id=\"T_68ae7_row4_col1\" class=\"data row4 col1\" >5.04</td>\n",
                            "    </tr>\n",
                            "    <tr>\n",
                            "      <th id=\"T_68ae7_level0_row5\" class=\"row_heading level0 row5\" >dqa_has_emojis</th>\n",
                            "      <td id=\"T_68ae7_row5_col0\" class=\"data row5 col0\" >1,086,886</td>\n",
                            "      <td id=\"T_68ae7_row5_col1\" class=\"data row5 col1\" >4.90</td>\n",
                            "    </tr>\n",
                            "    <tr>\n",
                            "      <th id=\"T_68ae7_level0_row6\" class=\"row_heading level0 row6\" >dqa_has_excessive_special_chars</th>\n",
                            "      <td id=\"T_68ae7_row6_col0\" class=\"data row6 col0\" >261,475</td>\n",
                            "      <td id=\"T_68ae7_row6_col1\" class=\"data row6 col1\" >1.18</td>\n",
                            "    </tr>\n",
                            "    <tr>\n",
                            "      <th id=\"T_68ae7_level0_row7\" class=\"row_heading level0 row7\" >dqa_has_invalid_date</th>\n",
                            "      <td id=\"T_68ae7_row7_col0\" class=\"data row7 col0\" >0</td>\n",
                            "      <td id=\"T_68ae7_row7_col1\" class=\"data row7 col1\" >0.00</td>\n",
                            "    </tr>\n",
                            "    <tr>\n",
                            "      <th id=\"T_68ae7_level0_row8\" class=\"row_heading level0 row8\" >dqa_has_invalid_rating</th>\n",
                            "      <td id=\"T_68ae7_row8_col0\" class=\"data row8 col0\" >0</td>\n",
                            "      <td id=\"T_68ae7_row8_col1\" class=\"data row8 col1\" >0.00</td>\n",
                            "    </tr>\n",
                            "    <tr>\n",
                            "      <th id=\"T_68ae7_level0_row9\" class=\"row_heading level0 row9\" >dqa_contains_email</th>\n",
                            "      <td id=\"T_68ae7_row9_col0\" class=\"data row9 col0\" >22</td>\n",
                            "      <td id=\"T_68ae7_row9_col1\" class=\"data row9 col1\" >0.00</td>\n",
                            "    </tr>\n",
                            "    <tr>\n",
                            "      <th id=\"T_68ae7_level0_row10\" class=\"row_heading level0 row10\" >dqa_contains_url</th>\n",
                            "      <td id=\"T_68ae7_row10_col0\" class=\"data row10 col0\" >163</td>\n",
                            "      <td id=\"T_68ae7_row10_col1\" class=\"data row10 col1\" >0.00</td>\n",
                            "    </tr>\n",
                            "    <tr>\n",
                            "      <th id=\"T_68ae7_level0_row11\" class=\"row_heading level0 row11\" >dqa_contains_phone_number</th>\n",
                            "      <td id=\"T_68ae7_row11_col0\" class=\"data row11 col0\" >6,600</td>\n",
                            "      <td id=\"T_68ae7_row11_col1\" class=\"data row11 col1\" >0.03</td>\n",
                            "    </tr>\n",
                            "    <tr>\n",
                            "      <th id=\"T_68ae7_level0_row12\" class=\"row_heading level0 row12\" >dqa_has_non_english_review</th>\n",
                            "      <td id=\"T_68ae7_row12_col0\" class=\"data row12 col0\" >930,475</td>\n",
                            "      <td id=\"T_68ae7_row12_col1\" class=\"data row12 col1\" >4.20</td>\n",
                            "    </tr>\n",
                            "    <tr>\n",
                            "      <th id=\"T_68ae7_level0_row13\" class=\"row_heading level0 row13\" >dqa_has_non_english_app_name</th>\n",
                            "      <td id=\"T_68ae7_row13_col0\" class=\"data row13 col0\" >3,325,026</td>\n",
                            "      <td id=\"T_68ae7_row13_col1\" class=\"data row13 col1\" >15.00</td>\n",
                            "    </tr>\n",
                            "    <tr>\n",
                            "      <th id=\"T_68ae7_level0_row14\" class=\"row_heading level0 row14\" >dqa_has_profanity</th>\n",
                            "      <td id=\"T_68ae7_row14_col0\" class=\"data row14 col0\" >217,988</td>\n",
                            "      <td id=\"T_68ae7_row14_col1\" class=\"data row14 col1\" >0.98</td>\n",
                            "    </tr>\n",
                            "  </tbody>\n",
                            "</table>\n"
                        ],
                        "text/plain": [
                            "<pandas.io.formats.style.Styler at 0x7f5a44716290>"
                        ]
                    },
                    "execution_count": 5,
                    "metadata": {},
                    "output_type": "execute_result"
                }
            ],
            "source": [
                "dqa.overview()"
            ]
        },
        {
            "cell_type": "markdown",
            "metadata": {},
            "source": [
                "## Data Quality Impressions\n",
                "\n",
                "The data quality assessment (DQA) conducted on the AppVoC dataset revealed several key issues that need to be addressed to ensure the integrity and reliability of the analysis. These issues include:\n",
                "\n",
                "- **Duplicates**: A small percentage (<1%) have duplicate review ids.\n",
                "- **Null Values**: Fortunately, there were no null values detected in the dataset.\n",
                "- **Invalid Entries**: There were no invalid dates or invalid ratings found.\n",
                "- **Outliers**: Outliers were identified in approximately 9% of the data. Vote count and vote sum are correlated this may reflect engagement for the most popular apps in the app store.\n",
                "- **Non-English**: Notable proportions of the app names (15%) and review content (4.2%) were flagged as being non-English.\n",
                "- **Special Characters**: A small percentage (< 2%) of reviews were noted for the presence of special characters in excessive proportions.\n",
                "- **Sensitive Information**: The presence of sensitive information, such as email addresses, and phone numbers are relatively minimal.\n",
                "- **Profanity**: About 1% of the reviews have language considered profane.\n",
                "\n",
                "Given these findings, the next step is to identify and treat the high-impact data quality issues. This may involve, without limitation:\n",
                "\n",
                "- **Removing Duplicates**: Eliminating observations with duplicate review IDs.\n",
                "- **Handling Outliers**: Identifying and appropriately managing outliers in vote sums, and vote counts.\n",
                "- **Addressing Non-English Text**: Filtering or translating non-English reviews. \n",
                "- **filtering Noise**: Filtering or removing excessive special characters from reviews.\n",
                "- **Ensuring Clean Content**: Censor or remove reviews containing profanity.\n",
                "- **Remove Personal Data**: Personal identifying information such as phone numbers, and email addresses, would be removed.\n",
                "\n",
                "Cue the action!"
            ]
        }
    ],
    "metadata": {
        "kernelspec": {
            "display_name": "appvocai-discover",
            "language": "python",
            "name": "python3"
        },
        "language_info": {
            "codemirror_mode": {
                "name": "ipython",
                "version": 3
            },
            "file_extension": ".py",
            "mimetype": "text/x-python",
            "name": "python",
            "nbconvert_exporter": "python",
            "pygments_lexer": "ipython3",
            "version": "3.10.14"
        }
    },
    "nbformat": 4,
    "nbformat_minor": 2
}