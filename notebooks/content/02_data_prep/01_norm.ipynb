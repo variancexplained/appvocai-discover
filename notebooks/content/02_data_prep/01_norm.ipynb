{
    "cells": [
        {
            "cell_type": "code",
            "execution_count": 1,
            "metadata": {
                "tags": [
                    "remove-cell"
                ]
            },
            "outputs": [],
            "source": [
                "import os\n",
                "if 'jbook' in os.getcwd():\n",
                "    os.chdir(os.path.abspath(os.path.join(\"../..\")))\n",
                "import warnings\n",
                "warnings.filterwarnings(\"ignore\")"
            ]
        },
        {
            "cell_type": "code",
            "execution_count": 2,
            "metadata": {},
            "outputs": [],
            "source": [
                "# from importlib import reload  # Not needed in Python 2\n",
                "# import logging\n",
                "# reload(logging)\n",
                "# logging.basicConfig(format='%(asctime)s %(levelname)s:%(message)s', level=logging.DEBUG, datefmt='%I:%M:%S')"
            ]
        },
        {
            "cell_type": "markdown",
            "metadata": {},
            "source": [
                "# Normalization\n",
                "\n",
                "To prepare the dataset for analysis, normalization preprocessing is performed. This involves standardizing data types, ensuring consistent encoding, and removing new lines from text. These steps help resolve technical anomalies and streamline subsequent data processing and analysis."
            ]
        },
        {
            "cell_type": "code",
            "execution_count": 3,
            "metadata": {},
            "outputs": [],
            "source": [
                "from appvocai-discover.data_prep.normalize import ServiceConfig, Stage"
            ]
        },
        {
            "cell_type": "markdown",
            "metadata": {},
            "source": [
                "To implement the normalization preprocessing described above, the following code snippet is utilized. It initializes the normalization configuration, executes the normalization process, and then displays information about the resulting dataset using the `info()` function."
            ]
        },
        {
            "cell_type": "code",
            "execution_count": 4,
            "metadata": {},
            "outputs": [
                {
                    "name": "stdout",
                    "output_type": "stream",
                    "text": [
                        "\n",
                        "\n",
                        "# ============================================================================ #\n",
                        "#                              Stage Pipeline                              #\n",
                        "# ============================================================================ #\n",
                        "\n",
                        "Task Reader completed successfully. Runtime: 00 Minutes 00.546618 Seconds\n",
                        "Task StageDataTask completed successfully. Runtime: 00 Minutes 00.990403 Seconds\n",
                        "Task Writer completed successfully. Runtime: 00 Minutes 00.537761 Seconds\n",
                        "\n",
                        "\n",
                        "                                   Stage                                    \n",
                        "                          Pipeline Start | 2024-06-29 12:51:46.611223\n",
                        "                           Pipeline Stop | 2024-06-29 12:51:48.701733\n",
                        "                        Pipeline Runtime | 00 Minutes 02.090510 Seconds\n",
                        "\n",
                        "\n",
                        "\n",
                        "\n",
                        "# ============================================================================ #\n",
                        "\n",
                        "<class 'pandas.core.frame.DataFrame'>\n",
                        "Index: 221666 entries, 221102 to 19970441\n",
                        "Data columns (total 11 columns):\n",
                        " #   Column       Non-Null Count   Dtype         \n",
                        "---  ------       --------------   -----         \n",
                        " 0   id           221666 non-null  string        \n",
                        " 1   app_id       221666 non-null  string        \n",
                        " 2   app_name     221666 non-null  string        \n",
                        " 3   category_id  221666 non-null  category      \n",
                        " 4   author       221666 non-null  string        \n",
                        " 5   rating       221666 non-null  int16         \n",
                        " 6   content      221666 non-null  string        \n",
                        " 7   vote_sum     221666 non-null  int64         \n",
                        " 8   vote_count   221666 non-null  int64         \n",
                        " 9   date         221666 non-null  datetime64[ms]\n",
                        " 10  category     221666 non-null  category      \n",
                        "dtypes: category(2), datetime64[ms](1), int16(1), int64(2), string(5)\n",
                        "memory usage: 16.1 MB\n"
                    ]
                }
            ],
            "source": [
                "config = ServiceConfig()\n",
                "norm = Stage(config=config)\n",
                "data = norm.run()\n",
                "data.info(show_counts=True, memory_usage=True, verbose=True)"
            ]
        },
        {
            "cell_type": "markdown",
            "metadata": {},
            "source": [
                "Datatypes have been successfully cast, utf-8 encoding verified, and newlines have been removed, yielding a dataset of 22,166,591 observations and no null values."
            ]
        }
    ],
    "metadata": {
        "kernelspec": {
            "display_name": "appvocai-discover",
            "language": "python",
            "name": "python3"
        },
        "language_info": {
            "codemirror_mode": {
                "name": "ipython",
                "version": 3
            },
            "file_extension": ".py",
            "mimetype": "text/x-python",
            "name": "python",
            "nbconvert_exporter": "python",
            "pygments_lexer": "ipython3",
            "version": "3.10.14"
        }
    },
    "nbformat": 4,
    "nbformat_minor": 2
}