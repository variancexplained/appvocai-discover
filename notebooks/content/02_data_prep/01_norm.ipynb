{
    "cells": [
        {
            "cell_type": "code",
            "execution_count": 1,
            "metadata": {
                "tags": [
                    "remove-cell"
                ]
            },
            "outputs": [],
            "source": [
                "import os\n",
                "\n",
                "if \"jbook\" in os.getcwd():\n",
                "    os.chdir(os.path.abspath(os.path.join(\"../..\")))\n",
                "import warnings\n",
                "\n",
                "warnings.filterwarnings(\"ignore\")"
            ]
        },
        {
            "cell_type": "code",
            "execution_count": 2,
            "metadata": {},
            "outputs": [],
            "source": [
                "# from importlib import reload  # Not needed in Python 2\n",
                "# import logging\n",
                "# reload(logging)\n",
                "# logging.basicConfig(format='%(asctime)s %(levelname)s:%(message)s', level=logging.DEBUG, datefmt='%I:%M:%S')"
            ]
        },
        {
            "cell_type": "markdown",
            "metadata": {},
            "source": [
                "# Normalization Stage\n",
                "\n",
                "This normalization process involves standardizing data types, ensuring consistent encoding, and removing new lines from text."
            ]
        },
        {
            "cell_type": "code",
            "execution_count": 3,
            "metadata": {},
            "outputs": [],
            "source": [
                "from discover.container import DiscoverContainer\n",
                "from discover.infra.config.orchestration import OrchestrationConfigReader\n",
                "from discover.orchestration.data_prep.stage import DataPrepStage"
            ]
        },
        {
            "cell_type": "markdown",
            "metadata": {},
            "source": [
                "## Dependency Container"
            ]
        },
        {
            "cell_type": "code",
            "execution_count": 4,
            "metadata": {},
            "outputs": [
                {
                    "name": "stdout",
                    "output_type": "stream",
                    "text": [
                        "INFO: Pandarallel will run on 12 workers.\n",
                        "INFO: Pandarallel will use Memory file system to transfer data between the main process and workers.\n"
                    ]
                }
            ],
            "source": [
                "container = DiscoverContainer()\n",
                "container.init_resources()\n",
                "container.wire(\n",
                "    modules=[\n",
                "        \"discover.orchestration.data_prep.stage\",\n",
                "        \"discover.orchestration.data_prep.dqa\",\n",
                "    ],\n",
                ")"
            ]
        },
        {
            "cell_type": "code",
            "execution_count": 5,
            "metadata": {},
            "outputs": [
                {
                    "name": "stderr",
                    "output_type": "stream",
                    "text": [
                        "[10/18/2024 03:29:59 PM] [INFO] [discover.infra.persistence.repo.dataset.DatasetRepo] [_remove_dataset_file_by_filepath] : Removed dataset file at workspace/dev/dataset/01_dataprep/appvocai_discover-01_dataprep-01_normalize-review-dataset.parquet from repository.\n",
                        "[10/18/2024 03:29:59 PM] [INFO] [discover.infra.persistence.repo.dataset.DatasetRepo] [remove] : Removed dataset dataset-dataprep-normalize-review from the repository.\n"
                    ]
                },
                {
                    "name": "stdout",
                    "output_type": "stream",
                    "text": [
                        "Reset operation aborted.\n",
                        "\n",
                        "\n",
                        "# ============================================================================ #\n",
                        "#                           Data Normalization Stage                           #\n",
                        "# ============================================================================ #\n",
                        "\n",
                        "Starting Data Normalization Stage Fri, 18 Oct 2024 15:29:59\n",
                        "Starting RemoveNewlinesTask Fri, 18 Oct 2024 15:30:00\n",
                        "Completed RemoveNewlinesTask Fri, 18 Oct 2024 15:30:00. Runtime: 0.04 seconds\n",
                        "Starting VerifyEncodingTask Fri, 18 Oct 2024 15:30:00\n",
                        "Completed VerifyEncodingTask Fri, 18 Oct 2024 15:30:00. Runtime: 0.33 seconds\n",
                        "Starting CastDataTypeTask Fri, 18 Oct 2024 15:30:00\n",
                        "Completed CastDataTypeTask Fri, 18 Oct 2024 15:30:00. Runtime: 0.06 seconds\n",
                        "\n",
                        "\n",
                        "                            Data Normalization Stage                            \n",
                        "                             Stage Start | Fri, 18 Oct 2024 15:29:59\n",
                        "                          Stage Complete | Fri, 18 Oct 2024 15:30:00\n",
                        "                                 Runtime | 0.97 seconds\n",
                        "\n",
                        "\n",
                        "\n",
                        "\n",
                        "# ============================================================================ #\n",
                        "\n"
                    ]
                }
            ],
            "source": [
                "# Obtain the normalization stage configuration\n",
                "reader = OrchestrationConfigReader()\n",
                "config = reader.get_config(\"phases\", namespace=False)\n",
                "stage_config = config[\"dataprep\"][\"stages\"][1]\n",
                "\n",
                "# Build and run the stage.\n",
                "stage = DataPrepStage.build(stage_config=stage_config, force=True)\n",
                "asset_id = stage.run()"
            ]
        },
        {
            "cell_type": "code",
            "execution_count": 6,
            "metadata": {},
            "outputs": [
                {
                    "name": "stdout",
                    "output_type": "stream",
                    "text": [
                        "<class 'pandas.core.frame.DataFrame'>\n",
                        "Index: 59021 entries, 558124 to 20770924\n",
                        "Data columns (total 11 columns):\n",
                        " #   Column       Non-Null Count  Dtype         \n",
                        "---  ------       --------------  -----         \n",
                        " 0   id           59021 non-null  string        \n",
                        " 1   app_id       59021 non-null  string        \n",
                        " 2   app_name     59021 non-null  string        \n",
                        " 3   category_id  59021 non-null  category      \n",
                        " 4   author       59021 non-null  string        \n",
                        " 5   rating       59021 non-null  int16         \n",
                        " 6   content      59021 non-null  string        \n",
                        " 7   vote_sum     59021 non-null  int64         \n",
                        " 8   vote_count   59021 non-null  int64         \n",
                        " 9   date         59021 non-null  datetime64[ms]\n",
                        " 10  category     59021 non-null  category      \n",
                        "dtypes: category(2), datetime64[ms](1), int16(1), int64(2), string(5)\n",
                        "memory usage: 4.3 MB\n"
                    ]
                }
            ],
            "source": [
                "repo = container.repo.dataset_repo()\n",
                "ds = repo.get(asset_id=asset_id)\n",
                "ds.content.info(verbose=True, memory_usage=True, show_counts=True)"
            ]
        },
        {
            "cell_type": "code",
            "execution_count": 7,
            "metadata": {},
            "outputs": [
                {
                    "data": {
                        "text/html": [
                            "<div>\n",
                            "<style scoped>\n",
                            "    .dataframe tbody tr th:only-of-type {\n",
                            "        vertical-align: middle;\n",
                            "    }\n",
                            "\n",
                            "    .dataframe tbody tr th {\n",
                            "        vertical-align: top;\n",
                            "    }\n",
                            "\n",
                            "    .dataframe thead th {\n",
                            "        text-align: right;\n",
                            "    }\n",
                            "</style>\n",
                            "<table border=\"1\" class=\"dataframe\">\n",
                            "  <thead>\n",
                            "    <tr style=\"text-align: right;\">\n",
                            "      <th></th>\n",
                            "      <th>id</th>\n",
                            "      <th>app_id</th>\n",
                            "      <th>app_name</th>\n",
                            "      <th>category_id</th>\n",
                            "      <th>author</th>\n",
                            "      <th>rating</th>\n",
                            "      <th>content</th>\n",
                            "      <th>vote_sum</th>\n",
                            "      <th>vote_count</th>\n",
                            "      <th>date</th>\n",
                            "      <th>category</th>\n",
                            "    </tr>\n",
                            "  </thead>\n",
                            "  <tbody>\n",
                            "    <tr>\n",
                            "      <th>558124</th>\n",
                            "      <td>7889871751</td>\n",
                            "      <td>580643740</td>\n",
                            "      <td>hoopla Digital</td>\n",
                            "      <td>6018</td>\n",
                            "      <td>0a433aa553dfe6554826</td>\n",
                            "      <td>5</td>\n",
                            "      <td>Titles I didn’t think they would have and a ap...</td>\n",
                            "      <td>0</td>\n",
                            "      <td>0</td>\n",
                            "      <td>2021-10-08 01:25:00</td>\n",
                            "      <td>Book</td>\n",
                            "    </tr>\n",
                            "    <tr>\n",
                            "      <th>414067</th>\n",
                            "      <td>6995102689</td>\n",
                            "      <td>1076402606</td>\n",
                            "      <td>Libby, by OverDrive</td>\n",
                            "      <td>6018</td>\n",
                            "      <td>dce2976b6ee0e0fa44a0</td>\n",
                            "      <td>5</td>\n",
                            "      <td>I have been getting ebooks from the library fo...</td>\n",
                            "      <td>0</td>\n",
                            "      <td>0</td>\n",
                            "      <td>2021-02-15 00:01:00</td>\n",
                            "      <td>Book</td>\n",
                            "    </tr>\n",
                            "    <tr>\n",
                            "      <th>418064</th>\n",
                            "      <td>8308068603</td>\n",
                            "      <td>1076402606</td>\n",
                            "      <td>Libby, by OverDrive</td>\n",
                            "      <td>6018</td>\n",
                            "      <td>50091da0238254dbef31</td>\n",
                            "      <td>5</td>\n",
                            "      <td>With my busy life the e- library brought back ...</td>\n",
                            "      <td>0</td>\n",
                            "      <td>0</td>\n",
                            "      <td>2022-02-01 19:29:00</td>\n",
                            "      <td>Book</td>\n",
                            "    </tr>\n",
                            "    <tr>\n",
                            "      <th>571213</th>\n",
                            "      <td>7316684624</td>\n",
                            "      <td>852497554</td>\n",
                            "      <td>Golden Quran | المصحف الذهبي</td>\n",
                            "      <td>6018</td>\n",
                            "      <td>8d51996c99eee37e1f9b</td>\n",
                            "      <td>5</td>\n",
                            "      <td>شكرا جزيلا لمصمم البرنامج والذين ساهمو  فيه وا...</td>\n",
                            "      <td>0</td>\n",
                            "      <td>0</td>\n",
                            "      <td>2021-05-09 09:14:00</td>\n",
                            "      <td>Book</td>\n",
                            "    </tr>\n",
                            "    <tr>\n",
                            "      <th>149022</th>\n",
                            "      <td>8287426523</td>\n",
                            "      <td>903001147</td>\n",
                            "      <td>Axis 360</td>\n",
                            "      <td>6018</td>\n",
                            "      <td>ccbc729a023bde903a1a</td>\n",
                            "      <td>3</td>\n",
                            "      <td>This app has a lot of content to offer but I h...</td>\n",
                            "      <td>0</td>\n",
                            "      <td>0</td>\n",
                            "      <td>2022-01-27 06:53:00</td>\n",
                            "      <td>Book</td>\n",
                            "    </tr>\n",
                            "  </tbody>\n",
                            "</table>\n",
                            "</div>"
                        ],
                        "text/plain": [
                            "                id      app_id                      app_name category_id  \\\n",
                            "558124  7889871751   580643740                hoopla Digital        6018   \n",
                            "414067  6995102689  1076402606           Libby, by OverDrive        6018   \n",
                            "418064  8308068603  1076402606           Libby, by OverDrive        6018   \n",
                            "571213  7316684624   852497554  Golden Quran | المصحف الذهبي        6018   \n",
                            "149022  8287426523   903001147                      Axis 360        6018   \n",
                            "\n",
                            "                      author  rating  \\\n",
                            "558124  0a433aa553dfe6554826       5   \n",
                            "414067  dce2976b6ee0e0fa44a0       5   \n",
                            "418064  50091da0238254dbef31       5   \n",
                            "571213  8d51996c99eee37e1f9b       5   \n",
                            "149022  ccbc729a023bde903a1a       3   \n",
                            "\n",
                            "                                                  content  vote_sum  \\\n",
                            "558124  Titles I didn’t think they would have and a ap...         0   \n",
                            "414067  I have been getting ebooks from the library fo...         0   \n",
                            "418064  With my busy life the e- library brought back ...         0   \n",
                            "571213  شكرا جزيلا لمصمم البرنامج والذين ساهمو  فيه وا...         0   \n",
                            "149022  This app has a lot of content to offer but I h...         0   \n",
                            "\n",
                            "        vote_count                date category  \n",
                            "558124           0 2021-10-08 01:25:00     Book  \n",
                            "414067           0 2021-02-15 00:01:00     Book  \n",
                            "418064           0 2022-02-01 19:29:00     Book  \n",
                            "571213           0 2021-05-09 09:14:00     Book  \n",
                            "149022           0 2022-01-27 06:53:00     Book  "
                        ]
                    },
                    "execution_count": 7,
                    "metadata": {},
                    "output_type": "execute_result"
                }
            ],
            "source": [
                "ds.content.head()"
            ]
        },
        {
            "cell_type": "markdown",
            "metadata": {},
            "source": [
                "Datatypes have been successfully cast, utf-8 encoding verified, and newlines have been removed, yielding a dataset of 22,166,591 observations and no null values."
            ]
        }
    ],
    "metadata": {
        "kernelspec": {
            "display_name": "appvocai",
            "language": "python",
            "name": "python3"
        },
        "language_info": {
            "codemirror_mode": {
                "name": "ipython",
                "version": 3
            },
            "file_extension": ".py",
            "mimetype": "text/x-python",
            "name": "python",
            "nbconvert_exporter": "python",
            "pygments_lexer": "ipython3",
            "version": "3.10.14"
        }
    },
    "nbformat": 4,
    "nbformat_minor": 2
}
