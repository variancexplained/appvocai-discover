{
 "cells": [
  {
   "cell_type": "code",
   "execution_count": 1,
   "metadata": {},
   "outputs": [],
   "source": [
    "import warnings\n",
    "\n",
    "warnings.filterwarnings(\"ignore\")\n",
    "import os\n",
    "\n",
    "if \"jbook\" in os.getcwd():\n",
    "    os.chdir(os.path.abspath(os.path.join(\"../..\")))\n",
    "FORCE = True"
   ]
  },
  {
   "cell_type": "markdown",
   "metadata": {},
   "source": [
    "# Review Text Quality Assessment (TQA) \n",
    "Aspect-based sentiment analysis (ABSA) model self-training and fine-tuning requires text saturated with explicit aspects and opinions words. Dense, unambiguous, aspect-rich reviews are especially vital during ABSA model self-training and pseudo-labeling. Explicit aspect-opinion pair relationships minimize noise and reinforce the model’s understanding of aspect-sentiment associations. Here, we assess the degree to which each review manifests this richness, enabling targeted sample selection for optimal self-training and ABSA model fine-tuning. \n",
    "\n",
    "## Text Quality Scoring \n",
    "Text quality in our context is less about fluency or lexical sophistication in the traditional linguistic sense; we're not grading essays. Instead, we focus on whether reviews contain clear aspects and opinions, reflected through specific syntactic features, such as the density of nouns, adjectives, verbs, and adverbs. Our scoring method assigns weighted values to key syntactic components that drive aspect-based sentiment analysis. We calculate the **Syntactic Score** using the formula:\n",
    "\n",
    "$$\n",
    "\\text{Syntactic Score} = 0.3 \\times \\text{Noun Density} + 0.3 \\times \\text{Adjective Density} + 0.2 \\times \\text{Verb Density} + 0.2 \\times \\text{Adverb Density}\n",
    "$$\n",
    "\n",
    "Here, nouns $w_N = 0.3$ anchor aspect identification, while adjectives $w_A = 0.3$ capture sentiment polarity. Verbs $w_V = 0.2$ add contextual sentiment nuances, and adverbs $w_{ADV} = 0.2$ convey intensity. We combine this **Syntactic Score** with a **Lexical Diversity Score (TTR)** to derive a comprehensive **Text Quality Score**:\n",
    "\n",
    "$$\n",
    "\\text{Text Quality Score Raw} = \\alpha \\cdot \\text{Syntactic Score} + \\beta \\cdot \\text{Lexical Diversity Score (TTR)}\n",
    "$$\n",
    "\n",
    "where $\\alpha=0.5$ and $\\beta=0.5$ adjust the relative importance of syntactic richness and lexical diversity, respectively.\n",
    "\n",
    "Finally, we scale $\\text{Text Quality Score}$ to the range $[0,100]$"
   ]
  },
  {
   "cell_type": "markdown",
   "metadata": {
    "tags": [
     "hide-cell"
    ]
   },
   "source": [
    "## Import Libraries"
   ]
  },
  {
   "cell_type": "code",
   "execution_count": 2,
   "metadata": {
    "tags": [
     "hide-cell"
    ]
   },
   "outputs": [],
   "source": [
    "import pandas as pd\n",
    "\n",
    "from discover.app.tqa import DatasetEvaluation\n",
    "from discover.app.tqa import TextQualityAnalysis\n",
    "from discover.container import DiscoverContainer\n",
    "from discover.core.flow import DataPrepStageDef\n",
    "from discover.assets.idgen import DatasetIDGen\n",
    "from discover.core.flow import Phase, DataPrepStageDef\n",
    "\n",
    "pd.options.display.max_colwidth = 200\n",
    "pd.options.display.max_rows = None"
   ]
  },
  {
   "cell_type": "markdown",
   "metadata": {
    "tags": [
     "remove-cell"
    ]
   },
   "source": [
    "## Dependency Container"
   ]
  },
  {
   "cell_type": "code",
   "execution_count": 3,
   "metadata": {
    "tags": [
     "remove-cell"
    ]
   },
   "outputs": [],
   "source": [
    "container = DiscoverContainer()\n",
    "container.init_resources()\n",
    "container.wire(\n",
    "    modules=[\n",
    "        \"discover.flow.stage.base\",\n",
    "    ],\n",
    ")"
   ]
  },
  {
   "cell_type": "code",
   "execution_count": 4,
   "metadata": {},
   "outputs": [],
   "source": [
    "repo = container.persist.dataset_repo()\n",
    "asset_id = DatasetIDGen.get_asset_id(\n",
    "    asset_type=\"dataset\",\n",
    "    phase=PhaseDef.DATAPREP,\n",
    "    stage=DataPrepStageDef.ENRICH_REVIEW,\n",
    "    name=\"review\",\n",
    ")\n",
    "dataset = repo.get(asset_id=asset_id, distributed=False, nlp=False)"
   ]
  },
  {
   "cell_type": "code",
   "execution_count": null,
   "metadata": {},
   "outputs": [
    {
     "data": {
      "text/html": [
       "<div>\n",
       "<style scoped>\n",
       "    .dataframe tbody tr th:only-of-type {\n",
       "        vertical-align: middle;\n",
       "    }\n",
       "\n",
       "    .dataframe tbody tr th {\n",
       "        vertical-align: top;\n",
       "    }\n",
       "\n",
       "    .dataframe thead th {\n",
       "        text-align: right;\n",
       "    }\n",
       "</style>\n",
       "<table border=\"1\" class=\"dataframe\">\n",
       "  <thead>\n",
       "    <tr style=\"text-align: right;\">\n",
       "      <th></th>\n",
       "      <th>app_name</th>\n",
       "      <th>tqa_score</th>\n",
       "      <th>sa_sentiment</th>\n",
       "      <th>content</th>\n",
       "    </tr>\n",
       "  </thead>\n",
       "  <tbody>\n",
       "    <tr>\n",
       "      <th>11755</th>\n",
       "      <td>TEUIDA Learn Korean &amp; Japanese</td>\n",
       "      <td>1.520173</td>\n",
       "      <td>Very Positive</td>\n",
       "      <td>I’ll be frank I found this app in an ad and thought why not. When I say it was the best decision I mean it. It’s interactive the lessons are helpful. There are stories to help you feel like your s...</td>\n",
       "    </tr>\n",
       "    <tr>\n",
       "      <th>74015</th>\n",
       "      <td>Xfinity</td>\n",
       "      <td>1.068535</td>\n",
       "      <td>Neutral</td>\n",
       "      <td>What is the purpose of all these xfinity apps? What is the purpose of the app if we are going to be redirected to sign in everytime we want to do something within the app😭</td>\n",
       "    </tr>\n",
       "    <tr>\n",
       "      <th>12386</th>\n",
       "      <td>Procare: Childcare App</td>\n",
       "      <td>1.029619</td>\n",
       "      <td>Positive</td>\n",
       "      <td>Great app for getting updates and pictures of my little while at day care.</td>\n",
       "    </tr>\n",
       "    <tr>\n",
       "      <th>56458</th>\n",
       "      <td>Bible</td>\n",
       "      <td>1.111658</td>\n",
       "      <td>Positive</td>\n",
       "      <td>Love the ease of this app! The plans are great and whether you have 2 minutes or 22 minutes, you will be able to take something away from the app.</td>\n",
       "    </tr>\n",
       "    <tr>\n",
       "      <th>36567</th>\n",
       "      <td>Sweatcoin Walking Step Counter</td>\n",
       "      <td>1.903294</td>\n",
       "      <td>Negative</td>\n",
       "      <td>When I first downloaded this app I read the goal was to monetize it like bitcoin. I walk my dog every day around 2 miles so figured It would be an easy way to earn sweat coins since I was outside....</td>\n",
       "    </tr>\n",
       "  </tbody>\n",
       "</table>\n",
       "</div>"
      ],
      "text/plain": [
       "                             app_name  tqa_score   sa_sentiment  \\\n",
       "11755  TEUIDA Learn Korean & Japanese   1.520173  Very Positive   \n",
       "74015                         Xfinity   1.068535        Neutral   \n",
       "12386          Procare: Childcare App   1.029619       Positive   \n",
       "56458                           Bible   1.111658       Positive   \n",
       "36567  Sweatcoin Walking Step Counter   1.903294       Negative   \n",
       "\n",
       "                                                                                                                                                                                                       content  \n",
       "11755  I’ll be frank I found this app in an ad and thought why not. When I say it was the best decision I mean it. It’s interactive the lessons are helpful. There are stories to help you feel like your s...  \n",
       "74015                              What is the purpose of all these xfinity apps? What is the purpose of the app if we are going to be redirected to sign in everytime we want to do something within the app😭  \n",
       "12386                                                                                                                               Great app for getting updates and pictures of my little while at day care.  \n",
       "56458                                                       Love the ease of this app! The plans are great and whether you have 2 minutes or 22 minutes, you will be able to take something away from the app.  \n",
       "36567  When I first downloaded this app I read the goal was to monetize it like bitcoin. I walk my dog every day around 2 miles so figured It would be an easy way to earn sweat coins since I was outside....  "
      ]
     },
     "execution_count": 7,
     "metadata": {},
     "output_type": "execute_result"
    }
   ],
   "source": [
    "df = dataset.content\n",
    "df.loc[df[\"tqa_score\"] > 1][\n",
    "    [\"app_name\", \"tqa_score\", \"sa_sentiment\", \"content\"]\n",
    "].sample(n=5)"
   ]
  },
  {
   "cell_type": "code",
   "execution_count": null,
   "metadata": {},
   "outputs": [],
   "source": [
    "tqa = TextQualityAnalysis(df=df)\n",
    "tqa.distribution()"
   ]
  },
  {
   "cell_type": "markdown",
   "metadata": {},
   "source": [
    "Analysis here"
   ]
  },
  {
   "cell_type": "markdown",
   "metadata": {},
   "source": [
    "### Low Quality Reviews"
   ]
  },
  {
   "cell_type": "code",
   "execution_count": null,
   "metadata": {},
   "outputs": [],
   "source": [
    "tqa.select(\n",
    "    n=10,\n",
    "    x=\"tqa_score\",\n",
    "    sort_by=\"tqa_score\",\n",
    "    ascending=True,\n",
    "    cols=[\"id\", \"app_name\", \"tqa_score\", \"content\"],\n",
    ")"
   ]
  },
  {
   "cell_type": "markdown",
   "metadata": {},
   "source": [
    "### High Quality Reviews"
   ]
  },
  {
   "cell_type": "code",
   "execution_count": null,
   "metadata": {},
   "outputs": [],
   "source": [
    "tqa.select(\n",
    "    n=10,\n",
    "    x=\"tqa_score\",\n",
    "    sort_by=\"tqa_score\",\n",
    "    ascending=False,\n",
    "    cols=[\"id\", \"app_name\", \"tqa_score\", \"content\"],\n",
    ")"
   ]
  },
  {
   "cell_type": "markdown",
   "metadata": {},
   "source": [
    "## Summary and Transition to the Data Quality Analysis (DQA):\n",
    "With the **Text Quality Analysis (TQA) Pipeline** now complete, we have the linguistic elements that contribute to a holistic assessment of text quality for NLP applications. These enriched text quality measures are determinative inputs for our next stage: the **Data Quality Analysis (DQA)**. \n",
    "\n",
    "In the DQA, we’ll dilate our aperture, integrating sentiments, typographical, and linguistic metrics across several dimensions of data quality, allowing us to uncover areas of concern, and devise further data processing interventions. "
   ]
  }
 ],
 "metadata": {
  "kernelspec": {
   "display_name": "appvocai",
   "language": "python",
   "name": "python3"
  },
  "language_info": {
   "codemirror_mode": {
    "name": "ipython",
    "version": 3
   },
   "file_extension": ".py",
   "mimetype": "text/x-python",
   "name": "python",
   "nbconvert_exporter": "python",
   "pygments_lexer": "ipython3",
   "version": "3.10.15"
  }
 },
 "nbformat": 4,
 "nbformat_minor": 2
}
