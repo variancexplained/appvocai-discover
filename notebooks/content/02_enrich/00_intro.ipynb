{
 "cells": [
  {
   "cell_type": "markdown",
   "metadata": {},
   "source": [
    "# AppVoCAI Dataset Enrichment"
   ]
  },
  {
   "cell_type": "code",
   "execution_count": null,
   "metadata": {},
   "outputs": [],
   "source": [
    "import warnings\n",
    "\n",
    "warnings.filterwarnings(\"ignore\")\n",
    "import os\n",
    "\n",
    "if \"jbook\" in os.getcwd():\n",
    "    os.chdir(os.path.abspath(os.path.join(\"../..\")))\n",
    "FORCE = False"
   ]
  },
  {
   "cell_type": "markdown",
   "metadata": {},
   "source": [
    "# **AppVoCAI Dataset Enrichment**\n",
    "The data enrichment effort unfolding over the next few sections aims to enhance the AppVoCAI Dataset's depth and contextual richness with derived features and aggregations across four dimensions of user feedback. \n",
    "\n",
    "**1. Sentiment Classification**: Leverage a DistilBERT-Based {cite}`sanhDistilBERTDistilledVersion2020` model to classify each review into one of five sentiment categories: `Very Negative`, `Negative`, `Neutral`, `Positive` and `Very Positive`.   \n",
    "**2. Review Text Quality Assessment**: Assess review quality by incorporating syntactical structure and lexical semantic information to identify high-quality reviews for ABSA model fine-tuning and training.\n",
    "**3. Quantitative Data Enrichment**: Evaluate rating, votes, and review lengths, within the context of app and category trends. Parse temporal data to reveal engagement patterns. \n",
    "**4. App/Category Aggregation**: Aggregate descriptive statistics for rating, review length, and engagement data at the app and category levels. \n",
    "\n",
    "This cross-layered enrichment process, detailed in the next sections, will equip the exploratory analysis with additional nuance and context of user feedback across individual reviews, apps, and broader categories.  \n"
   ]
  }
 ],
 "metadata": {
  "kernelspec": {
   "display_name": "appvocai",
   "language": "python",
   "name": "python3"
  },
  "language_info": {
   "name": "python",
   "version": "3.10.15"
  }
 },
 "nbformat": 4,
 "nbformat_minor": 2
}
