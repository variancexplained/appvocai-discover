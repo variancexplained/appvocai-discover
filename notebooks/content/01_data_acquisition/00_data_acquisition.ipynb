{
 "cells": [
  {
   "cell_type": "code",
   "execution_count": 1,
   "metadata": {},
   "outputs": [],
   "source": [
    "import os\n",
    "\n",
    "if \"jbook\" in os.getcwd():\n",
    "    os.chdir(os.path.abspath(os.path.join(\"../..\")))\n",
    "import warnings\n",
    "\n",
    "warnings.filterwarnings(\"ignore\")"
   ]
  },
  {
   "cell_type": "markdown",
   "metadata": {},
   "source": [
    "# Data Acquisition Stage\n",
    "The AppVoCAI Dataset contains reviews dating back to 2008. As our aim is to evince current unmet needs and opportunities in the app market, we will limit the data to reviews written during  the 32 months between January 2021 and September 2023."
   ]
  },
  {
   "cell_type": "code",
   "execution_count": 2,
   "metadata": {},
   "outputs": [],
   "source": [
    "from discover.container import DiscoverContainer\n",
    "from discover.infra.config.orchestration import OrchestrationConfigReader\n",
    "from discover.orchestration.data_prep.stage import DataPrepStage"
   ]
  },
  {
   "cell_type": "markdown",
   "metadata": {},
   "source": [
    "## Dependency Container"
   ]
  },
  {
   "cell_type": "code",
   "execution_count": 3,
   "metadata": {},
   "outputs": [
    {
     "name": "stdout",
     "output_type": "stream",
     "text": [
      "INFO: Pandarallel will run on 12 workers.\n",
      "INFO: Pandarallel will use Memory file system to transfer data between the main process and workers.\n"
     ]
    }
   ],
   "source": [
    "container = DiscoverContainer()\n",
    "container.init_resources()\n",
    "container.wire(\n",
    "    modules=[\n",
    "        \"discover.orchestration.data_prep.stage\",\n",
    "        \"discover.orchestration.data_prep.dqa\",\n",
    "    ],\n",
    ")"
   ]
  },
  {
   "cell_type": "markdown",
   "metadata": {},
   "source": [
    "## Data Acquisition Pipeline"
   ]
  },
  {
   "cell_type": "code",
   "execution_count": 4,
   "metadata": {},
   "outputs": [
    {
     "name": "stdout",
     "output_type": "stream",
     "text": [
      "\n",
      "\n",
      "# ============================================================================ #\n",
      "#                             Data Ingestion Stage                             #\n",
      "# ============================================================================ #\n",
      "\n",
      "Starting Data Ingestion Stage Fri, 18 Oct 2024 11:47:59\n"
     ]
    },
    {
     "name": "stderr",
     "output_type": "stream",
     "text": [
      "[10/18/2024 11:48:40 AM] [DEBUG] [root] [_read] : Read file using ParquetIO and returning a DataFrame\n"
     ]
    },
    {
     "name": "stdout",
     "output_type": "stream",
     "text": [
      "Starting FilterTask Fri, 18 Oct 2024 11:48:40\n",
      "Completed FilterTask Fri, 18 Oct 2024 11:48:45. Runtime: 4.37 seconds\n",
      "\n",
      "\n",
      "                              Data Ingestion Stage                              \n",
      "                             Stage Start | Fri, 18 Oct 2024 11:47:59\n",
      "                          Stage Complete | Fri, 18 Oct 2024 11:48:51\n",
      "                                 Runtime | 52.16 seconds\n",
      "\n",
      "\n",
      "\n",
      "\n",
      "# ============================================================================ #\n",
      "\n"
     ]
    }
   ],
   "source": [
    "# Obtain the configuration\n",
    "reader = OrchestrationConfigReader()\n",
    "config = reader.get_config(\"phases\", namespace=False)\n",
    "stage_config = config[\"dataprep\"][\"stages\"][0]\n",
    "\n",
    "# Build and run Data Ingestion Stage\n",
    "stage = DataPrepStage.build(stage_config=stage_config, force=False)\n",
    "asset_id = stage.run()"
   ]
  },
  {
   "cell_type": "markdown",
   "metadata": {},
   "source": [
    "## Data Overview"
   ]
  },
  {
   "cell_type": "code",
   "execution_count": 5,
   "metadata": {},
   "outputs": [
    {
     "name": "stdout",
     "output_type": "stream",
     "text": [
      "<class 'pandas.core.frame.DataFrame'>\n",
      "Index: 59021 entries, 558124 to 20770924\n",
      "Data columns (total 11 columns):\n",
      " #   Column       Non-Null Count  Dtype         \n",
      "---  ------       --------------  -----         \n",
      " 0   id           59021 non-null  string        \n",
      " 1   app_id       59021 non-null  string        \n",
      " 2   app_name     59021 non-null  string        \n",
      " 3   category_id  59021 non-null  object        \n",
      " 4   author       59021 non-null  object        \n",
      " 5   rating       59021 non-null  float64       \n",
      " 6   content      59021 non-null  string        \n",
      " 7   vote_sum     59021 non-null  Int64         \n",
      " 8   vote_count   59021 non-null  Int64         \n",
      " 9   date         59021 non-null  datetime64[us]\n",
      " 10  category     59021 non-null  category      \n",
      "dtypes: Int64(2), category(1), datetime64[us](1), float64(1), object(2), string(4)\n",
      "memory usage: 5.1+ MB\n"
     ]
    }
   ],
   "source": [
    "repo = container.repo.dataset_repo()\n",
    "ds = repo.get(asset_id=asset_id)\n",
    "ds.content.info(verbose=True, memory_usage=True, show_counts=True)"
   ]
  },
  {
   "cell_type": "code",
   "execution_count": 6,
   "metadata": {},
   "outputs": [
    {
     "data": {
      "text/html": [
       "<div>\n",
       "<style scoped>\n",
       "    .dataframe tbody tr th:only-of-type {\n",
       "        vertical-align: middle;\n",
       "    }\n",
       "\n",
       "    .dataframe tbody tr th {\n",
       "        vertical-align: top;\n",
       "    }\n",
       "\n",
       "    .dataframe thead th {\n",
       "        text-align: right;\n",
       "    }\n",
       "</style>\n",
       "<table border=\"1\" class=\"dataframe\">\n",
       "  <thead>\n",
       "    <tr style=\"text-align: right;\">\n",
       "      <th></th>\n",
       "      <th>id</th>\n",
       "      <th>app_id</th>\n",
       "      <th>app_name</th>\n",
       "      <th>category_id</th>\n",
       "      <th>author</th>\n",
       "      <th>rating</th>\n",
       "      <th>content</th>\n",
       "      <th>vote_sum</th>\n",
       "      <th>vote_count</th>\n",
       "      <th>date</th>\n",
       "      <th>category</th>\n",
       "    </tr>\n",
       "  </thead>\n",
       "  <tbody>\n",
       "    <tr>\n",
       "      <th>558124</th>\n",
       "      <td>7889871751</td>\n",
       "      <td>580643740</td>\n",
       "      <td>hoopla Digital</td>\n",
       "      <td>6018</td>\n",
       "      <td>0a433aa553dfe6554826</td>\n",
       "      <td>5.0</td>\n",
       "      <td>Titles I didn’t think they would have and a ap...</td>\n",
       "      <td>0</td>\n",
       "      <td>0</td>\n",
       "      <td>2021-10-08 01:25:00</td>\n",
       "      <td>Book</td>\n",
       "    </tr>\n",
       "    <tr>\n",
       "      <th>414067</th>\n",
       "      <td>6995102689</td>\n",
       "      <td>1076402606</td>\n",
       "      <td>Libby, by OverDrive</td>\n",
       "      <td>6018</td>\n",
       "      <td>dce2976b6ee0e0fa44a0</td>\n",
       "      <td>5.0</td>\n",
       "      <td>I have been getting ebooks from the library fo...</td>\n",
       "      <td>0</td>\n",
       "      <td>0</td>\n",
       "      <td>2021-02-15 00:01:00</td>\n",
       "      <td>Book</td>\n",
       "    </tr>\n",
       "    <tr>\n",
       "      <th>418064</th>\n",
       "      <td>8308068603</td>\n",
       "      <td>1076402606</td>\n",
       "      <td>Libby, by OverDrive</td>\n",
       "      <td>6018</td>\n",
       "      <td>50091da0238254dbef31</td>\n",
       "      <td>5.0</td>\n",
       "      <td>With my busy life the e- library brought back ...</td>\n",
       "      <td>0</td>\n",
       "      <td>0</td>\n",
       "      <td>2022-02-01 19:29:00</td>\n",
       "      <td>Book</td>\n",
       "    </tr>\n",
       "    <tr>\n",
       "      <th>571213</th>\n",
       "      <td>7316684624</td>\n",
       "      <td>852497554</td>\n",
       "      <td>Golden Quran | المصحف الذهبي</td>\n",
       "      <td>6018</td>\n",
       "      <td>8d51996c99eee37e1f9b</td>\n",
       "      <td>5.0</td>\n",
       "      <td>شكرا جزيلا لمصمم البرنامج والذين ساهمو  فيه وا...</td>\n",
       "      <td>0</td>\n",
       "      <td>0</td>\n",
       "      <td>2021-05-09 09:14:00</td>\n",
       "      <td>Book</td>\n",
       "    </tr>\n",
       "    <tr>\n",
       "      <th>149022</th>\n",
       "      <td>8287426523</td>\n",
       "      <td>903001147</td>\n",
       "      <td>Axis 360</td>\n",
       "      <td>6018</td>\n",
       "      <td>ccbc729a023bde903a1a</td>\n",
       "      <td>3.0</td>\n",
       "      <td>This app has a lot of content to offer but I h...</td>\n",
       "      <td>0</td>\n",
       "      <td>0</td>\n",
       "      <td>2022-01-27 06:53:00</td>\n",
       "      <td>Book</td>\n",
       "    </tr>\n",
       "  </tbody>\n",
       "</table>\n",
       "</div>"
      ],
      "text/plain": [
       "                id      app_id                      app_name category_id  \\\n",
       "558124  7889871751   580643740                hoopla Digital        6018   \n",
       "414067  6995102689  1076402606           Libby, by OverDrive        6018   \n",
       "418064  8308068603  1076402606           Libby, by OverDrive        6018   \n",
       "571213  7316684624   852497554  Golden Quran | المصحف الذهبي        6018   \n",
       "149022  8287426523   903001147                      Axis 360        6018   \n",
       "\n",
       "                      author  rating  \\\n",
       "558124  0a433aa553dfe6554826     5.0   \n",
       "414067  dce2976b6ee0e0fa44a0     5.0   \n",
       "418064  50091da0238254dbef31     5.0   \n",
       "571213  8d51996c99eee37e1f9b     5.0   \n",
       "149022  ccbc729a023bde903a1a     3.0   \n",
       "\n",
       "                                                  content  vote_sum  \\\n",
       "558124  Titles I didn’t think they would have and a ap...         0   \n",
       "414067  I have been getting ebooks from the library fo...         0   \n",
       "418064  With my busy life the e- library brought back ...         0   \n",
       "571213  شكرا جزيلا لمصمم البرنامج والذين ساهمو  فيه وا...         0   \n",
       "149022  This app has a lot of content to offer but I h...         0   \n",
       "\n",
       "        vote_count                date category  \n",
       "558124           0 2021-10-08 01:25:00     Book  \n",
       "414067           0 2021-02-15 00:01:00     Book  \n",
       "418064           0 2022-02-01 19:29:00     Book  \n",
       "571213           0 2021-05-09 09:14:00     Book  \n",
       "149022           0 2022-01-27 06:53:00     Book  "
      ]
     },
     "execution_count": 6,
     "metadata": {},
     "output_type": "execute_result"
    }
   ],
   "source": [
    "ds.content.head()"
   ]
  },
  {
   "cell_type": "markdown",
   "metadata": {},
   "source": [
    "The filtered dataset contains **5,902,052** entries (reviews) and **11 columns** with the following details:\n",
    "\n",
    "- **Columns**:\n",
    "  1. `id`: Unique identifier for each review, stored as `string` (non-null for all entries).\n",
    "  2. `app_id`: Unique identifier for each app, stored as `string` (non-null).\n",
    "  3. `app_name`: Name of the app, stored as `string` (non-null).\n",
    "  4. `category_id`: Identifier for the app category, stored as `object` (non-null).\n",
    "  5. `author`: The author of the review, stored as `object` (non-null).\n",
    "  6. `rating`: The rating given by the author, stored as `float64` (non-null).\n",
    "  7. `content`: The text content of the review, stored as `string` (non-null).\n",
    "  8. `vote_sum`: Sum of votes received by the review, stored as `Int64` (non-null).\n",
    "  9. `vote_count`: Total count of votes, stored as `Int64` (non-null).\n",
    "  10. `date`: Date of the review, stored as `datetime64[us]` (non-null).\n",
    "  11. `category`: The category of the app, stored as a `category` type (non-null).\n",
    "\n",
    "- **Memory Usage**: The dataset occupies **512.2+ MB** in memory.\n",
    "\n",
    "These data appear to be complete with no missing values. In the next section, we'll normalize encoding, cast data types and remove formatting characters from review text."
   ]
  }
 ],
 "metadata": {
  "kernelspec": {
   "display_name": "appvocai",
   "language": "python",
   "name": "python3"
  },
  "language_info": {
   "codemirror_mode": {
    "name": "ipython",
    "version": 3
   },
   "file_extension": ".py",
   "mimetype": "text/x-python",
   "name": "python",
   "nbconvert_exporter": "python",
   "pygments_lexer": "ipython3",
   "version": "3.10.14"
  }
 },
 "nbformat": 4,
 "nbformat_minor": 2
}
