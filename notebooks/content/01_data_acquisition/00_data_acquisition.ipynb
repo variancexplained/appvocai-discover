{
 "cells": [
  {
   "cell_type": "markdown",
   "metadata": {},
   "source": [
    "# Data Acquisition Pipeline\n",
    "This notebook documents the data setup pipeline using Prefect, orchestrating tasks for downloading, extracting, and sampling files from an AWS S3 bucket."
   ]
  },
  {
   "cell_type": "code",
   "execution_count": null,
   "metadata": {},
   "outputs": [],
   "source": [
    "from prefect import Flow\n",
    "from appvocai-discover.setup.file.config import FileSetupPipelineConfig\n",
    "from appvocai-discover.setup.file.download import DownloadFileTask\n",
    "from appvocai-discover.setup.file.extract import ExtractFileTask\n",
    "from appvocai-discover.setup.file.sample import SampleFileTask\n"
   ]
  },
  {
   "cell_type": "markdown",
   "metadata": {},
   "source": [
    "## Configuration\n",
    "The FileSetupPipelineConfig class encapsulates configuration parameters for AWS credentials, local file paths, and sampling settings."
   ]
  },
  {
   "cell_type": "code",
   "execution_count": null,
   "metadata": {},
   "outputs": [],
   "source": [
    "# Instantiate the config\n",
    "config = FileSetupPipelineConfig(aws_folder=\"test\", aws_s3_key=\"test_file.txt\")"
   ]
  },
  {
   "cell_type": "markdown",
   "metadata": {},
   "source": [
    "## Task Definitions\n",
    "### Download Task\n",
    "Downloads files from AWS S3 based on configured parameters."
   ]
  },
  {
   "cell_type": "code",
   "execution_count": null,
   "metadata": {},
   "outputs": [],
   "source": [
    "download_task = DownloadFileTask(\n",
    "    aws_access_key=config.aws.access_key,\n",
    "    aws_secret_access_key=config.aws.secret_access_key,\n",
    "    aws_region_name=config.aws.region_name,\n",
    "    aws_bucket_name=config.aws_file.bucket_name,\n",
    "    aws_folder=config.aws_file.folder,\n",
    "    aws_s3_key=config.aws_file.s3_key,\n",
    "    local_download_folder=config.local_download_folder,\n",
    "    local_download_filepath=config.local_download_filepath,\n",
    "    force=config.force,\n",
    ")"
   ]
  },
  {
   "cell_type": "markdown",
   "metadata": {},
   "source": [
    "### Extract Task\n",
    "Extracts downloaded files to a specified local destination."
   ]
  },
  {
   "cell_type": "code",
   "execution_count": null,
   "metadata": {},
   "outputs": [],
   "source": [
    "extract_task = ExtractFileTask(\n",
    "    source=config.local_download_filepath,\n",
    "    extract_destination=config.extract_destination,\n",
    "    force=config.force,\n",
    ")"
   ]
  },
  {
   "cell_type": "markdown",
   "metadata": {},
   "source": [
    "### Sample Task"
   ]
  },
  {
   "cell_type": "code",
   "execution_count": null,
   "metadata": {},
   "outputs": [],
   "source": [
    "sample_task = SampleFileTask(\n",
    "    extract_destination=config.extract_destination,\n",
    "    sample_destination=config.sample_destination,\n",
    "    frac=config.frac,\n",
    "    force=config.force,\n",
    ")"
   ]
  },
  {
   "cell_type": "markdown",
   "metadata": {},
   "source": [
    "## Prefect Flow Definition\n",
    "Defines and executes the Prefect flow file-setup-pipeline, orchestrating task dependencies."
   ]
  },
  {
   "cell_type": "code",
   "execution_count": null,
   "metadata": {},
   "outputs": [],
   "source": [
    "with Flow(\"file-setup-pipeline\") as flow:\n",
    "    # Define task dependencies\n",
    "    download_result = download_task()\n",
    "    extract_result = extract_task()\n",
    "    sample_result = sample_task()\n"
   ]
  },
  {
   "cell_type": "markdown",
   "metadata": {},
   "source": [
    "## Execution\n",
    "Run the Prefect flow to execute the data setup tasks in sequence."
   ]
  },
  {
   "cell_type": "code",
   "execution_count": null,
   "metadata": {},
   "outputs": [],
   "source": [
    "# Run the flow\n",
    "flow.run()"
   ]
  }
 ],
 "metadata": {
  "kernelspec": {
   "display_name": "appvocai-discover",
   "language": "python",
   "name": "python3"
  },
  "language_info": {
   "name": "python",
   "version": "3.10.14"
  }
 },
 "nbformat": 4,
 "nbformat_minor": 2
}
