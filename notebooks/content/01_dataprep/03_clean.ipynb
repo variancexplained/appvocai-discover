{
 "cells": [
  {
   "cell_type": "code",
   "execution_count": 1,
   "metadata": {
    "tags": [
     "remove-cell"
    ]
   },
   "outputs": [],
   "source": [
    "import warnings\n",
    "\n",
    "warnings.filterwarnings(\"ignore\")\n",
    "import os\n",
    "\n",
    "if \"jbook\" in os.getcwd():\n",
    "    os.chdir(os.path.abspath(os.path.join(\"../..\")))\n",
    "FORCE = False"
   ]
  },
  {
   "cell_type": "markdown",
   "metadata": {},
   "source": [
    "# AppVoCAI Dataset Cleaning\n",
    "---\n",
    "In the previous section, we analyzed the AppVoCAI dataset, evaluating its validity, completeness, uniqueness, relevance, and adherence to data privacy concerns. This section is about duplicate deleting, language filtering, artifact removing, PII masking, character normalizing, data cleaning. \n",
    "\n",
    "Our data cleaning methodology focuses on addressing critical data quality issues that could undermine the integrity of downstream analyses, while preserving the text as close to its original form as possible. By adopting this conservative approach, we tackle key issues without sacrificing the nuance and representativeness of the data, ensuring the models are presented with rich, authentic input.\n",
    "\n",
    "## Data Cleaning Key Evaluation Questions (KEQs)\n",
    "---\n",
    "Although, this data cleaning approach comprises many of the preprocessing techniques commonly found in the literature {cite}`symeonidisComparativeEvaluationPreprocessing2018`, the following data cleaning approach is motivated by three guiding questions.\n",
    "\n",
    "1. What’s essential to remove, and what can be left intact to preserve meaning?\n",
    "2. How do we best preserve text richness and nuance?\n",
    "3. How can the data cleaning process best exploit model strengths towards optimal model performance?\n",
    "\n",
    "These Key Evaluation Questions (KEQs) crystallized our approach which balances data quality with model sophistication.\n"
   ]
  },
  {
   "cell_type": "markdown",
   "metadata": {
    "tags": [
     "hide-cell"
    ]
   },
   "source": [
    "### Import Libraries\n",
    "---"
   ]
  },
  {
   "cell_type": "code",
   "execution_count": 2,
   "metadata": {
    "tags": [
     "hide-cell"
    ]
   },
   "outputs": [],
   "source": [
    "from discover.setup import auto_wire_container\n",
    "from discover.analytics.dqa import DQA\n",
    "from discover.core.dtypes import DFType\n",
    "from discover.flow.dataprep.clean.builder import DataCleaningStageBuilder\n",
    "from discover.flow.dataprep.dqa.builder import DataQualityAssessmentStageBuilder\n",
    "from discover.asset.dataset.identity import DatasetConfig\n",
    "from discover.core.file import FileFormat\n",
    "from discover.core.flow import PhaseDef, StageDef\n",
    "\n",
    "\n",
    "# Wire container\n",
    "container = auto_wire_container()"
   ]
  },
  {
   "cell_type": "markdown",
   "metadata": {},
   "source": [
    "## Data Cleaning Approach\n",
    "---\n",
    "The following describes our data cleaning process and steps, executed in the order listed. We begin with 'safe' techniques that carry minimal risk of compromising downstream cleaning tasks. For instance, UTF-8 encoding can impact the accuracy of language detection algorithms, especially if characters carry language-specific information. Removing special characters may compromise the detection of Personally Identifiable Information (PII) such as URLs and email addresses. As the process progresses, steps carry a greater impact on the data, its expressiveness, and representation.\n",
    "\n",
    "Our minimalist, task-specific, model-informed, *leave-as-is* data cleaning process unfolds as follows:\n",
    "\n",
    "1. **Relevance**: Observations containing **non-English text or app names** will be removed to maintain linguistic uniformity within the dataset, which is crucial for consistent language-based analysis. \n",
    "2. **Uniqueness**: For duplicate review IDs, our policy for retention is based on review date. Retaining the most recent review prioritizes review recency, timeliness and relevance. Observations containing duplicate review text will be retained to maximize fidelity to customer experience and expression. \n",
    "3. **Privacy**: Personally identifiable information (PII) such as URLs, email addresses and phone numbers detected in the previous section are removed from the dataset to ensure adherence to data privacy and minimal information policies.\n",
    "4. **Validity**: Replace or remove artifacts, patterns, and noise that do not convey meaningful content, and may compromise dataset validity. Remediations include:\n",
    "    1. **Control Characters**: Remove HTML entities (e.g., `&amp;`, `&#39;`), and non-printable characters from the Unicode and ASCII character sets used to control text flow or hardware devices (e.g., newline, tab, or carriage return). These characters have no analytical value and can interfere with text processing.\n",
    "    2. **Diacritics and Accents**:  We normalize accented characters (e.g., converting `é` to `e`) to reduce unnecessary text variation, which simplifies analysis without compromising the meaning of the content.\n",
    "    3. **Elongation**: Elongated words (e.g., \"soooo\") convey emphasis in informal text, which is valuable for sentiment analysis. We use a threshold approach to limit characters that appear four or more times consecutively to a maximum of three (e.g., \"soooo\" becomes \"sooo\"), preserving emphasis while maintaining readability.\n",
    "    4. **Repetition**: Excess character, sequence, word and phrase repetition is reduced, but not eliminated to perserve artifacts that may signal emphasis.\n",
    "    5. **Special Characters**: Excessive special characters can indicate SPAM, emotional intensity, or nonsensical content. We apply a threshold: if special characters make up more than 35% of the review text, the review is removed.     \n",
    "    6. **Trim Whitespace**: We trim excess whitespace from review text.\n",
    "5. **Non-Informative Reviews**: Reviews that don't match minimum length criteria are removed.\n",
    "\n",
    "\n",
    "### Data Cleaning Techniques Not Implemented\n",
    "---\n",
    "In natural language processing (NLP), text cleaning measures such as lower-casing, contraction and abbreviation expansion, spelling correction, and the removal of emoticons, emojis, and other artifacts are considered standard practice. Given that transformer models are fine-tuned on large user generated content datasets such as the IMDB Movie and SemEval Laptop Reviews dataset, they are highly adept at handling a wide variety of tokens, including emojis, spelling variations, abbreviations and contractions. So, we take a **leave emojis as-is** approach. By leveraging the inherent strengths of transformer - particularly their ability to tokenize subword units and learn from context — we preserve the natural, authentic nature of user-generated content.\n",
    "\n",
    "## Data Cleaning Pipeline\n",
    "---\n",
    "Following our established pipeline construction process, we specify the source and target dataset configurations and obtain an Apache Spark Session to facilitate data processing. "
   ]
  },
  {
   "cell_type": "code",
   "execution_count": 3,
   "metadata": {},
   "outputs": [
    {
     "name": "stderr",
     "output_type": "stream",
     "text": [
      "your 131072x1 screen size is bogus. expect trouble\n",
      "Setting default log level to \"WARN\".\n",
      "To adjust logging level use sc.setLogLevel(newLevel). For SparkR, use setLogLevel(newLevel).\n"
     ]
    }
   ],
   "source": [
    "# Source Dataset Configuration\n",
    "source_config = DatasetConfig(\n",
    "    phase=PhaseDef.DATAPREP,\n",
    "    stage=StageDef.DQA,\n",
    "    name=\"review\",\n",
    "    file_format=FileFormat.PARQUET,\n",
    "    asset_type=\"dataset\",\n",
    "    dftype=DFType.SPARK,\n",
    ")\n",
    "\n",
    "# Target Dataset Configuration\n",
    "target_config = DatasetConfig(\n",
    "    phase=PhaseDef.DATAPREP,\n",
    "    stage=StageDef.SEMICLEAN,\n",
    "    name=\"review\",\n",
    "    file_format=FileFormat.PARQUET,\n",
    "    asset_type=\"dataset\",\n",
    "    dftype=DFType.SPARK,\n",
    ")\n",
    "\n",
    "# Obtain a spark session from the spark session pool\n",
    "spark_session_pool = container.spark.session_pool()\n",
    "spark = spark_session_pool.spark"
   ]
  },
  {
   "cell_type": "markdown",
   "metadata": {},
   "source": [
    "> Hey Siri, queue the **LoFi Data Cleaning Pipeline Builder for Transformers** playlist."
   ]
  },
  {
   "cell_type": "code",
   "execution_count": 4,
   "metadata": {},
   "outputs": [
    {
     "name": "stdout",
     "output_type": "stream",
     "text": [
      "\n",
      "\n",
      "# ============================================================================== #\n",
      "#                Semi-Clean Data Stage Fri, 17 Jan 2025 23:17:54                 #\n",
      "# ============================================================================== #\n",
      "\n"
     ]
    },
    {
     "name": "stderr",
     "output_type": "stream",
     "text": [
      "                                                                                \r"
     ]
    },
    {
     "name": "stdout",
     "output_type": "stream",
     "text": [
      "\n",
      "Task                                    Start       End         Runtime     \n",
      "----------------------------------------------------------------------------\n",
      "DetectOrRepairNonEnglishTask            23:18:00    23:18:00    0.1 seconds \n",
      "DetectOrRepairNonEnglishTask            23:18:00    23:18:00    0.03 seconds\n",
      "DetectOrRepairUniquenessTask            23:18:00    23:18:00    0.03 seconds\n",
      "DetectOrRepairEmailAddressTask          23:18:00    23:18:00    0.1 seconds \n",
      "DetectOrRepairPhoneNumberTask           23:18:00    23:18:00    0.07 seconds\n",
      "DetectOrRepairURLTask                   23:18:00    23:18:00    0.06 seconds\n",
      "DetectOrRepairAccentedCharsTask         23:18:00    23:18:00    0.31 seconds\n",
      "DetectOrRepairControlCharsTask          23:18:00    23:18:00    0.05 seconds\n",
      "DetectOrRepairHTMLCharsTask             23:18:00    23:18:00    0.04 seconds\n",
      "DetectOrRepairElongationTask            23:18:00    23:18:00    0.04 seconds\n",
      "DetectOrRepairRepeatedCharactersTask    23:18:00    23:18:00    0.04 seconds\n",
      "DetectOrRepairRepeatedPhraseTask        23:18:00    23:18:01    0.04 seconds\n",
      "DetectOrRepairRepeatedSequenceTask      23:18:01    23:18:01    0.03 seconds\n",
      "DetectOrRepairRepeatedWordsTask         23:18:01    23:18:01    0.04 seconds\n",
      "DetectOrRepairExcessiveSpecialCharsTask 23:18:01    23:18:01    0.48 seconds\n",
      "DetectOrRepairExcessiveWhitespaceTask   23:18:01    23:18:01    0.05 seconds\n",
      "DetectOrRepairShortReviewsTask          23:18:01    23:18:01    0.1 seconds \n"
     ]
    },
    {
     "name": "stderr",
     "output_type": "stream",
     "text": [
      "[Stage 1:====================================================>    (13 + 1) / 14]\r"
     ]
    },
    {
     "name": "stdout",
     "output_type": "stream",
     "text": [
      "____________________________________________________________________________\n",
      "Semi-Clean Data Stage                   23:17:54    23:18:38    43.67 seconds\n",
      "\n",
      "\n",
      "# ============================================================================ #\n",
      "\n"
     ]
    },
    {
     "name": "stderr",
     "output_type": "stream",
     "text": [
      "                                                                                \r"
     ]
    }
   ],
   "source": [
    "# Create builder\n",
    "builder = DataCleaningStageBuilder()\n",
    "stage = (\n",
    "    builder.spark(spark)\n",
    "    .source(source_config=source_config)  # Source dataset configuration\n",
    "    .target(target_config=target_config)  # Target dataset configuration\n",
    "    .clean_non_english()  # Removes non-English reviews and app names\n",
    "    .clean_duplicate_review_ids()  # Deduplicates review ids, preserving the most recent review.\n",
    "    .clean_privacy_issues()  # Removes URLs, emails and phone numbers from review text.\n",
    "    .clean_invalid_characters()  # Removes HTML, control characters, diacritics and accents.\n",
    "    .clean_elongation(\n",
    "        threshold=3, max_elongation=3\n",
    "    )  # Reduces excessive elongation to 3 characters\n",
    "    .clean_repeated_chars(\n",
    "        min_repetitions=4\n",
    "    )  # Detects repeated character sequences, i.e. slooooooowwww\n",
    "    .clean_repeated_phrases(\n",
    "        threshold=1, threshold_type=\"count\", min_repetitions=2\n",
    "    )  # Detects repeated phrases, i.e. TooManyAdsTooManyAdsTooManyAdsTooManyAds\n",
    "    .clean_repeated_sequences(\n",
    "        length_of_sequence=2,\n",
    "        min_repetitions=3,\n",
    "        threshold=3,\n",
    "        threshold_type=\"count\",\n",
    "        unit=\"character\",\n",
    "    )  # Detects repeated sequences i.e. Too$$MoneyToo$$MoneyToo$$Money\n",
    "    .clean_repeated_words(\n",
    "        threshold=1, threshold_type=\"count\", min_repetitions=3\n",
    "    )  # Detects word repetition exceeding 3 repetitions\n",
    "    .clean_excess_special_chars(\n",
    "        threshold=0.35, threshold_type=\"proportion\", unit=\"character\"\n",
    "    )  # Detects reviews with special characters exceeding a proportional threshold\n",
    "    .clean_excess_whitespace()  # Detects excess whitespace\n",
    "    .clean_short_reviews(\n",
    "        threshold=3\n",
    "    )  # Detects reviews with lengths less than threshold.\n",
    "    .build()\n",
    "    .stage\n",
    ")\n",
    "\n",
    "# Run the stage\n",
    "dataset = stage.run(force=FORCE)"
   ]
  },
  {
   "cell_type": "markdown",
   "metadata": {},
   "source": [
    "## Data Quality Verification\n",
    "---\n",
    "This data quality verification will assess the degree to which the cleaned dataset meets quality criteria for validity, relevance, completeness, privacy and uniquness. "
   ]
  },
  {
   "cell_type": "code",
   "execution_count": 6,
   "metadata": {},
   "outputs": [],
   "source": [
    "# Source Dataset Configuration\n",
    "source_config = DatasetConfig(\n",
    "    phase=PhaseDef.DATAPREP,\n",
    "    stage=StageDef.SEMICLEAN,\n",
    "    name=\"review\",\n",
    "    file_format=FileFormat.PARQUET,\n",
    "    asset_type=\"dataset\",\n",
    "    dftype=DFType.SPARK,\n",
    ")\n",
    "\n",
    "# Target Dataset Configuration\n",
    "target_config = DatasetConfig(\n",
    "    phase=PhaseDef.DATAPREP,\n",
    "    stage=StageDef.DQV,\n",
    "    name=\"review\",\n",
    "    file_format=FileFormat.PARQUET,\n",
    "    asset_type=\"dataset\",\n",
    "    dftype=DFType.SPARK,\n",
    ")"
   ]
  },
  {
   "cell_type": "code",
   "execution_count": 7,
   "metadata": {},
   "outputs": [
    {
     "name": "stdout",
     "output_type": "stream",
     "text": [
      "\n",
      "\n",
      "# ============================================================================== #\n",
      "#            Data Quality Assessment Stage Fri, 17 Jan 2025 23:19:47             #\n",
      "# ============================================================================== #\n",
      "\n",
      "DetectOrRepairEmailAddressTask          23:19:47    23:19:47    0.02 seconds\n",
      "DetectOrRepairPhoneNumberTask           23:19:47    23:19:47    0.02 seconds\n",
      "DetectOrRepairURLTask                   23:19:47    23:19:47    0.03 seconds\n",
      "DetectOrRepairNonEnglishTask            23:19:47    23:19:47    0.1 seconds \n",
      "DetectOrRepairNonEnglishTask            23:19:47    23:19:47    0.11 seconds\n",
      "DetectOrRepairUniquenessTask            23:19:47    23:19:48    0.15 seconds\n",
      "DetectOrRepairUniquenessTask            23:19:48    23:19:48    0.08 seconds\n",
      "DetectOrRepairUniquenessTask            23:19:48    23:19:48    0.11 seconds\n",
      "DetectOrRepairAccentedCharsTask         23:19:48    23:19:48    0.02 seconds\n",
      "DetectOrRepairControlCharsTask          23:19:48    23:19:48    0.02 seconds\n",
      "DetectOrRepairHTMLCharsTask             23:19:48    23:19:48    0.02 seconds\n",
      "DetectOrRepairCategoryAnomalyTask       23:19:48    23:19:48    0.08 seconds\n",
      "DetectOrRepairRatingAnomalyTask         23:19:48    23:19:48    0.54 seconds\n",
      "DetectOrRepairReviewDateAnomalyTask     23:19:48    23:19:49    0.18 seconds\n",
      "DetectOrRepairShortReviewsTask          23:19:49    23:19:49    0.07 seconds\n",
      "DetectOrRepairElongationTask            23:19:49    23:19:49    0.03 seconds\n",
      "DetectOrRepairExcessiveSpecialCharsTask 23:19:49    23:19:49    0.14 seconds\n",
      "DetectOrRepairExcessiveWhitespaceTask   23:19:49    23:19:49    0.03 seconds\n",
      "DetectOrRepairRepeatedCharactersTask    23:19:49    23:19:49    0.03 seconds\n",
      "DetectOrRepairRepeatedPhraseTask        23:19:49    23:19:49    0.1 seconds \n",
      "DetectOrRepairRepeatedSequenceTask      23:19:49    23:19:49    0.11 seconds\n",
      "DetectOrRepairRepeatedWordsTask         23:19:49    23:19:49    0.11 seconds\n"
     ]
    },
    {
     "name": "stderr",
     "output_type": "stream",
     "text": [
      "                                                                                \r"
     ]
    },
    {
     "name": "stdout",
     "output_type": "stream",
     "text": [
      "____________________________________________________________________________\n",
      "Data Quality Assessment Stage           23:19:47    23:21:27    1.0 minute and 39.63 seconds\n",
      "\n",
      "\n",
      "# ============================================================================ #\n",
      "\n"
     ]
    }
   ],
   "source": [
    "# Create builder\n",
    "builder = DataQualityAssessmentStageBuilder()\n",
    "stage = (\n",
    "    builder.spark(spark)\n",
    "    .source(source_config=source_config)  # Source dataset configuration\n",
    "    .target(target_config=target_config)  # Target dataset configuration\n",
    "    .detect_privacy_issues()  # Detects URLs, emails and phone numbers in review text.\n",
    "    .detect_non_english()  # Detects non-English reviews and app names\n",
    "    .detect_duplication()  # Detects duplicate rows, reviews and identifiers.\n",
    "    .detect_invalid_characters()  # Detects control, HMTL, and accent characters\n",
    "    .detect_invalid_values()  # Detects invalid categories, ratings, and review dates\n",
    "    .detect_short_reviews(\n",
    "        threshold=3\n",
    "    )  # Detects reviews with lengths less than threshold.\n",
    "    .detect_elongation(threshold=4, max_elongation=3)  # Detects word elongation\n",
    "    .detect_excess_special_chars(\n",
    "        threshold=0.35, threshold_type=\"proportion\", unit=\"character\"\n",
    "    )  # Detects reviews with special characters exceeding a proportional threshold\n",
    "    .detect_excess_whitespace()  # Detects excess whitespace\n",
    "    .detect_repeated_chars(\n",
    "        min_repetitions=4\n",
    "    )  # Detects repeated character sequences, i.e. slooooooowwww\n",
    "    .detect_repeated_phrases(\n",
    "        threshold=1, threshold_type=\"count\", min_repetitions=2\n",
    "    )  # Detects repeated phrases, i.e. TooManyAdsTooManyAdsTooManyAdsTooManyAds\n",
    "    .detect_repeated_sequences(\n",
    "        length_of_sequence=2,\n",
    "        min_repetitions=3,\n",
    "        threshold=3,\n",
    "        threshold_type=\"count\",\n",
    "        unit=\"character\",\n",
    "    )  # Detects repeated sequences i.e. Too$$MoneyToo$$MoneyToo$$Money\n",
    "    .detect_repeated_words(\n",
    "        threshold=1, threshold_type=\"count\", min_repetitions=3\n",
    "    )  # Detects word repetition exceeding 3 repetitions\n",
    "    .build()\n",
    "    .stage\n",
    ")\n",
    "\n",
    "# Run the stage\n",
    "dataset = stage.run(force=FORCE)"
   ]
  },
  {
   "cell_type": "code",
   "execution_count": 8,
   "metadata": {},
   "outputs": [],
   "source": [
    "# Obtain the dataset containing a pandas DataFrame from the repository\n",
    "repo = container.io.dataset_repo()\n",
    "dataset = repo.get(asset_id=dataset.asset_id, dftype=DFType.PANDAS)"
   ]
  },
  {
   "cell_type": "markdown",
   "metadata": {},
   "source": [
    "### Data Quality Verification Impressions\n",
    "---"
   ]
  },
  {
   "cell_type": "code",
   "execution_count": 9,
   "metadata": {},
   "outputs": [
    {
     "data": {
      "text/html": [
       "<div>\n",
       "<style scoped>\n",
       "    .dataframe tbody tr th:only-of-type {\n",
       "        vertical-align: middle;\n",
       "    }\n",
       "\n",
       "    .dataframe tbody tr th {\n",
       "        vertical-align: top;\n",
       "    }\n",
       "\n",
       "    .dataframe thead th {\n",
       "        text-align: right;\n",
       "    }\n",
       "</style>\n",
       "<table border=\"1\" class=\"dataframe\">\n",
       "  <thead>\n",
       "    <tr style=\"text-align: right;\">\n",
       "      <th></th>\n",
       "      <th>Dimension</th>\n",
       "      <th>Score</th>\n",
       "    </tr>\n",
       "  </thead>\n",
       "  <tbody>\n",
       "    <tr>\n",
       "      <th>0</th>\n",
       "      <td>Completeness</td>\n",
       "      <td>0.939513</td>\n",
       "    </tr>\n",
       "    <tr>\n",
       "      <th>1</th>\n",
       "      <td>Validity</td>\n",
       "      <td>0.999839</td>\n",
       "    </tr>\n",
       "    <tr>\n",
       "      <th>2</th>\n",
       "      <td>Relevance</td>\n",
       "      <td>0.999946</td>\n",
       "    </tr>\n",
       "    <tr>\n",
       "      <th>3</th>\n",
       "      <td>Uniqueness</td>\n",
       "      <td>1.000000</td>\n",
       "    </tr>\n",
       "    <tr>\n",
       "      <th>4</th>\n",
       "      <td>Privacy</td>\n",
       "      <td>0.995434</td>\n",
       "    </tr>\n",
       "  </tbody>\n",
       "</table>\n",
       "</div>"
      ],
      "text/plain": [
       "      Dimension     Score\n",
       "0  Completeness  0.939513\n",
       "1      Validity  0.999839\n",
       "2     Relevance  0.999946\n",
       "3    Uniqueness  1.000000\n",
       "4       Privacy  0.995434"
      ]
     },
     "execution_count": 9,
     "metadata": {},
     "output_type": "execute_result"
    },
    {
     "data": {
      "image/png": "[encoded data removed]",
      "text/plain": [
       "<Figure size 1200x400 with 1 Axes>"
      ]
     },
     "metadata": {},
     "output_type": "display_data"
    }
   ],
   "source": [
    "# Execute the Data Quality Verification\n",
    "dqa = DQA(dataset=dataset)\n",
    "dqa.analyze_quality()"
   ]
  },
  {
   "cell_type": "markdown",
   "metadata": {},
   "source": [
    "The data quality verification reveals strong performance across key dimensions. Completeness reflects some variation in app category coverage, which will be addressed during pre-training and instance selection. Validity confirms adherence to expected formats and rules, ensuring a high signal-to-noise ratio in the text. Relevance is achieved by filtering out non-English reviews and those too short to provide meaningful information for aspect-based sentiment analysis. The dataset is free from duplication, and high privacy compliance is maintained through the removal of personally identifiable information."
   ]
  }
 ],
 "metadata": {
  "kernelspec": {
   "display_name": "appvocai",
   "language": "python",
   "name": "python3"
  },
  "language_info": {
   "codemirror_mode": {
    "name": "ipython",
    "version": 3
   },
   "file_extension": ".py",
   "mimetype": "text/x-python",
   "name": "python",
   "nbconvert_exporter": "python",
   "pygments_lexer": "ipython3",
   "version": "3.10.15"
  }
 },
 "nbformat": 4,
 "nbformat_minor": 2
}
