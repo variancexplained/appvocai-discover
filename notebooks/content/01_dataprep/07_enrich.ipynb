{
 "cells": [
  {
   "cell_type": "code",
   "execution_count": 1,
   "metadata": {},
   "outputs": [],
   "source": [
    "import warnings\n",
    "\n",
    "warnings.filterwarnings(\"ignore\")\n",
    "import os\n",
    "\n",
    "if \"jbook\" in os.getcwd():\n",
    "    os.chdir(os.path.abspath(os.path.join(\"../..\")))\n",
    "FORCE = False"
   ]
  },
  {
   "cell_type": "markdown",
   "metadata": {},
   "source": [
    "# **AppVoCAI Dataset Enrichment**\n",
    "To set the foundation for exploratory analysis, we add a few features to the dataset at the **review**, **app**, and **category** levels, providing a cross-dimensional view of the data.  \n",
    "\n",
    "## **1. Review-Level Enrichments**  \n",
    "At the most granular level, reviews are enhanced with temporal and contextual features:  \n",
    "- **Temporal Features**: By decomposing timestamps, we derive attributes such as review age and submission details (e.g., month, day, and hour). These features allow us to identify temporal trends and patterns in user feedback.  \n",
    "- **Rating, Review Age and Review Length Deviations**: Each review is compared against the average for its app's category, highlighting outliers and unique characteristics within individual reviews.  \n",
    "\n",
    "## **2. App-Level Enrichments**  \n",
    "Aggregating data at the app level provides a broader perspective on app performance:  \n",
    "- **Key Summaries**: Metrics such as the total number of reviews, median `vote_count` and `vote_sum`, `rating`, `perplexity`, and sentiment distribution offer a broader view of each app’s reception.  \n",
    "- **Deviation Statistics**: Comparing app-level metrics against their category averages sheds light on how an app deviates from its peers, offering insights into competitive positioning and unique strengths or weaknesses.  \n",
    "\n",
    "## **3. Category-Level Enrichments**  \n",
    "Zooming out further, category-level summaries offer a macro view of app trends within specific domains:  \n",
    "- **Statistical Summaries**: Similar to the app level, category-level features include the total number of reviews, median `vote_count` and `vote_sum`, `rating`, `perplexity`, `review_age`, `review_length`, and sentiment distribution.  \n",
    "- **Contextual Insights**: These summaries provide benchmarks for evaluating app performance within its category, helping to contextualize deviations and patterns observed at the app and review levels.  \n",
    "\n",
    "This cross-layered enrichment process equips the exploratory analysis with additional nuance and context of user feedback across individual reviews, apps, and broader categories, forming the backbone of the **AppVoCAI** discovery phase.  \n",
    "\n",
    "Let's do it!\n"
   ]
  },
  {
   "cell_type": "markdown",
   "metadata": {
    "tags": [
     "hide-cell"
    ]
   },
   "source": [
    "## Import Libraries"
   ]
  },
  {
   "cell_type": "code",
   "execution_count": 2,
   "metadata": {
    "tags": [
     "hide-cell"
    ]
   },
   "outputs": [],
   "source": [
    "from discover.container import DiscoverContainer\n",
    "from discover.infra.config.flow import FlowConfigReader\n",
    "from discover.core.flow import StageDef\n",
    "from discover.core.flow import PhaseDef, StageDef\n",
    "from discover.flow.stage.data_prep.enrich import DataEnrichmentStage"
   ]
  },
  {
   "cell_type": "markdown",
   "metadata": {},
   "source": [
    "## Dependency Container"
   ]
  },
  {
   "cell_type": "code",
   "execution_count": 3,
   "metadata": {
    "tags": [
     "remove-cell"
    ]
   },
   "outputs": [],
   "source": [
    "container = DiscoverContainer()\n",
    "container.init_resources()\n",
    "container.wire(\n",
    "    modules=[\n",
    "        \"discover.flow.stage.base\",\n",
    "    ],\n",
    ")"
   ]
  },
  {
   "cell_type": "markdown",
   "metadata": {},
   "source": [
    "## Review Enrichment"
   ]
  },
  {
   "cell_type": "code",
   "execution_count": 4,
   "metadata": {},
   "outputs": [
    {
     "name": "stderr",
     "output_type": "stream",
     "text": [
      "[11/26/2024 03:43:59 PM] [DEBUG] [discover.flow.stage.base.DataEnrichmentStage] [run] : Execution path: RETURN\n",
      "[11/26/2024 03:43:59 PM] [DEBUG] [Stage.run] [wrapper] : Stage: Review Enrichment Stage\n",
      "[11/26/2024 03:43:59 PM] [DEBUG] [Stage.run] [wrapper] : Stage Started: Tue, 26 Nov 2024 15:43:59\n",
      "[11/26/2024 03:43:59 PM] [DEBUG] [Stage.run] [wrapper] : Stage Completed: Tue, 26 Nov 2024 15:43:59\n",
      "[11/26/2024 03:43:59 PM] [DEBUG] [Stage.run] [wrapper] : Stage Runtime: 0.0 seconds\n",
      "[11/26/2024 03:43:59 PM] [DEBUG] [Stage.run] [wrapper] : Cached Result: True\n"
     ]
    },
    {
     "name": "stdout",
     "output_type": "stream",
     "text": [
      "\n",
      "\n",
      "# ============================================================================== #\n",
      "#                            Review Enrichment Stage                             #\n",
      "# ============================================================================== #\n",
      "\n",
      "\n",
      "\n",
      "                            Review Enrichment Stage                             \n",
      "                            =======================                             \n",
      "                           Stage Started | Tue, 26 Nov 2024 15:43:59\n",
      "                         Stage Completed | Tue, 26 Nov 2024 15:43:59\n",
      "                           Stage Runtime | 0.0 seconds\n",
      "                           Cached Result | True\n",
      "\n",
      "\n",
      "# ============================================================================ #\n",
      "\n"
     ]
    }
   ],
   "source": [
    "# Obtain the configuration\n",
    "reader = FlowConfigReader()\n",
    "stage_config = reader.get_stage_config(\n",
    "    phase=PhaseDef.DATAPREP, stage=StageDef.ENRICH_REVIEW\n",
    ")\n",
    "# Build and run the stage\n",
    "stage = DataEnrichmentStage.build(stage_config=stage_config, force=FORCE)\n",
    "asset_id = stage.run()"
   ]
  },
  {
   "cell_type": "markdown",
   "metadata": {},
   "source": [
    "## App Enrichment"
   ]
  },
  {
   "cell_type": "code",
   "execution_count": 5,
   "metadata": {},
   "outputs": [
    {
     "name": "stderr",
     "output_type": "stream",
     "text": [
      "[11/26/2024 03:43:59 PM] [DEBUG] [discover.flow.stage.base.DataEnrichmentStage] [run] : Execution path: RUN\n",
      "[11/26/2024 03:43:59 PM] [DEBUG] [discover.infra.service.spark.session.SparkSessionPool] [_create_session] : Creating a spark session.\n",
      "[11/26/2024 03:43:59 PM] [DEBUG] [discover.infra.service.spark.session.SparkSessionPool] [_create_session] : Creating an Spark session. log4j Configuration: file:/home/john/projects/appvocai-discover/log4j.properties\n"
     ]
    },
    {
     "name": "stdout",
     "output_type": "stream",
     "text": [
      "\n",
      "\n",
      "# ============================================================================== #\n",
      "#                              App Enrichment Stage                              #\n",
      "# ============================================================================== #\n",
      "\n"
     ]
    },
    {
     "name": "stderr",
     "output_type": "stream",
     "text": [
      "your 131072x1 screen size is bogus. expect trouble\n",
      "Setting default log level to \"WARN\".\n",
      "To adjust logging level use sc.setLogLevel(newLevel). For SparkR, use setLogLevel(newLevel).\n",
      "                                                                                \r"
     ]
    },
    {
     "name": "stdout",
     "output_type": "stream",
     "text": [
      "\n",
      "\n",
      "                               AppAggregationTask                               \n",
      "                               ------------------                               \n",
      "                          Start Datetime | Tue, 26 Nov 2024 15:44:11\n"
     ]
    },
    {
     "name": "stderr",
     "output_type": "stream",
     "text": [
      "[11/26/2024 03:44:12 PM] [DEBUG] [AppAggregationTask.run] [wrapper] : Task: AppAggregationTask\n",
      "[11/26/2024 03:44:12 PM] [DEBUG] [AppAggregationTask.run] [wrapper] : Started: Tue, 26 Nov 2024 15:44:11\n",
      "[11/26/2024 03:44:12 PM] [DEBUG] [AppAggregationTask.run] [wrapper] : Completed: Tue, 26 Nov 2024 15:44:12\n",
      "[11/26/2024 03:44:12 PM] [DEBUG] [AppAggregationTask.run] [wrapper] : Runtime: 0.92 seconds\n"
     ]
    },
    {
     "name": "stdout",
     "output_type": "stream",
     "text": [
      "                       Complete Datetime | Tue, 26 Nov 2024 15:44:12\n",
      "                                 Runtime | 0.92 seconds\n"
     ]
    },
    {
     "name": "stderr",
     "output_type": "stream",
     "text": [
      "[11/26/2024 03:44:21 PM] [DEBUG] [Stage.run] [wrapper] : Stage: App Enrichment Stage\n",
      "[11/26/2024 03:44:21 PM] [DEBUG] [Stage.run] [wrapper] : Stage Started: Tue, 26 Nov 2024 15:43:59\n",
      "[11/26/2024 03:44:21 PM] [DEBUG] [Stage.run] [wrapper] : Stage Completed: Tue, 26 Nov 2024 15:44:21\n",
      "[11/26/2024 03:44:21 PM] [DEBUG] [Stage.run] [wrapper] : Stage Runtime: 21.63 seconds\n"
     ]
    },
    {
     "name": "stdout",
     "output_type": "stream",
     "text": [
      "\n",
      "\n",
      "                              App Enrichment Stage                              \n",
      "                              ====================                              \n",
      "                           Stage Started | Tue, 26 Nov 2024 15:43:59\n",
      "                         Stage Completed | Tue, 26 Nov 2024 15:44:21\n",
      "                           Stage Runtime | 21.63 seconds\n",
      "\n",
      "\n",
      "# ============================================================================ #\n",
      "\n"
     ]
    }
   ],
   "source": [
    "# Obtain the configuration\n",
    "reader = FlowConfigReader()\n",
    "stage_config = reader.get_stage_config(\n",
    "    phase=PhaseDef.DATAPREP, stage=StageDef.ENRICH_APP\n",
    ")\n",
    "# Build and run the stage\n",
    "stage = DataEnrichmentStage.build(stage_config=stage_config, force=FORCE)\n",
    "asset_id = stage.run()"
   ]
  },
  {
   "cell_type": "markdown",
   "metadata": {},
   "source": [
    "## Category Enrichment"
   ]
  },
  {
   "cell_type": "code",
   "execution_count": null,
   "metadata": {},
   "outputs": [
    {
     "name": "stderr",
     "output_type": "stream",
     "text": [
      "[11/26/2024 03:48:38 PM] [DEBUG] [discover.flow.stage.base.DataEnrichmentStage] [run] : Execution path: RUN\n",
      "[11/26/2024 03:48:38 PM] [DEBUG] [discover.infra.service.spark.session.SparkSessionPool] [_create_session] : Creating a spark session.\n",
      "[11/26/2024 03:48:38 PM] [DEBUG] [discover.infra.service.spark.session.SparkSessionPool] [_create_session] : Creating an Spark session. log4j Configuration: file:/home/john/projects/appvocai-discover/log4j.properties\n"
     ]
    },
    {
     "name": "stdout",
     "output_type": "stream",
     "text": [
      "\n",
      "\n",
      "# ============================================================================== #\n",
      "#                           Category Enrichment Stage                            #\n",
      "# ============================================================================== #\n",
      "\n",
      "\n",
      "\n",
      "                            CategoryAggregationTask                             \n",
      "                            -----------------------                             \n",
      "                          Start Datetime | Tue, 26 Nov 2024 15:48:38\n"
     ]
    },
    {
     "name": "stderr",
     "output_type": "stream",
     "text": [
      "[11/26/2024 03:48:38 PM] [DEBUG] [CategoryAggregationTask.run] [wrapper] : Task: CategoryAggregationTask\n",
      "[11/26/2024 03:48:38 PM] [DEBUG] [CategoryAggregationTask.run] [wrapper] : Started: Tue, 26 Nov 2024 15:48:38\n",
      "[11/26/2024 03:48:38 PM] [DEBUG] [CategoryAggregationTask.run] [wrapper] : Completed: Tue, 26 Nov 2024 15:48:38\n",
      "[11/26/2024 03:48:38 PM] [DEBUG] [CategoryAggregationTask.run] [wrapper] : Runtime: 0.27 seconds\n"
     ]
    },
    {
     "name": "stdout",
     "output_type": "stream",
     "text": [
      "                       Complete Datetime | Tue, 26 Nov 2024 15:48:38\n",
      "                                 Runtime | 0.27 seconds\n"
     ]
    },
    {
     "name": "stderr",
     "output_type": "stream",
     "text": [
      "[11/26/2024 03:48:39 PM] [DEBUG] [discover.infra.persistence.repo.dataset.DatasetRepo] [_remove_dataset_file_by_filepath] : Removed dataset file at workspace/test/dataset/01_dataprep/appvocai_discover-01_dataprep-08_enrich-category-dataset.parquet from repository.\n",
      "[11/26/2024 03:48:39 PM] [DEBUG] [discover.infra.persistence.repo.dataset.DatasetRepo] [remove] : Removed dataset dataset-test-dataprep-enrich_category-category from the repository.\n",
      "[11/26/2024 03:48:39 PM] [DEBUG] [Stage.run] [wrapper] : Stage: Category Enrichment Stage\n",
      "[11/26/2024 03:48:39 PM] [DEBUG] [Stage.run] [wrapper] : Stage Started: Tue, 26 Nov 2024 15:48:38\n",
      "[11/26/2024 03:48:39 PM] [DEBUG] [Stage.run] [wrapper] : Stage Completed: Tue, 26 Nov 2024 15:48:39\n",
      "[11/26/2024 03:48:39 PM] [DEBUG] [Stage.run] [wrapper] : Stage Runtime: 1.75 seconds\n",
      "[11/26/2024 03:48:39 PM] [DEBUG] [Stage.run] [wrapper] : Cached Result: True\n"
     ]
    },
    {
     "name": "stdout",
     "output_type": "stream",
     "text": [
      "\n",
      "\n",
      "                           Category Enrichment Stage                            \n",
      "                           =========================                            \n",
      "                           Stage Started | Tue, 26 Nov 2024 15:48:38\n",
      "                         Stage Completed | Tue, 26 Nov 2024 15:48:39\n",
      "                           Stage Runtime | 1.75 seconds\n",
      "                           Cached Result | True\n",
      "\n",
      "\n",
      "# ============================================================================ #\n",
      "\n"
     ]
    }
   ],
   "source": [
    "# Obtain the configuration\n",
    "reader = FlowConfigReader()\n",
    "stage_config = reader.get_stage_config(\n",
    "    phase=PhaseDef.DATAPREP, stage=StageDef.ENRICH_CATEGORY\n",
    ")\n",
    "# Build and run the stage\n",
    "stage = DataEnrichmentStage.build(stage_config=stage_config, force=FORCE)\n",
    "asset_id = stage.run()"
   ]
  },
  {
   "cell_type": "markdown",
   "metadata": {},
   "source": [
    "---"
   ]
  },
  {
   "cell_type": "markdown",
   "metadata": {},
   "source": [
    "## Enrichment Stage Wrap-Up\n",
    "The enrichment stage enhanced the dataset with features, including review metadata (such as length, age and temporal data), sentiment analysis, text quality scores, and comprehensive app- and category-level aggregations. In the upcoming EDA phase, we will leverage these enriched attributes to uncover patterns, relationships, and trends that illuminate user behavior and app performance."
   ]
  }
 ],
 "metadata": {
  "kernelspec": {
   "display_name": "appvocai",
   "language": "python",
   "name": "python3"
  },
  "language_info": {
   "codemirror_mode": {
    "name": "ipython",
    "version": 3
   },
   "file_extension": ".py",
   "mimetype": "text/x-python",
   "name": "python",
   "nbconvert_exporter": "python",
   "pygments_lexer": "ipython3",
   "version": "3.10.15"
  }
 },
 "nbformat": 4,
 "nbformat_minor": 2
}
