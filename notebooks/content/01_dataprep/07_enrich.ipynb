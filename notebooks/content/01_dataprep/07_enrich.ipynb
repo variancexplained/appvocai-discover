{
 "cells": [
  {
   "cell_type": "code",
   "execution_count": null,
   "metadata": {},
   "outputs": [],
   "source": [
    "import warnings\n",
    "\n",
    "warnings.filterwarnings(\"ignore\")\n",
    "import os\n",
    "\n",
    "if \"jbook\" in os.getcwd():\n",
    "    os.chdir(os.path.abspath(os.path.join(\"../..\")))\n",
    "FORCE = True"
   ]
  },
  {
   "cell_type": "markdown",
   "metadata": {},
   "source": [
    "# **AppVoCAI Dataset Enrichment**\n",
    "To set the foundation for exploratory analysis, we add a few features to the dataset at the **review**, **app**, and **category** levels, providing a cross-dimensional view of the data.  \n",
    "\n",
    "## **1. Review-Level Enrichments**  \n",
    "At the most granular level, reviews are enhanced with quality, temporal and contextual features:  \n",
    "- **Review Features**: Update review length following the data cleaning stage.\n",
    "- **Quality Features**: Each review is given a text quality score based on its syntactic and lexical richness, and diversity.\n",
    "- **Temporal Features**: By decomposing timestamps, we derive attributes such as review age and submission details (e.g., month, day, and hour). These features allow us to identify temporal trends and patterns in user feedback.  \n",
    "- **Rating, Review Age and Review Length Deviations**: Each review is compared against the average for its app's category, highlighting outliers and unique characteristics within individual reviews.  \n",
    "\n",
    "## **2. App-Level Enrichments**  \n",
    "Aggregating data at the app level provides a broader perspective on app performance:  \n",
    "- **Key Summaries**: Metrics such as the total number of reviews, median `vote_count` and `vote_sum`, `rating`, `perplexity`, and sentiment distribution offer a broader view of each app’s reception.  \n",
    "- **Deviation Statistics**: Comparing app-level metrics against their category averages sheds light on how an app deviates from its peers, offering insights into competitive positioning and unique strengths or weaknesses.  \n",
    "\n",
    "## **3. Category-Level Enrichments**  \n",
    "Zooming out further, category-level summaries offer a macro view of app trends within specific domains:  \n",
    "- **Statistical Summaries**: Similar to the app level, category-level features include the total number of reviews, median `vote_count` and `vote_sum`, `rating`, `perplexity`, `review_age`, `review_length`, and sentiment distribution.  \n",
    "- **Contextual Insights**: These summaries provide benchmarks for evaluating app performance within its category, helping to contextualize deviations and patterns observed at the app and review levels.  \n",
    "\n",
    "This cross-layered enrichment process equips the exploratory analysis with additional nuance and context of user feedback across individual reviews, apps, and broader categories, forming the backbone of the **AppVoCAI** discovery phase.  \n",
    "\n",
    "Let's do it!\n"
   ]
  },
  {
   "cell_type": "markdown",
   "metadata": {
    "tags": [
     "hide-cell"
    ]
   },
   "source": [
    "## Import Libraries"
   ]
  },
  {
   "cell_type": "code",
   "execution_count": 2,
   "metadata": {
    "tags": [
     "hide-cell"
    ]
   },
   "outputs": [],
   "source": [
    "from discover.container import DiscoverContainer\n",
    "from discover.infra.config.flow import FlowConfigReader\n",
    "from discover.core.flow import StageDef\n",
    "from discover.core.flow import PhaseDef, StageDef\n",
    "from discover.flow.stage.data_prep.enrich import DataEnrichmentStage"
   ]
  },
  {
   "cell_type": "markdown",
   "metadata": {},
   "source": [
    "## Dependency Container"
   ]
  },
  {
   "cell_type": "code",
   "execution_count": 3,
   "metadata": {
    "tags": [
     "remove-cell"
    ]
   },
   "outputs": [],
   "source": [
    "container = DiscoverContainer()\n",
    "container.init_resources()\n",
    "container.wire(\n",
    "    modules=[\n",
    "        \"discover.flow.stage.base\",\n",
    "    ],\n",
    ")"
   ]
  },
  {
   "cell_type": "markdown",
   "metadata": {},
   "source": [
    "## Review Enrichment\n",
    "### Review Enrichment Pipeline"
   ]
  },
  {
   "cell_type": "code",
   "execution_count": 4,
   "metadata": {},
   "outputs": [
    {
     "name": "stderr",
     "output_type": "stream",
     "text": [
      "[12/14/2024 11:35:00 PM] [DEBUG] [matplotlib] [wrapper] : matplotlib data path: /home/john/miniconda3/envs/appvocai/lib/python3.10/site-packages/matplotlib/mpl-data\n",
      "[12/14/2024 11:35:00 PM] [DEBUG] [matplotlib] [wrapper] : CONFIGDIR=/home/john/.config/matplotlib\n",
      "[12/14/2024 11:35:00 PM] [DEBUG] [matplotlib] [<module>] : interactive is False\n",
      "[12/14/2024 11:35:00 PM] [DEBUG] [matplotlib] [<module>] : platform is linux\n",
      "[12/14/2024 11:35:00 PM] [DEBUG] [matplotlib] [wrapper] : CACHEDIR=/home/john/.cache/matplotlib\n",
      "[12/14/2024 11:35:00 PM] [DEBUG] [matplotlib.font_manager] [_load_fontmanager] : Using fontManager instance from /home/john/.cache/matplotlib/fontlist-v330.json\n",
      "[12/14/2024 11:35:01 PM] [DEBUG] [discover.flow.stage.base.DataEnrichmentStage] [run] : Execution path: RUN\n",
      "[12/14/2024 11:35:01 PM] [DEBUG] [discover.infra.service.spark.session.SparkSessionPool] [_create_nlp_session] : Creating a spark nlp session.\n",
      "[12/14/2024 11:35:01 PM] [DEBUG] [discover.infra.service.spark.session.SparkSessionPool] [_create_nlp_session] : Creating an SparkNLP session. log4j Configuration: file:/home/john/projects/appvocai-discover/log4j.properties\n"
     ]
    },
    {
     "name": "stdout",
     "output_type": "stream",
     "text": [
      "\n",
      "\n",
      "# ============================================================================== #\n",
      "#                            Review Enrichment Stage                             #\n",
      "# ============================================================================== #\n",
      "\n"
     ]
    },
    {
     "name": "stderr",
     "output_type": "stream",
     "text": [
      "your 131072x1 screen size is bogus. expect trouble\n"
     ]
    },
    {
     "name": "stdout",
     "output_type": "stream",
     "text": [
      ":: loading settings :: url = jar:file:/home/john/miniconda3/envs/appvocai/lib/python3.10/site-packages/pyspark/jars/ivy-2.5.1.jar!/org/apache/ivy/core/settings/ivysettings.xml\n"
     ]
    },
    {
     "name": "stderr",
     "output_type": "stream",
     "text": [
      "Ivy Default Cache set to: /home/john/.ivy2/cache\n",
      "The jars for the packages stored in: /home/john/.ivy2/jars\n",
      "com.johnsnowlabs.nlp#spark-nlp_2.12 added as a dependency\n",
      ":: resolving dependencies :: org.apache.spark#spark-submit-parent-a0300612-d31b-4e6f-b7e2-2992a3292e8e;1.0\n",
      "\tconfs: [default]\n",
      "\tfound com.johnsnowlabs.nlp#spark-nlp_2.12;5.3.3 in central\n",
      "\tfound com.typesafe#config;1.4.2 in central\n",
      "\tfound org.rocksdb#rocksdbjni;6.29.5 in central\n",
      "\tfound com.amazonaws#aws-java-sdk-s3;1.12.500 in central\n",
      "\tfound com.amazonaws#aws-java-sdk-kms;1.12.500 in central\n",
      "\tfound com.amazonaws#aws-java-sdk-core;1.12.500 in central\n",
      "\tfound commons-logging#commons-logging;1.1.3 in central\n",
      "\tfound commons-codec#commons-codec;1.15 in central\n",
      "\tfound org.apache.httpcomponents#httpclient;4.5.13 in central\n",
      "\tfound org.apache.httpcomponents#httpcore;4.4.13 in central\n",
      "\tfound software.amazon.ion#ion-java;1.0.2 in central\n",
      "\tfound joda-time#joda-time;2.8.1 in central\n",
      "\tfound com.amazonaws#jmespath-java;1.12.500 in central\n",
      "\tfound com.github.universal-automata#liblevenshtein;3.0.0 in central\n",
      "\tfound com.google.protobuf#protobuf-java-util;3.0.0-beta-3 in central\n",
      "\tfound com.google.protobuf#protobuf-java;3.0.0-beta-3 in central\n",
      "\tfound com.google.code.gson#gson;2.3 in central\n",
      "\tfound it.unimi.dsi#fastutil;7.0.12 in central\n",
      "\tfound org.projectlombok#lombok;1.16.8 in central\n",
      "\tfound com.google.cloud#google-cloud-storage;2.20.1 in central\n",
      "\tfound com.google.guava#guava;31.1-jre in central\n",
      "\tfound com.google.guava#failureaccess;1.0.1 in central\n",
      "\tfound com.google.guava#listenablefuture;9999.0-empty-to-avoid-conflict-with-guava in central\n",
      "\tfound com.google.errorprone#error_prone_annotations;2.18.0 in central\n",
      "\tfound com.google.j2objc#j2objc-annotations;1.3 in central\n",
      "\tfound com.google.http-client#google-http-client;1.43.0 in central\n",
      "\tfound io.opencensus#opencensus-contrib-http-util;0.31.1 in central\n",
      "\tfound com.google.http-client#google-http-client-jackson2;1.43.0 in central\n",
      "\tfound com.google.http-client#google-http-client-gson;1.43.0 in central\n",
      "\tfound com.google.api-client#google-api-client;2.2.0 in central\n",
      "\tfound com.google.oauth-client#google-oauth-client;1.34.1 in central\n",
      "\tfound com.google.http-client#google-http-client-apache-v2;1.43.0 in central\n",
      "\tfound com.google.apis#google-api-services-storage;v1-rev20220705-2.0.0 in central\n",
      "\tfound com.google.code.gson#gson;2.10.1 in central\n",
      "\tfound com.google.cloud#google-cloud-core;2.12.0 in central\n",
      "\tfound io.grpc#grpc-context;1.53.0 in central\n",
      "\tfound com.google.auto.value#auto-value-annotations;1.10.1 in central\n",
      "\tfound com.google.auto.value#auto-value;1.10.1 in central\n",
      "\tfound javax.annotation#javax.annotation-api;1.3.2 in central\n",
      "\tfound com.google.cloud#google-cloud-core-http;2.12.0 in central\n",
      "\tfound com.google.http-client#google-http-client-appengine;1.43.0 in central\n",
      "\tfound com.google.api#gax-httpjson;0.108.2 in central\n",
      "\tfound com.google.cloud#google-cloud-core-grpc;2.12.0 in central\n",
      "\tfound io.grpc#grpc-alts;1.53.0 in central\n",
      "\tfound io.grpc#grpc-grpclb;1.53.0 in central\n",
      "\tfound org.conscrypt#conscrypt-openjdk-uber;2.5.2 in central\n",
      "\tfound io.grpc#grpc-auth;1.53.0 in central\n",
      "\tfound io.grpc#grpc-protobuf;1.53.0 in central\n",
      "\tfound io.grpc#grpc-protobuf-lite;1.53.0 in central\n",
      "\tfound io.grpc#grpc-core;1.53.0 in central\n",
      "\tfound com.google.api#gax;2.23.2 in central\n",
      "\tfound com.google.api#gax-grpc;2.23.2 in central\n",
      "\tfound com.google.auth#google-auth-library-credentials;1.16.0 in central\n",
      "\tfound com.google.auth#google-auth-library-oauth2-http;1.16.0 in central\n",
      "\tfound com.google.api#api-common;2.6.2 in central\n",
      "\tfound io.opencensus#opencensus-api;0.31.1 in central\n",
      "\tfound com.google.api.grpc#proto-google-iam-v1;1.9.2 in central\n",
      "\tfound com.google.protobuf#protobuf-java;3.21.12 in central\n",
      "\tfound com.google.protobuf#protobuf-java-util;3.21.12 in central\n",
      "\tfound com.google.api.grpc#proto-google-common-protos;2.14.2 in central\n",
      "\tfound org.threeten#threetenbp;1.6.5 in central\n",
      "\tfound com.google.api.grpc#proto-google-cloud-storage-v2;2.20.1-alpha in central\n",
      "\tfound com.google.api.grpc#grpc-google-cloud-storage-v2;2.20.1-alpha in central\n",
      "\tfound com.google.api.grpc#gapic-google-cloud-storage-v2;2.20.1-alpha in central\n",
      "\tfound com.google.code.findbugs#jsr305;3.0.2 in central\n",
      "\tfound io.grpc#grpc-api;1.53.0 in central\n",
      "\tfound io.grpc#grpc-stub;1.53.0 in central\n",
      "\tfound org.checkerframework#checker-qual;3.31.0 in central\n",
      "\tfound io.perfmark#perfmark-api;0.26.0 in central\n",
      "\tfound com.google.android#annotations;4.1.1.4 in central\n",
      "\tfound org.codehaus.mojo#animal-sniffer-annotations;1.22 in central\n",
      "\tfound io.opencensus#opencensus-proto;0.2.0 in central\n",
      "\tfound io.grpc#grpc-services;1.53.0 in central\n",
      "\tfound com.google.re2j#re2j;1.6 in central\n",
      "\tfound io.grpc#grpc-netty-shaded;1.53.0 in central\n",
      "\tfound io.grpc#grpc-googleapis;1.53.0 in central\n",
      "\tfound io.grpc#grpc-xds;1.53.0 in central\n",
      "\tfound com.navigamez#greex;1.0 in central\n",
      "\tfound dk.brics.automaton#automaton;1.11-8 in central\n",
      "\tfound com.johnsnowlabs.nlp#tensorflow-cpu_2.12;0.4.4 in central\n",
      "\tfound com.microsoft.onnxruntime#onnxruntime;1.17.0 in central\n",
      ":: resolution report :: resolve 1859ms :: artifacts dl 68ms\n",
      "\t:: modules in use:\n",
      "\tcom.amazonaws#aws-java-sdk-core;1.12.500 from central in [default]\n",
      "\tcom.amazonaws#aws-java-sdk-kms;1.12.500 from central in [default]\n",
      "\tcom.amazonaws#aws-java-sdk-s3;1.12.500 from central in [default]\n",
      "\tcom.amazonaws#jmespath-java;1.12.500 from central in [default]\n",
      "\tcom.github.universal-automata#liblevenshtein;3.0.0 from central in [default]\n",
      "\tcom.google.android#annotations;4.1.1.4 from central in [default]\n",
      "\tcom.google.api#api-common;2.6.2 from central in [default]\n",
      "\tcom.google.api#gax;2.23.2 from central in [default]\n",
      "\tcom.google.api#gax-grpc;2.23.2 from central in [default]\n",
      "\tcom.google.api#gax-httpjson;0.108.2 from central in [default]\n",
      "\tcom.google.api-client#google-api-client;2.2.0 from central in [default]\n",
      "\tcom.google.api.grpc#gapic-google-cloud-storage-v2;2.20.1-alpha from central in [default]\n",
      "\tcom.google.api.grpc#grpc-google-cloud-storage-v2;2.20.1-alpha from central in [default]\n",
      "\tcom.google.api.grpc#proto-google-cloud-storage-v2;2.20.1-alpha from central in [default]\n",
      "\tcom.google.api.grpc#proto-google-common-protos;2.14.2 from central in [default]\n",
      "\tcom.google.api.grpc#proto-google-iam-v1;1.9.2 from central in [default]\n",
      "\tcom.google.apis#google-api-services-storage;v1-rev20220705-2.0.0 from central in [default]\n",
      "\tcom.google.auth#google-auth-library-credentials;1.16.0 from central in [default]\n",
      "\tcom.google.auth#google-auth-library-oauth2-http;1.16.0 from central in [default]\n",
      "\tcom.google.auto.value#auto-value;1.10.1 from central in [default]\n",
      "\tcom.google.auto.value#auto-value-annotations;1.10.1 from central in [default]\n",
      "\tcom.google.cloud#google-cloud-core;2.12.0 from central in [default]\n",
      "\tcom.google.cloud#google-cloud-core-grpc;2.12.0 from central in [default]\n",
      "\tcom.google.cloud#google-cloud-core-http;2.12.0 from central in [default]\n",
      "\tcom.google.cloud#google-cloud-storage;2.20.1 from central in [default]\n",
      "\tcom.google.code.findbugs#jsr305;3.0.2 from central in [default]\n",
      "\tcom.google.code.gson#gson;2.10.1 from central in [default]\n",
      "\tcom.google.errorprone#error_prone_annotations;2.18.0 from central in [default]\n",
      "\tcom.google.guava#failureaccess;1.0.1 from central in [default]\n",
      "\tcom.google.guava#guava;31.1-jre from central in [default]\n",
      "\tcom.google.guava#listenablefuture;9999.0-empty-to-avoid-conflict-with-guava from central in [default]\n",
      "\tcom.google.http-client#google-http-client;1.43.0 from central in [default]\n",
      "\tcom.google.http-client#google-http-client-apache-v2;1.43.0 from central in [default]\n",
      "\tcom.google.http-client#google-http-client-appengine;1.43.0 from central in [default]\n",
      "\tcom.google.http-client#google-http-client-gson;1.43.0 from central in [default]\n",
      "\tcom.google.http-client#google-http-client-jackson2;1.43.0 from central in [default]\n",
      "\tcom.google.j2objc#j2objc-annotations;1.3 from central in [default]\n",
      "\tcom.google.oauth-client#google-oauth-client;1.34.1 from central in [default]\n",
      "\tcom.google.protobuf#protobuf-java;3.21.12 from central in [default]\n",
      "\tcom.google.protobuf#protobuf-java-util;3.21.12 from central in [default]\n",
      "\tcom.google.re2j#re2j;1.6 from central in [default]\n",
      "\tcom.johnsnowlabs.nlp#spark-nlp_2.12;5.3.3 from central in [default]\n",
      "\tcom.johnsnowlabs.nlp#tensorflow-cpu_2.12;0.4.4 from central in [default]\n",
      "\tcom.microsoft.onnxruntime#onnxruntime;1.17.0 from central in [default]\n",
      "\tcom.navigamez#greex;1.0 from central in [default]\n",
      "\tcom.typesafe#config;1.4.2 from central in [default]\n",
      "\tcommons-codec#commons-codec;1.15 from central in [default]\n",
      "\tcommons-logging#commons-logging;1.1.3 from central in [default]\n",
      "\tdk.brics.automaton#automaton;1.11-8 from central in [default]\n",
      "\tio.grpc#grpc-alts;1.53.0 from central in [default]\n",
      "\tio.grpc#grpc-api;1.53.0 from central in [default]\n",
      "\tio.grpc#grpc-auth;1.53.0 from central in [default]\n",
      "\tio.grpc#grpc-context;1.53.0 from central in [default]\n",
      "\tio.grpc#grpc-core;1.53.0 from central in [default]\n",
      "\tio.grpc#grpc-googleapis;1.53.0 from central in [default]\n",
      "\tio.grpc#grpc-grpclb;1.53.0 from central in [default]\n",
      "\tio.grpc#grpc-netty-shaded;1.53.0 from central in [default]\n",
      "\tio.grpc#grpc-protobuf;1.53.0 from central in [default]\n",
      "\tio.grpc#grpc-protobuf-lite;1.53.0 from central in [default]\n",
      "\tio.grpc#grpc-services;1.53.0 from central in [default]\n",
      "\tio.grpc#grpc-stub;1.53.0 from central in [default]\n",
      "\tio.grpc#grpc-xds;1.53.0 from central in [default]\n",
      "\tio.opencensus#opencensus-api;0.31.1 from central in [default]\n",
      "\tio.opencensus#opencensus-contrib-http-util;0.31.1 from central in [default]\n",
      "\tio.opencensus#opencensus-proto;0.2.0 from central in [default]\n",
      "\tio.perfmark#perfmark-api;0.26.0 from central in [default]\n",
      "\tit.unimi.dsi#fastutil;7.0.12 from central in [default]\n",
      "\tjavax.annotation#javax.annotation-api;1.3.2 from central in [default]\n",
      "\tjoda-time#joda-time;2.8.1 from central in [default]\n",
      "\torg.apache.httpcomponents#httpclient;4.5.13 from central in [default]\n",
      "\torg.apache.httpcomponents#httpcore;4.4.13 from central in [default]\n",
      "\torg.checkerframework#checker-qual;3.31.0 from central in [default]\n",
      "\torg.codehaus.mojo#animal-sniffer-annotations;1.22 from central in [default]\n",
      "\torg.conscrypt#conscrypt-openjdk-uber;2.5.2 from central in [default]\n",
      "\torg.projectlombok#lombok;1.16.8 from central in [default]\n",
      "\torg.rocksdb#rocksdbjni;6.29.5 from central in [default]\n",
      "\torg.threeten#threetenbp;1.6.5 from central in [default]\n",
      "\tsoftware.amazon.ion#ion-java;1.0.2 from central in [default]\n",
      "\t:: evicted modules:\n",
      "\tcommons-logging#commons-logging;1.2 by [commons-logging#commons-logging;1.1.3] in [default]\n",
      "\tcommons-codec#commons-codec;1.11 by [commons-codec#commons-codec;1.15] in [default]\n",
      "\tcom.google.protobuf#protobuf-java-util;3.0.0-beta-3 by [com.google.protobuf#protobuf-java-util;3.21.12] in [default]\n",
      "\tcom.google.protobuf#protobuf-java;3.0.0-beta-3 by [com.google.protobuf#protobuf-java;3.21.12] in [default]\n",
      "\tcom.google.code.gson#gson;2.3 by [com.google.code.gson#gson;2.10.1] in [default]\n",
      "\t---------------------------------------------------------------------\n",
      "\t|                  |            modules            ||   artifacts   |\n",
      "\t|       conf       | number| search|dwnlded|evicted|| number|dwnlded|\n",
      "\t---------------------------------------------------------------------\n",
      "\t|      default     |   83  |   0   |   0   |   5   ||   78  |   0   |\n",
      "\t---------------------------------------------------------------------\n",
      ":: retrieving :: org.apache.spark#spark-submit-parent-a0300612-d31b-4e6f-b7e2-2992a3292e8e\n",
      "\tconfs: [default]\n",
      "\t0 artifacts copied, 78 already retrieved (0kB/36ms)\n",
      "Setting default log level to \"WARN\".\n",
      "To adjust logging level use sc.setLogLevel(newLevel). For SparkR, use setLogLevel(newLevel).\n",
      "                                                                                \r"
     ]
    },
    {
     "name": "stdout",
     "output_type": "stream",
     "text": [
      "\n",
      "\n",
      "                                    NLPTask                                     \n",
      "                                    -------                                     \n",
      "                          Start Datetime | Sat, 14 Dec 2024 23:35:24\n",
      "pos_ud_ewt download started this may take some time.\n",
      "Approximate size to download 2.2 MB\n",
      "[ | ]pos_ud_ewt download started this may take some time.\n",
      "Approximate size to download 2.2 MB\n",
      "Download done! Loading the resource.\n",
      "[ / ]"
     ]
    },
    {
     "name": "stderr",
     "output_type": "stream",
     "text": [
      "                                                                                \r"
     ]
    },
    {
     "name": "stdout",
     "output_type": "stream",
     "text": [
      "[OK!]\n"
     ]
    },
    {
     "name": "stderr",
     "output_type": "stream",
     "text": [
      "[12/14/2024 11:35:45 PM] [DEBUG] [NLPTask.run] [wrapper] : Task: NLPTask\n",
      "[12/14/2024 11:35:45 PM] [DEBUG] [NLPTask.run] [wrapper] : Started: Sat, 14 Dec 2024 23:35:24\n",
      "[12/14/2024 11:35:45 PM] [DEBUG] [NLPTask.run] [wrapper] : Completed: Sat, 14 Dec 2024 23:35:45\n",
      "[12/14/2024 11:35:45 PM] [DEBUG] [NLPTask.run] [wrapper] : Runtime: 20.76 seconds\n"
     ]
    },
    {
     "name": "stdout",
     "output_type": "stream",
     "text": [
      "                       Complete Datetime | Sat, 14 Dec 2024 23:35:45\n",
      "                                 Runtime | 20.76 seconds\n",
      "\n",
      "\n",
      "                             ComputeTextQualityTask                             \n",
      "                             ----------------------                             \n",
      "                          Start Datetime | Sat, 14 Dec 2024 23:35:45\n"
     ]
    },
    {
     "name": "stderr",
     "output_type": "stream",
     "text": [
      "[12/14/2024 11:35:45 PM] [DEBUG] [ComputeTextQualityTask.run] [wrapper] : Task: ComputeTextQualityTask\n",
      "[12/14/2024 11:35:45 PM] [DEBUG] [ComputeTextQualityTask.run] [wrapper] : Started: Sat, 14 Dec 2024 23:35:45\n",
      "[12/14/2024 11:35:45 PM] [DEBUG] [ComputeTextQualityTask.run] [wrapper] : Completed: Sat, 14 Dec 2024 23:35:45\n",
      "[12/14/2024 11:35:45 PM] [DEBUG] [ComputeTextQualityTask.run] [wrapper] : Runtime: 0.66 seconds\n",
      "[12/14/2024 11:35:46 PM] [DEBUG] [ComputeReviewLengthPS.run] [wrapper] : Task: ComputeReviewLengthPS\n",
      "[12/14/2024 11:35:46 PM] [DEBUG] [ComputeReviewLengthPS.run] [wrapper] : Started: Sat, 14 Dec 2024 23:35:45\n",
      "[12/14/2024 11:35:46 PM] [DEBUG] [ComputeReviewLengthPS.run] [wrapper] : Completed: Sat, 14 Dec 2024 23:35:46\n",
      "[12/14/2024 11:35:46 PM] [DEBUG] [ComputeReviewLengthPS.run] [wrapper] : Runtime: 0.09 seconds\n"
     ]
    },
    {
     "name": "stdout",
     "output_type": "stream",
     "text": [
      "                       Complete Datetime | Sat, 14 Dec 2024 23:35:45\n",
      "                                 Runtime | 0.66 seconds\n",
      "\n",
      "\n",
      "                             ComputeReviewLengthPS                              \n",
      "                             ---------------------                              \n",
      "                          Start Datetime | Sat, 14 Dec 2024 23:35:45\n",
      "                       Complete Datetime | Sat, 14 Dec 2024 23:35:46\n",
      "                                 Runtime | 0.09 seconds\n",
      "\n",
      "\n",
      "                              ComputeReviewAgeTask                              \n",
      "                              --------------------                              \n",
      "                          Start Datetime | Sat, 14 Dec 2024 23:35:46\n"
     ]
    },
    {
     "name": "stderr",
     "output_type": "stream",
     "text": [
      "[12/14/2024 11:35:49 PM] [DEBUG] [ComputeReviewAgeTask.run] [wrapper] : Task: ComputeReviewAgeTask\n",
      "[12/14/2024 11:35:49 PM] [DEBUG] [ComputeReviewAgeTask.run] [wrapper] : Started: Sat, 14 Dec 2024 23:35:46\n",
      "[12/14/2024 11:35:49 PM] [DEBUG] [ComputeReviewAgeTask.run] [wrapper] : Completed: Sat, 14 Dec 2024 23:35:49\n",
      "[12/14/2024 11:35:49 PM] [DEBUG] [ComputeReviewAgeTask.run] [wrapper] : Runtime: 3.54 seconds\n",
      "[12/14/2024 11:35:49 PM] [DEBUG] [ComputeReviewMonthTask.run] [wrapper] : Task: ComputeReviewMonthTask\n",
      "[12/14/2024 11:35:49 PM] [DEBUG] [ComputeReviewMonthTask.run] [wrapper] : Started: Sat, 14 Dec 2024 23:35:49\n",
      "[12/14/2024 11:35:49 PM] [DEBUG] [ComputeReviewMonthTask.run] [wrapper] : Completed: Sat, 14 Dec 2024 23:35:49\n",
      "[12/14/2024 11:35:49 PM] [DEBUG] [ComputeReviewMonthTask.run] [wrapper] : Runtime: 0.04 seconds\n",
      "[12/14/2024 11:35:49 PM] [DEBUG] [ComputeReviewDayofWeekTask.run] [wrapper] : Task: ComputeReviewDayofWeekTask\n",
      "[12/14/2024 11:35:49 PM] [DEBUG] [ComputeReviewDayofWeekTask.run] [wrapper] : Started: Sat, 14 Dec 2024 23:35:49\n",
      "[12/14/2024 11:35:49 PM] [DEBUG] [ComputeReviewDayofWeekTask.run] [wrapper] : Completed: Sat, 14 Dec 2024 23:35:49\n",
      "[12/14/2024 11:35:49 PM] [DEBUG] [ComputeReviewDayofWeekTask.run] [wrapper] : Runtime: 0.04 seconds\n",
      "[12/14/2024 11:35:49 PM] [DEBUG] [ComputeReviewHourTask.run] [wrapper] : Task: ComputeReviewHourTask\n",
      "[12/14/2024 11:35:49 PM] [DEBUG] [ComputeReviewHourTask.run] [wrapper] : Started: Sat, 14 Dec 2024 23:35:49\n",
      "[12/14/2024 11:35:49 PM] [DEBUG] [ComputeReviewHourTask.run] [wrapper] : Completed: Sat, 14 Dec 2024 23:35:49\n",
      "[12/14/2024 11:35:49 PM] [DEBUG] [ComputeReviewHourTask.run] [wrapper] : Runtime: 0.04 seconds\n"
     ]
    },
    {
     "name": "stdout",
     "output_type": "stream",
     "text": [
      "                       Complete Datetime | Sat, 14 Dec 2024 23:35:49\n",
      "                                 Runtime | 3.54 seconds\n",
      "\n",
      "\n",
      "                             ComputeReviewMonthTask                             \n",
      "                             ----------------------                             \n",
      "                          Start Datetime | Sat, 14 Dec 2024 23:35:49\n",
      "                       Complete Datetime | Sat, 14 Dec 2024 23:35:49\n",
      "                                 Runtime | 0.04 seconds\n",
      "\n",
      "\n",
      "                           ComputeReviewDayofWeekTask                           \n",
      "                           --------------------------                           \n",
      "                          Start Datetime | Sat, 14 Dec 2024 23:35:49\n",
      "                       Complete Datetime | Sat, 14 Dec 2024 23:35:49\n",
      "                                 Runtime | 0.04 seconds\n",
      "\n",
      "\n",
      "                             ComputeReviewHourTask                              \n",
      "                             ---------------------                              \n",
      "                          Start Datetime | Sat, 14 Dec 2024 23:35:49\n",
      "                       Complete Datetime | Sat, 14 Dec 2024 23:35:49\n",
      "                                 Runtime | 0.04 seconds\n",
      "\n",
      "\n",
      "                          ComputePercentDeviationTask                           \n",
      "                          ---------------------------                           \n",
      "                          Start Datetime | Sat, 14 Dec 2024 23:35:49\n"
     ]
    },
    {
     "name": "stderr",
     "output_type": "stream",
     "text": [
      "[12/14/2024 11:35:50 PM] [DEBUG] [ComputePercentDeviationTask.run] [wrapper] : Task: ComputePercentDeviationTask\n",
      "[12/14/2024 11:35:50 PM] [DEBUG] [ComputePercentDeviationTask.run] [wrapper] : Started: Sat, 14 Dec 2024 23:35:49\n",
      "[12/14/2024 11:35:50 PM] [DEBUG] [ComputePercentDeviationTask.run] [wrapper] : Completed: Sat, 14 Dec 2024 23:35:50\n",
      "[12/14/2024 11:35:50 PM] [DEBUG] [ComputePercentDeviationTask.run] [wrapper] : Runtime: 0.29 seconds\n"
     ]
    },
    {
     "name": "stdout",
     "output_type": "stream",
     "text": [
      "                       Complete Datetime | Sat, 14 Dec 2024 23:35:50\n",
      "                                 Runtime | 0.29 seconds\n",
      "\n",
      "\n",
      "                          ComputePercentDeviationTask                           \n",
      "                          ---------------------------                           \n",
      "                          Start Datetime | Sat, 14 Dec 2024 23:35:50\n"
     ]
    },
    {
     "name": "stderr",
     "output_type": "stream",
     "text": [
      "[12/14/2024 11:35:50 PM] [DEBUG] [ComputePercentDeviationTask.run] [wrapper] : Task: ComputePercentDeviationTask\n",
      "[12/14/2024 11:35:50 PM] [DEBUG] [ComputePercentDeviationTask.run] [wrapper] : Started: Sat, 14 Dec 2024 23:35:50\n",
      "[12/14/2024 11:35:50 PM] [DEBUG] [ComputePercentDeviationTask.run] [wrapper] : Completed: Sat, 14 Dec 2024 23:35:50\n",
      "[12/14/2024 11:35:50 PM] [DEBUG] [ComputePercentDeviationTask.run] [wrapper] : Runtime: 0.41 seconds\n"
     ]
    },
    {
     "name": "stdout",
     "output_type": "stream",
     "text": [
      "                       Complete Datetime | Sat, 14 Dec 2024 23:35:50\n",
      "                                 Runtime | 0.41 seconds\n",
      "\n",
      "\n",
      "                          ComputePercentDeviationTask                           \n",
      "                          ---------------------------                           \n",
      "                          Start Datetime | Sat, 14 Dec 2024 23:35:50\n"
     ]
    },
    {
     "name": "stderr",
     "output_type": "stream",
     "text": [
      "[12/14/2024 11:35:51 PM] [DEBUG] [ComputePercentDeviationTask.run] [wrapper] : Task: ComputePercentDeviationTask\n",
      "[12/14/2024 11:35:51 PM] [DEBUG] [ComputePercentDeviationTask.run] [wrapper] : Started: Sat, 14 Dec 2024 23:35:50\n",
      "[12/14/2024 11:35:51 PM] [DEBUG] [ComputePercentDeviationTask.run] [wrapper] : Completed: Sat, 14 Dec 2024 23:35:51\n",
      "[12/14/2024 11:35:51 PM] [DEBUG] [ComputePercentDeviationTask.run] [wrapper] : Runtime: 0.69 seconds\n"
     ]
    },
    {
     "name": "stdout",
     "output_type": "stream",
     "text": [
      "                       Complete Datetime | Sat, 14 Dec 2024 23:35:51\n",
      "                                 Runtime | 0.69 seconds\n"
     ]
    },
    {
     "name": "stderr",
     "output_type": "stream",
     "text": [
      "[12/14/2024 11:35:52 PM] [DEBUG] [discover.infra.persistence.repo.dataset.DatasetRepo] [_remove_dataset_file_by_filepath] : Removed dataset file at workspace/test/dataset/01_dataprep/appvocai_discover-01_dataprep-06_enrich-review-dataset.parquet from repository.\n",
      "[12/14/2024 11:35:52 PM] [DEBUG] [discover.infra.persistence.repo.dataset.DatasetRepo] [remove] : Removed dataset dataset-test-dataprep-enrich_review-review from the repository.\n",
      "[12/14/2024 11:36:11 PM] [DEBUG] [Stage.run] [wrapper] : Stage: Review Enrichment Stage\n",
      "[12/14/2024 11:36:11 PM] [DEBUG] [Stage.run] [wrapper] : Stage Started: Sat, 14 Dec 2024 23:35:01\n",
      "[12/14/2024 11:36:11 PM] [DEBUG] [Stage.run] [wrapper] : Stage Completed: Sat, 14 Dec 2024 23:36:11\n",
      "[12/14/2024 11:36:11 PM] [DEBUG] [Stage.run] [wrapper] : Stage Runtime: 1.0 minutes and 9.74 seconds\n"
     ]
    },
    {
     "name": "stdout",
     "output_type": "stream",
     "text": [
      "\n",
      "\n",
      "                            Review Enrichment Stage                             \n",
      "                            =======================                             \n",
      "                           Stage Started | Sat, 14 Dec 2024 23:35:01\n",
      "                         Stage Completed | Sat, 14 Dec 2024 23:36:11\n",
      "                           Stage Runtime | 1.0 minutes and 9.74 seconds\n",
      "\n",
      "\n",
      "# ============================================================================ #\n",
      "\n"
     ]
    }
   ],
   "source": [
    "# Obtain the configuration\n",
    "reader = FlowConfigReader()\n",
    "stage_config = reader.get_stage_config(\n",
    "    phase=PhaseDef.DATAPREP, stage=StageDef.ENRICH_REVIEW\n",
    ")\n",
    "# Build and run the stage\n",
    "stage = DataEnrichmentStage.build(stage_config=stage_config, force=FORCE)\n",
    "review_enrichment_asset_id = stage.run()"
   ]
  },
  {
   "cell_type": "markdown",
   "metadata": {},
   "source": [
    "### Review Enrichment Data"
   ]
  },
  {
   "cell_type": "code",
   "execution_count": null,
   "metadata": {},
   "outputs": [],
   "source": [
    "repo = container.repo.dataset_repo()\n",
    "df = repo.get(asset_id=review_enrichment_asset_id, distributed=False, nlp=False).content"
   ]
  },
  {
   "cell_type": "code",
   "execution_count": 6,
   "metadata": {},
   "outputs": [
    {
     "name": "stdout",
     "output_type": "stream",
     "text": [
      "<class 'pandas.core.frame.DataFrame'>\n",
      "RangeIndex: 7787 entries, 0 to 7786\n",
      "Data columns (total 53 columns):\n",
      " #   Column                                            Non-Null Count  Dtype         \n",
      "---  ------                                            --------------  -----         \n",
      " 0   id                                                7787 non-null   object        \n",
      " 1   app_id                                            7787 non-null   object        \n",
      " 2   app_name                                          7787 non-null   object        \n",
      " 3   category_id                                       7787 non-null   object        \n",
      " 4   author                                            7787 non-null   object        \n",
      " 5   rating                                            7787 non-null   int16         \n",
      " 6   content                                           7787 non-null   object        \n",
      " 7   vote_sum                                          7787 non-null   int64         \n",
      " 8   vote_count                                        7787 non-null   int64         \n",
      " 9   date                                              7787 non-null   datetime64[us]\n",
      " 10  review_length                                     7787 non-null   int32         \n",
      " 11  pa_perplexity                                     7787 non-null   float64       \n",
      " 12  sa_sentiment                                      7787 non-null   object        \n",
      " 13  dp_privacy_contains_url                           7787 non-null   bool          \n",
      " 14  dp_privacy_contains_email                         7787 non-null   bool          \n",
      " 15  dp_privacy_contains_phone                         7787 non-null   bool          \n",
      " 16  dp_validity_contains_ctrl_chars                   7787 non-null   bool          \n",
      " 17  dp_validity_contains_accents                      7787 non-null   bool          \n",
      " 18  dp_validity_contains_html_chars                   7787 non-null   bool          \n",
      " 19  dp_validity_contains_excess_whitespace            7787 non-null   bool          \n",
      " 20  dp_relevance_contains_non_english_app_name        7787 non-null   bool          \n",
      " 21  dp_relevance_contains_non_english_text            7787 non-null   bool          \n",
      " 22  dp_validity_contains_excess_special_chars         7787 non-null   bool          \n",
      " 23  dp_uniqueness_duplicate_row                       7787 non-null   bool          \n",
      " 24  dp_uniqueness_duplicate_review_id                 7787 non-null   bool          \n",
      " 25  dp_uniqueness_duplicate_review                    7787 non-null   bool          \n",
      " 26  dp_validity_contains_elongation                   7787 non-null   bool          \n",
      " 27  dp_validity_contains_excess_sequence_repetition   7787 non-null   bool          \n",
      " 28  dp_validity_contains_excess_character_repetition  7787 non-null   bool          \n",
      " 29  dp_validity_contains_excess_word_repetition       7787 non-null   bool          \n",
      " 30  dp_validity_contains_excess_phrase_repetition     7787 non-null   bool          \n",
      " 31  dp_validity_low_perplexity                        7787 non-null   bool          \n",
      " 32  dp_relevance_short_review                         7787 non-null   bool          \n",
      " 33  dp_validity_invalid_category                      7787 non-null   bool          \n",
      " 34  dp_validity_invalid_rating                        7787 non-null   bool          \n",
      " 35  dp_validity_invalid_review_date                   7787 non-null   bool          \n",
      " 36  tqa_token_count                                   7787 non-null   int32         \n",
      " 37  tqa_unique_token_count                            7787 non-null   int32         \n",
      " 38  tqa_lexical_diversity                             7787 non-null   float64       \n",
      " 39  tqa_pos_n_nouns                                   7787 non-null   int32         \n",
      " 40  tqa_pos_n_verbs                                   7787 non-null   int32         \n",
      " 41  tqa_pos_n_adjectives                              7787 non-null   int32         \n",
      " 42  tqa_pos_n_adverbs                                 7787 non-null   int32         \n",
      " 43  tqa_syntactic_score                               7787 non-null   float64       \n",
      " 44  tqa_score                                         7787 non-null   float64       \n",
      " 45  en_review_age                                     7787 non-null   int32         \n",
      " 46  en_review_month                                   7787 non-null   int32         \n",
      " 47  en_review_day_of_week                             7787 non-null   int32         \n",
      " 48  en_review_hour                                    7787 non-null   int32         \n",
      " 49  en_rating_deviation_from_average                  7787 non-null   float64       \n",
      " 50  en_review_length_deviation_from_average           7787 non-null   float64       \n",
      " 51  en_en_review_age_deviation_from_average           7787 non-null   float64       \n",
      " 52  category                                          7787 non-null   category      \n",
      "dtypes: bool(23), category(1), datetime64[us](1), float64(7), int16(1), int32(11), int64(2), object(7)\n",
      "memory usage: 1.5+ MB\n"
     ]
    }
   ],
   "source": [
    "df.info()"
   ]
  },
  {
   "cell_type": "markdown",
   "metadata": {},
   "source": [
    "## App Enrichment"
   ]
  },
  {
   "cell_type": "code",
   "execution_count": 7,
   "metadata": {},
   "outputs": [
    {
     "name": "stderr",
     "output_type": "stream",
     "text": [
      "[12/14/2024 11:36:12 PM] [DEBUG] [discover.flow.stage.base.DataEnrichmentStage] [run] : Execution path: RUN\n",
      "[12/14/2024 11:36:12 PM] [DEBUG] [discover.infra.service.spark.session.SparkSessionPool] [_create_nlp_session] : Creating a spark nlp session.\n",
      "[12/14/2024 11:36:12 PM] [DEBUG] [discover.infra.service.spark.session.SparkSessionPool] [_create_nlp_session] : Creating an SparkNLP session. log4j Configuration: file:/home/john/projects/appvocai-discover/log4j.properties\n"
     ]
    },
    {
     "name": "stdout",
     "output_type": "stream",
     "text": [
      "\n",
      "\n",
      "# ============================================================================== #\n",
      "#                              App Enrichment Stage                              #\n",
      "# ============================================================================== #\n",
      "\n",
      "\n",
      "\n",
      "                               AppAggregationTask                               \n",
      "                               ------------------                               \n",
      "                          Start Datetime | Sat, 14 Dec 2024 23:36:12\n"
     ]
    },
    {
     "name": "stderr",
     "output_type": "stream",
     "text": [
      "[12/14/2024 11:36:12 PM] [DEBUG] [AppAggregationTask.run] [wrapper] : Task: AppAggregationTask\n",
      "[12/14/2024 11:36:12 PM] [DEBUG] [AppAggregationTask.run] [wrapper] : Started: Sat, 14 Dec 2024 23:36:12\n",
      "[12/14/2024 11:36:12 PM] [DEBUG] [AppAggregationTask.run] [wrapper] : Completed: Sat, 14 Dec 2024 23:36:12\n",
      "[12/14/2024 11:36:12 PM] [DEBUG] [AppAggregationTask.run] [wrapper] : Runtime: 0.36 seconds\n"
     ]
    },
    {
     "name": "stdout",
     "output_type": "stream",
     "text": [
      "                       Complete Datetime | Sat, 14 Dec 2024 23:36:12\n",
      "                                 Runtime | 0.36 seconds\n"
     ]
    },
    {
     "name": "stderr",
     "output_type": "stream",
     "text": [
      "[12/14/2024 11:36:14 PM] [DEBUG] [discover.infra.persistence.repo.dataset.DatasetRepo] [_remove_dataset_file_by_filepath] : Removed dataset file at workspace/test/dataset/01_dataprep/appvocai_discover-01_dataprep-07_enrich-app-dataset.parquet from repository.\n",
      "[12/14/2024 11:36:14 PM] [DEBUG] [discover.infra.persistence.repo.dataset.DatasetRepo] [remove] : Removed dataset dataset-test-dataprep-enrich_app-app from the repository.\n",
      "[12/14/2024 11:36:16 PM] [DEBUG] [Stage.run] [wrapper] : Stage: App Enrichment Stage\n",
      "[12/14/2024 11:36:16 PM] [DEBUG] [Stage.run] [wrapper] : Stage Started: Sat, 14 Dec 2024 23:36:12\n",
      "[12/14/2024 11:36:16 PM] [DEBUG] [Stage.run] [wrapper] : Stage Completed: Sat, 14 Dec 2024 23:36:16\n",
      "[12/14/2024 11:36:16 PM] [DEBUG] [Stage.run] [wrapper] : Stage Runtime: 4.33 seconds\n"
     ]
    },
    {
     "name": "stdout",
     "output_type": "stream",
     "text": [
      "\n",
      "\n",
      "                              App Enrichment Stage                              \n",
      "                              ====================                              \n",
      "                           Stage Started | Sat, 14 Dec 2024 23:36:12\n",
      "                         Stage Completed | Sat, 14 Dec 2024 23:36:16\n",
      "                           Stage Runtime | 4.33 seconds\n",
      "\n",
      "\n",
      "# ============================================================================ #\n",
      "\n"
     ]
    }
   ],
   "source": [
    "# Obtain the configuration\n",
    "reader = FlowConfigReader()\n",
    "stage_config = reader.get_stage_config(\n",
    "    phase=PhaseDef.DATAPREP, stage=StageDef.ENRICH_APP\n",
    ")\n",
    "# Build and run the stage\n",
    "stage = DataEnrichmentStage.build(stage_config=stage_config, force=FORCE)\n",
    "app_enrichment_asset_id = stage.run()"
   ]
  },
  {
   "cell_type": "markdown",
   "metadata": {},
   "source": [
    "## Category Enrichment"
   ]
  },
  {
   "cell_type": "code",
   "execution_count": 8,
   "metadata": {},
   "outputs": [
    {
     "name": "stderr",
     "output_type": "stream",
     "text": [
      "[12/14/2024 11:36:16 PM] [DEBUG] [discover.flow.stage.base.DataEnrichmentStage] [run] : Execution path: RUN\n",
      "[12/14/2024 11:36:16 PM] [DEBUG] [discover.infra.service.spark.session.SparkSessionPool] [_create_nlp_session] : Creating a spark nlp session.\n",
      "[12/14/2024 11:36:16 PM] [DEBUG] [discover.infra.service.spark.session.SparkSessionPool] [_create_nlp_session] : Creating an SparkNLP session. log4j Configuration: file:/home/john/projects/appvocai-discover/log4j.properties\n"
     ]
    },
    {
     "name": "stdout",
     "output_type": "stream",
     "text": [
      "\n",
      "\n",
      "# ============================================================================== #\n",
      "#                           Category Enrichment Stage                            #\n",
      "# ============================================================================== #\n",
      "\n",
      "\n",
      "\n",
      "                            CategoryAggregationTask                             \n",
      "                            -----------------------                             \n",
      "                          Start Datetime | Sat, 14 Dec 2024 23:36:16\n"
     ]
    },
    {
     "name": "stderr",
     "output_type": "stream",
     "text": [
      "[12/14/2024 11:36:17 PM] [DEBUG] [CategoryAggregationTask.run] [wrapper] : Task: CategoryAggregationTask\n",
      "[12/14/2024 11:36:17 PM] [DEBUG] [CategoryAggregationTask.run] [wrapper] : Started: Sat, 14 Dec 2024 23:36:16\n",
      "[12/14/2024 11:36:17 PM] [DEBUG] [CategoryAggregationTask.run] [wrapper] : Completed: Sat, 14 Dec 2024 23:36:17\n",
      "[12/14/2024 11:36:17 PM] [DEBUG] [CategoryAggregationTask.run] [wrapper] : Runtime: 0.29 seconds\n"
     ]
    },
    {
     "name": "stdout",
     "output_type": "stream",
     "text": [
      "                       Complete Datetime | Sat, 14 Dec 2024 23:36:17\n",
      "                                 Runtime | 0.29 seconds\n"
     ]
    },
    {
     "name": "stderr",
     "output_type": "stream",
     "text": [
      "[12/14/2024 11:36:17 PM] [DEBUG] [discover.infra.persistence.repo.dataset.DatasetRepo] [_remove_dataset_file_by_filepath] : Removed dataset file at workspace/test/dataset/01_dataprep/appvocai_discover-01_dataprep-08_enrich-category-dataset.parquet from repository.\n",
      "[12/14/2024 11:36:17 PM] [DEBUG] [discover.infra.persistence.repo.dataset.DatasetRepo] [remove] : Removed dataset dataset-test-dataprep-enrich_category-category from the repository.\n",
      "[12/14/2024 11:36:19 PM] [DEBUG] [Stage.run] [wrapper] : Stage: Category Enrichment Stage\n",
      "[12/14/2024 11:36:19 PM] [DEBUG] [Stage.run] [wrapper] : Stage Started: Sat, 14 Dec 2024 23:36:16\n",
      "[12/14/2024 11:36:19 PM] [DEBUG] [Stage.run] [wrapper] : Stage Completed: Sat, 14 Dec 2024 23:36:19\n",
      "[12/14/2024 11:36:19 PM] [DEBUG] [Stage.run] [wrapper] : Stage Runtime: 2.25 seconds\n"
     ]
    },
    {
     "name": "stdout",
     "output_type": "stream",
     "text": [
      "\n",
      "\n",
      "                           Category Enrichment Stage                            \n",
      "                           =========================                            \n",
      "                           Stage Started | Sat, 14 Dec 2024 23:36:16\n",
      "                         Stage Completed | Sat, 14 Dec 2024 23:36:19\n",
      "                           Stage Runtime | 2.25 seconds\n",
      "\n",
      "\n",
      "# ============================================================================ #\n",
      "\n"
     ]
    }
   ],
   "source": [
    "# Obtain the configuration\n",
    "reader = FlowConfigReader()\n",
    "stage_config = reader.get_stage_config(\n",
    "    phase=PhaseDef.DATAPREP, stage=StageDef.ENRICH_CATEGORY\n",
    ")\n",
    "# Build and run the stage\n",
    "stage = DataEnrichmentStage.build(stage_config=stage_config, force=FORCE)\n",
    "category_enrichment_asset_id = stage.run()"
   ]
  },
  {
   "cell_type": "markdown",
   "metadata": {},
   "source": [
    "---"
   ]
  },
  {
   "cell_type": "markdown",
   "metadata": {},
   "source": [
    "## Enrichment Stage Wrap-Up\n",
    "The enrichment stage enhanced the dataset with features, including review metadata (such as length, age and temporal data), sentiment analysis, text quality scores, and comprehensive app- and category-level aggregations. In the upcoming EDA phase, we will leverage these enriched attributes to uncover patterns, relationships, and trends that illuminate user behavior and app performance."
   ]
  }
 ],
 "metadata": {
  "kernelspec": {
   "display_name": "appvocai",
   "language": "python",
   "name": "python3"
  },
  "language_info": {
   "codemirror_mode": {
    "name": "ipython",
    "version": 3
   },
   "file_extension": ".py",
   "mimetype": "text/x-python",
   "name": "python",
   "nbconvert_exporter": "python",
   "pygments_lexer": "ipython3",
   "version": "3.10.15"
  }
 },
 "nbformat": 4,
 "nbformat_minor": 2
}
