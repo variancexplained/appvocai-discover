{
 "cells": [
  {
   "cell_type": "code",
   "execution_count": 1,
   "metadata": {},
   "outputs": [],
   "source": [
    "import warnings\n",
    "\n",
    "warnings.filterwarnings(\"ignore\")\n",
    "import os\n",
    "\n",
    "if \"jbook\" in os.getcwd():\n",
    "    os.chdir(os.path.abspath(os.path.join(\"../..\")))\n",
    "FORCE = False"
   ]
  },
  {
   "cell_type": "markdown",
   "metadata": {},
   "source": [
    "# AppVoCAI Dataset Enrichment\n",
    "This data enrichment effort will imbue subsequent data quality and exploratory analyses with essential quality signals, user engagement data, target class distributions, and aggregations that position us for a systematic, and intensive data quality analysis, and an insight-rich exploratory effort. This data enrichment stage will unfold through five progressive steps:\n",
    "\n",
    "1. **Sentiment Classification**: Leveraging SpaCy's rule-based sentiment classifier will provide a computationally efficient, high-level sense of sentiment distribution and balance in the dataset. \n",
    "2. **Text Quality Assessment**: We evaluate the grammatical sophistication, syntactic structure, diversity, coherence, clarity, intensity, and linguistic elaborateness of the user reviews - aspects known to sizeably effect LLM model performance.\n",
    "3. **Quantitative Enrichment**: Disembling timestamps will release temporal features, such as the age of each review relative to the most recent one and the month, day, and hour of submission for temporal and longitudinal analysis of user engagement patterns of app usage and cyclical trends in user behavior. Deviations from broader themes at the category and app levels may reveal feature gaps, unmet needs, and notable variability in user experiences.\n",
    "4. **Aggregate Data**: Summarizing information at the app, author, and category levels to expose overarching themes related to user engagement, satisfaction, and app performance, providing a macro-level perspective on the data.\n",
    "\n",
    "Is this early feature engineering? Great question. It is not. Feature engineering derives new variables that are expected to have an influential effect on model development and predictive performance. While there may be some overlap, our purpose is to facilitate rigorous data quality analysis, and exploration while minimizing bias, and avoiding transformations that might distort or invalidate analytical interpretations.\n",
    "\n",
    "Let's do this.\n"
   ]
  },
  {
   "cell_type": "markdown",
   "metadata": {
    "tags": [
     "hide-cell"
    ]
   },
   "source": [
    "## Import Libraries"
   ]
  },
  {
   "cell_type": "code",
   "execution_count": 2,
   "metadata": {
    "tags": [
     "hide-cell"
    ]
   },
   "outputs": [],
   "source": [
    "from discover.container import DiscoverContainer\n",
    "from discover.infra.config.flow import FlowConfigReader\n",
    "from discover.core.flow import DataPrepStageDef\n",
    "from discover.flow.data_prep.quant.stage import QuantStage\n",
    "from discover.flow.data_prep.sentiment.stage import SentimentClassificationStage\n",
    "from discover.flow.data_prep.tqa.stage import TQAStage\n",
    "from discover.flow.data_prep.aggregation.stage import AggregationStage\n",
    "from discover.core.flow import PhaseDef, DataPrepStageDef"
   ]
  },
  {
   "cell_type": "markdown",
   "metadata": {},
   "source": [
    "## Dependency Container"
   ]
  },
  {
   "cell_type": "code",
   "execution_count": 3,
   "metadata": {},
   "outputs": [],
   "source": [
    "container = DiscoverContainer()\n",
    "container.init_resources()\n",
    "container.wire(\n",
    "    modules=[\n",
    "        \"discover.flow.data_prep.stage\",\n",
    "        \"discover.flow.data_prep.aggregation.stage\",\n",
    "    ],\n",
    ")"
   ]
  },
  {
   "cell_type": "markdown",
   "metadata": {},
   "source": [
    "## Sentiment Classification Pipeline  \n",
    "The Review-Level Sentiment Classification Pipeline uses spaCy to analyze sentiment on a scale from -1 to 1. Reviews are then classified as negative, neutral, or positive by dividing this scale into three equal spans."
   ]
  },
  {
   "cell_type": "code",
   "execution_count": 4,
   "metadata": {},
   "outputs": [
    {
     "name": "stdout",
     "output_type": "stream",
     "text": [
      "\n",
      "\n",
      "# ============================================================================== #\n",
      "#                         Sentiment Classification Stage                         #\n",
      "# ============================================================================== #\n",
      "\n",
      "\n",
      "\n",
      "                         Sentiment Classification Stage                         \n",
      "                         ==============================                         \n",
      "                           Stage Started | Mon, 11 Nov 2024 04:24:55\n",
      "                         Stage Completed | Mon, 11 Nov 2024 04:24:55\n",
      "                           Stage Runtime | 0.01 seconds\n",
      "                           Cached Result | True\n",
      "\n",
      "\n",
      "# ============================================================================ #\n",
      "\n"
     ]
    }
   ],
   "source": [
    "# Obtain the configuration\n",
    "reader = FlowConfigReader()\n",
    "stage_config = reader.get_stage_config(\n",
    "    phase=PhaseDef.DATAPREP, stage=DataPrepStageDef.SENTIMENT\n",
    ")\n",
    "\n",
    "# Build and run Data Ingestion Stage\n",
    "stage = SentimentClassificationStage.build(stage_config=stage_config, force=FORCE)\n",
    "asset_id = stage.run()"
   ]
  },
  {
   "cell_type": "markdown",
   "metadata": {},
   "source": [
    "---"
   ]
  },
  {
   "cell_type": "markdown",
   "metadata": {},
   "source": [
    "## Review Text Quality Analysis (TQA) Pipeline\n",
    "Review text quality is an indicator of the content's richness, coherence, and informativeness. In this section, we integrate two complementary quality assessment measures—a lexical/syntactic score and a perplexity-based score—into a weighted sum. This approach provides a balanced evaluation, capturing both the structural diversity and natural language fluency of the reviews.\n",
    "\n",
    "### Lexical and Syntactic Complexity Assessment  \n",
    "The lexical and syntactic quality assessment (TQA) evaluates review quality using a composite score derived from multiple syntactic and lexical measures. These measures are computed with specific weights:\n",
    "\n",
    "1. **POS Count Score (40%)**: Reflects the richness of content using counts of nouns, verbs, adjectives, and adverbs.\n",
    "2. **POS Diversity Score (20%)**: Captures variety in language using an entropy-based calculation.\n",
    "3. **POS Intensity Score (10%)**: Assesses the density of key parts of speech relative to total word count.\n",
    "4. **Structural Complexity Score (20%)**: Evaluates text complexity using unique word proportion, special character usage, and word length variation.\n",
    "5. **TQA Check Score (10%)**: Incorporates quality signals such as limited digit use, minimal special characters, and proper terminal punctuation.\n",
    "\n",
    "A high Lexical and Syntactic Complexity Score typically indicates a text rich in linguistic features, with varied sentence structures and a well-balanced mix of nouns, verbs, and modifiers (like adjectives and adverbs). This variety is particularly valuable for tasks like Aspect-Based Sentiment Analysis (ABSA), where structural complexity can signal content with nuanced aspects and sentiments.\n",
    "\n",
    "### Perplexity-Based Quality Assessment  \n",
    "This measure evaluates review quality by applying 13 linguistic and structural filters, each assigned a weight derived from relative perplexity differences between the full dataset and filtered subsets. The filters assess features like adjective presence, punctuation ratios, word repetition, and special character use. Weights are computed to emphasize filters that most reduce perplexity, thus enhancing text fluency and coherence. The final score is a weighted sum of these filter indicators. \n",
    "\n",
    "Lower perplexity implies higher fluency, coherence, and grammatical correctness, which are key indicators of text quality. This component is useful for flagging low-quality or noisy text that may be unpredictable or deviate significantly from standard linguistic norms.\n",
    "\n",
    "### Weighted Scoring Approach\n",
    "To create a balanced quality score, the Syntactic Complexity Score and Perplexity-Based Score are combined with tailored weights that emphasize their respective strengths. \n",
    "\n",
    "- **Syntactic Complexity Weight**: Typically given more weight when the task demands detailed and linguistically rich text, such as ABSA, where richer syntactic content improves aspect and sentiment extraction.\n",
    "- **Perplexity-Based Weight**: Often assigned a moderate weight to capture coherence and fluency, ensuring that only grammatically sound and predictable text is prioritized without sacrificing syntactic diversity.\n",
    "\n",
    "The final **Text Quality Score** is a weighted average of these two components, providing a single score that balances both syntactic richness and linguistic fluency. The remainder of this notebook will execute the text quality scoring pipeline, computing and integrating the two quality measures into a final text quality score. The specifics of the measures are provided in {ref}`Text Quality Method` Section of the appendix.   "
   ]
  },
  {
   "cell_type": "code",
   "execution_count": null,
   "metadata": {},
   "outputs": [
    {
     "name": "stderr",
     "output_type": "stream",
     "text": [
      "[11/11/2024 04:24:56 AM] [INFO] [discover.infra.persistence.repo.dataset.DatasetRepo] [remove] : Removed dataset dataset-dev-dataprep-tqa-review from the repository.\n"
     ]
    },
    {
     "name": "stdout",
     "output_type": "stream",
     "text": [
      "\n",
      "\n",
      "# ============================================================================== #\n",
      "#                               Text Quality Stage                               #\n",
      "# ============================================================================== #\n",
      "\n"
     ]
    },
    {
     "name": "stderr",
     "output_type": "stream",
     "text": [
      "your 131072x1 screen size is bogus. expect trouble\n"
     ]
    },
    {
     "name": "stdout",
     "output_type": "stream",
     "text": [
      ":: loading settings :: url = jar:file:/home/john/miniconda3/envs/appvocai/lib/python3.10/site-packages/pyspark/jars/ivy-2.5.1.jar!/org/apache/ivy/core/settings/ivysettings.xml\n"
     ]
    },
    {
     "name": "stderr",
     "output_type": "stream",
     "text": [
      "Ivy Default Cache set to: /home/john/.ivy2/cache\n",
      "The jars for the packages stored in: /home/john/.ivy2/jars\n",
      "com.johnsnowlabs.nlp#spark-nlp_2.12 added as a dependency\n",
      ":: resolving dependencies :: org.apache.spark#spark-submit-parent-b56ba3a3-aaec-476b-a6b0-7e971f0ee028;1.0\n",
      "\tconfs: [default]\n",
      "\tfound com.johnsnowlabs.nlp#spark-nlp_2.12;5.3.3 in central\n",
      "\tfound com.typesafe#config;1.4.2 in central\n",
      "\tfound org.rocksdb#rocksdbjni;6.29.5 in central\n",
      "\tfound com.amazonaws#aws-java-sdk-s3;1.12.500 in central\n",
      "\tfound com.amazonaws#aws-java-sdk-kms;1.12.500 in central\n",
      "\tfound com.amazonaws#aws-java-sdk-core;1.12.500 in central\n",
      "\tfound commons-logging#commons-logging;1.1.3 in central\n",
      "\tfound commons-codec#commons-codec;1.15 in central\n",
      "\tfound org.apache.httpcomponents#httpclient;4.5.13 in central\n",
      "\tfound org.apache.httpcomponents#httpcore;4.4.13 in central\n",
      "\tfound software.amazon.ion#ion-java;1.0.2 in central\n",
      "\tfound joda-time#joda-time;2.8.1 in central\n",
      "\tfound com.amazonaws#jmespath-java;1.12.500 in central\n",
      "\tfound com.github.universal-automata#liblevenshtein;3.0.0 in central\n",
      "\tfound com.google.protobuf#protobuf-java-util;3.0.0-beta-3 in central\n",
      "\tfound com.google.protobuf#protobuf-java;3.0.0-beta-3 in central\n",
      "\tfound com.google.code.gson#gson;2.3 in central\n",
      "\tfound it.unimi.dsi#fastutil;7.0.12 in central\n",
      "\tfound org.projectlombok#lombok;1.16.8 in central\n",
      "\tfound com.google.cloud#google-cloud-storage;2.20.1 in central\n",
      "\tfound com.google.guava#guava;31.1-jre in central\n",
      "\tfound com.google.guava#failureaccess;1.0.1 in central\n",
      "\tfound com.google.guava#listenablefuture;9999.0-empty-to-avoid-conflict-with-guava in central\n",
      "\tfound com.google.errorprone#error_prone_annotations;2.18.0 in central\n",
      "\tfound com.google.j2objc#j2objc-annotations;1.3 in central\n",
      "\tfound com.google.http-client#google-http-client;1.43.0 in central\n",
      "\tfound io.opencensus#opencensus-contrib-http-util;0.31.1 in central\n",
      "\tfound com.google.http-client#google-http-client-jackson2;1.43.0 in central\n",
      "\tfound com.google.http-client#google-http-client-gson;1.43.0 in central\n",
      "\tfound com.google.api-client#google-api-client;2.2.0 in central\n",
      "\tfound com.google.oauth-client#google-oauth-client;1.34.1 in central\n",
      "\tfound com.google.http-client#google-http-client-apache-v2;1.43.0 in central\n",
      "\tfound com.google.apis#google-api-services-storage;v1-rev20220705-2.0.0 in central\n",
      "\tfound com.google.code.gson#gson;2.10.1 in central\n",
      "\tfound com.google.cloud#google-cloud-core;2.12.0 in central\n",
      "\tfound io.grpc#grpc-context;1.53.0 in central\n",
      "\tfound com.google.auto.value#auto-value-annotations;1.10.1 in central\n",
      "\tfound com.google.auto.value#auto-value;1.10.1 in central\n",
      "\tfound javax.annotation#javax.annotation-api;1.3.2 in central\n",
      "\tfound com.google.cloud#google-cloud-core-http;2.12.0 in central\n",
      "\tfound com.google.http-client#google-http-client-appengine;1.43.0 in central\n",
      "\tfound com.google.api#gax-httpjson;0.108.2 in central\n",
      "\tfound com.google.cloud#google-cloud-core-grpc;2.12.0 in central\n",
      "\tfound io.grpc#grpc-alts;1.53.0 in central\n",
      "\tfound io.grpc#grpc-grpclb;1.53.0 in central\n",
      "\tfound org.conscrypt#conscrypt-openjdk-uber;2.5.2 in central\n",
      "\tfound io.grpc#grpc-auth;1.53.0 in central\n",
      "\tfound io.grpc#grpc-protobuf;1.53.0 in central\n",
      "\tfound io.grpc#grpc-protobuf-lite;1.53.0 in central\n",
      "\tfound io.grpc#grpc-core;1.53.0 in central\n",
      "\tfound com.google.api#gax;2.23.2 in central\n",
      "\tfound com.google.api#gax-grpc;2.23.2 in central\n",
      "\tfound com.google.auth#google-auth-library-credentials;1.16.0 in central\n",
      "\tfound com.google.auth#google-auth-library-oauth2-http;1.16.0 in central\n",
      "\tfound com.google.api#api-common;2.6.2 in central\n",
      "\tfound io.opencensus#opencensus-api;0.31.1 in central\n",
      "\tfound com.google.api.grpc#proto-google-iam-v1;1.9.2 in central\n",
      "\tfound com.google.protobuf#protobuf-java;3.21.12 in central\n",
      "\tfound com.google.protobuf#protobuf-java-util;3.21.12 in central\n",
      "\tfound com.google.api.grpc#proto-google-common-protos;2.14.2 in central\n",
      "\tfound org.threeten#threetenbp;1.6.5 in central\n",
      "\tfound com.google.api.grpc#proto-google-cloud-storage-v2;2.20.1-alpha in central\n",
      "\tfound com.google.api.grpc#grpc-google-cloud-storage-v2;2.20.1-alpha in central\n",
      "\tfound com.google.api.grpc#gapic-google-cloud-storage-v2;2.20.1-alpha in central\n",
      "\tfound com.google.code.findbugs#jsr305;3.0.2 in central\n",
      "\tfound io.grpc#grpc-api;1.53.0 in central\n",
      "\tfound io.grpc#grpc-stub;1.53.0 in central\n",
      "\tfound org.checkerframework#checker-qual;3.31.0 in central\n",
      "\tfound io.perfmark#perfmark-api;0.26.0 in central\n",
      "\tfound com.google.android#annotations;4.1.1.4 in central\n",
      "\tfound org.codehaus.mojo#animal-sniffer-annotations;1.22 in central\n",
      "\tfound io.opencensus#opencensus-proto;0.2.0 in central\n",
      "\tfound io.grpc#grpc-services;1.53.0 in central\n",
      "\tfound com.google.re2j#re2j;1.6 in central\n",
      "\tfound io.grpc#grpc-netty-shaded;1.53.0 in central\n",
      "\tfound io.grpc#grpc-googleapis;1.53.0 in central\n",
      "\tfound io.grpc#grpc-xds;1.53.0 in central\n",
      "\tfound com.navigamez#greex;1.0 in central\n",
      "\tfound dk.brics.automaton#automaton;1.11-8 in central\n",
      "\tfound com.johnsnowlabs.nlp#tensorflow-cpu_2.12;0.4.4 in central\n",
      "\tfound com.microsoft.onnxruntime#onnxruntime;1.17.0 in central\n",
      ":: resolution report :: resolve 2100ms :: artifacts dl 74ms\n",
      "\t:: modules in use:\n",
      "\tcom.amazonaws#aws-java-sdk-core;1.12.500 from central in [default]\n",
      "\tcom.amazonaws#aws-java-sdk-kms;1.12.500 from central in [default]\n",
      "\tcom.amazonaws#aws-java-sdk-s3;1.12.500 from central in [default]\n",
      "\tcom.amazonaws#jmespath-java;1.12.500 from central in [default]\n",
      "\tcom.github.universal-automata#liblevenshtein;3.0.0 from central in [default]\n",
      "\tcom.google.android#annotations;4.1.1.4 from central in [default]\n",
      "\tcom.google.api#api-common;2.6.2 from central in [default]\n",
      "\tcom.google.api#gax;2.23.2 from central in [default]\n",
      "\tcom.google.api#gax-grpc;2.23.2 from central in [default]\n",
      "\tcom.google.api#gax-httpjson;0.108.2 from central in [default]\n",
      "\tcom.google.api-client#google-api-client;2.2.0 from central in [default]\n",
      "\tcom.google.api.grpc#gapic-google-cloud-storage-v2;2.20.1-alpha from central in [default]\n",
      "\tcom.google.api.grpc#grpc-google-cloud-storage-v2;2.20.1-alpha from central in [default]\n",
      "\tcom.google.api.grpc#proto-google-cloud-storage-v2;2.20.1-alpha from central in [default]\n",
      "\tcom.google.api.grpc#proto-google-common-protos;2.14.2 from central in [default]\n",
      "\tcom.google.api.grpc#proto-google-iam-v1;1.9.2 from central in [default]\n",
      "\tcom.google.apis#google-api-services-storage;v1-rev20220705-2.0.0 from central in [default]\n",
      "\tcom.google.auth#google-auth-library-credentials;1.16.0 from central in [default]\n",
      "\tcom.google.auth#google-auth-library-oauth2-http;1.16.0 from central in [default]\n",
      "\tcom.google.auto.value#auto-value;1.10.1 from central in [default]\n",
      "\tcom.google.auto.value#auto-value-annotations;1.10.1 from central in [default]\n",
      "\tcom.google.cloud#google-cloud-core;2.12.0 from central in [default]\n",
      "\tcom.google.cloud#google-cloud-core-grpc;2.12.0 from central in [default]\n",
      "\tcom.google.cloud#google-cloud-core-http;2.12.0 from central in [default]\n",
      "\tcom.google.cloud#google-cloud-storage;2.20.1 from central in [default]\n",
      "\tcom.google.code.findbugs#jsr305;3.0.2 from central in [default]\n",
      "\tcom.google.code.gson#gson;2.10.1 from central in [default]\n",
      "\tcom.google.errorprone#error_prone_annotations;2.18.0 from central in [default]\n",
      "\tcom.google.guava#failureaccess;1.0.1 from central in [default]\n",
      "\tcom.google.guava#guava;31.1-jre from central in [default]\n",
      "\tcom.google.guava#listenablefuture;9999.0-empty-to-avoid-conflict-with-guava from central in [default]\n",
      "\tcom.google.http-client#google-http-client;1.43.0 from central in [default]\n",
      "\tcom.google.http-client#google-http-client-apache-v2;1.43.0 from central in [default]\n",
      "\tcom.google.http-client#google-http-client-appengine;1.43.0 from central in [default]\n",
      "\tcom.google.http-client#google-http-client-gson;1.43.0 from central in [default]\n",
      "\tcom.google.http-client#google-http-client-jackson2;1.43.0 from central in [default]\n",
      "\tcom.google.j2objc#j2objc-annotations;1.3 from central in [default]\n",
      "\tcom.google.oauth-client#google-oauth-client;1.34.1 from central in [default]\n",
      "\tcom.google.protobuf#protobuf-java;3.21.12 from central in [default]\n",
      "\tcom.google.protobuf#protobuf-java-util;3.21.12 from central in [default]\n",
      "\tcom.google.re2j#re2j;1.6 from central in [default]\n",
      "\tcom.johnsnowlabs.nlp#spark-nlp_2.12;5.3.3 from central in [default]\n",
      "\tcom.johnsnowlabs.nlp#tensorflow-cpu_2.12;0.4.4 from central in [default]\n",
      "\tcom.microsoft.onnxruntime#onnxruntime;1.17.0 from central in [default]\n",
      "\tcom.navigamez#greex;1.0 from central in [default]\n",
      "\tcom.typesafe#config;1.4.2 from central in [default]\n",
      "\tcommons-codec#commons-codec;1.15 from central in [default]\n",
      "\tcommons-logging#commons-logging;1.1.3 from central in [default]\n",
      "\tdk.brics.automaton#automaton;1.11-8 from central in [default]\n",
      "\tio.grpc#grpc-alts;1.53.0 from central in [default]\n",
      "\tio.grpc#grpc-api;1.53.0 from central in [default]\n",
      "\tio.grpc#grpc-auth;1.53.0 from central in [default]\n",
      "\tio.grpc#grpc-context;1.53.0 from central in [default]\n",
      "\tio.grpc#grpc-core;1.53.0 from central in [default]\n",
      "\tio.grpc#grpc-googleapis;1.53.0 from central in [default]\n",
      "\tio.grpc#grpc-grpclb;1.53.0 from central in [default]\n",
      "\tio.grpc#grpc-netty-shaded;1.53.0 from central in [default]\n",
      "\tio.grpc#grpc-protobuf;1.53.0 from central in [default]\n",
      "\tio.grpc#grpc-protobuf-lite;1.53.0 from central in [default]\n",
      "\tio.grpc#grpc-services;1.53.0 from central in [default]\n",
      "\tio.grpc#grpc-stub;1.53.0 from central in [default]\n",
      "\tio.grpc#grpc-xds;1.53.0 from central in [default]\n",
      "\tio.opencensus#opencensus-api;0.31.1 from central in [default]\n",
      "\tio.opencensus#opencensus-contrib-http-util;0.31.1 from central in [default]\n",
      "\tio.opencensus#opencensus-proto;0.2.0 from central in [default]\n",
      "\tio.perfmark#perfmark-api;0.26.0 from central in [default]\n",
      "\tit.unimi.dsi#fastutil;7.0.12 from central in [default]\n",
      "\tjavax.annotation#javax.annotation-api;1.3.2 from central in [default]\n",
      "\tjoda-time#joda-time;2.8.1 from central in [default]\n",
      "\torg.apache.httpcomponents#httpclient;4.5.13 from central in [default]\n",
      "\torg.apache.httpcomponents#httpcore;4.4.13 from central in [default]\n",
      "\torg.checkerframework#checker-qual;3.31.0 from central in [default]\n",
      "\torg.codehaus.mojo#animal-sniffer-annotations;1.22 from central in [default]\n",
      "\torg.conscrypt#conscrypt-openjdk-uber;2.5.2 from central in [default]\n",
      "\torg.projectlombok#lombok;1.16.8 from central in [default]\n",
      "\torg.rocksdb#rocksdbjni;6.29.5 from central in [default]\n",
      "\torg.threeten#threetenbp;1.6.5 from central in [default]\n",
      "\tsoftware.amazon.ion#ion-java;1.0.2 from central in [default]\n",
      "\t:: evicted modules:\n",
      "\tcommons-logging#commons-logging;1.2 by [commons-logging#commons-logging;1.1.3] in [default]\n",
      "\tcommons-codec#commons-codec;1.11 by [commons-codec#commons-codec;1.15] in [default]\n",
      "\tcom.google.protobuf#protobuf-java-util;3.0.0-beta-3 by [com.google.protobuf#protobuf-java-util;3.21.12] in [default]\n",
      "\tcom.google.protobuf#protobuf-java;3.0.0-beta-3 by [com.google.protobuf#protobuf-java;3.21.12] in [default]\n",
      "\tcom.google.code.gson#gson;2.3 by [com.google.code.gson#gson;2.10.1] in [default]\n",
      "\t---------------------------------------------------------------------\n",
      "\t|                  |            modules            ||   artifacts   |\n",
      "\t|       conf       | number| search|dwnlded|evicted|| number|dwnlded|\n",
      "\t---------------------------------------------------------------------\n",
      "\t|      default     |   83  |   0   |   0   |   5   ||   78  |   0   |\n",
      "\t---------------------------------------------------------------------\n",
      ":: retrieving :: org.apache.spark#spark-submit-parent-b56ba3a3-aaec-476b-a6b0-7e971f0ee028\n",
      "\tconfs: [default]\n",
      "\t0 artifacts copied, 78 already retrieved (0kB/35ms)\n",
      "Setting default log level to \"WARN\".\n",
      "To adjust logging level use sc.setLogLevel(newLevel). For SparkR, use setLogLevel(newLevel).\n",
      "                                                                                \r"
     ]
    },
    {
     "name": "stdout",
     "output_type": "stream",
     "text": [
      "\n",
      "\n",
      "                                    NLPTask                                     \n",
      "                                    -------                                     \n",
      "                          Start Datetime | Mon, 11 Nov 2024 04:25:26\n",
      "pos_ud_ewt download started this may take some time.\n",
      "Approximate size to download 2.2 MB\n",
      "[ — ]pos_ud_ewt download started this may take some time.\n",
      "Approximate size to download 2.2 MB\n",
      "Download done! Loading the resource.\n",
      "[ \\ ]"
     ]
    },
    {
     "name": "stderr",
     "output_type": "stream",
     "text": [
      "                                                                                \r"
     ]
    },
    {
     "name": "stdout",
     "output_type": "stream",
     "text": [
      "[OK!]\n",
      "                       Complete Datetime | Mon, 11 Nov 2024 04:26:07\n",
      "                                 Runtime | 41.08 seconds\n",
      "\n",
      "\n",
      "                              ComputePOSStatsTask                               \n",
      "                              -------------------                               \n",
      "                          Start Datetime | Mon, 11 Nov 2024 04:26:07\n",
      "                       Complete Datetime | Mon, 11 Nov 2024 04:26:07\n",
      "                                 Runtime | 0.71 seconds\n",
      "\n",
      "\n",
      "                             ComputeBasicStatsTask                              \n",
      "                             ---------------------                              \n",
      "                          Start Datetime | Mon, 11 Nov 2024 04:26:07\n",
      "                       Complete Datetime | Mon, 11 Nov 2024 04:26:08\n",
      "                                 Runtime | 0.81 seconds\n",
      "\n",
      "\n",
      "                             ComputeTQAFiltersTask                              \n",
      "                             ---------------------                              \n",
      "                          Start Datetime | Mon, 11 Nov 2024 04:26:08\n",
      "                       Complete Datetime | Mon, 11 Nov 2024 04:26:09\n",
      "                                 Runtime | 0.58 seconds\n",
      "\n",
      "\n",
      "                                    TQATask1                                    \n",
      "                                    --------                                    \n",
      "                          Start Datetime | Mon, 11 Nov 2024 04:26:09\n"
     ]
    },
    {
     "name": "stderr",
     "output_type": "stream",
     "text": [
      "                                                                                \r"
     ]
    },
    {
     "name": "stdout",
     "output_type": "stream",
     "text": [
      "                       Complete Datetime | Mon, 11 Nov 2024 04:27:59\n",
      "                                 Runtime | 1.0 minutes and 49.92 seconds\n",
      "\n",
      "\n",
      "                                    TQATask2                                    \n",
      "                                    --------                                    \n",
      "                          Start Datetime | Mon, 11 Nov 2024 04:27:59\n",
      "                       Complete Datetime | Mon, 11 Nov 2024 04:27:59\n",
      "                                 Runtime | 0.71 seconds\n",
      "\n",
      "\n",
      "                                    TQATask3                                    \n",
      "                                    --------                                    \n",
      "                          Start Datetime | Mon, 11 Nov 2024 04:27:59\n"
     ]
    },
    {
     "name": "stderr",
     "output_type": "stream",
     "text": [
      "                                                                                \r"
     ]
    },
    {
     "name": "stdout",
     "output_type": "stream",
     "text": [
      "                       Complete Datetime | Mon, 11 Nov 2024 04:35:15\n",
      "                                 Runtime | 7.0 minutes and 15.08 seconds\n"
     ]
    },
    {
     "name": "stderr",
     "output_type": "stream",
     "text": [
      "[Stage 26:====================================================>   (13 + 1) / 14]\r"
     ]
    },
    {
     "name": "stdout",
     "output_type": "stream",
     "text": [
      "\n",
      "\n",
      "                               Text Quality Stage                               \n",
      "                               ==================                               \n",
      "                           Stage Started | Mon, 11 Nov 2024 04:24:56\n",
      "                         Stage Completed | Mon, 11 Nov 2024 04:37:03\n",
      "                           Stage Runtime | 12.0 minutes and 6.57 seconds\n",
      "\n",
      "\n",
      "# ============================================================================ #\n",
      "\n"
     ]
    },
    {
     "name": "stderr",
     "output_type": "stream",
     "text": [
      "                                                                                \r"
     ]
    }
   ],
   "source": [
    "# Obtain the configuration\n",
    "stage_config = reader.get_stage_config(\n",
    "    phase=PhaseDef.DATAPREP, stage=DataPrepStageDef.TQA\n",
    ")\n",
    "\n",
    "# Build and run Data Ingestion Stage\n",
    "stage = TQAStage.build(stage_config=stage_config, force=FORCE)\n",
    "asset_id = stage.run()"
   ]
  },
  {
   "cell_type": "markdown",
   "metadata": {},
   "source": [
    "## Quantitative Enrichment\n",
    "This pipeline enriches the dataset by extracting and analyzing key features such as **review age**, **review length**, and three **temporal fields**—**month**, **day of the week**, and **hour of the day**. These features are designed to provide insights into user engagement patterns and app usage, supporting unmet needs discovery in the following ways:\n",
    "\n",
    "1. **Review Age**: Understanding how review content changes over time can help identify shifting user expectations and long-standing issues that may require attention. Analyzing review age trends can inform decisions on product updates and feature prioritization.\n",
    "\n",
    "2. **Review Length**: Longer reviews often contain richer, more detailed feedback. By evaluating review length, we can identify opportunities to address comprehensive user concerns or highlight areas where users have strong opinions or pain points.\n",
    "\n",
    "3. **Month**: Monthly trends can reveal **seasonal usage patterns**, indicating how user needs change throughout the year. This can inform strategies like seasonal feature releases, marketing campaigns, or resource allocation.\n",
    "\n",
    "4. **Day of the Week**: Analyzing reviews by the day of the week might uncover insights into **weekly routines** and how apps fit into users' schedules. For instance, productivity apps might show spikes on weekdays, while entertainment apps might peak on weekends, guiding feature development aligned with these usage patterns.\n",
    "\n",
    "5. **Hour of the Day**: Understanding when users are most active can provide clues about **contextual needs**. Apps with high engagement at night might suggest opportunities for sleep-related features, while those used during commutes may benefit from quick, on-the-go functionalities.\n",
    "\n",
    "Together, these metadata features enhance our understanding of app usage and user behavior, laying the foundation for identifying unmet needs and informing opportunity discovery."
   ]
  },
  {
   "cell_type": "code",
   "execution_count": null,
   "metadata": {},
   "outputs": [
    {
     "name": "stdout",
     "output_type": "stream",
     "text": [
      "\n",
      "\n",
      "# ============================================================================== #\n",
      "#                         Quantitative Enrichment Stage                          #\n",
      "# ============================================================================== #\n",
      "\n",
      "\n",
      "\n",
      "                              ComputeReviewAgeTask                              \n",
      "                              --------------------                              \n",
      "                          Start Datetime | Mon, 11 Nov 2024 04:37:47\n",
      "                       Complete Datetime | Mon, 11 Nov 2024 04:37:48\n",
      "                                 Runtime | 0.21 seconds\n",
      "\n",
      "\n",
      "                             ComputeReviewMonthTask                             \n",
      "                             ----------------------                             \n",
      "                          Start Datetime | Mon, 11 Nov 2024 04:37:48\n",
      "                       Complete Datetime | Mon, 11 Nov 2024 04:37:48\n",
      "                                 Runtime | 0.02 seconds\n",
      "\n",
      "\n",
      "                           ComputeReviewDayofWeekTask                           \n",
      "                           --------------------------                           \n",
      "                          Start Datetime | Mon, 11 Nov 2024 04:37:48\n",
      "                       Complete Datetime | Mon, 11 Nov 2024 04:37:48\n",
      "                                 Runtime | 0.02 seconds\n",
      "\n",
      "\n",
      "                             ComputeReviewHourTask                              \n",
      "                             ---------------------                              \n",
      "                          Start Datetime | Mon, 11 Nov 2024 04:37:48\n",
      "                       Complete Datetime | Mon, 11 Nov 2024 04:37:48\n",
      "                                 Runtime | 0.02 seconds\n",
      "\n",
      "\n",
      "                          ComputePercentDeviationTask                           \n",
      "                          ---------------------------                           \n",
      "                          Start Datetime | Mon, 11 Nov 2024 04:37:48\n",
      "                       Complete Datetime | Mon, 11 Nov 2024 04:37:48\n",
      "                                 Runtime | 0.13 seconds\n",
      "\n",
      "\n",
      "                          ComputePercentDeviationTask                           \n",
      "                          ---------------------------                           \n",
      "                          Start Datetime | Mon, 11 Nov 2024 04:37:48\n"
     ]
    },
    {
     "name": "stderr",
     "output_type": "stream",
     "text": [
      "[11/11/2024 04:37:48 AM] [ERROR] [ComputePercentDeviationTask.run] [wrapper] : Exception occurred in ComputePercentDeviationTask called with data=DataFrame[category: string, id: string, app_id: string, app_name: string, category_id: string, author: string, rating: smallint, content: string, vote_sum: bigint, vote_count: bigint, date: timestamp_ntz, review_length: bigint, sentiment: double, sentiment_classification: string, pos_n_nouns: int, pos_n_verbs: int, pos_n_adjectives: int, pos_n_adverbs: int, pos_n_determiners: int, pos_p_nouns: double, pos_p_verbs: double, pos_p_adjectives: double, pos_p_adverbs: double, pos_p_determiners: double, stats_char_count: int, stats_digits_count: int, stats_digits_proportion: double, stats_special_chars_count: int, stats_special_chars_proportion: double, stats_punctuation_count: int, stats_punctuation_proportion: double, stats_word_count: int, stats_unique_word_count: int, stats_unique_word_proportion: double, stats_word_repetition_ratio: double, stats_word_length_min: int, stats_word_length_max: int, stats_word_length_mean: double, stats_word_length_std: double, tqf_has_adjective: boolean, tqf_has_adverb: boolean, tqf_has_determiner: boolean, tqf_has_noun: boolean, tqf_has_terminal_punctuation: boolean, tqf_has_verb: boolean, tqf_high_special_chars_ratio: boolean, tqf_high_punctuation_ratio: boolean, tqf_word_count_range: boolean, tqf_stop_word_match: boolean, tqf_first_letter_cap: boolean, tqf_no_all_caps: boolean, tqf_high_word_repetition: boolean, tqf_no_special_chars: boolean, tqm_pos_count_score: double, tqm_pos_diversity_score: float, tqm_structural_complexity_score: float, tqm_pos_intensity_score: float, tqm_tqa_check_score: float, dqa_text_syntactic_score: double, dqa_text_perplexity_score: double, dqa_text_score: double, enr_review_age: int, enr_review_month: int, enr_review_day_of_week: int, enr_review_hour: int, enr_pct_deviation_rating: double]\n",
      "[UNRESOLVED_COLUMN.WITH_SUGGESTION] A column or function parameter with name `enr_review_length` cannot be resolved. Did you mean one of the following? [`enr_review_month`, `review_length`, `enr_review_age`, `enr_review_hour`, `enr_review_day_of_week`].;\n",
      "'Aggregate [category#3988], [category#3988, avg('enr_review_length) AS avg_value#4775]\n",
      "+- Project [category#3988, id#3928, app_id#3929, app_name#3930, category_id#3931, author#3932, rating#3933, content#3934, vote_sum#3935L, vote_count#3936L, date#3937, review_length#3938L, sentiment#3939, sentiment_classification#3940, pos_n_nouns#3941, pos_n_verbs#3942, pos_n_adjectives#3943, pos_n_adverbs#3944, pos_n_determiners#3945, pos_p_nouns#3946, pos_p_verbs#3947, pos_p_adjectives#3948, pos_p_adverbs#3949, pos_p_determiners#3950, ... 42 more fields]\n",
      "   +- Project [category#3988, id#3928, app_id#3929, app_name#3930, category_id#3931, author#3932, rating#3933, content#3934, vote_sum#3935L, vote_count#3936L, date#3937, review_length#3938L, sentiment#3939, sentiment_classification#3940, pos_n_nouns#3941, pos_n_verbs#3942, pos_n_adjectives#3943, pos_n_adverbs#3944, pos_n_determiners#3945, pos_p_nouns#3946, pos_p_verbs#3947, pos_p_adjectives#3948, pos_p_adverbs#3949, pos_p_determiners#3950, ... 43 more fields]\n",
      "      +- Project [category#3988, id#3928, app_id#3929, app_name#3930, category_id#3931, author#3932, rating#3933, content#3934, vote_sum#3935L, vote_count#3936L, date#3937, review_length#3938L, sentiment#3939, sentiment_classification#3940, pos_n_nouns#3941, pos_n_verbs#3942, pos_n_adjectives#3943, pos_n_adverbs#3944, pos_n_determiners#3945, pos_p_nouns#3946, pos_p_verbs#3947, pos_p_adjectives#3948, pos_p_adverbs#3949, pos_p_determiners#3950, ... 42 more fields]\n",
      "         +- Join LeftOuter, (category#3988 = category#4506)\n",
      "            :- Project [id#3928, app_id#3929, app_name#3930, category_id#3931, author#3932, rating#3933, content#3934, vote_sum#3935L, vote_count#3936L, date#3937, review_length#3938L, sentiment#3939, sentiment_classification#3940, pos_n_nouns#3941, pos_n_verbs#3942, pos_n_adjectives#3943, pos_n_adverbs#3944, pos_n_determiners#3945, pos_p_nouns#3946, pos_p_verbs#3947, pos_p_adjectives#3948, pos_p_adverbs#3949, pos_p_determiners#3950, stats_char_count#3951, ... 41 more fields]\n",
      "            :  +- Project [id#3928, app_id#3929, app_name#3930, category_id#3931, author#3932, rating#3933, content#3934, vote_sum#3935L, vote_count#3936L, date#3937, review_length#3938L, sentiment#3939, sentiment_classification#3940, pos_n_nouns#3941, pos_n_verbs#3942, pos_n_adjectives#3943, pos_n_adverbs#3944, pos_n_determiners#3945, pos_p_nouns#3946, pos_p_verbs#3947, pos_p_adjectives#3948, pos_p_adverbs#3949, pos_p_determiners#3950, stats_char_count#3951, ... 40 more fields]\n",
      "            :     +- Project [id#3928, app_id#3929, app_name#3930, category_id#3931, author#3932, rating#3933, content#3934, vote_sum#3935L, vote_count#3936L, date#3937, review_length#3938L, sentiment#3939, sentiment_classification#3940, pos_n_nouns#3941, pos_n_verbs#3942, pos_n_adjectives#3943, pos_n_adverbs#3944, pos_n_determiners#3945, pos_p_nouns#3946, pos_p_verbs#3947, pos_p_adjectives#3948, pos_p_adverbs#3949, pos_p_determiners#3950, stats_char_count#3951, ... 39 more fields]\n",
      "            :        +- Project [id#3928, app_id#3929, app_name#3930, category_id#3931, author#3932, rating#3933, content#3934, vote_sum#3935L, vote_count#3936L, date#3937, review_length#3938L, sentiment#3939, sentiment_classification#3940, pos_n_nouns#3941, pos_n_verbs#3942, pos_n_adjectives#3943, pos_n_adverbs#3944, pos_n_determiners#3945, pos_p_nouns#3946, pos_p_verbs#3947, pos_p_adjectives#3948, pos_p_adverbs#3949, pos_p_determiners#3950, stats_char_count#3951, ... 38 more fields]\n",
      "            :           +- Relation [id#3928,app_id#3929,app_name#3930,category_id#3931,author#3932,rating#3933,content#3934,vote_sum#3935L,vote_count#3936L,date#3937,review_length#3938L,sentiment#3939,sentiment_classification#3940,pos_n_nouns#3941,pos_n_verbs#3942,pos_n_adjectives#3943,pos_n_adverbs#3944,pos_n_determiners#3945,pos_p_nouns#3946,pos_p_verbs#3947,pos_p_adjectives#3948,pos_p_adverbs#3949,pos_p_determiners#3950,stats_char_count#3951,... 37 more fields] parquet\n",
      "            +- Aggregate [category#4506], [category#4506, avg(rating#4451) AS avg_value#4443]\n",
      "               +- Project [id#4446, app_id#4447, app_name#4448, category_id#4449, author#4450, rating#4451, content#4452, vote_sum#4453L, vote_count#4454L, date#4455, review_length#4456L, sentiment#4457, sentiment_classification#4458, pos_n_nouns#4459, pos_n_verbs#4460, pos_n_adjectives#4461, pos_n_adverbs#4462, pos_n_determiners#4463, pos_p_nouns#4464, pos_p_verbs#4465, pos_p_adjectives#4466, pos_p_adverbs#4467, pos_p_determiners#4468, stats_char_count#4469, ... 41 more fields]\n",
      "                  +- Project [id#4446, app_id#4447, app_name#4448, category_id#4449, author#4450, rating#4451, content#4452, vote_sum#4453L, vote_count#4454L, date#4455, review_length#4456L, sentiment#4457, sentiment_classification#4458, pos_n_nouns#4459, pos_n_verbs#4460, pos_n_adjectives#4461, pos_n_adverbs#4462, pos_n_determiners#4463, pos_p_nouns#4464, pos_p_verbs#4465, pos_p_adjectives#4466, pos_p_adverbs#4467, pos_p_determiners#4468, stats_char_count#4469, ... 40 more fields]\n",
      "                     +- Project [id#4446, app_id#4447, app_name#4448, category_id#4449, author#4450, rating#4451, content#4452, vote_sum#4453L, vote_count#4454L, date#4455, review_length#4456L, sentiment#4457, sentiment_classification#4458, pos_n_nouns#4459, pos_n_verbs#4460, pos_n_adjectives#4461, pos_n_adverbs#4462, pos_n_determiners#4463, pos_p_nouns#4464, pos_p_verbs#4465, pos_p_adjectives#4466, pos_p_adverbs#4467, pos_p_determiners#4468, stats_char_count#4469, ... 39 more fields]\n",
      "                        +- Project [id#4446, app_id#4447, app_name#4448, category_id#4449, author#4450, rating#4451, content#4452, vote_sum#4453L, vote_count#4454L, date#4455, review_length#4456L, sentiment#4457, sentiment_classification#4458, pos_n_nouns#4459, pos_n_verbs#4460, pos_n_adjectives#4461, pos_n_adverbs#4462, pos_n_determiners#4463, pos_p_nouns#4464, pos_p_verbs#4465, pos_p_adjectives#4466, pos_p_adverbs#4467, pos_p_determiners#4468, stats_char_count#4469, ... 38 more fields]\n",
      "                           +- Relation [id#4446,app_id#4447,app_name#4448,category_id#4449,author#4450,rating#4451,content#4452,vote_sum#4453L,vote_count#4454L,date#4455,review_length#4456L,sentiment#4457,sentiment_classification#4458,pos_n_nouns#4459,pos_n_verbs#4460,pos_n_adjectives#4461,pos_n_adverbs#4462,pos_n_determiners#4463,pos_p_nouns#4464,pos_p_verbs#4465,pos_p_adjectives#4466,pos_p_adverbs#4467,pos_p_determiners#4468,stats_char_count#4469,... 37 more fields] parquet\n",
      "Traceback (most recent call last):\n",
      "  File \"/home/john/projects/appvocai-discover/discover/infra/service/logging/task.py\", line 57, in wrapper\n",
      "    result = func(self, *args, **kwargs)\n",
      "  File \"/home/john/projects/appvocai-discover/discover/flow/data_prep/quant/task.py\", line 238, in run\n",
      "    avg_values = data.groupBy(self._by).agg(F.avg(self._column).alias(\"avg_value\"))\n",
      "  File \"/home/john/miniconda3/envs/appvocai/lib/python3.10/site-packages/pyspark/sql/group.py\", line 186, in agg\n",
      "    jdf = self._jgd.agg(exprs[0]._jc, _to_seq(self.session._sc, [c._jc for c in exprs[1:]]))\n",
      "  File \"/home/john/miniconda3/envs/appvocai/lib/python3.10/site-packages/py4j/java_gateway.py\", line 1322, in __call__\n",
      "    return_value = get_return_value(\n",
      "  File \"/home/john/miniconda3/envs/appvocai/lib/python3.10/site-packages/pyspark/errors/exceptions/captured.py\", line 185, in deco\n",
      "    raise converted from None\n",
      "pyspark.errors.exceptions.captured.AnalysisException: [UNRESOLVED_COLUMN.WITH_SUGGESTION] A column or function parameter with name `enr_review_length` cannot be resolved. Did you mean one of the following? [`enr_review_month`, `review_length`, `enr_review_age`, `enr_review_hour`, `enr_review_day_of_week`].;\n",
      "'Aggregate [category#3988], [category#3988, avg('enr_review_length) AS avg_value#4775]\n",
      "+- Project [category#3988, id#3928, app_id#3929, app_name#3930, category_id#3931, author#3932, rating#3933, content#3934, vote_sum#3935L, vote_count#3936L, date#3937, review_length#3938L, sentiment#3939, sentiment_classification#3940, pos_n_nouns#3941, pos_n_verbs#3942, pos_n_adjectives#3943, pos_n_adverbs#3944, pos_n_determiners#3945, pos_p_nouns#3946, pos_p_verbs#3947, pos_p_adjectives#3948, pos_p_adverbs#3949, pos_p_determiners#3950, ... 42 more fields]\n",
      "   +- Project [category#3988, id#3928, app_id#3929, app_name#3930, category_id#3931, author#3932, rating#3933, content#3934, vote_sum#3935L, vote_count#3936L, date#3937, review_length#3938L, sentiment#3939, sentiment_classification#3940, pos_n_nouns#3941, pos_n_verbs#3942, pos_n_adjectives#3943, pos_n_adverbs#3944, pos_n_determiners#3945, pos_p_nouns#3946, pos_p_verbs#3947, pos_p_adjectives#3948, pos_p_adverbs#3949, pos_p_determiners#3950, ... 43 more fields]\n",
      "      +- Project [category#3988, id#3928, app_id#3929, app_name#3930, category_id#3931, author#3932, rating#3933, content#3934, vote_sum#3935L, vote_count#3936L, date#3937, review_length#3938L, sentiment#3939, sentiment_classification#3940, pos_n_nouns#3941, pos_n_verbs#3942, pos_n_adjectives#3943, pos_n_adverbs#3944, pos_n_determiners#3945, pos_p_nouns#3946, pos_p_verbs#3947, pos_p_adjectives#3948, pos_p_adverbs#3949, pos_p_determiners#3950, ... 42 more fields]\n",
      "         +- Join LeftOuter, (category#3988 = category#4506)\n",
      "            :- Project [id#3928, app_id#3929, app_name#3930, category_id#3931, author#3932, rating#3933, content#3934, vote_sum#3935L, vote_count#3936L, date#3937, review_length#3938L, sentiment#3939, sentiment_classification#3940, pos_n_nouns#3941, pos_n_verbs#3942, pos_n_adjectives#3943, pos_n_adverbs#3944, pos_n_determiners#3945, pos_p_nouns#3946, pos_p_verbs#3947, pos_p_adjectives#3948, pos_p_adverbs#3949, pos_p_determiners#3950, stats_char_count#3951, ... 41 more fields]\n",
      "            :  +- Project [id#3928, app_id#3929, app_name#3930, category_id#3931, author#3932, rating#3933, content#3934, vote_sum#3935L, vote_count#3936L, date#3937, review_length#3938L, sentiment#3939, sentiment_classification#3940, pos_n_nouns#3941, pos_n_verbs#3942, pos_n_adjectives#3943, pos_n_adverbs#3944, pos_n_determiners#3945, pos_p_nouns#3946, pos_p_verbs#3947, pos_p_adjectives#3948, pos_p_adverbs#3949, pos_p_determiners#3950, stats_char_count#3951, ... 40 more fields]\n",
      "            :     +- Project [id#3928, app_id#3929, app_name#3930, category_id#3931, author#3932, rating#3933, content#3934, vote_sum#3935L, vote_count#3936L, date#3937, review_length#3938L, sentiment#3939, sentiment_classification#3940, pos_n_nouns#3941, pos_n_verbs#3942, pos_n_adjectives#3943, pos_n_adverbs#3944, pos_n_determiners#3945, pos_p_nouns#3946, pos_p_verbs#3947, pos_p_adjectives#3948, pos_p_adverbs#3949, pos_p_determiners#3950, stats_char_count#3951, ... 39 more fields]\n",
      "            :        +- Project [id#3928, app_id#3929, app_name#3930, category_id#3931, author#3932, rating#3933, content#3934, vote_sum#3935L, vote_count#3936L, date#3937, review_length#3938L, sentiment#3939, sentiment_classification#3940, pos_n_nouns#3941, pos_n_verbs#3942, pos_n_adjectives#3943, pos_n_adverbs#3944, pos_n_determiners#3945, pos_p_nouns#3946, pos_p_verbs#3947, pos_p_adjectives#3948, pos_p_adverbs#3949, pos_p_determiners#3950, stats_char_count#3951, ... 38 more fields]\n",
      "            :           +- Relation [id#3928,app_id#3929,app_name#3930,category_id#3931,author#3932,rating#3933,content#3934,vote_sum#3935L,vote_count#3936L,date#3937,review_length#3938L,sentiment#3939,sentiment_classification#3940,pos_n_nouns#3941,pos_n_verbs#3942,pos_n_adjectives#3943,pos_n_adverbs#3944,pos_n_determiners#3945,pos_p_nouns#3946,pos_p_verbs#3947,pos_p_adjectives#3948,pos_p_adverbs#3949,pos_p_determiners#3950,stats_char_count#3951,... 37 more fields] parquet\n",
      "            +- Aggregate [category#4506], [category#4506, avg(rating#4451) AS avg_value#4443]\n",
      "               +- Project [id#4446, app_id#4447, app_name#4448, category_id#4449, author#4450, rating#4451, content#4452, vote_sum#4453L, vote_count#4454L, date#4455, review_length#4456L, sentiment#4457, sentiment_classification#4458, pos_n_nouns#4459, pos_n_verbs#4460, pos_n_adjectives#4461, pos_n_adverbs#4462, pos_n_determiners#4463, pos_p_nouns#4464, pos_p_verbs#4465, pos_p_adjectives#4466, pos_p_adverbs#4467, pos_p_determiners#4468, stats_char_count#4469, ... 41 more fields]\n",
      "                  +- Project [id#4446, app_id#4447, app_name#4448, category_id#4449, author#4450, rating#4451, content#4452, vote_sum#4453L, vote_count#4454L, date#4455, review_length#4456L, sentiment#4457, sentiment_classification#4458, pos_n_nouns#4459, pos_n_verbs#4460, pos_n_adjectives#4461, pos_n_adverbs#4462, pos_n_determiners#4463, pos_p_nouns#4464, pos_p_verbs#4465, pos_p_adjectives#4466, pos_p_adverbs#4467, pos_p_determiners#4468, stats_char_count#4469, ... 40 more fields]\n",
      "                     +- Project [id#4446, app_id#4447, app_name#4448, category_id#4449, author#4450, rating#4451, content#4452, vote_sum#4453L, vote_count#4454L, date#4455, review_length#4456L, sentiment#4457, sentiment_classification#4458, pos_n_nouns#4459, pos_n_verbs#4460, pos_n_adjectives#4461, pos_n_adverbs#4462, pos_n_determiners#4463, pos_p_nouns#4464, pos_p_verbs#4465, pos_p_adjectives#4466, pos_p_adverbs#4467, pos_p_determiners#4468, stats_char_count#4469, ... 39 more fields]\n",
      "                        +- Project [id#4446, app_id#4447, app_name#4448, category_id#4449, author#4450, rating#4451, content#4452, vote_sum#4453L, vote_count#4454L, date#4455, review_length#4456L, sentiment#4457, sentiment_classification#4458, pos_n_nouns#4459, pos_n_verbs#4460, pos_n_adjectives#4461, pos_n_adverbs#4462, pos_n_determiners#4463, pos_p_nouns#4464, pos_p_verbs#4465, pos_p_adjectives#4466, pos_p_adverbs#4467, pos_p_determiners#4468, stats_char_count#4469, ... 38 more fields]\n",
      "                           +- Relation [id#4446,app_id#4447,app_name#4448,category_id#4449,author#4450,rating#4451,content#4452,vote_sum#4453L,vote_count#4454L,date#4455,review_length#4456L,sentiment#4457,sentiment_classification#4458,pos_n_nouns#4459,pos_n_verbs#4460,pos_n_adjectives#4461,pos_n_adverbs#4462,pos_n_determiners#4463,pos_p_nouns#4464,pos_p_verbs#4465,pos_p_adjectives#4466,pos_p_adverbs#4467,pos_p_determiners#4468,stats_char_count#4469,... 37 more fields] parquet\n",
      "\n",
      "[11/11/2024 04:37:48 AM] [ERROR] [DataPrepStage.run] [wrapper] : Exception occurred in DataPrepStage.run called with \n",
      "[UNRESOLVED_COLUMN.WITH_SUGGESTION] A column or function parameter with name `enr_review_length` cannot be resolved. Did you mean one of the following? [`enr_review_month`, `review_length`, `enr_review_age`, `enr_review_hour`, `enr_review_day_of_week`].;\n",
      "'Aggregate [category#3988], [category#3988, avg('enr_review_length) AS avg_value#4775]\n",
      "+- Project [category#3988, id#3928, app_id#3929, app_name#3930, category_id#3931, author#3932, rating#3933, content#3934, vote_sum#3935L, vote_count#3936L, date#3937, review_length#3938L, sentiment#3939, sentiment_classification#3940, pos_n_nouns#3941, pos_n_verbs#3942, pos_n_adjectives#3943, pos_n_adverbs#3944, pos_n_determiners#3945, pos_p_nouns#3946, pos_p_verbs#3947, pos_p_adjectives#3948, pos_p_adverbs#3949, pos_p_determiners#3950, ... 42 more fields]\n",
      "   +- Project [category#3988, id#3928, app_id#3929, app_name#3930, category_id#3931, author#3932, rating#3933, content#3934, vote_sum#3935L, vote_count#3936L, date#3937, review_length#3938L, sentiment#3939, sentiment_classification#3940, pos_n_nouns#3941, pos_n_verbs#3942, pos_n_adjectives#3943, pos_n_adverbs#3944, pos_n_determiners#3945, pos_p_nouns#3946, pos_p_verbs#3947, pos_p_adjectives#3948, pos_p_adverbs#3949, pos_p_determiners#3950, ... 43 more fields]\n",
      "      +- Project [category#3988, id#3928, app_id#3929, app_name#3930, category_id#3931, author#3932, rating#3933, content#3934, vote_sum#3935L, vote_count#3936L, date#3937, review_length#3938L, sentiment#3939, sentiment_classification#3940, pos_n_nouns#3941, pos_n_verbs#3942, pos_n_adjectives#3943, pos_n_adverbs#3944, pos_n_determiners#3945, pos_p_nouns#3946, pos_p_verbs#3947, pos_p_adjectives#3948, pos_p_adverbs#3949, pos_p_determiners#3950, ... 42 more fields]\n",
      "         +- Join LeftOuter, (category#3988 = category#4506)\n",
      "            :- Project [id#3928, app_id#3929, app_name#3930, category_id#3931, author#3932, rating#3933, content#3934, vote_sum#3935L, vote_count#3936L, date#3937, review_length#3938L, sentiment#3939, sentiment_classification#3940, pos_n_nouns#3941, pos_n_verbs#3942, pos_n_adjectives#3943, pos_n_adverbs#3944, pos_n_determiners#3945, pos_p_nouns#3946, pos_p_verbs#3947, pos_p_adjectives#3948, pos_p_adverbs#3949, pos_p_determiners#3950, stats_char_count#3951, ... 41 more fields]\n",
      "            :  +- Project [id#3928, app_id#3929, app_name#3930, category_id#3931, author#3932, rating#3933, content#3934, vote_sum#3935L, vote_count#3936L, date#3937, review_length#3938L, sentiment#3939, sentiment_classification#3940, pos_n_nouns#3941, pos_n_verbs#3942, pos_n_adjectives#3943, pos_n_adverbs#3944, pos_n_determiners#3945, pos_p_nouns#3946, pos_p_verbs#3947, pos_p_adjectives#3948, pos_p_adverbs#3949, pos_p_determiners#3950, stats_char_count#3951, ... 40 more fields]\n",
      "            :     +- Project [id#3928, app_id#3929, app_name#3930, category_id#3931, author#3932, rating#3933, content#3934, vote_sum#3935L, vote_count#3936L, date#3937, review_length#3938L, sentiment#3939, sentiment_classification#3940, pos_n_nouns#3941, pos_n_verbs#3942, pos_n_adjectives#3943, pos_n_adverbs#3944, pos_n_determiners#3945, pos_p_nouns#3946, pos_p_verbs#3947, pos_p_adjectives#3948, pos_p_adverbs#3949, pos_p_determiners#3950, stats_char_count#3951, ... 39 more fields]\n",
      "            :        +- Project [id#3928, app_id#3929, app_name#3930, category_id#3931, author#3932, rating#3933, content#3934, vote_sum#3935L, vote_count#3936L, date#3937, review_length#3938L, sentiment#3939, sentiment_classification#3940, pos_n_nouns#3941, pos_n_verbs#3942, pos_n_adjectives#3943, pos_n_adverbs#3944, pos_n_determiners#3945, pos_p_nouns#3946, pos_p_verbs#3947, pos_p_adjectives#3948, pos_p_adverbs#3949, pos_p_determiners#3950, stats_char_count#3951, ... 38 more fields]\n",
      "            :           +- Relation [id#3928,app_id#3929,app_name#3930,category_id#3931,author#3932,rating#3933,content#3934,vote_sum#3935L,vote_count#3936L,date#3937,review_length#3938L,sentiment#3939,sentiment_classification#3940,pos_n_nouns#3941,pos_n_verbs#3942,pos_n_adjectives#3943,pos_n_adverbs#3944,pos_n_determiners#3945,pos_p_nouns#3946,pos_p_verbs#3947,pos_p_adjectives#3948,pos_p_adverbs#3949,pos_p_determiners#3950,stats_char_count#3951,... 37 more fields] parquet\n",
      "            +- Aggregate [category#4506], [category#4506, avg(rating#4451) AS avg_value#4443]\n",
      "               +- Project [id#4446, app_id#4447, app_name#4448, category_id#4449, author#4450, rating#4451, content#4452, vote_sum#4453L, vote_count#4454L, date#4455, review_length#4456L, sentiment#4457, sentiment_classification#4458, pos_n_nouns#4459, pos_n_verbs#4460, pos_n_adjectives#4461, pos_n_adverbs#4462, pos_n_determiners#4463, pos_p_nouns#4464, pos_p_verbs#4465, pos_p_adjectives#4466, pos_p_adverbs#4467, pos_p_determiners#4468, stats_char_count#4469, ... 41 more fields]\n",
      "                  +- Project [id#4446, app_id#4447, app_name#4448, category_id#4449, author#4450, rating#4451, content#4452, vote_sum#4453L, vote_count#4454L, date#4455, review_length#4456L, sentiment#4457, sentiment_classification#4458, pos_n_nouns#4459, pos_n_verbs#4460, pos_n_adjectives#4461, pos_n_adverbs#4462, pos_n_determiners#4463, pos_p_nouns#4464, pos_p_verbs#4465, pos_p_adjectives#4466, pos_p_adverbs#4467, pos_p_determiners#4468, stats_char_count#4469, ... 40 more fields]\n",
      "                     +- Project [id#4446, app_id#4447, app_name#4448, category_id#4449, author#4450, rating#4451, content#4452, vote_sum#4453L, vote_count#4454L, date#4455, review_length#4456L, sentiment#4457, sentiment_classification#4458, pos_n_nouns#4459, pos_n_verbs#4460, pos_n_adjectives#4461, pos_n_adverbs#4462, pos_n_determiners#4463, pos_p_nouns#4464, pos_p_verbs#4465, pos_p_adjectives#4466, pos_p_adverbs#4467, pos_p_determiners#4468, stats_char_count#4469, ... 39 more fields]\n",
      "                        +- Project [id#4446, app_id#4447, app_name#4448, category_id#4449, author#4450, rating#4451, content#4452, vote_sum#4453L, vote_count#4454L, date#4455, review_length#4456L, sentiment#4457, sentiment_classification#4458, pos_n_nouns#4459, pos_n_verbs#4460, pos_n_adjectives#4461, pos_n_adverbs#4462, pos_n_determiners#4463, pos_p_nouns#4464, pos_p_verbs#4465, pos_p_adjectives#4466, pos_p_adverbs#4467, pos_p_determiners#4468, stats_char_count#4469, ... 38 more fields]\n",
      "                           +- Relation [id#4446,app_id#4447,app_name#4448,category_id#4449,author#4450,rating#4451,content#4452,vote_sum#4453L,vote_count#4454L,date#4455,review_length#4456L,sentiment#4457,sentiment_classification#4458,pos_n_nouns#4459,pos_n_verbs#4460,pos_n_adjectives#4461,pos_n_adverbs#4462,pos_n_determiners#4463,pos_p_nouns#4464,pos_p_verbs#4465,pos_p_adjectives#4466,pos_p_adverbs#4467,pos_p_determiners#4468,stats_char_count#4469,... 37 more fields] parquet\n",
      "Traceback (most recent call last):\n",
      "  File \"/home/john/projects/appvocai-discover/discover/infra/service/logging/stage.py\", line 49, in wrapper\n",
      "    result = func(self, *args, **kwargs)\n",
      "  File \"/home/john/projects/appvocai-discover/discover/flow/data_prep/stage.py\", line 163, in run\n",
      "    data = task.run(data=data)\n",
      "  File \"/home/john/projects/appvocai-discover/discover/infra/service/logging/task.py\", line 57, in wrapper\n",
      "    result = func(self, *args, **kwargs)\n",
      "  File \"/home/john/projects/appvocai-discover/discover/flow/data_prep/quant/task.py\", line 238, in run\n",
      "    avg_values = data.groupBy(self._by).agg(F.avg(self._column).alias(\"avg_value\"))\n",
      "  File \"/home/john/miniconda3/envs/appvocai/lib/python3.10/site-packages/pyspark/sql/group.py\", line 186, in agg\n",
      "    jdf = self._jgd.agg(exprs[0]._jc, _to_seq(self.session._sc, [c._jc for c in exprs[1:]]))\n",
      "  File \"/home/john/miniconda3/envs/appvocai/lib/python3.10/site-packages/py4j/java_gateway.py\", line 1322, in __call__\n",
      "    return_value = get_return_value(\n",
      "  File \"/home/john/miniconda3/envs/appvocai/lib/python3.10/site-packages/pyspark/errors/exceptions/captured.py\", line 185, in deco\n",
      "    raise converted from None\n",
      "pyspark.errors.exceptions.captured.AnalysisException: [UNRESOLVED_COLUMN.WITH_SUGGESTION] A column or function parameter with name `enr_review_length` cannot be resolved. Did you mean one of the following? [`enr_review_month`, `review_length`, `enr_review_age`, `enr_review_hour`, `enr_review_day_of_week`].;\n",
      "'Aggregate [category#3988], [category#3988, avg('enr_review_length) AS avg_value#4775]\n",
      "+- Project [category#3988, id#3928, app_id#3929, app_name#3930, category_id#3931, author#3932, rating#3933, content#3934, vote_sum#3935L, vote_count#3936L, date#3937, review_length#3938L, sentiment#3939, sentiment_classification#3940, pos_n_nouns#3941, pos_n_verbs#3942, pos_n_adjectives#3943, pos_n_adverbs#3944, pos_n_determiners#3945, pos_p_nouns#3946, pos_p_verbs#3947, pos_p_adjectives#3948, pos_p_adverbs#3949, pos_p_determiners#3950, ... 42 more fields]\n",
      "   +- Project [category#3988, id#3928, app_id#3929, app_name#3930, category_id#3931, author#3932, rating#3933, content#3934, vote_sum#3935L, vote_count#3936L, date#3937, review_length#3938L, sentiment#3939, sentiment_classification#3940, pos_n_nouns#3941, pos_n_verbs#3942, pos_n_adjectives#3943, pos_n_adverbs#3944, pos_n_determiners#3945, pos_p_nouns#3946, pos_p_verbs#3947, pos_p_adjectives#3948, pos_p_adverbs#3949, pos_p_determiners#3950, ... 43 more fields]\n",
      "      +- Project [category#3988, id#3928, app_id#3929, app_name#3930, category_id#3931, author#3932, rating#3933, content#3934, vote_sum#3935L, vote_count#3936L, date#3937, review_length#3938L, sentiment#3939, sentiment_classification#3940, pos_n_nouns#3941, pos_n_verbs#3942, pos_n_adjectives#3943, pos_n_adverbs#3944, pos_n_determiners#3945, pos_p_nouns#3946, pos_p_verbs#3947, pos_p_adjectives#3948, pos_p_adverbs#3949, pos_p_determiners#3950, ... 42 more fields]\n",
      "         +- Join LeftOuter, (category#3988 = category#4506)\n",
      "            :- Project [id#3928, app_id#3929, app_name#3930, category_id#3931, author#3932, rating#3933, content#3934, vote_sum#3935L, vote_count#3936L, date#3937, review_length#3938L, sentiment#3939, sentiment_classification#3940, pos_n_nouns#3941, pos_n_verbs#3942, pos_n_adjectives#3943, pos_n_adverbs#3944, pos_n_determiners#3945, pos_p_nouns#3946, pos_p_verbs#3947, pos_p_adjectives#3948, pos_p_adverbs#3949, pos_p_determiners#3950, stats_char_count#3951, ... 41 more fields]\n",
      "            :  +- Project [id#3928, app_id#3929, app_name#3930, category_id#3931, author#3932, rating#3933, content#3934, vote_sum#3935L, vote_count#3936L, date#3937, review_length#3938L, sentiment#3939, sentiment_classification#3940, pos_n_nouns#3941, pos_n_verbs#3942, pos_n_adjectives#3943, pos_n_adverbs#3944, pos_n_determiners#3945, pos_p_nouns#3946, pos_p_verbs#3947, pos_p_adjectives#3948, pos_p_adverbs#3949, pos_p_determiners#3950, stats_char_count#3951, ... 40 more fields]\n",
      "            :     +- Project [id#3928, app_id#3929, app_name#3930, category_id#3931, author#3932, rating#3933, content#3934, vote_sum#3935L, vote_count#3936L, date#3937, review_length#3938L, sentiment#3939, sentiment_classification#3940, pos_n_nouns#3941, pos_n_verbs#3942, pos_n_adjectives#3943, pos_n_adverbs#3944, pos_n_determiners#3945, pos_p_nouns#3946, pos_p_verbs#3947, pos_p_adjectives#3948, pos_p_adverbs#3949, pos_p_determiners#3950, stats_char_count#3951, ... 39 more fields]\n",
      "            :        +- Project [id#3928, app_id#3929, app_name#3930, category_id#3931, author#3932, rating#3933, content#3934, vote_sum#3935L, vote_count#3936L, date#3937, review_length#3938L, sentiment#3939, sentiment_classification#3940, pos_n_nouns#3941, pos_n_verbs#3942, pos_n_adjectives#3943, pos_n_adverbs#3944, pos_n_determiners#3945, pos_p_nouns#3946, pos_p_verbs#3947, pos_p_adjectives#3948, pos_p_adverbs#3949, pos_p_determiners#3950, stats_char_count#3951, ... 38 more fields]\n",
      "            :           +- Relation [id#3928,app_id#3929,app_name#3930,category_id#3931,author#3932,rating#3933,content#3934,vote_sum#3935L,vote_count#3936L,date#3937,review_length#3938L,sentiment#3939,sentiment_classification#3940,pos_n_nouns#3941,pos_n_verbs#3942,pos_n_adjectives#3943,pos_n_adverbs#3944,pos_n_determiners#3945,pos_p_nouns#3946,pos_p_verbs#3947,pos_p_adjectives#3948,pos_p_adverbs#3949,pos_p_determiners#3950,stats_char_count#3951,... 37 more fields] parquet\n",
      "            +- Aggregate [category#4506], [category#4506, avg(rating#4451) AS avg_value#4443]\n",
      "               +- Project [id#4446, app_id#4447, app_name#4448, category_id#4449, author#4450, rating#4451, content#4452, vote_sum#4453L, vote_count#4454L, date#4455, review_length#4456L, sentiment#4457, sentiment_classification#4458, pos_n_nouns#4459, pos_n_verbs#4460, pos_n_adjectives#4461, pos_n_adverbs#4462, pos_n_determiners#4463, pos_p_nouns#4464, pos_p_verbs#4465, pos_p_adjectives#4466, pos_p_adverbs#4467, pos_p_determiners#4468, stats_char_count#4469, ... 41 more fields]\n",
      "                  +- Project [id#4446, app_id#4447, app_name#4448, category_id#4449, author#4450, rating#4451, content#4452, vote_sum#4453L, vote_count#4454L, date#4455, review_length#4456L, sentiment#4457, sentiment_classification#4458, pos_n_nouns#4459, pos_n_verbs#4460, pos_n_adjectives#4461, pos_n_adverbs#4462, pos_n_determiners#4463, pos_p_nouns#4464, pos_p_verbs#4465, pos_p_adjectives#4466, pos_p_adverbs#4467, pos_p_determiners#4468, stats_char_count#4469, ... 40 more fields]\n",
      "                     +- Project [id#4446, app_id#4447, app_name#4448, category_id#4449, author#4450, rating#4451, content#4452, vote_sum#4453L, vote_count#4454L, date#4455, review_length#4456L, sentiment#4457, sentiment_classification#4458, pos_n_nouns#4459, pos_n_verbs#4460, pos_n_adjectives#4461, pos_n_adverbs#4462, pos_n_determiners#4463, pos_p_nouns#4464, pos_p_verbs#4465, pos_p_adjectives#4466, pos_p_adverbs#4467, pos_p_determiners#4468, stats_char_count#4469, ... 39 more fields]\n",
      "                        +- Project [id#4446, app_id#4447, app_name#4448, category_id#4449, author#4450, rating#4451, content#4452, vote_sum#4453L, vote_count#4454L, date#4455, review_length#4456L, sentiment#4457, sentiment_classification#4458, pos_n_nouns#4459, pos_n_verbs#4460, pos_n_adjectives#4461, pos_n_adverbs#4462, pos_n_determiners#4463, pos_p_nouns#4464, pos_p_verbs#4465, pos_p_adjectives#4466, pos_p_adverbs#4467, pos_p_determiners#4468, stats_char_count#4469, ... 38 more fields]\n",
      "                           +- Relation [id#4446,app_id#4447,app_name#4448,category_id#4449,author#4450,rating#4451,content#4452,vote_sum#4453L,vote_count#4454L,date#4455,review_length#4456L,sentiment#4457,sentiment_classification#4458,pos_n_nouns#4459,pos_n_verbs#4460,pos_n_adjectives#4461,pos_n_adverbs#4462,pos_n_determiners#4463,pos_p_nouns#4464,pos_p_verbs#4465,pos_p_adjectives#4466,pos_p_adverbs#4467,pos_p_determiners#4468,stats_char_count#4469,... 37 more fields] parquet\n",
      "\n"
     ]
    },
    {
     "ename": "AnalysisException",
     "evalue": "[UNRESOLVED_COLUMN.WITH_SUGGESTION] A column or function parameter with name `enr_review_length` cannot be resolved. Did you mean one of the following? [`enr_review_month`, `review_length`, `enr_review_age`, `enr_review_hour`, `enr_review_day_of_week`].;\n'Aggregate [category#3988], [category#3988, avg('enr_review_length) AS avg_value#4775]\n+- Project [category#3988, id#3928, app_id#3929, app_name#3930, category_id#3931, author#3932, rating#3933, content#3934, vote_sum#3935L, vote_count#3936L, date#3937, review_length#3938L, sentiment#3939, sentiment_classification#3940, pos_n_nouns#3941, pos_n_verbs#3942, pos_n_adjectives#3943, pos_n_adverbs#3944, pos_n_determiners#3945, pos_p_nouns#3946, pos_p_verbs#3947, pos_p_adjectives#3948, pos_p_adverbs#3949, pos_p_determiners#3950, ... 42 more fields]\n   +- Project [category#3988, id#3928, app_id#3929, app_name#3930, category_id#3931, author#3932, rating#3933, content#3934, vote_sum#3935L, vote_count#3936L, date#3937, review_length#3938L, sentiment#3939, sentiment_classification#3940, pos_n_nouns#3941, pos_n_verbs#3942, pos_n_adjectives#3943, pos_n_adverbs#3944, pos_n_determiners#3945, pos_p_nouns#3946, pos_p_verbs#3947, pos_p_adjectives#3948, pos_p_adverbs#3949, pos_p_determiners#3950, ... 43 more fields]\n      +- Project [category#3988, id#3928, app_id#3929, app_name#3930, category_id#3931, author#3932, rating#3933, content#3934, vote_sum#3935L, vote_count#3936L, date#3937, review_length#3938L, sentiment#3939, sentiment_classification#3940, pos_n_nouns#3941, pos_n_verbs#3942, pos_n_adjectives#3943, pos_n_adverbs#3944, pos_n_determiners#3945, pos_p_nouns#3946, pos_p_verbs#3947, pos_p_adjectives#3948, pos_p_adverbs#3949, pos_p_determiners#3950, ... 42 more fields]\n         +- Join LeftOuter, (category#3988 = category#4506)\n            :- Project [id#3928, app_id#3929, app_name#3930, category_id#3931, author#3932, rating#3933, content#3934, vote_sum#3935L, vote_count#3936L, date#3937, review_length#3938L, sentiment#3939, sentiment_classification#3940, pos_n_nouns#3941, pos_n_verbs#3942, pos_n_adjectives#3943, pos_n_adverbs#3944, pos_n_determiners#3945, pos_p_nouns#3946, pos_p_verbs#3947, pos_p_adjectives#3948, pos_p_adverbs#3949, pos_p_determiners#3950, stats_char_count#3951, ... 41 more fields]\n            :  +- Project [id#3928, app_id#3929, app_name#3930, category_id#3931, author#3932, rating#3933, content#3934, vote_sum#3935L, vote_count#3936L, date#3937, review_length#3938L, sentiment#3939, sentiment_classification#3940, pos_n_nouns#3941, pos_n_verbs#3942, pos_n_adjectives#3943, pos_n_adverbs#3944, pos_n_determiners#3945, pos_p_nouns#3946, pos_p_verbs#3947, pos_p_adjectives#3948, pos_p_adverbs#3949, pos_p_determiners#3950, stats_char_count#3951, ... 40 more fields]\n            :     +- Project [id#3928, app_id#3929, app_name#3930, category_id#3931, author#3932, rating#3933, content#3934, vote_sum#3935L, vote_count#3936L, date#3937, review_length#3938L, sentiment#3939, sentiment_classification#3940, pos_n_nouns#3941, pos_n_verbs#3942, pos_n_adjectives#3943, pos_n_adverbs#3944, pos_n_determiners#3945, pos_p_nouns#3946, pos_p_verbs#3947, pos_p_adjectives#3948, pos_p_adverbs#3949, pos_p_determiners#3950, stats_char_count#3951, ... 39 more fields]\n            :        +- Project [id#3928, app_id#3929, app_name#3930, category_id#3931, author#3932, rating#3933, content#3934, vote_sum#3935L, vote_count#3936L, date#3937, review_length#3938L, sentiment#3939, sentiment_classification#3940, pos_n_nouns#3941, pos_n_verbs#3942, pos_n_adjectives#3943, pos_n_adverbs#3944, pos_n_determiners#3945, pos_p_nouns#3946, pos_p_verbs#3947, pos_p_adjectives#3948, pos_p_adverbs#3949, pos_p_determiners#3950, stats_char_count#3951, ... 38 more fields]\n            :           +- Relation [id#3928,app_id#3929,app_name#3930,category_id#3931,author#3932,rating#3933,content#3934,vote_sum#3935L,vote_count#3936L,date#3937,review_length#3938L,sentiment#3939,sentiment_classification#3940,pos_n_nouns#3941,pos_n_verbs#3942,pos_n_adjectives#3943,pos_n_adverbs#3944,pos_n_determiners#3945,pos_p_nouns#3946,pos_p_verbs#3947,pos_p_adjectives#3948,pos_p_adverbs#3949,pos_p_determiners#3950,stats_char_count#3951,... 37 more fields] parquet\n            +- Aggregate [category#4506], [category#4506, avg(rating#4451) AS avg_value#4443]\n               +- Project [id#4446, app_id#4447, app_name#4448, category_id#4449, author#4450, rating#4451, content#4452, vote_sum#4453L, vote_count#4454L, date#4455, review_length#4456L, sentiment#4457, sentiment_classification#4458, pos_n_nouns#4459, pos_n_verbs#4460, pos_n_adjectives#4461, pos_n_adverbs#4462, pos_n_determiners#4463, pos_p_nouns#4464, pos_p_verbs#4465, pos_p_adjectives#4466, pos_p_adverbs#4467, pos_p_determiners#4468, stats_char_count#4469, ... 41 more fields]\n                  +- Project [id#4446, app_id#4447, app_name#4448, category_id#4449, author#4450, rating#4451, content#4452, vote_sum#4453L, vote_count#4454L, date#4455, review_length#4456L, sentiment#4457, sentiment_classification#4458, pos_n_nouns#4459, pos_n_verbs#4460, pos_n_adjectives#4461, pos_n_adverbs#4462, pos_n_determiners#4463, pos_p_nouns#4464, pos_p_verbs#4465, pos_p_adjectives#4466, pos_p_adverbs#4467, pos_p_determiners#4468, stats_char_count#4469, ... 40 more fields]\n                     +- Project [id#4446, app_id#4447, app_name#4448, category_id#4449, author#4450, rating#4451, content#4452, vote_sum#4453L, vote_count#4454L, date#4455, review_length#4456L, sentiment#4457, sentiment_classification#4458, pos_n_nouns#4459, pos_n_verbs#4460, pos_n_adjectives#4461, pos_n_adverbs#4462, pos_n_determiners#4463, pos_p_nouns#4464, pos_p_verbs#4465, pos_p_adjectives#4466, pos_p_adverbs#4467, pos_p_determiners#4468, stats_char_count#4469, ... 39 more fields]\n                        +- Project [id#4446, app_id#4447, app_name#4448, category_id#4449, author#4450, rating#4451, content#4452, vote_sum#4453L, vote_count#4454L, date#4455, review_length#4456L, sentiment#4457, sentiment_classification#4458, pos_n_nouns#4459, pos_n_verbs#4460, pos_n_adjectives#4461, pos_n_adverbs#4462, pos_n_determiners#4463, pos_p_nouns#4464, pos_p_verbs#4465, pos_p_adjectives#4466, pos_p_adverbs#4467, pos_p_determiners#4468, stats_char_count#4469, ... 38 more fields]\n                           +- Relation [id#4446,app_id#4447,app_name#4448,category_id#4449,author#4450,rating#4451,content#4452,vote_sum#4453L,vote_count#4454L,date#4455,review_length#4456L,sentiment#4457,sentiment_classification#4458,pos_n_nouns#4459,pos_n_verbs#4460,pos_n_adjectives#4461,pos_n_adverbs#4462,pos_n_determiners#4463,pos_p_nouns#4464,pos_p_verbs#4465,pos_p_adjectives#4466,pos_p_adverbs#4467,pos_p_determiners#4468,stats_char_count#4469,... 37 more fields] parquet\n",
     "output_type": "error",
     "traceback": [
      "\u001b[0;31m---------------------------------------------------------------------------\u001b[0m",
      "\u001b[0;31mAnalysisException\u001b[0m                         Traceback (most recent call last)",
      "Cell \u001b[0;32mIn[7], line 7\u001b[0m\n\u001b[1;32m      5\u001b[0m \u001b[38;5;66;03m# Build and run Data Ingestion Stage\u001b[39;00m\n\u001b[1;32m      6\u001b[0m stage \u001b[38;5;241m=\u001b[39m QuantStage\u001b[38;5;241m.\u001b[39mbuild(stage_config\u001b[38;5;241m=\u001b[39mstage_config, force\u001b[38;5;241m=\u001b[39mFORCE)\n\u001b[0;32m----> 7\u001b[0m asset_id \u001b[38;5;241m=\u001b[39m \u001b[43mstage\u001b[49m\u001b[38;5;241;43m.\u001b[39;49m\u001b[43mrun\u001b[49m\u001b[43m(\u001b[49m\u001b[43m)\u001b[49m\n",
      "File \u001b[0;32m~/projects/appvocai-discover/discover/infra/service/logging/stage.py:49\u001b[0m, in \u001b[0;36mstage_logger.<locals>.wrapper\u001b[0;34m(self, *args, **kwargs)\u001b[0m\n\u001b[1;32m     46\u001b[0m start_fmt \u001b[38;5;241m=\u001b[39m dt4mtr\u001b[38;5;241m.\u001b[39mto_HTTP_format(start)\n\u001b[1;32m     48\u001b[0m \u001b[38;5;66;03m# Execute the original function being decorated, passing all args and kwargs.\u001b[39;00m\n\u001b[0;32m---> 49\u001b[0m result \u001b[38;5;241m=\u001b[39m \u001b[43mfunc\u001b[49m\u001b[43m(\u001b[49m\u001b[38;5;28;43mself\u001b[39;49m\u001b[43m,\u001b[49m\u001b[43m \u001b[49m\u001b[38;5;241;43m*\u001b[39;49m\u001b[43margs\u001b[49m\u001b[43m,\u001b[49m\u001b[43m \u001b[49m\u001b[38;5;241;43m*\u001b[39;49m\u001b[38;5;241;43m*\u001b[39;49m\u001b[43mkwargs\u001b[49m\u001b[43m)\u001b[49m\n\u001b[1;32m     51\u001b[0m \u001b[38;5;66;03m# Log runtime.\u001b[39;00m\n\u001b[1;32m     52\u001b[0m end \u001b[38;5;241m=\u001b[39m datetime\u001b[38;5;241m.\u001b[39mnow()\n",
      "File \u001b[0;32m~/projects/appvocai-discover/discover/flow/data_prep/stage.py:163\u001b[0m, in \u001b[0;36mDataPrepStage.run\u001b[0;34m(self)\u001b[0m\n\u001b[1;32m    160\u001b[0m data \u001b[38;5;241m=\u001b[39m \u001b[38;5;28mself\u001b[39m\u001b[38;5;241m.\u001b[39m_load_source_data()\n\u001b[1;32m    162\u001b[0m \u001b[38;5;28;01mfor\u001b[39;00m task \u001b[38;5;129;01min\u001b[39;00m \u001b[38;5;28mself\u001b[39m\u001b[38;5;241m.\u001b[39m_tasks:\n\u001b[0;32m--> 163\u001b[0m     data \u001b[38;5;241m=\u001b[39m \u001b[43mtask\u001b[49m\u001b[38;5;241;43m.\u001b[39;49m\u001b[43mrun\u001b[49m\u001b[43m(\u001b[49m\u001b[43mdata\u001b[49m\u001b[38;5;241;43m=\u001b[39;49m\u001b[43mdata\u001b[49m\u001b[43m)\u001b[49m\n\u001b[1;32m    165\u001b[0m dataset \u001b[38;5;241m=\u001b[39m \u001b[38;5;28mself\u001b[39m\u001b[38;5;241m.\u001b[39m_create_destination_dataset(data\u001b[38;5;241m=\u001b[39mdata)\n\u001b[1;32m    167\u001b[0m \u001b[38;5;28mself\u001b[39m\u001b[38;5;241m.\u001b[39m_save_destination_dataset(dataset\u001b[38;5;241m=\u001b[39mdataset)\n",
      "File \u001b[0;32m~/projects/appvocai-discover/discover/infra/service/logging/task.py:57\u001b[0m, in \u001b[0;36mtask_logger.<locals>.wrapper\u001b[0;34m(self, *args, **kwargs)\u001b[0m\n\u001b[1;32m     54\u001b[0m printer\u001b[38;5;241m.\u001b[39mprint_kv(k\u001b[38;5;241m=\u001b[39m\u001b[38;5;124m\"\u001b[39m\u001b[38;5;124mStart Datetime\u001b[39m\u001b[38;5;124m\"\u001b[39m, v\u001b[38;5;241m=\u001b[39mstart_fmt)\n\u001b[1;32m     56\u001b[0m \u001b[38;5;66;03m# Execute the original function being decorated, passing all args and kwargs.\u001b[39;00m\n\u001b[0;32m---> 57\u001b[0m result \u001b[38;5;241m=\u001b[39m \u001b[43mfunc\u001b[49m\u001b[43m(\u001b[49m\u001b[38;5;28;43mself\u001b[39;49m\u001b[43m,\u001b[49m\u001b[43m \u001b[49m\u001b[38;5;241;43m*\u001b[39;49m\u001b[43margs\u001b[49m\u001b[43m,\u001b[49m\u001b[43m \u001b[49m\u001b[38;5;241;43m*\u001b[39;49m\u001b[38;5;241;43m*\u001b[39;49m\u001b[43mkwargs\u001b[49m\u001b[43m)\u001b[49m\n\u001b[1;32m     59\u001b[0m \u001b[38;5;66;03m# After the function completes, compute stop time and duration\u001b[39;00m\n\u001b[1;32m     60\u001b[0m end \u001b[38;5;241m=\u001b[39m datetime\u001b[38;5;241m.\u001b[39mnow()\n",
      "File \u001b[0;32m~/projects/appvocai-discover/discover/flow/data_prep/quant/task.py:238\u001b[0m, in \u001b[0;36mComputePercentDeviationTask.run\u001b[0;34m(self, data)\u001b[0m\n\u001b[1;32m    227\u001b[0m \u001b[38;5;250m\u001b[39m\u001b[38;5;124;03m\"\"\"\u001b[39;00m\n\u001b[1;32m    228\u001b[0m \u001b[38;5;124;03mComputes the percent deviation of the specified column from the average\u001b[39;00m\n\u001b[1;32m    229\u001b[0m \u001b[38;5;124;03mgrouped by the 'by' variable and adds it as a new column to the DataFrame.\u001b[39;00m\n\u001b[0;32m   (...)\u001b[0m\n\u001b[1;32m    235\u001b[0m \u001b[38;5;124;03m    DataFrame: The PySpark DataFrame with the new column containing percent deviation.\u001b[39;00m\n\u001b[1;32m    236\u001b[0m \u001b[38;5;124;03m\"\"\"\u001b[39;00m\n\u001b[1;32m    237\u001b[0m \u001b[38;5;66;03m# Calculate the average of the specified column, grouped by the 'by' variable\u001b[39;00m\n\u001b[0;32m--> 238\u001b[0m avg_values \u001b[38;5;241m=\u001b[39m \u001b[43mdata\u001b[49m\u001b[38;5;241;43m.\u001b[39;49m\u001b[43mgroupBy\u001b[49m\u001b[43m(\u001b[49m\u001b[38;5;28;43mself\u001b[39;49m\u001b[38;5;241;43m.\u001b[39;49m\u001b[43m_by\u001b[49m\u001b[43m)\u001b[49m\u001b[38;5;241;43m.\u001b[39;49m\u001b[43magg\u001b[49m\u001b[43m(\u001b[49m\u001b[43mF\u001b[49m\u001b[38;5;241;43m.\u001b[39;49m\u001b[43mavg\u001b[49m\u001b[43m(\u001b[49m\u001b[38;5;28;43mself\u001b[39;49m\u001b[38;5;241;43m.\u001b[39;49m\u001b[43m_column\u001b[49m\u001b[43m)\u001b[49m\u001b[38;5;241;43m.\u001b[39;49m\u001b[43malias\u001b[49m\u001b[43m(\u001b[49m\u001b[38;5;124;43m\"\u001b[39;49m\u001b[38;5;124;43mavg_value\u001b[39;49m\u001b[38;5;124;43m\"\u001b[39;49m\u001b[43m)\u001b[49m\u001b[43m)\u001b[49m\n\u001b[1;32m    240\u001b[0m \u001b[38;5;66;03m# Join the average values back to the original DataFrame\u001b[39;00m\n\u001b[1;32m    241\u001b[0m data \u001b[38;5;241m=\u001b[39m data\u001b[38;5;241m.\u001b[39mjoin(avg_values, on\u001b[38;5;241m=\u001b[39m\u001b[38;5;28mself\u001b[39m\u001b[38;5;241m.\u001b[39m_by, how\u001b[38;5;241m=\u001b[39m\u001b[38;5;124m\"\u001b[39m\u001b[38;5;124mleft\u001b[39m\u001b[38;5;124m\"\u001b[39m)\n",
      "File \u001b[0;32m~/miniconda3/envs/appvocai/lib/python3.10/site-packages/pyspark/sql/group.py:186\u001b[0m, in \u001b[0;36mGroupedData.agg\u001b[0;34m(self, *exprs)\u001b[0m\n\u001b[1;32m    184\u001b[0m     \u001b[38;5;28;01massert\u001b[39;00m \u001b[38;5;28mall\u001b[39m(\u001b[38;5;28misinstance\u001b[39m(c, Column) \u001b[38;5;28;01mfor\u001b[39;00m c \u001b[38;5;129;01min\u001b[39;00m exprs), \u001b[38;5;124m\"\u001b[39m\u001b[38;5;124mall exprs should be Column\u001b[39m\u001b[38;5;124m\"\u001b[39m\n\u001b[1;32m    185\u001b[0m     exprs \u001b[38;5;241m=\u001b[39m cast(Tuple[Column, \u001b[38;5;241m.\u001b[39m\u001b[38;5;241m.\u001b[39m\u001b[38;5;241m.\u001b[39m], exprs)\n\u001b[0;32m--> 186\u001b[0m     jdf \u001b[38;5;241m=\u001b[39m \u001b[38;5;28;43mself\u001b[39;49m\u001b[38;5;241;43m.\u001b[39;49m\u001b[43m_jgd\u001b[49m\u001b[38;5;241;43m.\u001b[39;49m\u001b[43magg\u001b[49m\u001b[43m(\u001b[49m\u001b[43mexprs\u001b[49m\u001b[43m[\u001b[49m\u001b[38;5;241;43m0\u001b[39;49m\u001b[43m]\u001b[49m\u001b[38;5;241;43m.\u001b[39;49m\u001b[43m_jc\u001b[49m\u001b[43m,\u001b[49m\u001b[43m \u001b[49m\u001b[43m_to_seq\u001b[49m\u001b[43m(\u001b[49m\u001b[38;5;28;43mself\u001b[39;49m\u001b[38;5;241;43m.\u001b[39;49m\u001b[43msession\u001b[49m\u001b[38;5;241;43m.\u001b[39;49m\u001b[43m_sc\u001b[49m\u001b[43m,\u001b[49m\u001b[43m \u001b[49m\u001b[43m[\u001b[49m\u001b[43mc\u001b[49m\u001b[38;5;241;43m.\u001b[39;49m\u001b[43m_jc\u001b[49m\u001b[43m \u001b[49m\u001b[38;5;28;43;01mfor\u001b[39;49;00m\u001b[43m \u001b[49m\u001b[43mc\u001b[49m\u001b[43m \u001b[49m\u001b[38;5;129;43;01min\u001b[39;49;00m\u001b[43m \u001b[49m\u001b[43mexprs\u001b[49m\u001b[43m[\u001b[49m\u001b[38;5;241;43m1\u001b[39;49m\u001b[43m:\u001b[49m\u001b[43m]\u001b[49m\u001b[43m]\u001b[49m\u001b[43m)\u001b[49m\u001b[43m)\u001b[49m\n\u001b[1;32m    187\u001b[0m \u001b[38;5;28;01mreturn\u001b[39;00m DataFrame(jdf, \u001b[38;5;28mself\u001b[39m\u001b[38;5;241m.\u001b[39msession)\n",
      "File \u001b[0;32m~/miniconda3/envs/appvocai/lib/python3.10/site-packages/py4j/java_gateway.py:1322\u001b[0m, in \u001b[0;36mJavaMember.__call__\u001b[0;34m(self, *args)\u001b[0m\n\u001b[1;32m   1316\u001b[0m command \u001b[38;5;241m=\u001b[39m proto\u001b[38;5;241m.\u001b[39mCALL_COMMAND_NAME \u001b[38;5;241m+\u001b[39m\\\n\u001b[1;32m   1317\u001b[0m     \u001b[38;5;28mself\u001b[39m\u001b[38;5;241m.\u001b[39mcommand_header \u001b[38;5;241m+\u001b[39m\\\n\u001b[1;32m   1318\u001b[0m     args_command \u001b[38;5;241m+\u001b[39m\\\n\u001b[1;32m   1319\u001b[0m     proto\u001b[38;5;241m.\u001b[39mEND_COMMAND_PART\n\u001b[1;32m   1321\u001b[0m answer \u001b[38;5;241m=\u001b[39m \u001b[38;5;28mself\u001b[39m\u001b[38;5;241m.\u001b[39mgateway_client\u001b[38;5;241m.\u001b[39msend_command(command)\n\u001b[0;32m-> 1322\u001b[0m return_value \u001b[38;5;241m=\u001b[39m \u001b[43mget_return_value\u001b[49m\u001b[43m(\u001b[49m\n\u001b[1;32m   1323\u001b[0m \u001b[43m    \u001b[49m\u001b[43manswer\u001b[49m\u001b[43m,\u001b[49m\u001b[43m \u001b[49m\u001b[38;5;28;43mself\u001b[39;49m\u001b[38;5;241;43m.\u001b[39;49m\u001b[43mgateway_client\u001b[49m\u001b[43m,\u001b[49m\u001b[43m \u001b[49m\u001b[38;5;28;43mself\u001b[39;49m\u001b[38;5;241;43m.\u001b[39;49m\u001b[43mtarget_id\u001b[49m\u001b[43m,\u001b[49m\u001b[43m \u001b[49m\u001b[38;5;28;43mself\u001b[39;49m\u001b[38;5;241;43m.\u001b[39;49m\u001b[43mname\u001b[49m\u001b[43m)\u001b[49m\n\u001b[1;32m   1325\u001b[0m \u001b[38;5;28;01mfor\u001b[39;00m temp_arg \u001b[38;5;129;01min\u001b[39;00m temp_args:\n\u001b[1;32m   1326\u001b[0m     \u001b[38;5;28;01mif\u001b[39;00m \u001b[38;5;28mhasattr\u001b[39m(temp_arg, \u001b[38;5;124m\"\u001b[39m\u001b[38;5;124m_detach\u001b[39m\u001b[38;5;124m\"\u001b[39m):\n",
      "File \u001b[0;32m~/miniconda3/envs/appvocai/lib/python3.10/site-packages/pyspark/errors/exceptions/captured.py:185\u001b[0m, in \u001b[0;36mcapture_sql_exception.<locals>.deco\u001b[0;34m(*a, **kw)\u001b[0m\n\u001b[1;32m    181\u001b[0m converted \u001b[38;5;241m=\u001b[39m convert_exception(e\u001b[38;5;241m.\u001b[39mjava_exception)\n\u001b[1;32m    182\u001b[0m \u001b[38;5;28;01mif\u001b[39;00m \u001b[38;5;129;01mnot\u001b[39;00m \u001b[38;5;28misinstance\u001b[39m(converted, UnknownException):\n\u001b[1;32m    183\u001b[0m     \u001b[38;5;66;03m# Hide where the exception came from that shows a non-Pythonic\u001b[39;00m\n\u001b[1;32m    184\u001b[0m     \u001b[38;5;66;03m# JVM exception message.\u001b[39;00m\n\u001b[0;32m--> 185\u001b[0m     \u001b[38;5;28;01mraise\u001b[39;00m converted \u001b[38;5;28;01mfrom\u001b[39;00m \u001b[38;5;28;01mNone\u001b[39;00m\n\u001b[1;32m    186\u001b[0m \u001b[38;5;28;01melse\u001b[39;00m:\n\u001b[1;32m    187\u001b[0m     \u001b[38;5;28;01mraise\u001b[39;00m\n",
      "\u001b[0;31mAnalysisException\u001b[0m: [UNRESOLVED_COLUMN.WITH_SUGGESTION] A column or function parameter with name `enr_review_length` cannot be resolved. Did you mean one of the following? [`enr_review_month`, `review_length`, `enr_review_age`, `enr_review_hour`, `enr_review_day_of_week`].;\n'Aggregate [category#3988], [category#3988, avg('enr_review_length) AS avg_value#4775]\n+- Project [category#3988, id#3928, app_id#3929, app_name#3930, category_id#3931, author#3932, rating#3933, content#3934, vote_sum#3935L, vote_count#3936L, date#3937, review_length#3938L, sentiment#3939, sentiment_classification#3940, pos_n_nouns#3941, pos_n_verbs#3942, pos_n_adjectives#3943, pos_n_adverbs#3944, pos_n_determiners#3945, pos_p_nouns#3946, pos_p_verbs#3947, pos_p_adjectives#3948, pos_p_adverbs#3949, pos_p_determiners#3950, ... 42 more fields]\n   +- Project [category#3988, id#3928, app_id#3929, app_name#3930, category_id#3931, author#3932, rating#3933, content#3934, vote_sum#3935L, vote_count#3936L, date#3937, review_length#3938L, sentiment#3939, sentiment_classification#3940, pos_n_nouns#3941, pos_n_verbs#3942, pos_n_adjectives#3943, pos_n_adverbs#3944, pos_n_determiners#3945, pos_p_nouns#3946, pos_p_verbs#3947, pos_p_adjectives#3948, pos_p_adverbs#3949, pos_p_determiners#3950, ... 43 more fields]\n      +- Project [category#3988, id#3928, app_id#3929, app_name#3930, category_id#3931, author#3932, rating#3933, content#3934, vote_sum#3935L, vote_count#3936L, date#3937, review_length#3938L, sentiment#3939, sentiment_classification#3940, pos_n_nouns#3941, pos_n_verbs#3942, pos_n_adjectives#3943, pos_n_adverbs#3944, pos_n_determiners#3945, pos_p_nouns#3946, pos_p_verbs#3947, pos_p_adjectives#3948, pos_p_adverbs#3949, pos_p_determiners#3950, ... 42 more fields]\n         +- Join LeftOuter, (category#3988 = category#4506)\n            :- Project [id#3928, app_id#3929, app_name#3930, category_id#3931, author#3932, rating#3933, content#3934, vote_sum#3935L, vote_count#3936L, date#3937, review_length#3938L, sentiment#3939, sentiment_classification#3940, pos_n_nouns#3941, pos_n_verbs#3942, pos_n_adjectives#3943, pos_n_adverbs#3944, pos_n_determiners#3945, pos_p_nouns#3946, pos_p_verbs#3947, pos_p_adjectives#3948, pos_p_adverbs#3949, pos_p_determiners#3950, stats_char_count#3951, ... 41 more fields]\n            :  +- Project [id#3928, app_id#3929, app_name#3930, category_id#3931, author#3932, rating#3933, content#3934, vote_sum#3935L, vote_count#3936L, date#3937, review_length#3938L, sentiment#3939, sentiment_classification#3940, pos_n_nouns#3941, pos_n_verbs#3942, pos_n_adjectives#3943, pos_n_adverbs#3944, pos_n_determiners#3945, pos_p_nouns#3946, pos_p_verbs#3947, pos_p_adjectives#3948, pos_p_adverbs#3949, pos_p_determiners#3950, stats_char_count#3951, ... 40 more fields]\n            :     +- Project [id#3928, app_id#3929, app_name#3930, category_id#3931, author#3932, rating#3933, content#3934, vote_sum#3935L, vote_count#3936L, date#3937, review_length#3938L, sentiment#3939, sentiment_classification#3940, pos_n_nouns#3941, pos_n_verbs#3942, pos_n_adjectives#3943, pos_n_adverbs#3944, pos_n_determiners#3945, pos_p_nouns#3946, pos_p_verbs#3947, pos_p_adjectives#3948, pos_p_adverbs#3949, pos_p_determiners#3950, stats_char_count#3951, ... 39 more fields]\n            :        +- Project [id#3928, app_id#3929, app_name#3930, category_id#3931, author#3932, rating#3933, content#3934, vote_sum#3935L, vote_count#3936L, date#3937, review_length#3938L, sentiment#3939, sentiment_classification#3940, pos_n_nouns#3941, pos_n_verbs#3942, pos_n_adjectives#3943, pos_n_adverbs#3944, pos_n_determiners#3945, pos_p_nouns#3946, pos_p_verbs#3947, pos_p_adjectives#3948, pos_p_adverbs#3949, pos_p_determiners#3950, stats_char_count#3951, ... 38 more fields]\n            :           +- Relation [id#3928,app_id#3929,app_name#3930,category_id#3931,author#3932,rating#3933,content#3934,vote_sum#3935L,vote_count#3936L,date#3937,review_length#3938L,sentiment#3939,sentiment_classification#3940,pos_n_nouns#3941,pos_n_verbs#3942,pos_n_adjectives#3943,pos_n_adverbs#3944,pos_n_determiners#3945,pos_p_nouns#3946,pos_p_verbs#3947,pos_p_adjectives#3948,pos_p_adverbs#3949,pos_p_determiners#3950,stats_char_count#3951,... 37 more fields] parquet\n            +- Aggregate [category#4506], [category#4506, avg(rating#4451) AS avg_value#4443]\n               +- Project [id#4446, app_id#4447, app_name#4448, category_id#4449, author#4450, rating#4451, content#4452, vote_sum#4453L, vote_count#4454L, date#4455, review_length#4456L, sentiment#4457, sentiment_classification#4458, pos_n_nouns#4459, pos_n_verbs#4460, pos_n_adjectives#4461, pos_n_adverbs#4462, pos_n_determiners#4463, pos_p_nouns#4464, pos_p_verbs#4465, pos_p_adjectives#4466, pos_p_adverbs#4467, pos_p_determiners#4468, stats_char_count#4469, ... 41 more fields]\n                  +- Project [id#4446, app_id#4447, app_name#4448, category_id#4449, author#4450, rating#4451, content#4452, vote_sum#4453L, vote_count#4454L, date#4455, review_length#4456L, sentiment#4457, sentiment_classification#4458, pos_n_nouns#4459, pos_n_verbs#4460, pos_n_adjectives#4461, pos_n_adverbs#4462, pos_n_determiners#4463, pos_p_nouns#4464, pos_p_verbs#4465, pos_p_adjectives#4466, pos_p_adverbs#4467, pos_p_determiners#4468, stats_char_count#4469, ... 40 more fields]\n                     +- Project [id#4446, app_id#4447, app_name#4448, category_id#4449, author#4450, rating#4451, content#4452, vote_sum#4453L, vote_count#4454L, date#4455, review_length#4456L, sentiment#4457, sentiment_classification#4458, pos_n_nouns#4459, pos_n_verbs#4460, pos_n_adjectives#4461, pos_n_adverbs#4462, pos_n_determiners#4463, pos_p_nouns#4464, pos_p_verbs#4465, pos_p_adjectives#4466, pos_p_adverbs#4467, pos_p_determiners#4468, stats_char_count#4469, ... 39 more fields]\n                        +- Project [id#4446, app_id#4447, app_name#4448, category_id#4449, author#4450, rating#4451, content#4452, vote_sum#4453L, vote_count#4454L, date#4455, review_length#4456L, sentiment#4457, sentiment_classification#4458, pos_n_nouns#4459, pos_n_verbs#4460, pos_n_adjectives#4461, pos_n_adverbs#4462, pos_n_determiners#4463, pos_p_nouns#4464, pos_p_verbs#4465, pos_p_adjectives#4466, pos_p_adverbs#4467, pos_p_determiners#4468, stats_char_count#4469, ... 38 more fields]\n                           +- Relation [id#4446,app_id#4447,app_name#4448,category_id#4449,author#4450,rating#4451,content#4452,vote_sum#4453L,vote_count#4454L,date#4455,review_length#4456L,sentiment#4457,sentiment_classification#4458,pos_n_nouns#4459,pos_n_verbs#4460,pos_n_adjectives#4461,pos_n_adverbs#4462,pos_n_determiners#4463,pos_p_nouns#4464,pos_p_verbs#4465,pos_p_adjectives#4466,pos_p_adverbs#4467,pos_p_determiners#4468,stats_char_count#4469,... 37 more fields] parquet\n"
     ]
    }
   ],
   "source": [
    "FORCE = True\n",
    "stage_config = reader.get_stage_config(\n",
    "    phase=PhaseDef.DATAPREP, stage=DataPrepStageDef.QUANT\n",
    ")\n",
    "\n",
    "# Build and run Data Ingestion Stage\n",
    "stage = QuantStage.build(stage_config=stage_config, force=FORCE)\n",
    "asset_id = stage.run()"
   ]
  },
  {
   "cell_type": "markdown",
   "metadata": {},
   "source": [
    "## Aggregation Pipelines\n",
    "Aggregating data at the app and category levels provides a high-level view of review trends and user behavior, offering insights into user engagement and feedback patterns. At the app level, we consolidate key metrics, such as average ratings, review length, review count, and total vote sum, while identifying standout reviews based on highest vote counts, top TQA scores, and longest review lengths. \n",
    "\n",
    "A similar approach is used at the category level, aggregating metrics across all apps within a category to reveal trends that may indicate common strengths or pain points across similar apps. This two-tiered aggregation—app-level and category-level—allows for both detailed and broad insights into app performance, aiding in strategic decisions and market comparisons."
   ]
  },
  {
   "cell_type": "markdown",
   "metadata": {},
   "source": [
    "### App Aggregation Pipeline"
   ]
  },
  {
   "cell_type": "code",
   "execution_count": null,
   "metadata": {},
   "outputs": [],
   "source": [
    "# Obtain the configuration\n",
    "stage_config = reader.get_stage_config(\n",
    "    phase=PhaseDef.DATAPREP, stage=DataPrepStageDef.AGG\n",
    ")\n",
    "\n",
    "# Build and run Data Ingestion Stage\n",
    "stage = AggregationStage.build(stage_config=stage_config, force=FORCE)\n",
    "asset_id = stage.run()"
   ]
  },
  {
   "cell_type": "markdown",
   "metadata": {},
   "source": [
    "## Enrichment Stage Wrap-Up\n",
    "The enrichment stage enhanced the dataset with features, including review metadata (such as length, age and temporal data), sentiment analysis, text quality scores, and comprehensive app- and category-level aggregations. In the upcoming EDA phase, we will leverage these enriched attributes to uncover patterns, relationships, and trends that illuminate user behavior and app performance."
   ]
  }
 ],
 "metadata": {
  "kernelspec": {
   "display_name": "appvocai",
   "language": "python",
   "name": "python3"
  },
  "language_info": {
   "codemirror_mode": {
    "name": "ipython",
    "version": 3
   },
   "file_extension": ".py",
   "mimetype": "text/x-python",
   "name": "python",
   "nbconvert_exporter": "python",
   "pygments_lexer": "ipython3",
   "version": "3.10.15"
  }
 },
 "nbformat": 4,
 "nbformat_minor": 2
}
