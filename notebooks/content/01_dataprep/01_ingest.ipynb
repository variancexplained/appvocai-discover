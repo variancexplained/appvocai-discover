{
 "cells": [
  {
   "cell_type": "code",
   "execution_count": 1,
   "metadata": {
    "tags": [
     "remove-cell"
    ]
   },
   "outputs": [],
   "source": [
    "import os\n",
    "\n",
    "if \"jbook\" in os.getcwd():\n",
    "    os.chdir(os.path.abspath(os.path.join(\"../..\")))\n",
    "import warnings\n",
    "\n",
    "warnings.filterwarnings(\"ignore\")\n",
    "FORCE = False"
   ]
  },
  {
   "cell_type": "markdown",
   "metadata": {},
   "source": [
    "# AppVoCAI Dataset Ingestion\n",
    "In this section, we unbox the dataset, survey its key characteristics, profile its structure, format, and data types, then register it as an asset, prior to downstream data quality assessment, cleaning, enrichment and analysis activities."
   ]
  },
  {
   "cell_type": "code",
   "execution_count": 2,
   "metadata": {
    "tags": [
     "hide-cell"
    ]
   },
   "outputs": [],
   "source": [
    "from discover.app.analysis import Analysis\n",
    "from discover.container import DiscoverContainer\n",
    "from discover.infra.config.flow import FlowConfigReader\n",
    "from explorify.eda.visualize.visualizer import Visualizer\n",
    "from discover.core.flow import StageDef, PhaseDef\n",
    "from discover.flow.stage.data_prep.ingest import IngestionStage\n",
    "from discover.infra.utils.visual.print import Printer"
   ]
  },
  {
   "cell_type": "code",
   "execution_count": 3,
   "metadata": {
    "tags": [
     "remove-cell"
    ]
   },
   "outputs": [],
   "source": [
    "container = DiscoverContainer()\n",
    "container.init_resources()\n",
    "container.wire(\n",
    "    modules=[\n",
    "        \"discover.flow.stage.base\",\n",
    "    ],\n",
    ")"
   ]
  },
  {
   "cell_type": "markdown",
   "metadata": {},
   "source": [
    "## Ingest Data\n",
    "The IngestionStage loads the raw data, and performs encoding verification, data type casting, and removal of newlines from the review text, ensuring data accessibility for downstream processing and analysis.   \n",
    "\n",
    "The following orchestrates the initialization and execution of the Ingestion pipeline within a broader data preparation workflow. It begins with the retrieval of a specific configuration through the `FlowConfigReader`. This reader is tasked with pulling the configuration that defines the parameters for the pipeline, specifically targeting the `INGEST` stage within the `DataPrep` phase. This configuration encapsulates the structure, settings, and tasks required for ingesting the data.\n",
    "\n",
    "With the configuration in hand, the code then proceeds to the next step: the construction of the `IngestionStage` pipeline. Using the `build` method of the `IngestionStage` class, it dynamically assembles the pipeline, injecting the necessary configurations and optionally setting a flag to force the execution of the pipeline, even if the destination data already exists. This enables flexibility, allowing the pipeline to rerun when necessary, or to skip execution if the data is up to date.\n",
    "\n",
    "Finally, the pipeline is executed by invoking the `run()` method, triggering the ingestion workflow, applying the defined tasks and operations. Upon successful execution, the method returns an asset ID, serving as a reference to the processed data. This asset ID can be used for subsequent stages or for tracking the output of the pipeline. "
   ]
  },
  {
   "cell_type": "code",
   "execution_count": 4,
   "metadata": {},
   "outputs": [
    {
     "name": "stdout",
     "output_type": "stream",
     "text": [
      "\n",
      "\n",
      "# ============================================================================== #\n",
      "#                              Data Ingestion Stage                              #\n",
      "# ============================================================================== #\n",
      "\n",
      "\n",
      "\n",
      "                              Data Ingestion Stage                              \n",
      "                              ====================                              \n",
      "                           Stage Started | Mon, 02 Dec 2024 18:35:08\n",
      "                         Stage Completed | Mon, 02 Dec 2024 18:35:09\n",
      "                           Stage Runtime | 0.35 seconds\n",
      "                           Cached Result | True\n",
      "\n",
      "\n",
      "# ============================================================================ #\n",
      "\n"
     ]
    }
   ],
   "source": [
    "# Obtain the configuration\n",
    "reader = FlowConfigReader()\n",
    "stage_config = reader.get_stage_config(phase=PhaseDef.DATAPREP, stage=StageDef.INGEST)\n",
    "\n",
    "# Build and run Data Ingestion Stage\n",
    "stage = IngestionStage.build(\n",
    "    stage_config=stage_config, return_dataset=True, force=FORCE\n",
    ")\n",
    "dataset = stage.run()\n",
    "df = dataset.content"
   ]
  },
  {
   "cell_type": "markdown",
   "metadata": {},
   "source": [
    "## AppVoCAI Dataset Summary\n",
    "Let's  load and summarize the data."
   ]
  },
  {
   "cell_type": "code",
   "execution_count": 5,
   "metadata": {
    "tags": [
     "hide-cell"
    ]
   },
   "outputs": [
    {
     "name": "stdout",
     "output_type": "stream",
     "text": [
      "\n",
      "\n",
      "                            AppVoCAI Dataset Summary                            \n",
      "                       Number of Reviews | 86,705\n",
      "                     Number of Reviewers | 86,444\n",
      "              Number of Repeat Reviewers | 251 (0.3%)\n",
      "         Number of Influential Reviewers | 5,549 (6.4%)\n",
      "                          Number of Apps | 9,715\n",
      "                    Number of Categories | 14\n",
      "                   Average Review Length | 31.9\n",
      "                 Average Reviews per App | 8.9\n",
      "                                Features | 12\n",
      "                        Memory Size (Mb) | 58.0\n",
      "                    Date of First Review | 2020-01-01 00:23:01\n",
      "                     Date of Last Review | 2023-09-03 00:48:59\n"
     ]
    }
   ],
   "source": [
    "reviews = Analysis(df=dataset.content)\n",
    "reviews.summary()"
   ]
  },
  {
   "cell_type": "markdown",
   "metadata": {},
   "source": [
    "As evidenced here, we've extracted 8.7 million reviews dated between January of 2020, and September of 2023. These reviews were contributed by over 7 million unique users, with approximately 14% identified as repeat reviewers. Notably, over 7% of the reviewers qualify as influencers, defined by having at least one review with a non-zero vote count. The dataset encompasses nearly 35,000 apps spanning 14 distinct categories. On average, each review contains 32 words, while the average number of reviews per app nears 250. With a memory footprint of 5.8 GB, the dataset is of a moderately large scale, posing both opportunities and challenges for data processing and analysis."
   ]
  },
  {
   "cell_type": "markdown",
   "metadata": {},
   "source": [
    "## Structural Analysis\n",
    "Before examining the content of the dataset, let's inspect its format and structure. "
   ]
  },
  {
   "cell_type": "code",
   "execution_count": 6,
   "metadata": {},
   "outputs": [
    {
     "data": {
      "text/html": [
       "<div>\n",
       "<style scoped>\n",
       "    .dataframe tbody tr th:only-of-type {\n",
       "        vertical-align: middle;\n",
       "    }\n",
       "\n",
       "    .dataframe tbody tr th {\n",
       "        vertical-align: top;\n",
       "    }\n",
       "\n",
       "    .dataframe thead th {\n",
       "        text-align: right;\n",
       "    }\n",
       "</style>\n",
       "<table border=\"1\" class=\"dataframe\">\n",
       "  <thead>\n",
       "    <tr style=\"text-align: right;\">\n",
       "      <th></th>\n",
       "      <th>Column</th>\n",
       "      <th>DataType</th>\n",
       "      <th>Complete</th>\n",
       "      <th>Null</th>\n",
       "      <th>Completeness</th>\n",
       "      <th>Unique</th>\n",
       "      <th>Duplicate</th>\n",
       "      <th>Uniqueness</th>\n",
       "      <th>Size (Bytes)</th>\n",
       "    </tr>\n",
       "  </thead>\n",
       "  <tbody>\n",
       "    <tr>\n",
       "      <th>0</th>\n",
       "      <td>id</td>\n",
       "      <td>string[python]</td>\n",
       "      <td>86705</td>\n",
       "      <td>0</td>\n",
       "      <td>1.0</td>\n",
       "      <td>86705</td>\n",
       "      <td>0</td>\n",
       "      <td>1.000000</td>\n",
       "      <td>5815037</td>\n",
       "    </tr>\n",
       "    <tr>\n",
       "      <th>1</th>\n",
       "      <td>app_id</td>\n",
       "      <td>string[python]</td>\n",
       "      <td>86705</td>\n",
       "      <td>0</td>\n",
       "      <td>1.0</td>\n",
       "      <td>9715</td>\n",
       "      <td>76990</td>\n",
       "      <td>0.112047</td>\n",
       "      <td>5763531</td>\n",
       "    </tr>\n",
       "    <tr>\n",
       "      <th>2</th>\n",
       "      <td>app_name</td>\n",
       "      <td>string[python]</td>\n",
       "      <td>86705</td>\n",
       "      <td>0</td>\n",
       "      <td>1.0</td>\n",
       "      <td>9712</td>\n",
       "      <td>76993</td>\n",
       "      <td>0.112012</td>\n",
       "      <td>7046269</td>\n",
       "    </tr>\n",
       "    <tr>\n",
       "      <th>3</th>\n",
       "      <td>category_id</td>\n",
       "      <td>category</td>\n",
       "      <td>86705</td>\n",
       "      <td>0</td>\n",
       "      <td>1.0</td>\n",
       "      <td>14</td>\n",
       "      <td>86691</td>\n",
       "      <td>0.000161</td>\n",
       "      <td>88115</td>\n",
       "    </tr>\n",
       "    <tr>\n",
       "      <th>4</th>\n",
       "      <td>author</td>\n",
       "      <td>string[python]</td>\n",
       "      <td>86705</td>\n",
       "      <td>0</td>\n",
       "      <td>1.0</td>\n",
       "      <td>86444</td>\n",
       "      <td>261</td>\n",
       "      <td>0.996990</td>\n",
       "      <td>6676285</td>\n",
       "    </tr>\n",
       "    <tr>\n",
       "      <th>5</th>\n",
       "      <td>rating</td>\n",
       "      <td>Int16</td>\n",
       "      <td>86705</td>\n",
       "      <td>0</td>\n",
       "      <td>1.0</td>\n",
       "      <td>5</td>\n",
       "      <td>86700</td>\n",
       "      <td>0.000058</td>\n",
       "      <td>260115</td>\n",
       "    </tr>\n",
       "    <tr>\n",
       "      <th>6</th>\n",
       "      <td>content</td>\n",
       "      <td>string[python]</td>\n",
       "      <td>86705</td>\n",
       "      <td>0</td>\n",
       "      <td>1.0</td>\n",
       "      <td>81343</td>\n",
       "      <td>5362</td>\n",
       "      <td>0.938158</td>\n",
       "      <td>42464673</td>\n",
       "    </tr>\n",
       "    <tr>\n",
       "      <th>7</th>\n",
       "      <td>vote_sum</td>\n",
       "      <td>Int64</td>\n",
       "      <td>86705</td>\n",
       "      <td>0</td>\n",
       "      <td>1.0</td>\n",
       "      <td>56</td>\n",
       "      <td>86649</td>\n",
       "      <td>0.000646</td>\n",
       "      <td>780345</td>\n",
       "    </tr>\n",
       "    <tr>\n",
       "      <th>8</th>\n",
       "      <td>vote_count</td>\n",
       "      <td>Int64</td>\n",
       "      <td>86705</td>\n",
       "      <td>0</td>\n",
       "      <td>1.0</td>\n",
       "      <td>70</td>\n",
       "      <td>86635</td>\n",
       "      <td>0.000807</td>\n",
       "      <td>780345</td>\n",
       "    </tr>\n",
       "    <tr>\n",
       "      <th>9</th>\n",
       "      <td>date</td>\n",
       "      <td>datetime64[ms]</td>\n",
       "      <td>86705</td>\n",
       "      <td>0</td>\n",
       "      <td>1.0</td>\n",
       "      <td>86643</td>\n",
       "      <td>62</td>\n",
       "      <td>0.999285</td>\n",
       "      <td>693640</td>\n",
       "    </tr>\n",
       "    <tr>\n",
       "      <th>10</th>\n",
       "      <td>review_length</td>\n",
       "      <td>Int64</td>\n",
       "      <td>86705</td>\n",
       "      <td>0</td>\n",
       "      <td>1.0</td>\n",
       "      <td>439</td>\n",
       "      <td>86266</td>\n",
       "      <td>0.005063</td>\n",
       "      <td>780345</td>\n",
       "    </tr>\n",
       "    <tr>\n",
       "      <th>11</th>\n",
       "      <td>category</td>\n",
       "      <td>category</td>\n",
       "      <td>86705</td>\n",
       "      <td>0</td>\n",
       "      <td>1.0</td>\n",
       "      <td>14</td>\n",
       "      <td>86691</td>\n",
       "      <td>0.000161</td>\n",
       "      <td>88204</td>\n",
       "    </tr>\n",
       "  </tbody>\n",
       "</table>\n",
       "</div>"
      ],
      "text/plain": [
       "           Column        DataType  Complete  Null  Completeness  Unique  \\\n",
       "0              id  string[python]     86705     0           1.0   86705   \n",
       "1          app_id  string[python]     86705     0           1.0    9715   \n",
       "2        app_name  string[python]     86705     0           1.0    9712   \n",
       "3     category_id        category     86705     0           1.0      14   \n",
       "4          author  string[python]     86705     0           1.0   86444   \n",
       "5          rating           Int16     86705     0           1.0       5   \n",
       "6         content  string[python]     86705     0           1.0   81343   \n",
       "7        vote_sum           Int64     86705     0           1.0      56   \n",
       "8      vote_count           Int64     86705     0           1.0      70   \n",
       "9            date  datetime64[ms]     86705     0           1.0   86643   \n",
       "10  review_length           Int64     86705     0           1.0     439   \n",
       "11       category        category     86705     0           1.0      14   \n",
       "\n",
       "    Duplicate  Uniqueness  Size (Bytes)  \n",
       "0           0    1.000000       5815037  \n",
       "1       76990    0.112047       5763531  \n",
       "2       76993    0.112012       7046269  \n",
       "3       86691    0.000161         88115  \n",
       "4         261    0.996990       6676285  \n",
       "5       86700    0.000058        260115  \n",
       "6        5362    0.938158      42464673  \n",
       "7       86649    0.000646        780345  \n",
       "8       86635    0.000807        780345  \n",
       "9          62    0.999285        693640  \n",
       "10      86266    0.005063        780345  \n",
       "11      86691    0.000161         88204  "
      ]
     },
     "execution_count": 6,
     "metadata": {},
     "output_type": "execute_result"
    }
   ],
   "source": [
    "reviews.info"
   ]
  },
  {
   "cell_type": "markdown",
   "metadata": {},
   "source": [
    "Several impressions:\n",
    "\n",
    "1. **ID and Uniqueness**: The `id` column is showing some duplication (104 items) which will require treatment during the data cleaning stage.\n",
    "\n",
    "2. **App-Specific Details (`app_id`, `app_name`)**: The cardinality of `app_id` exceeds that of `app_name` by 14, which indicates that some apps may have multiple ids, perhaps to uniquely identify different versions of the same app.\n",
    "\n",
    "3. **Category Distribution**:  `category_id` and `category` are consistent, each with only 14 unique categories, suggesting clear category classifications across apps. \n",
    "\n",
    "4. **Authors and Reviews**: Duplication stats for the `author` column indicate that approximately 29% of the authors have submitted multiple reviews; yet, the vast majority of authors in the dataset have minimal engagement. \n",
    "\n",
    "5. **Rating Consistency**: The `rating` column has only 5 unique values, presumably in [1,5], to be confirmed below.\n",
    "\n",
    "6. **Vote Metrics (`vote_count`, `vote_sum`)**: Both `vote_count` and `vote_sum` have low uniqueness, suggesting that vote distributions are limited in range, possibly clustering around common values.\n",
    "\n",
    "7. **Review Content**: Review content occupies approximately 4.26 Gb of memory, with a duplication rate approaching 12% (992,095 reviews). Duplication in text-based user generated content often indicates common patterns such as emojis and sentiment expressions throughout the dataset.\n",
    "\n",
    "8. **Date**: Review `date` is appropriately typed as a datetime64 objects, representing an offset from 1970-01-001T00:00:00. Values range from 2008-07-10 10:15:37 to 2023-09-03 02:14:35.\n",
    "\n",
    "9. **Data Completeness**: All columns are 100% complete, with no missing values, ensuring the dataset’s integrity for analysis.\n",
    "\n",
    "10. **Data Format:** Most of the variables are appropriately typed. Casting `category_id` to category, and converting *object* types to *string* types will improve IO, storage efficiency and memory utilization.  \n",
    "\n",
    "11. **Data Volume and Memory Considerations**: The dataset weighs in at about 5.8 Gb of memory, which may require special consideration during data preprocessing, analysis, and modeling stages. For instance, certain aggregations and computationally expensive analytics can be precomputed and re-used during the analysis stages, avoiding expensive calculations and supporting real-time analytics, and decreased iteration cycle times. \n",
    "\n"
   ]
  },
  {
   "cell_type": "markdown",
   "metadata": {},
   "source": [
    "## Category Coverage\n",
    "The dataset spans 14 categories. Let's examine their distribution in terms of counts and proportions."
   ]
  },
  {
   "cell_type": "code",
   "execution_count": 7,
   "metadata": {},
   "outputs": [
    {
     "data": {
      "image/png": "[encoded data removed]",
      "text/plain": [
       "<Figure size 1200x400 with 1 Axes>"
      ]
     },
     "metadata": {},
     "output_type": "display_data"
    }
   ],
   "source": [
    "viz = Visualizer()\n",
    "ax = viz.countplot(\n",
    "    data=df,\n",
    "    y=\"category\",\n",
    "    title=\"AppVoCAI Dataset\\nDistribution of App Categories\",\n",
    "    order_by_count=True,\n",
    "    plot_counts=True,\n",
    ")"
   ]
  },
  {
   "cell_type": "markdown",
   "metadata": {},
   "source": [
    "The distribution of reviews by app category in the AppVoCAI dataset provides insight into how review data is represented within this particular dataset, rather than reflecting any actual usage or popularity patterns in the app store at large.\n",
    "\n",
    "1. **Higher Representation in Health & Fitness, Utilities, and Social Networking**: Categories such as Health & Fitness (15.6%), Utilities (13.7%), and Social Networking (11.4%) have the largest share of reviews in this dataset. This may reflect the way data was randomly sampled, rather than indicating a larger user base or greater engagement in these categories across the app store.\n",
    "\n",
    "2. **Diverse Representation Across Lifestyle, Entertainment, and Food & Drink**: Categories like Lifestyle, Entertainment, and Food & Drink are also well represented in this dataset, accounting for a moderate portion of the reviews. Again, this distribution may simply result from the dataset's random sampling approach, rather than indicating broader trends.\n",
    "\n",
    "3. **Lower Review Counts in Finance and Medical**: Some categories, such as Finance (0.3%) and Medical (3.5%), show fewer reviews in this dataset. This does not imply these categories are less popular or less reviewed in the app store but simply reflects the structure of this specific dataset.\n",
    "\n",
    "4. **Focus on Dataset-Specific Insights**: While this distribution does not represent actual app store trends, it does provide an opportunity to examine patterns and themes within each category as represented in this dataset. For example, the high representation of certain categories might allow for a richer analysis of user sentiment or feature requests in those domains.\n",
    "\n",
    "Again, this distribution should be viewed as unique to the AppVoCAI dataset, shaped by the random and stochastic nature of the acquisition process rather than as a representation of category popularity or review volume in the broader app store context."
   ]
  },
  {
   "cell_type": "markdown",
   "metadata": {},
   "source": [
    "## AppVoCAI Dataset Sample Observations \n",
    "To gain an initial, qualitative sense of the AppVoCAI dataset, let's take an early peek at a few randomly selected observations from the dataset. "
   ]
  },
  {
   "cell_type": "code",
   "execution_count": 8,
   "metadata": {},
   "outputs": [
    {
     "data": {
      "text/html": [
       "<div>\n",
       "<style scoped>\n",
       "    .dataframe tbody tr th:only-of-type {\n",
       "        vertical-align: middle;\n",
       "    }\n",
       "\n",
       "    .dataframe tbody tr th {\n",
       "        vertical-align: top;\n",
       "    }\n",
       "\n",
       "    .dataframe thead th {\n",
       "        text-align: right;\n",
       "    }\n",
       "</style>\n",
       "<table border=\"1\" class=\"dataframe\">\n",
       "  <thead>\n",
       "    <tr style=\"text-align: right;\">\n",
       "      <th></th>\n",
       "      <th>id</th>\n",
       "      <th>app_id</th>\n",
       "      <th>app_name</th>\n",
       "      <th>category_id</th>\n",
       "      <th>author</th>\n",
       "      <th>rating</th>\n",
       "      <th>content</th>\n",
       "      <th>vote_sum</th>\n",
       "      <th>vote_count</th>\n",
       "      <th>date</th>\n",
       "      <th>review_length</th>\n",
       "      <th>category</th>\n",
       "    </tr>\n",
       "  </thead>\n",
       "  <tbody>\n",
       "    <tr>\n",
       "      <th>12942</th>\n",
       "      <td>5775026681</td>\n",
       "      <td>924620788</td>\n",
       "      <td>Google Classroom</td>\n",
       "      <td>6017</td>\n",
       "      <td>c7ea6da3afd448306cc1</td>\n",
       "      <td>1</td>\n",
       "      <td>The teachers keep putting work on here and it’...</td>\n",
       "      <td>0</td>\n",
       "      <td>0</td>\n",
       "      <td>2020-04-07 09:10:31</td>\n",
       "      <td>16</td>\n",
       "      <td>Education</td>\n",
       "    </tr>\n",
       "    <tr>\n",
       "      <th>86086</th>\n",
       "      <td>8127001738</td>\n",
       "      <td>1454299300</td>\n",
       "      <td>Robo Shield Spam Call Blocker</td>\n",
       "      <td>6002</td>\n",
       "      <td>1e10c09ea07ae34aafbe</td>\n",
       "      <td>1</td>\n",
       "      <td>I downloaded and purchased the upgraded versio...</td>\n",
       "      <td>0</td>\n",
       "      <td>0</td>\n",
       "      <td>2021-12-13 21:12:24</td>\n",
       "      <td>80</td>\n",
       "      <td>Utilities</td>\n",
       "    </tr>\n",
       "    <tr>\n",
       "      <th>74742</th>\n",
       "      <td>5671113624</td>\n",
       "      <td>384830320</td>\n",
       "      <td>Life360: Find Friends &amp; Family</td>\n",
       "      <td>6005</td>\n",
       "      <td>d1759241c1ec11bca69d</td>\n",
       "      <td>1</td>\n",
       "      <td>how to get your kid to never talk to you after...</td>\n",
       "      <td>0</td>\n",
       "      <td>0</td>\n",
       "      <td>2020-03-17 04:38:11</td>\n",
       "      <td>14</td>\n",
       "      <td>Social Networking</td>\n",
       "    </tr>\n",
       "    <tr>\n",
       "      <th>37727</th>\n",
       "      <td>8475258569</td>\n",
       "      <td>888197643</td>\n",
       "      <td>SmarTrack</td>\n",
       "      <td>6013</td>\n",
       "      <td>1456d7e9442a783e78c8</td>\n",
       "      <td>1</td>\n",
       "      <td>Scale and app use to work great. But the app h...</td>\n",
       "      <td>0</td>\n",
       "      <td>0</td>\n",
       "      <td>2022-03-20 07:05:47</td>\n",
       "      <td>58</td>\n",
       "      <td>Health &amp; Fitness</td>\n",
       "    </tr>\n",
       "    <tr>\n",
       "      <th>68269</th>\n",
       "      <td>9690474627</td>\n",
       "      <td>1452906710</td>\n",
       "      <td>Wizz - Expand Your World</td>\n",
       "      <td>6005</td>\n",
       "      <td>7e23118c35cc3f3003b7</td>\n",
       "      <td>4</td>\n",
       "      <td>i lost my acoount , but other than that , this...</td>\n",
       "      <td>0</td>\n",
       "      <td>0</td>\n",
       "      <td>2023-03-08 02:37:33</td>\n",
       "      <td>17</td>\n",
       "      <td>Social Networking</td>\n",
       "    </tr>\n",
       "  </tbody>\n",
       "</table>\n",
       "</div>"
      ],
      "text/plain": [
       "               id      app_id                        app_name category_id  \\\n",
       "12942  5775026681   924620788                Google Classroom        6017   \n",
       "86086  8127001738  1454299300   Robo Shield Spam Call Blocker        6002   \n",
       "74742  5671113624   384830320  Life360: Find Friends & Family        6005   \n",
       "37727  8475258569   888197643                       SmarTrack        6013   \n",
       "68269  9690474627  1452906710        Wizz - Expand Your World        6005   \n",
       "\n",
       "                     author  rating  \\\n",
       "12942  c7ea6da3afd448306cc1       1   \n",
       "86086  1e10c09ea07ae34aafbe       1   \n",
       "74742  d1759241c1ec11bca69d       1   \n",
       "37727  1456d7e9442a783e78c8       1   \n",
       "68269  7e23118c35cc3f3003b7       4   \n",
       "\n",
       "                                                 content  vote_sum  \\\n",
       "12942  The teachers keep putting work on here and it’...         0   \n",
       "86086  I downloaded and purchased the upgraded versio...         0   \n",
       "74742  how to get your kid to never talk to you after...         0   \n",
       "37727  Scale and app use to work great. But the app h...         0   \n",
       "68269  i lost my acoount , but other than that , this...         0   \n",
       "\n",
       "       vote_count                date  review_length           category  \n",
       "12942           0 2020-04-07 09:10:31             16          Education  \n",
       "86086           0 2021-12-13 21:12:24             80          Utilities  \n",
       "74742           0 2020-03-17 04:38:11             14  Social Networking  \n",
       "37727           0 2022-03-20 07:05:47             58   Health & Fitness  \n",
       "68269           0 2023-03-08 02:37:33             17  Social Networking  "
      ]
     },
     "execution_count": 8,
     "metadata": {},
     "output_type": "execute_result"
    }
   ],
   "source": [
    "samples = df.sample(n=5, random_state=50)\n",
    "samples"
   ]
  },
  {
   "cell_type": "markdown",
   "metadata": {},
   "source": [
    "This sample illustrates a range of sentiments (ratings) and experiences, with several notable characteristics:\n",
    "\n",
    "1. **Lack of Votes**: None of the reviews have received votes, indicating low engagement with the feedback itself. This lack of interaction might suggest that users don’t often upvote or downvote reviews, potentially limiting the visibility of insightful feedback for future users.\n",
    "\n",
    "2. **Moderate Variation in Review Length**: The reviews vary from brief (11 characters) to more moderately detailed (up to 21 characters), reflecting a mix of concise and slightly elaborative feedback. This variation impacts the depth of analysis, as shorter reviews often lack detailed context, whereas slightly longer ones provide a more comprehensive view of user sentiment.\n",
    "\n",
    "3. **Presence of Emoticons in Text**: The use of emoticons, as seen in the Apple TV review, adds a layer of emotional context that underscores a positive sentiment. Emoticons may help express feelings that aren’t fully captured in text alone, adding another dimension to sentiment analysis.\n",
    "\n",
    "4. **Anonymized Author IDs**: Each review features an anonymized author ID, which is useful for tracking user feedback trends while preserving privacy. Analyzing reviews by recurring authors could reveal patterns in user loyalty, repeated issues, or consistent satisfaction.\n",
    "\n",
    "5. **Wide Range of Dates**: The reviews span dates from 2020 to 2023, indicating a mix of older and recent feedback. This time range allows for tracking changes in user satisfaction over time, potentially correlating with updates, new features, or policy changes.\n",
    "\n",
    "Let's briefly analyze each review in the sample to gain a qualitative sense of their user experiences, focusing on elements such as performance, usability, and service satisfaction. "
   ]
  },
  {
   "cell_type": "markdown",
   "metadata": {},
   "source": [
    "### DoorDash - Food Delivery\t"
   ]
  },
  {
   "cell_type": "code",
   "execution_count": 9,
   "metadata": {},
   "outputs": [
    {
     "name": "stdout",
     "output_type": "stream",
     "text": [
      "\n",
      "\n",
      "                                Google Classroom                                \n",
      "                                      id | 5775026681\n",
      "                                  app_id | 924620788\n",
      "                                app_name | Google Classroom\n",
      "                             category_id | 6017\n",
      "                                  author | c7ea6da3afd448306cc1\n",
      "                                  rating | 1\n",
      "                                vote_sum | 0\n",
      "                              vote_count | 0\n",
      "                                    date | 2020-04-07 09:10:31\n",
      "                           review_length | 16\n",
      "                                category | Education\n",
      "The teachers keep putting work on here and it’s not working and it to much work\n"
     ]
    }
   ],
   "source": [
    "printer = Printer()\n",
    "printer.print_dataframe_as_dict(\n",
    "    df=samples, list_index=0, title=samples[\"app_name\"].values[0], text_col=\"content\"\n",
    ")"
   ]
  },
  {
   "cell_type": "markdown",
   "metadata": {},
   "source": [
    "This review provides a sharp example of negative user feedback that emphasizes critical customer service and policy issues. Here's a breakdown of the content and its potential implications for further analysis:\n",
    "\n",
    "1. **Service Failure Highlight**: The user's complaint centers around DoorDash's handling of restaurant errors, specifically when a significant part of an order is missing. This indicates a gap in the customer service experience that may frustrate many users. Complaints about missing order components are especially severe in the food delivery industry, where the entire purpose of the service hinges on accurate and timely fulfillment.\n",
    "\n",
    "2. **Policy Critique**: The user mentions that DoorDash’s response to this issue is rooted in \"policy,\" which suggests an inflexible or unhelpful approach. The word \"policy\" here implies that the company’s rules may not be user-friendly or adaptable to real-world problems, which could negatively affect overall satisfaction. This sentiment may indicate an opportunity for DoorDash to reevaluate its customer support policies, especially those dealing with restaurant-related errors.\n",
    "\n",
    "3. **Warning to Potential Users**: The closing word, \"Beware,\" serves as a cautionary note to others. It’s an indicator of the strength of the user's dissatisfaction and serves as a reminder of how negative experiences can translate into reputational damage for the brand.\n",
    "\n",
    "4. **Category Context**: This review falls under the \"Food & Drink\" category, where prompt, efficient, and customer-oriented service is crucial. Policy-driven responses that fail to resolve issues could significantly undermine user trust and brand loyalty.\n",
    "\n",
    "5. **Rating**: The user gave a 1-star rating, the lowest possible, which reflects severe dissatisfaction. Such ratings contribute heavily to a negative sentiment toward the app and could indicate recurring themes when analyzed in aggregate.\n",
    "\n",
    "**Implications for Analysis**: This review suggests a need for deeper investigation into themes related to customer support effectiveness and policy inflexibility. In an Aspect-Based Sentiment Analysis (ABSA) framework, aspects like \"customer service\" (negative) and \"order accuracy\" (negative) would be flagged. The review also underscores the importance of flexible and customer-oriented solutions in maintaining trust and satisfaction, critical factors for user retention and brand perception in the food delivery sector."
   ]
  },
  {
   "cell_type": "markdown",
   "metadata": {},
   "source": [
    "### Gboard – the Google Keyboard                          \n"
   ]
  },
  {
   "cell_type": "code",
   "execution_count": 10,
   "metadata": {},
   "outputs": [
    {
     "name": "stdout",
     "output_type": "stream",
     "text": [
      "\n",
      "\n",
      "                         Robo Shield Spam Call Blocker                          \n",
      "                                      id | 8127001738\n",
      "                                  app_id | 1454299300\n",
      "                                app_name | Robo Shield Spam Call Blocker\n",
      "                             category_id | 6002\n",
      "                                  author | 1e10c09ea07ae34aafbe\n",
      "                                  rating | 1\n",
      "                                vote_sum | 0\n",
      "                              vote_count | 0\n",
      "                                    date | 2021-12-13 21:12:24\n",
      "                           review_length | 80\n",
      "                                category | Utilities\n",
      "I downloaded and purchased the upgraded version of the app. Once purchased; I\n",
      "was not able to access the settings that were supposed to be available. I\n",
      "messaged customer service and received a response that I needed to download\n",
      "Hotspot Shield for this app to work. I’m suspecting you have to pay for that app\n",
      "to work to. No where in the apps description or before purchasing that they tell\n",
      "you this. Do not download this scam of an app!\n"
     ]
    }
   ],
   "source": [
    "printer.print_dataframe_as_dict(\n",
    "    df=samples, list_index=1, title=samples[\"app_name\"].values[1], text_col=\"content\"\n",
    ")"
   ]
  },
  {
   "cell_type": "markdown",
   "metadata": {},
   "source": [
    "This review sheds light on a negative user experience, specifically focused on performance and reliability issues. Here's a breakdown of the content and implications for further analysis:\n",
    "\n",
    "1. **Initial Positive Sentiment**: The user mentions that they “loved it earlier,” which suggests that Gboard was initially a satisfying and effective tool. This indicates that a decline in performance, rather than a longstanding flaw, is the root of their dissatisfaction. For product teams, this information can guide investigations into what recent changes or updates may have caused the decline.\n",
    "\n",
    "2. **Performance and Usability Issues**: The core complaint revolves around the app “acting weird,” flashing on the screen, and then reverting to the regular keyboard. This points to a severe performance bug that interrupts the user experience. The intermittent nature of the issue, described as the app flashing and then defaulting, implies that there might be problems with app stability, resource management, or compatibility with other device components.\n",
    "\n",
    "3. **Category Context**: As a “Utilities” app, Gboard is expected to be reliable, stable, and seamlessly integrated into everyday use. Users rely heavily on their keyboards for daily communication, so any instability can be highly disruptive. This makes performance and reliability critical aspects to prioritize.\n",
    "\n",
    "4. **Rating**: The 1-star rating reflects extreme dissatisfaction and suggests that the issue is significant enough to warrant such a negative review. Persistent performance problems like these could contribute to a decline in user retention and a negative brand image.\n",
    "\n",
    "**Implications for Analysis**: This review highlights a need for the development team to prioritize fixing stability and performance-related bugs. In an Aspect-Based Sentiment Analysis (ABSA) framework, aspects like “performance” (negative) and “stability” (negative) would be flagged. Furthermore, this feedback emphasizes the importance of regular performance testing and monitoring for updates that may introduce new issues. Addressing such critical bugs could help improve user satisfaction and mitigate further reputational damage."
   ]
  },
  {
   "cell_type": "markdown",
   "metadata": {},
   "source": [
    "### Apple TV    "
   ]
  },
  {
   "cell_type": "code",
   "execution_count": 11,
   "metadata": {},
   "outputs": [
    {
     "name": "stdout",
     "output_type": "stream",
     "text": [
      "\n",
      "\n",
      "                         Life360: Find Friends & Family                         \n",
      "                                      id | 5671113624\n",
      "                                  app_id | 384830320\n",
      "                                app_name | Life360: Find Friends & Family\n",
      "                             category_id | 6005\n",
      "                                  author | d1759241c1ec11bca69d\n",
      "                                  rating | 1\n",
      "                                vote_sum | 0\n",
      "                              vote_count | 0\n",
      "                                    date | 2020-03-17 04:38:11\n",
      "                           review_length | 14\n",
      "                                category | Social Networking\n",
      "how to get your kid to never talk to you after they leave home\n"
     ]
    }
   ],
   "source": [
    "printer.print_dataframe_as_dict(\n",
    "    df=samples, list_index=2, title=samples[\"app_name\"].values[2], text_col=\"content\"\n",
    ")"
   ]
  },
  {
   "cell_type": "markdown",
   "metadata": {},
   "source": [
    "This review provides a brief yet positive user experience summary. Here's a breakdown of its content and implications for further analysis:\n",
    "\n",
    "1. **Concise Positive Sentiment**: The review is extremely short, which makes it challenging to identify specific elements of the app that the user appreciates. However, the 5-star rating strongly indicates high satisfaction. Positive feedback, even when minimal, is important for reinforcing which aspects of the app might be performing well, though additional detail would be needed to pinpoint these aspects accurately.\n",
    "\n",
    "2. **Category Context**: The app belongs to the \"Entertainment\" category, where content quality, ease of navigation, and seamless streaming are likely important aspects. Users who rate entertainment apps highly typically appreciate reliable performance, high-quality content, or an intuitive user interface. While this review does not specify, these elements may be inferred as possible contributors to the positive rating.\n",
    "\n",
    "3. **Implications for Sentiment Analysis**: Due to the brevity of this review, there are no identifiable themes or aspects to analyze in detail. However, in a broader sentiment analysis, short but high-rated reviews contribute to the overall positive sentiment of the app. This review could be grouped with others to identify general satisfaction trends or infer common themes through further aggregated analysis.\n",
    "\n",
    "4. **Impact of High Rating**: A 5-star review boosts the app's average rating and indicates user approval. While it’s not informative on its own, it serves as a valuable piece of data for overall sentiment measurement.\n",
    "\n",
    "**Implications for Further Analysis**: This review highlights the challenge of extracting meaningful insights from brief feedback. It emphasizes the importance of encouraging users to leave more detailed reviews, especially in the \"Entertainment\" category, where specifics about user experience (like content offerings, interface design, or streaming quality) can be crucial for app improvement."
   ]
  },
  {
   "cell_type": "markdown",
   "metadata": {},
   "source": [
    "### Messenger                                                   \n"
   ]
  },
  {
   "cell_type": "code",
   "execution_count": 12,
   "metadata": {},
   "outputs": [
    {
     "name": "stdout",
     "output_type": "stream",
     "text": [
      "\n",
      "\n",
      "                                   SmarTrack                                    \n",
      "                                      id | 8475258569\n",
      "                                  app_id | 888197643\n",
      "                                app_name | SmarTrack\n",
      "                             category_id | 6013\n",
      "                                  author | 1456d7e9442a783e78c8\n",
      "                                  rating | 1\n",
      "                                vote_sum | 0\n",
      "                              vote_count | 0\n",
      "                                    date | 2022-03-20 07:05:47\n",
      "                           review_length | 58\n",
      "                                category | Health & Fitness\n",
      "Scale and app use to work great. But the app hasn’t been updated in 5yrs. I\n",
      "can’t get the app to even sign in anymore just says error like everyone else’s.\n",
      "And the scale isn’t compatible with other apps so far as I can see. If they\n",
      "could get the app working again then I’d have no complaints!\n"
     ]
    }
   ],
   "source": [
    "printer.print_dataframe_as_dict(\n",
    "    df=samples, list_index=3, title=samples[\"app_name\"].values[3], text_col=\"content\"\n",
    ")"
   ]
  },
  {
   "cell_type": "markdown",
   "metadata": {},
   "source": [
    "This review highlights a significant and specific issue related to app accessibility. Here's a breakdown of the content and implications:\n",
    "\n",
    "1. **Login Issue**: The core complaint is centered around the inability to log in, with the app displaying an \"unknown error\" message. This suggests a major functionality problem that directly affects the app's usability. Login failures are critical issues in social networking apps, where continuous access is crucial for user engagement and retention.\n",
    "\n",
    "2. **Impact on User Experience**: The review’s brevity and 1-star rating emphasize the frustration associated with being locked out of an account. This kind of problem can have a serious impact on user trust, as people rely on social networking apps to stay connected and manage communication. Unresolved login issues could lead to a loss of active users.\n",
    "\n",
    "3. **Category Context**: In the \"Social Networking\" category, accessibility and reliability are paramount. Users expect seamless login experiences, and any disruptions can severely impact the perceived quality of the service. This feedback points to the need for a robust authentication system and effective error messaging to guide users when issues arise.\n",
    "\n",
    "4. **Rating**: The 1-star rating signals extreme dissatisfaction, likely reflecting how essential access is for this app’s functionality. Reviews like this can contribute significantly to a negative overall sentiment if similar complaints are frequent.\n",
    "\n",
    "**Implications for Analysis**: This review suggests that the development team should investigate potential causes for login errors and ensure that error messages are informative. In an Aspect-Based Sentiment Analysis (ABSA) framework, aspects like \"login functionality\" (negative) and \"error handling\" (negative) would be highlighted. Furthermore, focusing on user support for account recovery or troubleshooting could help mitigate frustration and improve user retention."
   ]
  },
  {
   "cell_type": "markdown",
   "metadata": {},
   "source": [
    "### MyFitnessPal: Calorie Counter App Review"
   ]
  },
  {
   "cell_type": "code",
   "execution_count": 13,
   "metadata": {},
   "outputs": [
    {
     "name": "stdout",
     "output_type": "stream",
     "text": [
      "\n",
      "\n",
      "                            Wizz - Expand Your World                            \n",
      "                                      id | 9690474627\n",
      "                                  app_id | 1452906710\n",
      "                                app_name | Wizz - Expand Your World\n",
      "                             category_id | 6005\n",
      "                                  author | 7e23118c35cc3f3003b7\n",
      "                                  rating | 4\n",
      "                                vote_sum | 0\n",
      "                              vote_count | 0\n",
      "                                    date | 2023-03-08 02:37:33\n",
      "                           review_length | 17\n",
      "                                category | Social Networking\n",
      "i lost my acoount , but other than that , this is a great app !! :))\n"
     ]
    }
   ],
   "source": [
    "printer.print_dataframe_as_dict(\n",
    "    df=samples, list_index=4, title=samples[\"app_name\"].values[4], text_col=\"content\"\n",
    ")"
   ]
  },
  {
   "cell_type": "markdown",
   "metadata": {},
   "source": [
    "This review provides balanced feedback, including both praise and suggestions for improvement. Here's a breakdown of the content and implications:\n",
    "\n",
    "1. **Positive Feature Mention**: The user appreciates the barcode scanner feature, indicating that it is well-implemented and useful. Positive mentions like this are valuable for highlighting features that resonate with users and should be maintained or further enhanced. In the Health & Fitness category, functionality that simplifies meal tracking, such as a barcode scanner, is crucial for user engagement and satisfaction.\n",
    "\n",
    "2. **Constructive Criticism**: The user suggests that the restaurant offerings be listed in alphabetical order, which would improve usability. This feedback points to a specific area where the app’s navigation or content organization could be refined. Enhancing the user experience by reorganizing content in a more intuitive manner could make meal selection and tracking more efficient.\n",
    "\n",
    "3. **Category Context**: As a Health & Fitness app, WW / WeightWatchers is used for managing diet and nutrition. Efficient organization and ease of use are critical factors for user satisfaction. The suggestion to improve the organization of restaurant listings aligns with the expectation for streamlined, user-friendly features in this category.\n",
    "\n",
    "4. **Rating**: The 4-star rating reflects a generally positive experience with room for improvement. The user is satisfied overall but sees potential for enhancement. This rating provides a constructive viewpoint, indicating that the app is strong but could be improved with relatively minor adjustments.\n",
    "\n",
    "**Implications for Analysis**: This review suggests that the barcode scanner feature is a highlight for users and should be a continued focus for development. In an Aspect-Based Sentiment Analysis (ABSA) framework, aspects like “barcode scanner” (positive) and “organization of restaurant listings” (neutral/negative) would be flagged. The feedback also underscores the importance of organizing content in a way that facilitates easy access, a consideration that could improve the overall user experience and potentially increase user satisfaction."
   ]
  },
  {
   "cell_type": "markdown",
   "metadata": {},
   "source": [
    "## Summary \n",
    "The AppVoCAI dataset contains 8.7 million reviews, submitted by approximately 7.2 million users across 34,871 apps. It is complete with no missing values; although, some `id` duplication was extant which we will address during the data cleaning effort. A sample inspection revealed a range of sentiments, review qualities, syntactic complexity and lexical diversity. Moderately large, this nearly 6 Gb dataset raises opportunities and challenges for computationally efficient data processing and analysis. \n",
    "\n",
    "\n",
    "Next up? Perplexity analysis will provide a proxy of review quality, and an indicator of potential quality issues."
   ]
  }
 ],
 "metadata": {
  "kernelspec": {
   "display_name": "appvocai",
   "language": "python",
   "name": "python3"
  },
  "language_info": {
   "codemirror_mode": {
    "name": "ipython",
    "version": 3
   },
   "file_extension": ".py",
   "mimetype": "text/x-python",
   "name": "python",
   "nbconvert_exporter": "python",
   "pygments_lexer": "ipython3",
   "version": "3.10.15"
  }
 },
 "nbformat": 4,
 "nbformat_minor": 2
}
