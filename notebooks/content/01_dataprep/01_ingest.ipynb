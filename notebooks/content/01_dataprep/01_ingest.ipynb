{
 "cells": [
  {
   "cell_type": "code",
   "execution_count": 1,
   "metadata": {
    "tags": [
     "remove-cell"
    ]
   },
   "outputs": [],
   "source": [
    "import os\n",
    "\n",
    "if \"jbook\" in os.getcwd():\n",
    "    os.chdir(os.path.abspath(os.path.join(\"../..\")))\n",
    "import warnings\n",
    "\n",
    "warnings.filterwarnings(\"ignore\")\n",
    "FORCE = False"
   ]
  },
  {
   "cell_type": "markdown",
   "metadata": {},
   "source": [
    "# AppVoCAI Dataset Ingestion\n",
    "In this section, we unbox and ingest the AppVoCAI dataset into our workspace, survey its key characteristics, and profile its structure, format, and data types, before downstream data quality assessment, cleaning, enrichment, and analysis activities."
   ]
  },
  {
   "cell_type": "code",
   "execution_count": 2,
   "metadata": {
    "tags": [
     "hide-cell"
    ]
   },
   "outputs": [],
   "source": [
    "from discover.setup import auto_wire_container\n",
    "from discover.flow.dataprep.ingest.builder import IngestStageBuilder\n",
    "\n",
    "# Wire container\n",
    "container = auto_wire_container()"
   ]
  },
  {
   "cell_type": "markdown",
   "metadata": {},
   "source": [
    "## Ingest Data\n",
    "\n",
    "The `IngestionStage` is responsible for loading raw data while ensuring it is properly prepared for downstream processing and analysis. This stage includes verifying UTF-8 encoding, casting data to appropriate types, and removing any extraneous newlines from the review text.\n",
    "\n",
    "The process begins by instantiating the `IngestStageBuilder`, which facilitates the construction of the ingest pipeline. Through a series of method calls, various tasks such as encoding verification, datatype casting, and newline removal are added to the pipeline. The final `IngestionStage` object is then exposed as a property.\n",
    "\n",
    "Once the pipeline is fully constructed, the `run()` method is invoked. This executes the ingestion workflow, applying all defined tasks and transformations. Upon successful execution, the method returns the ingested dataset, ready for further data quality analysis and processing."
   ]
  },
  {
   "cell_type": "code",
   "execution_count": 3,
   "metadata": {},
   "outputs": [
    {
     "name": "stdout",
     "output_type": "stream",
     "text": [
      "\n",
      "\n",
      "# ============================================================================== #\n",
      "#                 Data Ingestion Stage Thu, 16 Jan 2025 23:40:06                 #\n",
      "# ============================================================================== #\n",
      "\n",
      "____________________________________________________________________________\n",
      "Data Ingestion Stage                    23:40:06    23:42:13    2.0 minutes and 7.64 seconds\n",
      "\n",
      "\n",
      "# ============================================================================ #\n",
      "\n"
     ]
    }
   ],
   "source": [
    "# Create the ingest stage builder\n",
    "builder = IngestStageBuilder()\n",
    "# Add ingest tasks to the builder and return the stage object.\n",
    "stage = (\n",
    "    builder.source_filepath(\n",
    "        from_config=True\n",
    "    )  # The source filepath is in the stage configuration YAML\n",
    "    .encoding()  # Verifies UTF-8 Encoding\n",
    "    .datatypes()  # Casts appropriate datatypes, i.e. category, int, float, and datetime variables.\n",
    "    .newlines()  # Removes newlines from text\n",
    "    .build()  # Constructs the pipeline\n",
    "    .stage  # Return the stage property\n",
    ")\n",
    "# Run the stage pipeline\n",
    "dataset = stage.run(force=FORCE)"
   ]
  },
  {
   "cell_type": "markdown",
   "metadata": {},
   "source": [
    "## AppVoCAI Dataset Structure\n",
    "Let's examine the dataset structure, data types, completeness, uniqueness, and size."
   ]
  },
  {
   "cell_type": "code",
   "execution_count": 4,
   "metadata": {
    "tags": [
     "hide-cell"
    ]
   },
   "outputs": [
    {
     "data": {
      "text/html": [
       "<div>\n",
       "<style scoped>\n",
       "    .dataframe tbody tr th:only-of-type {\n",
       "        vertical-align: middle;\n",
       "    }\n",
       "\n",
       "    .dataframe tbody tr th {\n",
       "        vertical-align: top;\n",
       "    }\n",
       "\n",
       "    .dataframe thead th {\n",
       "        text-align: right;\n",
       "    }\n",
       "</style>\n",
       "<table border=\"1\" class=\"dataframe\">\n",
       "  <thead>\n",
       "    <tr style=\"text-align: right;\">\n",
       "      <th></th>\n",
       "      <th>Column</th>\n",
       "      <th>DataType</th>\n",
       "      <th>Complete</th>\n",
       "      <th>Null</th>\n",
       "      <th>Completeness</th>\n",
       "      <th>Unique</th>\n",
       "      <th>Duplicate</th>\n",
       "      <th>Uniqueness</th>\n",
       "      <th>Size (Bytes)</th>\n",
       "    </tr>\n",
       "  </thead>\n",
       "  <tbody>\n",
       "    <tr>\n",
       "      <th>0</th>\n",
       "      <td>id</td>\n",
       "      <td>string[python]</td>\n",
       "      <td>22166591</td>\n",
       "      <td>0</td>\n",
       "      <td>1.0</td>\n",
       "      <td>22166474</td>\n",
       "      <td>117</td>\n",
       "      <td>9.999947e-01</td>\n",
       "      <td>1480962173</td>\n",
       "    </tr>\n",
       "    <tr>\n",
       "      <th>1</th>\n",
       "      <td>app_id</td>\n",
       "      <td>string[python]</td>\n",
       "      <td>22166591</td>\n",
       "      <td>0</td>\n",
       "      <td>1.0</td>\n",
       "      <td>36377</td>\n",
       "      <td>22130214</td>\n",
       "      <td>1.641073e-03</td>\n",
       "      <td>1468716232</td>\n",
       "    </tr>\n",
       "    <tr>\n",
       "      <th>2</th>\n",
       "      <td>app_name</td>\n",
       "      <td>string[python]</td>\n",
       "      <td>22166591</td>\n",
       "      <td>0</td>\n",
       "      <td>1.0</td>\n",
       "      <td>36363</td>\n",
       "      <td>22130228</td>\n",
       "      <td>1.640442e-03</td>\n",
       "      <td>1871227874</td>\n",
       "    </tr>\n",
       "    <tr>\n",
       "      <th>3</th>\n",
       "      <td>category_id</td>\n",
       "      <td>category</td>\n",
       "      <td>22166591</td>\n",
       "      <td>0</td>\n",
       "      <td>1.0</td>\n",
       "      <td>14</td>\n",
       "      <td>22166577</td>\n",
       "      <td>6.315811e-07</td>\n",
       "      <td>22168001</td>\n",
       "    </tr>\n",
       "    <tr>\n",
       "      <th>4</th>\n",
       "      <td>author</td>\n",
       "      <td>string[python]</td>\n",
       "      <td>22166591</td>\n",
       "      <td>0</td>\n",
       "      <td>1.0</td>\n",
       "      <td>15710479</td>\n",
       "      <td>6456112</td>\n",
       "      <td>7.087458e-01</td>\n",
       "      <td>1706827507</td>\n",
       "    </tr>\n",
       "    <tr>\n",
       "      <th>5</th>\n",
       "      <td>rating</td>\n",
       "      <td>int16</td>\n",
       "      <td>22166591</td>\n",
       "      <td>0</td>\n",
       "      <td>1.0</td>\n",
       "      <td>5</td>\n",
       "      <td>22166586</td>\n",
       "      <td>2.255647e-07</td>\n",
       "      <td>44333182</td>\n",
       "    </tr>\n",
       "    <tr>\n",
       "      <th>6</th>\n",
       "      <td>content</td>\n",
       "      <td>string[python]</td>\n",
       "      <td>22166591</td>\n",
       "      <td>0</td>\n",
       "      <td>1.0</td>\n",
       "      <td>19078767</td>\n",
       "      <td>3087824</td>\n",
       "      <td>8.606992e-01</td>\n",
       "      <td>8070646310</td>\n",
       "    </tr>\n",
       "    <tr>\n",
       "      <th>7</th>\n",
       "      <td>vote_sum</td>\n",
       "      <td>int64</td>\n",
       "      <td>22166591</td>\n",
       "      <td>0</td>\n",
       "      <td>1.0</td>\n",
       "      <td>504</td>\n",
       "      <td>22166087</td>\n",
       "      <td>2.273692e-05</td>\n",
       "      <td>177332728</td>\n",
       "    </tr>\n",
       "    <tr>\n",
       "      <th>8</th>\n",
       "      <td>vote_count</td>\n",
       "      <td>int64</td>\n",
       "      <td>22166591</td>\n",
       "      <td>0</td>\n",
       "      <td>1.0</td>\n",
       "      <td>678</td>\n",
       "      <td>22165913</td>\n",
       "      <td>3.058657e-05</td>\n",
       "      <td>177332728</td>\n",
       "    </tr>\n",
       "    <tr>\n",
       "      <th>9</th>\n",
       "      <td>date</td>\n",
       "      <td>datetime64[ns]</td>\n",
       "      <td>22166591</td>\n",
       "      <td>0</td>\n",
       "      <td>1.0</td>\n",
       "      <td>20751108</td>\n",
       "      <td>1415483</td>\n",
       "      <td>9.361434e-01</td>\n",
       "      <td>177332728</td>\n",
       "    </tr>\n",
       "    <tr>\n",
       "      <th>10</th>\n",
       "      <td>category</td>\n",
       "      <td>category</td>\n",
       "      <td>22166591</td>\n",
       "      <td>0</td>\n",
       "      <td>1.0</td>\n",
       "      <td>14</td>\n",
       "      <td>22166577</td>\n",
       "      <td>6.315811e-07</td>\n",
       "      <td>22168090</td>\n",
       "    </tr>\n",
       "  </tbody>\n",
       "</table>\n",
       "</div>"
      ],
      "text/plain": [
       "         Column        DataType  Complete  Null  Completeness    Unique  \\\n",
       "0            id  string[python]  22166591     0           1.0  22166474   \n",
       "1        app_id  string[python]  22166591     0           1.0     36377   \n",
       "2      app_name  string[python]  22166591     0           1.0     36363   \n",
       "3   category_id        category  22166591     0           1.0        14   \n",
       "4        author  string[python]  22166591     0           1.0  15710479   \n",
       "5        rating           int16  22166591     0           1.0         5   \n",
       "6       content  string[python]  22166591     0           1.0  19078767   \n",
       "7      vote_sum           int64  22166591     0           1.0       504   \n",
       "8    vote_count           int64  22166591     0           1.0       678   \n",
       "9          date  datetime64[ns]  22166591     0           1.0  20751108   \n",
       "10     category        category  22166591     0           1.0        14   \n",
       "\n",
       "    Duplicate    Uniqueness  Size (Bytes)  \n",
       "0         117  9.999947e-01    1480962173  \n",
       "1    22130214  1.641073e-03    1468716232  \n",
       "2    22130228  1.640442e-03    1871227874  \n",
       "3    22166577  6.315811e-07      22168001  \n",
       "4     6456112  7.087458e-01    1706827507  \n",
       "5    22166586  2.255647e-07      44333182  \n",
       "6     3087824  8.606992e-01    8070646310  \n",
       "7    22166087  2.273692e-05     177332728  \n",
       "8    22165913  3.058657e-05     177332728  \n",
       "9     1415483  9.361434e-01     177332728  \n",
       "10   22166577  6.315811e-07      22168090  "
      ]
     },
     "execution_count": 4,
     "metadata": {},
     "output_type": "execute_result"
    }
   ],
   "source": [
    "dataset.info"
   ]
  },
  {
   "cell_type": "markdown",
   "metadata": {},
   "source": [
    "The dataset comprises 22,166,591 fully complete records, with no missing values, and a well-structured variety of data types. Key interpretations include:\n",
    "\n",
    "- **Data Types**: The dataset employs a thoughtful mix of data types, such as strings for identifiers and text fields, `int16` and `int64` for numerical columns like `Rating`, `Vote Sum`, and `Vote Count`, and `datetime64[ms]` for precise date tracking. This combination ensures both efficiency and accuracy in data handling.\n",
    "\n",
    "- **Duplicate Review IDs**: There are 117 duplicate `ID` values, indicating potential duplicate reviews. This suggests the need for a deduplication process to ensure data integrity and prevent biases in analysis due to repeated entries.\n",
    "\n",
    "- **Categorical Insights**: The dataset features 14 unique `Category` values, reflecting the breadth of application categories, and 5 unique `Rating` values, consistent with a standard 5-point rating scale. These are critical for categorical analyses and aggregating review sentiment.\n",
    "\n",
    "- **Duplicate Content**: The `Content` column shows high uniqueness overall but also includes significant duplicate entries. This could indicate commonly used phrases or templated responses in short reviews, which may require special handling during text analysis to differentiate between genuine user feedback and repetitive content.\n",
    "\n",
    "- **High Uniqueness in Key Columns**: Columns like `ID`, `Content`, and `Date` demonstrate high uniqueness, essential for detailed individual review analysis and time-series studies.\n",
    "\n",
    "- **Memory Efficiency**: Despite the large volume, efficient use of data types—particularly categorical and numerical fields—helps manage the dataset's memory footprint. The `Content` field, being text-heavy, dominates memory usage but is critical for in-depth textual analysis.\n",
    "\n",
    "Overall, the dataset is ready for a more robust quality analysis, with attention to duplication, relevance, validity, and privacy concerns. \n",
    "\n",
    "---"
   ]
  },
  {
   "cell_type": "markdown",
   "metadata": {},
   "source": [
    "## AppVoCAI Dataset Summary\n",
    "Here, we summarize the dataset contents in terms of reviews, apps, reviewer engagement, influence, app, and categorical breadth."
   ]
  },
  {
   "cell_type": "code",
   "execution_count": 5,
   "metadata": {},
   "outputs": [
    {
     "name": "stdout",
     "output_type": "stream",
     "text": [
      "\n",
      "\n",
      "                            AppVoCAI Dataset Summary                            \n",
      "                       Number of Reviews | 22,166,591\n",
      "                     Number of Reviewers | 15,710,479\n",
      "              Number of Repeat Reviewers | 3,604,683 (22.9%)\n",
      "         Number of Influential Reviewers | 1,033,636 (6.6%)\n",
      "                          Number of Apps | 36,377\n",
      "                    Number of Categories | 14\n",
      "                 Average Reviews per App | 609.4\n",
      "                                Features | 11\n",
      "                        Memory Size (Mb) | 14,514.01\n",
      "                    Date of First Review | 2008-07-10 10:15:37\n",
      "                     Date of Last Review | 2023-09-03 02:14:35\n"
     ]
    }
   ],
   "source": [
    "dataset.summary"
   ]
  },
  {
   "cell_type": "markdown",
   "metadata": {},
   "source": [
    "### Key Observations\n",
    "\n",
    "- **Volume and Scale**: The dataset contains a substantial number of reviews (22.17 million) and reviewers (15.71 million), indicating a broad and diverse user engagement across a wide range of applications.\n",
    "\n",
    "- **Repeat Reviewers**: Approximately 22.9% of reviewers have submitted more than one review, suggesting a significant proportion of engaged users who consistently contribute feedback. This can provide valuable longitudinal insights into user experiences and loyalty.\n",
    "\n",
    "- **Influential Reviewers**: With 6.6% of reviewers deemed influential (based on vote sum and counts), their contributions could play a pivotal role in shaping app perceptions and rankings.\n",
    "\n",
    "- **App Diversity**: The dataset covers 36,377 unique apps across 14 categories, indicating a wide-ranging scope of applications. This diversity is beneficial for conducting category-specific analyses and identifying trends within various app domains.\n",
    "\n",
    "- **Review Distribution**: On average, each app has approximately 609 reviews. This high level of engagement per app supports detailed app-level performance and sentiment analysis.\n",
    "\n",
    "- **Temporal Range**: The dataset spans over 15 years, from July 2008 to September 2023. This extensive timeframe allows for robust historical analysis, capturing the evolution of user feedback and app development trends over time.\n",
    "\n",
    "- **Memory Usage**: The dataset's size is significant, with a memory footprint of approximately 14.51 GB. This underscores the need for efficient data handling and processing strategies, particularly for large-scale analyses.\n",
    "\n",
    "- **Feature Richness**: With 11 distinct app, reviewer, and review features, the dataset enables both qualitative (review) and quantitative (rating, review_count, vote metrics) analysis of app performance and user sentiment.\n",
    "\n",
    "---\n",
    "\n",
    "### Limitations of the Dataset\n",
    "\n",
    "While the AppVoCAI dataset provides a wealth of user review and satisfaction information, there are notable limitations regarding missing data on app performance and financial metrics. Specifically, data on **downloads**, **price**, and **sales figures** are not included. These omissions limit the ability to perform comprehensive analyses that would require correlating user reviews with app popularity and financial performance. Future datasets that incorporate these factors would enable a more holistic view of the app ecosystem, enhancing the ability to draw connections between user sentiment, app success, and market performance.\n",
    "\n",
    "In summary, the AppVoCAI dataset offers a rich and expansive resource for analyzing user reviews across a wide variety of applications and categories, with strong potential for deriving actionable insights from its longitudinal and categorical data.\n",
    "\n",
    "---\n",
    "\n",
    "In the next section, we will analyze the validity, relevance, uniqueness, privacy and completeness of the dataset, providing a robust, multi-dimensional data quality analysis."
   ]
  }
 ],
 "metadata": {
  "kernelspec": {
   "display_name": "appvocai",
   "language": "python",
   "name": "python3"
  },
  "language_info": {
   "codemirror_mode": {
    "name": "ipython",
    "version": 3
   },
   "file_extension": ".py",
   "mimetype": "text/x-python",
   "name": "python",
   "nbconvert_exporter": "python",
   "pygments_lexer": "ipython3",
   "version": "3.10.15"
  }
 },
 "nbformat": 4,
 "nbformat_minor": 2
}
