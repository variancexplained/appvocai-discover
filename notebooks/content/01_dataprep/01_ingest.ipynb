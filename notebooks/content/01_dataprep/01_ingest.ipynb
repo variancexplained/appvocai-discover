{
 "cells": [
  {
   "cell_type": "code",
   "execution_count": 1,
   "metadata": {
    "tags": [
     "remove-cell"
    ]
   },
   "outputs": [],
   "source": [
    "import os\n",
    "\n",
    "if \"jbook\" in os.getcwd():\n",
    "    os.chdir(os.path.abspath(os.path.join(\"../..\")))\n",
    "import warnings\n",
    "\n",
    "warnings.filterwarnings(\"ignore\")\n",
    "FORCE = True"
   ]
  },
  {
   "cell_type": "markdown",
   "metadata": {},
   "source": [
    "# AppVoCAI Dataset Ingestion\n",
    "In this section, we unbox the dataset, survey its key characteristics, profile its structure, format, and data types, then register it as an asset, prior to downstream data quality assessment, cleaning, enrichment and analysis activities."
   ]
  },
  {
   "cell_type": "code",
   "execution_count": 2,
   "metadata": {
    "tags": [
     "hide-cell"
    ]
   },
   "outputs": [],
   "source": [
    "from discover.app.analysis import Analysis\n",
    "from discover.container import DiscoverContainer\n",
    "from discover.infra.config.flow import FlowConfigReader\n",
    "from explorify.eda.visualize.visualizer import Visualizer\n",
    "from discover.core.flow import StageDef, PhaseDef\n",
    "from discover.flow.stage.data_prep.ingest import IngestionStage\n",
    "from discover.infra.utils.visual.print import Printer"
   ]
  },
  {
   "cell_type": "code",
   "execution_count": 3,
   "metadata": {
    "tags": [
     "remove-cell"
    ]
   },
   "outputs": [],
   "source": [
    "container = DiscoverContainer()\n",
    "container.init_resources()\n",
    "container.wire(\n",
    "    modules=[\n",
    "        \"discover.flow.stage.base\",\n",
    "    ],\n",
    ")"
   ]
  },
  {
   "cell_type": "markdown",
   "metadata": {},
   "source": [
    "## Ingest Data\n",
    "The IngestionStage loads the raw data, and performs encoding verification, data type casting, and removal of newlines from the review text, ensuring data accessibility for downstream processing and analysis.   \n",
    "\n",
    "The following orchestrates the initialization and execution of the Ingestion pipeline within a broader data preparation workflow. It begins with the retrieval of a specific configuration through the `FlowConfigReader`. This reader is tasked with pulling the configuration that defines the parameters for the pipeline, specifically targeting the `INGEST` stage within the `DataPrep` phase. This configuration encapsulates the structure, settings, and tasks required for ingesting the data.\n",
    "\n",
    "With the configuration in hand, the code then proceeds to the next step: the construction of the `IngestionStage` pipeline. Using the `build` method of the `IngestionStage` class, it dynamically assembles the pipeline, injecting the necessary configurations and optionally setting a flag to force the execution of the pipeline, even if the destination data already exists. This enables flexibility, allowing the pipeline to rerun when necessary, or to skip execution if the data is up to date.\n",
    "\n",
    "Finally, the pipeline is executed by invoking the `run()` method, triggering the ingestion workflow, applying the defined tasks and operations. Upon successful execution, the method returns an asset ID, serving as a reference to the processed data. This asset ID can be used for subsequent stages or for tracking the output of the pipeline. "
   ]
  },
  {
   "cell_type": "code",
   "execution_count": 4,
   "metadata": {},
   "outputs": [
    {
     "name": "stderr",
     "output_type": "stream",
     "text": [
      "[11/22/2024 02:59:20 PM] [INFO] [discover.infra.persistence.repo.dataset.DatasetRepo] [_remove_dataset_file_by_filepath] : Removed dataset file at workspace/test/dataset/01_dataprep/appvocai_discover-01_dataprep-01_ingest-review-dataset.parquet from repository.\n",
      "[11/22/2024 02:59:20 PM] [INFO] [discover.infra.persistence.repo.dataset.DatasetRepo] [remove] : Removed dataset dataset-test-dataprep-ingest-review from the repository.\n",
      "[11/22/2024 02:59:21 PM] [DEBUG] [root] [_read] : Read file using ParquetIO and returning a DataFrame\n",
      "[11/22/2024 02:59:21 PM] [DEBUG] [VerifyEncodingTask.run] [wrapper] : Task: VerifyEncodingTask\n",
      "[11/22/2024 02:59:21 PM] [DEBUG] [VerifyEncodingTask.run] [wrapper] : Started: Fri, 22 Nov 2024 14:59:21\n",
      "[11/22/2024 02:59:21 PM] [DEBUG] [VerifyEncodingTask.run] [wrapper] : Completed: Fri, 22 Nov 2024 14:59:21\n",
      "[11/22/2024 02:59:21 PM] [DEBUG] [VerifyEncodingTask.run] [wrapper] : Runtime: 0.02 seconds\n",
      "[11/22/2024 02:59:21 PM] [DEBUG] [CastDataTypeTask.run] [wrapper] : Task: CastDataTypeTask\n",
      "[11/22/2024 02:59:21 PM] [DEBUG] [CastDataTypeTask.run] [wrapper] : Started: Fri, 22 Nov 2024 14:59:21\n",
      "[11/22/2024 02:59:21 PM] [DEBUG] [CastDataTypeTask.run] [wrapper] : Completed: Fri, 22 Nov 2024 14:59:21\n",
      "[11/22/2024 02:59:21 PM] [DEBUG] [CastDataTypeTask.run] [wrapper] : Runtime: 0.01 seconds\n",
      "[11/22/2024 02:59:21 PM] [DEBUG] [RemoveNewlinesTask.run] [wrapper] : Task: RemoveNewlinesTask\n",
      "[11/22/2024 02:59:21 PM] [DEBUG] [RemoveNewlinesTask.run] [wrapper] : Started: Fri, 22 Nov 2024 14:59:21\n",
      "[11/22/2024 02:59:21 PM] [DEBUG] [RemoveNewlinesTask.run] [wrapper] : Completed: Fri, 22 Nov 2024 14:59:21\n",
      "[11/22/2024 02:59:21 PM] [DEBUG] [RemoveNewlinesTask.run] [wrapper] : Runtime: 0.01 seconds\n"
     ]
    },
    {
     "name": "stdout",
     "output_type": "stream",
     "text": [
      "\n",
      "\n",
      "# ============================================================================== #\n",
      "#                              Data Ingestion Stage                              #\n",
      "# ============================================================================== #\n",
      "\n",
      "\n",
      "\n",
      "                               VerifyEncodingTask                               \n",
      "                               ------------------                               \n",
      "                          Start Datetime | Fri, 22 Nov 2024 14:59:21\n",
      "                       Complete Datetime | Fri, 22 Nov 2024 14:59:21\n",
      "                                 Runtime | 0.02 seconds\n",
      "\n",
      "\n",
      "                                CastDataTypeTask                                \n",
      "                                ----------------                                \n",
      "                          Start Datetime | Fri, 22 Nov 2024 14:59:21\n",
      "                       Complete Datetime | Fri, 22 Nov 2024 14:59:21\n",
      "                                 Runtime | 0.01 seconds\n",
      "\n",
      "\n",
      "                               RemoveNewlinesTask                               \n",
      "                               ------------------                               \n",
      "                          Start Datetime | Fri, 22 Nov 2024 14:59:21\n",
      "                       Complete Datetime | Fri, 22 Nov 2024 14:59:21\n",
      "                                 Runtime | 0.01 seconds\n",
      "\n",
      "\n",
      "                              ComputeReviewLength                               \n",
      "                              -------------------                               \n",
      "                          Start Datetime | Fri, 22 Nov 2024 14:59:21\n"
     ]
    },
    {
     "name": "stderr",
     "output_type": "stream",
     "text": [
      "[11/22/2024 02:59:21 PM] [DEBUG] [ComputeReviewLength.run] [wrapper] : Task: ComputeReviewLength\n",
      "[11/22/2024 02:59:21 PM] [DEBUG] [ComputeReviewLength.run] [wrapper] : Started: Fri, 22 Nov 2024 14:59:21\n",
      "[11/22/2024 02:59:21 PM] [DEBUG] [ComputeReviewLength.run] [wrapper] : Completed: Fri, 22 Nov 2024 14:59:21\n",
      "[11/22/2024 02:59:21 PM] [DEBUG] [ComputeReviewLength.run] [wrapper] : Runtime: 0.52 seconds\n",
      "[11/22/2024 02:59:21 PM] [DEBUG] [IngestionStage.run] [wrapper] : Stage: Data Ingestion Stage\n",
      "[11/22/2024 02:59:21 PM] [DEBUG] [IngestionStage.run] [wrapper] : Stage Started: Fri, 22 Nov 2024 14:59:20\n",
      "[11/22/2024 02:59:21 PM] [DEBUG] [IngestionStage.run] [wrapper] : Stage Completed: Fri, 22 Nov 2024 14:59:21\n",
      "[11/22/2024 02:59:21 PM] [DEBUG] [IngestionStage.run] [wrapper] : Stage Runtime: 0.74 seconds\n",
      "[11/22/2024 02:59:21 PM] [DEBUG] [IngestionStage.run] [wrapper] : Cached Result: True\n"
     ]
    },
    {
     "name": "stdout",
     "output_type": "stream",
     "text": [
      "                       Complete Datetime | Fri, 22 Nov 2024 14:59:21\n",
      "                                 Runtime | 0.52 seconds\n",
      "\n",
      "\n",
      "                              Data Ingestion Stage                              \n",
      "                              ====================                              \n",
      "                           Stage Started | Fri, 22 Nov 2024 14:59:20\n",
      "                         Stage Completed | Fri, 22 Nov 2024 14:59:21\n",
      "                           Stage Runtime | 0.74 seconds\n",
      "                           Cached Result | True\n",
      "\n",
      "\n",
      "# ============================================================================ #\n",
      "\n"
     ]
    }
   ],
   "source": [
    "# Obtain the configuration\n",
    "reader = FlowConfigReader()\n",
    "stage_config = reader.get_stage_config(phase=PhaseDef.DATAPREP, stage=StageDef.INGEST)\n",
    "\n",
    "# Build and run Data Ingestion Stage\n",
    "stage = IngestionStage.build(\n",
    "    stage_config=stage_config, return_dataset=True, force=FORCE\n",
    ")\n",
    "dataset = stage.run()\n",
    "df = dataset.content"
   ]
  },
  {
   "cell_type": "markdown",
   "metadata": {},
   "source": [
    "## AppVoCAI Dataset Summary\n",
    "Let's  load and summarize the data."
   ]
  },
  {
   "cell_type": "code",
   "execution_count": 5,
   "metadata": {
    "tags": [
     "hide-cell"
    ]
   },
   "outputs": [
    {
     "name": "stdout",
     "output_type": "stream",
     "text": [
      "\n",
      "\n",
      "                            AppVoCAI Dataset Summary                            \n",
      "                       Number of Reviews | 8,670\n",
      "                     Number of Reviewers | 8,668\n",
      "              Number of Repeat Reviewers | 2 (0.0%)\n",
      "         Number of Influential Reviewers | 575 (6.6%)\n",
      "                          Number of Apps | 2,636\n",
      "                    Number of Categories | 14\n",
      "                   Average Review Length | 31.4\n",
      "                 Average Reviews per App | 3.3\n",
      "                                Features | 12\n",
      "                        Memory Size (Mb) | 6.81\n",
      "                    Date of First Review | 2020-01-01 11:06:50\n",
      "                     Date of Last Review | 2023-08-29 13:25:46\n"
     ]
    }
   ],
   "source": [
    "reviews = Analysis(df=dataset.content)\n",
    "reviews.summary()"
   ]
  },
  {
   "cell_type": "markdown",
   "metadata": {},
   "source": [
    "As evidenced here, we've extracted 8.7 million reviews dated between January of 2020, and September of 2023. These reviews were contributed by over 7 million unique users, with approximately 14% identified as repeat reviewers. Notably, over 7% of the reviewers qualify as influencers, defined by having at least one review with a non-zero vote count. The dataset encompasses nearly 35,000 apps spanning 14 distinct categories. On average, each review contains 32 words, while the average number of reviews per app nears 250. With a memory footprint of 5.8 GB, the dataset is of a moderately large scale, posing both opportunities and challenges for data processing and analysis."
   ]
  },
  {
   "cell_type": "markdown",
   "metadata": {},
   "source": [
    "## Structural Analysis\n",
    "Before examining the content of the dataset, let's inspect its format and structure. "
   ]
  },
  {
   "cell_type": "code",
   "execution_count": 6,
   "metadata": {},
   "outputs": [
    {
     "data": {
      "text/html": [
       "<div>\n",
       "<style scoped>\n",
       "    .dataframe tbody tr th:only-of-type {\n",
       "        vertical-align: middle;\n",
       "    }\n",
       "\n",
       "    .dataframe tbody tr th {\n",
       "        vertical-align: top;\n",
       "    }\n",
       "\n",
       "    .dataframe thead th {\n",
       "        text-align: right;\n",
       "    }\n",
       "</style>\n",
       "<table border=\"1\" class=\"dataframe\">\n",
       "  <thead>\n",
       "    <tr style=\"text-align: right;\">\n",
       "      <th></th>\n",
       "      <th>Column</th>\n",
       "      <th>DataType</th>\n",
       "      <th>Complete</th>\n",
       "      <th>Null</th>\n",
       "      <th>Completeness</th>\n",
       "      <th>Unique</th>\n",
       "      <th>Duplicate</th>\n",
       "      <th>Uniqueness</th>\n",
       "      <th>Size (Bytes)</th>\n",
       "    </tr>\n",
       "  </thead>\n",
       "  <tbody>\n",
       "    <tr>\n",
       "      <th>0</th>\n",
       "      <td>id</td>\n",
       "      <td>string[python]</td>\n",
       "      <td>8670</td>\n",
       "      <td>0</td>\n",
       "      <td>1.0</td>\n",
       "      <td>8670</td>\n",
       "      <td>0</td>\n",
       "      <td>1.000000</td>\n",
       "      <td>581479</td>\n",
       "    </tr>\n",
       "    <tr>\n",
       "      <th>1</th>\n",
       "      <td>app_id</td>\n",
       "      <td>string[python]</td>\n",
       "      <td>8670</td>\n",
       "      <td>0</td>\n",
       "      <td>1.0</td>\n",
       "      <td>2636</td>\n",
       "      <td>6034</td>\n",
       "      <td>0.304037</td>\n",
       "      <td>576305</td>\n",
       "    </tr>\n",
       "    <tr>\n",
       "      <th>2</th>\n",
       "      <td>app_name</td>\n",
       "      <td>string[python]</td>\n",
       "      <td>8670</td>\n",
       "      <td>0</td>\n",
       "      <td>1.0</td>\n",
       "      <td>2634</td>\n",
       "      <td>6036</td>\n",
       "      <td>0.303806</td>\n",
       "      <td>703398</td>\n",
       "    </tr>\n",
       "    <tr>\n",
       "      <th>3</th>\n",
       "      <td>category_id</td>\n",
       "      <td>category</td>\n",
       "      <td>8670</td>\n",
       "      <td>0</td>\n",
       "      <td>1.0</td>\n",
       "      <td>14</td>\n",
       "      <td>8656</td>\n",
       "      <td>0.001615</td>\n",
       "      <td>10080</td>\n",
       "    </tr>\n",
       "    <tr>\n",
       "      <th>4</th>\n",
       "      <td>author</td>\n",
       "      <td>string[python]</td>\n",
       "      <td>8670</td>\n",
       "      <td>0</td>\n",
       "      <td>1.0</td>\n",
       "      <td>8668</td>\n",
       "      <td>2</td>\n",
       "      <td>0.999769</td>\n",
       "      <td>667590</td>\n",
       "    </tr>\n",
       "    <tr>\n",
       "      <th>5</th>\n",
       "      <td>rating</td>\n",
       "      <td>Int16</td>\n",
       "      <td>8670</td>\n",
       "      <td>0</td>\n",
       "      <td>1.0</td>\n",
       "      <td>5</td>\n",
       "      <td>8665</td>\n",
       "      <td>0.000577</td>\n",
       "      <td>26010</td>\n",
       "    </tr>\n",
       "    <tr>\n",
       "      <th>6</th>\n",
       "      <td>content</td>\n",
       "      <td>string[python]</td>\n",
       "      <td>8670</td>\n",
       "      <td>0</td>\n",
       "      <td>1.0</td>\n",
       "      <td>8368</td>\n",
       "      <td>302</td>\n",
       "      <td>0.965167</td>\n",
       "      <td>4192835</td>\n",
       "    </tr>\n",
       "    <tr>\n",
       "      <th>7</th>\n",
       "      <td>vote_sum</td>\n",
       "      <td>Int64</td>\n",
       "      <td>8670</td>\n",
       "      <td>0</td>\n",
       "      <td>1.0</td>\n",
       "      <td>17</td>\n",
       "      <td>8653</td>\n",
       "      <td>0.001961</td>\n",
       "      <td>78030</td>\n",
       "    </tr>\n",
       "    <tr>\n",
       "      <th>8</th>\n",
       "      <td>vote_count</td>\n",
       "      <td>Int64</td>\n",
       "      <td>8670</td>\n",
       "      <td>0</td>\n",
       "      <td>1.0</td>\n",
       "      <td>19</td>\n",
       "      <td>8651</td>\n",
       "      <td>0.002191</td>\n",
       "      <td>78030</td>\n",
       "    </tr>\n",
       "    <tr>\n",
       "      <th>9</th>\n",
       "      <td>date</td>\n",
       "      <td>datetime64[ms]</td>\n",
       "      <td>8670</td>\n",
       "      <td>0</td>\n",
       "      <td>1.0</td>\n",
       "      <td>8670</td>\n",
       "      <td>0</td>\n",
       "      <td>1.000000</td>\n",
       "      <td>69360</td>\n",
       "    </tr>\n",
       "    <tr>\n",
       "      <th>10</th>\n",
       "      <td>category</td>\n",
       "      <td>category</td>\n",
       "      <td>8670</td>\n",
       "      <td>0</td>\n",
       "      <td>1.0</td>\n",
       "      <td>14</td>\n",
       "      <td>8656</td>\n",
       "      <td>0.001615</td>\n",
       "      <td>10169</td>\n",
       "    </tr>\n",
       "    <tr>\n",
       "      <th>11</th>\n",
       "      <td>review_length</td>\n",
       "      <td>Int64</td>\n",
       "      <td>8670</td>\n",
       "      <td>0</td>\n",
       "      <td>1.0</td>\n",
       "      <td>244</td>\n",
       "      <td>8426</td>\n",
       "      <td>0.028143</td>\n",
       "      <td>78030</td>\n",
       "    </tr>\n",
       "  </tbody>\n",
       "</table>\n",
       "</div>"
      ],
      "text/plain": [
       "           Column        DataType  Complete  Null  Completeness  Unique  \\\n",
       "0              id  string[python]      8670     0           1.0    8670   \n",
       "1          app_id  string[python]      8670     0           1.0    2636   \n",
       "2        app_name  string[python]      8670     0           1.0    2634   \n",
       "3     category_id        category      8670     0           1.0      14   \n",
       "4          author  string[python]      8670     0           1.0    8668   \n",
       "5          rating           Int16      8670     0           1.0       5   \n",
       "6         content  string[python]      8670     0           1.0    8368   \n",
       "7        vote_sum           Int64      8670     0           1.0      17   \n",
       "8      vote_count           Int64      8670     0           1.0      19   \n",
       "9            date  datetime64[ms]      8670     0           1.0    8670   \n",
       "10       category        category      8670     0           1.0      14   \n",
       "11  review_length           Int64      8670     0           1.0     244   \n",
       "\n",
       "    Duplicate  Uniqueness  Size (Bytes)  \n",
       "0           0    1.000000        581479  \n",
       "1        6034    0.304037        576305  \n",
       "2        6036    0.303806        703398  \n",
       "3        8656    0.001615         10080  \n",
       "4           2    0.999769        667590  \n",
       "5        8665    0.000577         26010  \n",
       "6         302    0.965167       4192835  \n",
       "7        8653    0.001961         78030  \n",
       "8        8651    0.002191         78030  \n",
       "9           0    1.000000         69360  \n",
       "10       8656    0.001615         10169  \n",
       "11       8426    0.028143         78030  "
      ]
     },
     "execution_count": 6,
     "metadata": {},
     "output_type": "execute_result"
    }
   ],
   "source": [
    "reviews.info"
   ]
  },
  {
   "cell_type": "markdown",
   "metadata": {},
   "source": [
    "Several impressions:\n",
    "\n",
    "1. **ID and Uniqueness**: The `id` column is showing some duplication (104 items) which will require treatment during the data cleaning stage.\n",
    "\n",
    "2. **App-Specific Details (`app_id`, `app_name`)**: The cardinality of `app_id` exceeds that of `app_name` by 14, which indicates that some apps may have multiple ids, perhaps to uniquely identify different versions of the same app.\n",
    "\n",
    "3. **Category Distribution**:  `category_id` and `category` are consistent, each with only 14 unique categories, suggesting clear category classifications across apps. \n",
    "\n",
    "4. **Authors and Reviews**: Duplication stats for the `author` column indicate that approximately 29% of the authors have submitted multiple reviews; yet, the vast majority of authors in the dataset have minimal engagement. \n",
    "\n",
    "5. **Rating Consistency**: The `rating` column has only 5 unique values, presumably in [1,5], to be confirmed below.\n",
    "\n",
    "6. **Vote Metrics (`vote_count`, `vote_sum`)**: Both `vote_count` and `vote_sum` have low uniqueness, suggesting that vote distributions are limited in range, possibly clustering around common values.\n",
    "\n",
    "7. **Review Content**: Review content occupies approximately 4.26 Gb of memory, with a duplication rate approaching 12% (992,095 reviews). Duplication in text-based user generated content often indicates common patterns such as emojis and sentiment expressions throughout the dataset.\n",
    "\n",
    "8. **Date**: Review `date` is appropriately typed as a datetime64 objects, representing an offset from 1970-01-001T00:00:00. Values range from 2008-07-10 10:15:37 to 2023-09-03 02:14:35.\n",
    "\n",
    "9. **Data Completeness**: All columns are 100% complete, with no missing values, ensuring the dataset’s integrity for analysis.\n",
    "\n",
    "10. **Data Format:** Most of the variables are appropriately typed. Casting `category_id` to category, and converting *object* types to *string* types will improve IO, storage efficiency and memory utilization.  \n",
    "\n",
    "11. **Data Volume and Memory Considerations**: The dataset weighs in at about 5.8 Gb of memory, which may require special consideration during data preprocessing, analysis, and modeling stages. For instance, certain aggregations and computationally expensive analytics can be precomputed and re-used during the analysis stages, avoiding expensive calculations and supporting real-time analytics, and decreased iteration cycle times. \n",
    "\n"
   ]
  },
  {
   "cell_type": "markdown",
   "metadata": {},
   "source": [
    "## Category Coverage\n",
    "The dataset spans 14 categories. Let's examine their distribution in terms of counts and proportions."
   ]
  },
  {
   "cell_type": "code",
   "execution_count": 7,
   "metadata": {},
   "outputs": [
    {
     "name": "stderr",
     "output_type": "stream",
     "text": [
      "[11/22/2024 02:59:21 PM] [DEBUG] [matplotlib.pyplot] [switch_backend] : Loaded backend module://matplotlib_inline.backend_inline version unknown.\n",
      "[11/22/2024 02:59:21 PM] [DEBUG] [matplotlib.pyplot] [switch_backend] : Loaded backend module://matplotlib_inline.backend_inline version unknown.\n",
      "[11/22/2024 02:59:21 PM] [DEBUG] [matplotlib.font_manager] [_findfont_cached] : findfont: Matching sans\\-serif:style=normal:variant=normal:weight=normal:stretch=normal:size=10.0.\n",
      "[11/22/2024 02:59:21 PM] [DEBUG] [matplotlib.font_manager] [_findfont_cached] : findfont: score(FontEntry(fname='/home/john/miniconda3/envs/appvocai/lib/python3.10/site-packages/matplotlib/mpl-data/fonts/ttf/cmtt10.ttf', name='cmtt10', style='normal', variant='normal', weight=400, stretch='normal', size='scalable')) = 10.05\n",
      "[11/22/2024 02:59:21 PM] [DEBUG] [matplotlib.font_manager] [_findfont_cached] : findfont: score(FontEntry(fname='/home/john/miniconda3/envs/appvocai/lib/python3.10/site-packages/matplotlib/mpl-data/fonts/ttf/STIXNonUniBol.ttf', name='STIXNonUnicode', style='normal', variant='normal', weight=700, stretch='normal', size='scalable')) = 10.335\n",
      "[11/22/2024 02:59:21 PM] [DEBUG] [matplotlib.font_manager] [_findfont_cached] : findfont: score(FontEntry(fname='/home/john/miniconda3/envs/appvocai/lib/python3.10/site-packages/matplotlib/mpl-data/fonts/ttf/STIXGeneral.ttf', name='STIXGeneral', style='normal', variant='normal', weight=400, stretch='normal', size='scalable')) = 10.05\n",
      "[11/22/2024 02:59:21 PM] [DEBUG] [matplotlib.font_manager] [_findfont_cached] : findfont: score(FontEntry(fname='/home/john/miniconda3/envs/appvocai/lib/python3.10/site-packages/matplotlib/mpl-data/fonts/ttf/DejaVuSansMono-Bold.ttf', name='DejaVu Sans Mono', style='normal', variant='normal', weight=700, stretch='normal', size='scalable')) = 10.335\n",
      "[11/22/2024 02:59:21 PM] [DEBUG] [matplotlib.font_manager] [_findfont_cached] : findfont: score(FontEntry(fname='/home/john/miniconda3/envs/appvocai/lib/python3.10/site-packages/matplotlib/mpl-data/fonts/ttf/STIXGeneralBol.ttf', name='STIXGeneral', style='normal', variant='normal', weight=700, stretch='normal', size='scalable')) = 10.335\n",
      "[11/22/2024 02:59:21 PM] [DEBUG] [matplotlib.font_manager] [_findfont_cached] : findfont: score(FontEntry(fname='/home/john/miniconda3/envs/appvocai/lib/python3.10/site-packages/matplotlib/mpl-data/fonts/ttf/STIXSizOneSymBol.ttf', name='STIXSizeOneSym', style='normal', variant='normal', weight=700, stretch='normal', size='scalable')) = 10.335\n",
      "[11/22/2024 02:59:21 PM] [DEBUG] [matplotlib.font_manager] [_findfont_cached] : findfont: score(FontEntry(fname='/home/john/miniconda3/envs/appvocai/lib/python3.10/site-packages/matplotlib/mpl-data/fonts/ttf/STIXGeneralItalic.ttf', name='STIXGeneral', style='italic', variant='normal', weight=400, stretch='normal', size='scalable')) = 11.05\n",
      "[11/22/2024 02:59:21 PM] [DEBUG] [matplotlib.font_manager] [_findfont_cached] : findfont: score(FontEntry(fname='/home/john/miniconda3/envs/appvocai/lib/python3.10/site-packages/matplotlib/mpl-data/fonts/ttf/DejaVuSansDisplay.ttf', name='DejaVu Sans Display', style='normal', variant='normal', weight=400, stretch='normal', size='scalable')) = 10.05\n",
      "[11/22/2024 02:59:21 PM] [DEBUG] [matplotlib.font_manager] [_findfont_cached] : findfont: score(FontEntry(fname='/home/john/miniconda3/envs/appvocai/lib/python3.10/site-packages/matplotlib/mpl-data/fonts/ttf/STIXGeneralBolIta.ttf', name='STIXGeneral', style='italic', variant='normal', weight=700, stretch='normal', size='scalable')) = 11.335\n",
      "[11/22/2024 02:59:21 PM] [DEBUG] [matplotlib.font_manager] [_findfont_cached] : findfont: score(FontEntry(fname='/home/john/miniconda3/envs/appvocai/lib/python3.10/site-packages/matplotlib/mpl-data/fonts/ttf/DejaVuSerif-Italic.ttf', name='DejaVu Serif', style='italic', variant='normal', weight=400, stretch='normal', size='scalable')) = 11.05\n",
      "[11/22/2024 02:59:21 PM] [DEBUG] [matplotlib.font_manager] [_findfont_cached] : findfont: score(FontEntry(fname='/home/john/miniconda3/envs/appvocai/lib/python3.10/site-packages/matplotlib/mpl-data/fonts/ttf/DejaVuSerif-BoldItalic.ttf', name='DejaVu Serif', style='italic', variant='normal', weight=700, stretch='normal', size='scalable')) = 11.335\n",
      "[11/22/2024 02:59:21 PM] [DEBUG] [matplotlib.font_manager] [_findfont_cached] : findfont: score(FontEntry(fname='/home/john/miniconda3/envs/appvocai/lib/python3.10/site-packages/matplotlib/mpl-data/fonts/ttf/cmb10.ttf', name='cmb10', style='normal', variant='normal', weight=400, stretch='normal', size='scalable')) = 10.05\n",
      "[11/22/2024 02:59:21 PM] [DEBUG] [matplotlib.font_manager] [_findfont_cached] : findfont: score(FontEntry(fname='/home/john/miniconda3/envs/appvocai/lib/python3.10/site-packages/matplotlib/mpl-data/fonts/ttf/STIXSizThreeSymBol.ttf', name='STIXSizeThreeSym', style='normal', variant='normal', weight=700, stretch='normal', size='scalable')) = 10.335\n",
      "[11/22/2024 02:59:21 PM] [DEBUG] [matplotlib.font_manager] [_findfont_cached] : findfont: score(FontEntry(fname='/home/john/miniconda3/envs/appvocai/lib/python3.10/site-packages/matplotlib/mpl-data/fonts/ttf/cmss10.ttf', name='cmss10', style='normal', variant='normal', weight=400, stretch='normal', size='scalable')) = 10.05\n",
      "[11/22/2024 02:59:21 PM] [DEBUG] [matplotlib.font_manager] [_findfont_cached] : findfont: score(FontEntry(fname='/home/john/miniconda3/envs/appvocai/lib/python3.10/site-packages/matplotlib/mpl-data/fonts/ttf/STIXNonUni.ttf', name='STIXNonUnicode', style='normal', variant='normal', weight=400, stretch='normal', size='scalable')) = 10.05\n",
      "[11/22/2024 02:59:21 PM] [DEBUG] [matplotlib.font_manager] [_findfont_cached] : findfont: score(FontEntry(fname='/home/john/miniconda3/envs/appvocai/lib/python3.10/site-packages/matplotlib/mpl-data/fonts/ttf/cmex10.ttf', name='cmex10', style='normal', variant='normal', weight=400, stretch='normal', size='scalable')) = 10.05\n",
      "[11/22/2024 02:59:21 PM] [DEBUG] [matplotlib.font_manager] [_findfont_cached] : findfont: score(FontEntry(fname='/home/john/miniconda3/envs/appvocai/lib/python3.10/site-packages/matplotlib/mpl-data/fonts/ttf/cmsy10.ttf', name='cmsy10', style='normal', variant='normal', weight=400, stretch='normal', size='scalable')) = 10.05\n",
      "[11/22/2024 02:59:21 PM] [DEBUG] [matplotlib.font_manager] [_findfont_cached] : findfont: score(FontEntry(fname='/home/john/miniconda3/envs/appvocai/lib/python3.10/site-packages/matplotlib/mpl-data/fonts/ttf/DejaVuSans-Bold.ttf', name='DejaVu Sans', style='normal', variant='normal', weight=700, stretch='normal', size='scalable')) = 2.335\n",
      "[11/22/2024 02:59:21 PM] [DEBUG] [matplotlib.font_manager] [_findfont_cached] : findfont: score(FontEntry(fname='/home/john/miniconda3/envs/appvocai/lib/python3.10/site-packages/matplotlib/mpl-data/fonts/ttf/STIXSizOneSymReg.ttf', name='STIXSizeOneSym', style='normal', variant='normal', weight=400, stretch='normal', size='scalable')) = 10.05\n",
      "[11/22/2024 02:59:21 PM] [DEBUG] [matplotlib.font_manager] [_findfont_cached] : findfont: score(FontEntry(fname='/home/john/miniconda3/envs/appvocai/lib/python3.10/site-packages/matplotlib/mpl-data/fonts/ttf/STIXSizFourSymBol.ttf', name='STIXSizeFourSym', style='normal', variant='normal', weight=700, stretch='normal', size='scalable')) = 10.335\n",
      "[11/22/2024 02:59:21 PM] [DEBUG] [matplotlib.font_manager] [_findfont_cached] : findfont: score(FontEntry(fname='/home/john/miniconda3/envs/appvocai/lib/python3.10/site-packages/matplotlib/mpl-data/fonts/ttf/STIXNonUniIta.ttf', name='STIXNonUnicode', style='italic', variant='normal', weight=400, stretch='normal', size='scalable')) = 11.05\n",
      "[11/22/2024 02:59:21 PM] [DEBUG] [matplotlib.font_manager] [_findfont_cached] : findfont: score(FontEntry(fname='/home/john/miniconda3/envs/appvocai/lib/python3.10/site-packages/matplotlib/mpl-data/fonts/ttf/cmr10.ttf', name='cmr10', style='normal', variant='normal', weight=400, stretch='normal', size='scalable')) = 10.05\n",
      "[11/22/2024 02:59:21 PM] [DEBUG] [matplotlib.font_manager] [_findfont_cached] : findfont: score(FontEntry(fname='/home/john/miniconda3/envs/appvocai/lib/python3.10/site-packages/matplotlib/mpl-data/fonts/ttf/DejaVuSerifDisplay.ttf', name='DejaVu Serif Display', style='normal', variant='normal', weight=400, stretch='normal', size='scalable')) = 10.05\n",
      "[11/22/2024 02:59:21 PM] [DEBUG] [matplotlib.font_manager] [_findfont_cached] : findfont: score(FontEntry(fname='/home/john/miniconda3/envs/appvocai/lib/python3.10/site-packages/matplotlib/mpl-data/fonts/ttf/DejaVuSansMono-BoldOblique.ttf', name='DejaVu Sans Mono', style='oblique', variant='normal', weight=700, stretch='normal', size='scalable')) = 11.335\n",
      "[11/22/2024 02:59:21 PM] [DEBUG] [matplotlib.font_manager] [_findfont_cached] : findfont: score(FontEntry(fname='/home/john/miniconda3/envs/appvocai/lib/python3.10/site-packages/matplotlib/mpl-data/fonts/ttf/STIXSizFourSymReg.ttf', name='STIXSizeFourSym', style='normal', variant='normal', weight=400, stretch='normal', size='scalable')) = 10.05\n",
      "[11/22/2024 02:59:21 PM] [DEBUG] [matplotlib.font_manager] [_findfont_cached] : findfont: score(FontEntry(fname='/home/john/miniconda3/envs/appvocai/lib/python3.10/site-packages/matplotlib/mpl-data/fonts/ttf/DejaVuSans.ttf', name='DejaVu Sans', style='normal', variant='normal', weight=400, stretch='normal', size='scalable')) = 2.05\n",
      "[11/22/2024 02:59:21 PM] [DEBUG] [matplotlib.font_manager] [_findfont_cached] : findfont: score(FontEntry(fname='/home/john/miniconda3/envs/appvocai/lib/python3.10/site-packages/matplotlib/mpl-data/fonts/ttf/DejaVuSerif.ttf', name='DejaVu Serif', style='normal', variant='normal', weight=400, stretch='normal', size='scalable')) = 10.05\n",
      "[11/22/2024 02:59:21 PM] [DEBUG] [matplotlib.font_manager] [_findfont_cached] : findfont: score(FontEntry(fname='/home/john/miniconda3/envs/appvocai/lib/python3.10/site-packages/matplotlib/mpl-data/fonts/ttf/STIXSizFiveSymReg.ttf', name='STIXSizeFiveSym', style='normal', variant='normal', weight=400, stretch='normal', size='scalable')) = 10.05\n",
      "[11/22/2024 02:59:21 PM] [DEBUG] [matplotlib.font_manager] [_findfont_cached] : findfont: score(FontEntry(fname='/home/john/miniconda3/envs/appvocai/lib/python3.10/site-packages/matplotlib/mpl-data/fonts/ttf/cmmi10.ttf', name='cmmi10', style='normal', variant='normal', weight=400, stretch='normal', size='scalable')) = 10.05\n",
      "[11/22/2024 02:59:21 PM] [DEBUG] [matplotlib.font_manager] [_findfont_cached] : findfont: score(FontEntry(fname='/home/john/miniconda3/envs/appvocai/lib/python3.10/site-packages/matplotlib/mpl-data/fonts/ttf/STIXSizTwoSymReg.ttf', name='STIXSizeTwoSym', style='normal', variant='normal', weight=400, stretch='normal', size='scalable')) = 10.05\n",
      "[11/22/2024 02:59:21 PM] [DEBUG] [matplotlib.font_manager] [_findfont_cached] : findfont: score(FontEntry(fname='/home/john/miniconda3/envs/appvocai/lib/python3.10/site-packages/matplotlib/mpl-data/fonts/ttf/DejaVuSansMono.ttf', name='DejaVu Sans Mono', style='normal', variant='normal', weight=400, stretch='normal', size='scalable')) = 10.05\n",
      "[11/22/2024 02:59:21 PM] [DEBUG] [matplotlib.font_manager] [_findfont_cached] : findfont: score(FontEntry(fname='/home/john/miniconda3/envs/appvocai/lib/python3.10/site-packages/matplotlib/mpl-data/fonts/ttf/STIXNonUniBolIta.ttf', name='STIXNonUnicode', style='italic', variant='normal', weight=700, stretch='normal', size='scalable')) = 11.335\n",
      "[11/22/2024 02:59:21 PM] [DEBUG] [matplotlib.font_manager] [_findfont_cached] : findfont: score(FontEntry(fname='/home/john/miniconda3/envs/appvocai/lib/python3.10/site-packages/matplotlib/mpl-data/fonts/ttf/DejaVuSerif-Bold.ttf', name='DejaVu Serif', style='normal', variant='normal', weight=700, stretch='normal', size='scalable')) = 10.335\n",
      "[11/22/2024 02:59:21 PM] [DEBUG] [matplotlib.font_manager] [_findfont_cached] : findfont: score(FontEntry(fname='/home/john/miniconda3/envs/appvocai/lib/python3.10/site-packages/matplotlib/mpl-data/fonts/ttf/STIXSizThreeSymReg.ttf', name='STIXSizeThreeSym', style='normal', variant='normal', weight=400, stretch='normal', size='scalable')) = 10.05\n",
      "[11/22/2024 02:59:21 PM] [DEBUG] [matplotlib.font_manager] [_findfont_cached] : findfont: score(FontEntry(fname='/home/john/miniconda3/envs/appvocai/lib/python3.10/site-packages/matplotlib/mpl-data/fonts/ttf/DejaVuSansMono-Oblique.ttf', name='DejaVu Sans Mono', style='oblique', variant='normal', weight=400, stretch='normal', size='scalable')) = 11.05\n",
      "[11/22/2024 02:59:21 PM] [DEBUG] [matplotlib.font_manager] [_findfont_cached] : findfont: score(FontEntry(fname='/home/john/miniconda3/envs/appvocai/lib/python3.10/site-packages/matplotlib/mpl-data/fonts/ttf/STIXSizTwoSymBol.ttf', name='STIXSizeTwoSym', style='normal', variant='normal', weight=700, stretch='normal', size='scalable')) = 10.335\n",
      "[11/22/2024 02:59:21 PM] [DEBUG] [matplotlib.font_manager] [_findfont_cached] : findfont: score(FontEntry(fname='/home/john/miniconda3/envs/appvocai/lib/python3.10/site-packages/matplotlib/mpl-data/fonts/ttf/DejaVuSans-BoldOblique.ttf', name='DejaVu Sans', style='oblique', variant='normal', weight=700, stretch='normal', size='scalable')) = 3.335\n",
      "[11/22/2024 02:59:21 PM] [DEBUG] [matplotlib.font_manager] [_findfont_cached] : findfont: score(FontEntry(fname='/home/john/miniconda3/envs/appvocai/lib/python3.10/site-packages/matplotlib/mpl-data/fonts/ttf/DejaVuSans-Oblique.ttf', name='DejaVu Sans', style='oblique', variant='normal', weight=400, stretch='normal', size='scalable')) = 3.05\n",
      "[11/22/2024 02:59:21 PM] [DEBUG] [matplotlib.font_manager] [_findfont_cached] : findfont: score(FontEntry(fname='/usr/share/fonts/truetype/ubuntu/Ubuntu-RI.ttf', name='Ubuntu', style='italic', variant='normal', weight=400, stretch='normal', size='scalable')) = 11.05\n",
      "[11/22/2024 02:59:21 PM] [DEBUG] [matplotlib.font_manager] [_findfont_cached] : findfont: score(FontEntry(fname='/home/john/miniconda3/envs/appinsight/fonts/SourceCodePro-Medium.ttf', name='Source Code Pro', style='normal', variant='normal', weight=500, stretch='normal', size='scalable')) = 10.145\n",
      "[11/22/2024 02:59:21 PM] [DEBUG] [matplotlib.font_manager] [_findfont_cached] : findfont: score(FontEntry(fname='/home/john/miniconda3/envs/appinsight/fonts/SourceCodePro-ExtraLightIt.ttf', name='Source Code Pro', style='italic', variant='normal', weight=200, stretch='normal', size='scalable')) = 11.24\n",
      "[11/22/2024 02:59:21 PM] [DEBUG] [matplotlib.font_manager] [_findfont_cached] : findfont: score(FontEntry(fname='/usr/share/fonts/truetype/ubuntu/UbuntuMono-B.ttf', name='Ubuntu Mono', style='normal', variant='normal', weight=700, stretch='normal', size='scalable')) = 10.335\n",
      "[11/22/2024 02:59:21 PM] [DEBUG] [matplotlib.font_manager] [_findfont_cached] : findfont: score(FontEntry(fname='/home/john/miniconda3/envs/appinsight/fonts/Ubuntu-B.ttf', name='Ubuntu', style='normal', variant='normal', weight=700, stretch='normal', size='scalable')) = 10.335\n",
      "[11/22/2024 02:59:21 PM] [DEBUG] [matplotlib.font_manager] [_findfont_cached] : findfont: score(FontEntry(fname='/home/john/miniconda3/envs/appinsight/fonts/SourceCodePro-SemiboldIt.ttf', name='Source Code Pro', style='italic', variant='normal', weight=600, stretch='normal', size='scalable')) = 11.24\n",
      "[11/22/2024 02:59:21 PM] [DEBUG] [matplotlib.font_manager] [_findfont_cached] : findfont: score(FontEntry(fname='/home/john/miniconda3/envs/appinsight/fonts/SourceCodePro-Black.ttf', name='Source Code Pro', style='normal', variant='normal', weight=900, stretch='normal', size='scalable')) = 10.525\n",
      "[11/22/2024 02:59:21 PM] [DEBUG] [matplotlib.font_manager] [_findfont_cached] : findfont: score(FontEntry(fname='/home/john/miniconda3/envs/appinsight/fonts/Ubuntu-BI.ttf', name='Ubuntu', style='italic', variant='normal', weight=700, stretch='normal', size='scalable')) = 11.335\n",
      "[11/22/2024 02:59:21 PM] [DEBUG] [matplotlib.font_manager] [_findfont_cached] : findfont: score(FontEntry(fname='/home/john/miniconda3/envs/appinsight/fonts/DejaVuSans.ttf', name='DejaVu Sans', style='normal', variant='normal', weight=400, stretch='normal', size='scalable')) = 2.05\n",
      "[11/22/2024 02:59:21 PM] [DEBUG] [matplotlib.font_manager] [_findfont_cached] : findfont: score(FontEntry(fname='/home/john/miniconda3/envs/appinsight/fonts/SourceCodePro-Regular.ttf', name='Source Code Pro', style='normal', variant='normal', weight=400, stretch='normal', size='scalable')) = 10.05\n",
      "[11/22/2024 02:59:21 PM] [DEBUG] [matplotlib.font_manager] [_findfont_cached] : findfont: score(FontEntry(fname='/home/john/miniconda3/envs/appinsight/fonts/Ubuntu-MI.ttf', name='Ubuntu', style='italic', variant='normal', weight=500, stretch='normal', size='scalable')) = 11.145\n",
      "[11/22/2024 02:59:21 PM] [DEBUG] [matplotlib.font_manager] [_findfont_cached] : findfont: score(FontEntry(fname='/home/john/miniconda3/envs/appinsight/fonts/Ubuntu-LI.ttf', name='Ubuntu', style='italic', variant='normal', weight=300, stretch='normal', size='scalable')) = 11.145\n",
      "[11/22/2024 02:59:21 PM] [DEBUG] [matplotlib.font_manager] [_findfont_cached] : findfont: score(FontEntry(fname='/home/john/miniconda3/envs/appinsight/fonts/UbuntuMono-BI.ttf', name='Ubuntu Mono', style='italic', variant='normal', weight=700, stretch='normal', size='scalable')) = 11.335\n",
      "[11/22/2024 02:59:21 PM] [DEBUG] [matplotlib.font_manager] [_findfont_cached] : findfont: score(FontEntry(fname='/home/john/miniconda3/envs/appinsight/fonts/SourceCodePro-It.ttf', name='Source Code Pro', style='italic', variant='normal', weight=400, stretch='normal', size='scalable')) = 11.05\n",
      "[11/22/2024 02:59:21 PM] [DEBUG] [matplotlib.font_manager] [_findfont_cached] : findfont: score(FontEntry(fname='/home/john/miniconda3/envs/appinsight/fonts/Ubuntu-Th.ttf', name='Ubuntu', style='normal', variant='normal', weight=250, stretch='normal', size='scalable')) = 10.1925\n",
      "[11/22/2024 02:59:21 PM] [DEBUG] [matplotlib.font_manager] [_findfont_cached] : findfont: score(FontEntry(fname='/home/john/miniconda3/envs/appinsight/fonts/Inconsolata-Regular.ttf', name='Inconsolata', style='normal', variant='normal', weight=400, stretch='normal', size='scalable')) = 10.05\n",
      "[11/22/2024 02:59:21 PM] [DEBUG] [matplotlib.font_manager] [_findfont_cached] : findfont: score(FontEntry(fname='/home/john/miniconda3/envs/appinsight/fonts/Ubuntu-M.ttf', name='Ubuntu', style='normal', variant='normal', weight=500, stretch='normal', size='scalable')) = 10.145\n",
      "[11/22/2024 02:59:21 PM] [DEBUG] [matplotlib.font_manager] [_findfont_cached] : findfont: score(FontEntry(fname='/home/john/miniconda3/envs/appinsight/fonts/SourceCodePro-LightIt.ttf', name='Source Code Pro', style='italic', variant='normal', weight=300, stretch='normal', size='scalable')) = 11.145\n",
      "[11/22/2024 02:59:21 PM] [DEBUG] [matplotlib.font_manager] [_findfont_cached] : findfont: score(FontEntry(fname='/home/john/miniconda3/envs/appinsight/fonts/SourceCodePro-MediumIt.ttf', name='Source Code Pro', style='italic', variant='normal', weight=500, stretch='normal', size='scalable')) = 11.145\n",
      "[11/22/2024 02:59:21 PM] [DEBUG] [matplotlib.font_manager] [_findfont_cached] : findfont: score(FontEntry(fname='/home/john/miniconda3/envs/appinsight/fonts/SourceCodePro-Light.ttf', name='Source Code Pro', style='normal', variant='normal', weight=300, stretch='normal', size='scalable')) = 10.145\n",
      "[11/22/2024 02:59:21 PM] [DEBUG] [matplotlib.font_manager] [_findfont_cached] : findfont: score(FontEntry(fname='/usr/share/fonts/truetype/ubuntu/Ubuntu-R.ttf', name='Ubuntu', style='normal', variant='normal', weight=400, stretch='normal', size='scalable')) = 10.05\n",
      "[11/22/2024 02:59:21 PM] [DEBUG] [matplotlib.font_manager] [_findfont_cached] : findfont: score(FontEntry(fname='/home/john/miniconda3/envs/appinsight/fonts/Ubuntu-C.ttf', name='Ubuntu Condensed', style='normal', variant='normal', weight=400, stretch='condensed', size='scalable')) = 10.25\n",
      "[11/22/2024 02:59:21 PM] [DEBUG] [matplotlib.font_manager] [_findfont_cached] : findfont: score(FontEntry(fname='/usr/share/fonts/truetype/ubuntu/Ubuntu-MI.ttf', name='Ubuntu', style='italic', variant='normal', weight=500, stretch='normal', size='scalable')) = 11.145\n",
      "[11/22/2024 02:59:21 PM] [DEBUG] [matplotlib.font_manager] [_findfont_cached] : findfont: score(FontEntry(fname='/usr/share/fonts/truetype/ubuntu/Ubuntu-M.ttf', name='Ubuntu', style='normal', variant='normal', weight=500, stretch='normal', size='scalable')) = 10.145\n",
      "[11/22/2024 02:59:21 PM] [DEBUG] [matplotlib.font_manager] [_findfont_cached] : findfont: score(FontEntry(fname='/home/john/miniconda3/envs/appinsight/fonts/UbuntuMono-B.ttf', name='Ubuntu Mono', style='normal', variant='normal', weight=700, stretch='normal', size='scalable')) = 10.335\n",
      "[11/22/2024 02:59:21 PM] [DEBUG] [matplotlib.font_manager] [_findfont_cached] : findfont: score(FontEntry(fname='/home/john/miniconda3/envs/appinsight/fonts/Ubuntu-R.ttf', name='Ubuntu', style='normal', variant='normal', weight=400, stretch='normal', size='scalable')) = 10.05\n",
      "[11/22/2024 02:59:21 PM] [DEBUG] [matplotlib.font_manager] [_findfont_cached] : findfont: score(FontEntry(fname='/usr/share/fonts/truetype/ubuntu/Ubuntu-BI.ttf', name='Ubuntu', style='italic', variant='normal', weight=700, stretch='normal', size='scalable')) = 11.335\n",
      "[11/22/2024 02:59:21 PM] [DEBUG] [matplotlib.font_manager] [_findfont_cached] : findfont: score(FontEntry(fname='/usr/share/fonts/truetype/ubuntu/UbuntuMono-BI.ttf', name='Ubuntu Mono', style='italic', variant='normal', weight=700, stretch='normal', size='scalable')) = 11.335\n",
      "[11/22/2024 02:59:21 PM] [DEBUG] [matplotlib.font_manager] [_findfont_cached] : findfont: score(FontEntry(fname='/usr/share/fonts/truetype/ubuntu/Ubuntu-L.ttf', name='Ubuntu', style='normal', variant='normal', weight=300, stretch='normal', size='scalable')) = 10.145\n",
      "[11/22/2024 02:59:21 PM] [DEBUG] [matplotlib.font_manager] [_findfont_cached] : findfont: score(FontEntry(fname='/home/john/miniconda3/envs/appinsight/fonts/Ubuntu-RI.ttf', name='Ubuntu', style='italic', variant='normal', weight=400, stretch='normal', size='scalable')) = 11.05\n",
      "[11/22/2024 02:59:21 PM] [DEBUG] [matplotlib.font_manager] [_findfont_cached] : findfont: score(FontEntry(fname='/usr/share/fonts/truetype/ubuntu/Ubuntu-C.ttf', name='Ubuntu Condensed', style='normal', variant='normal', weight=400, stretch='condensed', size='scalable')) = 10.25\n",
      "[11/22/2024 02:59:21 PM] [DEBUG] [matplotlib.font_manager] [_findfont_cached] : findfont: score(FontEntry(fname='/home/john/miniconda3/envs/appinsight/fonts/Inconsolata-Bold.ttf', name='Inconsolata', style='normal', variant='normal', weight=700, stretch='normal', size='scalable')) = 10.335\n",
      "[11/22/2024 02:59:21 PM] [DEBUG] [matplotlib.font_manager] [_findfont_cached] : findfont: score(FontEntry(fname='/usr/share/fonts/truetype/ubuntu/Ubuntu-Th.ttf', name='Ubuntu', style='normal', variant='normal', weight=250, stretch='normal', size='scalable')) = 10.1925\n",
      "[11/22/2024 02:59:21 PM] [DEBUG] [matplotlib.font_manager] [_findfont_cached] : findfont: score(FontEntry(fname='/usr/share/fonts/truetype/ubuntu/Ubuntu-LI.ttf', name='Ubuntu', style='italic', variant='normal', weight=300, stretch='normal', size='scalable')) = 11.145\n",
      "[11/22/2024 02:59:21 PM] [DEBUG] [matplotlib.font_manager] [_findfont_cached] : findfont: score(FontEntry(fname='/home/john/miniconda3/envs/appinsight/fonts/SourceCodePro-BoldIt.ttf', name='Source Code Pro', style='italic', variant='normal', weight=700, stretch='normal', size='scalable')) = 11.335\n",
      "[11/22/2024 02:59:21 PM] [DEBUG] [matplotlib.font_manager] [_findfont_cached] : findfont: score(FontEntry(fname='/home/john/miniconda3/envs/appinsight/fonts/SourceCodePro-Semibold.ttf', name='Source Code Pro', style='normal', variant='normal', weight=600, stretch='normal', size='scalable')) = 10.24\n",
      "[11/22/2024 02:59:21 PM] [DEBUG] [matplotlib.font_manager] [_findfont_cached] : findfont: score(FontEntry(fname='/usr/share/fonts/truetype/ubuntu/Ubuntu-B.ttf', name='Ubuntu', style='normal', variant='normal', weight=700, stretch='normal', size='scalable')) = 10.335\n",
      "[11/22/2024 02:59:21 PM] [DEBUG] [matplotlib.font_manager] [_findfont_cached] : findfont: score(FontEntry(fname='/home/john/miniconda3/envs/appinsight/fonts/Ubuntu-L.ttf', name='Ubuntu', style='normal', variant='normal', weight=300, stretch='normal', size='scalable')) = 10.145\n",
      "[11/22/2024 02:59:21 PM] [DEBUG] [matplotlib.font_manager] [_findfont_cached] : findfont: score(FontEntry(fname='/usr/share/fonts/truetype/ubuntu/UbuntuMono-RI.ttf', name='Ubuntu Mono', style='italic', variant='normal', weight=400, stretch='normal', size='scalable')) = 11.05\n",
      "[11/22/2024 02:59:21 PM] [DEBUG] [matplotlib.font_manager] [_findfont_cached] : findfont: score(FontEntry(fname='/home/john/miniconda3/envs/appinsight/fonts/UbuntuMono-RI.ttf', name='Ubuntu Mono', style='italic', variant='normal', weight=400, stretch='normal', size='scalable')) = 11.05\n",
      "[11/22/2024 02:59:21 PM] [DEBUG] [matplotlib.font_manager] [_findfont_cached] : findfont: score(FontEntry(fname='/usr/share/fonts/truetype/ubuntu/UbuntuMono-R.ttf', name='Ubuntu Mono', style='normal', variant='normal', weight=400, stretch='normal', size='scalable')) = 10.05\n",
      "[11/22/2024 02:59:21 PM] [DEBUG] [matplotlib.font_manager] [_findfont_cached] : findfont: score(FontEntry(fname='/home/john/miniconda3/envs/appinsight/fonts/UbuntuMono-R.ttf', name='Ubuntu Mono', style='normal', variant='normal', weight=400, stretch='normal', size='scalable')) = 10.05\n",
      "[11/22/2024 02:59:21 PM] [DEBUG] [matplotlib.font_manager] [_findfont_cached] : findfont: score(FontEntry(fname='/home/john/miniconda3/envs/appinsight/fonts/SourceCodePro-Bold.ttf', name='Source Code Pro', style='normal', variant='normal', weight=700, stretch='normal', size='scalable')) = 10.335\n",
      "[11/22/2024 02:59:21 PM] [DEBUG] [matplotlib.font_manager] [_findfont_cached] : findfont: score(FontEntry(fname='/home/john/miniconda3/envs/appinsight/fonts/SourceCodePro-ExtraLight.ttf', name='Source Code Pro', style='normal', variant='normal', weight=200, stretch='normal', size='scalable')) = 10.24\n",
      "[11/22/2024 02:59:21 PM] [DEBUG] [matplotlib.font_manager] [_findfont_cached] : findfont: score(FontEntry(fname='/home/john/miniconda3/envs/appinsight/fonts/SourceCodePro-BlackIt.ttf', name='Source Code Pro', style='italic', variant='normal', weight=900, stretch='normal', size='scalable')) = 11.525\n",
      "[11/22/2024 02:59:21 PM] [DEBUG] [matplotlib.font_manager] [_findfont_cached] : findfont: Matching sans\\-serif:style=normal:variant=normal:weight=normal:stretch=normal:size=10.0 to DejaVu Sans ('/home/john/miniconda3/envs/appvocai/lib/python3.10/site-packages/matplotlib/mpl-data/fonts/ttf/DejaVuSans.ttf') with score of 2.050000.\n",
      "[11/22/2024 02:59:22 PM] [DEBUG] [matplotlib.font_manager] [_findfont_cached] : findfont: Matching sans\\-serif:style=normal:variant=normal:weight=normal:stretch=normal:size=12.0.\n",
      "[11/22/2024 02:59:22 PM] [DEBUG] [matplotlib.font_manager] [_findfont_cached] : findfont: score(FontEntry(fname='/home/john/miniconda3/envs/appvocai/lib/python3.10/site-packages/matplotlib/mpl-data/fonts/ttf/cmtt10.ttf', name='cmtt10', style='normal', variant='normal', weight=400, stretch='normal', size='scalable')) = 10.05\n",
      "[11/22/2024 02:59:22 PM] [DEBUG] [matplotlib.font_manager] [_findfont_cached] : findfont: score(FontEntry(fname='/home/john/miniconda3/envs/appvocai/lib/python3.10/site-packages/matplotlib/mpl-data/fonts/ttf/STIXNonUniBol.ttf', name='STIXNonUnicode', style='normal', variant='normal', weight=700, stretch='normal', size='scalable')) = 10.335\n",
      "[11/22/2024 02:59:22 PM] [DEBUG] [matplotlib.font_manager] [_findfont_cached] : findfont: score(FontEntry(fname='/home/john/miniconda3/envs/appvocai/lib/python3.10/site-packages/matplotlib/mpl-data/fonts/ttf/STIXGeneral.ttf', name='STIXGeneral', style='normal', variant='normal', weight=400, stretch='normal', size='scalable')) = 10.05\n",
      "[11/22/2024 02:59:22 PM] [DEBUG] [matplotlib.font_manager] [_findfont_cached] : findfont: score(FontEntry(fname='/home/john/miniconda3/envs/appvocai/lib/python3.10/site-packages/matplotlib/mpl-data/fonts/ttf/DejaVuSansMono-Bold.ttf', name='DejaVu Sans Mono', style='normal', variant='normal', weight=700, stretch='normal', size='scalable')) = 10.335\n",
      "[11/22/2024 02:59:22 PM] [DEBUG] [matplotlib.font_manager] [_findfont_cached] : findfont: score(FontEntry(fname='/home/john/miniconda3/envs/appvocai/lib/python3.10/site-packages/matplotlib/mpl-data/fonts/ttf/STIXGeneralBol.ttf', name='STIXGeneral', style='normal', variant='normal', weight=700, stretch='normal', size='scalable')) = 10.335\n",
      "[11/22/2024 02:59:22 PM] [DEBUG] [matplotlib.font_manager] [_findfont_cached] : findfont: score(FontEntry(fname='/home/john/miniconda3/envs/appvocai/lib/python3.10/site-packages/matplotlib/mpl-data/fonts/ttf/STIXSizOneSymBol.ttf', name='STIXSizeOneSym', style='normal', variant='normal', weight=700, stretch='normal', size='scalable')) = 10.335\n",
      "[11/22/2024 02:59:22 PM] [DEBUG] [matplotlib.font_manager] [_findfont_cached] : findfont: score(FontEntry(fname='/home/john/miniconda3/envs/appvocai/lib/python3.10/site-packages/matplotlib/mpl-data/fonts/ttf/STIXGeneralItalic.ttf', name='STIXGeneral', style='italic', variant='normal', weight=400, stretch='normal', size='scalable')) = 11.05\n",
      "[11/22/2024 02:59:22 PM] [DEBUG] [matplotlib.font_manager] [_findfont_cached] : findfont: score(FontEntry(fname='/home/john/miniconda3/envs/appvocai/lib/python3.10/site-packages/matplotlib/mpl-data/fonts/ttf/DejaVuSansDisplay.ttf', name='DejaVu Sans Display', style='normal', variant='normal', weight=400, stretch='normal', size='scalable')) = 10.05\n",
      "[11/22/2024 02:59:22 PM] [DEBUG] [matplotlib.font_manager] [_findfont_cached] : findfont: score(FontEntry(fname='/home/john/miniconda3/envs/appvocai/lib/python3.10/site-packages/matplotlib/mpl-data/fonts/ttf/STIXGeneralBolIta.ttf', name='STIXGeneral', style='italic', variant='normal', weight=700, stretch='normal', size='scalable')) = 11.335\n",
      "[11/22/2024 02:59:22 PM] [DEBUG] [matplotlib.font_manager] [_findfont_cached] : findfont: score(FontEntry(fname='/home/john/miniconda3/envs/appvocai/lib/python3.10/site-packages/matplotlib/mpl-data/fonts/ttf/DejaVuSerif-Italic.ttf', name='DejaVu Serif', style='italic', variant='normal', weight=400, stretch='normal', size='scalable')) = 11.05\n",
      "[11/22/2024 02:59:22 PM] [DEBUG] [matplotlib.font_manager] [_findfont_cached] : findfont: score(FontEntry(fname='/home/john/miniconda3/envs/appvocai/lib/python3.10/site-packages/matplotlib/mpl-data/fonts/ttf/DejaVuSerif-BoldItalic.ttf', name='DejaVu Serif', style='italic', variant='normal', weight=700, stretch='normal', size='scalable')) = 11.335\n",
      "[11/22/2024 02:59:22 PM] [DEBUG] [matplotlib.font_manager] [_findfont_cached] : findfont: score(FontEntry(fname='/home/john/miniconda3/envs/appvocai/lib/python3.10/site-packages/matplotlib/mpl-data/fonts/ttf/cmb10.ttf', name='cmb10', style='normal', variant='normal', weight=400, stretch='normal', size='scalable')) = 10.05\n",
      "[11/22/2024 02:59:22 PM] [DEBUG] [matplotlib.font_manager] [_findfont_cached] : findfont: score(FontEntry(fname='/home/john/miniconda3/envs/appvocai/lib/python3.10/site-packages/matplotlib/mpl-data/fonts/ttf/STIXSizThreeSymBol.ttf', name='STIXSizeThreeSym', style='normal', variant='normal', weight=700, stretch='normal', size='scalable')) = 10.335\n",
      "[11/22/2024 02:59:22 PM] [DEBUG] [matplotlib.font_manager] [_findfont_cached] : findfont: score(FontEntry(fname='/home/john/miniconda3/envs/appvocai/lib/python3.10/site-packages/matplotlib/mpl-data/fonts/ttf/cmss10.ttf', name='cmss10', style='normal', variant='normal', weight=400, stretch='normal', size='scalable')) = 10.05\n",
      "[11/22/2024 02:59:22 PM] [DEBUG] [matplotlib.font_manager] [_findfont_cached] : findfont: score(FontEntry(fname='/home/john/miniconda3/envs/appvocai/lib/python3.10/site-packages/matplotlib/mpl-data/fonts/ttf/STIXNonUni.ttf', name='STIXNonUnicode', style='normal', variant='normal', weight=400, stretch='normal', size='scalable')) = 10.05\n",
      "[11/22/2024 02:59:22 PM] [DEBUG] [matplotlib.font_manager] [_findfont_cached] : findfont: score(FontEntry(fname='/home/john/miniconda3/envs/appvocai/lib/python3.10/site-packages/matplotlib/mpl-data/fonts/ttf/cmex10.ttf', name='cmex10', style='normal', variant='normal', weight=400, stretch='normal', size='scalable')) = 10.05\n",
      "[11/22/2024 02:59:22 PM] [DEBUG] [matplotlib.font_manager] [_findfont_cached] : findfont: score(FontEntry(fname='/home/john/miniconda3/envs/appvocai/lib/python3.10/site-packages/matplotlib/mpl-data/fonts/ttf/cmsy10.ttf', name='cmsy10', style='normal', variant='normal', weight=400, stretch='normal', size='scalable')) = 10.05\n",
      "[11/22/2024 02:59:22 PM] [DEBUG] [matplotlib.font_manager] [_findfont_cached] : findfont: score(FontEntry(fname='/home/john/miniconda3/envs/appvocai/lib/python3.10/site-packages/matplotlib/mpl-data/fonts/ttf/DejaVuSans-Bold.ttf', name='DejaVu Sans', style='normal', variant='normal', weight=700, stretch='normal', size='scalable')) = 2.335\n",
      "[11/22/2024 02:59:22 PM] [DEBUG] [matplotlib.font_manager] [_findfont_cached] : findfont: score(FontEntry(fname='/home/john/miniconda3/envs/appvocai/lib/python3.10/site-packages/matplotlib/mpl-data/fonts/ttf/STIXSizOneSymReg.ttf', name='STIXSizeOneSym', style='normal', variant='normal', weight=400, stretch='normal', size='scalable')) = 10.05\n",
      "[11/22/2024 02:59:22 PM] [DEBUG] [matplotlib.font_manager] [_findfont_cached] : findfont: score(FontEntry(fname='/home/john/miniconda3/envs/appvocai/lib/python3.10/site-packages/matplotlib/mpl-data/fonts/ttf/STIXSizFourSymBol.ttf', name='STIXSizeFourSym', style='normal', variant='normal', weight=700, stretch='normal', size='scalable')) = 10.335\n",
      "[11/22/2024 02:59:22 PM] [DEBUG] [matplotlib.font_manager] [_findfont_cached] : findfont: score(FontEntry(fname='/home/john/miniconda3/envs/appvocai/lib/python3.10/site-packages/matplotlib/mpl-data/fonts/ttf/STIXNonUniIta.ttf', name='STIXNonUnicode', style='italic', variant='normal', weight=400, stretch='normal', size='scalable')) = 11.05\n",
      "[11/22/2024 02:59:22 PM] [DEBUG] [matplotlib.font_manager] [_findfont_cached] : findfont: score(FontEntry(fname='/home/john/miniconda3/envs/appvocai/lib/python3.10/site-packages/matplotlib/mpl-data/fonts/ttf/cmr10.ttf', name='cmr10', style='normal', variant='normal', weight=400, stretch='normal', size='scalable')) = 10.05\n",
      "[11/22/2024 02:59:22 PM] [DEBUG] [matplotlib.font_manager] [_findfont_cached] : findfont: score(FontEntry(fname='/home/john/miniconda3/envs/appvocai/lib/python3.10/site-packages/matplotlib/mpl-data/fonts/ttf/DejaVuSerifDisplay.ttf', name='DejaVu Serif Display', style='normal', variant='normal', weight=400, stretch='normal', size='scalable')) = 10.05\n",
      "[11/22/2024 02:59:22 PM] [DEBUG] [matplotlib.font_manager] [_findfont_cached] : findfont: score(FontEntry(fname='/home/john/miniconda3/envs/appvocai/lib/python3.10/site-packages/matplotlib/mpl-data/fonts/ttf/DejaVuSansMono-BoldOblique.ttf', name='DejaVu Sans Mono', style='oblique', variant='normal', weight=700, stretch='normal', size='scalable')) = 11.335\n",
      "[11/22/2024 02:59:22 PM] [DEBUG] [matplotlib.font_manager] [_findfont_cached] : findfont: score(FontEntry(fname='/home/john/miniconda3/envs/appvocai/lib/python3.10/site-packages/matplotlib/mpl-data/fonts/ttf/STIXSizFourSymReg.ttf', name='STIXSizeFourSym', style='normal', variant='normal', weight=400, stretch='normal', size='scalable')) = 10.05\n",
      "[11/22/2024 02:59:22 PM] [DEBUG] [matplotlib.font_manager] [_findfont_cached] : findfont: score(FontEntry(fname='/home/john/miniconda3/envs/appvocai/lib/python3.10/site-packages/matplotlib/mpl-data/fonts/ttf/DejaVuSans.ttf', name='DejaVu Sans', style='normal', variant='normal', weight=400, stretch='normal', size='scalable')) = 2.05\n",
      "[11/22/2024 02:59:22 PM] [DEBUG] [matplotlib.font_manager] [_findfont_cached] : findfont: score(FontEntry(fname='/home/john/miniconda3/envs/appvocai/lib/python3.10/site-packages/matplotlib/mpl-data/fonts/ttf/DejaVuSerif.ttf', name='DejaVu Serif', style='normal', variant='normal', weight=400, stretch='normal', size='scalable')) = 10.05\n",
      "[11/22/2024 02:59:22 PM] [DEBUG] [matplotlib.font_manager] [_findfont_cached] : findfont: score(FontEntry(fname='/home/john/miniconda3/envs/appvocai/lib/python3.10/site-packages/matplotlib/mpl-data/fonts/ttf/STIXSizFiveSymReg.ttf', name='STIXSizeFiveSym', style='normal', variant='normal', weight=400, stretch='normal', size='scalable')) = 10.05\n",
      "[11/22/2024 02:59:22 PM] [DEBUG] [matplotlib.font_manager] [_findfont_cached] : findfont: score(FontEntry(fname='/home/john/miniconda3/envs/appvocai/lib/python3.10/site-packages/matplotlib/mpl-data/fonts/ttf/cmmi10.ttf', name='cmmi10', style='normal', variant='normal', weight=400, stretch='normal', size='scalable')) = 10.05\n",
      "[11/22/2024 02:59:22 PM] [DEBUG] [matplotlib.font_manager] [_findfont_cached] : findfont: score(FontEntry(fname='/home/john/miniconda3/envs/appvocai/lib/python3.10/site-packages/matplotlib/mpl-data/fonts/ttf/STIXSizTwoSymReg.ttf', name='STIXSizeTwoSym', style='normal', variant='normal', weight=400, stretch='normal', size='scalable')) = 10.05\n",
      "[11/22/2024 02:59:22 PM] [DEBUG] [matplotlib.font_manager] [_findfont_cached] : findfont: score(FontEntry(fname='/home/john/miniconda3/envs/appvocai/lib/python3.10/site-packages/matplotlib/mpl-data/fonts/ttf/DejaVuSansMono.ttf', name='DejaVu Sans Mono', style='normal', variant='normal', weight=400, stretch='normal', size='scalable')) = 10.05\n",
      "[11/22/2024 02:59:22 PM] [DEBUG] [matplotlib.font_manager] [_findfont_cached] : findfont: score(FontEntry(fname='/home/john/miniconda3/envs/appvocai/lib/python3.10/site-packages/matplotlib/mpl-data/fonts/ttf/STIXNonUniBolIta.ttf', name='STIXNonUnicode', style='italic', variant='normal', weight=700, stretch='normal', size='scalable')) = 11.335\n",
      "[11/22/2024 02:59:22 PM] [DEBUG] [matplotlib.font_manager] [_findfont_cached] : findfont: score(FontEntry(fname='/home/john/miniconda3/envs/appvocai/lib/python3.10/site-packages/matplotlib/mpl-data/fonts/ttf/DejaVuSerif-Bold.ttf', name='DejaVu Serif', style='normal', variant='normal', weight=700, stretch='normal', size='scalable')) = 10.335\n",
      "[11/22/2024 02:59:22 PM] [DEBUG] [matplotlib.font_manager] [_findfont_cached] : findfont: score(FontEntry(fname='/home/john/miniconda3/envs/appvocai/lib/python3.10/site-packages/matplotlib/mpl-data/fonts/ttf/STIXSizThreeSymReg.ttf', name='STIXSizeThreeSym', style='normal', variant='normal', weight=400, stretch='normal', size='scalable')) = 10.05\n",
      "[11/22/2024 02:59:22 PM] [DEBUG] [matplotlib.font_manager] [_findfont_cached] : findfont: score(FontEntry(fname='/home/john/miniconda3/envs/appvocai/lib/python3.10/site-packages/matplotlib/mpl-data/fonts/ttf/DejaVuSansMono-Oblique.ttf', name='DejaVu Sans Mono', style='oblique', variant='normal', weight=400, stretch='normal', size='scalable')) = 11.05\n",
      "[11/22/2024 02:59:22 PM] [DEBUG] [matplotlib.font_manager] [_findfont_cached] : findfont: score(FontEntry(fname='/home/john/miniconda3/envs/appvocai/lib/python3.10/site-packages/matplotlib/mpl-data/fonts/ttf/STIXSizTwoSymBol.ttf', name='STIXSizeTwoSym', style='normal', variant='normal', weight=700, stretch='normal', size='scalable')) = 10.335\n",
      "[11/22/2024 02:59:22 PM] [DEBUG] [matplotlib.font_manager] [_findfont_cached] : findfont: score(FontEntry(fname='/home/john/miniconda3/envs/appvocai/lib/python3.10/site-packages/matplotlib/mpl-data/fonts/ttf/DejaVuSans-BoldOblique.ttf', name='DejaVu Sans', style='oblique', variant='normal', weight=700, stretch='normal', size='scalable')) = 3.335\n",
      "[11/22/2024 02:59:22 PM] [DEBUG] [matplotlib.font_manager] [_findfont_cached] : findfont: score(FontEntry(fname='/home/john/miniconda3/envs/appvocai/lib/python3.10/site-packages/matplotlib/mpl-data/fonts/ttf/DejaVuSans-Oblique.ttf', name='DejaVu Sans', style='oblique', variant='normal', weight=400, stretch='normal', size='scalable')) = 3.05\n",
      "[11/22/2024 02:59:22 PM] [DEBUG] [matplotlib.font_manager] [_findfont_cached] : findfont: score(FontEntry(fname='/usr/share/fonts/truetype/ubuntu/Ubuntu-RI.ttf', name='Ubuntu', style='italic', variant='normal', weight=400, stretch='normal', size='scalable')) = 11.05\n",
      "[11/22/2024 02:59:22 PM] [DEBUG] [matplotlib.font_manager] [_findfont_cached] : findfont: score(FontEntry(fname='/home/john/miniconda3/envs/appinsight/fonts/SourceCodePro-Medium.ttf', name='Source Code Pro', style='normal', variant='normal', weight=500, stretch='normal', size='scalable')) = 10.145\n",
      "[11/22/2024 02:59:22 PM] [DEBUG] [matplotlib.font_manager] [_findfont_cached] : findfont: score(FontEntry(fname='/home/john/miniconda3/envs/appinsight/fonts/SourceCodePro-ExtraLightIt.ttf', name='Source Code Pro', style='italic', variant='normal', weight=200, stretch='normal', size='scalable')) = 11.24\n",
      "[11/22/2024 02:59:22 PM] [DEBUG] [matplotlib.font_manager] [_findfont_cached] : findfont: score(FontEntry(fname='/usr/share/fonts/truetype/ubuntu/UbuntuMono-B.ttf', name='Ubuntu Mono', style='normal', variant='normal', weight=700, stretch='normal', size='scalable')) = 10.335\n",
      "[11/22/2024 02:59:22 PM] [DEBUG] [matplotlib.font_manager] [_findfont_cached] : findfont: score(FontEntry(fname='/home/john/miniconda3/envs/appinsight/fonts/Ubuntu-B.ttf', name='Ubuntu', style='normal', variant='normal', weight=700, stretch='normal', size='scalable')) = 10.335\n",
      "[11/22/2024 02:59:22 PM] [DEBUG] [matplotlib.font_manager] [_findfont_cached] : findfont: score(FontEntry(fname='/home/john/miniconda3/envs/appinsight/fonts/SourceCodePro-SemiboldIt.ttf', name='Source Code Pro', style='italic', variant='normal', weight=600, stretch='normal', size='scalable')) = 11.24\n",
      "[11/22/2024 02:59:22 PM] [DEBUG] [matplotlib.font_manager] [_findfont_cached] : findfont: score(FontEntry(fname='/home/john/miniconda3/envs/appinsight/fonts/SourceCodePro-Black.ttf', name='Source Code Pro', style='normal', variant='normal', weight=900, stretch='normal', size='scalable')) = 10.525\n",
      "[11/22/2024 02:59:22 PM] [DEBUG] [matplotlib.font_manager] [_findfont_cached] : findfont: score(FontEntry(fname='/home/john/miniconda3/envs/appinsight/fonts/Ubuntu-BI.ttf', name='Ubuntu', style='italic', variant='normal', weight=700, stretch='normal', size='scalable')) = 11.335\n",
      "[11/22/2024 02:59:22 PM] [DEBUG] [matplotlib.font_manager] [_findfont_cached] : findfont: score(FontEntry(fname='/home/john/miniconda3/envs/appinsight/fonts/DejaVuSans.ttf', name='DejaVu Sans', style='normal', variant='normal', weight=400, stretch='normal', size='scalable')) = 2.05\n",
      "[11/22/2024 02:59:22 PM] [DEBUG] [matplotlib.font_manager] [_findfont_cached] : findfont: score(FontEntry(fname='/home/john/miniconda3/envs/appinsight/fonts/SourceCodePro-Regular.ttf', name='Source Code Pro', style='normal', variant='normal', weight=400, stretch='normal', size='scalable')) = 10.05\n",
      "[11/22/2024 02:59:22 PM] [DEBUG] [matplotlib.font_manager] [_findfont_cached] : findfont: score(FontEntry(fname='/home/john/miniconda3/envs/appinsight/fonts/Ubuntu-MI.ttf', name='Ubuntu', style='italic', variant='normal', weight=500, stretch='normal', size='scalable')) = 11.145\n",
      "[11/22/2024 02:59:22 PM] [DEBUG] [matplotlib.font_manager] [_findfont_cached] : findfont: score(FontEntry(fname='/home/john/miniconda3/envs/appinsight/fonts/Ubuntu-LI.ttf', name='Ubuntu', style='italic', variant='normal', weight=300, stretch='normal', size='scalable')) = 11.145\n",
      "[11/22/2024 02:59:22 PM] [DEBUG] [matplotlib.font_manager] [_findfont_cached] : findfont: score(FontEntry(fname='/home/john/miniconda3/envs/appinsight/fonts/UbuntuMono-BI.ttf', name='Ubuntu Mono', style='italic', variant='normal', weight=700, stretch='normal', size='scalable')) = 11.335\n",
      "[11/22/2024 02:59:22 PM] [DEBUG] [matplotlib.font_manager] [_findfont_cached] : findfont: score(FontEntry(fname='/home/john/miniconda3/envs/appinsight/fonts/SourceCodePro-It.ttf', name='Source Code Pro', style='italic', variant='normal', weight=400, stretch='normal', size='scalable')) = 11.05\n",
      "[11/22/2024 02:59:22 PM] [DEBUG] [matplotlib.font_manager] [_findfont_cached] : findfont: score(FontEntry(fname='/home/john/miniconda3/envs/appinsight/fonts/Ubuntu-Th.ttf', name='Ubuntu', style='normal', variant='normal', weight=250, stretch='normal', size='scalable')) = 10.1925\n",
      "[11/22/2024 02:59:22 PM] [DEBUG] [matplotlib.font_manager] [_findfont_cached] : findfont: score(FontEntry(fname='/home/john/miniconda3/envs/appinsight/fonts/Inconsolata-Regular.ttf', name='Inconsolata', style='normal', variant='normal', weight=400, stretch='normal', size='scalable')) = 10.05\n",
      "[11/22/2024 02:59:22 PM] [DEBUG] [matplotlib.font_manager] [_findfont_cached] : findfont: score(FontEntry(fname='/home/john/miniconda3/envs/appinsight/fonts/Ubuntu-M.ttf', name='Ubuntu', style='normal', variant='normal', weight=500, stretch='normal', size='scalable')) = 10.145\n",
      "[11/22/2024 02:59:22 PM] [DEBUG] [matplotlib.font_manager] [_findfont_cached] : findfont: score(FontEntry(fname='/home/john/miniconda3/envs/appinsight/fonts/SourceCodePro-LightIt.ttf', name='Source Code Pro', style='italic', variant='normal', weight=300, stretch='normal', size='scalable')) = 11.145\n",
      "[11/22/2024 02:59:22 PM] [DEBUG] [matplotlib.font_manager] [_findfont_cached] : findfont: score(FontEntry(fname='/home/john/miniconda3/envs/appinsight/fonts/SourceCodePro-MediumIt.ttf', name='Source Code Pro', style='italic', variant='normal', weight=500, stretch='normal', size='scalable')) = 11.145\n",
      "[11/22/2024 02:59:22 PM] [DEBUG] [matplotlib.font_manager] [_findfont_cached] : findfont: score(FontEntry(fname='/home/john/miniconda3/envs/appinsight/fonts/SourceCodePro-Light.ttf', name='Source Code Pro', style='normal', variant='normal', weight=300, stretch='normal', size='scalable')) = 10.145\n",
      "[11/22/2024 02:59:22 PM] [DEBUG] [matplotlib.font_manager] [_findfont_cached] : findfont: score(FontEntry(fname='/usr/share/fonts/truetype/ubuntu/Ubuntu-R.ttf', name='Ubuntu', style='normal', variant='normal', weight=400, stretch='normal', size='scalable')) = 10.05\n",
      "[11/22/2024 02:59:22 PM] [DEBUG] [matplotlib.font_manager] [_findfont_cached] : findfont: score(FontEntry(fname='/home/john/miniconda3/envs/appinsight/fonts/Ubuntu-C.ttf', name='Ubuntu Condensed', style='normal', variant='normal', weight=400, stretch='condensed', size='scalable')) = 10.25\n",
      "[11/22/2024 02:59:22 PM] [DEBUG] [matplotlib.font_manager] [_findfont_cached] : findfont: score(FontEntry(fname='/usr/share/fonts/truetype/ubuntu/Ubuntu-MI.ttf', name='Ubuntu', style='italic', variant='normal', weight=500, stretch='normal', size='scalable')) = 11.145\n",
      "[11/22/2024 02:59:22 PM] [DEBUG] [matplotlib.font_manager] [_findfont_cached] : findfont: score(FontEntry(fname='/usr/share/fonts/truetype/ubuntu/Ubuntu-M.ttf', name='Ubuntu', style='normal', variant='normal', weight=500, stretch='normal', size='scalable')) = 10.145\n",
      "[11/22/2024 02:59:22 PM] [DEBUG] [matplotlib.font_manager] [_findfont_cached] : findfont: score(FontEntry(fname='/home/john/miniconda3/envs/appinsight/fonts/UbuntuMono-B.ttf', name='Ubuntu Mono', style='normal', variant='normal', weight=700, stretch='normal', size='scalable')) = 10.335\n",
      "[11/22/2024 02:59:22 PM] [DEBUG] [matplotlib.font_manager] [_findfont_cached] : findfont: score(FontEntry(fname='/home/john/miniconda3/envs/appinsight/fonts/Ubuntu-R.ttf', name='Ubuntu', style='normal', variant='normal', weight=400, stretch='normal', size='scalable')) = 10.05\n",
      "[11/22/2024 02:59:22 PM] [DEBUG] [matplotlib.font_manager] [_findfont_cached] : findfont: score(FontEntry(fname='/usr/share/fonts/truetype/ubuntu/Ubuntu-BI.ttf', name='Ubuntu', style='italic', variant='normal', weight=700, stretch='normal', size='scalable')) = 11.335\n",
      "[11/22/2024 02:59:22 PM] [DEBUG] [matplotlib.font_manager] [_findfont_cached] : findfont: score(FontEntry(fname='/usr/share/fonts/truetype/ubuntu/UbuntuMono-BI.ttf', name='Ubuntu Mono', style='italic', variant='normal', weight=700, stretch='normal', size='scalable')) = 11.335\n",
      "[11/22/2024 02:59:22 PM] [DEBUG] [matplotlib.font_manager] [_findfont_cached] : findfont: score(FontEntry(fname='/usr/share/fonts/truetype/ubuntu/Ubuntu-L.ttf', name='Ubuntu', style='normal', variant='normal', weight=300, stretch='normal', size='scalable')) = 10.145\n",
      "[11/22/2024 02:59:22 PM] [DEBUG] [matplotlib.font_manager] [_findfont_cached] : findfont: score(FontEntry(fname='/home/john/miniconda3/envs/appinsight/fonts/Ubuntu-RI.ttf', name='Ubuntu', style='italic', variant='normal', weight=400, stretch='normal', size='scalable')) = 11.05\n",
      "[11/22/2024 02:59:22 PM] [DEBUG] [matplotlib.font_manager] [_findfont_cached] : findfont: score(FontEntry(fname='/usr/share/fonts/truetype/ubuntu/Ubuntu-C.ttf', name='Ubuntu Condensed', style='normal', variant='normal', weight=400, stretch='condensed', size='scalable')) = 10.25\n",
      "[11/22/2024 02:59:22 PM] [DEBUG] [matplotlib.font_manager] [_findfont_cached] : findfont: score(FontEntry(fname='/home/john/miniconda3/envs/appinsight/fonts/Inconsolata-Bold.ttf', name='Inconsolata', style='normal', variant='normal', weight=700, stretch='normal', size='scalable')) = 10.335\n",
      "[11/22/2024 02:59:22 PM] [DEBUG] [matplotlib.font_manager] [_findfont_cached] : findfont: score(FontEntry(fname='/usr/share/fonts/truetype/ubuntu/Ubuntu-Th.ttf', name='Ubuntu', style='normal', variant='normal', weight=250, stretch='normal', size='scalable')) = 10.1925\n",
      "[11/22/2024 02:59:22 PM] [DEBUG] [matplotlib.font_manager] [_findfont_cached] : findfont: score(FontEntry(fname='/usr/share/fonts/truetype/ubuntu/Ubuntu-LI.ttf', name='Ubuntu', style='italic', variant='normal', weight=300, stretch='normal', size='scalable')) = 11.145\n",
      "[11/22/2024 02:59:22 PM] [DEBUG] [matplotlib.font_manager] [_findfont_cached] : findfont: score(FontEntry(fname='/home/john/miniconda3/envs/appinsight/fonts/SourceCodePro-BoldIt.ttf', name='Source Code Pro', style='italic', variant='normal', weight=700, stretch='normal', size='scalable')) = 11.335\n",
      "[11/22/2024 02:59:22 PM] [DEBUG] [matplotlib.font_manager] [_findfont_cached] : findfont: score(FontEntry(fname='/home/john/miniconda3/envs/appinsight/fonts/SourceCodePro-Semibold.ttf', name='Source Code Pro', style='normal', variant='normal', weight=600, stretch='normal', size='scalable')) = 10.24\n",
      "[11/22/2024 02:59:22 PM] [DEBUG] [matplotlib.font_manager] [_findfont_cached] : findfont: score(FontEntry(fname='/usr/share/fonts/truetype/ubuntu/Ubuntu-B.ttf', name='Ubuntu', style='normal', variant='normal', weight=700, stretch='normal', size='scalable')) = 10.335\n",
      "[11/22/2024 02:59:22 PM] [DEBUG] [matplotlib.font_manager] [_findfont_cached] : findfont: score(FontEntry(fname='/home/john/miniconda3/envs/appinsight/fonts/Ubuntu-L.ttf', name='Ubuntu', style='normal', variant='normal', weight=300, stretch='normal', size='scalable')) = 10.145\n",
      "[11/22/2024 02:59:22 PM] [DEBUG] [matplotlib.font_manager] [_findfont_cached] : findfont: score(FontEntry(fname='/usr/share/fonts/truetype/ubuntu/UbuntuMono-RI.ttf', name='Ubuntu Mono', style='italic', variant='normal', weight=400, stretch='normal', size='scalable')) = 11.05\n",
      "[11/22/2024 02:59:22 PM] [DEBUG] [matplotlib.font_manager] [_findfont_cached] : findfont: score(FontEntry(fname='/home/john/miniconda3/envs/appinsight/fonts/UbuntuMono-RI.ttf', name='Ubuntu Mono', style='italic', variant='normal', weight=400, stretch='normal', size='scalable')) = 11.05\n",
      "[11/22/2024 02:59:22 PM] [DEBUG] [matplotlib.font_manager] [_findfont_cached] : findfont: score(FontEntry(fname='/usr/share/fonts/truetype/ubuntu/UbuntuMono-R.ttf', name='Ubuntu Mono', style='normal', variant='normal', weight=400, stretch='normal', size='scalable')) = 10.05\n",
      "[11/22/2024 02:59:22 PM] [DEBUG] [matplotlib.font_manager] [_findfont_cached] : findfont: score(FontEntry(fname='/home/john/miniconda3/envs/appinsight/fonts/UbuntuMono-R.ttf', name='Ubuntu Mono', style='normal', variant='normal', weight=400, stretch='normal', size='scalable')) = 10.05\n",
      "[11/22/2024 02:59:22 PM] [DEBUG] [matplotlib.font_manager] [_findfont_cached] : findfont: score(FontEntry(fname='/home/john/miniconda3/envs/appinsight/fonts/SourceCodePro-Bold.ttf', name='Source Code Pro', style='normal', variant='normal', weight=700, stretch='normal', size='scalable')) = 10.335\n",
      "[11/22/2024 02:59:22 PM] [DEBUG] [matplotlib.font_manager] [_findfont_cached] : findfont: score(FontEntry(fname='/home/john/miniconda3/envs/appinsight/fonts/SourceCodePro-ExtraLight.ttf', name='Source Code Pro', style='normal', variant='normal', weight=200, stretch='normal', size='scalable')) = 10.24\n",
      "[11/22/2024 02:59:22 PM] [DEBUG] [matplotlib.font_manager] [_findfont_cached] : findfont: score(FontEntry(fname='/home/john/miniconda3/envs/appinsight/fonts/SourceCodePro-BlackIt.ttf', name='Source Code Pro', style='italic', variant='normal', weight=900, stretch='normal', size='scalable')) = 11.525\n",
      "[11/22/2024 02:59:22 PM] [DEBUG] [matplotlib.font_manager] [_findfont_cached] : findfont: Matching sans\\-serif:style=normal:variant=normal:weight=normal:stretch=normal:size=12.0 to DejaVu Sans ('/home/john/miniconda3/envs/appvocai/lib/python3.10/site-packages/matplotlib/mpl-data/fonts/ttf/DejaVuSans.ttf') with score of 2.050000.\n"
     ]
    },
    {
     "data": {
      "image/png": "[encoded data removed]",
      "text/plain": [
       "<Figure size 1200x400 with 1 Axes>"
      ]
     },
     "metadata": {},
     "output_type": "display_data"
    }
   ],
   "source": [
    "viz = Visualizer()\n",
    "ax = viz.countplot(\n",
    "    data=df,\n",
    "    y=\"category\",\n",
    "    title=\"AppVoCAI Dataset\\nDistribution of App Categories\",\n",
    "    order_by_count=True,\n",
    "    plot_counts=True,\n",
    ")"
   ]
  },
  {
   "cell_type": "markdown",
   "metadata": {},
   "source": [
    "The distribution of reviews by app category in the AppVoCAI dataset provides insight into how review data is represented within this particular dataset, rather than reflecting any actual usage or popularity patterns in the app store at large.\n",
    "\n",
    "1. **Higher Representation in Health & Fitness, Utilities, and Social Networking**: Categories such as Health & Fitness (15.6%), Utilities (13.7%), and Social Networking (11.4%) have the largest share of reviews in this dataset. This may reflect the way data was randomly sampled, rather than indicating a larger user base or greater engagement in these categories across the app store.\n",
    "\n",
    "2. **Diverse Representation Across Lifestyle, Entertainment, and Food & Drink**: Categories like Lifestyle, Entertainment, and Food & Drink are also well represented in this dataset, accounting for a moderate portion of the reviews. Again, this distribution may simply result from the dataset's random sampling approach, rather than indicating broader trends.\n",
    "\n",
    "3. **Lower Review Counts in Finance and Medical**: Some categories, such as Finance (0.3%) and Medical (3.5%), show fewer reviews in this dataset. This does not imply these categories are less popular or less reviewed in the app store but simply reflects the structure of this specific dataset.\n",
    "\n",
    "4. **Focus on Dataset-Specific Insights**: While this distribution does not represent actual app store trends, it does provide an opportunity to examine patterns and themes within each category as represented in this dataset. For example, the high representation of certain categories might allow for a richer analysis of user sentiment or feature requests in those domains.\n",
    "\n",
    "Again, this distribution should be viewed as unique to the AppVoCAI dataset, shaped by the random and stochastic nature of the acquisition process rather than as a representation of category popularity or review volume in the broader app store context."
   ]
  },
  {
   "cell_type": "markdown",
   "metadata": {},
   "source": [
    "## AppVoCAI Dataset Sample Observations \n",
    "To gain an initial, qualitative sense of the AppVoCAI dataset, let's take an early peek at a few randomly selected observations from the dataset. "
   ]
  },
  {
   "cell_type": "code",
   "execution_count": 8,
   "metadata": {},
   "outputs": [
    {
     "data": {
      "text/html": [
       "<div>\n",
       "<style scoped>\n",
       "    .dataframe tbody tr th:only-of-type {\n",
       "        vertical-align: middle;\n",
       "    }\n",
       "\n",
       "    .dataframe tbody tr th {\n",
       "        vertical-align: top;\n",
       "    }\n",
       "\n",
       "    .dataframe thead th {\n",
       "        text-align: right;\n",
       "    }\n",
       "</style>\n",
       "<table border=\"1\" class=\"dataframe\">\n",
       "  <thead>\n",
       "    <tr style=\"text-align: right;\">\n",
       "      <th></th>\n",
       "      <th>id</th>\n",
       "      <th>app_id</th>\n",
       "      <th>app_name</th>\n",
       "      <th>category_id</th>\n",
       "      <th>author</th>\n",
       "      <th>rating</th>\n",
       "      <th>content</th>\n",
       "      <th>vote_sum</th>\n",
       "      <th>vote_count</th>\n",
       "      <th>date</th>\n",
       "      <th>category</th>\n",
       "      <th>review_length</th>\n",
       "    </tr>\n",
       "  </thead>\n",
       "  <tbody>\n",
       "    <tr>\n",
       "      <th>11839902</th>\n",
       "      <td>9609559964</td>\n",
       "      <td>962907009</td>\n",
       "      <td>Anonymous Chat Rooms, Dating</td>\n",
       "      <td>6012</td>\n",
       "      <td>715fe0eb9f9dc5cd363e</td>\n",
       "      <td>5</td>\n",
       "      <td>I love this app you gotta download it.. it’s f...</td>\n",
       "      <td>0</td>\n",
       "      <td>0</td>\n",
       "      <td>2023-02-12 09:39:05</td>\n",
       "      <td>Lifestyle</td>\n",
       "      <td>23</td>\n",
       "    </tr>\n",
       "    <tr>\n",
       "      <th>10796423</th>\n",
       "      <td>8681996008</td>\n",
       "      <td>380643227</td>\n",
       "      <td>SimplyNoise - Free White Noise</td>\n",
       "      <td>6013</td>\n",
       "      <td>3f226d848308dcb1746a</td>\n",
       "      <td>1</td>\n",
       "      <td>It doesn’t have noises of frogs and crickets a...</td>\n",
       "      <td>0</td>\n",
       "      <td>0</td>\n",
       "      <td>2022-05-18 02:52:14</td>\n",
       "      <td>Health &amp; Fitness</td>\n",
       "      <td>37</td>\n",
       "    </tr>\n",
       "    <tr>\n",
       "      <th>13832252</th>\n",
       "      <td>6728413055</td>\n",
       "      <td>997362197</td>\n",
       "      <td>InShot - Video Editor</td>\n",
       "      <td>6008</td>\n",
       "      <td>788c210a0bcc08a99947</td>\n",
       "      <td>5</td>\n",
       "      <td>This app is just beautiful, it Make my videos ...</td>\n",
       "      <td>0</td>\n",
       "      <td>0</td>\n",
       "      <td>2020-12-07 21:43:18</td>\n",
       "      <td>Photo &amp; Video</td>\n",
       "      <td>11</td>\n",
       "    </tr>\n",
       "    <tr>\n",
       "      <th>8253949</th>\n",
       "      <td>6754516221</td>\n",
       "      <td>1424178757</td>\n",
       "      <td>Plant Nanny Water Tracker Log</td>\n",
       "      <td>6013</td>\n",
       "      <td>8c13616416d8a003fee8</td>\n",
       "      <td>3</td>\n",
       "      <td>A little buggy here and there. Wish I could ch...</td>\n",
       "      <td>0</td>\n",
       "      <td>0</td>\n",
       "      <td>2020-12-15 04:01:12</td>\n",
       "      <td>Health &amp; Fitness</td>\n",
       "      <td>22</td>\n",
       "    </tr>\n",
       "    <tr>\n",
       "      <th>8427505</th>\n",
       "      <td>7459960849</td>\n",
       "      <td>600446812</td>\n",
       "      <td>Pacer Pedometer &amp; Step Tracker</td>\n",
       "      <td>6013</td>\n",
       "      <td>7424fceaf2391a7cc84d</td>\n",
       "      <td>5</td>\n",
       "      <td>This is a great and free alternative to tracke...</td>\n",
       "      <td>0</td>\n",
       "      <td>0</td>\n",
       "      <td>2021-06-13 12:51:08</td>\n",
       "      <td>Health &amp; Fitness</td>\n",
       "      <td>29</td>\n",
       "    </tr>\n",
       "  </tbody>\n",
       "</table>\n",
       "</div>"
      ],
      "text/plain": [
       "                  id      app_id                        app_name category_id  \\\n",
       "11839902  9609559964   962907009    Anonymous Chat Rooms, Dating        6012   \n",
       "10796423  8681996008   380643227  SimplyNoise - Free White Noise        6013   \n",
       "13832252  6728413055   997362197           InShot - Video Editor        6008   \n",
       "8253949   6754516221  1424178757   Plant Nanny Water Tracker Log        6013   \n",
       "8427505   7459960849   600446812  Pacer Pedometer & Step Tracker        6013   \n",
       "\n",
       "                        author  rating  \\\n",
       "11839902  715fe0eb9f9dc5cd363e       5   \n",
       "10796423  3f226d848308dcb1746a       1   \n",
       "13832252  788c210a0bcc08a99947       5   \n",
       "8253949   8c13616416d8a003fee8       3   \n",
       "8427505   7424fceaf2391a7cc84d       5   \n",
       "\n",
       "                                                    content  vote_sum  \\\n",
       "11839902  I love this app you gotta download it.. it’s f...         0   \n",
       "10796423  It doesn’t have noises of frogs and crickets a...         0   \n",
       "13832252  This app is just beautiful, it Make my videos ...         0   \n",
       "8253949   A little buggy here and there. Wish I could ch...         0   \n",
       "8427505   This is a great and free alternative to tracke...         0   \n",
       "\n",
       "          vote_count                date          category  review_length  \n",
       "11839902           0 2023-02-12 09:39:05         Lifestyle             23  \n",
       "10796423           0 2022-05-18 02:52:14  Health & Fitness             37  \n",
       "13832252           0 2020-12-07 21:43:18     Photo & Video             11  \n",
       "8253949            0 2020-12-15 04:01:12  Health & Fitness             22  \n",
       "8427505            0 2021-06-13 12:51:08  Health & Fitness             29  "
      ]
     },
     "execution_count": 8,
     "metadata": {},
     "output_type": "execute_result"
    }
   ],
   "source": [
    "samples = df.sample(n=5, random_state=50)\n",
    "samples"
   ]
  },
  {
   "cell_type": "markdown",
   "metadata": {},
   "source": [
    "This sample illustrates a range of sentiments (ratings) and experiences, with several notable characteristics:\n",
    "\n",
    "1. **Lack of Votes**: None of the reviews have received votes, indicating low engagement with the feedback itself. This lack of interaction might suggest that users don’t often upvote or downvote reviews, potentially limiting the visibility of insightful feedback for future users.\n",
    "\n",
    "2. **Moderate Variation in Review Length**: The reviews vary from brief (11 characters) to more moderately detailed (up to 21 characters), reflecting a mix of concise and slightly elaborative feedback. This variation impacts the depth of analysis, as shorter reviews often lack detailed context, whereas slightly longer ones provide a more comprehensive view of user sentiment.\n",
    "\n",
    "3. **Presence of Emoticons in Text**: The use of emoticons, as seen in the Apple TV review, adds a layer of emotional context that underscores a positive sentiment. Emoticons may help express feelings that aren’t fully captured in text alone, adding another dimension to sentiment analysis.\n",
    "\n",
    "4. **Anonymized Author IDs**: Each review features an anonymized author ID, which is useful for tracking user feedback trends while preserving privacy. Analyzing reviews by recurring authors could reveal patterns in user loyalty, repeated issues, or consistent satisfaction.\n",
    "\n",
    "5. **Wide Range of Dates**: The reviews span dates from 2020 to 2023, indicating a mix of older and recent feedback. This time range allows for tracking changes in user satisfaction over time, potentially correlating with updates, new features, or policy changes.\n",
    "\n",
    "Let's briefly analyze each review in the sample to gain a qualitative sense of their user experiences, focusing on elements such as performance, usability, and service satisfaction. "
   ]
  },
  {
   "cell_type": "markdown",
   "metadata": {},
   "source": [
    "### DoorDash - Food Delivery\t"
   ]
  },
  {
   "cell_type": "code",
   "execution_count": 9,
   "metadata": {},
   "outputs": [
    {
     "name": "stdout",
     "output_type": "stream",
     "text": [
      "\n",
      "\n",
      "                          Anonymous Chat Rooms, Dating                          \n",
      "                                      id | 9609559964\n",
      "                                  app_id | 962907009\n",
      "                                app_name | Anonymous Chat Rooms, Dating\n",
      "                             category_id | 6012\n",
      "                                  author | 715fe0eb9f9dc5cd363e\n",
      "                                  rating | 5\n",
      "                                vote_sum | 0\n",
      "                              vote_count | 0\n",
      "                                    date | 2023-02-12 09:39:05\n",
      "                                category | Lifestyle\n",
      "                           review_length | 23\n",
      "I love this app you gotta download it.. it’s free and fun and discreet I love\n",
      "the outlay and the idea we’ll done..!\n"
     ]
    }
   ],
   "source": [
    "printer = Printer()\n",
    "printer.print_dataframe_as_dict(\n",
    "    df=samples, list_index=0, title=samples[\"app_name\"].values[0], text_col=\"content\"\n",
    ")"
   ]
  },
  {
   "cell_type": "markdown",
   "metadata": {},
   "source": [
    "This review provides a sharp example of negative user feedback that emphasizes critical customer service and policy issues. Here's a breakdown of the content and its potential implications for further analysis:\n",
    "\n",
    "1. **Service Failure Highlight**: The user's complaint centers around DoorDash's handling of restaurant errors, specifically when a significant part of an order is missing. This indicates a gap in the customer service experience that may frustrate many users. Complaints about missing order components are especially severe in the food delivery industry, where the entire purpose of the service hinges on accurate and timely fulfillment.\n",
    "\n",
    "2. **Policy Critique**: The user mentions that DoorDash’s response to this issue is rooted in \"policy,\" which suggests an inflexible or unhelpful approach. The word \"policy\" here implies that the company’s rules may not be user-friendly or adaptable to real-world problems, which could negatively affect overall satisfaction. This sentiment may indicate an opportunity for DoorDash to reevaluate its customer support policies, especially those dealing with restaurant-related errors.\n",
    "\n",
    "3. **Warning to Potential Users**: The closing word, \"Beware,\" serves as a cautionary note to others. It’s an indicator of the strength of the user's dissatisfaction and serves as a reminder of how negative experiences can translate into reputational damage for the brand.\n",
    "\n",
    "4. **Category Context**: This review falls under the \"Food & Drink\" category, where prompt, efficient, and customer-oriented service is crucial. Policy-driven responses that fail to resolve issues could significantly undermine user trust and brand loyalty.\n",
    "\n",
    "5. **Rating**: The user gave a 1-star rating, the lowest possible, which reflects severe dissatisfaction. Such ratings contribute heavily to a negative sentiment toward the app and could indicate recurring themes when analyzed in aggregate.\n",
    "\n",
    "**Implications for Analysis**: This review suggests a need for deeper investigation into themes related to customer support effectiveness and policy inflexibility. In an Aspect-Based Sentiment Analysis (ABSA) framework, aspects like \"customer service\" (negative) and \"order accuracy\" (negative) would be flagged. The review also underscores the importance of flexible and customer-oriented solutions in maintaining trust and satisfaction, critical factors for user retention and brand perception in the food delivery sector."
   ]
  },
  {
   "cell_type": "markdown",
   "metadata": {},
   "source": [
    "### Gboard – the Google Keyboard                          \n"
   ]
  },
  {
   "cell_type": "code",
   "execution_count": 10,
   "metadata": {},
   "outputs": [
    {
     "name": "stdout",
     "output_type": "stream",
     "text": [
      "\n",
      "\n",
      "                         SimplyNoise - Free White Noise                         \n",
      "                                      id | 8681996008\n",
      "                                  app_id | 380643227\n",
      "                                app_name | SimplyNoise - Free White Noise\n",
      "                             category_id | 6013\n",
      "                                  author | 3f226d848308dcb1746a\n",
      "                                  rating | 1\n",
      "                                vote_sum | 0\n",
      "                              vote_count | 0\n",
      "                                    date | 2022-05-18 02:52:14\n",
      "                                category | Health & Fitness\n",
      "                           review_length | 37\n",
      "It doesn’t have noises of frogs and crickets and it cost a lot of money for a\n",
      "kid (me) who just wants to rest. It’s rather bad and there has to be better apps\n",
      "than this garbage.\n"
     ]
    }
   ],
   "source": [
    "printer.print_dataframe_as_dict(\n",
    "    df=samples, list_index=1, title=samples[\"app_name\"].values[1], text_col=\"content\"\n",
    ")"
   ]
  },
  {
   "cell_type": "markdown",
   "metadata": {},
   "source": [
    "This review sheds light on a negative user experience, specifically focused on performance and reliability issues. Here's a breakdown of the content and implications for further analysis:\n",
    "\n",
    "1. **Initial Positive Sentiment**: The user mentions that they “loved it earlier,” which suggests that Gboard was initially a satisfying and effective tool. This indicates that a decline in performance, rather than a longstanding flaw, is the root of their dissatisfaction. For product teams, this information can guide investigations into what recent changes or updates may have caused the decline.\n",
    "\n",
    "2. **Performance and Usability Issues**: The core complaint revolves around the app “acting weird,” flashing on the screen, and then reverting to the regular keyboard. This points to a severe performance bug that interrupts the user experience. The intermittent nature of the issue, described as the app flashing and then defaulting, implies that there might be problems with app stability, resource management, or compatibility with other device components.\n",
    "\n",
    "3. **Category Context**: As a “Utilities” app, Gboard is expected to be reliable, stable, and seamlessly integrated into everyday use. Users rely heavily on their keyboards for daily communication, so any instability can be highly disruptive. This makes performance and reliability critical aspects to prioritize.\n",
    "\n",
    "4. **Rating**: The 1-star rating reflects extreme dissatisfaction and suggests that the issue is significant enough to warrant such a negative review. Persistent performance problems like these could contribute to a decline in user retention and a negative brand image.\n",
    "\n",
    "**Implications for Analysis**: This review highlights a need for the development team to prioritize fixing stability and performance-related bugs. In an Aspect-Based Sentiment Analysis (ABSA) framework, aspects like “performance” (negative) and “stability” (negative) would be flagged. Furthermore, this feedback emphasizes the importance of regular performance testing and monitoring for updates that may introduce new issues. Addressing such critical bugs could help improve user satisfaction and mitigate further reputational damage."
   ]
  },
  {
   "cell_type": "markdown",
   "metadata": {},
   "source": [
    "### Apple TV    "
   ]
  },
  {
   "cell_type": "code",
   "execution_count": 11,
   "metadata": {},
   "outputs": [
    {
     "name": "stdout",
     "output_type": "stream",
     "text": [
      "\n",
      "\n",
      "                             InShot - Video Editor                              \n",
      "                                      id | 6728413055\n",
      "                                  app_id | 997362197\n",
      "                                app_name | InShot - Video Editor\n",
      "                             category_id | 6008\n",
      "                                  author | 788c210a0bcc08a99947\n",
      "                                  rating | 5\n",
      "                                vote_sum | 0\n",
      "                              vote_count | 0\n",
      "                                    date | 2020-12-07 21:43:18\n",
      "                                category | Photo & Video\n",
      "                           review_length | 11\n",
      "This app is just beautiful, it Make my videos special ❤️\n"
     ]
    }
   ],
   "source": [
    "printer.print_dataframe_as_dict(\n",
    "    df=samples, list_index=2, title=samples[\"app_name\"].values[2], text_col=\"content\"\n",
    ")"
   ]
  },
  {
   "cell_type": "markdown",
   "metadata": {},
   "source": [
    "This review provides a brief yet positive user experience summary. Here's a breakdown of its content and implications for further analysis:\n",
    "\n",
    "1. **Concise Positive Sentiment**: The review is extremely short, which makes it challenging to identify specific elements of the app that the user appreciates. However, the 5-star rating strongly indicates high satisfaction. Positive feedback, even when minimal, is important for reinforcing which aspects of the app might be performing well, though additional detail would be needed to pinpoint these aspects accurately.\n",
    "\n",
    "2. **Category Context**: The app belongs to the \"Entertainment\" category, where content quality, ease of navigation, and seamless streaming are likely important aspects. Users who rate entertainment apps highly typically appreciate reliable performance, high-quality content, or an intuitive user interface. While this review does not specify, these elements may be inferred as possible contributors to the positive rating.\n",
    "\n",
    "3. **Implications for Sentiment Analysis**: Due to the brevity of this review, there are no identifiable themes or aspects to analyze in detail. However, in a broader sentiment analysis, short but high-rated reviews contribute to the overall positive sentiment of the app. This review could be grouped with others to identify general satisfaction trends or infer common themes through further aggregated analysis.\n",
    "\n",
    "4. **Impact of High Rating**: A 5-star review boosts the app's average rating and indicates user approval. While it’s not informative on its own, it serves as a valuable piece of data for overall sentiment measurement.\n",
    "\n",
    "**Implications for Further Analysis**: This review highlights the challenge of extracting meaningful insights from brief feedback. It emphasizes the importance of encouraging users to leave more detailed reviews, especially in the \"Entertainment\" category, where specifics about user experience (like content offerings, interface design, or streaming quality) can be crucial for app improvement."
   ]
  },
  {
   "cell_type": "markdown",
   "metadata": {},
   "source": [
    "### Messenger                                                   \n"
   ]
  },
  {
   "cell_type": "code",
   "execution_count": 12,
   "metadata": {},
   "outputs": [
    {
     "name": "stdout",
     "output_type": "stream",
     "text": [
      "\n",
      "\n",
      "                         Plant Nanny Water Tracker Log                          \n",
      "                                      id | 6754516221\n",
      "                                  app_id | 1424178757\n",
      "                                app_name | Plant Nanny Water Tracker Log\n",
      "                             category_id | 6013\n",
      "                                  author | 8c13616416d8a003fee8\n",
      "                                  rating | 3\n",
      "                                vote_sum | 0\n",
      "                              vote_count | 0\n",
      "                                    date | 2020-12-15 04:01:12\n",
      "                                category | Health & Fitness\n",
      "                           review_length | 22\n",
      "A little buggy here and there. Wish I could change the time on when it starts\n",
      "and ends notifications. But really cute!\n"
     ]
    }
   ],
   "source": [
    "printer.print_dataframe_as_dict(\n",
    "    df=samples, list_index=3, title=samples[\"app_name\"].values[3], text_col=\"content\"\n",
    ")"
   ]
  },
  {
   "cell_type": "markdown",
   "metadata": {},
   "source": [
    "This review highlights a significant and specific issue related to app accessibility. Here's a breakdown of the content and implications:\n",
    "\n",
    "1. **Login Issue**: The core complaint is centered around the inability to log in, with the app displaying an \"unknown error\" message. This suggests a major functionality problem that directly affects the app's usability. Login failures are critical issues in social networking apps, where continuous access is crucial for user engagement and retention.\n",
    "\n",
    "2. **Impact on User Experience**: The review’s brevity and 1-star rating emphasize the frustration associated with being locked out of an account. This kind of problem can have a serious impact on user trust, as people rely on social networking apps to stay connected and manage communication. Unresolved login issues could lead to a loss of active users.\n",
    "\n",
    "3. **Category Context**: In the \"Social Networking\" category, accessibility and reliability are paramount. Users expect seamless login experiences, and any disruptions can severely impact the perceived quality of the service. This feedback points to the need for a robust authentication system and effective error messaging to guide users when issues arise.\n",
    "\n",
    "4. **Rating**: The 1-star rating signals extreme dissatisfaction, likely reflecting how essential access is for this app’s functionality. Reviews like this can contribute significantly to a negative overall sentiment if similar complaints are frequent.\n",
    "\n",
    "**Implications for Analysis**: This review suggests that the development team should investigate potential causes for login errors and ensure that error messages are informative. In an Aspect-Based Sentiment Analysis (ABSA) framework, aspects like \"login functionality\" (negative) and \"error handling\" (negative) would be highlighted. Furthermore, focusing on user support for account recovery or troubleshooting could help mitigate frustration and improve user retention."
   ]
  },
  {
   "cell_type": "markdown",
   "metadata": {},
   "source": [
    "### MyFitnessPal: Calorie Counter App Review"
   ]
  },
  {
   "cell_type": "code",
   "execution_count": 13,
   "metadata": {},
   "outputs": [
    {
     "name": "stdout",
     "output_type": "stream",
     "text": [
      "\n",
      "\n",
      "                         Pacer Pedometer & Step Tracker                         \n",
      "                                      id | 7459960849\n",
      "                                  app_id | 600446812\n",
      "                                app_name | Pacer Pedometer & Step Tracker\n",
      "                             category_id | 6013\n",
      "                                  author | 7424fceaf2391a7cc84d\n",
      "                                  rating | 5\n",
      "                                vote_sum | 0\n",
      "                              vote_count | 0\n",
      "                                    date | 2021-06-13 12:51:08\n",
      "                                category | Health & Fitness\n",
      "                           review_length | 29\n",
      "This is a great and free alternative to tracker watches. It helps you loose\n",
      "weight, get fit, stay healthy. Overall, just try it and you won’t regret\n",
      "downloading it🙃\n"
     ]
    }
   ],
   "source": [
    "printer.print_dataframe_as_dict(\n",
    "    df=samples, list_index=4, title=samples[\"app_name\"].values[4], text_col=\"content\"\n",
    ")"
   ]
  },
  {
   "cell_type": "markdown",
   "metadata": {},
   "source": [
    "This review provides balanced feedback, including both praise and suggestions for improvement. Here's a breakdown of the content and implications:\n",
    "\n",
    "1. **Positive Feature Mention**: The user appreciates the barcode scanner feature, indicating that it is well-implemented and useful. Positive mentions like this are valuable for highlighting features that resonate with users and should be maintained or further enhanced. In the Health & Fitness category, functionality that simplifies meal tracking, such as a barcode scanner, is crucial for user engagement and satisfaction.\n",
    "\n",
    "2. **Constructive Criticism**: The user suggests that the restaurant offerings be listed in alphabetical order, which would improve usability. This feedback points to a specific area where the app’s navigation or content organization could be refined. Enhancing the user experience by reorganizing content in a more intuitive manner could make meal selection and tracking more efficient.\n",
    "\n",
    "3. **Category Context**: As a Health & Fitness app, WW / WeightWatchers is used for managing diet and nutrition. Efficient organization and ease of use are critical factors for user satisfaction. The suggestion to improve the organization of restaurant listings aligns with the expectation for streamlined, user-friendly features in this category.\n",
    "\n",
    "4. **Rating**: The 4-star rating reflects a generally positive experience with room for improvement. The user is satisfied overall but sees potential for enhancement. This rating provides a constructive viewpoint, indicating that the app is strong but could be improved with relatively minor adjustments.\n",
    "\n",
    "**Implications for Analysis**: This review suggests that the barcode scanner feature is a highlight for users and should be a continued focus for development. In an Aspect-Based Sentiment Analysis (ABSA) framework, aspects like “barcode scanner” (positive) and “organization of restaurant listings” (neutral/negative) would be flagged. The feedback also underscores the importance of organizing content in a way that facilitates easy access, a consideration that could improve the overall user experience and potentially increase user satisfaction."
   ]
  },
  {
   "cell_type": "markdown",
   "metadata": {},
   "source": [
    "## Summary \n",
    "The AppVoCAI dataset contains 8.7 million reviews, submitted by approximately 7.2 million users across 34,871 apps. It is complete with no missing values; although, some `id` duplication was extant which we will address during the data cleaning effort. A sample inspection revealed a range of sentiments, review qualities, syntactic complexity and lexical diversity. Moderately large, this nearly 6 Gb dataset raises opportunities and challenges for computationally efficient data processing and analysis. \n",
    "\n",
    "\n",
    "Next up? Perplexity analysis will provide a proxy of review quality, and an indicator of potential quality issues."
   ]
  }
 ],
 "metadata": {
  "kernelspec": {
   "display_name": "appvocai",
   "language": "python",
   "name": "python3"
  },
  "language_info": {
   "codemirror_mode": {
    "name": "ipython",
    "version": 3
   },
   "file_extension": ".py",
   "mimetype": "text/x-python",
   "name": "python",
   "nbconvert_exporter": "python",
   "pygments_lexer": "ipython3",
   "version": "3.10.15"
  }
 },
 "nbformat": 4,
 "nbformat_minor": 2
}
