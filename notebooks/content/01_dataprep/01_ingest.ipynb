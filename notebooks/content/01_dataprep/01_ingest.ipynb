{
 "cells": [
  {
   "cell_type": "code",
   "execution_count": 1,
   "metadata": {
    "tags": [
     "remove-cell"
    ]
   },
   "outputs": [],
   "source": [
    "import os\n",
    "\n",
    "if \"jbook\" in os.getcwd():\n",
    "    os.chdir(os.path.abspath(os.path.join(\"../..\")))\n",
    "import warnings\n",
    "\n",
    "warnings.filterwarnings(\"ignore\")\n",
    "FORCE = True"
   ]
  },
  {
   "cell_type": "markdown",
   "metadata": {},
   "source": [
    "# AppVoCAI Dataset Unboxing\n",
    "In this section, we unbox the dataset, survey its key characteristics, profile its structure, format, and data types, then register it as an asset, prior to downstream data quality assessment, cleaning, enrichment and analysis activities."
   ]
  },
  {
   "cell_type": "code",
   "execution_count": 2,
   "metadata": {
    "tags": [
     "hide-cell"
    ]
   },
   "outputs": [],
   "source": [
    "import logging\n",
    "import matplotlib.pyplot as plt\n",
    "\n",
    "from discover.app.eda import EDA\n",
    "from discover.container import DiscoverContainer\n",
    "from discover.infra.config.flow import FlowConfigReader\n",
    "from explorify.eda.visualize.visualizer import Visualizer\n",
    "from discover.core.flow import DataPrepStageDef, PhaseDef\n",
    "from discover.flow.data_prep.ingest.stage import IngestStage\n",
    "from discover.infra.utils.visual.print import Printer"
   ]
  },
  {
   "cell_type": "code",
   "execution_count": 3,
   "metadata": {
    "tags": [
     "remove-cell"
    ]
   },
   "outputs": [],
   "source": [
    "container = DiscoverContainer()\n",
    "container.init_resources()\n",
    "container.wire(\n",
    "    modules=[\n",
    "        \"discover.flow.data_prep.stage\",\n",
    "        \"discover.app.base\",\n",
    "    ],\n",
    ")"
   ]
  },
  {
   "cell_type": "markdown",
   "metadata": {},
   "source": [
    "## Ingest Data\n",
    "The ingestion process reads the raw data, performs pre-conditioning of the data, such as adding review length to the dataset, then registers the dataset in the repository as an immutable asset, enforcing our write-once-read many (WORM) data management policy."
   ]
  },
  {
   "cell_type": "code",
   "execution_count": 4,
   "metadata": {},
   "outputs": [
    {
     "name": "stdout",
     "output_type": "stream",
     "text": [
      "\n",
      "\n",
      "# ============================================================================== #\n",
      "#                              Data Ingestion Stage                              #\n",
      "# ============================================================================== #\n",
      "\n",
      "\n",
      "\n",
      "                                   FilterTask                                   \n",
      "                                   ----------                                   \n",
      "                          Start Datetime | Mon, 11 Nov 2024 21:25:59\n",
      "                       Complete Datetime | Mon, 11 Nov 2024 21:26:14\n",
      "                                 Runtime | 15.17 seconds\n",
      "\n",
      "\n",
      "                               VerifyEncodingTask                               \n",
      "                               ------------------                               \n",
      "                          Start Datetime | Mon, 11 Nov 2024 21:26:20\n",
      "                       Complete Datetime | Mon, 11 Nov 2024 21:26:20\n",
      "                                 Runtime | 0.8 seconds\n",
      "\n",
      "\n",
      "                                CastDataTypeTask                                \n",
      "                                ----------------                                \n",
      "                          Start Datetime | Mon, 11 Nov 2024 21:26:20\n",
      "                       Complete Datetime | Mon, 11 Nov 2024 21:26:21\n",
      "                                 Runtime | 0.32 seconds\n",
      "\n",
      "\n",
      "                              AddReviewLengthTask                               \n",
      "                              -------------------                               \n",
      "                          Start Datetime | Mon, 11 Nov 2024 21:26:21\n",
      "                       Complete Datetime | Mon, 11 Nov 2024 21:26:21\n",
      "                                 Runtime | 0.33 seconds\n",
      "\n",
      "\n",
      "                               RemoveNewlinesTask                               \n",
      "                               ------------------                               \n",
      "                          Start Datetime | Mon, 11 Nov 2024 21:26:21\n",
      "                       Complete Datetime | Mon, 11 Nov 2024 21:26:21\n",
      "                                 Runtime | 0.07 seconds\n",
      "\n",
      "\n",
      "                              Data Ingestion Stage                              \n",
      "                              ====================                              \n",
      "                           Stage Started | Mon, 11 Nov 2024 21:25:21\n",
      "                         Stage Completed | Mon, 11 Nov 2024 21:26:22\n",
      "                           Stage Runtime | 1.0 minutes and 0.77 seconds\n",
      "\n",
      "\n",
      "# ============================================================================ #\n",
      "\n"
     ]
    }
   ],
   "source": [
    "# Obtain the configuration\n",
    "reader = FlowConfigReader()\n",
    "stage_config = reader.get_stage_config(\n",
    "    phase=PhaseDef.DATAPREP, stage=DataPrepStageDef.INGEST\n",
    ")\n",
    "\n",
    "# Build and run Data Ingestion Stage\n",
    "stage = IngestStage.build(stage_config=stage_config, force=FORCE)\n",
    "asset_id = stage.run()"
   ]
  },
  {
   "cell_type": "markdown",
   "metadata": {},
   "source": [
    "## AppVoCAI Dataset Summary\n",
    "Let's  load the data and summarize the data."
   ]
  },
  {
   "cell_type": "code",
   "execution_count": 5,
   "metadata": {},
   "outputs": [],
   "source": [
    "# Instantiate the repository\n",
    "repo = container.repo.dataset_repo()\n",
    "# Load the dataset from the repository\n",
    "df = repo.get(asset_id=asset_id).content"
   ]
  },
  {
   "cell_type": "code",
   "execution_count": 6,
   "metadata": {
    "tags": [
     "hide-cell"
    ]
   },
   "outputs": [
    {
     "name": "stdout",
     "output_type": "stream",
     "text": [
      "\n",
      "\n",
      "                            AppVoCAI Dataset Summary                            \n",
      "                       Number of Reviews | 86,705\n",
      "                     Number of Reviewers | 86,474\n",
      "              Number of Repeat Reviewers | 225\n",
      "         Number of Influential Reviewers | 5,555\n",
      "                          Number of Apps | 9,561\n",
      "                    Number of Categories | 14\n",
      "                                Features | 12\n",
      "                        Memory Size (Mb) | 58.1\n",
      "                    Date of First Review | 2020-01-01 00:25:16\n",
      "                     Date of Last Review | 2023-09-02 12:22:02\n"
     ]
    }
   ],
   "source": [
    "# Instantiate the Review analyzer object\n",
    "reviewalizer = EDA(df=df)\n",
    "reviewalizer.summary()"
   ]
  },
  {
   "cell_type": "markdown",
   "metadata": {},
   "source": [
    "As evidenced here and stated earlier, The AppVoCAI captures over 22 million reviews from nearly 16 million users. These reviews span some 36,377 apps across 14 categories. The dataset contains 11 features and spans from July 10, 2008, the date the appstore launched, through early September of 2023."
   ]
  },
  {
   "cell_type": "markdown",
   "metadata": {},
   "source": [
    "## Structural Analysis\n",
    "Before examining the content of the dataset, let's inspect its format and structure. "
   ]
  },
  {
   "cell_type": "code",
   "execution_count": 7,
   "metadata": {},
   "outputs": [
    {
     "data": {
      "text/html": [
       "<div>\n",
       "<style scoped>\n",
       "    .dataframe tbody tr th:only-of-type {\n",
       "        vertical-align: middle;\n",
       "    }\n",
       "\n",
       "    .dataframe tbody tr th {\n",
       "        vertical-align: top;\n",
       "    }\n",
       "\n",
       "    .dataframe thead th {\n",
       "        text-align: right;\n",
       "    }\n",
       "</style>\n",
       "<table border=\"1\" class=\"dataframe\">\n",
       "  <thead>\n",
       "    <tr style=\"text-align: right;\">\n",
       "      <th></th>\n",
       "      <th>Column</th>\n",
       "      <th>DataType</th>\n",
       "      <th>Complete</th>\n",
       "      <th>Null</th>\n",
       "      <th>Completeness</th>\n",
       "      <th>Unique</th>\n",
       "      <th>Duplicate</th>\n",
       "      <th>Uniqueness</th>\n",
       "      <th>Size (Bytes)</th>\n",
       "    </tr>\n",
       "  </thead>\n",
       "  <tbody>\n",
       "    <tr>\n",
       "      <th>0</th>\n",
       "      <td>id</td>\n",
       "      <td>string[python]</td>\n",
       "      <td>86705</td>\n",
       "      <td>0</td>\n",
       "      <td>1.0</td>\n",
       "      <td>86705</td>\n",
       "      <td>0</td>\n",
       "      <td>1.000000</td>\n",
       "      <td>5815097</td>\n",
       "    </tr>\n",
       "    <tr>\n",
       "      <th>1</th>\n",
       "      <td>app_id</td>\n",
       "      <td>string[python]</td>\n",
       "      <td>86705</td>\n",
       "      <td>0</td>\n",
       "      <td>1.0</td>\n",
       "      <td>9561</td>\n",
       "      <td>77144</td>\n",
       "      <td>0.110270</td>\n",
       "      <td>5763661</td>\n",
       "    </tr>\n",
       "    <tr>\n",
       "      <th>2</th>\n",
       "      <td>app_name</td>\n",
       "      <td>string[python]</td>\n",
       "      <td>86705</td>\n",
       "      <td>0</td>\n",
       "      <td>1.0</td>\n",
       "      <td>9557</td>\n",
       "      <td>77148</td>\n",
       "      <td>0.110224</td>\n",
       "      <td>7053194</td>\n",
       "    </tr>\n",
       "    <tr>\n",
       "      <th>3</th>\n",
       "      <td>category_id</td>\n",
       "      <td>category</td>\n",
       "      <td>86705</td>\n",
       "      <td>0</td>\n",
       "      <td>1.0</td>\n",
       "      <td>14</td>\n",
       "      <td>86691</td>\n",
       "      <td>0.000161</td>\n",
       "      <td>88115</td>\n",
       "    </tr>\n",
       "    <tr>\n",
       "      <th>4</th>\n",
       "      <td>author</td>\n",
       "      <td>string[python]</td>\n",
       "      <td>86705</td>\n",
       "      <td>0</td>\n",
       "      <td>1.0</td>\n",
       "      <td>86474</td>\n",
       "      <td>231</td>\n",
       "      <td>0.997336</td>\n",
       "      <td>6676285</td>\n",
       "    </tr>\n",
       "    <tr>\n",
       "      <th>5</th>\n",
       "      <td>rating</td>\n",
       "      <td>Int16</td>\n",
       "      <td>86705</td>\n",
       "      <td>0</td>\n",
       "      <td>1.0</td>\n",
       "      <td>5</td>\n",
       "      <td>86700</td>\n",
       "      <td>0.000058</td>\n",
       "      <td>260115</td>\n",
       "    </tr>\n",
       "    <tr>\n",
       "      <th>6</th>\n",
       "      <td>content</td>\n",
       "      <td>string[python]</td>\n",
       "      <td>86705</td>\n",
       "      <td>0</td>\n",
       "      <td>1.0</td>\n",
       "      <td>81292</td>\n",
       "      <td>5413</td>\n",
       "      <td>0.937570</td>\n",
       "      <td>42665622</td>\n",
       "    </tr>\n",
       "    <tr>\n",
       "      <th>7</th>\n",
       "      <td>vote_sum</td>\n",
       "      <td>Int64</td>\n",
       "      <td>86705</td>\n",
       "      <td>0</td>\n",
       "      <td>1.0</td>\n",
       "      <td>53</td>\n",
       "      <td>86652</td>\n",
       "      <td>0.000611</td>\n",
       "      <td>780345</td>\n",
       "    </tr>\n",
       "    <tr>\n",
       "      <th>8</th>\n",
       "      <td>vote_count</td>\n",
       "      <td>Int64</td>\n",
       "      <td>86705</td>\n",
       "      <td>0</td>\n",
       "      <td>1.0</td>\n",
       "      <td>65</td>\n",
       "      <td>86640</td>\n",
       "      <td>0.000750</td>\n",
       "      <td>780345</td>\n",
       "    </tr>\n",
       "    <tr>\n",
       "      <th>9</th>\n",
       "      <td>date</td>\n",
       "      <td>datetime64[ms]</td>\n",
       "      <td>86705</td>\n",
       "      <td>0</td>\n",
       "      <td>1.0</td>\n",
       "      <td>86630</td>\n",
       "      <td>75</td>\n",
       "      <td>0.999135</td>\n",
       "      <td>693640</td>\n",
       "    </tr>\n",
       "    <tr>\n",
       "      <th>10</th>\n",
       "      <td>review_length</td>\n",
       "      <td>Int64</td>\n",
       "      <td>86705</td>\n",
       "      <td>0</td>\n",
       "      <td>1.0</td>\n",
       "      <td>1534</td>\n",
       "      <td>85171</td>\n",
       "      <td>0.017692</td>\n",
       "      <td>780345</td>\n",
       "    </tr>\n",
       "    <tr>\n",
       "      <th>11</th>\n",
       "      <td>category</td>\n",
       "      <td>category</td>\n",
       "      <td>86705</td>\n",
       "      <td>0</td>\n",
       "      <td>1.0</td>\n",
       "      <td>14</td>\n",
       "      <td>86691</td>\n",
       "      <td>0.000161</td>\n",
       "      <td>88204</td>\n",
       "    </tr>\n",
       "  </tbody>\n",
       "</table>\n",
       "</div>"
      ],
      "text/plain": [
       "           Column        DataType  Complete  Null  Completeness  Unique  \\\n",
       "0              id  string[python]     86705     0           1.0   86705   \n",
       "1          app_id  string[python]     86705     0           1.0    9561   \n",
       "2        app_name  string[python]     86705     0           1.0    9557   \n",
       "3     category_id        category     86705     0           1.0      14   \n",
       "4          author  string[python]     86705     0           1.0   86474   \n",
       "5          rating           Int16     86705     0           1.0       5   \n",
       "6         content  string[python]     86705     0           1.0   81292   \n",
       "7        vote_sum           Int64     86705     0           1.0      53   \n",
       "8      vote_count           Int64     86705     0           1.0      65   \n",
       "9            date  datetime64[ms]     86705     0           1.0   86630   \n",
       "10  review_length           Int64     86705     0           1.0    1534   \n",
       "11       category        category     86705     0           1.0      14   \n",
       "\n",
       "    Duplicate  Uniqueness  Size (Bytes)  \n",
       "0           0    1.000000       5815097  \n",
       "1       77144    0.110270       5763661  \n",
       "2       77148    0.110224       7053194  \n",
       "3       86691    0.000161         88115  \n",
       "4         231    0.997336       6676285  \n",
       "5       86700    0.000058        260115  \n",
       "6        5413    0.937570      42665622  \n",
       "7       86652    0.000611        780345  \n",
       "8       86640    0.000750        780345  \n",
       "9          75    0.999135        693640  \n",
       "10      85171    0.017692        780345  \n",
       "11      86691    0.000161         88204  "
      ]
     },
     "execution_count": 7,
     "metadata": {},
     "output_type": "execute_result"
    }
   ],
   "source": [
    "reviewalizer.info()"
   ]
  },
  {
   "cell_type": "markdown",
   "metadata": {},
   "source": [
    "Several impressions:\n",
    "\n",
    "1. **ID and Uniqueness**: The `id` column is showing some duplication (117 items) which will require treatment during the data cleaning stage.\n",
    "\n",
    "2. **App-Specific Details (`app_id`, `app_name`)**: The cardinality of `app_id` exceeds that of `app_name` by 14, which indicates that some apps may have multiple ids, perhaps to uniquely identify different versions of the same app.\n",
    "\n",
    "3. **Category Distribution**:  `category_id` and `category` are consistent, each with only 14 unique categories, suggesting clear category classifications across apps. \n",
    "\n",
    "4. **Authors and Reviews**: Duplication stats for the `author` column indicate that approximately 29% of the authors have submitted multiple reviews; yet, the vast majority of authors in the dataset have minimal engagement. \n",
    "\n",
    "5. **Rating Consistency**: The `rating` column has only 5 unique values, presumably in [1,5], to be confirmed below.\n",
    "\n",
    "6. **Vote Metrics (`vote_count`, `vote_sum`)**: Both `vote_count` and `vote_sum` have low uniqueness (0.075% and 0.057%), suggesting that vote distributions are limited in range, possibly clustering around common values.\n",
    "\n",
    "7. **Review Content**: Review content occupies approximately 8 Gb of memory, with a duplication rate approaching 14% (3,086,628 reviews). Duplication in text-based user generated content often indicates common patterns such as emojis and sentiment expressions throughout the dataset.\n",
    "\n",
    "8. **Date**: Review `date` is appropriately typed as a datetime64 objects, representing an offset from 1970-01-001T00:00:00. Values range from 2008-07-10 10:15:37 to 2023-09-03 02:14:35.\n",
    "\n",
    "9. **Data Completeness**: All columns are 100% complete, with no missing values, ensuring the dataset’s integrity for analysis.\n",
    "\n",
    "10. **Data Format:** Most of the variables are appropriately typed. Casting `category_id` to category, and converting *object* types to *string* types will improve IO, storage efficiency and memory utilization.  \n",
    "\n",
    "11. **Data Volume and Memory Considerations**: The dataset weighs in at about 4.9 Gb of memory, which may require special consideration during data preprocessing, analysis, and modeling stages. For instance, certain aggregations and computationally expensive analytics can be precomputed and re-used during the analysis stages, avoiding expensive calculations and supporting real-time analytics, and decreased iteration cycle times. \n",
    "\n"
   ]
  },
  {
   "cell_type": "markdown",
   "metadata": {},
   "source": [
    "## Category Coverage\n",
    "The dataset spans 14 categories. Let's examine their distribution in terms of counts and proportions."
   ]
  },
  {
   "cell_type": "code",
   "execution_count": 8,
   "metadata": {},
   "outputs": [
    {
     "data": {
      "image/png": "[encoded data removed]",
      "text/plain": [
       "<Figure size 1200x400 with 1 Axes>"
      ]
     },
     "metadata": {},
     "output_type": "display_data"
    }
   ],
   "source": [
    "viz = Visualizer()\n",
    "ax = viz.countplot(\n",
    "    data=df,\n",
    "    y=\"category\",\n",
    "    title=\"AppVoCAI Dataset\\nDistribution of App Categories\",\n",
    "    order_by_count=True,\n",
    "    plot_counts=True,\n",
    ")"
   ]
  },
  {
   "cell_type": "markdown",
   "metadata": {},
   "source": [
    "The distribution of reviews by app category in the AppVoCAI dataset provides insight into how review data is represented within this particular dataset, rather than reflecting any actual usage or popularity patterns in the app store at large.\n",
    "\n",
    "1. **Higher Representation in Health & Fitness, Utilities, and Social Networking**: Categories such as Health & Fitness (17.8%), Utilities (13.2%), and Social Networking (12.3%) have the largest share of reviews in this dataset. This may reflect the way data was randomly sampled, rather than indicating a larger user base or greater engagement in these categories across the app store.\n",
    "\n",
    "2. **Diverse Representation Across Lifestyle, Entertainment, and Food & Drink**: Categories like Lifestyle, Entertainment, and Food & Drink are also well represented in this dataset, accounting for a moderate portion of the reviews. Again, this distribution may simply result from the dataset's random sampling approach, rather than indicating broader trends.\n",
    "\n",
    "3. **Lower Review Counts in Finance and Medical**: Some categories, such as Finance (0.2%) and Medical (2.8%), show fewer reviews in this dataset. This does not imply these categories are less popular or less reviewed in the app store but simply reflects the structure of this specific dataset.\n",
    "\n",
    "4. **Focus on Dataset-Specific Insights**: While this distribution does not represent actual app store trends, it does provide an opportunity to examine patterns and themes within each category as represented in this dataset. For example, the high representation of certain categories might allow for a richer analysis of user sentiment or feature requests in those domains.\n",
    "\n",
    "Again, this distribution should be viewed as unique to the AppVoCAI dataset, shaped by the random and stochastic nature of the acquisition process rather than as a representation of category popularity or review volume in the broader app store context."
   ]
  },
  {
   "cell_type": "markdown",
   "metadata": {},
   "source": [
    "## AppVoCAI Dataset Sample Observations \n",
    "To gain an initial, qualitative sense of the AppVoCAI dataset, let's take an early peek at a few randomly selected observations from the dataset. "
   ]
  },
  {
   "cell_type": "code",
   "execution_count": 9,
   "metadata": {},
   "outputs": [
    {
     "data": {
      "text/html": [
       "<div>\n",
       "<style scoped>\n",
       "    .dataframe tbody tr th:only-of-type {\n",
       "        vertical-align: middle;\n",
       "    }\n",
       "\n",
       "    .dataframe tbody tr th {\n",
       "        vertical-align: top;\n",
       "    }\n",
       "\n",
       "    .dataframe thead th {\n",
       "        text-align: right;\n",
       "    }\n",
       "</style>\n",
       "<table border=\"1\" class=\"dataframe\">\n",
       "  <thead>\n",
       "    <tr style=\"text-align: right;\">\n",
       "      <th></th>\n",
       "      <th>id</th>\n",
       "      <th>app_id</th>\n",
       "      <th>app_name</th>\n",
       "      <th>category_id</th>\n",
       "      <th>author</th>\n",
       "      <th>rating</th>\n",
       "      <th>content</th>\n",
       "      <th>vote_sum</th>\n",
       "      <th>vote_count</th>\n",
       "      <th>date</th>\n",
       "      <th>review_length</th>\n",
       "      <th>category</th>\n",
       "    </tr>\n",
       "  </thead>\n",
       "  <tbody>\n",
       "    <tr>\n",
       "      <th>47697</th>\n",
       "      <td>9831574493</td>\n",
       "      <td>748920931</td>\n",
       "      <td>MyQuest for Patients</td>\n",
       "      <td>6020</td>\n",
       "      <td>ea3a9ce31cf90f77a83b</td>\n",
       "      <td>5</td>\n",
       "      <td>Quest app is the best app to schedule an appoi...</td>\n",
       "      <td>0</td>\n",
       "      <td>0</td>\n",
       "      <td>2023-04-17 13:22:18</td>\n",
       "      <td>99</td>\n",
       "      <td>Medical</td>\n",
       "    </tr>\n",
       "    <tr>\n",
       "      <th>2275</th>\n",
       "      <td>6364352718</td>\n",
       "      <td>1491157984</td>\n",
       "      <td>Empower You: Unlimited Audio</td>\n",
       "      <td>6018</td>\n",
       "      <td>21aa35a49b2dfda0cfdf</td>\n",
       "      <td>5</td>\n",
       "      <td>This is the best app for me. All my favorite a...</td>\n",
       "      <td>0</td>\n",
       "      <td>0</td>\n",
       "      <td>2020-08-26 22:11:00</td>\n",
       "      <td>157</td>\n",
       "      <td>Book</td>\n",
       "    </tr>\n",
       "    <tr>\n",
       "      <th>85864</th>\n",
       "      <td>9890750085</td>\n",
       "      <td>1533263247</td>\n",
       "      <td>21Moves | Magic Cube Solver</td>\n",
       "      <td>6002</td>\n",
       "      <td>18fbbf4ed18c4865977b</td>\n",
       "      <td>4</td>\n",
       "      <td>It’s rlly good and I love how it’s rlly simple...</td>\n",
       "      <td>0</td>\n",
       "      <td>0</td>\n",
       "      <td>2023-05-04 06:33:40</td>\n",
       "      <td>128</td>\n",
       "      <td>Utilities</td>\n",
       "    </tr>\n",
       "    <tr>\n",
       "      <th>51910</th>\n",
       "      <td>8159046290</td>\n",
       "      <td>544007664</td>\n",
       "      <td>YouTube: Watch, Listen, Stream</td>\n",
       "      <td>6008</td>\n",
       "      <td>70621146e1869e9ee41f</td>\n",
       "      <td>5</td>\n",
       "      <td>This is an amazing app and I love it. However,...</td>\n",
       "      <td>0</td>\n",
       "      <td>0</td>\n",
       "      <td>2021-12-23 03:38:07</td>\n",
       "      <td>450</td>\n",
       "      <td>Photo &amp; Video</td>\n",
       "    </tr>\n",
       "    <tr>\n",
       "      <th>81424</th>\n",
       "      <td>9180220637</td>\n",
       "      <td>1016814119</td>\n",
       "      <td>Phone Guardian Safe Mobile VPN</td>\n",
       "      <td>6002</td>\n",
       "      <td>ebd6d7757a93b54429cb</td>\n",
       "      <td>3</td>\n",
       "      <td>Jbggh</td>\n",
       "      <td>0</td>\n",
       "      <td>0</td>\n",
       "      <td>2022-10-13 13:27:11</td>\n",
       "      <td>5</td>\n",
       "      <td>Utilities</td>\n",
       "    </tr>\n",
       "  </tbody>\n",
       "</table>\n",
       "</div>"
      ],
      "text/plain": [
       "               id      app_id                        app_name category_id  \\\n",
       "47697  9831574493   748920931            MyQuest for Patients        6020   \n",
       "2275   6364352718  1491157984    Empower You: Unlimited Audio        6018   \n",
       "85864  9890750085  1533263247     21Moves | Magic Cube Solver        6002   \n",
       "51910  8159046290   544007664  YouTube: Watch, Listen, Stream        6008   \n",
       "81424  9180220637  1016814119  Phone Guardian Safe Mobile VPN        6002   \n",
       "\n",
       "                     author  rating  \\\n",
       "47697  ea3a9ce31cf90f77a83b       5   \n",
       "2275   21aa35a49b2dfda0cfdf       5   \n",
       "85864  18fbbf4ed18c4865977b       4   \n",
       "51910  70621146e1869e9ee41f       5   \n",
       "81424  ebd6d7757a93b54429cb       3   \n",
       "\n",
       "                                                 content  vote_sum  \\\n",
       "47697  Quest app is the best app to schedule an appoi...         0   \n",
       "2275   This is the best app for me. All my favorite a...         0   \n",
       "85864  It’s rlly good and I love how it’s rlly simple...         0   \n",
       "51910  This is an amazing app and I love it. However,...         0   \n",
       "81424                                              Jbggh         0   \n",
       "\n",
       "       vote_count                date  review_length       category  \n",
       "47697           0 2023-04-17 13:22:18             99        Medical  \n",
       "2275            0 2020-08-26 22:11:00            157           Book  \n",
       "85864           0 2023-05-04 06:33:40            128      Utilities  \n",
       "51910           0 2021-12-23 03:38:07            450  Photo & Video  \n",
       "81424           0 2022-10-13 13:27:11              5      Utilities  "
      ]
     },
     "execution_count": 9,
     "metadata": {},
     "output_type": "execute_result"
    }
   ],
   "source": [
    "samples = df.sample(n=5, random_state=2)\n",
    "samples"
   ]
  },
  {
   "cell_type": "markdown",
   "metadata": {},
   "source": [
    "The sample includes a mix of highly rated apps, as well as lower ratings, all of which reflect different user experiences. The reviews span a significant time range, from as early as 2014 to as recent as 2023, showcasing both historical and recent user sentiments. However, a common feature across the sample is the absence of votes (both vote count and vote sum are zero). The EDA will illuminate the degree to which low engagement interaction is endemic or an aspect of our sample."
   ]
  },
  {
   "cell_type": "markdown",
   "metadata": {},
   "source": [
    "### Starbucks"
   ]
  },
  {
   "cell_type": "code",
   "execution_count": 10,
   "metadata": {},
   "outputs": [
    {
     "name": "stdout",
     "output_type": "stream",
     "text": [
      "\n",
      "\n",
      "                              MyQuest for Patients                              \n",
      "                                      id | 9831574493\n",
      "                                  app_id | 748920931\n",
      "                                app_name | MyQuest for Patients\n",
      "                             category_id | 6020\n",
      "                                  author | ea3a9ce31cf90f77a83b\n",
      "                                  rating | 5\n",
      "                                vote_sum | 0\n",
      "                              vote_count | 0\n",
      "                                    date | 2023-04-17 13:22:18\n",
      "                           review_length | 99\n",
      "                                category | Medical\n",
      "Quest app is the best app to schedule an appointment. No hassle get online set\n",
      "up your appointment.\n"
     ]
    }
   ],
   "source": [
    "printer = Printer()\n",
    "printer.print_dataframe_as_dict(\n",
    "    df=samples, list_index=0, title=samples[\"app_name\"].values[0], text_col=\"content\"\n",
    ")"
   ]
  },
  {
   "cell_type": "markdown",
   "metadata": {},
   "source": [
    "This review provides an insightful example of user feedback with both positive and negative elements. Here’s a breakdown of its content and potential implications for further analysis:\n",
    "\n",
    "1. **Positive Acknowledgment of Design**: The user begins by appreciating the \"new look\" of the Starbucks app, indicating that recent visual or interface updates have been well-received. Positive mentions like this can highlight which design or functionality aspects resonate with users, useful information for product teams.\n",
    "\n",
    "2. **Error in Notification System**: The main issue raised by the user is with the app's notification system. They report receiving incorrect notifications about their card balance, despite no actual change. This points to a potential bug or glitch where users are receiving notifications meant for other accounts, which could be a serious privacy or security concern. This is valuable feedback for the development and quality assurance teams.\n",
    "\n",
    "3. **Trust and Reliability Concerns**: The user’s experience highlights a significant trust issue. Even though they verified their balance was correct upon checking, the fact that incorrect notifications were sent could undermine their confidence in the app. Users rely on financial apps to handle sensitive information accurately, and errors like these could harm the app’s reputation if widespread.\n",
    "\n",
    "4. **Category Context**: This review falls under the \"Food & Drink\" category, where reliability, especially regarding financial transactions, is critical. Errors in financial notifications are likely to be a high-priority issue for this category, where users frequently manage balances and payments.\n",
    "\n",
    "5. **Rating**: With a low rating of 2.0, this review contributes to a negative sentiment toward the app. This rating, combined with the detailed description of the issue, suggests that this bug significantly impacted the user’s experience.\n",
    "\n",
    "**Implications for Analysis**: This review underscores the importance of checking for themes around notification accuracy and user trust, especially in categories that involve financial transactions. In an Aspect-Based Sentiment Analysis (ABSA) process, aspects like “design” (positive) and “notifications” or “balance accuracy” (negative) could be identified. This review also highlights how user trust can be impacted by seemingly minor but persistent bugs, making it an important consideration for opportunity discovery in this app's improvement."
   ]
  },
  {
   "cell_type": "markdown",
   "metadata": {},
   "source": [
    "### T-Mobile"
   ]
  },
  {
   "cell_type": "code",
   "execution_count": 11,
   "metadata": {},
   "outputs": [
    {
     "name": "stdout",
     "output_type": "stream",
     "text": [
      "\n",
      "\n",
      "                          Empower You: Unlimited Audio                          \n",
      "                                      id | 6364352718\n",
      "                                  app_id | 1491157984\n",
      "                                app_name | Empower You: Unlimited Audio\n",
      "                             category_id | 6018\n",
      "                                  author | 21aa35a49b2dfda0cfdf\n",
      "                                  rating | 5\n",
      "                                vote_sum | 0\n",
      "                              vote_count | 0\n",
      "                                    date | 2020-08-26 22:11:00\n",
      "                           review_length | 157\n",
      "                                category | Book\n",
      "This is the best app for me. All my favorite authors PLUS amazing new teachers.\n",
      "I tell everyone about it because I’m so light and happy having this resource\n"
     ]
    }
   ],
   "source": [
    "printer.print_dataframe_as_dict(\n",
    "    df=samples, list_index=1, title=samples[\"app_name\"].values[1], text_col=\"content\"\n",
    ")"
   ]
  },
  {
   "cell_type": "markdown",
   "metadata": {},
   "source": [
    "This review provides strong negative feedback, focusing on customer service and account management issues. Here’s an analysis of its key elements:\n",
    "\n",
    "1. **Frustration with Customer Service**: The reviewer expresses intense dissatisfaction with T-Mobile’s customer service, specifically citing “incompetence” and a lack of training among staff. This indicates that, from the user’s perspective, T-Mobile employees lack the necessary knowledge or skills to handle customer accounts effectively. Such feedback points to a perceived gap in customer service quality, which could have implications for both training programs and customer service policies.\n",
    "\n",
    "2. **Urgency and Emotional Intensity**: Words like “absolutely horrific” and the use of all caps in “IMMEDIATELY” emphasize the user’s frustration and sense of urgency. This heightened emotional tone suggests that the experience may have significantly affected the user’s perception of T-Mobile, potentially leading to a loss of loyalty or trust. High-intensity language like this could be flagged in sentiment analysis as a strong indicator of negative sentiment.\n",
    "\n",
    "3. **Rating**: The review is rated 1.0, the lowest possible score, which aligns with the severe dissatisfaction expressed in the text. This low rating adds weight to the feedback, highlighting the negative impact of the experience on the user’s overall view of the company.\n",
    "\n",
    "4. **Lack of Specific Details**: Although the review conveys intense dissatisfaction, it lacks specific examples of what went wrong. This lack of detail can make it challenging for the company to pinpoint and address the exact issues. However, the general sentiment still provides valuable insight into potential areas of improvement in training and customer service protocols.\n",
    "\n",
    "5. **Category Context**: As a “Utilities” app, T-Mobile’s app likely serves a functional purpose, providing access to account management and customer service. Poor customer service experiences are especially damaging in utility apps, as users expect efficient and reliable support when managing essential services like mobile accounts.\n",
    "\n",
    "**Implications for Analysis**: This review highlights the importance of customer service competence and the need for effective employee training in handling accounts. In an Aspect-Based Sentiment Analysis (ABSA), aspects like “customer service” and “employee knowledge” could be flagged with strong negative sentiment. The urgency and intensity of the language also suggest that T-Mobile may need to prioritize improvements in its customer service quality to prevent similar negative experiences. This review serves as a reminder that even without specific details, user feedback can signal underlying systemic issues in customer support and account management that may require attention."
   ]
  },
  {
   "cell_type": "markdown",
   "metadata": {},
   "source": [
    "### Human Anatomy Atlas 2023"
   ]
  },
  {
   "cell_type": "code",
   "execution_count": 12,
   "metadata": {},
   "outputs": [
    {
     "name": "stdout",
     "output_type": "stream",
     "text": [
      "\n",
      "\n",
      "                          21Moves | Magic Cube Solver                           \n",
      "                                      id | 9890750085\n",
      "                                  app_id | 1533263247\n",
      "                                app_name | 21Moves | Magic Cube Solver\n",
      "                             category_id | 6002\n",
      "                                  author | 18fbbf4ed18c4865977b\n",
      "                                  rating | 4\n",
      "                                vote_sum | 0\n",
      "                              vote_count | 0\n",
      "                                    date | 2023-05-04 06:33:40\n",
      "                           review_length | 128\n",
      "                                category | Utilities\n",
      "It’s rlly good and I love how it’s rlly simple I just don’t rlly like the part\n",
      "where u have to pay to get more or smth like that\n"
     ]
    }
   ],
   "source": [
    "printer.print_dataframe_as_dict(\n",
    "    df=samples, list_index=2, title=samples[\"app_name\"].values[2], text_col=\"content\"\n",
    ")"
   ]
  },
  {
   "cell_type": "markdown",
   "metadata": {},
   "source": [
    "This review provides positive feedback, focusing on the app’s functionality and customer support effectiveness. Here’s an analysis of its key elements:\n",
    "\n",
    "1. **Satisfaction with the App**: The reviewer expresses strong satisfaction with the **Human Anatomy Atlas 2023** app, appreciating its functionality and usefulness. This endorsement suggests that the app meets or exceeds the user’s expectations for an educational tool in the Medical category, providing value to users looking to explore anatomical information.\n",
    "\n",
    "2. **Effective Customer Support**: The user reports a positive experience with customer support after encountering an issue with the app loading following an iOS update. They mention reaching out, providing proof of purchase, and having the issue resolved. This feedback highlights the responsiveness and helpfulness of the customer support team, which is a significant factor in user satisfaction, particularly when technical issues arise due to system updates.\n",
    "\n",
    "3. **Rating**: The review is rated 5.0, the highest possible score, aligning with the user’s positive experience. This high rating reinforces the value the user places on both the app’s functionality and the quality of customer support.\n",
    "\n",
    "4. **Issue Resolution**: Although the user experienced a loading issue, their positive response suggests that prompt and effective customer support can mitigate frustration and even enhance user satisfaction. This review indicates that addressing issues quickly and respectfully can turn potentially negative experiences into positive ones.\n",
    "\n",
    "5. **Category Context**: As a Medical app, **Human Anatomy Atlas 2023** is likely expected to provide reliable, educational resources, where users rely on the app for study or professional reference. Effective customer support is especially important in this context, as users depend on the app’s consistent functionality.\n",
    "\n",
    "**Implications for Analysis**: This review underscores the importance of customer support in maintaining high user satisfaction, even when technical issues occur. In an Aspect-Based Sentiment Analysis (ABSA), aspects like “customer support” and “app reliability” could be flagged with positive sentiment. This review demonstrates that customer support is crucial in Medical apps, where users depend on the app’s reliability and responsiveness to issues."
   ]
  },
  {
   "cell_type": "markdown",
   "metadata": {},
   "source": [
    "### BetterSleep: Relax and Sleep                          \n"
   ]
  },
  {
   "cell_type": "code",
   "execution_count": 13,
   "metadata": {},
   "outputs": [
    {
     "name": "stdout",
     "output_type": "stream",
     "text": [
      "\n",
      "\n",
      "                         YouTube: Watch, Listen, Stream                         \n",
      "                                      id | 8159046290\n",
      "                                  app_id | 544007664\n",
      "                                app_name | YouTube: Watch, Listen, Stream\n",
      "                             category_id | 6008\n",
      "                                  author | 70621146e1869e9ee41f\n",
      "                                  rating | 5\n",
      "                                vote_sum | 0\n",
      "                              vote_count | 0\n",
      "                                    date | 2021-12-23 03:38:07\n",
      "                           review_length | 450\n",
      "                                category | Photo & Video\n",
      "This is an amazing app and I love it. However, as of recently, whenever I watch\n",
      "a YouTube video fully it sometimes only marks it as half-watched or even less.\n",
      "I’ve tried uninstalling and reinstalling the app and logging out of my google\n",
      "account, but nothing seems to work. Even if I go back and watch it fully again,\n",
      "it still doesn’t say I’ve watched it. Why is this happening? It is very\n",
      "inconvenient. Please fix this issues when you can. Thank you.\n"
     ]
    }
   ],
   "source": [
    "printer.print_dataframe_as_dict(\n",
    "    df=samples, list_index=3, title=samples[\"app_name\"].values[3], text_col=\"content\"\n",
    ")"
   ]
  },
  {
   "cell_type": "markdown",
   "metadata": {},
   "source": [
    "This review provides positive feedback, focusing on the app’s effectiveness in helping the user improve their sleep. Here’s an analysis of its key elements:\n",
    "\n",
    "1. **Satisfaction with App Functionality**: The reviewer expresses strong satisfaction with **BetterSleep: Relax and Sleep**, emphasizing that the app has positively impacted their sleep quality. This indicates that the app meets its intended purpose, providing effective tools or content for relaxation and sleep improvement.\n",
    "\n",
    "2. **Emotion and Tone**: The tone of the review is enthusiastic and appreciative, with the user conveying genuine happiness with the app’s impact. Phrases like \"Love it!\" reinforce this positive sentiment, suggesting that the app has made a noticeable difference in the user’s daily life.\n",
    "\n",
    "3. **Rating**: The review is rated 5.0, the highest possible score, which aligns with the positive feedback. This high rating reinforces the effectiveness of the app for this particular user, potentially indicating strong alignment between the app's purpose and user expectations.\n",
    "\n",
    "4. **Brevity and Clarity**: Although the review is brief, it effectively communicates the user’s satisfaction and the app’s perceived value. The concise feedback serves as a quick but clear endorsement of the app’s effectiveness in promoting better sleep.\n",
    "\n",
    "5. **Category Context**: As a Health & Fitness app, **BetterSleep: Relax and Sleep** is expected to support users’ well-being, in this case by aiding sleep quality. Positive reviews in this category are particularly valuable, as they may help build trust among potential users seeking solutions for sleep-related issues.\n",
    "\n",
    "**Implications for Analysis**: This review highlights the app’s success in delivering on its promise to improve sleep, an important aspect for Health & Fitness apps targeting well-being and relaxation. In an Aspect-Based Sentiment Analysis (ABSA), aspects like “effectiveness” and “sleep improvement” could be flagged with positive sentiment. This review suggests that **BetterSleep** is well-received by users looking for accessible and effective sleep aids."
   ]
  },
  {
   "cell_type": "markdown",
   "metadata": {},
   "source": [
    "### MyFitnessPal: Calorie Counter App Review"
   ]
  },
  {
   "cell_type": "code",
   "execution_count": 14,
   "metadata": {},
   "outputs": [
    {
     "name": "stdout",
     "output_type": "stream",
     "text": [
      "\n",
      "\n",
      "                         Phone Guardian Safe Mobile VPN                         \n",
      "                                      id | 9180220637\n",
      "                                  app_id | 1016814119\n",
      "                                app_name | Phone Guardian Safe Mobile VPN\n",
      "                             category_id | 6002\n",
      "                                  author | ebd6d7757a93b54429cb\n",
      "                                  rating | 3\n",
      "                                vote_sum | 0\n",
      "                              vote_count | 0\n",
      "                                    date | 2022-10-13 13:27:11\n",
      "                           review_length | 5\n",
      "                                category | Utilities\n",
      "Jbggh\n"
     ]
    }
   ],
   "source": [
    "printer.print_dataframe_as_dict(\n",
    "    df=samples, list_index=4, title=samples[\"app_name\"].values[4], text_col=\"content\"\n",
    ")"
   ]
  },
  {
   "cell_type": "markdown",
   "metadata": {},
   "source": [
    "This review provides positive feedback, focusing primarily on the quality of customer support rather than the app itself. Here’s an analysis of its key elements:\n",
    "\n",
    "1. **Praise for Customer Support**: The reviewer specifically commends a customer support representative named Quinshay for their detailed and responsive approach to addressing user concerns. This suggests that Quinshay’s assistance left a strong, positive impression, showcasing ABC’s commitment to user satisfaction and problem-solving.\n",
    "\n",
    "2. **Unique Motivation for Rating**: Although the reviewer hasn’t fully used the app yet, they still awarded it a 5-star rating based on their experience with customer support. This unique motivation highlights the importance of attentive and proactive support, which can positively impact perceptions even before users engage with the app’s core features.\n",
    "\n",
    "3. **Emotion and Tone**: The review is enthusiastic and appreciative, conveying a sense of trust and admiration for the ABC app team’s commitment to addressing user feedback. The use of phrases like “KUDOS TO YOU, ABC!!” and emoji (e.g., thumbs up, sunglasses) further emphasizes the user’s positive emotions and satisfaction.\n",
    "\n",
    "4. **Rating**: The 5.0 rating reflects the reviewer’s appreciation for the customer support experience, which they see as indicative of a customer-centric approach. This high rating, despite limited app usage, underscores how exceptional support can strongly influence user perception.\n",
    "\n",
    "5. **Category Context**: As an Entertainment app, **ABC: Stream TV Series & Sports** caters to users seeking on-demand content. While users might primarily engage with such an app for content streaming, this review highlights that customer support quality can be a pivotal factor in building brand loyalty and positive user sentiment, even in entertainment contexts.\n",
    "\n",
    "**Implications for Analysis**: This review underscores the value of customer support as a key factor in user satisfaction and perception. In an Aspect-Based Sentiment Analysis (ABSA), aspects like “customer support responsiveness” and “user engagement” could be flagged with positive sentiment. This feedback demonstrates that timely, personalized responses can foster trust and loyalty, potentially encouraging other users to engage more with the app."
   ]
  },
  {
   "cell_type": "markdown",
   "metadata": {},
   "source": [
    "## Summary \n",
    "Our overview of the AppVoCAI dataset confirms a robust collection of 22.2 million reviews, submitted by approximately 15.7 million users across 36,377 apps. A comprehensive structural analysis assessed data types, row and dataset completeness, duplication, cardinality, and overall dataset size. We found the dataset to be fully complete, with no missing values and no duplicate rows. However, field-level duplication was identified in the review `id` variable, affecting 117 observations, and in the review `content` field, where approximately 14% of entries are duplicated. \n",
    "\n",
    "## Next Steps\n",
    "It's a settled debate: data quality is *still* a vital determining factor in AI model performance, accurate analytics, and data-driven decision making {cite}`jainOverviewImportanceData2020a`, with data quality dimensions such as *completeness*, *validity*, *consistency*, and *diversity* accounting for most of the *variance* in model performance {cite}`budachEffectsDataQuality2022`. For Large Language Models (LLMs), text quality upper bounds their ability to accurately capture, and understand the nuances, complexities, and subtleties of human language. High quality text data ensures nuances are preserved, allowing models to more effectively perform tasks such as sentiment analysis, question/answering, language prediction. \n",
    "\n",
    "The next stage in our workflow positions ourselves for a structured and exhaustive quality analysis. We'll enrich the data with review-level sentiment classifications to assess class balance; while, text quality assessments will illuminate the syntactic complexity, lexical sophistication, and coherence  - critical for LLM fine-tuning. By embracing data enrichment at this stage, we derive greater value from our data quality and exploratory efforts downstream."
   ]
  }
 ],
 "metadata": {
  "kernelspec": {
   "display_name": "appvocai",
   "language": "python",
   "name": "python3"
  },
  "language_info": {
   "codemirror_mode": {
    "name": "ipython",
    "version": 3
   },
   "file_extension": ".py",
   "mimetype": "text/x-python",
   "name": "python",
   "nbconvert_exporter": "python",
   "pygments_lexer": "ipython3",
   "version": "3.10.15"
  }
 },
 "nbformat": 4,
 "nbformat_minor": 2
}
