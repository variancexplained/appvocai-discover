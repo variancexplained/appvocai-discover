{
 "cells": [
  {
   "cell_type": "code",
   "execution_count": 1,
   "metadata": {},
   "outputs": [],
   "source": [
    "import warnings\n",
    "\n",
    "warnings.filterwarnings(\"ignore\")\n",
    "import os\n",
    "\n",
    "if \"jbook\" in os.getcwd():\n",
    "    os.chdir(os.path.abspath(os.path.join(\"../..\")))\n",
    "FORCE = False"
   ]
  },
  {
   "cell_type": "markdown",
   "metadata": {},
   "source": [
    "# **AppVoCAI Dataset Enrichment**\n",
    "In advance of the exploratory data analysis, we enrich the dataset with derived features and aggregations that enhance its depth and contextual richness. Specifically, this enrichment phase involves:\n",
    "\n",
    "**1. Sentiment Classification**: Each review will be classified into one of five sentiment categories: `Very Negative`, `Negative`, `Neutral`, `Positive` and `Very Positive`.\n",
    "**2. Review Quality**: Reviews will be scored by\n",
    "**2. Review Data Enrichment**: Reviews are enhanced with rating, review quality, and temporal features.\n",
    "**3. App Data Enrichment**: Rating, review count and vote data are aggregated at the app level.\n",
    "**4. Category Data Enrichment**: Similarly, rating, review count, and vote data are aggregated at the category level.\n",
    "\n",
    "This cross-layered enrichment process will equip the exploratory analysis with additional nuance and context of user feedback across individual reviews, apps, and broader categories.  "
   ]
  },
  {
   "cell_type": "markdown",
   "metadata": {},
   "source": [
    "## **1. Quantitative Enrichments**  "
   ]
  },
  {
   "cell_type": "markdown",
   "metadata": {},
   "source": [
    "### **1. Review-Level Enrichments**  \n",
    "At the most granular level, reviews are enhanced with quality, temporal and contextual features:  \n",
    "- **Review Features**: Update review length following the data cleaning stage.\n",
    "- **Quality Features**: Each review is given a text quality score based on its syntactic and lexical richness, and diversity.\n",
    "- **Temporal Features**: By decomposing timestamps, we derive attributes such as review age and submission details (e.g., month, day, and hour). These features allow us to identify temporal trends and patterns in user feedback.  \n",
    "- **Rating, Review Age and Review Length Deviations**: Each review is compared against the average for its app's category, highlighting outliers and unique characteristics within individual reviews.  "
   ]
  },
  {
   "cell_type": "markdown",
   "metadata": {
    "tags": [
     "hide-cell"
    ]
   },
   "source": [
    "## Import Libraries"
   ]
  },
  {
   "cell_type": "code",
   "execution_count": 2,
   "metadata": {
    "tags": [
     "hide-cell"
    ]
   },
   "outputs": [],
   "source": [
    "from discover.setup import auto_wire_container\n",
    "from discover.infra.config.flow import FlowConfigReader\n",
    "from discover.core.flow import DataPrepStageDef\n",
    "from discover.core.flow import Phase, DataPrepStageDef\n",
    "from discover.flow.stage.enrich.base import DataEnrichment\n",
    "\n",
    "# Wire container\n",
    "container = auto_wire_container()"
   ]
  },
  {
   "cell_type": "markdown",
   "metadata": {},
   "source": [
    "### Review Enrichment Pipeline"
   ]
  },
  {
   "cell_type": "code",
   "execution_count": 3,
   "metadata": {},
   "outputs": [
    {
     "name": "stdout",
     "output_type": "stream",
     "text": [
      "\n",
      "\n",
      "# ============================================================================== #\n",
      "#                            Review Enrichment Stage                             #\n",
      "# ============================================================================== #\n",
      "\n",
      "____________________________________________________________________________\n",
      "Review Enrichment Stage                 07:07:16    07:07:16    0.0 seconds \n",
      "\n",
      "\n",
      "# ============================================================================ #\n",
      "\n"
     ]
    }
   ],
   "source": [
    "# Obtain the configuration\n",
    "reader = FlowConfigReader()\n",
    "stage_config = reader.get_stage_config(\n",
    "    phase=PhaseDef.DATAPREP, stage=DataPrepStageDef.ENRICH_REVIEW\n",
    ")\n",
    "# Build and run the stage\n",
    "stage = DataEnrichment.build(stage_config=stage_config, force=FORCE)\n",
    "dataset = stage.run()"
   ]
  },
  {
   "cell_type": "markdown",
   "metadata": {},
   "source": [
    "### Review Enrichment Data"
   ]
  },
  {
   "cell_type": "markdown",
   "metadata": {},
   "source": [
    "### **2. App-Level Enrichments**  \n",
    "Aggregating data at the app level provides a broader perspective on app performance:  \n",
    "- **Key Summaries**: Metrics such as the total number of reviews, median `vote_count` and `vote_sum`, `rating`, `perplexity`, and sentiment distribution offer a broader view of each app’s reception.  \n",
    "- **Deviation Statistics**: Comparing app-level metrics against their category averages sheds light on how an app deviates from its peers, offering insights into competitive positioning and unique strengths or weaknesses.  \n"
   ]
  },
  {
   "cell_type": "code",
   "execution_count": 4,
   "metadata": {},
   "outputs": [
    {
     "name": "stdout",
     "output_type": "stream",
     "text": [
      "\n",
      "\n",
      "# ============================================================================== #\n",
      "#                              App Enrichment Stage                              #\n",
      "# ============================================================================== #\n",
      "\n",
      "____________________________________________________________________________\n",
      "App Enrichment Stage                    07:07:16    07:07:16    0.0 seconds \n",
      "\n",
      "\n",
      "# ============================================================================ #\n",
      "\n"
     ]
    }
   ],
   "source": [
    "# Obtain the configuration\n",
    "reader = FlowConfigReader()\n",
    "stage_config = reader.get_stage_config(\n",
    "    phase=PhaseDef.DATAPREP, stage=DataPrepStageDef.ENRICH_APP\n",
    ")\n",
    "# Build and run the stage\n",
    "stage = DataEnrichment.build(stage_config=stage_config, force=FORCE)\n",
    "dataset = stage.run()"
   ]
  },
  {
   "cell_type": "code",
   "execution_count": 6,
   "metadata": {},
   "outputs": [
    {
     "name": "stdout",
     "output_type": "stream",
     "text": [
      "<class 'pandas.core.frame.DataFrame'>\n",
      "RangeIndex: 2325 entries, 0 to 2324\n",
      "Data columns (total 17 columns):\n",
      " #   Column                     Non-Null Count  Dtype         \n",
      "---  ------                     --------------  -----         \n",
      " 0   app_id                     2325 non-null   object        \n",
      " 1   app_name                   2325 non-null   object        \n",
      " 2   category_id                2325 non-null   object        \n",
      " 3   review_count               2325 non-null   int64         \n",
      " 4   author_count               2325 non-null   int64         \n",
      " 5   average_rating             2325 non-null   float64       \n",
      " 6   average_review_length      2325 non-null   float64       \n",
      " 7   average_review_age         2325 non-null   float64       \n",
      " 8   total_vote_sum             2325 non-null   int64         \n",
      " 9   total_vote_count           2325 non-null   int64         \n",
      " 10  first_review_date          2325 non-null   datetime64[us]\n",
      " 11  avg_review_date            2325 non-null   float64       \n",
      " 12  last_review_date           2325 non-null   datetime64[us]\n",
      " 13  review_highest_vote_sum    2322 non-null   object        \n",
      " 14  review_highest_vote_count  2325 non-null   object        \n",
      " 15  review_longest             2219 non-null   object        \n",
      " 16  category                   2325 non-null   category      \n",
      "dtypes: category(1), datetime64[us](2), float64(4), int64(4), object(6)\n",
      "memory usage: 293.7+ KB\n"
     ]
    }
   ],
   "source": [
    "df = dataset.to_pandas()\n",
    "df.info()"
   ]
  },
  {
   "cell_type": "markdown",
   "metadata": {},
   "source": [
    "### **Category-Level Enrichments**  \n",
    "Zooming out further, category-level summaries offer a macro view of app trends within specific domains:  \n",
    "- **Statistical Summaries**: Similar to the app level, category-level features include the total number of reviews, median `vote_count` and `vote_sum`, `rating`, `perplexity`, `review_age`, `review_length`, and sentiment distribution.  \n",
    "- **Contextual Insights**: These summaries provide benchmarks for evaluating app performance within its category, helping to contextualize deviations and patterns observed at the app and review levels.  \n"
   ]
  },
  {
   "cell_type": "markdown",
   "metadata": {},
   "source": [
    "#### Category Enrichment Pipeline"
   ]
  },
  {
   "cell_type": "code",
   "execution_count": 5,
   "metadata": {},
   "outputs": [
    {
     "name": "stdout",
     "output_type": "stream",
     "text": [
      "\n",
      "\n",
      "# ============================================================================== #\n",
      "#                           Category Enrichment Stage                            #\n",
      "# ============================================================================== #\n",
      "\n"
     ]
    },
    {
     "name": "stderr",
     "output_type": "stream",
     "text": [
      "your 131072x1 screen size is bogus. expect trouble\n",
      "Setting default log level to \"WARN\".\n",
      "To adjust logging level use sc.setLogLevel(newLevel). For SparkR, use setLogLevel(newLevel).\n",
      "                                                                                \r"
     ]
    },
    {
     "name": "stdout",
     "output_type": "stream",
     "text": [
      "\n",
      "Task                                    Start       End         Runtime     \n",
      "----------------------------------------------------------------------------\n",
      "CategoryAggregationTask                 07:07:27    07:07:28    0.88 seconds\n"
     ]
    },
    {
     "name": "stderr",
     "output_type": "stream",
     "text": [
      "[Stage 3:>                                                          (0 + 1) / 1]\r"
     ]
    },
    {
     "name": "stdout",
     "output_type": "stream",
     "text": [
      "____________________________________________________________________________\n",
      "Category Enrichment Stage               07:07:16    07:07:35    18.56 seconds\n",
      "\n",
      "\n",
      "# ============================================================================ #\n",
      "\n"
     ]
    },
    {
     "name": "stderr",
     "output_type": "stream",
     "text": [
      "                                                                                \r"
     ]
    }
   ],
   "source": [
    "# Obtain the configuration\n",
    "reader = FlowConfigReader()\n",
    "stage_config = reader.get_stage_config(\n",
    "    phase=PhaseDef.DATAPREP, stage=DataPrepStageDef.ENRICH_CATEGORY\n",
    ")\n",
    "# Build and run the stage\n",
    "stage = DataEnrichment.build(stage_config=stage_config, force=FORCE)\n",
    "dataset = stage.run()"
   ]
  },
  {
   "cell_type": "markdown",
   "metadata": {},
   "source": [
    "---"
   ]
  },
  {
   "cell_type": "markdown",
   "metadata": {},
   "source": [
    "## **Qualitative Enrichment**  "
   ]
  },
  {
   "cell_type": "markdown",
   "metadata": {},
   "source": [
    "## Enrichment Stage Wrap-Up\n",
    "The enrichment stage enhanced the dataset with features, including review metadata (such as length, age and temporal data), sentiment analysis, text quality scores, and comprehensive app- and category-level aggregations. In the upcoming EDA phase, we will leverage these enriched attributes to uncover patterns, relationships, and trends that illuminate user behavior and app performance."
   ]
  }
 ],
 "metadata": {
  "kernelspec": {
   "display_name": "appvocai",
   "language": "python",
   "name": "python3"
  },
  "language_info": {
   "codemirror_mode": {
    "name": "ipython",
    "version": 3
   },
   "file_extension": ".py",
   "mimetype": "text/x-python",
   "name": "python",
   "nbconvert_exporter": "python",
   "pygments_lexer": "ipython3",
   "version": "3.10.15"
  }
 },
 "nbformat": 4,
 "nbformat_minor": 2
}
