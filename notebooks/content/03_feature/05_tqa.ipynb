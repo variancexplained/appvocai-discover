{
 "cells": [
  {
   "cell_type": "code",
   "execution_count": 1,
   "metadata": {},
   "outputs": [],
   "source": [
    "import warnings\n",
    "\n",
    "warnings.filterwarnings(\"ignore\")\n",
    "import os\n",
    "\n",
    "if \"jbook\" in os.getcwd():\n",
    "    os.chdir(os.path.abspath(os.path.join(\"../..\")))\n",
    "FORCE = False"
   ]
  },
  {
   "cell_type": "markdown",
   "metadata": {},
   "source": [
    "# Text Quality Analysis (TQA) \n",
    "Aspect-based sentiment analysis (ABSA) model self-training and fine-tuning requires text saturated with explicit aspects and opinions words. Dense, unambiguous, aspect-rich reviews are especially vital during ABSA model self-training and pseudo-labeling. Explicit aspect-opinion pair relationships minimize noise and reinforce the model’s understanding of aspect-sentiment associations. Here, we assess the degree to which each review manifests this richness, enabling targeted sample selection for optimal self-training and ABSA model fine-tuning. \n",
    "\n",
    "## Text Quality Scoring \n",
    "Text quality in our context is less about fluency or lexical sophistication in the traditional linguistic sense; we're not grading essays. Instead, we focus on whether reviews contain clear aspects and opinions, reflected through specific syntactic features, such as the density of nouns, adjectives, verbs, and adverbs. Our scoring method assigns weighted values to key syntactic components that drive aspect-based sentiment analysis. We calculate the **Syntactic Score** using the formula:\n",
    "\n",
    "$$\n",
    "\\text{Syntactic Score} = 0.3 \\times \\text{Noun Density} + 0.3 \\times \\text{Adjective Density} + 0.2 \\times \\text{Verb Density} + 0.2 \\times \\text{Adverb Density}\n",
    "$$\n",
    "\n",
    "Here, nouns $w_N = 0.3$ anchor aspect identification, while adjectives $w_A = 0.3$ capture sentiment polarity. Verbs $w_V = 0.2$ add contextual sentiment nuances, and adverbs $w_{ADV} = 0.2$ convey intensity. We combine this **Syntactic Score** with a **Lexical Diversity Score (TTR)** to derive a comprehensive **Text Quality Score**:\n",
    "\n",
    "$$\n",
    "\\text{Text Quality Score Raw} = \\alpha \\cdot \\text{Syntactic Score} + \\beta \\cdot \\text{Lexical Diversity Score (TTR)}\n",
    "$$\n",
    "\n",
    "where $\\alpha=0.5$ and $\\beta=0.5$ adjust the relative importance of syntactic richness and lexical diversity, respectively.\n",
    "\n",
    "Finally, we scale $\\text{Text Quality Score}$ to the range $[0,100]$"
   ]
  },
  {
   "cell_type": "markdown",
   "metadata": {
    "tags": [
     "hide-cell"
    ]
   },
   "source": [
    "## Import Libraries"
   ]
  },
  {
   "cell_type": "code",
   "execution_count": 2,
   "metadata": {
    "tags": [
     "hide-cell"
    ]
   },
   "outputs": [],
   "source": [
    "import pandas as pd\n",
    "from discover.app.tqa import TextQualityAnalysis\n",
    "from discover.container import DiscoverContainer\n",
    "from discover.infra.config.flow import FlowConfigReader\n",
    "from discover.core.flow import StageDef\n",
    "from discover.assets.idgen import AssetIDGen\n",
    "from discover.flow.data_prep.tqa.stage import TQAStage\n",
    "from discover.core.flow import PhaseDef, StageDef\n",
    "\n",
    "pd.options.display.max_colwidth = 200"
   ]
  },
  {
   "cell_type": "markdown",
   "metadata": {
    "tags": [
     "remove-cell"
    ]
   },
   "source": [
    "## Dependency Container"
   ]
  },
  {
   "cell_type": "code",
   "execution_count": 3,
   "metadata": {
    "tags": [
     "remove-cell"
    ]
   },
   "outputs": [],
   "source": [
    "container = DiscoverContainer()\n",
    "container.init_resources()\n",
    "container.wire(\n",
    "    modules=[\n",
    "        \"discover.flow.stage.base\",\n",
    "    ],\n",
    ")"
   ]
  },
  {
   "cell_type": "markdown",
   "metadata": {},
   "source": [
    "## Text Quality Analysis Pipeline\n",
    "You know the script. We obtain the configuration, instantiate and run the `TQAStage` stage object. "
   ]
  },
  {
   "cell_type": "code",
   "execution_count": 4,
   "metadata": {},
   "outputs": [
    {
     "name": "stdout",
     "output_type": "stream",
     "text": [
      "\n",
      "\n",
      "# ============================================================================== #\n",
      "#                          Text Quality Analysis Stage                           #\n",
      "# ============================================================================== #\n",
      "\n"
     ]
    },
    {
     "name": "stderr",
     "output_type": "stream",
     "text": [
      "your 131072x1 screen size is bogus. expect trouble\n"
     ]
    },
    {
     "name": "stdout",
     "output_type": "stream",
     "text": [
      ":: loading settings :: url = jar:file:/home/john/miniconda3/envs/appvocai/lib/python3.10/site-packages/pyspark/jars/ivy-2.5.1.jar!/org/apache/ivy/core/settings/ivysettings.xml\n"
     ]
    },
    {
     "name": "stderr",
     "output_type": "stream",
     "text": [
      "Ivy Default Cache set to: /home/john/.ivy2/cache\n",
      "The jars for the packages stored in: /home/john/.ivy2/jars\n",
      "com.johnsnowlabs.nlp#spark-nlp_2.12 added as a dependency\n",
      ":: resolving dependencies :: org.apache.spark#spark-submit-parent-a61b6815-805f-4751-a908-f372473c58e5;1.0\n",
      "\tconfs: [default]\n",
      "\tfound com.johnsnowlabs.nlp#spark-nlp_2.12;5.3.3 in central\n",
      "\tfound com.typesafe#config;1.4.2 in central\n",
      "\tfound org.rocksdb#rocksdbjni;6.29.5 in central\n",
      "\tfound com.amazonaws#aws-java-sdk-s3;1.12.500 in central\n",
      "\tfound com.amazonaws#aws-java-sdk-kms;1.12.500 in central\n",
      "\tfound com.amazonaws#aws-java-sdk-core;1.12.500 in central\n",
      "\tfound commons-logging#commons-logging;1.1.3 in central\n",
      "\tfound commons-codec#commons-codec;1.15 in central\n",
      "\tfound org.apache.httpcomponents#httpclient;4.5.13 in central\n",
      "\tfound org.apache.httpcomponents#httpcore;4.4.13 in central\n",
      "\tfound software.amazon.ion#ion-java;1.0.2 in central\n",
      "\tfound joda-time#joda-time;2.8.1 in central\n",
      "\tfound com.amazonaws#jmespath-java;1.12.500 in central\n",
      "\tfound com.github.universal-automata#liblevenshtein;3.0.0 in central\n",
      "\tfound com.google.protobuf#protobuf-java-util;3.0.0-beta-3 in central\n",
      "\tfound com.google.protobuf#protobuf-java;3.0.0-beta-3 in central\n",
      "\tfound com.google.code.gson#gson;2.3 in central\n",
      "\tfound it.unimi.dsi#fastutil;7.0.12 in central\n",
      "\tfound org.projectlombok#lombok;1.16.8 in central\n",
      "\tfound com.google.cloud#google-cloud-storage;2.20.1 in central\n",
      "\tfound com.google.guava#guava;31.1-jre in central\n",
      "\tfound com.google.guava#failureaccess;1.0.1 in central\n",
      "\tfound com.google.guava#listenablefuture;9999.0-empty-to-avoid-conflict-with-guava in central\n",
      "\tfound com.google.errorprone#error_prone_annotations;2.18.0 in central\n",
      "\tfound com.google.j2objc#j2objc-annotations;1.3 in central\n",
      "\tfound com.google.http-client#google-http-client;1.43.0 in central\n",
      "\tfound io.opencensus#opencensus-contrib-http-util;0.31.1 in central\n",
      "\tfound com.google.http-client#google-http-client-jackson2;1.43.0 in central\n",
      "\tfound com.google.http-client#google-http-client-gson;1.43.0 in central\n",
      "\tfound com.google.api-client#google-api-client;2.2.0 in central\n",
      "\tfound com.google.oauth-client#google-oauth-client;1.34.1 in central\n",
      "\tfound com.google.http-client#google-http-client-apache-v2;1.43.0 in central\n",
      "\tfound com.google.apis#google-api-services-storage;v1-rev20220705-2.0.0 in central\n",
      "\tfound com.google.code.gson#gson;2.10.1 in central\n",
      "\tfound com.google.cloud#google-cloud-core;2.12.0 in central\n",
      "\tfound io.grpc#grpc-context;1.53.0 in central\n",
      "\tfound com.google.auto.value#auto-value-annotations;1.10.1 in central\n",
      "\tfound com.google.auto.value#auto-value;1.10.1 in central\n",
      "\tfound javax.annotation#javax.annotation-api;1.3.2 in central\n",
      "\tfound com.google.cloud#google-cloud-core-http;2.12.0 in central\n",
      "\tfound com.google.http-client#google-http-client-appengine;1.43.0 in central\n",
      "\tfound com.google.api#gax-httpjson;0.108.2 in central\n",
      "\tfound com.google.cloud#google-cloud-core-grpc;2.12.0 in central\n",
      "\tfound io.grpc#grpc-alts;1.53.0 in central\n",
      "\tfound io.grpc#grpc-grpclb;1.53.0 in central\n",
      "\tfound org.conscrypt#conscrypt-openjdk-uber;2.5.2 in central\n",
      "\tfound io.grpc#grpc-auth;1.53.0 in central\n",
      "\tfound io.grpc#grpc-protobuf;1.53.0 in central\n",
      "\tfound io.grpc#grpc-protobuf-lite;1.53.0 in central\n",
      "\tfound io.grpc#grpc-core;1.53.0 in central\n",
      "\tfound com.google.api#gax;2.23.2 in central\n",
      "\tfound com.google.api#gax-grpc;2.23.2 in central\n",
      "\tfound com.google.auth#google-auth-library-credentials;1.16.0 in central\n",
      "\tfound com.google.auth#google-auth-library-oauth2-http;1.16.0 in central\n",
      "\tfound com.google.api#api-common;2.6.2 in central\n",
      "\tfound io.opencensus#opencensus-api;0.31.1 in central\n",
      "\tfound com.google.api.grpc#proto-google-iam-v1;1.9.2 in central\n",
      "\tfound com.google.protobuf#protobuf-java;3.21.12 in central\n",
      "\tfound com.google.protobuf#protobuf-java-util;3.21.12 in central\n",
      "\tfound com.google.api.grpc#proto-google-common-protos;2.14.2 in central\n",
      "\tfound org.threeten#threetenbp;1.6.5 in central\n",
      "\tfound com.google.api.grpc#proto-google-cloud-storage-v2;2.20.1-alpha in central\n",
      "\tfound com.google.api.grpc#grpc-google-cloud-storage-v2;2.20.1-alpha in central\n",
      "\tfound com.google.api.grpc#gapic-google-cloud-storage-v2;2.20.1-alpha in central\n",
      "\tfound com.google.code.findbugs#jsr305;3.0.2 in central\n",
      "\tfound io.grpc#grpc-api;1.53.0 in central\n",
      "\tfound io.grpc#grpc-stub;1.53.0 in central\n",
      "\tfound org.checkerframework#checker-qual;3.31.0 in central\n",
      "\tfound io.perfmark#perfmark-api;0.26.0 in central\n",
      "\tfound com.google.android#annotations;4.1.1.4 in central\n",
      "\tfound org.codehaus.mojo#animal-sniffer-annotations;1.22 in central\n",
      "\tfound io.opencensus#opencensus-proto;0.2.0 in central\n",
      "\tfound io.grpc#grpc-services;1.53.0 in central\n",
      "\tfound com.google.re2j#re2j;1.6 in central\n",
      "\tfound io.grpc#grpc-netty-shaded;1.53.0 in central\n",
      "\tfound io.grpc#grpc-googleapis;1.53.0 in central\n",
      "\tfound io.grpc#grpc-xds;1.53.0 in central\n",
      "\tfound com.navigamez#greex;1.0 in central\n",
      "\tfound dk.brics.automaton#automaton;1.11-8 in central\n",
      "\tfound com.johnsnowlabs.nlp#tensorflow-cpu_2.12;0.4.4 in central\n",
      "\tfound com.microsoft.onnxruntime#onnxruntime;1.17.0 in central\n",
      ":: resolution report :: resolve 1996ms :: artifacts dl 91ms\n",
      "\t:: modules in use:\n",
      "\tcom.amazonaws#aws-java-sdk-core;1.12.500 from central in [default]\n",
      "\tcom.amazonaws#aws-java-sdk-kms;1.12.500 from central in [default]\n",
      "\tcom.amazonaws#aws-java-sdk-s3;1.12.500 from central in [default]\n",
      "\tcom.amazonaws#jmespath-java;1.12.500 from central in [default]\n",
      "\tcom.github.universal-automata#liblevenshtein;3.0.0 from central in [default]\n",
      "\tcom.google.android#annotations;4.1.1.4 from central in [default]\n",
      "\tcom.google.api#api-common;2.6.2 from central in [default]\n",
      "\tcom.google.api#gax;2.23.2 from central in [default]\n",
      "\tcom.google.api#gax-grpc;2.23.2 from central in [default]\n",
      "\tcom.google.api#gax-httpjson;0.108.2 from central in [default]\n",
      "\tcom.google.api-client#google-api-client;2.2.0 from central in [default]\n",
      "\tcom.google.api.grpc#gapic-google-cloud-storage-v2;2.20.1-alpha from central in [default]\n",
      "\tcom.google.api.grpc#grpc-google-cloud-storage-v2;2.20.1-alpha from central in [default]\n",
      "\tcom.google.api.grpc#proto-google-cloud-storage-v2;2.20.1-alpha from central in [default]\n",
      "\tcom.google.api.grpc#proto-google-common-protos;2.14.2 from central in [default]\n",
      "\tcom.google.api.grpc#proto-google-iam-v1;1.9.2 from central in [default]\n",
      "\tcom.google.apis#google-api-services-storage;v1-rev20220705-2.0.0 from central in [default]\n",
      "\tcom.google.auth#google-auth-library-credentials;1.16.0 from central in [default]\n",
      "\tcom.google.auth#google-auth-library-oauth2-http;1.16.0 from central in [default]\n",
      "\tcom.google.auto.value#auto-value;1.10.1 from central in [default]\n",
      "\tcom.google.auto.value#auto-value-annotations;1.10.1 from central in [default]\n",
      "\tcom.google.cloud#google-cloud-core;2.12.0 from central in [default]\n",
      "\tcom.google.cloud#google-cloud-core-grpc;2.12.0 from central in [default]\n",
      "\tcom.google.cloud#google-cloud-core-http;2.12.0 from central in [default]\n",
      "\tcom.google.cloud#google-cloud-storage;2.20.1 from central in [default]\n",
      "\tcom.google.code.findbugs#jsr305;3.0.2 from central in [default]\n",
      "\tcom.google.code.gson#gson;2.10.1 from central in [default]\n",
      "\tcom.google.errorprone#error_prone_annotations;2.18.0 from central in [default]\n",
      "\tcom.google.guava#failureaccess;1.0.1 from central in [default]\n",
      "\tcom.google.guava#guava;31.1-jre from central in [default]\n",
      "\tcom.google.guava#listenablefuture;9999.0-empty-to-avoid-conflict-with-guava from central in [default]\n",
      "\tcom.google.http-client#google-http-client;1.43.0 from central in [default]\n",
      "\tcom.google.http-client#google-http-client-apache-v2;1.43.0 from central in [default]\n",
      "\tcom.google.http-client#google-http-client-appengine;1.43.0 from central in [default]\n",
      "\tcom.google.http-client#google-http-client-gson;1.43.0 from central in [default]\n",
      "\tcom.google.http-client#google-http-client-jackson2;1.43.0 from central in [default]\n",
      "\tcom.google.j2objc#j2objc-annotations;1.3 from central in [default]\n",
      "\tcom.google.oauth-client#google-oauth-client;1.34.1 from central in [default]\n",
      "\tcom.google.protobuf#protobuf-java;3.21.12 from central in [default]\n",
      "\tcom.google.protobuf#protobuf-java-util;3.21.12 from central in [default]\n",
      "\tcom.google.re2j#re2j;1.6 from central in [default]\n",
      "\tcom.johnsnowlabs.nlp#spark-nlp_2.12;5.3.3 from central in [default]\n",
      "\tcom.johnsnowlabs.nlp#tensorflow-cpu_2.12;0.4.4 from central in [default]\n",
      "\tcom.microsoft.onnxruntime#onnxruntime;1.17.0 from central in [default]\n",
      "\tcom.navigamez#greex;1.0 from central in [default]\n",
      "\tcom.typesafe#config;1.4.2 from central in [default]\n",
      "\tcommons-codec#commons-codec;1.15 from central in [default]\n",
      "\tcommons-logging#commons-logging;1.1.3 from central in [default]\n",
      "\tdk.brics.automaton#automaton;1.11-8 from central in [default]\n",
      "\tio.grpc#grpc-alts;1.53.0 from central in [default]\n",
      "\tio.grpc#grpc-api;1.53.0 from central in [default]\n",
      "\tio.grpc#grpc-auth;1.53.0 from central in [default]\n",
      "\tio.grpc#grpc-context;1.53.0 from central in [default]\n",
      "\tio.grpc#grpc-core;1.53.0 from central in [default]\n",
      "\tio.grpc#grpc-googleapis;1.53.0 from central in [default]\n",
      "\tio.grpc#grpc-grpclb;1.53.0 from central in [default]\n",
      "\tio.grpc#grpc-netty-shaded;1.53.0 from central in [default]\n",
      "\tio.grpc#grpc-protobuf;1.53.0 from central in [default]\n",
      "\tio.grpc#grpc-protobuf-lite;1.53.0 from central in [default]\n",
      "\tio.grpc#grpc-services;1.53.0 from central in [default]\n",
      "\tio.grpc#grpc-stub;1.53.0 from central in [default]\n",
      "\tio.grpc#grpc-xds;1.53.0 from central in [default]\n",
      "\tio.opencensus#opencensus-api;0.31.1 from central in [default]\n",
      "\tio.opencensus#opencensus-contrib-http-util;0.31.1 from central in [default]\n",
      "\tio.opencensus#opencensus-proto;0.2.0 from central in [default]\n",
      "\tio.perfmark#perfmark-api;0.26.0 from central in [default]\n",
      "\tit.unimi.dsi#fastutil;7.0.12 from central in [default]\n",
      "\tjavax.annotation#javax.annotation-api;1.3.2 from central in [default]\n",
      "\tjoda-time#joda-time;2.8.1 from central in [default]\n",
      "\torg.apache.httpcomponents#httpclient;4.5.13 from central in [default]\n",
      "\torg.apache.httpcomponents#httpcore;4.4.13 from central in [default]\n",
      "\torg.checkerframework#checker-qual;3.31.0 from central in [default]\n",
      "\torg.codehaus.mojo#animal-sniffer-annotations;1.22 from central in [default]\n",
      "\torg.conscrypt#conscrypt-openjdk-uber;2.5.2 from central in [default]\n",
      "\torg.projectlombok#lombok;1.16.8 from central in [default]\n",
      "\torg.rocksdb#rocksdbjni;6.29.5 from central in [default]\n",
      "\torg.threeten#threetenbp;1.6.5 from central in [default]\n",
      "\tsoftware.amazon.ion#ion-java;1.0.2 from central in [default]\n",
      "\t:: evicted modules:\n",
      "\tcommons-logging#commons-logging;1.2 by [commons-logging#commons-logging;1.1.3] in [default]\n",
      "\tcommons-codec#commons-codec;1.11 by [commons-codec#commons-codec;1.15] in [default]\n",
      "\tcom.google.protobuf#protobuf-java-util;3.0.0-beta-3 by [com.google.protobuf#protobuf-java-util;3.21.12] in [default]\n",
      "\tcom.google.protobuf#protobuf-java;3.0.0-beta-3 by [com.google.protobuf#protobuf-java;3.21.12] in [default]\n",
      "\tcom.google.code.gson#gson;2.3 by [com.google.code.gson#gson;2.10.1] in [default]\n",
      "\t---------------------------------------------------------------------\n",
      "\t|                  |            modules            ||   artifacts   |\n",
      "\t|       conf       | number| search|dwnlded|evicted|| number|dwnlded|\n",
      "\t---------------------------------------------------------------------\n",
      "\t|      default     |   83  |   0   |   0   |   5   ||   78  |   0   |\n",
      "\t---------------------------------------------------------------------\n",
      ":: retrieving :: org.apache.spark#spark-submit-parent-a61b6815-805f-4751-a908-f372473c58e5\n",
      "\tconfs: [default]\n",
      "\t0 artifacts copied, 78 already retrieved (0kB/34ms)\n",
      "Setting default log level to \"WARN\".\n",
      "To adjust logging level use sc.setLogLevel(newLevel). For SparkR, use setLogLevel(newLevel).\n",
      "                                                                                \r"
     ]
    },
    {
     "name": "stdout",
     "output_type": "stream",
     "text": [
      "\n",
      "\n",
      "                                    NLPTask                                     \n",
      "                                    -------                                     \n",
      "                          Start Datetime | Tue, 19 Nov 2024 13:27:41\n",
      "pos_ud_ewt download started this may take some time.\n",
      "Approximate size to download 2.2 MB\n",
      "[ | ]pos_ud_ewt download started this may take some time.\n",
      "Approximate size to download 2.2 MB\n",
      "Download done! Loading the resource.\n",
      "[ / ]"
     ]
    },
    {
     "name": "stderr",
     "output_type": "stream",
     "text": [
      "                                                                                \r"
     ]
    },
    {
     "name": "stdout",
     "output_type": "stream",
     "text": [
      "[OK!]\n",
      "                       Complete Datetime | Tue, 19 Nov 2024 13:28:04\n",
      "                                 Runtime | 22.37 seconds\n",
      "\n",
      "\n",
      "                             ComputeTextQualityTask                             \n",
      "                             ----------------------                             \n",
      "                          Start Datetime | Tue, 19 Nov 2024 13:28:04\n",
      "                       Complete Datetime | Tue, 19 Nov 2024 13:28:05\n",
      "                                 Runtime | 1.2 seconds\n"
     ]
    },
    {
     "name": "stderr",
     "output_type": "stream",
     "text": [
      "[Stage 13:>                                                         (0 + 1) / 1]\r"
     ]
    },
    {
     "name": "stdout",
     "output_type": "stream",
     "text": [
      "\n",
      "\n",
      "                          Text Quality Analysis Stage                           \n",
      "                          ===========================                           \n",
      "                           Stage Started | Tue, 19 Nov 2024 13:27:16\n",
      "                         Stage Completed | Tue, 19 Nov 2024 13:29:41\n",
      "                           Stage Runtime | 2.0 minutes and 25.0 seconds\n",
      "\n",
      "\n",
      "# ============================================================================ #\n",
      "\n"
     ]
    },
    {
     "name": "stderr",
     "output_type": "stream",
     "text": [
      "                                                                                \r"
     ]
    }
   ],
   "source": [
    "# Obtain the configuration\n",
    "reader = FlowConfigReader()\n",
    "stage_config = reader.get_stage_config(phase=PhaseDef.DATAPREP, stage=StageDef.TQA)\n",
    "\n",
    "# Build and run Data Ingestion Stage\n",
    "stage = TQAStage.build(stage_config=stage_config, force=FORCE, return_dataset=False)\n",
    "dataset = stage.run()"
   ]
  },
  {
   "cell_type": "markdown",
   "metadata": {},
   "source": [
    "## Text Quality and Relevance\n",
    "Here, we inductively assess the degree to which: \n",
    "1. Low text quality scores reflect low quality reviews.\n",
    "2. High scores indicate dense and diverse aspect and opinion rich reviews.\n",
    "3. A threshold separating relevant from irrelevant reviews can be determined.\n",
    "\n",
    "First, lets get an overall sense of the centrality, spread and shape of text quality scores in the dataset."
   ]
  },
  {
   "cell_type": "code",
   "execution_count": 5,
   "metadata": {},
   "outputs": [],
   "source": [
    "repo = container.repo.dataset_repo()\n",
    "asset_id = AssetIDGen.get_asset_id(\n",
    "    asset_type=\"dataset\", phase=PhaseDef.DATAPREP, stage=StageDef.TQA, name=\"review\"\n",
    ")\n",
    "dataset = repo.get(asset_id=asset_id, distributed=False, nlp=False)"
   ]
  },
  {
   "cell_type": "code",
   "execution_count": 6,
   "metadata": {},
   "outputs": [
    {
     "data": {
      "image/png": "[encoded data removed]",
      "text/plain": [
       "<Figure size 1200x400 with 3 Axes>"
      ]
     },
     "metadata": {},
     "output_type": "display_data"
    },
    {
     "data": {
      "text/html": [
       "<div>\n",
       "<style scoped>\n",
       "    .dataframe tbody tr th:only-of-type {\n",
       "        vertical-align: middle;\n",
       "    }\n",
       "\n",
       "    .dataframe tbody tr th {\n",
       "        vertical-align: top;\n",
       "    }\n",
       "\n",
       "    .dataframe thead th {\n",
       "        text-align: right;\n",
       "    }\n",
       "</style>\n",
       "<table border=\"1\" class=\"dataframe\">\n",
       "  <thead>\n",
       "    <tr style=\"text-align: right;\">\n",
       "      <th></th>\n",
       "      <th>count</th>\n",
       "      <th>mean</th>\n",
       "      <th>std</th>\n",
       "      <th>min</th>\n",
       "      <th>25%</th>\n",
       "      <th>50%</th>\n",
       "      <th>75%</th>\n",
       "      <th>max</th>\n",
       "    </tr>\n",
       "  </thead>\n",
       "  <tbody>\n",
       "    <tr>\n",
       "      <th>tqa_score</th>\n",
       "      <td>86705.0</td>\n",
       "      <td>63.620653</td>\n",
       "      <td>13.717453</td>\n",
       "      <td>0.0</td>\n",
       "      <td>62.173079</td>\n",
       "      <td>66.086241</td>\n",
       "      <td>69.77129</td>\n",
       "      <td>100.0</td>\n",
       "    </tr>\n",
       "  </tbody>\n",
       "</table>\n",
       "</div>"
      ],
      "text/plain": [
       "             count       mean        std  min        25%        50%       75%  \\\n",
       "tqa_score  86705.0  63.620653  13.717453  0.0  62.173079  66.086241  69.77129   \n",
       "\n",
       "             max  \n",
       "tqa_score  100.0  "
      ]
     },
     "execution_count": 6,
     "metadata": {},
     "output_type": "execute_result"
    }
   ],
   "source": [
    "tqa = TextQualityAnalysis(df=dataset.content)\n",
    "tqa.distribution(x=\"tqa_score\")"
   ]
  },
  {
   "cell_type": "markdown",
   "metadata": {},
   "source": [
    "Analysis here"
   ]
  },
  {
   "cell_type": "markdown",
   "metadata": {},
   "source": [
    "### Low Quality Reviews"
   ]
  },
  {
   "cell_type": "code",
   "execution_count": 7,
   "metadata": {},
   "outputs": [
    {
     "data": {
      "text/html": [
       "<div>\n",
       "<style scoped>\n",
       "    .dataframe tbody tr th:only-of-type {\n",
       "        vertical-align: middle;\n",
       "    }\n",
       "\n",
       "    .dataframe tbody tr th {\n",
       "        vertical-align: top;\n",
       "    }\n",
       "\n",
       "    .dataframe thead th {\n",
       "        text-align: right;\n",
       "    }\n",
       "</style>\n",
       "<table border=\"1\" class=\"dataframe\">\n",
       "  <thead>\n",
       "    <tr style=\"text-align: right;\">\n",
       "      <th></th>\n",
       "      <th>id</th>\n",
       "      <th>app_name</th>\n",
       "      <th>tqa_score</th>\n",
       "      <th>content</th>\n",
       "    </tr>\n",
       "  </thead>\n",
       "  <tbody>\n",
       "    <tr>\n",
       "      <th>0</th>\n",
       "      <td>9053214662</td>\n",
       "      <td>Yubo : Make new friends</td>\n",
       "      <td>0.0</td>\n",
       "      <td>Magnifique !!</td>\n",
       "    </tr>\n",
       "    <tr>\n",
       "      <th>1</th>\n",
       "      <td>6764581121</td>\n",
       "      <td>SmartThings</td>\n",
       "      <td>0.0</td>\n",
       "      <td>🔥🔥🔥</td>\n",
       "    </tr>\n",
       "    <tr>\n",
       "      <th>2</th>\n",
       "      <td>8136926908</td>\n",
       "      <td>Google Photos</td>\n",
       "      <td>0.0</td>\n",
       "      <td>محرم بك</td>\n",
       "    </tr>\n",
       "    <tr>\n",
       "      <th>3</th>\n",
       "      <td>9239140006</td>\n",
       "      <td>VPN cat master - express proxy</td>\n",
       "      <td>0.0</td>\n",
       "      <td>更新ios16之后就用不了了</td>\n",
       "    </tr>\n",
       "    <tr>\n",
       "      <th>4</th>\n",
       "      <td>9199305860</td>\n",
       "      <td>Kika Keyboard - Custom Themes</td>\n",
       "      <td>0.0</td>\n",
       "      <td>𝓣𝓱𝓪𝓷𝓴 𝓨𝓸𝓾 ❤️</td>\n",
       "    </tr>\n",
       "    <tr>\n",
       "      <th>5</th>\n",
       "      <td>9156805292</td>\n",
       "      <td>QQ邮箱</td>\n",
       "      <td>0.0</td>\n",
       "      <td>一个邮件客户端，老让我绑定手机号干什么，你们脑子有病吗？</td>\n",
       "    </tr>\n",
       "    <tr>\n",
       "      <th>6</th>\n",
       "      <td>5989928571</td>\n",
       "      <td>Google Classroom</td>\n",
       "      <td>0.0</td>\n",
       "      <td>Bad</td>\n",
       "    </tr>\n",
       "    <tr>\n",
       "      <th>7</th>\n",
       "      <td>8052882290</td>\n",
       "      <td>YouTube: Watch, Listen, Stream</td>\n",
       "      <td>0.0</td>\n",
       "      <td>Ta bien</td>\n",
       "    </tr>\n",
       "    <tr>\n",
       "      <th>8</th>\n",
       "      <td>9002384087</td>\n",
       "      <td>Font Keyboard - Good Fonts</td>\n",
       "      <td>0.0</td>\n",
       "      <td>𝐁𝐞𝐚𝐮𝐭𝐲</td>\n",
       "    </tr>\n",
       "    <tr>\n",
       "      <th>9</th>\n",
       "      <td>5953820193</td>\n",
       "      <td>Schoology</td>\n",
       "      <td>0.0</td>\n",
       "      <td>no</td>\n",
       "    </tr>\n",
       "  </tbody>\n",
       "</table>\n",
       "</div>"
      ],
      "text/plain": [
       "           id                        app_name  tqa_score  \\\n",
       "0  9053214662         Yubo : Make new friends        0.0   \n",
       "1  6764581121                     SmartThings        0.0   \n",
       "2  8136926908                   Google Photos        0.0   \n",
       "3  9239140006  VPN cat master - express proxy        0.0   \n",
       "4  9199305860   Kika Keyboard - Custom Themes        0.0   \n",
       "5  9156805292                            QQ邮箱        0.0   \n",
       "6  5989928571                Google Classroom        0.0   \n",
       "7  8052882290  YouTube: Watch, Listen, Stream        0.0   \n",
       "8  9002384087      Font Keyboard - Good Fonts        0.0   \n",
       "9  5953820193                       Schoology        0.0   \n",
       "\n",
       "                        content  \n",
       "0                 Magnifique !!  \n",
       "1                           🔥🔥🔥  \n",
       "2                       محرم بك  \n",
       "3                更新ios16之后就用不了了  \n",
       "4                  𝓣𝓱𝓪𝓷𝓴 𝓨𝓸𝓾 ❤️  \n",
       "5  一个邮件客户端，老让我绑定手机号干什么，你们脑子有病吗？  \n",
       "6                           Bad  \n",
       "7                       Ta bien  \n",
       "8                        𝐁𝐞𝐚𝐮𝐭𝐲  \n",
       "9                            no  "
      ]
     },
     "execution_count": 7,
     "metadata": {},
     "output_type": "execute_result"
    }
   ],
   "source": [
    "tqa.select(\n",
    "    n=10,\n",
    "    x=\"tqa_score\",\n",
    "    sort_by=\"tqa_score\",\n",
    "    ascending=True,\n",
    "    cols=[\"id\", \"app_name\", \"tqa_score\", \"content\"],\n",
    ")"
   ]
  },
  {
   "cell_type": "markdown",
   "metadata": {},
   "source": [
    "### High Quality Reviews"
   ]
  },
  {
   "cell_type": "code",
   "execution_count": 8,
   "metadata": {},
   "outputs": [
    {
     "data": {
      "text/html": [
       "<div>\n",
       "<style scoped>\n",
       "    .dataframe tbody tr th:only-of-type {\n",
       "        vertical-align: middle;\n",
       "    }\n",
       "\n",
       "    .dataframe tbody tr th {\n",
       "        vertical-align: top;\n",
       "    }\n",
       "\n",
       "    .dataframe thead th {\n",
       "        text-align: right;\n",
       "    }\n",
       "</style>\n",
       "<table border=\"1\" class=\"dataframe\">\n",
       "  <thead>\n",
       "    <tr style=\"text-align: right;\">\n",
       "      <th></th>\n",
       "      <th>id</th>\n",
       "      <th>app_name</th>\n",
       "      <th>tqa_score</th>\n",
       "      <th>content</th>\n",
       "    </tr>\n",
       "  </thead>\n",
       "  <tbody>\n",
       "    <tr>\n",
       "      <th>0</th>\n",
       "      <td>7794278820</td>\n",
       "      <td>Sổ sức khỏe điện tử</td>\n",
       "      <td>100.000000</td>\n",
       "      <td>xin chào!  khi chúng tôi tải app về thì tiêu chí đầu tiên là app đó có sử dụng cho nhu cầu của mình ko? Thời gian qua bạn biết, tôi biết … nó như thế nào! Tôi rất trân trọng những gì các bạn đã là...</td>\n",
       "    </tr>\n",
       "    <tr>\n",
       "      <th>1</th>\n",
       "      <td>6211311967</td>\n",
       "      <td>Quran Majeed – القران الكريم</td>\n",
       "      <td>99.835646</td>\n",
       "      <td>بسم الله الرحمن الرحيم Application très sophistiquée Il faut faire attention à certaines annonces publicitaires inappropriées  جعل الله هذا العمل في ميزان حسناتكم و السلام عليكم</td>\n",
       "    </tr>\n",
       "    <tr>\n",
       "      <th>2</th>\n",
       "      <td>9700650399</td>\n",
       "      <td>Fonts</td>\n",
       "      <td>98.981463</td>\n",
       "      <td>𝒯𝒽𝒾𝓈 𝒾𝓈 𝓂𝓎 𝒻𝒶𝓋  𝒶𝓅𝓅 𝒾𝓉𝓈 𝓈ℴ 𝒸𝓊𝓉ℯ 𝒷𝓊𝓉 𝓎ℴ𝓊 𝓈𝒽ℴ𝓊𝓁𝒹 𝓂𝒶𝓀ℯ  𝓇𝒽ℯ  𝒻ℴ𝓃𝓉𝓈 𝒻𝓇ℯℯ！ 𝒿𝓊𝓈𝓉 𝒶   ℐ𝒹ℯ𝒶</td>\n",
       "    </tr>\n",
       "    <tr>\n",
       "      <th>3</th>\n",
       "      <td>8112314936</td>\n",
       "      <td>Fonts</td>\n",
       "      <td>98.159331</td>\n",
       "      <td>S͜͡o͜͡ f͜͡i͜͡g͜͡u͜͡r͜͡i͜͡n͜͡g͜͡ o͜͡u͜͡t͜͡ h͜͡o͜͡w͜͡ t͜͡o͜͡ g͜͡e͜͡t͜͡ t͜͡h͜͡e͜͡ f͜͡o͜͡n͜͡t͜͡s͜͡ t͜͡u͜͡r͜͡n͜͡e͜͡d͜͡ o͜͡n͜͡ i͜͡s͜͡ a͜͡ b͜͡i͜͡t͜͡ d͜͡i͜͡f͜͡f͜͡i͜͡c͜͡u͜͡l͜͡t͜͡ o͜͡t͜͡h͜͡e͜͡r͜͡ t͜͡h͜͡a͜͡n...</td>\n",
       "    </tr>\n",
       "    <tr>\n",
       "      <th>4</th>\n",
       "      <td>6636672241</td>\n",
       "      <td>Fonts % - Buzzer Fonts</td>\n",
       "      <td>98.035168</td>\n",
       "      <td>I ᒪOᐯᗴ TᕼIᔕ ᗩᑭᑭ! 𝙴𝚟𝚎𝚛𝚢𝚘𝚗𝚎 𝙸 𝚔𝚗𝚘𝚠 𝚒𝚜 𝚝𝚛𝚢𝚒𝚗𝚐 𝚝𝚘 𝚏𝚒𝚐𝚒𝚎 𝚘𝚞𝚝 𝚑𝚘𝚠 𝙸'𝚖 𝚍𝚘𝚒𝚗𝚐 𝚒𝚝! M̰̃ỹ̰ s̰̃t̰̃ṵ̃ḛ̃ñ̰s̰̃ c̰̃ã̰ñ̰'t̰̃ ã̰l̰̃l̰̃ õ̰f̰̃ m̰̃ỹ̰ s̰̃t̰̃ṵ̃d̰̃ḛ̃ñ̰t̰̃s̰̃ 𝕒𝕣𝕖 𝕘𝕖𝕥𝕥𝕚𝕟𝕘 𝕒 𝕜𝕚𝕔𝕜 𝕦𝕥 𝕠𝕗𝕚𝕥! T༙h༙a...</td>\n",
       "    </tr>\n",
       "    <tr>\n",
       "      <th>5</th>\n",
       "      <td>8513630282</td>\n",
       "      <td>Font Keyboard - Good Fonts</td>\n",
       "      <td>97.227771</td>\n",
       "      <td>ỉ ꪶꪮꪜꫀ ᡶꫝỉక ꪖᩏᩏ ỉꪹ ỉక ꪜꫀꪹꪗ ᦋꪮꪮᦔ αɳԃ ƚԋҽʂҽ ϝσႦƚʂ ιɱ υʂιɳɠ αɾҽ ϝɾσɳ ιƚ</td>\n",
       "    </tr>\n",
       "    <tr>\n",
       "      <th>6</th>\n",
       "      <td>5775809058</td>\n",
       "      <td>Fonts</td>\n",
       "      <td>97.227771</td>\n",
       "      <td>𝕀 𝕝𝕠𝕧𝕖 ᴀʟʟ ᴛʜᴇ ғᴏɴᴛs ᗩᑎᗪ ᔕTᑌᑕᒍᗴᖇᔕ 𝑌𝑜𝑢 𝑠ℎ𝑜𝑢𝑙𝑑 𝑔𝑒𝑡 𝑡ℎ𝑖𝑠 𝑎𝑝𝑝ⓎⒺⓅ Ⓤ ⓇⒺⒶⓁⓁⓎ ⓈⒽⓄⓊⓁⒹ 🄱🅈🄴✞✞✞✞シシシシシ☾☾☾♥︎♥︎♥︎♥︎♥︎♡︎♡︎♡︎♡︎♡︎𓆉𓆉𓆉𓆉𓆉𓆉𓆈꧁꧂꧁꧂꧁꧂꧁꧂☮︎︎☮︎︎☮︎︎☮︎︎☮︎︎</td>\n",
       "    </tr>\n",
       "    <tr>\n",
       "      <th>7</th>\n",
       "      <td>8178117570</td>\n",
       "      <td>Duolingo - Language Lessons</td>\n",
       "      <td>96.623035</td>\n",
       "      <td>Duolingo sans toi je ne serai rien je suis en République dominicaine et j’ai appris à parler espagnol avec toi pas avec mon école bon j’abuse mais j’ai eu de bonnes notes à l’école avec Duolingo  ...</td>\n",
       "    </tr>\n",
       "    <tr>\n",
       "      <th>8</th>\n",
       "      <td>8999508559</td>\n",
       "      <td>Fonts</td>\n",
       "      <td>96.469482</td>\n",
       "      <td>𝕋𝕙𝕚𝕤 𝕒𝕡𝕡 𝕚𝕤 𝕘𝕣𝕖𝕒𝕥 ! 𝕋𝕙𝕒𝕥𝕤 𝕨𝕙𝕪 𝕀’𝕞 𝕦𝕤𝕚𝕟𝕘 𝕚𝕥 𝕓𝕦𝕥 𝕀 𝕔𝕒𝕟𝕥 𝕗𝕚𝕘𝕦𝕣𝕖 𝕠𝕦𝕥 𝕙𝕠𝕨 𝕥𝕠 𝕥𝕖𝕩𝕥 𝕡𝕖𝕠𝕡𝕝𝕖 𝕨𝕚𝕥𝕙 𝕚𝕥</td>\n",
       "    </tr>\n",
       "    <tr>\n",
       "      <th>9</th>\n",
       "      <td>5900260090</td>\n",
       "      <td>Better Font-s Cool Keyboard-s</td>\n",
       "      <td>95.037423</td>\n",
       "      <td>ṭһıṡ ѧƿƿ ıṡ ċȏʟʟ ɞȗṭ ṭһє ȏṅʟʏ ṭһıṅɢ ı ԁȏṅṭ ʟıҡє ıṡ ṭһѧṭ ʏȏȗ һѧṿє ṭȏ ƿѧʏ</td>\n",
       "    </tr>\n",
       "  </tbody>\n",
       "</table>\n",
       "</div>"
      ],
      "text/plain": [
       "           id                       app_name   tqa_score  \\\n",
       "0  7794278820            Sổ sức khỏe điện tử  100.000000   \n",
       "1  6211311967   Quran Majeed – القران الكريم   99.835646   \n",
       "2  9700650399                          Fonts   98.981463   \n",
       "3  8112314936                          Fonts   98.159331   \n",
       "4  6636672241         Fonts % - Buzzer Fonts   98.035168   \n",
       "5  8513630282     Font Keyboard - Good Fonts   97.227771   \n",
       "6  5775809058                          Fonts   97.227771   \n",
       "7  8178117570    Duolingo - Language Lessons   96.623035   \n",
       "8  8999508559                          Fonts   96.469482   \n",
       "9  5900260090  Better Font-s Cool Keyboard-s   95.037423   \n",
       "\n",
       "                                                                                                                                                                                                   content  \n",
       "0  xin chào!  khi chúng tôi tải app về thì tiêu chí đầu tiên là app đó có sử dụng cho nhu cầu của mình ko? Thời gian qua bạn biết, tôi biết … nó như thế nào! Tôi rất trân trọng những gì các bạn đã là...  \n",
       "1                        بسم الله الرحمن الرحيم Application très sophistiquée Il faut faire attention à certaines annonces publicitaires inappropriées  جعل الله هذا العمل في ميزان حسناتكم و السلام عليكم  \n",
       "2                                                                                                                      𝒯𝒽𝒾𝓈 𝒾𝓈 𝓂𝓎 𝒻𝒶𝓋  𝒶𝓅𝓅 𝒾𝓉𝓈 𝓈ℴ 𝒸𝓊𝓉ℯ 𝒷𝓊𝓉 𝓎ℴ𝓊 𝓈𝒽ℴ𝓊𝓁𝒹 𝓂𝒶𝓀ℯ  𝓇𝒽ℯ  𝒻ℴ𝓃𝓉𝓈 𝒻𝓇ℯℯ！ 𝒿𝓊𝓈𝓉 𝒶   ℐ𝒹ℯ𝒶  \n",
       "3  S͜͡o͜͡ f͜͡i͜͡g͜͡u͜͡r͜͡i͜͡n͜͡g͜͡ o͜͡u͜͡t͜͡ h͜͡o͜͡w͜͡ t͜͡o͜͡ g͜͡e͜͡t͜͡ t͜͡h͜͡e͜͡ f͜͡o͜͡n͜͡t͜͡s͜͡ t͜͡u͜͡r͜͡n͜͡e͜͡d͜͡ o͜͡n͜͡ i͜͡s͜͡ a͜͡ b͜͡i͜͡t͜͡ d͜͡i͜͡f͜͡f͜͡i͜͡c͜͡u͜͡l͜͡t͜͡ o͜͡t͜͡h͜͡e͜͡r͜͡ t͜͡h͜͡a͜͡n...  \n",
       "4  I ᒪOᐯᗴ TᕼIᔕ ᗩᑭᑭ! 𝙴𝚟𝚎𝚛𝚢𝚘𝚗𝚎 𝙸 𝚔𝚗𝚘𝚠 𝚒𝚜 𝚝𝚛𝚢𝚒𝚗𝚐 𝚝𝚘 𝚏𝚒𝚐𝚒𝚎 𝚘𝚞𝚝 𝚑𝚘𝚠 𝙸'𝚖 𝚍𝚘𝚒𝚗𝚐 𝚒𝚝! M̰̃ỹ̰ s̰̃t̰̃ṵ̃ḛ̃ñ̰s̰̃ c̰̃ã̰ñ̰'t̰̃ ã̰l̰̃l̰̃ õ̰f̰̃ m̰̃ỹ̰ s̰̃t̰̃ṵ̃d̰̃ḛ̃ñ̰t̰̃s̰̃ 𝕒𝕣𝕖 𝕘𝕖𝕥𝕥𝕚𝕟𝕘 𝕒 𝕜𝕚𝕔𝕜 𝕦𝕥 𝕠𝕗𝕚𝕥! T༙h༙a...  \n",
       "5                                                                                                                                     ỉ ꪶꪮꪜꫀ ᡶꫝỉక ꪖᩏᩏ ỉꪹ ỉక ꪜꫀꪹꪗ ᦋꪮꪮᦔ αɳԃ ƚԋҽʂҽ ϝσႦƚʂ ιɱ υʂιɳɠ αɾҽ ϝɾσɳ ιƚ  \n",
       "6                                                      𝕀 𝕝𝕠𝕧𝕖 ᴀʟʟ ᴛʜᴇ ғᴏɴᴛs ᗩᑎᗪ ᔕTᑌᑕᒍᗴᖇᔕ 𝑌𝑜𝑢 𝑠ℎ𝑜𝑢𝑙𝑑 𝑔𝑒𝑡 𝑡ℎ𝑖𝑠 𝑎𝑝𝑝ⓎⒺⓅ Ⓤ ⓇⒺⒶⓁⓁⓎ ⓈⒽⓄⓊⓁⒹ 🄱🅈🄴✞✞✞✞シシシシシ☾☾☾♥︎♥︎♥︎♥︎♥︎♡︎♡︎♡︎♡︎♡︎𓆉𓆉𓆉𓆉𓆉𓆉𓆈꧁꧂꧁꧂꧁꧂꧁꧂☮︎︎☮︎︎☮︎︎☮︎︎☮︎︎  \n",
       "7  Duolingo sans toi je ne serai rien je suis en République dominicaine et j’ai appris à parler espagnol avec toi pas avec mon école bon j’abuse mais j’ai eu de bonnes notes à l’école avec Duolingo  ...  \n",
       "8                                                                                                              𝕋𝕙𝕚𝕤 𝕒𝕡𝕡 𝕚𝕤 𝕘𝕣𝕖𝕒𝕥 ! 𝕋𝕙𝕒𝕥𝕤 𝕨𝕙𝕪 𝕀’𝕞 𝕦𝕤𝕚𝕟𝕘 𝕚𝕥 𝕓𝕦𝕥 𝕀 𝕔𝕒𝕟𝕥 𝕗𝕚𝕘𝕦𝕣𝕖 𝕠𝕦𝕥 𝕙𝕠𝕨 𝕥𝕠 𝕥𝕖𝕩𝕥 𝕡𝕖𝕠𝕡𝕝𝕖 𝕨𝕚𝕥𝕙 𝕚𝕥  \n",
       "9                                                                                                                                  ṭһıṡ ѧƿƿ ıṡ ċȏʟʟ ɞȗṭ ṭһє ȏṅʟʏ ṭһıṅɢ ı ԁȏṅṭ ʟıҡє ıṡ ṭһѧṭ ʏȏȗ һѧṿє ṭȏ ƿѧʏ  "
      ]
     },
     "execution_count": 8,
     "metadata": {},
     "output_type": "execute_result"
    }
   ],
   "source": [
    "tqa.select(\n",
    "    n=10,\n",
    "    x=\"tqa_score\",\n",
    "    sort_by=\"tqa_score\",\n",
    "    ascending=False,\n",
    "    cols=[\"id\", \"app_name\", \"tqa_score\", \"content\"],\n",
    ")"
   ]
  },
  {
   "cell_type": "markdown",
   "metadata": {},
   "source": [
    "## Summary and Transition to the Data Quality Analysis (DQA):\n",
    "With the **Text Quality Analysis (TQA) Pipeline** now complete, we have the linguistic elements that contribute to a holistic assessment of text quality for NLP applications. These enriched text quality measures are determinative inputs for our next stage: the **Data Quality Analysis (DQA)**. \n",
    "\n",
    "In the DQA, we’ll dilate our aperture, integrating sentiments, typographical, and linguistic metrics across several dimensions of data quality, allowing us to uncover areas of concern, and devise further data processing interventions. "
   ]
  }
 ],
 "metadata": {
  "kernelspec": {
   "display_name": "appvocai",
   "language": "python",
   "name": "python3"
  },
  "language_info": {
   "codemirror_mode": {
    "name": "ipython",
    "version": 3
   },
   "file_extension": ".py",
   "mimetype": "text/x-python",
   "name": "python",
   "nbconvert_exporter": "python",
   "pygments_lexer": "ipython3",
   "version": "3.10.15"
  }
 },
 "nbformat": 4,
 "nbformat_minor": 2
}
