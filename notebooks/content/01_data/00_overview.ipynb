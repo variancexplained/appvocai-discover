{
    "cells": [
        {
            "cell_type": "code",
            "execution_count": 1,
            "metadata": {
                "tags": [
                    "remove-cell"
                ]
            },
            "outputs": [],
            "source": [
                "import os\n",
                "\n",
                "if \"jbook\" in os.getcwd():\n",
                "    os.chdir(os.path.abspath(os.path.join(\"../..\")))\n",
                "import warnings\n",
                "\n",
                "warnings.filterwarnings(\"ignore\")"
            ]
        },
        {
            "cell_type": "markdown",
            "metadata": {},
            "source": [
                "# AppVoCAI Reviews Dataset Unboxed\n",
                "In the prior section, we introduced the AppVoCAI Reviews Dataset, the motivation, its provenance, features and characteristics. Our aim here is to: \n",
                "- **extract** reviews of interest from January 2021 through September of 2023 - data which will form the basis for unmet needs and opportunity discovery, \n",
                "- **transform** data types and validate encoding, and \n",
                "- **load** the dataset into a repository for downstream preprocessing, and analysis.\n",
                "\n",
                "Then, we'll walk through the dataset's core attributes, including review lengths, engagement statistics, and category summaries, before inspecting a few sample observations to give a concrete sense of the data we’re working with. "
            ]
        },
        {
            "cell_type": "code",
            "execution_count": 2,
            "metadata": {
                "tags": [
                    "hide-cell"
                ]
            },
            "outputs": [],
            "source": [
                "from discover.assets.review import Review\n",
                "from discover.assets.idgen import AssetIDGen\n",
                "from discover.container import DiscoverContainer\n",
                "from discover.core.flow import DataPrepStageDef, PhaseDef\n",
                "from discover.infra.config.flow import FlowConfigReader\n",
                "from discover.flow.data_prep.ingest.stage import IngestStage"
            ]
        },
        {
            "cell_type": "code",
            "execution_count": 3,
            "metadata": {
                "tags": [
                    "hide-cell"
                ]
            },
            "outputs": [],
            "source": [
                "container = DiscoverContainer()\n",
                "container.init_resources()\n",
                "container.wire(\n",
                "    modules=[\n",
                "        \"discover.flow.data_prep.stage\",\n",
                "        \"discover.flow.data_prep.dqa\",\n",
                "        \"discover.analysis.base\",\n",
                "    ],\n",
                ")"
            ]
        },
        {
            "cell_type": "markdown",
            "metadata": {},
            "source": [
                "## AppVoCAI Reviews Dataset Selection and Ingestion\n",
                "The following code will load the selection and ingestion pipeline configuration."
            ]
        },
        {
            "cell_type": "code",
            "execution_count": 4,
            "metadata": {},
            "outputs": [],
            "source": [
                "reader = FlowConfigReader()\n",
                "config = reader.get_config(\"phases\", namespace=False)\n",
                "stage_config = config[\"dataprep\"][\"stages\"][\"ingest\"]"
            ]
        },
        {
            "cell_type": "markdown",
            "metadata": {},
            "source": [
                "Next, we build and run the ingestion pipeline. This will take a moment."
            ]
        },
        {
            "cell_type": "code",
            "execution_count": null,
            "metadata": {},
            "outputs": [],
            "source": [
                "stage = IngestStage.build(stage_config=stage_config, force=False)\n",
                "asset_id = stage.run()"
            ]
        },
        {
            "cell_type": "markdown",
            "metadata": {},
            "source": [
                "Finally, we obtain the review dataset from the repository and instantiate the review object."
            ]
        },
        {
            "cell_type": "code",
            "execution_count": 6,
            "metadata": {},
            "outputs": [],
            "source": [
                "# Instantiate the repository\n",
                "repo = container.repo.dataset_repo()\n",
                "# Load the dataset from the repository\n",
                "dataset = repo.get(asset_id)\n",
                "# Instantiate the Review object for analysis.\n",
                "reviews = Review(dataset=dataset)"
            ]
        },
        {
            "cell_type": "markdown",
            "metadata": {},
            "source": [
                "## Dataset Overview\n"
            ]
        },
        {
            "cell_type": "code",
            "execution_count": null,
            "metadata": {
                "tags": [
                    "hide-cell"
                ]
            },
            "outputs": [],
            "source": [
                "reviews.overview()"
            ]
        },
        {
            "cell_type": "markdown",
            "metadata": {},
            "source": [
                "The AppVoCAI dataset offers a comprehensive view of user feedback in the mobile app ecosystem, capturing nearly 6 million reviews from over 5 million users. These reviews span 33,134 apps across 14 categories, providing a diverse range of insights into user experiences. With 12 different features to analyze, the dataset covers both qualitative and quantitative aspects of user interaction. The data spans a period from January 2021 to early September 2023, offering a rich temporal range to explore evolving trends and identify key areas for opportunity and product development. This dataset forms the foundation for uncovering unmet needs and understanding customer engagement across the app marketplace."
            ]
        },
        {
            "cell_type": "markdown",
            "metadata": {},
            "source": [
                "### Dataset Structural Analysis"
            ]
        },
        {
            "cell_type": "code",
            "execution_count": null,
            "metadata": {},
            "outputs": [],
            "source": [
                "reviews.info()"
            ]
        },
        {
            "cell_type": "markdown",
            "metadata": {},
            "source": [
                "The AppVoCAI dataset consists is structured into 12 columns, capturing essential information about the reviews and their context. Key columns include identifiers for the reviews and apps, along with app names and their respective categories. \n",
                "\n",
                "The dataset contains detailed user-generated content such as the review text, author information, and engagement metrics like ratings, vote counts, and total votes received. It also includes a `review_length` column, which indicates the number of words in each review, and timestamps marking when the reviews were submitted. \n",
                "\n",
                "All columns are complete, with no missing values, and are stored efficiently, using appropriate data types like categories for app categories and integers for rating and vote counts. The memory footprint is optimized at 472.8 MB, making the dataset manageable for analysis at scale."
            ]
        },
        {
            "cell_type": "markdown",
            "metadata": {},
            "source": [
                "### Rating Analysis"
            ]
        },
        {
            "cell_type": "code",
            "execution_count": null,
            "metadata": {},
            "outputs": [],
            "source": [
                "reviews.distribution_plot(x=\"rating\", title=\"Rating Distribution Analysis\")"
            ]
        },
        {
            "cell_type": "markdown",
            "metadata": {},
            "source": [
                "The distribution of ratings across the dataset shows a noticeable skew toward higher ratings. The standard deviation of indicates considerable variability in user feedback. While the minimum rating is 1, the majority of the reviews are concentrated around the higher end of the scale—half of the ratings are 5, as reflected in the 50th, 75th, and maximum percentiles, all being 5. This suggests that users are more likely to give positive ratings, though there is still a portion of the dataset with lower ratings, as indicated by the lower 25th percentile.\n",
                "\n",
                "The KDE and violin plots further emphasize this trend, visually highlighting the density of high ratings and the thinner distribution in the lower range. The violin plot adds another layer, showing the shape of the distribution and reinforcing the concentration of reviews toward the maximum rating."
            ]
        },
        {
            "cell_type": "markdown",
            "metadata": {},
            "source": [
                "### Review Length Analysis"
            ]
        },
        {
            "cell_type": "code",
            "execution_count": null,
            "metadata": {},
            "outputs": [],
            "source": [
                "reviews.distribution_plot(\n",
                "    x=\"review_length\", title=\"Review Length Distribution Analysis\"\n",
                ")"
            ]
        },
        {
            "cell_type": "markdown",
            "metadata": {},
            "source": [
                "### Vote Count Analysis"
            ]
        },
        {
            "cell_type": "code",
            "execution_count": null,
            "metadata": {},
            "outputs": [],
            "source": [
                "reviews.distribution_plot(x=\"vote_count\", title=\"Vote Count Distribution Analysis\")"
            ]
        },
        {
            "cell_type": "markdown",
            "metadata": {},
            "source": []
        },
        {
            "cell_type": "code",
            "execution_count": null,
            "metadata": {},
            "outputs": [],
            "source": [
                "reviews.frequency_distribution(x=\"vote_count\", topn=10)"
            ]
        },
        {
            "cell_type": "code",
            "execution_count": null,
            "metadata": {},
            "outputs": [],
            "source": []
        },
        {
            "cell_type": "markdown",
            "metadata": {},
            "source": [
                "### Vote Sum Analysis"
            ]
        },
        {
            "cell_type": "code",
            "execution_count": null,
            "metadata": {},
            "outputs": [],
            "source": [
                "reviews.distribution_plot(x=\"vote_sum\", title=\"Vote Sum Distribution Analysis\")"
            ]
        },
        {
            "cell_type": "code",
            "execution_count": null,
            "metadata": {},
            "outputs": [],
            "source": [
                "reviews.frequency_distribution(x=\"vote_sum\", topn=10)"
            ]
        },
        {
            "cell_type": "markdown",
            "metadata": {},
            "source": []
        },
        {
            "cell_type": "markdown",
            "metadata": {},
            "source": [
                "### Review Date Analysis"
            ]
        },
        {
            "cell_type": "code",
            "execution_count": null,
            "metadata": {},
            "outputs": [],
            "source": [
                "reviews.distribution_plot(y=\"date\", title=\"Review Date Analysis\")"
            ]
        },
        {
            "cell_type": "markdown",
            "metadata": {},
            "source": []
        },
        {
            "cell_type": "markdown",
            "metadata": {},
            "source": [
                "### App Review Frequency Analysis"
            ]
        },
        {
            "cell_type": "code",
            "execution_count": null,
            "metadata": {},
            "outputs": [],
            "source": [
                "reviews.frequency_distribution_plot(\n",
                "    x=\"app_name\", title=\"App Review Frequency Distribution Analysis\"\n",
                ")"
            ]
        },
        {
            "cell_type": "code",
            "execution_count": null,
            "metadata": {},
            "outputs": [],
            "source": [
                "reviews.frequency_plot(y=\"app_name\", topn=20, title=\"Most Frequently Reviewed Apps\")"
            ]
        },
        {
            "cell_type": "markdown",
            "metadata": {},
            "source": []
        },
        {
            "cell_type": "markdown",
            "metadata": {},
            "source": [
                "### Review Author Frequency Analysis"
            ]
        },
        {
            "cell_type": "code",
            "execution_count": null,
            "metadata": {},
            "outputs": [],
            "source": [
                "reviews.frequency_distribution_plot(\n",
                "    x=\"author\", title=\"Review Author Frequency Analysis\"\n",
                ")"
            ]
        },
        {
            "cell_type": "markdown",
            "metadata": {},
            "source": [
                "### Category Analysis"
            ]
        },
        {
            "cell_type": "markdown",
            "metadata": {},
            "source": [
                "#### Category Rating Analysis"
            ]
        },
        {
            "cell_type": "code",
            "execution_count": null,
            "metadata": {},
            "outputs": [],
            "source": [
                "reviews.association_plot(x=\"rating\", y=\"category\", title=\"Category Rating Analysis\")"
            ]
        },
        {
            "cell_type": "markdown",
            "metadata": {},
            "source": [
                "#### Category Review Length Analysis"
            ]
        },
        {
            "cell_type": "code",
            "execution_count": null,
            "metadata": {},
            "outputs": [],
            "source": [
                "reviews.association_plot(\n",
                "    x=\"review_length\", y=\"category\", title=\"Category Review Length Analysis\"\n",
                ")"
            ]
        },
        {
            "cell_type": "markdown",
            "metadata": {},
            "source": [
                "#### Category Vote Count Analysis"
            ]
        },
        {
            "cell_type": "code",
            "execution_count": null,
            "metadata": {},
            "outputs": [],
            "source": [
                "reviews.association_plot(\n",
                "    x=\"vote_count\", y=\"category\", title=\"Category Vote Count Analysis\"\n",
                ")"
            ]
        },
        {
            "cell_type": "markdown",
            "metadata": {},
            "source": [
                "#### Category Vote Sum Analysis"
            ]
        },
        {
            "cell_type": "code",
            "execution_count": null,
            "metadata": {},
            "outputs": [],
            "source": [
                "reviews.association_plot(x=\"vote_sum\", y=\"category\", title=\"Category Vote Sum Analysis\")"
            ]
        },
        {
            "cell_type": "code",
            "execution_count": null,
            "metadata": {},
            "outputs": [],
            "source": [
                "reviews.sample(n=5, random_state=55)"
            ]
        },
        {
            "cell_type": "markdown",
            "metadata": {},
            "source": []
        },
        {
            "cell_type": "code",
            "execution_count": null,
            "metadata": {},
            "outputs": [],
            "source": [
                "reviews.sample(n=1, random_state=22)"
            ]
        }
    ],
    "metadata": {
        "kernelspec": {
            "display_name": "appvocai",
            "language": "python",
            "name": "python3"
        },
        "language_info": {
            "codemirror_mode": {
                "name": "ipython",
                "version": 3
            },
            "file_extension": ".py",
            "mimetype": "text/x-python",
            "name": "python",
            "nbconvert_exporter": "python",
            "pygments_lexer": "ipython3",
            "version": "3.10.14"
        }
    },
    "nbformat": 4,
    "nbformat_minor": 2
}
