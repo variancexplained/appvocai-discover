{
 "cells": [
  {
   "cell_type": "code",
   "execution_count": 1,
   "metadata": {},
   "outputs": [],
   "source": [
    "import warnings\n",
    "\n",
    "warnings.filterwarnings(\"ignore\")\n",
    "import os\n",
    "\n",
    "if \"jbook\" in os.getcwd():\n",
    "    os.chdir(os.path.abspath(os.path.join(\"../..\")))"
   ]
  },
  {
   "cell_type": "markdown",
   "metadata": {},
   "source": [
    "# Text Quality Analysis\n",
    "To fine-tune an Aspect-Based Sentiment Analysis (ABSA) model effectively, we need a high-quality subset of labeled data that captures the nuances of sentiment across various aspects. Since manual labeling is resource-intensive, we’ll leverage pseudolabeling to annotate the data automatically, using a curated set of high-quality samples. \n",
    "\n",
    "The purpose of this approach is twofold: first, to ensure the ABSA model is trained on data that accurately reflects diverse sentiment patterns, and second, to enhance the model's ability to generalize across different contexts within the dataset. By prioritizing high-quality samples, we aim to maximize the model's interpretability and accuracy when identifying and analyzing aspect-specific sentiments in real-world applications.\n"
   ]
  },
  {
   "cell_type": "markdown",
   "metadata": {
    "tags": [
     "hide-cell"
    ]
   },
   "source": [
    "## Import Libraries"
   ]
  },
  {
   "cell_type": "code",
   "execution_count": 2,
   "metadata": {
    "tags": [
     "hide-cell"
    ]
   },
   "outputs": [],
   "source": [
    "from discover.container import DiscoverContainer\n",
    "from discover.assets.idgen import AssetIDGen\n",
    "from discover.core.flow import PhaseDef, DataPrepStageDef\n",
    "from discover.app.tqa import TextQualityAnalysis\n",
    "from discover.infra.utils.visual.print import Printer"
   ]
  },
  {
   "cell_type": "markdown",
   "metadata": {},
   "source": [
    "# Params"
   ]
  },
  {
   "cell_type": "code",
   "execution_count": 3,
   "metadata": {},
   "outputs": [],
   "source": [
    "PHASE = PhaseDef.DATAPREP\n",
    "STAGE = DataPrepStageDef.TQA"
   ]
  },
  {
   "cell_type": "markdown",
   "metadata": {
    "tags": [
     "remove-cell"
    ]
   },
   "source": [
    "## Dependency Container"
   ]
  },
  {
   "cell_type": "code",
   "execution_count": 4,
   "metadata": {
    "tags": [
     "remove-cell"
    ]
   },
   "outputs": [],
   "source": [
    "container = DiscoverContainer()\n",
    "container.init_resources()\n",
    "container.wire(\n",
    "    modules=[\n",
    "        \"discover.flow.data_prep.stage\",\n",
    "    ],\n",
    ")"
   ]
  },
  {
   "cell_type": "markdown",
   "metadata": {},
   "source": [
    "## Data Loading"
   ]
  },
  {
   "cell_type": "code",
   "execution_count": 5,
   "metadata": {},
   "outputs": [],
   "source": [
    "# Get the assert id\n",
    "idgen = AssetIDGen()\n",
    "asset_id = idgen.get_asset_id(\n",
    "    asset_type=\"dataset\", phase=PHASE, stage=STAGE, name=\"review\"\n",
    ")\n",
    "# Instantiate the repository\n",
    "repo = container.repo.dataset_repo()\n",
    "# Load the dataset from the repository\n",
    "df = repo.get(asset_id, distributed=False).content\n",
    "# Instantiate the Review object for analysis."
   ]
  },
  {
   "cell_type": "markdown",
   "metadata": {},
   "source": [
    "## Distribution of Text Quality Scores"
   ]
  },
  {
   "cell_type": "markdown",
   "metadata": {},
   "source": [
    "## Sample from Most "
   ]
  },
  {
   "cell_type": "code",
   "execution_count": 6,
   "metadata": {},
   "outputs": [
    {
     "data": {
      "text/html": [
       "<div>\n",
       "<style scoped>\n",
       "    .dataframe tbody tr th:only-of-type {\n",
       "        vertical-align: middle;\n",
       "    }\n",
       "\n",
       "    .dataframe tbody tr th {\n",
       "        vertical-align: top;\n",
       "    }\n",
       "\n",
       "    .dataframe thead th {\n",
       "        text-align: right;\n",
       "    }\n",
       "</style>\n",
       "<table border=\"1\" class=\"dataframe\">\n",
       "  <thead>\n",
       "    <tr style=\"text-align: right;\">\n",
       "      <th></th>\n",
       "      <th>tqm_pos_count_score</th>\n",
       "      <th>tqm_pos_diversity_score</th>\n",
       "      <th>tqm_structural_complexity_score</th>\n",
       "      <th>tqm_pos_intensity_score</th>\n",
       "      <th>tqm_tqa_check_score</th>\n",
       "      <th>tqa_score</th>\n",
       "    </tr>\n",
       "  </thead>\n",
       "  <tbody>\n",
       "    <tr>\n",
       "      <th>87874</th>\n",
       "      <td>0.025202</td>\n",
       "      <td>0.188101</td>\n",
       "      <td>0.303075</td>\n",
       "      <td>0.053191</td>\n",
       "      <td>0.054555</td>\n",
       "      <td>0.624125</td>\n",
       "    </tr>\n",
       "    <tr>\n",
       "      <th>144743</th>\n",
       "      <td>0.046371</td>\n",
       "      <td>0.202062</td>\n",
       "      <td>0.215951</td>\n",
       "      <td>0.059740</td>\n",
       "      <td>0.094467</td>\n",
       "      <td>0.618590</td>\n",
       "    </tr>\n",
       "    <tr>\n",
       "      <th>9903</th>\n",
       "      <td>0.012097</td>\n",
       "      <td>0.183675</td>\n",
       "      <td>0.267550</td>\n",
       "      <td>0.060000</td>\n",
       "      <td>0.095128</td>\n",
       "      <td>0.618450</td>\n",
       "    </tr>\n",
       "    <tr>\n",
       "      <th>139283</th>\n",
       "      <td>0.034274</td>\n",
       "      <td>0.205872</td>\n",
       "      <td>0.242797</td>\n",
       "      <td>0.055738</td>\n",
       "      <td>0.094608</td>\n",
       "      <td>0.633289</td>\n",
       "    </tr>\n",
       "    <tr>\n",
       "      <th>91689</th>\n",
       "      <td>0.041331</td>\n",
       "      <td>0.199586</td>\n",
       "      <td>0.222921</td>\n",
       "      <td>0.051250</td>\n",
       "      <td>0.094693</td>\n",
       "      <td>0.609780</td>\n",
       "    </tr>\n",
       "  </tbody>\n",
       "</table>\n",
       "</div>"
      ],
      "text/plain": [
       "        tqm_pos_count_score  tqm_pos_diversity_score  \\\n",
       "87874              0.025202                 0.188101   \n",
       "144743             0.046371                 0.202062   \n",
       "9903               0.012097                 0.183675   \n",
       "139283             0.034274                 0.205872   \n",
       "91689              0.041331                 0.199586   \n",
       "\n",
       "        tqm_structural_complexity_score  tqm_pos_intensity_score  \\\n",
       "87874                          0.303075                 0.053191   \n",
       "144743                         0.215951                 0.059740   \n",
       "9903                           0.267550                 0.060000   \n",
       "139283                         0.242797                 0.055738   \n",
       "91689                          0.222921                 0.051250   \n",
       "\n",
       "        tqm_tqa_check_score  tqa_score  \n",
       "87874              0.054555   0.624125  \n",
       "144743             0.094467   0.618590  \n",
       "9903               0.095128   0.618450  \n",
       "139283             0.094608   0.633289  \n",
       "91689              0.094693   0.609780  "
      ]
     },
     "execution_count": 6,
     "metadata": {},
     "output_type": "execute_result"
    }
   ],
   "source": [
    "top_quartile_threshold = df[\"tqa_score\"].quantile(0.75)\n",
    "top_quartile_df = df.loc[df[\"tqa_score\"] >= top_quartile_threshold]\n",
    "sample_df = top_quartile_df.sample(n=5, random_state=55)\n",
    "sample_df[\n",
    "    [\n",
    "        \"tqm_pos_count_score\",\n",
    "        \"tqm_pos_diversity_score\",\n",
    "        \"tqm_structural_complexity_score\",\n",
    "        \"tqm_pos_intensity_score\",\n",
    "        \"tqm_tqa_check_score\",\n",
    "        \"tqa_score\",\n",
    "    ]\n",
    "]"
   ]
  },
  {
   "cell_type": "code",
   "execution_count": null,
   "metadata": {},
   "outputs": [],
   "source": [
    "printer = Printer()\n",
    "printer.print_dataframe_as_dict(\n",
    "    df=sample_df[[\"app_name\", \"review_length\", \"tqa_score\", \"content\"]],\n",
    "    text_col=\"content\",\n",
    "    list_index=0,\n",
    "    title=sample_df.iloc[0][\"app_name\"],\n",
    ")"
   ]
  },
  {
   "cell_type": "markdown",
   "metadata": {},
   "source": [
    "1. POS Counts: Number of nouns, verbs, adverbs, adjectives, and determiners\n",
    "2. POS Diversity: Proportion of nouns, verbs, adverbs, adjectives, and determiners\n",
    "3. POS Intensity: The normalized sum of nouns, verbs, adverbs, adjectives, and determiners\n",
    "4. Structural Complexity: Unique word, and punctuation proportion and word length standard deviation \n",
    "5. Readability: The Flesch Reading Ease\n",
    "6. Basic Statistics: Character, digit, word counts and proportions\n",
    "7. Review Features: Review age, rating deviation from average, review length deviation from average.\n",
    "8. Text Quality Indicators: Indicate presence of terminal punctuation, high readability, high digit repetition, high punctuation density. "
   ]
  },
  {
   "cell_type": "code",
   "execution_count": 7,
   "metadata": {},
   "outputs": [
    {
     "data": {
      "image/png": "[encoded data removed]",
      "text/plain": [
       "<Figure size 1200x400 with 1 Axes>"
      ]
     },
     "metadata": {},
     "output_type": "display_data"
    }
   ],
   "source": [
    "tqa = TextQualityAnalysis(df=df)\n",
    "tqa.plot_thresholds(metrics=[\"review_length\"])"
   ]
  }
 ],
 "metadata": {
  "kernelspec": {
   "display_name": "appvocai",
   "language": "python",
   "name": "python3"
  },
  "language_info": {
   "codemirror_mode": {
    "name": "ipython",
    "version": 3
   },
   "file_extension": ".py",
   "mimetype": "text/x-python",
   "name": "python",
   "nbconvert_exporter": "python",
   "pygments_lexer": "ipython3",
   "version": "3.10.15"
  }
 },
 "nbformat": 4,
 "nbformat_minor": 2
}
