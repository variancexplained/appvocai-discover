{
 "cells": [
  {
   "cell_type": "code",
   "execution_count": 1,
   "metadata": {
    "tags": [
     "remove-cell"
    ]
   },
   "outputs": [],
   "source": [
    "import os\n",
    "\n",
    "if \"jbook\" in os.getcwd():\n",
    "    os.chdir(os.path.abspath(os.path.join(\"../..\")))\n",
    "import warnings\n",
    "\n",
    "warnings.filterwarnings(\"ignore\")\n",
    "FORCE = True"
   ]
  },
  {
   "cell_type": "markdown",
   "metadata": {},
   "source": [
    "# AppVoCAI Dataset Unboxing and Quality Assessment\n",
    "In this section, we unbox and survey the dataset, profiling its structure, format, and substance to:\n",
    "\n",
    "- illuminate data quality and integrity concerns requiring treatment prior to the analysis and modeling stawges, and\n",
    "- reveal opportunities to improve exploratory analysis efforts with data enrichment\n",
    "\n",
    "Exposing data quality and enrichment issues before our exploratory efforts ensures focus on the right questions, and discoveries that evince deep and nuanced insights into mobile app consumer behavior, and its implications for strategic opportunity discovery, selection and new product design"
   ]
  },
  {
   "cell_type": "code",
   "execution_count": 29,
   "metadata": {
    "tags": [
     "hide-cell"
    ]
   },
   "outputs": [],
   "source": [
    "import logging\n",
    "import matplotlib.pyplot as plt\n",
    "\n",
    "from discover.assets.review import Review\n",
    "from discover.assets.idgen import AssetIDGen\n",
    "from discover.container import DiscoverContainer\n",
    "from discover.infra.config.flow import FlowConfigReader\n",
    "from explorify.eda.visualize.visualizer import Visualizer\n",
    "from discover.core.flow import DataPrepStageDef, PhaseDef\n",
    "from discover.flow.data_prep.ingest.stage import IngestStage\n",
    "from discover.infra.utils.visual.print import Printer"
   ]
  },
  {
   "cell_type": "code",
   "execution_count": 3,
   "metadata": {
    "tags": [
     "remove-cell"
    ]
   },
   "outputs": [],
   "source": [
    "container = DiscoverContainer()\n",
    "container.init_resources()\n",
    "container.wire(\n",
    "    modules=[\n",
    "        \"discover.flow.data_prep.stage\",\n",
    "        \"discover.app.base\",\n",
    "    ],\n",
    ")"
   ]
  },
  {
   "cell_type": "markdown",
   "metadata": {},
   "source": [
    "## Load Data\n",
    "The raw dataset has been registered as an asset in the project repository, enforcing data integrity and immutability principles such as write-once-read many (WORM)."
   ]
  },
  {
   "cell_type": "code",
   "execution_count": null,
   "metadata": {},
   "outputs": [],
   "source": [
    "# Obtain the asset identifier for the raw dataset\n",
    "asset_id = AssetIDGen().get_asset_id(\n",
    "    asset_type=\"dataset\",\n",
    "    phase=PhaseDef.DATAPREP,\n",
    "    stage=DataPrepStageDef.RAW,\n",
    "    name=\"reviews\",\n",
    ")\n",
    "# Instantiate the repository\n",
    "repo = container.repo.dataset_repo()\n",
    "# Load the dataset from the repository\n",
    "df = repo.get(asset_id=asset_id).content\n",
    "# Instantiate the Review object\n",
    "reviews = Review(df=df)"
   ]
  },
  {
   "cell_type": "code",
   "execution_count": 5,
   "metadata": {
    "tags": [
     "hide-cell"
    ]
   },
   "outputs": [
    {
     "name": "stdout",
     "output_type": "stream",
     "text": [
      "\n",
      "\n",
      "                           AppVoCAI Dataset Overview                            \n",
      "                       Number of Reviews | 22,166,591\n",
      "                       Number of Authors | 15,710,479\n",
      "                          Number of Apps | 36,377\n",
      "                    Number of Categories | 14\n",
      "                                Features | 11\n",
      "                    Date of First Review | 2008-07-10 10:15:37\n",
      "                     Date of Last Review | 2023-09-03 02:14:35\n"
     ]
    }
   ],
   "source": [
    "reviews.overview()"
   ]
  },
  {
   "cell_type": "markdown",
   "metadata": {},
   "source": [
    "As evidenced here and stated earlier, The AppVoCAI captures over 22 million reviews from nearly 16 million users. These reviews span some 36,377 apps across 14 categories. The dataset contains 11 features and spans from July 10, 2008, the date the appstore launched, through early September of 2023."
   ]
  },
  {
   "cell_type": "markdown",
   "metadata": {},
   "source": [
    "## Structural Analysis\n",
    "Before examining the content of the dataset, let's inspect its format and structure. "
   ]
  },
  {
   "cell_type": "code",
   "execution_count": 6,
   "metadata": {},
   "outputs": [
    {
     "data": {
      "text/html": [
       "<div>\n",
       "<style scoped>\n",
       "    .dataframe tbody tr th:only-of-type {\n",
       "        vertical-align: middle;\n",
       "    }\n",
       "\n",
       "    .dataframe tbody tr th {\n",
       "        vertical-align: top;\n",
       "    }\n",
       "\n",
       "    .dataframe thead th {\n",
       "        text-align: right;\n",
       "    }\n",
       "</style>\n",
       "<table border=\"1\" class=\"dataframe\">\n",
       "  <thead>\n",
       "    <tr style=\"text-align: right;\">\n",
       "      <th></th>\n",
       "      <th>Column</th>\n",
       "      <th>DataType</th>\n",
       "      <th>Complete</th>\n",
       "      <th>Null</th>\n",
       "      <th>Completeness</th>\n",
       "      <th>Unique</th>\n",
       "      <th>Duplicate</th>\n",
       "      <th>Uniqueness</th>\n",
       "      <th>Size (Bytes)</th>\n",
       "    </tr>\n",
       "  </thead>\n",
       "  <tbody>\n",
       "    <tr>\n",
       "      <th>0</th>\n",
       "      <td>id</td>\n",
       "      <td>string[python]</td>\n",
       "      <td>22166591</td>\n",
       "      <td>0</td>\n",
       "      <td>1.0</td>\n",
       "      <td>22166474</td>\n",
       "      <td>117</td>\n",
       "      <td>9.999947e-01</td>\n",
       "      <td>1480962173</td>\n",
       "    </tr>\n",
       "    <tr>\n",
       "      <th>1</th>\n",
       "      <td>app_id</td>\n",
       "      <td>string[python]</td>\n",
       "      <td>22166591</td>\n",
       "      <td>0</td>\n",
       "      <td>1.0</td>\n",
       "      <td>36377</td>\n",
       "      <td>22130214</td>\n",
       "      <td>1.641073e-03</td>\n",
       "      <td>1468716232</td>\n",
       "    </tr>\n",
       "    <tr>\n",
       "      <th>2</th>\n",
       "      <td>app_name</td>\n",
       "      <td>string[python]</td>\n",
       "      <td>22166591</td>\n",
       "      <td>0</td>\n",
       "      <td>1.0</td>\n",
       "      <td>36363</td>\n",
       "      <td>22130228</td>\n",
       "      <td>1.640442e-03</td>\n",
       "      <td>1871227874</td>\n",
       "    </tr>\n",
       "    <tr>\n",
       "      <th>3</th>\n",
       "      <td>category_id</td>\n",
       "      <td>object</td>\n",
       "      <td>22166591</td>\n",
       "      <td>0</td>\n",
       "      <td>1.0</td>\n",
       "      <td>14</td>\n",
       "      <td>22166577</td>\n",
       "      <td>6.315811e-07</td>\n",
       "      <td>1352162051</td>\n",
       "    </tr>\n",
       "    <tr>\n",
       "      <th>4</th>\n",
       "      <td>category</td>\n",
       "      <td>category</td>\n",
       "      <td>22166591</td>\n",
       "      <td>0</td>\n",
       "      <td>1.0</td>\n",
       "      <td>14</td>\n",
       "      <td>22166577</td>\n",
       "      <td>6.315811e-07</td>\n",
       "      <td>22168090</td>\n",
       "    </tr>\n",
       "    <tr>\n",
       "      <th>5</th>\n",
       "      <td>author</td>\n",
       "      <td>object</td>\n",
       "      <td>22166591</td>\n",
       "      <td>0</td>\n",
       "      <td>1.0</td>\n",
       "      <td>15710479</td>\n",
       "      <td>6456112</td>\n",
       "      <td>7.087458e-01</td>\n",
       "      <td>1706827507</td>\n",
       "    </tr>\n",
       "    <tr>\n",
       "      <th>6</th>\n",
       "      <td>rating</td>\n",
       "      <td>float64</td>\n",
       "      <td>22166591</td>\n",
       "      <td>0</td>\n",
       "      <td>1.0</td>\n",
       "      <td>5</td>\n",
       "      <td>22166586</td>\n",
       "      <td>2.255647e-07</td>\n",
       "      <td>177332728</td>\n",
       "    </tr>\n",
       "    <tr>\n",
       "      <th>7</th>\n",
       "      <td>content</td>\n",
       "      <td>string[python]</td>\n",
       "      <td>22166591</td>\n",
       "      <td>0</td>\n",
       "      <td>1.0</td>\n",
       "      <td>19079963</td>\n",
       "      <td>3086628</td>\n",
       "      <td>8.607531e-01</td>\n",
       "      <td>8070646310</td>\n",
       "    </tr>\n",
       "    <tr>\n",
       "      <th>8</th>\n",
       "      <td>vote_sum</td>\n",
       "      <td>Int64</td>\n",
       "      <td>22166591</td>\n",
       "      <td>0</td>\n",
       "      <td>1.0</td>\n",
       "      <td>504</td>\n",
       "      <td>22166087</td>\n",
       "      <td>2.273692e-05</td>\n",
       "      <td>199499319</td>\n",
       "    </tr>\n",
       "    <tr>\n",
       "      <th>9</th>\n",
       "      <td>vote_count</td>\n",
       "      <td>Int64</td>\n",
       "      <td>22166591</td>\n",
       "      <td>0</td>\n",
       "      <td>1.0</td>\n",
       "      <td>678</td>\n",
       "      <td>22165913</td>\n",
       "      <td>3.058657e-05</td>\n",
       "      <td>199499319</td>\n",
       "    </tr>\n",
       "    <tr>\n",
       "      <th>10</th>\n",
       "      <td>date</td>\n",
       "      <td>datetime64[us]</td>\n",
       "      <td>22166591</td>\n",
       "      <td>0</td>\n",
       "      <td>1.0</td>\n",
       "      <td>20751108</td>\n",
       "      <td>1415483</td>\n",
       "      <td>9.361434e-01</td>\n",
       "      <td>177332728</td>\n",
       "    </tr>\n",
       "  </tbody>\n",
       "</table>\n",
       "</div>"
      ],
      "text/plain": [
       "         Column        DataType  Complete  Null  Completeness    Unique  \\\n",
       "0            id  string[python]  22166591     0           1.0  22166474   \n",
       "1        app_id  string[python]  22166591     0           1.0     36377   \n",
       "2      app_name  string[python]  22166591     0           1.0     36363   \n",
       "3   category_id          object  22166591     0           1.0        14   \n",
       "4      category        category  22166591     0           1.0        14   \n",
       "5        author          object  22166591     0           1.0  15710479   \n",
       "6        rating         float64  22166591     0           1.0         5   \n",
       "7       content  string[python]  22166591     0           1.0  19079963   \n",
       "8      vote_sum           Int64  22166591     0           1.0       504   \n",
       "9    vote_count           Int64  22166591     0           1.0       678   \n",
       "10         date  datetime64[us]  22166591     0           1.0  20751108   \n",
       "\n",
       "    Duplicate    Uniqueness  Size (Bytes)  \n",
       "0         117  9.999947e-01    1480962173  \n",
       "1    22130214  1.641073e-03    1468716232  \n",
       "2    22130228  1.640442e-03    1871227874  \n",
       "3    22166577  6.315811e-07    1352162051  \n",
       "4    22166577  6.315811e-07      22168090  \n",
       "5     6456112  7.087458e-01    1706827507  \n",
       "6    22166586  2.255647e-07     177332728  \n",
       "7     3086628  8.607531e-01    8070646310  \n",
       "8    22166087  2.273692e-05     199499319  \n",
       "9    22165913  3.058657e-05     199499319  \n",
       "10    1415483  9.361434e-01     177332728  "
      ]
     },
     "execution_count": 6,
     "metadata": {},
     "output_type": "execute_result"
    }
   ],
   "source": [
    "reviews.info()"
   ]
  },
  {
   "cell_type": "markdown",
   "metadata": {},
   "source": [
    "Several impressions:\n",
    "\n",
    "1. **ID and Uniqueness**: The `id` column is showing some duplication (117 items) which will require treatment during the data cleaning stage.\n",
    "\n",
    "2. **App-Specific Details (`app_id`, `app_name`)**: The cardinality of `app_id` exceeds that of `app_name` by 14, which indicates that some apps may have multiple ids, perhaps to uniquely identify different versions of the same app.\n",
    "\n",
    "3. **Category Distribution**:  `category_id` and `category` are consistent, each with only 14 unique categories, suggesting clear category classifications across apps. \n",
    "\n",
    "4. **Authors and Reviews**: Duplication stats for the `author` column indicate that approximately 29% of the authors have submitted multiple reviews; yet, the vast majority of authors in the dataset have minimal engagement. \n",
    "\n",
    "5. **Rating Consistency**: The `rating` column has only 5 unique values, presumably in [1,5], to be confirmed below.\n",
    "\n",
    "6. **Vote Metrics (`vote_count`, `vote_sum`)**: Both `vote_count` and `vote_sum` have low uniqueness (0.075% and 0.057%), suggesting that vote distributions are limited in range, possibly clustering around common values.\n",
    "\n",
    "7. **Review Content**: Review content occupies approximately 8 Gb of memory, with a duplication rate approaching 14% (3,086,628 reviews). Duplication in text-based user generated content often indicates common patterns such as emojis and sentiment expressions throughout the dataset.\n",
    "\n",
    "8. **Date**: Review `date` is appropriately typed as a datetime64 objects, representing an offset from 1970-01-001T00:00:00. Values range from 2008-07-10 10:15:37 to 2023-09-03 02:14:35.\n",
    "\n",
    "9. **Data Completeness**: All columns are 100% complete, with no missing values, ensuring the dataset’s integrity for analysis.\n",
    "\n",
    "10. **Data Format:** Most of the variables are appropriately typed. Casting `category_id` to category, and converting *object* types to *string* types will improve IO, storage efficiency and memory utilization.  \n",
    "\n",
    "11. **Data Volume and Memory Considerations**: The dataset weighs in at about 4.9 Gb of memory, which may require special consideration during data preprocessing, analysis, and modeling stages. For instance, certain aggregations and computationally expensive analytics can be precomputed and re-used during the analysis stages, avoiding expensive calculations and supporting real-time analytics, and decreased iteration cycle times. \n",
    "\n"
   ]
  },
  {
   "cell_type": "markdown",
   "metadata": {},
   "source": [
    "### App Store Categories\n",
    "The dataset spans 14 categories. Let's examine their distribution in terms of counts and proportions."
   ]
  },
  {
   "cell_type": "code",
   "execution_count": 12,
   "metadata": {},
   "outputs": [
    {
     "data": {
      "text/plain": [
       "<Axes: title={'center': 'AppVoCAI\\nDistribution of App Categories'}, xlabel='count', ylabel='category'>"
      ]
     },
     "execution_count": 12,
     "metadata": {},
     "output_type": "execute_result"
    },
    {
     "data": {
      "image/png": "[encoded data removed]",
      "text/plain": [
       "<Figure size 1200x400 with 1 Axes>"
      ]
     },
     "metadata": {},
     "output_type": "display_data"
    }
   ],
   "source": [
    "viz = Visualizer()\n",
    "ax = viz.countplot(\n",
    "    data=df,\n",
    "    y=\"category\",\n",
    "    title=\"AppVoCAI Dataset\\nDistribution of App Categories\",\n",
    "    order_by_count=True,\n",
    "    plot_counts=True,\n",
    ")"
   ]
  },
  {
   "cell_type": "markdown",
   "metadata": {},
   "source": [
    "The distribution of reviews by app category in the AppVoCAI dataset provides insight into how review data is represented within this particular dataset, rather than reflecting any actual usage or popularity patterns in the app store at large.\n",
    "\n",
    "1. **Higher Representation in Health & Fitness, Utilities, and Social Networking**: Categories such as Health & Fitness (17.8%), Utilities (13.2%), and Social Networking (12.3%) have the largest share of reviews in this dataset. This may reflect the way data was randomly sampled, rather than indicating a larger user base or greater engagement in these categories across the app store.\n",
    "\n",
    "2. **Diverse Representation Across Lifestyle, Entertainment, and Food & Drink**: Categories like Lifestyle, Entertainment, and Food & Drink are also well represented in this dataset, accounting for a moderate portion of the reviews. Again, this distribution may simply result from the dataset's random sampling approach, rather than indicating broader trends.\n",
    "\n",
    "3. **Lower Review Counts in Finance and Medical**: Some categories, such as Finance (0.2%) and Medical (2.8%), show fewer reviews in this dataset. This does not imply these categories are less popular or less reviewed in the app store but simply reflects the structure of this specific dataset.\n",
    "\n",
    "4. **Focus on Dataset-Specific Insights**: While this distribution does not represent actual app store trends, it does provide an opportunity to examine patterns and themes within each category as represented in this dataset. For example, the high representation of certain categories might allow for a richer analysis of user sentiment or feature requests in those domains.\n",
    "\n",
    "Again, this distribution should be viewed as unique to the AppVoCAI dataset, shaped by the random and stochastic nature of the acquisition process rather than as a representation of category popularity or review volume in the broader app store context."
   ]
  },
  {
   "cell_type": "markdown",
   "metadata": {},
   "source": [
    "## App Rating Validity\n",
    "Ratings should be in [1,5]."
   ]
  },
  {
   "cell_type": "code",
   "execution_count": null,
   "metadata": {},
   "outputs": [
    {
     "data": {
      "image/png": "[encoded data removed]",
      "text/plain": [
       "<Figure size 1200x400 with 1 Axes>"
      ]
     },
     "metadata": {},
     "output_type": "display_data"
    }
   ],
   "source": [
    "mlogger = logging.getLogger(\"matplotlib\")\n",
    "mlogger.setLevel(logging.ERROR)\n",
    "ax = viz.countplot(\n",
    "    data=df,\n",
    "    x=\"rating\",\n",
    "    title=\"AppVoCAI Dataset\\nDistribution of Ratings\",\n",
    "    order_by_count=False,\n",
    "    plot_counts=False,\n",
    ")"
   ]
  },
  {
   "cell_type": "markdown",
   "metadata": {},
   "source": [
    "The chart confirms that the rating scale is indeed valid and consistent within the typical 1 to 5 range, with a notable concentration at the extremes - typical for app reviews, where users often rate very low or very high, with fewer moderate ratings in between."
   ]
  },
  {
   "cell_type": "markdown",
   "metadata": {},
   "source": [
    "## Vote Count and Vote Sum Validity\n",
    "The `vote_count` and `vote_sum` values should be non-negative. Let's examine the distribution to validate and assess the presence of outliers."
   ]
  },
  {
   "cell_type": "code",
   "execution_count": null,
   "metadata": {},
   "outputs": [
    {
     "data": {
      "text/html": [
       "<div>\n",
       "<style scoped>\n",
       "    .dataframe tbody tr th:only-of-type {\n",
       "        vertical-align: middle;\n",
       "    }\n",
       "\n",
       "    .dataframe tbody tr th {\n",
       "        vertical-align: top;\n",
       "    }\n",
       "\n",
       "    .dataframe thead th {\n",
       "        text-align: right;\n",
       "    }\n",
       "</style>\n",
       "<table border=\"1\" class=\"dataframe\">\n",
       "  <thead>\n",
       "    <tr style=\"text-align: right;\">\n",
       "      <th></th>\n",
       "      <th>count</th>\n",
       "      <th>mean</th>\n",
       "      <th>std</th>\n",
       "      <th>min</th>\n",
       "      <th>5%</th>\n",
       "      <th>25%</th>\n",
       "      <th>50%</th>\n",
       "      <th>75%</th>\n",
       "      <th>95%</th>\n",
       "      <th>max</th>\n",
       "    </tr>\n",
       "  </thead>\n",
       "  <tbody>\n",
       "    <tr>\n",
       "      <th>vote_count</th>\n",
       "      <td>22166591.0</td>\n",
       "      <td>0.14105</td>\n",
       "      <td>5.932969</td>\n",
       "      <td>0.0</td>\n",
       "      <td>0.0</td>\n",
       "      <td>0.0</td>\n",
       "      <td>0.0</td>\n",
       "      <td>0.0</td>\n",
       "      <td>1.0</td>\n",
       "      <td>8494.0</td>\n",
       "    </tr>\n",
       "    <tr>\n",
       "      <th>vote_sum</th>\n",
       "      <td>22166591.0</td>\n",
       "      <td>0.093401</td>\n",
       "      <td>3.281398</td>\n",
       "      <td>0.0</td>\n",
       "      <td>0.0</td>\n",
       "      <td>0.0</td>\n",
       "      <td>0.0</td>\n",
       "      <td>0.0</td>\n",
       "      <td>0.0</td>\n",
       "      <td>4433.0</td>\n",
       "    </tr>\n",
       "  </tbody>\n",
       "</table>\n",
       "</div>"
      ],
      "text/plain": [
       "                 count      mean       std  min   5%  25%  50%  75%  95%  \\\n",
       "vote_count  22166591.0   0.14105  5.932969  0.0  0.0  0.0  0.0  0.0  1.0   \n",
       "vote_sum    22166591.0  0.093401  3.281398  0.0  0.0  0.0  0.0  0.0  0.0   \n",
       "\n",
       "               max  \n",
       "vote_count  8494.0  \n",
       "vote_sum    4433.0  "
      ]
     },
     "execution_count": 31,
     "metadata": {},
     "output_type": "execute_result"
    }
   ],
   "source": [
    "df[[\"vote_count\", \"vote_sum\"]].describe(percentiles=[0.05, 0.25, 0.5, 0.75, 0.95]).T"
   ]
  },
  {
   "cell_type": "markdown",
   "metadata": {},
   "source": [
    "The summary statistics for `vote_count` and `vote_sum` confirm that both variables are in the expected non-negative range, with minimum values of 0 and no negative entries. This validates that votes are recorded accurately as non-negative counts."
   ]
  },
  {
   "cell_type": "code",
   "execution_count": null,
   "metadata": {},
   "outputs": [
    {
     "data": {
      "image/png": "[encoded data removed]",
      "text/plain": [
       "<Figure size 1200x400 with 2 Axes>"
      ]
     },
     "metadata": {},
     "output_type": "display_data"
    }
   ],
   "source": [
    "fig, axes = plt.subplots(figsize=(12, 4), ncols=2, nrows=1)\n",
    "ax = viz.violinplot(\n",
    "    data=df,\n",
    "    x=\"vote_count\",\n",
    "    title=\"AppVoCAI Dataset\\nDistribution of Vote Count\",\n",
    "    ax=axes[0],\n",
    ")\n",
    "ax = viz.violinplot(\n",
    "    data=df,\n",
    "    x=\"vote_sum\",\n",
    "    title=\"AppVoCAI Dataset\\nDistribution of Vote Sum\",\n",
    "    ax=axes[1],\n",
    ")"
   ]
  },
  {
   "cell_type": "markdown",
   "metadata": {},
   "source": [
    "However, the descriptive statistics and the plots indicate notable outliers in both distributions:\n",
    "\n",
    "- **Vote Count**: While the majority of values are 0 (as indicated by the 25th, 50th, and 75th percentiles all being 0), the maximum `vote_count` reaches 8,494. This is significantly higher than the mean of 0.141 and suggests a small number of reviews with disproportionately high vote counts. These extreme values could represent highly influential reviews or may warrant further investigation to ensure they are legitimate.\n",
    "\n",
    "- **Vote Sum**: Similarly, `vote_sum` has a maximum value of 4,433, which is much larger than the mean of 0.093. This also indicates outliers, possibly representing reviews with unusually high aggregate votes.\n",
    "\n",
    "In both cases, these outliers may need to be considered carefully in any analysis, as they could skew averages or affect trend detection. Given the goals of the analysis, it might be useful to either cap or separately analyze these high values to better understand their impact."
   ]
  },
  {
   "cell_type": "markdown",
   "metadata": {},
   "source": [
    "## AppVoCAI Dataset Sample Observations \n",
    "To gain an initial, qualitative sense of the AppVoCAI dataset, let's take an early peek at a few randomly selected observations from the dataset. "
   ]
  },
  {
   "cell_type": "code",
   "execution_count": 15,
   "metadata": {},
   "outputs": [
    {
     "data": {
      "text/html": [
       "<div>\n",
       "<style scoped>\n",
       "    .dataframe tbody tr th:only-of-type {\n",
       "        vertical-align: middle;\n",
       "    }\n",
       "\n",
       "    .dataframe tbody tr th {\n",
       "        vertical-align: top;\n",
       "    }\n",
       "\n",
       "    .dataframe thead th {\n",
       "        text-align: right;\n",
       "    }\n",
       "</style>\n",
       "<table border=\"1\" class=\"dataframe\">\n",
       "  <thead>\n",
       "    <tr style=\"text-align: right;\">\n",
       "      <th></th>\n",
       "      <th>id</th>\n",
       "      <th>app_id</th>\n",
       "      <th>app_name</th>\n",
       "      <th>category_id</th>\n",
       "      <th>author</th>\n",
       "      <th>rating</th>\n",
       "      <th>content</th>\n",
       "      <th>vote_sum</th>\n",
       "      <th>vote_count</th>\n",
       "      <th>date</th>\n",
       "      <th>category</th>\n",
       "    </tr>\n",
       "  </thead>\n",
       "  <tbody>\n",
       "    <tr>\n",
       "      <th>5783883</th>\n",
       "      <td>976579728</td>\n",
       "      <td>331177714</td>\n",
       "      <td>Starbucks</td>\n",
       "      <td>6023</td>\n",
       "      <td>ca9d05f7a1f228464c21</td>\n",
       "      <td>2.0</td>\n",
       "      <td>Love the new look but I keep getting notificat...</td>\n",
       "      <td>0</td>\n",
       "      <td>0</td>\n",
       "      <td>2014-04-13 21:01:32</td>\n",
       "      <td>Food &amp; Drink</td>\n",
       "    </tr>\n",
       "    <tr>\n",
       "      <th>19849295</th>\n",
       "      <td>6246410904</td>\n",
       "      <td>561625752</td>\n",
       "      <td>T-Mobile</td>\n",
       "      <td>6002</td>\n",
       "      <td>f33e8698530e573d04f6</td>\n",
       "      <td>1.0</td>\n",
       "      <td>this company and its workers are incompetent a...</td>\n",
       "      <td>0</td>\n",
       "      <td>0</td>\n",
       "      <td>2020-07-27 05:04:24</td>\n",
       "      <td>Utilities</td>\n",
       "    </tr>\n",
       "    <tr>\n",
       "      <th>12781263</th>\n",
       "      <td>2059860235</td>\n",
       "      <td>1117998129</td>\n",
       "      <td>Human Anatomy Atlas 2023</td>\n",
       "      <td>6020</td>\n",
       "      <td>7fdfe375dec2abd80554</td>\n",
       "      <td>5.0</td>\n",
       "      <td>Very satisfied with the app, had a little trou...</td>\n",
       "      <td>0</td>\n",
       "      <td>0</td>\n",
       "      <td>2018-01-05 17:10:43</td>\n",
       "      <td>Medical</td>\n",
       "    </tr>\n",
       "    <tr>\n",
       "      <th>9707690</th>\n",
       "      <td>9548241830</td>\n",
       "      <td>314498713</td>\n",
       "      <td>BetterSleep: Relax and Sleep</td>\n",
       "      <td>6013</td>\n",
       "      <td>b64b2573930c7a1f1427</td>\n",
       "      <td>5.0</td>\n",
       "      <td>This app has helped me sleep better! Love it!</td>\n",
       "      <td>0</td>\n",
       "      <td>0</td>\n",
       "      <td>2023-01-26 07:12:32</td>\n",
       "      <td>Health &amp; Fitness</td>\n",
       "    </tr>\n",
       "    <tr>\n",
       "      <th>4999917</th>\n",
       "      <td>1416178672</td>\n",
       "      <td>364191819</td>\n",
       "      <td>ABC: Stream TV Series &amp; Sports</td>\n",
       "      <td>6016</td>\n",
       "      <td>1ee0f89a0e91757da284</td>\n",
       "      <td>5.0</td>\n",
       "      <td>ABC:\n",
       "\n",
       "I would like you to know that those 5 ✨ ...</td>\n",
       "      <td>0</td>\n",
       "      <td>0</td>\n",
       "      <td>2016-07-20 16:25:25</td>\n",
       "      <td>Entertainment</td>\n",
       "    </tr>\n",
       "  </tbody>\n",
       "</table>\n",
       "</div>"
      ],
      "text/plain": [
       "                  id      app_id                        app_name category_id  \\\n",
       "5783883    976579728   331177714                       Starbucks        6023   \n",
       "19849295  6246410904   561625752                        T-Mobile        6002   \n",
       "12781263  2059860235  1117998129        Human Anatomy Atlas 2023        6020   \n",
       "9707690   9548241830   314498713    BetterSleep: Relax and Sleep        6013   \n",
       "4999917   1416178672   364191819  ABC: Stream TV Series & Sports        6016   \n",
       "\n",
       "                        author  rating  \\\n",
       "5783883   ca9d05f7a1f228464c21     2.0   \n",
       "19849295  f33e8698530e573d04f6     1.0   \n",
       "12781263  7fdfe375dec2abd80554     5.0   \n",
       "9707690   b64b2573930c7a1f1427     5.0   \n",
       "4999917   1ee0f89a0e91757da284     5.0   \n",
       "\n",
       "                                                    content  vote_sum  \\\n",
       "5783883   Love the new look but I keep getting notificat...         0   \n",
       "19849295  this company and its workers are incompetent a...         0   \n",
       "12781263  Very satisfied with the app, had a little trou...         0   \n",
       "9707690       This app has helped me sleep better! Love it!         0   \n",
       "4999917   ABC:\n",
       "\n",
       "I would like you to know that those 5 ✨ ...         0   \n",
       "\n",
       "          vote_count                date          category  \n",
       "5783883            0 2014-04-13 21:01:32      Food & Drink  \n",
       "19849295           0 2020-07-27 05:04:24         Utilities  \n",
       "12781263           0 2018-01-05 17:10:43           Medical  \n",
       "9707690            0 2023-01-26 07:12:32  Health & Fitness  \n",
       "4999917            0 2016-07-20 16:25:25     Entertainment  "
      ]
     },
     "execution_count": 15,
     "metadata": {},
     "output_type": "execute_result"
    }
   ],
   "source": [
    "samples = df.sample(n=5, random_state=2)\n",
    "samples"
   ]
  },
  {
   "cell_type": "markdown",
   "metadata": {},
   "source": [
    "The sample includes a mix of highly rated apps, as well as lower ratings, all of which reflect different user experiences. The reviews span a significant time range, from as early as 2014 to as recent as 2023, showcasing both historical and recent user sentiments. However, a common feature across the sample is the absence of votes (both vote count and vote sum are zero). The EDA will illuminate the degree to which low engagement interaction is endemic or an aspect of our sample."
   ]
  },
  {
   "cell_type": "markdown",
   "metadata": {},
   "source": [
    "### Starbucks"
   ]
  },
  {
   "cell_type": "code",
   "execution_count": 16,
   "metadata": {},
   "outputs": [
    {
     "name": "stdout",
     "output_type": "stream",
     "text": [
      "\n",
      "\n",
      "                                   Starbucks                                    \n",
      "                                      id | 976579728\n",
      "                                  app_id | 331177714\n",
      "                                app_name | Starbucks\n",
      "                             category_id | 6023\n",
      "                                  author | ca9d05f7a1f228464c21\n",
      "                                  rating | 2.0\n",
      "                                vote_sum | 0\n",
      "                              vote_count | 0\n",
      "                                    date | 2014-04-13 21:01:32\n",
      "                                category | Food & Drink\n",
      "Love the new look but I keep getting notifications such as \"your card balance is\n",
      "now $5.01\" or \"your card balance is now $20.73\" when I haven't spent anything!\n",
      "Luckily when I check on the app my balance is still how it is supposed to be but\n",
      "obviously I'm getting notifications not for my account.\n"
     ]
    }
   ],
   "source": [
    "printer = Printer()\n",
    "printer.print_dataframe_as_dict(\n",
    "    df=samples, list_index=0, title=samples[\"app_name\"].values[0], text_col=\"content\"\n",
    ")"
   ]
  },
  {
   "cell_type": "markdown",
   "metadata": {},
   "source": [
    "This review provides an insightful example of user feedback with both positive and negative elements. Here’s a breakdown of its content and potential implications for further analysis:\n",
    "\n",
    "1. **Positive Acknowledgment of Design**: The user begins by appreciating the \"new look\" of the Starbucks app, indicating that recent visual or interface updates have been well-received. Positive mentions like this can highlight which design or functionality aspects resonate with users, useful information for product teams.\n",
    "\n",
    "2. **Error in Notification System**: The main issue raised by the user is with the app's notification system. They report receiving incorrect notifications about their card balance, despite no actual change. This points to a potential bug or glitch where users are receiving notifications meant for other accounts, which could be a serious privacy or security concern. This is valuable feedback for the development and quality assurance teams.\n",
    "\n",
    "3. **Trust and Reliability Concerns**: The user’s experience highlights a significant trust issue. Even though they verified their balance was correct upon checking, the fact that incorrect notifications were sent could undermine their confidence in the app. Users rely on financial apps to handle sensitive information accurately, and errors like these could harm the app’s reputation if widespread.\n",
    "\n",
    "4. **Category Context**: This review falls under the \"Food & Drink\" category, where reliability, especially regarding financial transactions, is critical. Errors in financial notifications are likely to be a high-priority issue for this category, where users frequently manage balances and payments.\n",
    "\n",
    "5. **Rating**: With a low rating of 2.0, this review contributes to a negative sentiment toward the app. This rating, combined with the detailed description of the issue, suggests that this bug significantly impacted the user’s experience.\n",
    "\n",
    "**Implications for Analysis**: This review underscores the importance of checking for themes around notification accuracy and user trust, especially in categories that involve financial transactions. In an Aspect-Based Sentiment Analysis (ABSA) process, aspects like “design” (positive) and “notifications” or “balance accuracy” (negative) could be identified. This review also highlights how user trust can be impacted by seemingly minor but persistent bugs, making it an important consideration for opportunity discovery in this app's improvement."
   ]
  },
  {
   "cell_type": "markdown",
   "metadata": {},
   "source": [
    "### T-Mobile"
   ]
  },
  {
   "cell_type": "code",
   "execution_count": 17,
   "metadata": {},
   "outputs": [
    {
     "name": "stdout",
     "output_type": "stream",
     "text": [
      "\n",
      "\n",
      "                                    T-Mobile                                    \n",
      "                                      id | 6246410904\n",
      "                                  app_id | 561625752\n",
      "                                app_name | T-Mobile\n",
      "                             category_id | 6002\n",
      "                                  author | f33e8698530e573d04f6\n",
      "                                  rating | 1.0\n",
      "                                vote_sum | 0\n",
      "                              vote_count | 0\n",
      "                                    date | 2020-07-27 05:04:24\n",
      "                                category | Utilities\n",
      "this company and its workers are incompetent and need proper training. they lack\n",
      "essential knowledge on how to properly manage customers accounts. absolutely\n",
      "horrific and needs to be addressed IMMEDIATELY!\n"
     ]
    }
   ],
   "source": [
    "printer.print_dataframe_as_dict(\n",
    "    df=samples, list_index=1, title=samples[\"app_name\"].values[1], text_col=\"content\"\n",
    ")"
   ]
  },
  {
   "cell_type": "markdown",
   "metadata": {},
   "source": [
    "This review provides strong negative feedback, focusing on customer service and account management issues. Here’s an analysis of its key elements:\n",
    "\n",
    "1. **Frustration with Customer Service**: The reviewer expresses intense dissatisfaction with T-Mobile’s customer service, specifically citing “incompetence” and a lack of training among staff. This indicates that, from the user’s perspective, T-Mobile employees lack the necessary knowledge or skills to handle customer accounts effectively. Such feedback points to a perceived gap in customer service quality, which could have implications for both training programs and customer service policies.\n",
    "\n",
    "2. **Urgency and Emotional Intensity**: Words like “absolutely horrific” and the use of all caps in “IMMEDIATELY” emphasize the user’s frustration and sense of urgency. This heightened emotional tone suggests that the experience may have significantly affected the user’s perception of T-Mobile, potentially leading to a loss of loyalty or trust. High-intensity language like this could be flagged in sentiment analysis as a strong indicator of negative sentiment.\n",
    "\n",
    "3. **Rating**: The review is rated 1.0, the lowest possible score, which aligns with the severe dissatisfaction expressed in the text. This low rating adds weight to the feedback, highlighting the negative impact of the experience on the user’s overall view of the company.\n",
    "\n",
    "4. **Lack of Specific Details**: Although the review conveys intense dissatisfaction, it lacks specific examples of what went wrong. This lack of detail can make it challenging for the company to pinpoint and address the exact issues. However, the general sentiment still provides valuable insight into potential areas of improvement in training and customer service protocols.\n",
    "\n",
    "5. **Category Context**: As a “Utilities” app, T-Mobile’s app likely serves a functional purpose, providing access to account management and customer service. Poor customer service experiences are especially damaging in utility apps, as users expect efficient and reliable support when managing essential services like mobile accounts.\n",
    "\n",
    "**Implications for Analysis**: This review highlights the importance of customer service competence and the need for effective employee training in handling accounts. In an Aspect-Based Sentiment Analysis (ABSA), aspects like “customer service” and “employee knowledge” could be flagged with strong negative sentiment. The urgency and intensity of the language also suggest that T-Mobile may need to prioritize improvements in its customer service quality to prevent similar negative experiences. This review serves as a reminder that even without specific details, user feedback can signal underlying systemic issues in customer support and account management that may require attention."
   ]
  },
  {
   "cell_type": "markdown",
   "metadata": {},
   "source": [
    "### Human Anatomy Atlas 2023"
   ]
  },
  {
   "cell_type": "code",
   "execution_count": 18,
   "metadata": {},
   "outputs": [
    {
     "name": "stdout",
     "output_type": "stream",
     "text": [
      "\n",
      "\n",
      "                            Human Anatomy Atlas 2023                            \n",
      "                                      id | 2059860235\n",
      "                                  app_id | 1117998129\n",
      "                                app_name | Human Anatomy Atlas 2023\n",
      "                             category_id | 6020\n",
      "                                  author | 7fdfe375dec2abd80554\n",
      "                                  rating | 5.0\n",
      "                                vote_sum | 0\n",
      "                              vote_count | 0\n",
      "                                    date | 2018-01-05 17:10:43\n",
      "                                category | Medical\n",
      "Very satisfied with the app, had a little trouble when iOS updated and the app\n",
      "won’t load, got in touch with customer support and sent them proof of app, and\n",
      "the issue was resolved. Keep up the good customer support!\n"
     ]
    }
   ],
   "source": [
    "printer.print_dataframe_as_dict(\n",
    "    df=samples, list_index=2, title=samples[\"app_name\"].values[2], text_col=\"content\"\n",
    ")"
   ]
  },
  {
   "cell_type": "markdown",
   "metadata": {},
   "source": [
    "This review provides positive feedback, focusing on the app’s functionality and customer support effectiveness. Here’s an analysis of its key elements:\n",
    "\n",
    "1. **Satisfaction with the App**: The reviewer expresses strong satisfaction with the **Human Anatomy Atlas 2023** app, appreciating its functionality and usefulness. This endorsement suggests that the app meets or exceeds the user’s expectations for an educational tool in the Medical category, providing value to users looking to explore anatomical information.\n",
    "\n",
    "2. **Effective Customer Support**: The user reports a positive experience with customer support after encountering an issue with the app loading following an iOS update. They mention reaching out, providing proof of purchase, and having the issue resolved. This feedback highlights the responsiveness and helpfulness of the customer support team, which is a significant factor in user satisfaction, particularly when technical issues arise due to system updates.\n",
    "\n",
    "3. **Rating**: The review is rated 5.0, the highest possible score, aligning with the user’s positive experience. This high rating reinforces the value the user places on both the app’s functionality and the quality of customer support.\n",
    "\n",
    "4. **Issue Resolution**: Although the user experienced a loading issue, their positive response suggests that prompt and effective customer support can mitigate frustration and even enhance user satisfaction. This review indicates that addressing issues quickly and respectfully can turn potentially negative experiences into positive ones.\n",
    "\n",
    "5. **Category Context**: As a Medical app, **Human Anatomy Atlas 2023** is likely expected to provide reliable, educational resources, where users rely on the app for study or professional reference. Effective customer support is especially important in this context, as users depend on the app’s consistent functionality.\n",
    "\n",
    "**Implications for Analysis**: This review underscores the importance of customer support in maintaining high user satisfaction, even when technical issues occur. In an Aspect-Based Sentiment Analysis (ABSA), aspects like “customer support” and “app reliability” could be flagged with positive sentiment. This review demonstrates that customer support is crucial in Medical apps, where users depend on the app’s reliability and responsiveness to issues."
   ]
  },
  {
   "cell_type": "markdown",
   "metadata": {},
   "source": [
    "### BetterSleep: Relax and Sleep                          \n"
   ]
  },
  {
   "cell_type": "code",
   "execution_count": 19,
   "metadata": {},
   "outputs": [
    {
     "name": "stdout",
     "output_type": "stream",
     "text": [
      "\n",
      "\n",
      "                          BetterSleep: Relax and Sleep                          \n",
      "                                      id | 9548241830\n",
      "                                  app_id | 314498713\n",
      "                                app_name | BetterSleep: Relax and Sleep\n",
      "                             category_id | 6013\n",
      "                                  author | b64b2573930c7a1f1427\n",
      "                                  rating | 5.0\n",
      "                                vote_sum | 0\n",
      "                              vote_count | 0\n",
      "                                    date | 2023-01-26 07:12:32\n",
      "                                category | Health & Fitness\n",
      "This app has helped me sleep better! Love it!\n"
     ]
    }
   ],
   "source": [
    "printer.print_dataframe_as_dict(\n",
    "    df=samples, list_index=3, title=samples[\"app_name\"].values[3], text_col=\"content\"\n",
    ")"
   ]
  },
  {
   "cell_type": "markdown",
   "metadata": {},
   "source": [
    "This review provides positive feedback, focusing on the app’s effectiveness in helping the user improve their sleep. Here’s an analysis of its key elements:\n",
    "\n",
    "1. **Satisfaction with App Functionality**: The reviewer expresses strong satisfaction with **BetterSleep: Relax and Sleep**, emphasizing that the app has positively impacted their sleep quality. This indicates that the app meets its intended purpose, providing effective tools or content for relaxation and sleep improvement.\n",
    "\n",
    "2. **Emotion and Tone**: The tone of the review is enthusiastic and appreciative, with the user conveying genuine happiness with the app’s impact. Phrases like \"Love it!\" reinforce this positive sentiment, suggesting that the app has made a noticeable difference in the user’s daily life.\n",
    "\n",
    "3. **Rating**: The review is rated 5.0, the highest possible score, which aligns with the positive feedback. This high rating reinforces the effectiveness of the app for this particular user, potentially indicating strong alignment between the app's purpose and user expectations.\n",
    "\n",
    "4. **Brevity and Clarity**: Although the review is brief, it effectively communicates the user’s satisfaction and the app’s perceived value. The concise feedback serves as a quick but clear endorsement of the app’s effectiveness in promoting better sleep.\n",
    "\n",
    "5. **Category Context**: As a Health & Fitness app, **BetterSleep: Relax and Sleep** is expected to support users’ well-being, in this case by aiding sleep quality. Positive reviews in this category are particularly valuable, as they may help build trust among potential users seeking solutions for sleep-related issues.\n",
    "\n",
    "**Implications for Analysis**: This review highlights the app’s success in delivering on its promise to improve sleep, an important aspect for Health & Fitness apps targeting well-being and relaxation. In an Aspect-Based Sentiment Analysis (ABSA), aspects like “effectiveness” and “sleep improvement” could be flagged with positive sentiment. This review suggests that **BetterSleep** is well-received by users looking for accessible and effective sleep aids."
   ]
  },
  {
   "cell_type": "markdown",
   "metadata": {},
   "source": [
    "### MyFitnessPal: Calorie Counter App Review"
   ]
  },
  {
   "cell_type": "code",
   "execution_count": 21,
   "metadata": {},
   "outputs": [
    {
     "name": "stdout",
     "output_type": "stream",
     "text": [
      "\n",
      "\n",
      "                         ABC: Stream TV Series & Sports                         \n",
      "                                      id | 1416178672\n",
      "                                  app_id | 364191819\n",
      "                                app_name | ABC: Stream TV Series & Sports\n",
      "                             category_id | 6016\n",
      "                                  author | 1ee0f89a0e91757da284\n",
      "                                  rating | 5.0\n",
      "                                vote_sum | 0\n",
      "                              vote_count | 0\n",
      "                                    date | 2016-07-20 16:25:25\n",
      "                                category | Entertainment\n",
      "ABC:  I would like you to know that those 5 ✨ above aren't actually for your app\n",
      "(although, I am looking forward to using your app)...they are specifically for\n",
      "your TECH SUPPORT person, QUINSHAY!  I have been reading and writing reviews for\n",
      "a variety of apps for quite a while, but if memory serves me right, this is the\n",
      "very first time I have EVER seen such a detailed response--strike that--it's the\n",
      "first time I've ever seen ANY type of response from someone associated with the\n",
      "app! I've got to say that I am very impressed that QUINSHAY actually took the\n",
      "time to address a problem that someone had talked about in their review!! That\n",
      "says to me that the folks associated with this ABC app actually LISTEN to their\n",
      "customers, and that they truly DO care about making their app better.   KUDOS TO\n",
      "YOU, ABC!! I'm giving you 👍🏼👍🏼!!! 😎\n"
     ]
    }
   ],
   "source": [
    "printer.print_dataframe_as_dict(\n",
    "    df=samples, list_index=4, title=samples[\"app_name\"].values[4], text_col=\"content\"\n",
    ")"
   ]
  },
  {
   "cell_type": "markdown",
   "metadata": {},
   "source": [
    "This review provides positive feedback, focusing primarily on the quality of customer support rather than the app itself. Here’s an analysis of its key elements:\n",
    "\n",
    "1. **Praise for Customer Support**: The reviewer specifically commends a customer support representative named Quinshay for their detailed and responsive approach to addressing user concerns. This suggests that Quinshay’s assistance left a strong, positive impression, showcasing ABC’s commitment to user satisfaction and problem-solving.\n",
    "\n",
    "2. **Unique Motivation for Rating**: Although the reviewer hasn’t fully used the app yet, they still awarded it a 5-star rating based on their experience with customer support. This unique motivation highlights the importance of attentive and proactive support, which can positively impact perceptions even before users engage with the app’s core features.\n",
    "\n",
    "3. **Emotion and Tone**: The review is enthusiastic and appreciative, conveying a sense of trust and admiration for the ABC app team’s commitment to addressing user feedback. The use of phrases like “KUDOS TO YOU, ABC!!” and emoji (e.g., thumbs up, sunglasses) further emphasizes the user’s positive emotions and satisfaction.\n",
    "\n",
    "4. **Rating**: The 5.0 rating reflects the reviewer’s appreciation for the customer support experience, which they see as indicative of a customer-centric approach. This high rating, despite limited app usage, underscores how exceptional support can strongly influence user perception.\n",
    "\n",
    "5. **Category Context**: As an Entertainment app, **ABC: Stream TV Series & Sports** caters to users seeking on-demand content. While users might primarily engage with such an app for content streaming, this review highlights that customer support quality can be a pivotal factor in building brand loyalty and positive user sentiment, even in entertainment contexts.\n",
    "\n",
    "**Implications for Analysis**: This review underscores the value of customer support as a key factor in user satisfaction and perception. In an Aspect-Based Sentiment Analysis (ABSA), aspects like “customer support responsiveness” and “user engagement” could be flagged with positive sentiment. This feedback demonstrates that timely, personalized responses can foster trust and loyalty, potentially encouraging other users to engage more with the app."
   ]
  },
  {
   "cell_type": "markdown",
   "metadata": {},
   "source": [
    "## Data Enrichment\n",
    "Data enrichment transforms raw data into a more valuable asset for generating insights by adding attributes that provide additional context and depth. Once the dataset has been cleaned, we will introduce several new attributes designed to enhance the utility of our exploratory analysis:\n",
    "\n",
    "1. **Sentiment Classification**: Using the spaCy SentimentAnalyzer, we’ll efficiently incorporate high-level sentiment analysis during the exploratory phase. More in-depth, computationally demanding, LLM-based aspect-based sentiment analysis will be deferred to subsequent modeling stages, ensuring resource efficiency.\n",
    "2. **Review Age**: Calculated as the difference between the review date and the most recent review date in the dataset, this variable will illuminate trends over time, such as evolving user expectations or the impact of app updates.\n",
    "3. **Review Length**: By measuring the number of words in each review, we can analyze how review detail correlates with sentiment, rating, and user engagement. Lengthier reviews often reflect stronger user opinions and can provide richer qualitative insights.\n",
    "4. **App Rating Deviation**: This metric captures the difference between an individual review’s rating and both the app's average rating and the category average. Identifying significant deviations can spotlight unique user perspectives or areas of disagreement.\n",
    "5. **Review Length Deviation**: This variable compares each review’s length to the average for the app and the category, uncovering engagement patterns and indicating whether specific apps or categories elicit more detailed feedback.\n",
    "6. **Author Review Count**: Tracking the number of reviews submitted by each author allows us to differentiate between casual and frequent reviewers, shedding light on power users whose feedback might carry greater significance or reflect deeper engagement.\n",
    "\n",
    "## Performance Considerations for EDA\n",
    "Given the dataset’s size, computationally intensive analyses can lead to extended processing times, delayed feedback, and reduced agility. To facilitate efficient and iterative exploratory analysis, complex aggregations and summaries at the app, author, and category levels will be precomputed during data preparation. These aggregations will be materialized in Parquet files, chosen for their highly efficient data compression, minimized storage footprint, and faster data transfer.\n",
    "\n",
    "It is crucial to emphasize that this enrichment process is distinct from data cleaning or feature engineering. While feature engineering focuses on creating predictive features to optimize *model* performance, data enrichment enhances the dataset's richness solely for exploration. This approach ensures the data remains unbiased for discovery, enriching the dataset for EDA without introducing transformations that might skew analysis."
   ]
  },
  {
   "cell_type": "markdown",
   "metadata": {},
   "source": [
    "## Summary and Key Takeaways\n",
    "Our overview of the AppVoCAI dataset confirms a robust collection of 22.2 million reviews, submitted by approximately 15.7 million users across 36,377 apps. A comprehensive structural analysis assessed data types, row and dataset completeness, duplication, cardinality, and overall dataset size. We found the dataset to be fully complete, with no missing values and no duplicate rows. However, field-level duplication was identified in the review `id` variable, affecting 117 observations, and in the review `content` field, where approximately 14% of entries are duplicated. \n",
    "\n",
    "Descriptive statistics and visualizations validated key elements, including categories, ratings, vote counts, and review dates, ensuring data integrity and laying the foundation for further exploration. \n",
    "\n",
    "This concludes the unboxing and data quality assessment of the AppVoCAI dataset. Up next: data cleaning."
   ]
  }
 ],
 "metadata": {
  "kernelspec": {
   "display_name": "appvocai",
   "language": "python",
   "name": "python3"
  },
  "language_info": {
   "codemirror_mode": {
    "name": "ipython",
    "version": 3
   },
   "file_extension": ".py",
   "mimetype": "text/x-python",
   "name": "python",
   "nbconvert_exporter": "python",
   "pygments_lexer": "ipython3",
   "version": "3.10.15"
  }
 },
 "nbformat": 4,
 "nbformat_minor": 2
}
