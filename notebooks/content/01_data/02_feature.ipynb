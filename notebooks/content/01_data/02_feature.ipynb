{
 "cells": [
  {
   "cell_type": "code",
   "execution_count": 1,
   "metadata": {},
   "outputs": [],
   "source": [
    "import warnings\n",
    "\n",
    "warnings.filterwarnings(\"ignore\")\n",
    "import os\n",
    "\n",
    "if \"jbook\" in os.getcwd():\n",
    "    os.chdir(os.path.abspath(os.path.join(\"../..\")))"
   ]
  },
  {
   "cell_type": "markdown",
   "metadata": {},
   "source": [
    "# Feature Engineering\n",
    "\n"
   ]
  },
  {
   "cell_type": "markdown",
   "metadata": {
    "tags": [
     "hide-cell"
    ]
   },
   "source": [
    "## Import Libraries"
   ]
  },
  {
   "cell_type": "code",
   "execution_count": 2,
   "metadata": {
    "tags": [
     "hide-cell"
    ]
   },
   "outputs": [],
   "source": [
    "from discover.container import DiscoverContainer\n",
    "from discover.infra.config.flow import FlowConfigReader\n",
    "from discover.flow.data_prep.feature.stage import FeatureEngineeringStage"
   ]
  },
  {
   "cell_type": "markdown",
   "metadata": {
    "tags": [
     "remove-cell"
    ]
   },
   "source": [
    "## Dependency Container"
   ]
  },
  {
   "cell_type": "code",
   "execution_count": 3,
   "metadata": {
    "tags": [
     "remove-cell"
    ]
   },
   "outputs": [],
   "source": [
    "container = DiscoverContainer()\n",
    "container.init_resources()\n",
    "container.wire(\n",
    "    modules=[\n",
    "        \"discover.flow.data_prep.stage\",\n",
    "    ],\n",
    ")"
   ]
  },
  {
   "cell_type": "markdown",
   "metadata": {},
   "source": [
    "## Feature Engineering Pipeline"
   ]
  },
  {
   "cell_type": "code",
   "execution_count": 4,
   "metadata": {},
   "outputs": [
    {
     "name": "stdout",
     "output_type": "stream",
     "text": [
      "\n",
      "\n",
      "# ============================================================================== #\n",
      "#                           Feature Engineering Stage                            #\n",
      "# ============================================================================== #\n",
      "\n"
     ]
    },
    {
     "name": "stderr",
     "output_type": "stream",
     "text": [
      "your 131072x1 screen size is bogus. expect trouble\n"
     ]
    },
    {
     "name": "stdout",
     "output_type": "stream",
     "text": [
      ":: loading settings :: url = jar:file:/home/john/miniconda3/envs/appvocai/lib/python3.10/site-packages/pyspark/jars/ivy-2.5.1.jar!/org/apache/ivy/core/settings/ivysettings.xml\n"
     ]
    },
    {
     "name": "stderr",
     "output_type": "stream",
     "text": [
      "Ivy Default Cache set to: /home/john/.ivy2/cache\n",
      "The jars for the packages stored in: /home/john/.ivy2/jars\n",
      "com.johnsnowlabs.nlp#spark-nlp_2.12 added as a dependency\n",
      ":: resolving dependencies :: org.apache.spark#spark-submit-parent-17a78fa9-4f0e-4e7e-9e76-e476c4c5d48b;1.0\n",
      "\tconfs: [default]\n",
      "\tfound com.johnsnowlabs.nlp#spark-nlp_2.12;5.3.3 in central\n",
      "\tfound com.typesafe#config;1.4.2 in central\n",
      "\tfound org.rocksdb#rocksdbjni;6.29.5 in central\n",
      "\tfound com.amazonaws#aws-java-sdk-s3;1.12.500 in central\n",
      "\tfound com.amazonaws#aws-java-sdk-kms;1.12.500 in central\n",
      "\tfound com.amazonaws#aws-java-sdk-core;1.12.500 in central\n",
      "\tfound commons-logging#commons-logging;1.1.3 in central\n",
      "\tfound commons-codec#commons-codec;1.15 in central\n",
      "\tfound org.apache.httpcomponents#httpclient;4.5.13 in central\n",
      "\tfound org.apache.httpcomponents#httpcore;4.4.13 in central\n",
      "\tfound software.amazon.ion#ion-java;1.0.2 in central\n",
      "\tfound joda-time#joda-time;2.8.1 in central\n",
      "\tfound com.amazonaws#jmespath-java;1.12.500 in central\n",
      "\tfound com.github.universal-automata#liblevenshtein;3.0.0 in central\n",
      "\tfound com.google.protobuf#protobuf-java-util;3.0.0-beta-3 in central\n",
      "\tfound com.google.protobuf#protobuf-java;3.0.0-beta-3 in central\n",
      "\tfound com.google.code.gson#gson;2.3 in central\n",
      "\tfound it.unimi.dsi#fastutil;7.0.12 in central\n",
      "\tfound org.projectlombok#lombok;1.16.8 in central\n",
      "\tfound com.google.cloud#google-cloud-storage;2.20.1 in central\n",
      "\tfound com.google.guava#guava;31.1-jre in central\n",
      "\tfound com.google.guava#failureaccess;1.0.1 in central\n",
      "\tfound com.google.guava#listenablefuture;9999.0-empty-to-avoid-conflict-with-guava in central\n",
      "\tfound com.google.errorprone#error_prone_annotations;2.18.0 in central\n",
      "\tfound com.google.j2objc#j2objc-annotations;1.3 in central\n",
      "\tfound com.google.http-client#google-http-client;1.43.0 in central\n",
      "\tfound io.opencensus#opencensus-contrib-http-util;0.31.1 in central\n",
      "\tfound com.google.http-client#google-http-client-jackson2;1.43.0 in central\n",
      "\tfound com.google.http-client#google-http-client-gson;1.43.0 in central\n",
      "\tfound com.google.api-client#google-api-client;2.2.0 in central\n",
      "\tfound com.google.oauth-client#google-oauth-client;1.34.1 in central\n",
      "\tfound com.google.http-client#google-http-client-apache-v2;1.43.0 in central\n",
      "\tfound com.google.apis#google-api-services-storage;v1-rev20220705-2.0.0 in central\n",
      "\tfound com.google.code.gson#gson;2.10.1 in central\n",
      "\tfound com.google.cloud#google-cloud-core;2.12.0 in central\n",
      "\tfound io.grpc#grpc-context;1.53.0 in central\n",
      "\tfound com.google.auto.value#auto-value-annotations;1.10.1 in central\n",
      "\tfound com.google.auto.value#auto-value;1.10.1 in central\n",
      "\tfound javax.annotation#javax.annotation-api;1.3.2 in central\n",
      "\tfound com.google.cloud#google-cloud-core-http;2.12.0 in central\n",
      "\tfound com.google.http-client#google-http-client-appengine;1.43.0 in central\n",
      "\tfound com.google.api#gax-httpjson;0.108.2 in central\n",
      "\tfound com.google.cloud#google-cloud-core-grpc;2.12.0 in central\n",
      "\tfound io.grpc#grpc-alts;1.53.0 in central\n",
      "\tfound io.grpc#grpc-grpclb;1.53.0 in central\n",
      "\tfound org.conscrypt#conscrypt-openjdk-uber;2.5.2 in central\n",
      "\tfound io.grpc#grpc-auth;1.53.0 in central\n",
      "\tfound io.grpc#grpc-protobuf;1.53.0 in central\n",
      "\tfound io.grpc#grpc-protobuf-lite;1.53.0 in central\n",
      "\tfound io.grpc#grpc-core;1.53.0 in central\n",
      "\tfound com.google.api#gax;2.23.2 in central\n",
      "\tfound com.google.api#gax-grpc;2.23.2 in central\n",
      "\tfound com.google.auth#google-auth-library-credentials;1.16.0 in central\n",
      "\tfound com.google.auth#google-auth-library-oauth2-http;1.16.0 in central\n",
      "\tfound com.google.api#api-common;2.6.2 in central\n",
      "\tfound io.opencensus#opencensus-api;0.31.1 in central\n",
      "\tfound com.google.api.grpc#proto-google-iam-v1;1.9.2 in central\n",
      "\tfound com.google.protobuf#protobuf-java;3.21.12 in central\n",
      "\tfound com.google.protobuf#protobuf-java-util;3.21.12 in central\n",
      "\tfound com.google.api.grpc#proto-google-common-protos;2.14.2 in central\n",
      "\tfound org.threeten#threetenbp;1.6.5 in central\n",
      "\tfound com.google.api.grpc#proto-google-cloud-storage-v2;2.20.1-alpha in central\n",
      "\tfound com.google.api.grpc#grpc-google-cloud-storage-v2;2.20.1-alpha in central\n",
      "\tfound com.google.api.grpc#gapic-google-cloud-storage-v2;2.20.1-alpha in central\n",
      "\tfound com.google.code.findbugs#jsr305;3.0.2 in central\n",
      "\tfound io.grpc#grpc-api;1.53.0 in central\n",
      "\tfound io.grpc#grpc-stub;1.53.0 in central\n",
      "\tfound org.checkerframework#checker-qual;3.31.0 in central\n",
      "\tfound io.perfmark#perfmark-api;0.26.0 in central\n",
      "\tfound com.google.android#annotations;4.1.1.4 in central\n",
      "\tfound org.codehaus.mojo#animal-sniffer-annotations;1.22 in central\n",
      "\tfound io.opencensus#opencensus-proto;0.2.0 in central\n",
      "\tfound io.grpc#grpc-services;1.53.0 in central\n",
      "\tfound com.google.re2j#re2j;1.6 in central\n",
      "\tfound io.grpc#grpc-netty-shaded;1.53.0 in central\n",
      "\tfound io.grpc#grpc-googleapis;1.53.0 in central\n",
      "\tfound io.grpc#grpc-xds;1.53.0 in central\n",
      "\tfound com.navigamez#greex;1.0 in central\n",
      "\tfound dk.brics.automaton#automaton;1.11-8 in central\n",
      "\tfound com.johnsnowlabs.nlp#tensorflow-cpu_2.12;0.4.4 in central\n",
      "\tfound com.microsoft.onnxruntime#onnxruntime;1.17.0 in central\n",
      ":: resolution report :: resolve 1821ms :: artifacts dl 60ms\n",
      "\t:: modules in use:\n",
      "\tcom.amazonaws#aws-java-sdk-core;1.12.500 from central in [default]\n",
      "\tcom.amazonaws#aws-java-sdk-kms;1.12.500 from central in [default]\n",
      "\tcom.amazonaws#aws-java-sdk-s3;1.12.500 from central in [default]\n",
      "\tcom.amazonaws#jmespath-java;1.12.500 from central in [default]\n",
      "\tcom.github.universal-automata#liblevenshtein;3.0.0 from central in [default]\n",
      "\tcom.google.android#annotations;4.1.1.4 from central in [default]\n",
      "\tcom.google.api#api-common;2.6.2 from central in [default]\n",
      "\tcom.google.api#gax;2.23.2 from central in [default]\n",
      "\tcom.google.api#gax-grpc;2.23.2 from central in [default]\n",
      "\tcom.google.api#gax-httpjson;0.108.2 from central in [default]\n",
      "\tcom.google.api-client#google-api-client;2.2.0 from central in [default]\n",
      "\tcom.google.api.grpc#gapic-google-cloud-storage-v2;2.20.1-alpha from central in [default]\n",
      "\tcom.google.api.grpc#grpc-google-cloud-storage-v2;2.20.1-alpha from central in [default]\n",
      "\tcom.google.api.grpc#proto-google-cloud-storage-v2;2.20.1-alpha from central in [default]\n",
      "\tcom.google.api.grpc#proto-google-common-protos;2.14.2 from central in [default]\n",
      "\tcom.google.api.grpc#proto-google-iam-v1;1.9.2 from central in [default]\n",
      "\tcom.google.apis#google-api-services-storage;v1-rev20220705-2.0.0 from central in [default]\n",
      "\tcom.google.auth#google-auth-library-credentials;1.16.0 from central in [default]\n",
      "\tcom.google.auth#google-auth-library-oauth2-http;1.16.0 from central in [default]\n",
      "\tcom.google.auto.value#auto-value;1.10.1 from central in [default]\n",
      "\tcom.google.auto.value#auto-value-annotations;1.10.1 from central in [default]\n",
      "\tcom.google.cloud#google-cloud-core;2.12.0 from central in [default]\n",
      "\tcom.google.cloud#google-cloud-core-grpc;2.12.0 from central in [default]\n",
      "\tcom.google.cloud#google-cloud-core-http;2.12.0 from central in [default]\n",
      "\tcom.google.cloud#google-cloud-storage;2.20.1 from central in [default]\n",
      "\tcom.google.code.findbugs#jsr305;3.0.2 from central in [default]\n",
      "\tcom.google.code.gson#gson;2.10.1 from central in [default]\n",
      "\tcom.google.errorprone#error_prone_annotations;2.18.0 from central in [default]\n",
      "\tcom.google.guava#failureaccess;1.0.1 from central in [default]\n",
      "\tcom.google.guava#guava;31.1-jre from central in [default]\n",
      "\tcom.google.guava#listenablefuture;9999.0-empty-to-avoid-conflict-with-guava from central in [default]\n",
      "\tcom.google.http-client#google-http-client;1.43.0 from central in [default]\n",
      "\tcom.google.http-client#google-http-client-apache-v2;1.43.0 from central in [default]\n",
      "\tcom.google.http-client#google-http-client-appengine;1.43.0 from central in [default]\n",
      "\tcom.google.http-client#google-http-client-gson;1.43.0 from central in [default]\n",
      "\tcom.google.http-client#google-http-client-jackson2;1.43.0 from central in [default]\n",
      "\tcom.google.j2objc#j2objc-annotations;1.3 from central in [default]\n",
      "\tcom.google.oauth-client#google-oauth-client;1.34.1 from central in [default]\n",
      "\tcom.google.protobuf#protobuf-java;3.21.12 from central in [default]\n",
      "\tcom.google.protobuf#protobuf-java-util;3.21.12 from central in [default]\n",
      "\tcom.google.re2j#re2j;1.6 from central in [default]\n",
      "\tcom.johnsnowlabs.nlp#spark-nlp_2.12;5.3.3 from central in [default]\n",
      "\tcom.johnsnowlabs.nlp#tensorflow-cpu_2.12;0.4.4 from central in [default]\n",
      "\tcom.microsoft.onnxruntime#onnxruntime;1.17.0 from central in [default]\n",
      "\tcom.navigamez#greex;1.0 from central in [default]\n",
      "\tcom.typesafe#config;1.4.2 from central in [default]\n",
      "\tcommons-codec#commons-codec;1.15 from central in [default]\n",
      "\tcommons-logging#commons-logging;1.1.3 from central in [default]\n",
      "\tdk.brics.automaton#automaton;1.11-8 from central in [default]\n",
      "\tio.grpc#grpc-alts;1.53.0 from central in [default]\n",
      "\tio.grpc#grpc-api;1.53.0 from central in [default]\n",
      "\tio.grpc#grpc-auth;1.53.0 from central in [default]\n",
      "\tio.grpc#grpc-context;1.53.0 from central in [default]\n",
      "\tio.grpc#grpc-core;1.53.0 from central in [default]\n",
      "\tio.grpc#grpc-googleapis;1.53.0 from central in [default]\n",
      "\tio.grpc#grpc-grpclb;1.53.0 from central in [default]\n",
      "\tio.grpc#grpc-netty-shaded;1.53.0 from central in [default]\n",
      "\tio.grpc#grpc-protobuf;1.53.0 from central in [default]\n",
      "\tio.grpc#grpc-protobuf-lite;1.53.0 from central in [default]\n",
      "\tio.grpc#grpc-services;1.53.0 from central in [default]\n",
      "\tio.grpc#grpc-stub;1.53.0 from central in [default]\n",
      "\tio.grpc#grpc-xds;1.53.0 from central in [default]\n",
      "\tio.opencensus#opencensus-api;0.31.1 from central in [default]\n",
      "\tio.opencensus#opencensus-contrib-http-util;0.31.1 from central in [default]\n",
      "\tio.opencensus#opencensus-proto;0.2.0 from central in [default]\n",
      "\tio.perfmark#perfmark-api;0.26.0 from central in [default]\n",
      "\tit.unimi.dsi#fastutil;7.0.12 from central in [default]\n",
      "\tjavax.annotation#javax.annotation-api;1.3.2 from central in [default]\n",
      "\tjoda-time#joda-time;2.8.1 from central in [default]\n",
      "\torg.apache.httpcomponents#httpclient;4.5.13 from central in [default]\n",
      "\torg.apache.httpcomponents#httpcore;4.4.13 from central in [default]\n",
      "\torg.checkerframework#checker-qual;3.31.0 from central in [default]\n",
      "\torg.codehaus.mojo#animal-sniffer-annotations;1.22 from central in [default]\n",
      "\torg.conscrypt#conscrypt-openjdk-uber;2.5.2 from central in [default]\n",
      "\torg.projectlombok#lombok;1.16.8 from central in [default]\n",
      "\torg.rocksdb#rocksdbjni;6.29.5 from central in [default]\n",
      "\torg.threeten#threetenbp;1.6.5 from central in [default]\n",
      "\tsoftware.amazon.ion#ion-java;1.0.2 from central in [default]\n",
      "\t:: evicted modules:\n",
      "\tcommons-logging#commons-logging;1.2 by [commons-logging#commons-logging;1.1.3] in [default]\n",
      "\tcommons-codec#commons-codec;1.11 by [commons-codec#commons-codec;1.15] in [default]\n",
      "\tcom.google.protobuf#protobuf-java-util;3.0.0-beta-3 by [com.google.protobuf#protobuf-java-util;3.21.12] in [default]\n",
      "\tcom.google.protobuf#protobuf-java;3.0.0-beta-3 by [com.google.protobuf#protobuf-java;3.21.12] in [default]\n",
      "\tcom.google.code.gson#gson;2.3 by [com.google.code.gson#gson;2.10.1] in [default]\n",
      "\t---------------------------------------------------------------------\n",
      "\t|                  |            modules            ||   artifacts   |\n",
      "\t|       conf       | number| search|dwnlded|evicted|| number|dwnlded|\n",
      "\t---------------------------------------------------------------------\n",
      "\t|      default     |   83  |   0   |   0   |   5   ||   78  |   0   |\n",
      "\t---------------------------------------------------------------------\n",
      ":: retrieving :: org.apache.spark#spark-submit-parent-17a78fa9-4f0e-4e7e-9e76-e476c4c5d48b\n",
      "\tconfs: [default]\n",
      "\t0 artifacts copied, 78 already retrieved (0kB/36ms)\n",
      "Setting default log level to \"WARN\".\n",
      "To adjust logging level use sc.setLogLevel(newLevel). For SparkR, use setLogLevel(newLevel).\n",
      "                                                                                \r"
     ]
    },
    {
     "name": "stdout",
     "output_type": "stream",
     "text": [
      "\n",
      "\n",
      "                                    NLPTask                                     \n",
      "                                    -------                                     \n",
      "                          Start Datetime | Sat, 26 Oct 2024 14:57:17\n",
      "pos_ud_ewt download started this may take some time.\n",
      "Approximate size to download 2.2 MB\n",
      "[ | ]pos_ud_ewt download started this may take some time.\n",
      "Approximate size to download 2.2 MB\n",
      "Download done! Loading the resource.\n",
      "[ / ]"
     ]
    },
    {
     "name": "stderr",
     "output_type": "stream",
     "text": [
      "                                                                                \r"
     ]
    },
    {
     "name": "stdout",
     "output_type": "stream",
     "text": [
      "[OK!]\n",
      "                       Complete Datetime | Sat, 26 Oct 2024 14:57:36\n",
      "                                 Runtime | 19.69 seconds\n"
     ]
    },
    {
     "name": "stderr",
     "output_type": "stream",
     "text": [
      "[10/26/2024 02:57:42 PM] [ERROR] [DataPrepStage.run] [wrapper] : Exception occurred in DataPrepStage.run called with \n",
      "[DATATYPE_MISMATCH.UNEXPECTED_INPUT_TYPE] Cannot resolve \"aggregate(transform(sentence_lengths, lambdafunction(namedlambdavariable(), namedlambdavariable())), 0.0, lambdafunction((namedlambdavariable() + namedlambdavariable()), namedlambdavariable(), namedlambdavariable()), lambdafunction(namedlambdavariable(), namedlambdavariable()))\" due to data type mismatch: Parameter 3 requires the \"DECIMAL(1,1)\" type, however \"lambdafunction((namedlambdavariable() + namedlambdavariable()), namedlambdavariable(), namedlambdavariable())\" has the type \"DOUBLE\".;\n",
      "Project [id#0, app_id#1, app_name#2, category_id#3, author#4, rating#5, content#6, vote_sum#7L, vote_count#8L, date#9, review_length#10L, dc_non_english_app_name#11, dc_non_english_review#12, category#13, tp_tokens#136, tp_pos#157, tp_sentences#179, sentence_count#239, sentence_lengths#258, min_sentence_length#279, max_sentence_length#300, CASE WHEN (sentence_count#239 > 1) THEN cast((aggregate(transform(sentence_lengths#258, lambdafunction(cast(lambda x#323 as double), lambda x#323, false)), 0.0, lambdafunction((cast(lambda acc#324 as double) + lambda x#325), lambda acc#324, lambda x#325, false), lambdafunction(lambda id#326, lambda id#326, false)) / cast(size(sentence_lengths#258, true) as decimal(10,0))) as double) ELSE cast(sentence_lengths#258[0] as double) END AS mean_sentence_length#322]\n",
      "+- Project [id#0, app_id#1, app_name#2, category_id#3, author#4, rating#5, content#6, vote_sum#7L, vote_count#8L, date#9, review_length#10L, dc_non_english_app_name#11, dc_non_english_review#12, category#13, tp_tokens#136, tp_pos#157, tp_sentences#179, sentence_count#239, sentence_lengths#258, min_sentence_length#279, CASE WHEN (sentence_count#239 > 1) THEN array_max(sentence_lengths#258) ELSE cast(null as int) END AS max_sentence_length#300]\n",
      "   +- Project [id#0, app_id#1, app_name#2, category_id#3, author#4, rating#5, content#6, vote_sum#7L, vote_count#8L, date#9, review_length#10L, dc_non_english_app_name#11, dc_non_english_review#12, category#13, tp_tokens#136, tp_pos#157, tp_sentences#179, sentence_count#239, sentence_lengths#258, CASE WHEN (sentence_count#239 > 1) THEN array_min(sentence_lengths#258) ELSE cast(null as int) END AS min_sentence_length#279]\n",
      "      +- Project [id#0, app_id#1, app_name#2, category_id#3, author#4, rating#5, content#6, vote_sum#7L, vote_count#8L, date#9, review_length#10L, dc_non_english_app_name#11, dc_non_english_review#12, category#13, tp_tokens#136, tp_pos#157, tp_sentences#179, sentence_count#239, transform(tp_sentences#179, lambdafunction(length(lambda x#259), lambda x#259, false)) AS sentence_lengths#258]\n",
      "         +- Project [id#0, app_id#1, app_name#2, category_id#3, author#4, rating#5, content#6, vote_sum#7L, vote_count#8L, date#9, review_length#10L, dc_non_english_app_name#11, dc_non_english_review#12, category#13, tp_tokens#136, tp_pos#157, tp_sentences#179, size(tp_sentences#179, true) AS sentence_count#239]\n",
      "            +- Project [id#0, app_id#1, app_name#2, category_id#3, author#4, rating#5, content#6, vote_sum#7L, vote_count#8L, date#9, review_length#10L, dc_non_english_app_name#11, dc_non_english_review#12, category#13, tp_tokens#136, tp_pos#157, tp_sentences#179]\n",
      "               +- Project [id#0, app_id#1, app_name#2, category_id#3, author#4, rating#5, content#6, vote_sum#7L, vote_count#8L, date#9, review_length#10L, dc_non_english_app_name#11, dc_non_english_review#12, category#13, document#56, tokens#77, pos_tags#96, sentences#116, tp_tokens#136, tp_pos#157, UDF(sentences#116) AS tp_sentences#179]\n",
      "                  +- Project [id#0, app_id#1, app_name#2, category_id#3, author#4, rating#5, content#6, vote_sum#7L, vote_count#8L, date#9, review_length#10L, dc_non_english_app_name#11, dc_non_english_review#12, category#13, document#56, tokens#77, pos_tags#96, sentences#116, tp_tokens#136, UDF(pos_tags#96) AS tp_pos#157]\n",
      "                     +- Project [id#0, app_id#1, app_name#2, category_id#3, author#4, rating#5, content#6, vote_sum#7L, vote_count#8L, date#9, review_length#10L, dc_non_english_app_name#11, dc_non_english_review#12, category#13, document#56, tokens#77, pos_tags#96, sentences#116, UDF(tokens#77) AS tp_tokens#136]\n",
      "                        +- Project [id#0, app_id#1, app_name#2, category_id#3, author#4, rating#5, content#6, vote_sum#7L, vote_count#8L, date#9, review_length#10L, dc_non_english_app_name#11, dc_non_english_review#12, category#13, document#56, tokens#77, pos_tags#96, UDF(array(document#56)) AS sentences#116]\n",
      "                           +- Project [id#0, app_id#1, app_name#2, category_id#3, author#4, rating#5, content#6, vote_sum#7L, vote_count#8L, date#9, review_length#10L, dc_non_english_app_name#11, dc_non_english_review#12, category#13, document#56, tokens#77, UDF(array(document#56, tokens#77)) AS pos_tags#96]\n",
      "                              +- Project [id#0, app_id#1, app_name#2, category_id#3, author#4, rating#5, content#6, vote_sum#7L, vote_count#8L, date#9, review_length#10L, dc_non_english_app_name#11, dc_non_english_review#12, category#13, document#56, UDF(array(document#56)) AS tokens#77]\n",
      "                                 +- Project [id#0, app_id#1, app_name#2, category_id#3, author#4, rating#5, content#6, vote_sum#7L, vote_count#8L, date#9, review_length#10L, dc_non_english_app_name#11, dc_non_english_review#12, category#13, UDF(content#6) AS document#56]\n",
      "                                    +- Relation [id#0,app_id#1,app_name#2,category_id#3,author#4,rating#5,content#6,vote_sum#7L,vote_count#8L,date#9,review_length#10L,dc_non_english_app_name#11,dc_non_english_review#12,category#13] parquet\n",
      "Traceback (most recent call last):\n",
      "  File \"/home/john/projects/appvocai-discover/discover/infra/service/logging/stage.py\", line 49, in wrapper\n",
      "    result = func(self, *args, **kwargs)\n",
      "  File \"/home/john/projects/appvocai-discover/discover/flow/data_prep/stage.py\", line 163, in run\n",
      "    data = task.run(data=data)\n",
      "  File \"/home/john/projects/appvocai-discover/discover/flow/data_prep/feature/task.py\", line 220, in run\n",
      "    data = data.withColumn(\n",
      "  File \"/home/john/miniconda3/envs/appvocai/lib/python3.10/site-packages/pyspark/sql/dataframe.py\", line 5176, in withColumn\n",
      "    return DataFrame(self._jdf.withColumn(colName, col._jc), self.sparkSession)\n",
      "  File \"/home/john/miniconda3/envs/appvocai/lib/python3.10/site-packages/py4j/java_gateway.py\", line 1322, in __call__\n",
      "    return_value = get_return_value(\n",
      "  File \"/home/john/miniconda3/envs/appvocai/lib/python3.10/site-packages/pyspark/errors/exceptions/captured.py\", line 185, in deco\n",
      "    raise converted from None\n",
      "pyspark.errors.exceptions.captured.AnalysisException: [DATATYPE_MISMATCH.UNEXPECTED_INPUT_TYPE] Cannot resolve \"aggregate(transform(sentence_lengths, lambdafunction(namedlambdavariable(), namedlambdavariable())), 0.0, lambdafunction((namedlambdavariable() + namedlambdavariable()), namedlambdavariable(), namedlambdavariable()), lambdafunction(namedlambdavariable(), namedlambdavariable()))\" due to data type mismatch: Parameter 3 requires the \"DECIMAL(1,1)\" type, however \"lambdafunction((namedlambdavariable() + namedlambdavariable()), namedlambdavariable(), namedlambdavariable())\" has the type \"DOUBLE\".;\n",
      "Project [id#0, app_id#1, app_name#2, category_id#3, author#4, rating#5, content#6, vote_sum#7L, vote_count#8L, date#9, review_length#10L, dc_non_english_app_name#11, dc_non_english_review#12, category#13, tp_tokens#136, tp_pos#157, tp_sentences#179, sentence_count#239, sentence_lengths#258, min_sentence_length#279, max_sentence_length#300, CASE WHEN (sentence_count#239 > 1) THEN cast((aggregate(transform(sentence_lengths#258, lambdafunction(cast(lambda x#323 as double), lambda x#323, false)), 0.0, lambdafunction((cast(lambda acc#324 as double) + lambda x#325), lambda acc#324, lambda x#325, false), lambdafunction(lambda id#326, lambda id#326, false)) / cast(size(sentence_lengths#258, true) as decimal(10,0))) as double) ELSE cast(sentence_lengths#258[0] as double) END AS mean_sentence_length#322]\n",
      "+- Project [id#0, app_id#1, app_name#2, category_id#3, author#4, rating#5, content#6, vote_sum#7L, vote_count#8L, date#9, review_length#10L, dc_non_english_app_name#11, dc_non_english_review#12, category#13, tp_tokens#136, tp_pos#157, tp_sentences#179, sentence_count#239, sentence_lengths#258, min_sentence_length#279, CASE WHEN (sentence_count#239 > 1) THEN array_max(sentence_lengths#258) ELSE cast(null as int) END AS max_sentence_length#300]\n",
      "   +- Project [id#0, app_id#1, app_name#2, category_id#3, author#4, rating#5, content#6, vote_sum#7L, vote_count#8L, date#9, review_length#10L, dc_non_english_app_name#11, dc_non_english_review#12, category#13, tp_tokens#136, tp_pos#157, tp_sentences#179, sentence_count#239, sentence_lengths#258, CASE WHEN (sentence_count#239 > 1) THEN array_min(sentence_lengths#258) ELSE cast(null as int) END AS min_sentence_length#279]\n",
      "      +- Project [id#0, app_id#1, app_name#2, category_id#3, author#4, rating#5, content#6, vote_sum#7L, vote_count#8L, date#9, review_length#10L, dc_non_english_app_name#11, dc_non_english_review#12, category#13, tp_tokens#136, tp_pos#157, tp_sentences#179, sentence_count#239, transform(tp_sentences#179, lambdafunction(length(lambda x#259), lambda x#259, false)) AS sentence_lengths#258]\n",
      "         +- Project [id#0, app_id#1, app_name#2, category_id#3, author#4, rating#5, content#6, vote_sum#7L, vote_count#8L, date#9, review_length#10L, dc_non_english_app_name#11, dc_non_english_review#12, category#13, tp_tokens#136, tp_pos#157, tp_sentences#179, size(tp_sentences#179, true) AS sentence_count#239]\n",
      "            +- Project [id#0, app_id#1, app_name#2, category_id#3, author#4, rating#5, content#6, vote_sum#7L, vote_count#8L, date#9, review_length#10L, dc_non_english_app_name#11, dc_non_english_review#12, category#13, tp_tokens#136, tp_pos#157, tp_sentences#179]\n",
      "               +- Project [id#0, app_id#1, app_name#2, category_id#3, author#4, rating#5, content#6, vote_sum#7L, vote_count#8L, date#9, review_length#10L, dc_non_english_app_name#11, dc_non_english_review#12, category#13, document#56, tokens#77, pos_tags#96, sentences#116, tp_tokens#136, tp_pos#157, UDF(sentences#116) AS tp_sentences#179]\n",
      "                  +- Project [id#0, app_id#1, app_name#2, category_id#3, author#4, rating#5, content#6, vote_sum#7L, vote_count#8L, date#9, review_length#10L, dc_non_english_app_name#11, dc_non_english_review#12, category#13, document#56, tokens#77, pos_tags#96, sentences#116, tp_tokens#136, UDF(pos_tags#96) AS tp_pos#157]\n",
      "                     +- Project [id#0, app_id#1, app_name#2, category_id#3, author#4, rating#5, content#6, vote_sum#7L, vote_count#8L, date#9, review_length#10L, dc_non_english_app_name#11, dc_non_english_review#12, category#13, document#56, tokens#77, pos_tags#96, sentences#116, UDF(tokens#77) AS tp_tokens#136]\n",
      "                        +- Project [id#0, app_id#1, app_name#2, category_id#3, author#4, rating#5, content#6, vote_sum#7L, vote_count#8L, date#9, review_length#10L, dc_non_english_app_name#11, dc_non_english_review#12, category#13, document#56, tokens#77, pos_tags#96, UDF(array(document#56)) AS sentences#116]\n",
      "                           +- Project [id#0, app_id#1, app_name#2, category_id#3, author#4, rating#5, content#6, vote_sum#7L, vote_count#8L, date#9, review_length#10L, dc_non_english_app_name#11, dc_non_english_review#12, category#13, document#56, tokens#77, UDF(array(document#56, tokens#77)) AS pos_tags#96]\n",
      "                              +- Project [id#0, app_id#1, app_name#2, category_id#3, author#4, rating#5, content#6, vote_sum#7L, vote_count#8L, date#9, review_length#10L, dc_non_english_app_name#11, dc_non_english_review#12, category#13, document#56, UDF(array(document#56)) AS tokens#77]\n",
      "                                 +- Project [id#0, app_id#1, app_name#2, category_id#3, author#4, rating#5, content#6, vote_sum#7L, vote_count#8L, date#9, review_length#10L, dc_non_english_app_name#11, dc_non_english_review#12, category#13, UDF(content#6) AS document#56]\n",
      "                                    +- Relation [id#0,app_id#1,app_name#2,category_id#3,author#4,rating#5,content#6,vote_sum#7L,vote_count#8L,date#9,review_length#10L,dc_non_english_app_name#11,dc_non_english_review#12,category#13] parquet\n",
      "\n"
     ]
    },
    {
     "ename": "AnalysisException",
     "evalue": "[DATATYPE_MISMATCH.UNEXPECTED_INPUT_TYPE] Cannot resolve \"aggregate(transform(sentence_lengths, lambdafunction(namedlambdavariable(), namedlambdavariable())), 0.0, lambdafunction((namedlambdavariable() + namedlambdavariable()), namedlambdavariable(), namedlambdavariable()), lambdafunction(namedlambdavariable(), namedlambdavariable()))\" due to data type mismatch: Parameter 3 requires the \"DECIMAL(1,1)\" type, however \"lambdafunction((namedlambdavariable() + namedlambdavariable()), namedlambdavariable(), namedlambdavariable())\" has the type \"DOUBLE\".;\nProject [id#0, app_id#1, app_name#2, category_id#3, author#4, rating#5, content#6, vote_sum#7L, vote_count#8L, date#9, review_length#10L, dc_non_english_app_name#11, dc_non_english_review#12, category#13, tp_tokens#136, tp_pos#157, tp_sentences#179, sentence_count#239, sentence_lengths#258, min_sentence_length#279, max_sentence_length#300, CASE WHEN (sentence_count#239 > 1) THEN cast((aggregate(transform(sentence_lengths#258, lambdafunction(cast(lambda x#323 as double), lambda x#323, false)), 0.0, lambdafunction((cast(lambda acc#324 as double) + lambda x#325), lambda acc#324, lambda x#325, false), lambdafunction(lambda id#326, lambda id#326, false)) / cast(size(sentence_lengths#258, true) as decimal(10,0))) as double) ELSE cast(sentence_lengths#258[0] as double) END AS mean_sentence_length#322]\n+- Project [id#0, app_id#1, app_name#2, category_id#3, author#4, rating#5, content#6, vote_sum#7L, vote_count#8L, date#9, review_length#10L, dc_non_english_app_name#11, dc_non_english_review#12, category#13, tp_tokens#136, tp_pos#157, tp_sentences#179, sentence_count#239, sentence_lengths#258, min_sentence_length#279, CASE WHEN (sentence_count#239 > 1) THEN array_max(sentence_lengths#258) ELSE cast(null as int) END AS max_sentence_length#300]\n   +- Project [id#0, app_id#1, app_name#2, category_id#3, author#4, rating#5, content#6, vote_sum#7L, vote_count#8L, date#9, review_length#10L, dc_non_english_app_name#11, dc_non_english_review#12, category#13, tp_tokens#136, tp_pos#157, tp_sentences#179, sentence_count#239, sentence_lengths#258, CASE WHEN (sentence_count#239 > 1) THEN array_min(sentence_lengths#258) ELSE cast(null as int) END AS min_sentence_length#279]\n      +- Project [id#0, app_id#1, app_name#2, category_id#3, author#4, rating#5, content#6, vote_sum#7L, vote_count#8L, date#9, review_length#10L, dc_non_english_app_name#11, dc_non_english_review#12, category#13, tp_tokens#136, tp_pos#157, tp_sentences#179, sentence_count#239, transform(tp_sentences#179, lambdafunction(length(lambda x#259), lambda x#259, false)) AS sentence_lengths#258]\n         +- Project [id#0, app_id#1, app_name#2, category_id#3, author#4, rating#5, content#6, vote_sum#7L, vote_count#8L, date#9, review_length#10L, dc_non_english_app_name#11, dc_non_english_review#12, category#13, tp_tokens#136, tp_pos#157, tp_sentences#179, size(tp_sentences#179, true) AS sentence_count#239]\n            +- Project [id#0, app_id#1, app_name#2, category_id#3, author#4, rating#5, content#6, vote_sum#7L, vote_count#8L, date#9, review_length#10L, dc_non_english_app_name#11, dc_non_english_review#12, category#13, tp_tokens#136, tp_pos#157, tp_sentences#179]\n               +- Project [id#0, app_id#1, app_name#2, category_id#3, author#4, rating#5, content#6, vote_sum#7L, vote_count#8L, date#9, review_length#10L, dc_non_english_app_name#11, dc_non_english_review#12, category#13, document#56, tokens#77, pos_tags#96, sentences#116, tp_tokens#136, tp_pos#157, UDF(sentences#116) AS tp_sentences#179]\n                  +- Project [id#0, app_id#1, app_name#2, category_id#3, author#4, rating#5, content#6, vote_sum#7L, vote_count#8L, date#9, review_length#10L, dc_non_english_app_name#11, dc_non_english_review#12, category#13, document#56, tokens#77, pos_tags#96, sentences#116, tp_tokens#136, UDF(pos_tags#96) AS tp_pos#157]\n                     +- Project [id#0, app_id#1, app_name#2, category_id#3, author#4, rating#5, content#6, vote_sum#7L, vote_count#8L, date#9, review_length#10L, dc_non_english_app_name#11, dc_non_english_review#12, category#13, document#56, tokens#77, pos_tags#96, sentences#116, UDF(tokens#77) AS tp_tokens#136]\n                        +- Project [id#0, app_id#1, app_name#2, category_id#3, author#4, rating#5, content#6, vote_sum#7L, vote_count#8L, date#9, review_length#10L, dc_non_english_app_name#11, dc_non_english_review#12, category#13, document#56, tokens#77, pos_tags#96, UDF(array(document#56)) AS sentences#116]\n                           +- Project [id#0, app_id#1, app_name#2, category_id#3, author#4, rating#5, content#6, vote_sum#7L, vote_count#8L, date#9, review_length#10L, dc_non_english_app_name#11, dc_non_english_review#12, category#13, document#56, tokens#77, UDF(array(document#56, tokens#77)) AS pos_tags#96]\n                              +- Project [id#0, app_id#1, app_name#2, category_id#3, author#4, rating#5, content#6, vote_sum#7L, vote_count#8L, date#9, review_length#10L, dc_non_english_app_name#11, dc_non_english_review#12, category#13, document#56, UDF(array(document#56)) AS tokens#77]\n                                 +- Project [id#0, app_id#1, app_name#2, category_id#3, author#4, rating#5, content#6, vote_sum#7L, vote_count#8L, date#9, review_length#10L, dc_non_english_app_name#11, dc_non_english_review#12, category#13, UDF(content#6) AS document#56]\n                                    +- Relation [id#0,app_id#1,app_name#2,category_id#3,author#4,rating#5,content#6,vote_sum#7L,vote_count#8L,date#9,review_length#10L,dc_non_english_app_name#11,dc_non_english_review#12,category#13] parquet\n",
     "output_type": "error",
     "traceback": [
      "\u001b[0;31m---------------------------------------------------------------------------\u001b[0m",
      "\u001b[0;31mAnalysisException\u001b[0m                         Traceback (most recent call last)",
      "Cell \u001b[0;32mIn[4], line 8\u001b[0m\n\u001b[1;32m      6\u001b[0m \u001b[38;5;66;03m# Build and run Data Ingestion Stage\u001b[39;00m\n\u001b[1;32m      7\u001b[0m stage \u001b[38;5;241m=\u001b[39m NLPStage\u001b[38;5;241m.\u001b[39mbuild(stage_config\u001b[38;5;241m=\u001b[39mstage_config, force\u001b[38;5;241m=\u001b[39m\u001b[38;5;28;01mTrue\u001b[39;00m)\n\u001b[0;32m----> 8\u001b[0m asset_id \u001b[38;5;241m=\u001b[39m \u001b[43mstage\u001b[49m\u001b[38;5;241;43m.\u001b[39;49m\u001b[43mrun\u001b[49m\u001b[43m(\u001b[49m\u001b[43m)\u001b[49m\n",
      "File \u001b[0;32m~/projects/appvocai-discover/discover/infra/service/logging/stage.py:49\u001b[0m, in \u001b[0;36mstage_logger.<locals>.wrapper\u001b[0;34m(self, *args, **kwargs)\u001b[0m\n\u001b[1;32m     46\u001b[0m start_fmt \u001b[38;5;241m=\u001b[39m dt4mtr\u001b[38;5;241m.\u001b[39mto_HTTP_format(start)\n\u001b[1;32m     48\u001b[0m \u001b[38;5;66;03m# Execute the original function being decorated, passing all args and kwargs.\u001b[39;00m\n\u001b[0;32m---> 49\u001b[0m result \u001b[38;5;241m=\u001b[39m \u001b[43mfunc\u001b[49m\u001b[43m(\u001b[49m\u001b[38;5;28;43mself\u001b[39;49m\u001b[43m,\u001b[49m\u001b[43m \u001b[49m\u001b[38;5;241;43m*\u001b[39;49m\u001b[43margs\u001b[49m\u001b[43m,\u001b[49m\u001b[43m \u001b[49m\u001b[38;5;241;43m*\u001b[39;49m\u001b[38;5;241;43m*\u001b[39;49m\u001b[43mkwargs\u001b[49m\u001b[43m)\u001b[49m\n\u001b[1;32m     51\u001b[0m \u001b[38;5;66;03m# Log runtime.\u001b[39;00m\n\u001b[1;32m     52\u001b[0m end \u001b[38;5;241m=\u001b[39m datetime\u001b[38;5;241m.\u001b[39mnow()\n",
      "File \u001b[0;32m~/projects/appvocai-discover/discover/flow/data_prep/stage.py:163\u001b[0m, in \u001b[0;36mDataPrepStage.run\u001b[0;34m(self)\u001b[0m\n\u001b[1;32m    160\u001b[0m data \u001b[38;5;241m=\u001b[39m \u001b[38;5;28mself\u001b[39m\u001b[38;5;241m.\u001b[39m_load_source_data()\n\u001b[1;32m    162\u001b[0m \u001b[38;5;28;01mfor\u001b[39;00m task \u001b[38;5;129;01min\u001b[39;00m \u001b[38;5;28mself\u001b[39m\u001b[38;5;241m.\u001b[39m_tasks:\n\u001b[0;32m--> 163\u001b[0m     data \u001b[38;5;241m=\u001b[39m \u001b[43mtask\u001b[49m\u001b[38;5;241;43m.\u001b[39;49m\u001b[43mrun\u001b[49m\u001b[43m(\u001b[49m\u001b[43mdata\u001b[49m\u001b[38;5;241;43m=\u001b[39;49m\u001b[43mdata\u001b[49m\u001b[43m)\u001b[49m\n\u001b[1;32m    165\u001b[0m dataset \u001b[38;5;241m=\u001b[39m \u001b[38;5;28mself\u001b[39m\u001b[38;5;241m.\u001b[39m_create_destination_dataset(data\u001b[38;5;241m=\u001b[39mdata)\n\u001b[1;32m    167\u001b[0m \u001b[38;5;28mself\u001b[39m\u001b[38;5;241m.\u001b[39m_save_destination_dataset(dataset\u001b[38;5;241m=\u001b[39mdataset)\n",
      "File \u001b[0;32m~/projects/appvocai-discover/discover/flow/data_prep/feature/task.py:220\u001b[0m, in \u001b[0;36mComputeSentenceStatsTask.run\u001b[0;34m(self, data)\u001b[0m\n\u001b[1;32m    212\u001b[0m data \u001b[38;5;241m=\u001b[39m data\u001b[38;5;241m.\u001b[39mwithColumn(\n\u001b[1;32m    213\u001b[0m     \u001b[38;5;124m\"\u001b[39m\u001b[38;5;124mmax_sentence_length\u001b[39m\u001b[38;5;124m\"\u001b[39m,\n\u001b[1;32m    214\u001b[0m     F\u001b[38;5;241m.\u001b[39mwhen(\n\u001b[1;32m    215\u001b[0m         F\u001b[38;5;241m.\u001b[39mcol(\u001b[38;5;124m\"\u001b[39m\u001b[38;5;124msentence_count\u001b[39m\u001b[38;5;124m\"\u001b[39m) \u001b[38;5;241m>\u001b[39m \u001b[38;5;241m1\u001b[39m, F\u001b[38;5;241m.\u001b[39marray_max(\u001b[38;5;124m\"\u001b[39m\u001b[38;5;124msentence_lengths\u001b[39m\u001b[38;5;124m\"\u001b[39m)\n\u001b[1;32m    216\u001b[0m     )\u001b[38;5;241m.\u001b[39motherwise(F\u001b[38;5;241m.\u001b[39mlit(\u001b[38;5;28;01mNone\u001b[39;00m)),\n\u001b[1;32m    217\u001b[0m )\n\u001b[1;32m    219\u001b[0m \u001b[38;5;66;03m# Mean sentence length\u001b[39;00m\n\u001b[0;32m--> 220\u001b[0m data \u001b[38;5;241m=\u001b[39m \u001b[43mdata\u001b[49m\u001b[38;5;241;43m.\u001b[39;49m\u001b[43mwithColumn\u001b[49m\u001b[43m(\u001b[49m\n\u001b[1;32m    221\u001b[0m \u001b[43m    \u001b[49m\u001b[38;5;124;43m\"\u001b[39;49m\u001b[38;5;124;43mmean_sentence_length\u001b[39;49m\u001b[38;5;124;43m\"\u001b[39;49m\u001b[43m,\u001b[49m\n\u001b[1;32m    222\u001b[0m \u001b[43m    \u001b[49m\u001b[43mF\u001b[49m\u001b[38;5;241;43m.\u001b[39;49m\u001b[43mwhen\u001b[49m\u001b[43m(\u001b[49m\n\u001b[1;32m    223\u001b[0m \u001b[43m        \u001b[49m\u001b[43mF\u001b[49m\u001b[38;5;241;43m.\u001b[39;49m\u001b[43mcol\u001b[49m\u001b[43m(\u001b[49m\u001b[38;5;124;43m\"\u001b[39;49m\u001b[38;5;124;43msentence_count\u001b[39;49m\u001b[38;5;124;43m\"\u001b[39;49m\u001b[43m)\u001b[49m\u001b[43m \u001b[49m\u001b[38;5;241;43m>\u001b[39;49m\u001b[43m \u001b[49m\u001b[38;5;241;43m1\u001b[39;49m\u001b[43m,\u001b[49m\n\u001b[1;32m    224\u001b[0m \u001b[43m        \u001b[49m\u001b[43mF\u001b[49m\u001b[38;5;241;43m.\u001b[39;49m\u001b[43mexpr\u001b[49m\u001b[43m(\u001b[49m\n\u001b[1;32m    225\u001b[0m \u001b[43m            \u001b[49m\u001b[38;5;124;43m\"\u001b[39;49m\u001b[38;5;124;43maggregate(transform(sentence_lengths, x -> double(x)), 0.0, (acc, x) -> acc + x) / size(sentence_lengths)\u001b[39;49m\u001b[38;5;124;43m\"\u001b[39;49m\n\u001b[1;32m    226\u001b[0m \u001b[43m        \u001b[49m\u001b[43m)\u001b[49m\u001b[43m,\u001b[49m\n\u001b[1;32m    227\u001b[0m \u001b[43m    \u001b[49m\u001b[43m)\u001b[49m\u001b[38;5;241;43m.\u001b[39;49m\u001b[43motherwise\u001b[49m\u001b[43m(\u001b[49m\u001b[43mF\u001b[49m\u001b[38;5;241;43m.\u001b[39;49m\u001b[43mexpr\u001b[49m\u001b[43m(\u001b[49m\u001b[38;5;124;43m\"\u001b[39;49m\u001b[38;5;124;43mdouble(sentence_lengths[0])\u001b[39;49m\u001b[38;5;124;43m\"\u001b[39;49m\u001b[43m)\u001b[49m\u001b[43m)\u001b[49m\u001b[43m,\u001b[49m\n\u001b[1;32m    228\u001b[0m \u001b[43m\u001b[49m\u001b[43m)\u001b[49m\n\u001b[1;32m    230\u001b[0m \u001b[38;5;66;03m# Standard deviation (set to 0 or `null` if there's only one sentence)\u001b[39;00m\n\u001b[1;32m    231\u001b[0m data \u001b[38;5;241m=\u001b[39m data\u001b[38;5;241m.\u001b[39mwithColumn(\n\u001b[1;32m    232\u001b[0m     \u001b[38;5;124m\"\u001b[39m\u001b[38;5;124msentence_length_stddev\u001b[39m\u001b[38;5;124m\"\u001b[39m,\n\u001b[1;32m    233\u001b[0m     F\u001b[38;5;241m.\u001b[39mwhen(\n\u001b[0;32m   (...)\u001b[0m\n\u001b[1;32m    242\u001b[0m     ),  \u001b[38;5;66;03m# Use .otherwise(F.lit(None)) if you prefer `null` for single-sentence entries.\u001b[39;00m\n\u001b[1;32m    243\u001b[0m )\n",
      "File \u001b[0;32m~/miniconda3/envs/appvocai/lib/python3.10/site-packages/pyspark/sql/dataframe.py:5176\u001b[0m, in \u001b[0;36mDataFrame.withColumn\u001b[0;34m(self, colName, col)\u001b[0m\n\u001b[1;32m   5171\u001b[0m \u001b[38;5;28;01mif\u001b[39;00m \u001b[38;5;129;01mnot\u001b[39;00m \u001b[38;5;28misinstance\u001b[39m(col, Column):\n\u001b[1;32m   5172\u001b[0m     \u001b[38;5;28;01mraise\u001b[39;00m PySparkTypeError(\n\u001b[1;32m   5173\u001b[0m         error_class\u001b[38;5;241m=\u001b[39m\u001b[38;5;124m\"\u001b[39m\u001b[38;5;124mNOT_COLUMN\u001b[39m\u001b[38;5;124m\"\u001b[39m,\n\u001b[1;32m   5174\u001b[0m         message_parameters\u001b[38;5;241m=\u001b[39m{\u001b[38;5;124m\"\u001b[39m\u001b[38;5;124marg_name\u001b[39m\u001b[38;5;124m\"\u001b[39m: \u001b[38;5;124m\"\u001b[39m\u001b[38;5;124mcol\u001b[39m\u001b[38;5;124m\"\u001b[39m, \u001b[38;5;124m\"\u001b[39m\u001b[38;5;124marg_type\u001b[39m\u001b[38;5;124m\"\u001b[39m: \u001b[38;5;28mtype\u001b[39m(col)\u001b[38;5;241m.\u001b[39m\u001b[38;5;18m__name__\u001b[39m},\n\u001b[1;32m   5175\u001b[0m     )\n\u001b[0;32m-> 5176\u001b[0m \u001b[38;5;28;01mreturn\u001b[39;00m DataFrame(\u001b[38;5;28;43mself\u001b[39;49m\u001b[38;5;241;43m.\u001b[39;49m\u001b[43m_jdf\u001b[49m\u001b[38;5;241;43m.\u001b[39;49m\u001b[43mwithColumn\u001b[49m\u001b[43m(\u001b[49m\u001b[43mcolName\u001b[49m\u001b[43m,\u001b[49m\u001b[43m \u001b[49m\u001b[43mcol\u001b[49m\u001b[38;5;241;43m.\u001b[39;49m\u001b[43m_jc\u001b[49m\u001b[43m)\u001b[49m, \u001b[38;5;28mself\u001b[39m\u001b[38;5;241m.\u001b[39msparkSession)\n",
      "File \u001b[0;32m~/miniconda3/envs/appvocai/lib/python3.10/site-packages/py4j/java_gateway.py:1322\u001b[0m, in \u001b[0;36mJavaMember.__call__\u001b[0;34m(self, *args)\u001b[0m\n\u001b[1;32m   1316\u001b[0m command \u001b[38;5;241m=\u001b[39m proto\u001b[38;5;241m.\u001b[39mCALL_COMMAND_NAME \u001b[38;5;241m+\u001b[39m\\\n\u001b[1;32m   1317\u001b[0m     \u001b[38;5;28mself\u001b[39m\u001b[38;5;241m.\u001b[39mcommand_header \u001b[38;5;241m+\u001b[39m\\\n\u001b[1;32m   1318\u001b[0m     args_command \u001b[38;5;241m+\u001b[39m\\\n\u001b[1;32m   1319\u001b[0m     proto\u001b[38;5;241m.\u001b[39mEND_COMMAND_PART\n\u001b[1;32m   1321\u001b[0m answer \u001b[38;5;241m=\u001b[39m \u001b[38;5;28mself\u001b[39m\u001b[38;5;241m.\u001b[39mgateway_client\u001b[38;5;241m.\u001b[39msend_command(command)\n\u001b[0;32m-> 1322\u001b[0m return_value \u001b[38;5;241m=\u001b[39m \u001b[43mget_return_value\u001b[49m\u001b[43m(\u001b[49m\n\u001b[1;32m   1323\u001b[0m \u001b[43m    \u001b[49m\u001b[43manswer\u001b[49m\u001b[43m,\u001b[49m\u001b[43m \u001b[49m\u001b[38;5;28;43mself\u001b[39;49m\u001b[38;5;241;43m.\u001b[39;49m\u001b[43mgateway_client\u001b[49m\u001b[43m,\u001b[49m\u001b[43m \u001b[49m\u001b[38;5;28;43mself\u001b[39;49m\u001b[38;5;241;43m.\u001b[39;49m\u001b[43mtarget_id\u001b[49m\u001b[43m,\u001b[49m\u001b[43m \u001b[49m\u001b[38;5;28;43mself\u001b[39;49m\u001b[38;5;241;43m.\u001b[39;49m\u001b[43mname\u001b[49m\u001b[43m)\u001b[49m\n\u001b[1;32m   1325\u001b[0m \u001b[38;5;28;01mfor\u001b[39;00m temp_arg \u001b[38;5;129;01min\u001b[39;00m temp_args:\n\u001b[1;32m   1326\u001b[0m     \u001b[38;5;28;01mif\u001b[39;00m \u001b[38;5;28mhasattr\u001b[39m(temp_arg, \u001b[38;5;124m\"\u001b[39m\u001b[38;5;124m_detach\u001b[39m\u001b[38;5;124m\"\u001b[39m):\n",
      "File \u001b[0;32m~/miniconda3/envs/appvocai/lib/python3.10/site-packages/pyspark/errors/exceptions/captured.py:185\u001b[0m, in \u001b[0;36mcapture_sql_exception.<locals>.deco\u001b[0;34m(*a, **kw)\u001b[0m\n\u001b[1;32m    181\u001b[0m converted \u001b[38;5;241m=\u001b[39m convert_exception(e\u001b[38;5;241m.\u001b[39mjava_exception)\n\u001b[1;32m    182\u001b[0m \u001b[38;5;28;01mif\u001b[39;00m \u001b[38;5;129;01mnot\u001b[39;00m \u001b[38;5;28misinstance\u001b[39m(converted, UnknownException):\n\u001b[1;32m    183\u001b[0m     \u001b[38;5;66;03m# Hide where the exception came from that shows a non-Pythonic\u001b[39;00m\n\u001b[1;32m    184\u001b[0m     \u001b[38;5;66;03m# JVM exception message.\u001b[39;00m\n\u001b[0;32m--> 185\u001b[0m     \u001b[38;5;28;01mraise\u001b[39;00m converted \u001b[38;5;28;01mfrom\u001b[39;00m \u001b[38;5;28;01mNone\u001b[39;00m\n\u001b[1;32m    186\u001b[0m \u001b[38;5;28;01melse\u001b[39;00m:\n\u001b[1;32m    187\u001b[0m     \u001b[38;5;28;01mraise\u001b[39;00m\n",
      "\u001b[0;31mAnalysisException\u001b[0m: [DATATYPE_MISMATCH.UNEXPECTED_INPUT_TYPE] Cannot resolve \"aggregate(transform(sentence_lengths, lambdafunction(namedlambdavariable(), namedlambdavariable())), 0.0, lambdafunction((namedlambdavariable() + namedlambdavariable()), namedlambdavariable(), namedlambdavariable()), lambdafunction(namedlambdavariable(), namedlambdavariable()))\" due to data type mismatch: Parameter 3 requires the \"DECIMAL(1,1)\" type, however \"lambdafunction((namedlambdavariable() + namedlambdavariable()), namedlambdavariable(), namedlambdavariable())\" has the type \"DOUBLE\".;\nProject [id#0, app_id#1, app_name#2, category_id#3, author#4, rating#5, content#6, vote_sum#7L, vote_count#8L, date#9, review_length#10L, dc_non_english_app_name#11, dc_non_english_review#12, category#13, tp_tokens#136, tp_pos#157, tp_sentences#179, sentence_count#239, sentence_lengths#258, min_sentence_length#279, max_sentence_length#300, CASE WHEN (sentence_count#239 > 1) THEN cast((aggregate(transform(sentence_lengths#258, lambdafunction(cast(lambda x#323 as double), lambda x#323, false)), 0.0, lambdafunction((cast(lambda acc#324 as double) + lambda x#325), lambda acc#324, lambda x#325, false), lambdafunction(lambda id#326, lambda id#326, false)) / cast(size(sentence_lengths#258, true) as decimal(10,0))) as double) ELSE cast(sentence_lengths#258[0] as double) END AS mean_sentence_length#322]\n+- Project [id#0, app_id#1, app_name#2, category_id#3, author#4, rating#5, content#6, vote_sum#7L, vote_count#8L, date#9, review_length#10L, dc_non_english_app_name#11, dc_non_english_review#12, category#13, tp_tokens#136, tp_pos#157, tp_sentences#179, sentence_count#239, sentence_lengths#258, min_sentence_length#279, CASE WHEN (sentence_count#239 > 1) THEN array_max(sentence_lengths#258) ELSE cast(null as int) END AS max_sentence_length#300]\n   +- Project [id#0, app_id#1, app_name#2, category_id#3, author#4, rating#5, content#6, vote_sum#7L, vote_count#8L, date#9, review_length#10L, dc_non_english_app_name#11, dc_non_english_review#12, category#13, tp_tokens#136, tp_pos#157, tp_sentences#179, sentence_count#239, sentence_lengths#258, CASE WHEN (sentence_count#239 > 1) THEN array_min(sentence_lengths#258) ELSE cast(null as int) END AS min_sentence_length#279]\n      +- Project [id#0, app_id#1, app_name#2, category_id#3, author#4, rating#5, content#6, vote_sum#7L, vote_count#8L, date#9, review_length#10L, dc_non_english_app_name#11, dc_non_english_review#12, category#13, tp_tokens#136, tp_pos#157, tp_sentences#179, sentence_count#239, transform(tp_sentences#179, lambdafunction(length(lambda x#259), lambda x#259, false)) AS sentence_lengths#258]\n         +- Project [id#0, app_id#1, app_name#2, category_id#3, author#4, rating#5, content#6, vote_sum#7L, vote_count#8L, date#9, review_length#10L, dc_non_english_app_name#11, dc_non_english_review#12, category#13, tp_tokens#136, tp_pos#157, tp_sentences#179, size(tp_sentences#179, true) AS sentence_count#239]\n            +- Project [id#0, app_id#1, app_name#2, category_id#3, author#4, rating#5, content#6, vote_sum#7L, vote_count#8L, date#9, review_length#10L, dc_non_english_app_name#11, dc_non_english_review#12, category#13, tp_tokens#136, tp_pos#157, tp_sentences#179]\n               +- Project [id#0, app_id#1, app_name#2, category_id#3, author#4, rating#5, content#6, vote_sum#7L, vote_count#8L, date#9, review_length#10L, dc_non_english_app_name#11, dc_non_english_review#12, category#13, document#56, tokens#77, pos_tags#96, sentences#116, tp_tokens#136, tp_pos#157, UDF(sentences#116) AS tp_sentences#179]\n                  +- Project [id#0, app_id#1, app_name#2, category_id#3, author#4, rating#5, content#6, vote_sum#7L, vote_count#8L, date#9, review_length#10L, dc_non_english_app_name#11, dc_non_english_review#12, category#13, document#56, tokens#77, pos_tags#96, sentences#116, tp_tokens#136, UDF(pos_tags#96) AS tp_pos#157]\n                     +- Project [id#0, app_id#1, app_name#2, category_id#3, author#4, rating#5, content#6, vote_sum#7L, vote_count#8L, date#9, review_length#10L, dc_non_english_app_name#11, dc_non_english_review#12, category#13, document#56, tokens#77, pos_tags#96, sentences#116, UDF(tokens#77) AS tp_tokens#136]\n                        +- Project [id#0, app_id#1, app_name#2, category_id#3, author#4, rating#5, content#6, vote_sum#7L, vote_count#8L, date#9, review_length#10L, dc_non_english_app_name#11, dc_non_english_review#12, category#13, document#56, tokens#77, pos_tags#96, UDF(array(document#56)) AS sentences#116]\n                           +- Project [id#0, app_id#1, app_name#2, category_id#3, author#4, rating#5, content#6, vote_sum#7L, vote_count#8L, date#9, review_length#10L, dc_non_english_app_name#11, dc_non_english_review#12, category#13, document#56, tokens#77, UDF(array(document#56, tokens#77)) AS pos_tags#96]\n                              +- Project [id#0, app_id#1, app_name#2, category_id#3, author#4, rating#5, content#6, vote_sum#7L, vote_count#8L, date#9, review_length#10L, dc_non_english_app_name#11, dc_non_english_review#12, category#13, document#56, UDF(array(document#56)) AS tokens#77]\n                                 +- Project [id#0, app_id#1, app_name#2, category_id#3, author#4, rating#5, content#6, vote_sum#7L, vote_count#8L, date#9, review_length#10L, dc_non_english_app_name#11, dc_non_english_review#12, category#13, UDF(content#6) AS document#56]\n                                    +- Relation [id#0,app_id#1,app_name#2,category_id#3,author#4,rating#5,content#6,vote_sum#7L,vote_count#8L,date#9,review_length#10L,dc_non_english_app_name#11,dc_non_english_review#12,category#13] parquet\n"
     ]
    }
   ],
   "source": [
    "# Obtain the configuration\n",
    "reader = FlowConfigReader()\n",
    "config = reader.get_config(\"phases\", namespace=False)\n",
    "stage_config = config[\"dataprep\"][\"stages\"][\"feature\"]\n",
    "\n",
    "# Build and run Data Ingestion Stage\n",
    "stage = FeatureEngineeringStage.build(stage_config=stage_config, force=True)\n",
    "asset_id = stage.run()"
   ]
  }
 ],
 "metadata": {
  "kernelspec": {
   "display_name": "appvocai",
   "language": "python",
   "name": "python3"
  },
  "language_info": {
   "codemirror_mode": {
    "name": "ipython",
    "version": 3
   },
   "file_extension": ".py",
   "mimetype": "text/x-python",
   "name": "python",
   "nbconvert_exporter": "python",
   "pygments_lexer": "ipython3",
   "version": "3.10.14"
  }
 },
 "nbformat": 4,
 "nbformat_minor": 2
}
