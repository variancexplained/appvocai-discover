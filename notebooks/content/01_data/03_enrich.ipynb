{
 "cells": [
  {
   "cell_type": "code",
   "execution_count": 1,
   "metadata": {},
   "outputs": [],
   "source": [
    "import warnings\n",
    "\n",
    "warnings.filterwarnings(\"ignore\")\n",
    "import os\n",
    "\n",
    "if \"jbook\" in os.getcwd():\n",
    "    os.chdir(os.path.abspath(os.path.join(\"../..\")))\n",
    "FORCE = False"
   ]
  },
  {
   "cell_type": "markdown",
   "metadata": {},
   "source": [
    "# AppVoCAI Dataset Enrichment and Aggregation\n",
    "The Data Enrichment and Aggregation module is designed to transform raw app review data into actionable insights by enhancing and summarizing key features. This module begins by incorporating critical review metadata, such as review length and review age, to provide context on the scale and recency of user feedback. It then applies sentiment classification of each review, followed by a review quality assessment to filter for high-value content. Deviation analysis is performed to identify outliers and assess how individual reviews compare to broader patterns. The enriched data is subsequently aggregated at both the app and category levels, enabling a view of performance and sentiment trends across the mobile app ecosystem."
   ]
  },
  {
   "cell_type": "markdown",
   "metadata": {
    "tags": [
     "hide-cell"
    ]
   },
   "source": [
    "## Import Libraries"
   ]
  },
  {
   "cell_type": "code",
   "execution_count": 2,
   "metadata": {
    "tags": [
     "hide-cell"
    ]
   },
   "outputs": [],
   "source": [
    "from discover.container import DiscoverContainer\n",
    "from discover.infra.config.flow import FlowConfigReader\n",
    "from discover.flow.enrich.metadata.stage import MetadataStage\n",
    "from discover.flow.enrich.sentiment.stage import SentimentClassificationStage\n",
    "from discover.flow.enrich.quality.stage import QualityStage\n",
    "from discover.flow.enrich.deviation.stage import DeviationStage\n",
    "from discover.flow.aggregation.stage import AggregationStage\n",
    "from discover.core.flow import PhaseDef, EnrichmentStageDef, AggregationStageDef"
   ]
  },
  {
   "cell_type": "markdown",
   "metadata": {},
   "source": [
    "## Dependency Container"
   ]
  },
  {
   "cell_type": "code",
   "execution_count": 3,
   "metadata": {},
   "outputs": [],
   "source": [
    "container = DiscoverContainer()\n",
    "container.init_resources()\n",
    "container.wire(\n",
    "    modules=[\n",
    "        \"discover.flow.enrich.stage\",\n",
    "        \"discover.flow.aggregation.stage\",\n",
    "    ],\n",
    ")"
   ]
  },
  {
   "cell_type": "markdown",
   "metadata": {},
   "source": [
    "## Metadata Pipeline\n",
    "The Metadata Pipeline calculates the `review age` to understand the temporal relevance of each review and `review length` to gauge the depth of user feedback."
   ]
  },
  {
   "cell_type": "code",
   "execution_count": 4,
   "metadata": {},
   "outputs": [
    {
     "name": "stdout",
     "output_type": "stream",
     "text": [
      "\n",
      "\n",
      "# ============================================================================== #\n",
      "#                             Review Metadata Stage                              #\n",
      "# ============================================================================== #\n",
      "\n",
      "\n",
      "\n",
      "                             Review Metadata Stage                              \n",
      "                             =====================                              \n",
      "                           Stage Started | Fri, 08 Nov 2024 11:53:31\n",
      "                         Stage Completed | Fri, 08 Nov 2024 11:53:31\n",
      "                           Stage Runtime | 0.01 seconds\n",
      "                           Cached Result | True\n",
      "\n",
      "\n",
      "# ============================================================================ #\n",
      "\n"
     ]
    }
   ],
   "source": [
    "# Obtain the configuration\n",
    "reader = FlowConfigReader()\n",
    "stage_config = reader.get_stage_config(\n",
    "    phase=PhaseDef.ENRICHMENT, stage=EnrichmentStageDef.METADATA\n",
    ")\n",
    "\n",
    "# Build and run Data Ingestion Stage\n",
    "stage = MetadataStage.build(stage_config=stage_config, force=FORCE)\n",
    "asset_id = stage.run()"
   ]
  },
  {
   "cell_type": "markdown",
   "metadata": {},
   "source": [
    "## Sentiment Classification Pipeline  \n",
    "The Review-Level Sentiment Classification Pipeline uses spaCy to analyze sentiment on a scale from -1 to 1. Reviews are then classified as negative, neutral, or positive by dividing this scale into three equal spans."
   ]
  },
  {
   "cell_type": "code",
   "execution_count": 5,
   "metadata": {},
   "outputs": [
    {
     "name": "stderr",
     "output_type": "stream",
     "text": [
      "[11/08/2024 11:53:41 AM] [INFO] [discover.infra.persistence.repo.dataset.DatasetRepo] [_remove_dataset_file_by_filepath] : Removed dataset file at workspace/dev/dataset/02_enrichment/appvocai_discover-02_enrichment-01_sentiment-review-dataset.parquet from repository.\n",
      "[11/08/2024 11:53:41 AM] [INFO] [discover.infra.persistence.repo.dataset.DatasetRepo] [remove] : Removed dataset dataset-dev-enrichment-sentiment-review from the repository.\n"
     ]
    },
    {
     "name": "stdout",
     "output_type": "stream",
     "text": [
      "\n",
      "\n",
      "# ============================================================================== #\n",
      "#                         Sentiment Classification Stage                         #\n",
      "# ============================================================================== #\n",
      "\n",
      "\n",
      "\n",
      "                           SpacySentimentAnalysisTask                           \n",
      "                           --------------------------                           \n",
      "                          Start Datetime | Fri, 08 Nov 2024 11:53:42\n"
     ]
    },
    {
     "data": {
      "application/vnd.jupyter.widget-view+json": {
       "model_id": "16d34692160c4e58bdf4e3930637e0a9",
       "version_major": 2,
       "version_minor": 0
      },
      "text/plain": [
       "VBox(children=(HBox(children=(IntProgress(value=0, description='0.00%', max=4533), Label(value='0 / 4533'))), …"
      ]
     },
     "metadata": {},
     "output_type": "display_data"
    },
    {
     "name": "stdout",
     "output_type": "stream",
     "text": [
      "                       Complete Datetime | Fri, 08 Nov 2024 11:57:01\n",
      "                                 Runtime | 3.0 minutes and 19.26 seconds\n",
      "\n",
      "\n",
      "                         Sentiment Classification Stage                         \n",
      "                         ==============================                         \n",
      "                           Stage Started | Fri, 08 Nov 2024 11:53:41\n",
      "                         Stage Completed | Fri, 08 Nov 2024 11:57:01\n",
      "                           Stage Runtime | 3.0 minutes and 19.99 seconds\n",
      "\n",
      "\n",
      "# ============================================================================ #\n",
      "\n"
     ]
    }
   ],
   "source": [
    "# Obtain the configuration\n",
    "stage_config = reader.get_stage_config(\n",
    "    phase=PhaseDef.ENRICHMENT, stage=EnrichmentStageDef.SENTIMENT\n",
    ")\n",
    "\n",
    "# Build and run Data Ingestion Stage\n",
    "stage = SentimentClassificationStage.build(stage_config=stage_config, force=FORCE)\n",
    "asset_id = stage.run()"
   ]
  },
  {
   "cell_type": "markdown",
   "metadata": {},
   "source": [
    "## Review Text Quality Analysis (TQA) Pipeline\n",
    "Review text quality is an indicator of the content's richness, coherence, and informativeness. In this section, we integrate two complementary quality assessment measures—a lexical/syntactic score and a perplexity-based score—into a weighted sum. This approach provides a balanced evaluation, capturing both the structural diversity and natural language fluency of the reviews.\n",
    "\n",
    "### Lexical and Syntactic Quality Assessment  \n",
    "The lexical and syntactic quality assessment (TQA) evaluates review quality using a composite score derived from multiple syntactic and lexical measures. These measures are computed with specific weights:\n",
    "\n",
    "1. **POS Count Score (40%)**: Reflects the richness of content using counts of nouns, verbs, adjectives, and adverbs.\n",
    "2. **POS Diversity Score (20%)**: Captures variety in language using an entropy-based calculation.\n",
    "3. **POS Intensity Score (10%)**: Assesses the density of key parts of speech relative to total word count.\n",
    "4. **Structural Complexity Score (20%)**: Evaluates text complexity using unique word proportion, special character usage, and word length variation.\n",
    "5. **TQA Check Score (10%)**: Incorporates quality signals such as limited digit use, minimal special characters, and proper terminal punctuation.\n",
    "\n",
    "The lexical and syntactic quality score is a weighted sum of these components.\n",
    "\n",
    "### Perplexity-Based Quality Assessment  \n",
    "This measure evaluates review quality by applying 13 linguistic and structural filters, each assigned a weight derived from relative perplexity differences between the full dataset and filtered subsets. The filters assess features like adjective presence, punctuation ratios, word repetition, and special character use. Weights are computed to emphasize filters that most reduce perplexity, thus enhancing text fluency and coherence. The final score is a weighted sum of these filter indicators. \n",
    "\n",
    "For detailed implementation and methodology, refer to the [Appendix](#appendix-link)."
   ]
  },
  {
   "cell_type": "code",
   "execution_count": 6,
   "metadata": {},
   "outputs": [
    {
     "name": "stdout",
     "output_type": "stream",
     "text": [
      "\n",
      "\n",
      "# ============================================================================== #\n",
      "#                              Review Quality Stage                              #\n",
      "# ============================================================================== #\n",
      "\n",
      "\n",
      "\n",
      "                              Review Quality Stage                              \n",
      "                              ====================                              \n",
      "                           Stage Started | Fri, 08 Nov 2024 11:57:02\n",
      "                         Stage Completed | Fri, 08 Nov 2024 11:57:02\n",
      "                           Stage Runtime | 0.0 seconds\n",
      "                           Cached Result | True\n",
      "\n",
      "\n",
      "# ============================================================================ #\n",
      "\n"
     ]
    }
   ],
   "source": [
    "# Obtain the configuration\n",
    "stage_config = reader.get_stage_config(\n",
    "    phase=PhaseDef.ENRICHMENT, stage=EnrichmentStageDef.QUALITY\n",
    ")\n",
    "\n",
    "# Build and run Data Ingestion Stage\n",
    "stage = QualityStage.build(stage_config=stage_config, force=FORCE)\n",
    "asset_id = stage.run()"
   ]
  },
  {
   "cell_type": "markdown",
   "metadata": {},
   "source": [
    "## Deviation Analysis Pipeline\n",
    "Deviation analysis is crucial for understanding how user feedback varies around average app performance metrics. At the app level, we analyze deviations in rating, review length, and sentiment relative to their respective averages. These insights reveal patterns in user experience, highlighting anomalies or inconsistencies that may indicate areas for improvement or unexpected user behavior."
   ]
  },
  {
   "cell_type": "code",
   "execution_count": 7,
   "metadata": {},
   "outputs": [
    {
     "name": "stdout",
     "output_type": "stream",
     "text": [
      "\n",
      "\n",
      "# ============================================================================== #\n",
      "#                        Review Deviation Analysis Stage                         #\n",
      "# ============================================================================== #\n",
      "\n",
      "\n",
      "\n",
      "                        Review Deviation Analysis Stage                         \n",
      "                        ===============================                         \n",
      "                           Stage Started | Fri, 08 Nov 2024 11:57:02\n",
      "                         Stage Completed | Fri, 08 Nov 2024 11:57:02\n",
      "                           Stage Runtime | 0.0 seconds\n",
      "                           Cached Result | True\n",
      "\n",
      "\n",
      "# ============================================================================ #\n",
      "\n"
     ]
    }
   ],
   "source": [
    "# Obtain the configuration\n",
    "stage_config = reader.get_stage_config(\n",
    "    phase=PhaseDef.ENRICHMENT, stage=EnrichmentStageDef.DEVIATION\n",
    ")\n",
    "\n",
    "# Build and run Data Ingestion Stage\n",
    "stage = DeviationStage.build(stage_config=stage_config, force=FORCE)\n",
    "asset_id = stage.run()"
   ]
  },
  {
   "cell_type": "markdown",
   "metadata": {},
   "source": [
    "## App and Aggregation Pipelines\n",
    "Aggregating data at the app and category levels provides a high-level view of review trends and user behavior, offering insights into user engagement and feedback patterns. At the app level, we consolidate key metrics, such as average ratings, review length, review count, and total vote sum, while identifying standout reviews based on highest vote counts, top TQA scores, and longest review lengths. \n",
    "\n",
    "A similar approach is used at the category level, aggregating metrics across all apps within a category to reveal trends that may indicate common strengths or pain points across similar apps. This two-tiered aggregation—app-level and category-level—allows for both detailed and broad insights into app performance, aiding in strategic decisions and market comparisons."
   ]
  },
  {
   "cell_type": "markdown",
   "metadata": {},
   "source": [
    "### App Aggregation Pipeline"
   ]
  },
  {
   "cell_type": "code",
   "execution_count": 8,
   "metadata": {},
   "outputs": [
    {
     "name": "stdout",
     "output_type": "stream",
     "text": [
      "\n",
      "\n",
      "# ============================================================================== #\n",
      "#                             App Aggregation Stage                              #\n",
      "# ============================================================================== #\n",
      "\n",
      "\n",
      "\n",
      "                             App Aggregation Stage                              \n",
      "                             =====================                              \n",
      "                           Stage Started | Fri, 08 Nov 2024 11:57:02\n",
      "                         Stage Completed | Fri, 08 Nov 2024 11:57:02\n",
      "                           Stage Runtime | 0.0 seconds\n",
      "                           Cached Result | True\n",
      "\n",
      "\n",
      "# ============================================================================ #\n",
      "\n"
     ]
    }
   ],
   "source": [
    "# Obtain the configuration\n",
    "stage_config = reader.get_stage_config(\n",
    "    phase=PhaseDef.AGGREGATION, stage=AggregationStageDef.APP\n",
    ")\n",
    "\n",
    "# Build and run Data Ingestion Stage\n",
    "stage = AggregationStage.build(stage_config=stage_config, force=FORCE)\n",
    "asset_id = stage.run()"
   ]
  },
  {
   "cell_type": "markdown",
   "metadata": {},
   "source": [
    "### Category Aggregation Pipeline"
   ]
  },
  {
   "cell_type": "code",
   "execution_count": 9,
   "metadata": {},
   "outputs": [
    {
     "name": "stdout",
     "output_type": "stream",
     "text": [
      "\n",
      "\n",
      "# ============================================================================== #\n",
      "#                           Category Aggregation Stage                           #\n",
      "# ============================================================================== #\n",
      "\n",
      "\n",
      "\n",
      "                           Category Aggregation Stage                           \n",
      "                           ==========================                           \n",
      "                           Stage Started | Fri, 08 Nov 2024 11:57:02\n",
      "                         Stage Completed | Fri, 08 Nov 2024 11:57:02\n",
      "                           Stage Runtime | 0.0 seconds\n",
      "                           Cached Result | True\n",
      "\n",
      "\n",
      "# ============================================================================ #\n",
      "\n"
     ]
    }
   ],
   "source": [
    "# Obtain the configuration\n",
    "stage_config = reader.get_stage_config(\n",
    "    phase=PhaseDef.AGGREGATION, stage=AggregationStageDef.CATEGORY\n",
    ")\n",
    "\n",
    "# Build and run Data Ingestion Stage\n",
    "stage = AggregationStage.build(stage_config=stage_config, force=FORCE)\n",
    "asset_id = stage.run()"
   ]
  },
  {
   "cell_type": "markdown",
   "metadata": {},
   "source": [
    "## Enrichment Stage Wrap-Up\n",
    "The enrichment stage enhanced the dataset with critical features, including review metadata (such as length and age), sentiment analysis, text quality scores, and comprehensive app- and category-level aggregations. These enriched features set the stage for an informed and focused Exploratory Data Analysis (EDA). \n",
    "\n",
    "In the upcoming EDA phase, we will leverage these enriched attributes to uncover patterns, relationships, and trends that illuminate user behavior and app performance."
   ]
  }
 ],
 "metadata": {
  "kernelspec": {
   "display_name": "appvocai",
   "language": "python",
   "name": "python3"
  },
  "language_info": {
   "codemirror_mode": {
    "name": "ipython",
    "version": 3
   },
   "file_extension": ".py",
   "mimetype": "text/x-python",
   "name": "python",
   "nbconvert_exporter": "python",
   "pygments_lexer": "ipython3",
   "version": "3.10.15"
  }
 },
 "nbformat": 4,
 "nbformat_minor": 2
}
