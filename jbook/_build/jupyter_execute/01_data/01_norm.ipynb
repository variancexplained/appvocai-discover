{
 "cells": [
  {
   "cell_type": "code",
   "execution_count": 1,
   "metadata": {
    "tags": [
     "remove-cell"
    ]
   },
   "outputs": [],
   "source": [
    "import os\n",
    "if 'jbook' in os.getcwd():\n",
    "    os.chdir(os.path.abspath(os.path.join(\"../..\")))\n",
    "import warnings\n",
    "warnings.filterwarnings(\"ignore\")"
   ]
  },
  {
   "cell_type": "markdown",
   "metadata": {},
   "source": [
    "# Normalization\n",
    "\n",
    "To prepare the dataset for analysis, normalization preprocessing is performed. This involves standardizing data types, ensuring consistent encoding, and removing new lines from text. These steps help resolve technical anomalies and streamline subsequent data processing and analysis."
   ]
  },
  {
   "cell_type": "code",
   "execution_count": 2,
   "metadata": {},
   "outputs": [
    {
     "ename": "ModuleNotFoundError",
     "evalue": "No module named 'appvocai-discover.data'",
     "output_type": "error",
     "traceback": [
      "\u001b[0;31m---------------------------------------------------------------------------\u001b[0m",
      "\u001b[0;31mModuleNotFoundError\u001b[0m                       Traceback (most recent call last)",
      "Cell \u001b[0;32mIn[2], line 1\u001b[0m\n\u001b[0;32m----> 1\u001b[0m \u001b[38;5;28;01mfrom\u001b[39;00m \u001b[38;5;21;01mappvocai-discover\u001b[39;00m\u001b[38;5;21;01m.\u001b[39;00m\u001b[38;5;21;01mdata\u001b[39;00m\u001b[38;5;21;01m.\u001b[39;00m\u001b[38;5;21;01mprep\u001b[39;00m\u001b[38;5;21;01m.\u001b[39;00m\u001b[38;5;21;01mnormalize\u001b[39;00m \u001b[38;5;28;01mimport\u001b[39;00m StageConfig, Stage\n",
      "\u001b[0;31mModuleNotFoundError\u001b[0m: No module named 'appvocai-discover.data'"
     ]
    }
   ],
   "source": [
    "from appvocai-discover.data.prep.normalize import StageConfig, Stage"
   ]
  },
  {
   "cell_type": "markdown",
   "metadata": {},
   "source": [
    "To implement the normalization preprocessing described above, the following code snippet is utilized. It initializes the normalization configuration, executes the normalization process, and then displays information about the resulting dataset using the `info()` function."
   ]
  },
  {
   "cell_type": "code",
   "execution_count": 2,
   "metadata": {},
   "outputs": [
    {
     "name": "stdout",
     "output_type": "stream",
     "text": [
      "<class 'pandas.core.frame.DataFrame'>\n",
      "Index: 18306 entries, 15906283 to 4\n",
      "Data columns (total 13 columns):\n",
      " #   Column         Non-Null Count  Dtype         \n",
      "---  ------         --------------  -----         \n",
      " 0   id             18306 non-null  string        \n",
      " 1   app_id         18306 non-null  string        \n",
      " 2   app_name       18306 non-null  string        \n",
      " 3   category_id    18306 non-null  category      \n",
      " 4   category       18306 non-null  category      \n",
      " 5   author         18301 non-null  string        \n",
      " 6   rating         18306 non-null  int64         \n",
      " 7   title          18306 non-null  string        \n",
      " 8   content        18306 non-null  string        \n",
      " 9   vote_sum       18306 non-null  int64         \n",
      " 10  vote_count     18306 non-null  int64         \n",
      " 11  date           18306 non-null  datetime64[ms]\n",
      " 12  eda_review_length  18306 non-null  int64         \n",
      "dtypes: category(2), datetime64[ms](1), int64(4), string(6)\n",
      "memory usage: 1.7 MB\n"
     ]
    }
   ],
   "source": [
    "config = StageConfig(force=False)\n",
    "norm = Stage(config=config)\n",
    "data = norm.execute()\n",
    "data.info()"
   ]
  },
  {
   "cell_type": "markdown",
   "metadata": {},
   "source": [
    "The code snippet successfully casts data types to their appropriate formats, ensuring consistency and accuracy throughout the DataFrame."
   ]
  }
 ],
 "metadata": {
  "kernelspec": {
   "display_name": "appvocai-discover",
   "language": "python",
   "name": "python3"
  },
  "language_info": {
   "codemirror_mode": {
    "name": "ipython",
    "version": 3
   },
   "file_extension": ".py",
   "mimetype": "text/x-python",
   "name": "python",
   "nbconvert_exporter": "python",
   "pygments_lexer": "ipython3",
   "version": "3.10.14"
  }
 },
 "nbformat": 4,
 "nbformat_minor": 2
}