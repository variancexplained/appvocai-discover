{
    "cells": [
        {
            "cell_type": "markdown",
            "metadata": {},
            "source": [
                "# Introduction\n",
                "\n",
                "> \"Because we offer nearly two million apps — and we want you to feel good about using every single one of them.\" - Apple\n",
                "\n",
                "In 1983, Steve Jobs envisioned a future where consumers could seamlessly purchase and download software directly from their computers. Fast forward 25 years to 2008, Apple launched the App Store, realizing Jobs' vision and revolutionizing the way we interact with technology. Following the success of the iTunes digital music store, the Apple App Store became one of the world's first commercially successful mobile app marketplaces, and today, it stands as a digital leviathan. As of May 29, 2024, the App Store boasts a staggering 1,928,363 apps available for download, catering to over 1.3 billion iOS users worldwide.\n",
                "\n",
                "And, amidst this flourishing ecosystem, understanding how users *actually* feel about the apps they download and use every day, remains crucial. It's incontestable. Ratings and reviews play a pivotal role in App Store Optimization (ASO) and app discoverability, which can be the difference between app success and failure. Yet, the dearth of large-scale customer rating and review datasets for in-depth analysis is astounding. \n",
                "\n",
                "Disaffected by the scarcity of comprehensive App Store review datasets, an undertaking was begun to construct a collection of app reviews that would serve as a laboratory where the frontier of generative methods, text synthesis, graph neural networks, next-gen NLP solutions, advanced integration technologies, and other innovative methods can be explored, stretched, taxed and charged with revealing the nuances and contours of the customer experience, to uncover the latent, and perhaps undistinguished emergent market need with AI.\n",
                "\n",
                "Introducing the AppVoC (Voice of the Customer) dataset — a collection of iOS app reviews, believed to be one of the largest collections of Apple iOS user review datasets available, second only to that of the App Store itself.\n",
                "\n",
                "## Key Features of AppVoC Dataset\n",
                "\n",
                "- **Scale**: The dataset includes approximately 18 million reviews, making it one of the most extensive collections of app store reviews publicly available.\n",
                "- **User Base**: It covers 13 million unique users, reflecting a vast and diverse range of perspectives.\n",
                "- **App Diversity**: The dataset includes reviews for for some 34,000 unique apps showcasing the broad spectrum of app interests and needs.\n",
                "- **Category Coverage**: The dataset spans ten of the most popular app categories, illuminating the diverse interests and needs of mobile users.\n",
                "- **Voice-on-Voice**: The dataset captures how users engage and value the sentiments and opinions of other users. The number and value of user votes on reviews opens up new avenues allowing researchers and analysts to explore user engagement dynamics, identify influential reviews, and understand the collective sentiment of the user community towards specific apps. These insights can inform app developers, stakeholders, and decision-makers in optimizing app experiences, addressing user concerns, and driving user engagement and satisfaction.\n",
                "- **Temporal Coverage**: Spanning from 2008 to 2023, the dataset captures a wealth of user interactions and feedback over 15 years, providing a longitudinal view of app usage and user feedback trends. Timestamps illuminate the individual and collective progression of sentiment over time, motivating deeper exploration into the evolving dynamics of user engagement and feedback. By analyzing the temporal dimension of reviews, researchers and analysts can uncover trends, patterns, and fluctuations in user sentiment, shedding light on the factors influencing app popularity, user satisfaction, and overall app ecosystem dynamics. This temporal lens not only provides valuable insights into past user behavior but also enables predictive analysis and forecasting, empowering stakeholders to anticipate trends, mitigate risks, and capitalize on emerging opportunities in the ever-evolving app landscape.\n",
                "- **Rich Metadata**: Each review is accompanied by metadata such as app name, category, rating, vote count, and timestamp, enabling multifaceted analysis.\n",
                "\n",
                "## Major Statistics of the AppVoC Dataset\n",
                "With an overview of the AppVoC dataset established, let's delve into the major statistics that define its scope and depth. This section provides a detailed summary of key metrics, including the number of reviews, users, apps, and categories, and a breakdown of reviews by category."
            ]
        },
        {
            "cell_type": "code",
            "execution_count": 1,
            "metadata": {
                "tags": [
                    "remove-cell"
                ]
            },
            "outputs": [],
            "source": [
                "import os\n",
                "if 'jbook' in os.getcwd():\n",
                "    os.chdir(os.path.abspath(os.path.join(\"../..\")))\n",
                "import warnings\n",
                "warnings.filterwarnings(\"ignore\")"
            ]
        },
        {
            "cell_type": "code",
            "execution_count": 2,
            "metadata": {},
            "outputs": [],
            "source": [
                "from appvocai-genailabslm.app.overview import DatasetOverview\n",
                "from appvocai-genailabslm.utils.repo import ReviewRepo"
            ]
        },
        {
            "cell_type": "code",
            "execution_count": 3,
            "metadata": {},
            "outputs": [
                {
                    "ename": "FileNotFoundError",
                    "evalue": "[Errno 2] No such file or directory: 'data/prod/01_stagealized/reviews.pkl'",
                    "output_type": "error",
                    "traceback": [
                        "\u001b[0;31m---------------------------------------------------------------------------\u001b[0m",
                        "\u001b[0;31mFileNotFoundError\u001b[0m                         Traceback (most recent call last)",
                        "Cell \u001b[0;32mIn[3], line 2\u001b[0m\n\u001b[1;32m      1\u001b[0m review_repo \u001b[38;5;241m=\u001b[39m ReviewRepo()\n\u001b[0;32m----> 2\u001b[0m df \u001b[38;5;241m=\u001b[39m \u001b[43mreview_repo\u001b[49m\u001b[38;5;241;43m.\u001b[39;49m\u001b[43mread\u001b[49m\u001b[43m(\u001b[49m\u001b[43mdirectory\u001b[49m\u001b[38;5;241;43m=\u001b[39;49m\u001b[38;5;124;43m\"\u001b[39;49m\u001b[38;5;124;43m01_stagealized\u001b[39;49m\u001b[38;5;124;43m\"\u001b[39;49m\u001b[43m,\u001b[49m\u001b[43mfilename\u001b[49m\u001b[38;5;241;43m=\u001b[39;49m\u001b[38;5;124;43m\"\u001b[39;49m\u001b[38;5;124;43mreviews.pkl\u001b[39;49m\u001b[38;5;124;43m\"\u001b[39;49m\u001b[43m)\u001b[49m\n\u001b[1;32m      3\u001b[0m ov \u001b[38;5;241m=\u001b[39m DatasetOverview(data\u001b[38;5;241m=\u001b[39mdf)\n\u001b[1;32m      4\u001b[0m ov\u001b[38;5;241m.\u001b[39moverview\n",
                        "File \u001b[0;32m~/projects/genai-lab-slm/genai-lab-slm/utils/repo.py:84\u001b[0m, in \u001b[0;36mReviewRepo.read\u001b[0;34m(self, directory, filename)\u001b[0m\n\u001b[1;32m     82\u001b[0m \u001b[38;5;250m\u001b[39m\u001b[38;5;124;03m\"\"\"Reads data so designated.\"\"\"\u001b[39;00m\n\u001b[1;32m     83\u001b[0m filepath \u001b[38;5;241m=\u001b[39m \u001b[38;5;28mself\u001b[39m\u001b[38;5;241m.\u001b[39mget_filepath(directory\u001b[38;5;241m=\u001b[39mdirectory, filename\u001b[38;5;241m=\u001b[39mfilename)\n\u001b[0;32m---> 84\u001b[0m \u001b[38;5;28;01mreturn\u001b[39;00m \u001b[38;5;28;43mself\u001b[39;49m\u001b[38;5;241;43m.\u001b[39;49m\u001b[43mio\u001b[49m\u001b[38;5;241;43m.\u001b[39;49m\u001b[43mread\u001b[49m\u001b[43m(\u001b[49m\u001b[43mfilepath\u001b[49m\u001b[38;5;241;43m=\u001b[39;49m\u001b[43mfilepath\u001b[49m\u001b[43m)\u001b[49m\n",
                        "File \u001b[0;32m~/projects/genai-lab-slm/genai-lab-slm/utils/file.py:360\u001b[0m, in \u001b[0;36mIOService.read\u001b[0;34m(cls, filepath, **kwargs)\u001b[0m\n\u001b[1;32m    357\u001b[0m \u001b[38;5;129m@classmethod\u001b[39m\n\u001b[1;32m    358\u001b[0m \u001b[38;5;28;01mdef\u001b[39;00m \u001b[38;5;21mread\u001b[39m(\u001b[38;5;28mcls\u001b[39m, filepath: \u001b[38;5;28mstr\u001b[39m, \u001b[38;5;241m*\u001b[39m\u001b[38;5;241m*\u001b[39mkwargs) \u001b[38;5;241m-\u001b[39m\u001b[38;5;241m>\u001b[39m Any:\n\u001b[1;32m    359\u001b[0m     io \u001b[38;5;241m=\u001b[39m \u001b[38;5;28mcls\u001b[39m\u001b[38;5;241m.\u001b[39m_get_io(filepath)\n\u001b[0;32m--> 360\u001b[0m     \u001b[38;5;28;01mreturn\u001b[39;00m \u001b[43mio\u001b[49m\u001b[38;5;241;43m.\u001b[39;49m\u001b[43mread\u001b[49m\u001b[43m(\u001b[49m\u001b[43mfilepath\u001b[49m\u001b[43m,\u001b[49m\u001b[43m \u001b[49m\u001b[38;5;241;43m*\u001b[39;49m\u001b[38;5;241;43m*\u001b[39;49m\u001b[43mkwargs\u001b[49m\u001b[43m)\u001b[49m\n",
                        "File \u001b[0;32m~/projects/genai-lab-slm/genai-lab-slm/utils/file.py:43\u001b[0m, in \u001b[0;36mIO.read\u001b[0;34m(cls, filepath, *args, **kwargs)\u001b[0m\n\u001b[1;32m     41\u001b[0m \u001b[38;5;129m@classmethod\u001b[39m\n\u001b[1;32m     42\u001b[0m \u001b[38;5;28;01mdef\u001b[39;00m \u001b[38;5;21mread\u001b[39m(\u001b[38;5;28mcls\u001b[39m, filepath: \u001b[38;5;28mstr\u001b[39m, \u001b[38;5;241m*\u001b[39margs, \u001b[38;5;241m*\u001b[39m\u001b[38;5;241m*\u001b[39mkwargs) \u001b[38;5;241m-\u001b[39m\u001b[38;5;241m>\u001b[39m Any:\n\u001b[0;32m---> 43\u001b[0m     data \u001b[38;5;241m=\u001b[39m \u001b[38;5;28;43mcls\u001b[39;49m\u001b[38;5;241;43m.\u001b[39;49m\u001b[43m_read\u001b[49m\u001b[43m(\u001b[49m\u001b[43mfilepath\u001b[49m\u001b[43m,\u001b[49m\u001b[43m \u001b[49m\u001b[38;5;241;43m*\u001b[39;49m\u001b[38;5;241;43m*\u001b[39;49m\u001b[43mkwargs\u001b[49m\u001b[43m)\u001b[49m\n\u001b[1;32m     44\u001b[0m     \u001b[38;5;28;01mreturn\u001b[39;00m data\n",
                        "File \u001b[0;32m~/projects/genai-lab-slm/genai-lab-slm/utils/file.py:245\u001b[0m, in \u001b[0;36mPickleIO._read\u001b[0;34m(cls, filepath, **kwargs)\u001b[0m\n\u001b[1;32m    243\u001b[0m \u001b[38;5;129m@classmethod\u001b[39m\n\u001b[1;32m    244\u001b[0m \u001b[38;5;28;01mdef\u001b[39;00m \u001b[38;5;21m_read\u001b[39m(\u001b[38;5;28mcls\u001b[39m, filepath: \u001b[38;5;28mstr\u001b[39m, \u001b[38;5;241m*\u001b[39m\u001b[38;5;241m*\u001b[39mkwargs) \u001b[38;5;241m-\u001b[39m\u001b[38;5;241m>\u001b[39m Any:\n\u001b[0;32m--> 245\u001b[0m     \u001b[38;5;28;01mwith\u001b[39;00m \u001b[38;5;28;43mopen\u001b[39;49m\u001b[43m(\u001b[49m\u001b[43mfilepath\u001b[49m\u001b[43m,\u001b[49m\u001b[43m \u001b[49m\u001b[38;5;124;43m\"\u001b[39;49m\u001b[38;5;124;43mrb\u001b[39;49m\u001b[38;5;124;43m\"\u001b[39;49m\u001b[43m)\u001b[49m \u001b[38;5;28;01mas\u001b[39;00m f:\n\u001b[1;32m    246\u001b[0m         \u001b[38;5;28;01mtry\u001b[39;00m:\n\u001b[1;32m    247\u001b[0m             \u001b[38;5;28;01mreturn\u001b[39;00m pickle\u001b[38;5;241m.\u001b[39mload(f)\n",
                        "\u001b[0;31mFileNotFoundError\u001b[0m: [Errno 2] No such file or directory: 'data/prod/01_stagealized/reviews.pkl'"
                    ]
                }
            ],
            "source": [
                "review_repo = ReviewRepo()\n",
                "df = review_repo.read(directory=\"01_stagealized\",filename=\"reviews.pkl\")\n",
                "ov = DatasetOverview(data=df)\n",
                "ov.overview"
            ]
        },
        {
            "cell_type": "markdown",
            "metadata": {},
            "source": [
                "The table below provides a breakdown of the review distribution across various app categories, highlighting the count and percentage of reviews each category has received within the full dataset. "
            ]
        },
        {
            "cell_type": "code",
            "execution_count": 4,
            "metadata": {},
            "outputs": [
                {
                    "data": {
                        "text/html": [
                            "<style type=\"text/css\">\n",
                            "</style>\n",
                            "<table id=\"T_872ec\">\n",
                            "  <thead>\n",
                            "    <tr>\n",
                            "      <th class=\"blank level0\" >&nbsp;</th>\n",
                            "      <th id=\"T_872ec_level0_col0\" class=\"col_heading level0 col0\" >category</th>\n",
                            "      <th id=\"T_872ec_level0_col1\" class=\"col_heading level0 col1\" >Count</th>\n",
                            "      <th id=\"T_872ec_level0_col2\" class=\"col_heading level0 col2\" >Percent</th>\n",
                            "    </tr>\n",
                            "  </thead>\n",
                            "  <tbody>\n",
                            "    <tr>\n",
                            "      <th id=\"T_872ec_level0_row0\" class=\"row_heading level0 row0\" >0</th>\n",
                            "      <td id=\"T_872ec_row0_col0\" class=\"data row0 col0\" >Book</td>\n",
                            "      <td id=\"T_872ec_row0_col1\" class=\"data row0 col1\" >796</td>\n",
                            "      <td id=\"T_872ec_row0_col2\" class=\"data row0 col2\" >4.35</td>\n",
                            "    </tr>\n",
                            "    <tr>\n",
                            "      <th id=\"T_872ec_level0_row1\" class=\"row_heading level0 row1\" >1</th>\n",
                            "      <td id=\"T_872ec_row1_col0\" class=\"data row1 col0\" >Business</td>\n",
                            "      <td id=\"T_872ec_row1_col1\" class=\"data row1 col1\" >1,418</td>\n",
                            "      <td id=\"T_872ec_row1_col2\" class=\"data row1 col2\" >7.75</td>\n",
                            "    </tr>\n",
                            "    <tr>\n",
                            "      <th id=\"T_872ec_level0_row2\" class=\"row_heading level0 row2\" >2</th>\n",
                            "      <td id=\"T_872ec_row2_col0\" class=\"data row2 col0\" >Education</td>\n",
                            "      <td id=\"T_872ec_row2_col1\" class=\"data row2 col1\" >1,126</td>\n",
                            "      <td id=\"T_872ec_row2_col2\" class=\"data row2 col2\" >6.15</td>\n",
                            "    </tr>\n",
                            "    <tr>\n",
                            "      <th id=\"T_872ec_level0_row3\" class=\"row_heading level0 row3\" >3</th>\n",
                            "      <td id=\"T_872ec_row3_col0\" class=\"data row3 col0\" >Entertainment</td>\n",
                            "      <td id=\"T_872ec_row3_col1\" class=\"data row3 col1\" >2,004</td>\n",
                            "      <td id=\"T_872ec_row3_col2\" class=\"data row3 col2\" >10.95</td>\n",
                            "    </tr>\n",
                            "    <tr>\n",
                            "      <th id=\"T_872ec_level0_row4\" class=\"row_heading level0 row4\" >4</th>\n",
                            "      <td id=\"T_872ec_row4_col0\" class=\"data row4 col0\" >Health & Fitness</td>\n",
                            "      <td id=\"T_872ec_row4_col1\" class=\"data row4 col1\" >4,009</td>\n",
                            "      <td id=\"T_872ec_row4_col2\" class=\"data row4 col2\" >21.90</td>\n",
                            "    </tr>\n",
                            "    <tr>\n",
                            "      <th id=\"T_872ec_level0_row5\" class=\"row_heading level0 row5\" >5</th>\n",
                            "      <td id=\"T_872ec_row5_col0\" class=\"data row5 col0\" >Lifestyle</td>\n",
                            "      <td id=\"T_872ec_row5_col1\" class=\"data row5 col1\" >1,726</td>\n",
                            "      <td id=\"T_872ec_row5_col2\" class=\"data row5 col2\" >9.43</td>\n",
                            "    </tr>\n",
                            "    <tr>\n",
                            "      <th id=\"T_872ec_level0_row6\" class=\"row_heading level0 row6\" >6</th>\n",
                            "      <td id=\"T_872ec_row6_col0\" class=\"data row6 col0\" >Medical</td>\n",
                            "      <td id=\"T_872ec_row6_col1\" class=\"data row6 col1\" >662</td>\n",
                            "      <td id=\"T_872ec_row6_col2\" class=\"data row6 col2\" >3.62</td>\n",
                            "    </tr>\n",
                            "    <tr>\n",
                            "      <th id=\"T_872ec_level0_row7\" class=\"row_heading level0 row7\" >7</th>\n",
                            "      <td id=\"T_872ec_row7_col0\" class=\"data row7 col0\" >Productivity</td>\n",
                            "      <td id=\"T_872ec_row7_col1\" class=\"data row7 col1\" >794</td>\n",
                            "      <td id=\"T_872ec_row7_col2\" class=\"data row7 col2\" >4.34</td>\n",
                            "    </tr>\n",
                            "    <tr>\n",
                            "      <th id=\"T_872ec_level0_row8\" class=\"row_heading level0 row8\" >8</th>\n",
                            "      <td id=\"T_872ec_row8_col0\" class=\"data row8 col0\" >Social Networking</td>\n",
                            "      <td id=\"T_872ec_row8_col1\" class=\"data row8 col1\" >2,699</td>\n",
                            "      <td id=\"T_872ec_row8_col2\" class=\"data row8 col2\" >14.74</td>\n",
                            "    </tr>\n",
                            "    <tr>\n",
                            "      <th id=\"T_872ec_level0_row9\" class=\"row_heading level0 row9\" >9</th>\n",
                            "      <td id=\"T_872ec_row9_col0\" class=\"data row9 col0\" >Utilities</td>\n",
                            "      <td id=\"T_872ec_row9_col1\" class=\"data row9 col1\" >3,072</td>\n",
                            "      <td id=\"T_872ec_row9_col2\" class=\"data row9 col2\" >16.78</td>\n",
                            "    </tr>\n",
                            "  </tbody>\n",
                            "</table>\n"
                        ],
                        "text/plain": [
                            "<pandas.io.formats.style.Styler at 0x7fb010868be0>"
                        ]
                    },
                    "execution_count": 4,
                    "metadata": {},
                    "output_type": "execute_result"
                }
            ],
            "source": [
                "ov.summary"
            ]
        },
        {
            "cell_type": "markdown",
            "metadata": {},
            "source": [
                "## AppVoC Dataset Variables\n",
                "The dataset contains 13 variables, offering a multifaceted view of user interactions and app attributes. \n",
                "\n",
                "- **id**: Unique identifier for each review.\n",
                "- **app_id**: Unique identifier for the app being reviewed.\n",
                "- **app_name**: Name of the mobile application being reviewed.\n",
                "- **category_id**: Four-digit identifier representing the category or genre of the app.\n",
                "- **category**: Category or genre name of the app.\n",
                "- **author**: Name or identifier of the reviewer.\n",
                "- **rating**: Numeric rating provided by the author for the app.\n",
                "- **title**: Title of the review.\n",
                "- **content**: Detailed content of the review provided by the author.\n",
                "- **eda_review_length**: Length of the review in words.\n",
                "- **vote_sum**: Total sum of votes on the usefulness of the rating.\n",
                "- **vote_count**: Number of votes on the usefulness of the rating.\n",
                "- **date**: Date when the review was written.\n",
                "\n",
                "These variables collectively evince the mobile app user experience and provide a basis for analyzing user feedback and extracting actionable intelligence about areas for improvement, feature requests, unmet needs, and user preferences."
            ]
        },
        {
            "cell_type": "markdown",
            "metadata": {},
            "source": [
                "## AppVOC Preprocessing\n",
                "\n",
                "In advance of the exploratory and interactive analyses,  our aim for the next few sections is to ensure that the text data are clean, structured, and ready for in-depth examination and modeling. With that, our six-stage data preprocessing effort will unfold as follows:\n",
                "\n",
                "1. **Data Normalization**: Standardize data types and encoding to resolve technical anomalies before further processing and analysis.\n",
                "2. **Data Quality Analysis**: Identify and rectify noise within the dataset, including profanity, excessive special characters, and identifiable patterns like emails and URLs.\n",
                "3. **Cleaning**: Purge biased or distorted observations detected during the data quality analysis, ensuring data integrity.\n",
                "4. **Feature Engineering**: Enhance data by transforming date fields into informative features such as month, day of the week, and day of the month. Additionally, anonymize author information to uphold privacy.\n",
                "5. **Text Preprocessing**: Optimize textual data for downstream tasks such as word cloud generation and topic modeling, utilizing techniques like tokenization and stemming.\n",
                "6. **Metrics**: Establish an Analytics Precomputation Layer (APL) to calculate aggregate statistical summaries, facilitating swift query responses and cost-effective analytics.\n",
                "\n",
                "These next steps will ensure that the dataset is clean, consistent, and well-structured for exploratory data analysis. Next up? Data quality analysis."
            ]
        }
    ],
    "metadata": {
        "kernelspec": {
            "display_name": "genai-lab-slm",
            "language": "python",
            "name": "python3"
        },
        "language_info": {
            "codemirror_mode": {
                "name": "ipython",
                "version": 3
            },
            "file_extension": ".py",
            "mimetype": "text/x-python",
            "name": "python",
            "nbconvert_exporter": "python",
            "pygments_lexer": "ipython3",
            "version": "3.10.14"
        }
    },
    "nbformat": 4,
    "nbformat_minor": 2
}