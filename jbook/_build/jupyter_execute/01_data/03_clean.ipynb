{
 "cells": [
  {
   "cell_type": "code",
   "execution_count": 1,
   "metadata": {
    "tags": [
     "remove-cell"
    ]
   },
   "outputs": [],
   "source": [
    "import os\n",
    "if 'jbook' in os.getcwd():\n",
    "    os.chdir(os.path.abspath(os.path.join(\"../..\")))\n",
    "import warnings\n",
    "warnings.filterwarnings(\"ignore\")"
   ]
  },
  {
   "cell_type": "markdown",
   "metadata": {},
   "source": [
    "# Cleaning\n",
    "\n",
    "This stage involves systematically addressing anomalies identified during the data quality assessment, which is essential for reliable and valid downstream analysis.\n",
    "\n",
    "## Approach to Addressing Anomalies\n",
    "\n",
    "During the data quality assessment, we identified various anomalies within the dataset. Each anomaly was then evaluated to estimate its potential impact on the subsequent analysis. This evaluation process categorized anomalies into four distinct levels of criticality:\n",
    "\n",
    "1. **Critical**: These anomalies have a significant impact on the integrity and reliability of the data. If left unaddressed, they could severely distort the results of any analysis. Examples include duplicate records, non-English text (if the analysis is language-specific), and invalid ratings.\n",
    "\n",
    "2. **High**: High impact anomalies also pose a substantial threat to the validity of the analysis but are slightly less severe than critical issues. These include records with excessive special characters, profanity, and privacy-related issues such as email addresses or phone numbers embedded in the text.\n",
    "\n",
    "3. **Medium**: Medium impact anomalies have a moderate effect on the analysis. While they do not necessarily distort results as severely as critical or high issues, they can still introduce noise and reduce the overall quality of insights. Examples include outliers in vote sums and vote counts, and unusually long reviews.\n",
    "\n",
    "4. **Low**: Low impact anomalies are considered minor issues that have minimal impact on the overall analysis. These include the presence of emojis and URLs in the text, which typically do not affect the analytical outcome significantly.\n",
    "\n",
    "## Removal Criteria\n",
    "\n",
    "Based on the criticality assessment, a systematic approach was adopted to handle these anomalies:\n",
    "\n",
    "- **Critical and High Impact Issues**: Observations containing anomalies classified as critical or high impact were earmarked for removal. The rationale behind this strict approach is to eliminate any potential distortions in the analysis that could arise from these severe issues. By removing these observations, we ensure that the dataset maintains a high level of integrity and reliability.\n",
    "\n",
    "- **Medium and Low Impact Issues**: Anomalies classified as medium or low impact were not grounds for removal of the observations. Instead, these issues were retained in the dataset to preserve as much data as possible while accepting a tolerable level of noise. This approach balances the need for data quality with the necessity of maintaining a sufficient volume of data for robust analysis.\n",
    "\n",
    "By following this structured and systematic approach to data cleaning, we ensure that the dataset is prepared to a high standard of quality, ready for accurate and reliable downstream analysis. This preparation phase is fundamental to the success of any data-driven project."
   ]
  },
  {
   "cell_type": "code",
   "execution_count": 2,
   "metadata": {},
   "outputs": [
    {
     "ename": "ModuleNotFoundError",
     "evalue": "No module named 'appvocai-discover.data'",
     "output_type": "error",
     "traceback": [
      "\u001b[0;31m---------------------------------------------------------------------------\u001b[0m",
      "\u001b[0;31mModuleNotFoundError\u001b[0m                       Traceback (most recent call last)",
      "Cell \u001b[0;32mIn[2], line 1\u001b[0m\n\u001b[0;32m----> 1\u001b[0m \u001b[38;5;28;01mfrom\u001b[39;00m \u001b[38;5;21;01mappvocai-discover\u001b[39;00m\u001b[38;5;21;01m.\u001b[39;00m\u001b[38;5;21;01mdata\u001b[39;00m\u001b[38;5;21;01m.\u001b[39;00m\u001b[38;5;21;01mprep\u001b[39;00m\u001b[38;5;21;01m.\u001b[39;00m\u001b[38;5;21;01mclean\u001b[39;00m \u001b[38;5;28;01mimport\u001b[39;00m DataCleaner, CleanConfig\n\u001b[1;32m      2\u001b[0m \u001b[38;5;28;01mfrom\u001b[39;00m \u001b[38;5;21;01mappvocai-discover\u001b[39;00m\u001b[38;5;21;01m.\u001b[39;00m\u001b[38;5;21;01manalysis\u001b[39;00m\u001b[38;5;21;01m.\u001b[39;00m\u001b[38;5;21;01mdqa\u001b[39;00m \u001b[38;5;28;01mimport\u001b[39;00m DataQualityAnalysisConfig, DataQualityAnalysis\n",
      "\u001b[0;31mModuleNotFoundError\u001b[0m: No module named 'appvocai-discover.data'"
     ]
    }
   ],
   "source": [
    "from appvocai-discover.data.prep.clean import DataCleaner, CleanConfig\n",
    "from appvocai-discover.analysis.dqa import DataQualityAnalysisConfig, DataQualityAnalysis"
   ]
  },
  {
   "cell_type": "markdown",
   "metadata": {},
   "source": [
    "## Configuration\n",
    "A configuration object was created to map each identified anomaly to its corresponding impact level. This configuration facilitated an organized and consistent approach to anomaly handling."
   ]
  },
  {
   "cell_type": "code",
   "execution_count": 2,
   "metadata": {},
   "outputs": [
    {
     "data": {
      "text/html": [
       "<div>\n",
       "<style scoped>\n",
       "    .dataframe tbody tr th:only-of-type {\n",
       "        vertical-align: middle;\n",
       "    }\n",
       "\n",
       "    .dataframe tbody tr th {\n",
       "        vertical-align: top;\n",
       "    }\n",
       "\n",
       "    .dataframe thead th {\n",
       "        text-align: right;\n",
       "    }\n",
       "</style>\n",
       "<table border=\"1\" class=\"dataframe\">\n",
       "  <thead>\n",
       "    <tr style=\"text-align: right;\">\n",
       "      <th></th>\n",
       "      <th>Issue</th>\n",
       "      <th>Characteristic</th>\n",
       "      <th>Impact</th>\n",
       "    </tr>\n",
       "  </thead>\n",
       "  <tbody>\n",
       "    <tr>\n",
       "      <th>0</th>\n",
       "      <td>dqa_is_duplicate</td>\n",
       "      <td>Duplicate Values</td>\n",
       "      <td>Critical</td>\n",
       "    </tr>\n",
       "    <tr>\n",
       "      <th>1</th>\n",
       "      <td>dqa_is_duplicate_rating_id</td>\n",
       "      <td>Duplicate IDs</td>\n",
       "      <td>Critical</td>\n",
       "    </tr>\n",
       "    <tr>\n",
       "      <th>2</th>\n",
       "      <td>dqa_non_english</td>\n",
       "      <td>Non-English Reviews</td>\n",
       "      <td>Critical</td>\n",
       "    </tr>\n",
       "    <tr>\n",
       "      <th>3</th>\n",
       "      <td>dqa_rating_invalid</td>\n",
       "      <td>Invalid Ratings</td>\n",
       "      <td>Critical</td>\n",
       "    </tr>\n",
       "    <tr>\n",
       "      <th>4</th>\n",
       "      <td>dqa_has_null</td>\n",
       "      <td>Null Values</td>\n",
       "      <td>High</td>\n",
       "    </tr>\n",
       "    <tr>\n",
       "      <th>5</th>\n",
       "      <td>dqa_has_excessive_special_chars</td>\n",
       "      <td>Excessive Special Characters</td>\n",
       "      <td>High</td>\n",
       "    </tr>\n",
       "    <tr>\n",
       "      <th>6</th>\n",
       "      <td>dqa_date_invalid</td>\n",
       "      <td>Invalid Dates</td>\n",
       "      <td>High</td>\n",
       "    </tr>\n",
       "    <tr>\n",
       "      <th>7</th>\n",
       "      <td>dqa_has_profanity</td>\n",
       "      <td>Profanity</td>\n",
       "      <td>High</td>\n",
       "    </tr>\n",
       "    <tr>\n",
       "      <th>8</th>\n",
       "      <td>dqa_contains_email</td>\n",
       "      <td>Contains Email Address(es)</td>\n",
       "      <td>High</td>\n",
       "    </tr>\n",
       "    <tr>\n",
       "      <th>9</th>\n",
       "      <td>dqa_contains_phone_number</td>\n",
       "      <td>Contains Phone Number(s)</td>\n",
       "      <td>High</td>\n",
       "    </tr>\n",
       "    <tr>\n",
       "      <th>10</th>\n",
       "      <td>dqa_has_emoji</td>\n",
       "      <td>Emojis</td>\n",
       "      <td>Low</td>\n",
       "    </tr>\n",
       "    <tr>\n",
       "      <th>11</th>\n",
       "      <td>dqa_contains_url</td>\n",
       "      <td>Contains URL(s)</td>\n",
       "      <td>Low</td>\n",
       "    </tr>\n",
       "    <tr>\n",
       "      <th>12</th>\n",
       "      <td>dqa_vote_sum_outlier</td>\n",
       "      <td>Contains Vote Sum Outliers</td>\n",
       "      <td>Medium</td>\n",
       "    </tr>\n",
       "    <tr>\n",
       "      <th>13</th>\n",
       "      <td>dqa_vote_count_outlier</td>\n",
       "      <td>Contains Vote Count Outliers</td>\n",
       "      <td>Medium</td>\n",
       "    </tr>\n",
       "    <tr>\n",
       "      <th>14</th>\n",
       "      <td>dqa_review_length_outlier</td>\n",
       "      <td>Contains Review Length Outliers</td>\n",
       "      <td>Medium</td>\n",
       "    </tr>\n",
       "  </tbody>\n",
       "</table>\n",
       "</div>"
      ],
      "text/plain": [
       "                              Issue                   Characteristic    Impact\n",
       "0                  dqa_is_duplicate                 Duplicate Values  Critical\n",
       "1        dqa_is_duplicate_rating_id                    Duplicate IDs  Critical\n",
       "2                   dqa_non_english              Non-English Reviews  Critical\n",
       "3                dqa_rating_invalid                  Invalid Ratings  Critical\n",
       "4                      dqa_has_null                      Null Values      High\n",
       "5   dqa_has_excessive_special_chars     Excessive Special Characters      High\n",
       "6                  dqa_date_invalid                    Invalid Dates      High\n",
       "7                 dqa_has_profanity                        Profanity      High\n",
       "8                dqa_contains_email       Contains Email Address(es)      High\n",
       "9         dqa_contains_phone_number         Contains Phone Number(s)      High\n",
       "10                    dqa_has_emoji                           Emojis       Low\n",
       "11                 dqa_contains_url                  Contains URL(s)       Low\n",
       "12             dqa_vote_sum_outlier       Contains Vote Sum Outliers    Medium\n",
       "13           dqa_vote_count_outlier     Contains Vote Count Outliers    Medium\n",
       "14        dqa_review_length_outlier  Contains Review Length Outliers    Medium"
      ]
     },
     "execution_count": 2,
     "metadata": {},
     "output_type": "execute_result"
    }
   ],
   "source": [
    "config = CleanConfig(force=False)\n",
    "config.config"
   ]
  },
  {
   "cell_type": "markdown",
   "metadata": {},
   "source": [
    "## Execution\n",
    "The DataCleaner object encapsulates the data cleaning pipeline.  Observations flagged with critical or high impact anomalies were removed, while those with medium or low impact issues were retained. The process was designed to be transparent, with clear reporting of the number of observations removed and retained.\n"
   ]
  },
  {
   "cell_type": "code",
   "execution_count": 3,
   "metadata": {},
   "outputs": [
    {
     "name": "stdout",
     "output_type": "stream",
     "text": [
      "DataCleaner endpoint already exists. Returning prior results.\n"
     ]
    }
   ],
   "source": [
    "cleaner = DataCleaner(config=config)\n",
    "data_clean = cleaner.execute()"
   ]
  },
  {
   "cell_type": "markdown",
   "metadata": {},
   "source": [
    "With the data cleaning stage successfully completed, we have ensured that our dataset is free from critical and high-impact anomalies, thereby enhancing its integrity and reliability."
   ]
  },
  {
   "cell_type": "markdown",
   "metadata": {},
   "source": [
    "## Validation\n",
    "Let's verify that the critical and high impact issues have been addressed."
   ]
  },
  {
   "cell_type": "code",
   "execution_count": 4,
   "metadata": {},
   "outputs": [
    {
     "name": "stdout",
     "output_type": "stream",
     "text": [
      "DataQualityAnalysis endpoint already exists. Returning prior results.\n"
     ]
    },
    {
     "data": {
      "text/html": [
       "<div>\n",
       "<style scoped>\n",
       "    .dataframe tbody tr th:only-of-type {\n",
       "        vertical-align: middle;\n",
       "    }\n",
       "\n",
       "    .dataframe tbody tr th {\n",
       "        vertical-align: top;\n",
       "    }\n",
       "\n",
       "    .dataframe thead th {\n",
       "        text-align: right;\n",
       "    }\n",
       "</style>\n",
       "<table border=\"1\" class=\"dataframe\">\n",
       "  <thead>\n",
       "    <tr style=\"text-align: right;\">\n",
       "      <th></th>\n",
       "      <th>Characteristic</th>\n",
       "      <th>Impact</th>\n",
       "      <th>Count</th>\n",
       "      <th>Percent</th>\n",
       "    </tr>\n",
       "  </thead>\n",
       "  <tbody>\n",
       "    <tr>\n",
       "      <th>0</th>\n",
       "      <td>Duplicate Values</td>\n",
       "      <td>Critical</td>\n",
       "      <td>0</td>\n",
       "      <td>0.00</td>\n",
       "    </tr>\n",
       "    <tr>\n",
       "      <th>1</th>\n",
       "      <td>Duplicate IDs</td>\n",
       "      <td>Critical</td>\n",
       "      <td>0</td>\n",
       "      <td>0.00</td>\n",
       "    </tr>\n",
       "    <tr>\n",
       "      <th>3</th>\n",
       "      <td>Non-English Reviews</td>\n",
       "      <td>Critical</td>\n",
       "      <td>0</td>\n",
       "      <td>0.00</td>\n",
       "    </tr>\n",
       "    <tr>\n",
       "      <th>7</th>\n",
       "      <td>Invalid Ratings</td>\n",
       "      <td>Critical</td>\n",
       "      <td>0</td>\n",
       "      <td>0.00</td>\n",
       "    </tr>\n",
       "    <tr>\n",
       "      <th>2</th>\n",
       "      <td>Null Values</td>\n",
       "      <td>High</td>\n",
       "      <td>0</td>\n",
       "      <td>0.00</td>\n",
       "    </tr>\n",
       "    <tr>\n",
       "      <th>5</th>\n",
       "      <td>Excessive Special Characters</td>\n",
       "      <td>High</td>\n",
       "      <td>0</td>\n",
       "      <td>0.00</td>\n",
       "    </tr>\n",
       "    <tr>\n",
       "      <th>6</th>\n",
       "      <td>Invalid Dates</td>\n",
       "      <td>High</td>\n",
       "      <td>0</td>\n",
       "      <td>0.00</td>\n",
       "    </tr>\n",
       "    <tr>\n",
       "      <th>8</th>\n",
       "      <td>Profanity</td>\n",
       "      <td>High</td>\n",
       "      <td>0</td>\n",
       "      <td>0.00</td>\n",
       "    </tr>\n",
       "    <tr>\n",
       "      <th>9</th>\n",
       "      <td>Contains Email Address(es)</td>\n",
       "      <td>High</td>\n",
       "      <td>0</td>\n",
       "      <td>0.00</td>\n",
       "    </tr>\n",
       "    <tr>\n",
       "      <th>11</th>\n",
       "      <td>Contains Phone Number(s)</td>\n",
       "      <td>High</td>\n",
       "      <td>0</td>\n",
       "      <td>0.00</td>\n",
       "    </tr>\n",
       "    <tr>\n",
       "      <th>4</th>\n",
       "      <td>Emojis</td>\n",
       "      <td>Low</td>\n",
       "      <td>700</td>\n",
       "      <td>4.09</td>\n",
       "    </tr>\n",
       "    <tr>\n",
       "      <th>10</th>\n",
       "      <td>Contains URL(s)</td>\n",
       "      <td>Low</td>\n",
       "      <td>0</td>\n",
       "      <td>0.00</td>\n",
       "    </tr>\n",
       "    <tr>\n",
       "      <th>12</th>\n",
       "      <td>Contains Vote Count Outliers</td>\n",
       "      <td>Medium</td>\n",
       "      <td>942</td>\n",
       "      <td>5.51</td>\n",
       "    </tr>\n",
       "    <tr>\n",
       "      <th>13</th>\n",
       "      <td>Contains Vote Sum Outliers</td>\n",
       "      <td>Medium</td>\n",
       "      <td>718</td>\n",
       "      <td>4.20</td>\n",
       "    </tr>\n",
       "    <tr>\n",
       "      <th>14</th>\n",
       "      <td>Contains Review Length Outliers</td>\n",
       "      <td>Medium</td>\n",
       "      <td>1197</td>\n",
       "      <td>7.00</td>\n",
       "    </tr>\n",
       "  </tbody>\n",
       "</table>\n",
       "</div>"
      ],
      "text/plain": [
       "                     Characteristic    Impact  Count  Percent\n",
       "0                  Duplicate Values  Critical      0     0.00\n",
       "1                     Duplicate IDs  Critical      0     0.00\n",
       "3               Non-English Reviews  Critical      0     0.00\n",
       "7                   Invalid Ratings  Critical      0     0.00\n",
       "2                       Null Values      High      0     0.00\n",
       "5      Excessive Special Characters      High      0     0.00\n",
       "6                     Invalid Dates      High      0     0.00\n",
       "8                         Profanity      High      0     0.00\n",
       "9        Contains Email Address(es)      High      0     0.00\n",
       "11         Contains Phone Number(s)      High      0     0.00\n",
       "4                            Emojis       Low    700     4.09\n",
       "10                  Contains URL(s)       Low      0     0.00\n",
       "12     Contains Vote Count Outliers    Medium    942     5.51\n",
       "13       Contains Vote Sum Outliers    Medium    718     4.20\n",
       "14  Contains Review Length Outliers    Medium   1197     7.00"
      ]
     },
     "execution_count": 4,
     "metadata": {},
     "output_type": "execute_result"
    }
   ],
   "source": [
    "config = DataQualityAnalysisConfig()\n",
    "analyzer = DataQualityAnalysis(config=config)\n",
    "results = analyzer.execute()\n",
    "results"
   ]
  },
  {
   "cell_type": "markdown",
   "metadata": {},
   "source": [
    "The results show that the observations with critical and high impact issues have been removed from the dataset. Next, a spot of feature engineering."
   ]
  }
 ],
 "metadata": {
  "kernelspec": {
   "display_name": "appvocai-discover",
   "language": "python",
   "name": "python3"
  },
  "language_info": {
   "codemirror_mode": {
    "name": "ipython",
    "version": 3
   },
   "file_extension": ".py",
   "mimetype": "text/x-python",
   "name": "python",
   "nbconvert_exporter": "python",
   "pygments_lexer": "ipython3",
   "version": "3.10.14"
  }
 },
 "nbformat": 4,
 "nbformat_minor": 2
}