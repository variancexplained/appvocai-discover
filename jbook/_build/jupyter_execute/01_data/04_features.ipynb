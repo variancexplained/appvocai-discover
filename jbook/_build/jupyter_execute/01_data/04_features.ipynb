{
 "cells": [
  {
   "cell_type": "code",
   "execution_count": 1,
   "metadata": {
    "tags": [
     "remove-cell"
    ]
   },
   "outputs": [],
   "source": [
    "import os\n",
    "if 'jbook' in os.getcwd():\n",
    "    os.chdir(os.path.abspath(os.path.join(\"../..\")))\n",
    "import warnings\n",
    "warnings.filterwarnings(\"ignore\")"
   ]
  },
  {
   "cell_type": "markdown",
   "metadata": {},
   "source": [
    "# Feature Engineering\n",
    "\n",
    "Let's handle the two feature engineering tasks: anonymizing the review author and some date parsing for temporal analysis.\n",
    "\n",
    "1. Anonymizing Author with Blake2 Hashing Algorithm\n",
    "We will use the blake2b hashing function from the hashlib library to anonymize the author names.\n",
    "\n",
    "2. Parsing Dates for Temporal Analysis\n",
    "We will use the pandas library to parse dates into day of the week, month, and year."
   ]
  },
  {
   "cell_type": "code",
   "execution_count": 2,
   "metadata": {},
   "outputs": [
    {
     "ename": "ModuleNotFoundError",
     "evalue": "No module named 'appvocai-discover.data'",
     "output_type": "error",
     "traceback": [
      "\u001b[0;31m---------------------------------------------------------------------------\u001b[0m",
      "\u001b[0;31mModuleNotFoundError\u001b[0m                       Traceback (most recent call last)",
      "Cell \u001b[0;32mIn[2], line 1\u001b[0m\n\u001b[0;32m----> 1\u001b[0m \u001b[38;5;28;01mfrom\u001b[39;00m \u001b[38;5;21;01mappvocai-discover\u001b[39;00m\u001b[38;5;21;01m.\u001b[39;00m\u001b[38;5;21;01mdata\u001b[39;00m\u001b[38;5;21;01m.\u001b[39;00m\u001b[38;5;21;01mprep\u001b[39;00m\u001b[38;5;21;01m.\u001b[39;00m\u001b[38;5;21;01mfeature\u001b[39;00m \u001b[38;5;28;01mimport\u001b[39;00m FeatureEngineer, FeatureEngineeringConfig\n",
      "\u001b[0;31mModuleNotFoundError\u001b[0m: No module named 'appvocai-discover.data'"
     ]
    }
   ],
   "source": [
    "from appvocai-discover.data.prep.feature import FeatureEngineer, FeatureEngineeringConfig"
   ]
  },
  {
   "cell_type": "markdown",
   "metadata": {},
   "source": [
    " The following code snippet sets up and executes this process, which involves configuring the feature engineering parameters and applying the transformations to the dataset:"
   ]
  },
  {
   "cell_type": "code",
   "execution_count": 2,
   "metadata": {},
   "outputs": [],
   "source": [
    "config =  FeatureEngineeringConfig(force=False)\n",
    "features = FeatureEngineer(config=config)\n",
    "data_fe =features.execute()"
   ]
  },
  {
   "cell_type": "markdown",
   "metadata": {},
   "source": [
    "Let's review the results, subsetting on the key features."
   ]
  },
  {
   "cell_type": "code",
   "execution_count": 3,
   "metadata": {},
   "outputs": [
    {
     "data": {
      "text/html": [
       "<div>\n",
       "<style scoped>\n",
       "    .dataframe tbody tr th:only-of-type {\n",
       "        vertical-align: middle;\n",
       "    }\n",
       "\n",
       "    .dataframe tbody tr th {\n",
       "        vertical-align: top;\n",
       "    }\n",
       "\n",
       "    .dataframe thead th {\n",
       "        text-align: right;\n",
       "    }\n",
       "</style>\n",
       "<table border=\"1\" class=\"dataframe\">\n",
       "  <thead>\n",
       "    <tr style=\"text-align: right;\">\n",
       "      <th></th>\n",
       "      <th>id</th>\n",
       "      <th>app_name</th>\n",
       "      <th>category</th>\n",
       "      <th>author</th>\n",
       "      <th>year</th>\n",
       "      <th>month</th>\n",
       "      <th>day</th>\n",
       "      <th>year_month</th>\n",
       "      <th>ymd</th>\n",
       "    </tr>\n",
       "  </thead>\n",
       "  <tbody>\n",
       "    <tr>\n",
       "      <th>15906283</th>\n",
       "      <td>1160519484</td>\n",
       "      <td>Messenger</td>\n",
       "      <td>Social Networking</td>\n",
       "      <td>a3485c0ad91b83c2a966</td>\n",
       "      <td>2015</td>\n",
       "      <td>February</td>\n",
       "      <td>Saturday</td>\n",
       "      <td>2015-02</td>\n",
       "      <td>2015-02-28</td>\n",
       "    </tr>\n",
       "    <tr>\n",
       "      <th>8328248</th>\n",
       "      <td>9036129510</td>\n",
       "      <td>Reverse Health</td>\n",
       "      <td>Health &amp; Fitness</td>\n",
       "      <td>5b28931a5bc65792a7b8</td>\n",
       "      <td>2022</td>\n",
       "      <td>August</td>\n",
       "      <td>Wednesday</td>\n",
       "      <td>2022-08</td>\n",
       "      <td>2022-08-31</td>\n",
       "    </tr>\n",
       "    <tr>\n",
       "      <th>10123462</th>\n",
       "      <td>1685166136</td>\n",
       "      <td>Animation Desk® Draw &amp; Animate</td>\n",
       "      <td>Entertainment</td>\n",
       "      <td>66edc1765bb07328b9d4</td>\n",
       "      <td>2017</td>\n",
       "      <td>July</td>\n",
       "      <td>Sunday</td>\n",
       "      <td>2017-07</td>\n",
       "      <td>2017-07-16</td>\n",
       "    </tr>\n",
       "    <tr>\n",
       "      <th>5884575</th>\n",
       "      <td>6836055253</td>\n",
       "      <td>Replika - Virtual AI Companion</td>\n",
       "      <td>Health &amp; Fitness</td>\n",
       "      <td>9e88318918189b886c83</td>\n",
       "      <td>2021</td>\n",
       "      <td>January</td>\n",
       "      <td>Wednesday</td>\n",
       "      <td>2021-01</td>\n",
       "      <td>2021-01-06</td>\n",
       "    </tr>\n",
       "    <tr>\n",
       "      <th>16095366</th>\n",
       "      <td>445648636</td>\n",
       "      <td>Currents</td>\n",
       "      <td>Social Networking</td>\n",
       "      <td>09b586574a4c4d3e6259</td>\n",
       "      <td>2011</td>\n",
       "      <td>July</td>\n",
       "      <td>Tuesday</td>\n",
       "      <td>2011-07</td>\n",
       "      <td>2011-07-19</td>\n",
       "    </tr>\n",
       "  </tbody>\n",
       "</table>\n",
       "</div>"
      ],
      "text/plain": [
       "                  id                        app_name           category  \\\n",
       "15906283  1160519484                       Messenger  Social Networking   \n",
       "8328248   9036129510                  Reverse Health   Health & Fitness   \n",
       "10123462  1685166136  Animation Desk® Draw & Animate      Entertainment   \n",
       "5884575   6836055253  Replika - Virtual AI Companion   Health & Fitness   \n",
       "16095366   445648636                        Currents  Social Networking   \n",
       "\n",
       "                        author  year     month        day year_month  \\\n",
       "15906283  a3485c0ad91b83c2a966  2015  February   Saturday    2015-02   \n",
       "8328248   5b28931a5bc65792a7b8  2022    August  Wednesday    2022-08   \n",
       "10123462  66edc1765bb07328b9d4  2017      July     Sunday    2017-07   \n",
       "5884575   9e88318918189b886c83  2021   January  Wednesday    2021-01   \n",
       "16095366  09b586574a4c4d3e6259  2011      July    Tuesday    2011-07   \n",
       "\n",
       "                 ymd  \n",
       "15906283  2015-02-28  \n",
       "8328248   2022-08-31  \n",
       "10123462  2017-07-16  \n",
       "5884575   2021-01-06  \n",
       "16095366  2011-07-19  "
      ]
     },
     "execution_count": 3,
     "metadata": {},
     "output_type": "execute_result"
    }
   ],
   "source": [
    "data_fe[[\"id\", \"app_name\", \"category\", \"author\", \"year\", \"month\", \"day\", \"year_month\", \"ymd\"]].head()"
   ]
  },
  {
   "cell_type": "markdown",
   "metadata": {},
   "source": [
    "The author information has been effectively anonymized, and the date parsing has been completed successfully. Having completed the initial stages of data cleaning and feature engineering, we now move on to a critical phase in our data preparation: text processing. This phase involves transforming raw text data into a structured format that can be effectively used in our analysis and modeling tasks. We will utilize PySpark, a powerful big data processing framework, to handle the large volume of text data efficiently."
   ]
  }
 ],
 "metadata": {
  "kernelspec": {
   "display_name": "appvocai-discover",
   "language": "python",
   "name": "python3"
  },
  "language_info": {
   "codemirror_mode": {
    "name": "ipython",
    "version": 3
   },
   "file_extension": ".py",
   "mimetype": "text/x-python",
   "name": "python",
   "nbconvert_exporter": "python",
   "pygments_lexer": "ipython3",
   "version": "3.10.14"
  }
 },
 "nbformat": 4,
 "nbformat_minor": 2
}