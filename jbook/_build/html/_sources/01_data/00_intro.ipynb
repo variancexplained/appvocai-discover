{
    "cells": [
        {
            "cell_type": "markdown",
            "metadata": {},
            "source": [
                "# Introduction\n",
                "\n",
                "> \"Because we offer nearly two million apps — and we want you to feel good about using every single one of them.\" - Apple\n",
                "\n",
                "In 1983, Steve Jobs envisioned a future where consumers could seamlessly purchase and download software directly from their computers. Fast forward 25 years to 2008, Apple launched the App Store, realizing Jobs' vision and revolutionizing the way we interact with technology. Following the success of the iTunes digital music store, the Apple App Store became one of the world's first commercially successful mobile app marketplaces, and today, it stands as a digital leviathan. As of May 29, 2024, the App Store boasts a staggering 1,928,363 apps available for download, catering to over 1.3 billion iOS users worldwide.\n",
                "\n",
                "And, amidst this flourishing ecosystem, understanding how users *actually* feel about the apps they download and use every day, remains crucial. It's incontestable. Ratings and reviews play a pivotal role in App Store Optimization (ASO) and app discoverability, which can be the difference between app success and failure. Yet, the dearth of large-scale customer rating and review datasets for in-depth analysis is astounding. \n",
                "\n",
                "Disaffected by the scarcity of comprehensive App Store review datasets, an undertaking was begun to construct a collection of app reviews that would serve as a laboratory where the frontier of generative methods, text synthesis, graph neural networks, next-gen NLP solutions, advanced integration technologies, and other innovative methods can be explored, stretched, taxed and charged with revealing the nuances and contours of the customer experience, to uncover the latent, and perhaps undistinguished emergent market need with AI.\n",
                "\n",
                "Introducing the AppVoC (Voice of the Customer) dataset — a collection of iOS app reviews, believed to be one of the largest collections of Apple iOS user review datasets available, second only to that of the App Store itself.\n",
                "\n",
                "## Key Features of AppVoC Dataset\n",
                "\n",
                "- **Scale**: The dataset includes approximately 18 million reviews, making it one of the most extensive collections of app store reviews publicly available.\n",
                "- **User Base**: It covers 13 million unique users, reflecting a vast and diverse range of perspectives.\n",
                "- **App Diversity**: The dataset includes reviews for for some 34,000 unique apps showcasing the broad spectrum of app interests and needs.\n",
                "- **Category Coverage**: The dataset spans ten of the most popular app categories, illuminating the diverse interests and needs of mobile users.\n",
                "- **Voice-on-Voice**: The dataset captures how users engage and value the sentiments and opinions of other users. The number and value of user votes on reviews opens up new avenues allowing researchers and analysts to explore user engagement dynamics, identify influential reviews, and understand the collective sentiment of the user community towards specific apps. These insights can inform app developers, stakeholders, and decision-makers in optimizing app experiences, addressing user concerns, and driving user engagement and satisfaction.\n",
                "- **Temporal Coverage**: Spanning from 2008 to 2023, the dataset captures a wealth of user interactions and feedback over 15 years, providing a longitudinal view of app usage and user feedback trends. Timestamps illuminate the individual and collective progression of sentiment over time, motivating deeper exploration into the evolving dynamics of user engagement and feedback. By analyzing the temporal dimension of reviews, researchers and analysts can uncover trends, patterns, and fluctuations in user sentiment, shedding light on the factors influencing app popularity, user satisfaction, and overall app ecosystem dynamics. This temporal lens not only provides valuable insights into past user behavior but also enables predictive analysis and forecasting, empowering stakeholders to anticipate trends, mitigate risks, and capitalize on emerging opportunities in the ever-evolving app landscape.\n",
                "- **Rich Metadata**: Each review is accompanied by metadata such as app name, category, rating, vote count, and timestamp, enabling multifaceted analysis.\n",
                "\n",
                "## Major Statistics of the AppVoC Dataset\n",
                "With an overview of the AppVoC dataset established, let's delve into the major statistics that define its scope and depth. This section provides a detailed summary of key metrics, including the number of reviews, users, apps, and categories, and a breakdown of reviews by category."
            ]
        },
        {
            "cell_type": "code",
            "execution_count": 1,
            "metadata": {
                "tags": [
                    "remove-cell"
                ]
            },
            "outputs": [],
            "source": [
                "import os\n",
                "if 'jbook' in os.getcwd():\n",
                "    os.chdir(os.path.abspath(os.path.join(\"../..\")))\n",
                "import warnings\n",
                "warnings.filterwarnings(\"ignore\")"
            ]
        },
        {
            "cell_type": "code",
            "execution_count": 2,
            "metadata": {},
            "outputs": [],
            "source": [
                "from appvocai-discover.analysis.overview import DatasetOverview\n",
                "from appvocai-discover.utils.repo import ReviewRepo"
            ]
        },
        {
            "cell_type": "code",
            "execution_count": 3,
            "metadata": {},
            "outputs": [
                {
                    "data": {
                        "text/html": [
                            "<style type=\"text/css\">\n",
                            "</style>\n",
                            "<table id=\"T_5e35c\">\n",
                            "  <thead>\n",
                            "    <tr>\n",
                            "      <th class=\"blank level0\" >&nbsp;</th>\n",
                            "      <th id=\"T_5e35c_level0_col0\" class=\"col_heading level0 col0\" >Characteristic</th>\n",
                            "      <th id=\"T_5e35c_level0_col1\" class=\"col_heading level0 col1\" >Total</th>\n",
                            "    </tr>\n",
                            "  </thead>\n",
                            "  <tbody>\n",
                            "    <tr>\n",
                            "      <th id=\"T_5e35c_level0_row0\" class=\"row_heading level0 row0\" >0</th>\n",
                            "      <td id=\"T_5e35c_row0_col0\" class=\"data row0 col0\" >Number of Reviews</td>\n",
                            "      <td id=\"T_5e35c_row0_col1\" class=\"data row0 col1\" >18,306</td>\n",
                            "    </tr>\n",
                            "    <tr>\n",
                            "      <th id=\"T_5e35c_level0_row1\" class=\"row_heading level0 row1\" >1</th>\n",
                            "      <td id=\"T_5e35c_row1_col0\" class=\"data row1 col0\" >Number of Users</td>\n",
                            "      <td id=\"T_5e35c_row1_col1\" class=\"data row1 col1\" >18,289</td>\n",
                            "    </tr>\n",
                            "    <tr>\n",
                            "      <th id=\"T_5e35c_level0_row2\" class=\"row_heading level0 row2\" >2</th>\n",
                            "      <td id=\"T_5e35c_row2_col0\" class=\"data row2 col0\" >Number of Apps</td>\n",
                            "      <td id=\"T_5e35c_row2_col1\" class=\"data row2 col1\" >4,199</td>\n",
                            "    </tr>\n",
                            "    <tr>\n",
                            "      <th id=\"T_5e35c_level0_row3\" class=\"row_heading level0 row3\" >3</th>\n",
                            "      <td id=\"T_5e35c_row3_col0\" class=\"data row3 col0\" >Number of Categories</td>\n",
                            "      <td id=\"T_5e35c_row3_col1\" class=\"data row3 col1\" >10</td>\n",
                            "    </tr>\n",
                            "  </tbody>\n",
                            "</table>\n"
                        ],
                        "text/plain": [
                            "<pandas.io.formats.style.Styler at 0x7fb00b859150>"
                        ]
                    },
                    "execution_count": 3,
                    "metadata": {},
                    "output_type": "execute_result"
                }
            ],
            "source": [
                "review_repo = ReviewRepo()\n",
                "df = review_repo.read(directory=\"01_normalized\",filename=\"reviews.pkl\")\n",
                "ov = DatasetOverview(data=df)\n",
                "ov.overview"
            ]
        },
        {
            "cell_type": "markdown",
            "metadata": {},
            "source": [
                "The table below provides a breakdown of the review distribution across various app categories, highlighting the count and percentage of reviews each category has received within the full dataset. "
            ]
        },
        {
            "cell_type": "code",
            "execution_count": 4,
            "metadata": {},
            "outputs": [
                {
                    "data": {
                        "text/html": [
                            "<style type=\"text/css\">\n",
                            "</style>\n",
                            "<table id=\"T_872ec\">\n",
                            "  <thead>\n",
                            "    <tr>\n",
                            "      <th class=\"blank level0\" >&nbsp;</th>\n",
                            "      <th id=\"T_872ec_level0_col0\" class=\"col_heading level0 col0\" >category</th>\n",
                            "      <th id=\"T_872ec_level0_col1\" class=\"col_heading level0 col1\" >Count</th>\n",
                            "      <th id=\"T_872ec_level0_col2\" class=\"col_heading level0 col2\" >Percent</th>\n",
                            "    </tr>\n",
                            "  </thead>\n",
                            "  <tbody>\n",
                            "    <tr>\n",
                            "      <th id=\"T_872ec_level0_row0\" class=\"row_heading level0 row0\" >0</th>\n",
                            "      <td id=\"T_872ec_row0_col0\" class=\"data row0 col0\" >Book</td>\n",
                            "      <td id=\"T_872ec_row0_col1\" class=\"data row0 col1\" >796</td>\n",
                            "      <td id=\"T_872ec_row0_col2\" class=\"data row0 col2\" >4.35</td>\n",
                            "    </tr>\n",
                            "    <tr>\n",
                            "      <th id=\"T_872ec_level0_row1\" class=\"row_heading level0 row1\" >1</th>\n",
                            "      <td id=\"T_872ec_row1_col0\" class=\"data row1 col0\" >Business</td>\n",
                            "      <td id=\"T_872ec_row1_col1\" class=\"data row1 col1\" >1,418</td>\n",
                            "      <td id=\"T_872ec_row1_col2\" class=\"data row1 col2\" >7.75</td>\n",
                            "    </tr>\n",
                            "    <tr>\n",
                            "      <th id=\"T_872ec_level0_row2\" class=\"row_heading level0 row2\" >2</th>\n",
                            "      <td id=\"T_872ec_row2_col0\" class=\"data row2 col0\" >Education</td>\n",
                            "      <td id=\"T_872ec_row2_col1\" class=\"data row2 col1\" >1,126</td>\n",
                            "      <td id=\"T_872ec_row2_col2\" class=\"data row2 col2\" >6.15</td>\n",
                            "    </tr>\n",
                            "    <tr>\n",
                            "      <th id=\"T_872ec_level0_row3\" class=\"row_heading level0 row3\" >3</th>\n",
                            "      <td id=\"T_872ec_row3_col0\" class=\"data row3 col0\" >Entertainment</td>\n",
                            "      <td id=\"T_872ec_row3_col1\" class=\"data row3 col1\" >2,004</td>\n",
                            "      <td id=\"T_872ec_row3_col2\" class=\"data row3 col2\" >10.95</td>\n",
                            "    </tr>\n",
                            "    <tr>\n",
                            "      <th id=\"T_872ec_level0_row4\" class=\"row_heading level0 row4\" >4</th>\n",
                            "      <td id=\"T_872ec_row4_col0\" class=\"data row4 col0\" >Health & Fitness</td>\n",
                            "      <td id=\"T_872ec_row4_col1\" class=\"data row4 col1\" >4,009</td>\n",
                            "      <td id=\"T_872ec_row4_col2\" class=\"data row4 col2\" >21.90</td>\n",
                            "    </tr>\n",
                            "    <tr>\n",
                            "      <th id=\"T_872ec_level0_row5\" class=\"row_heading level0 row5\" >5</th>\n",
                            "      <td id=\"T_872ec_row5_col0\" class=\"data row5 col0\" >Lifestyle</td>\n",
                            "      <td id=\"T_872ec_row5_col1\" class=\"data row5 col1\" >1,726</td>\n",
                            "      <td id=\"T_872ec_row5_col2\" class=\"data row5 col2\" >9.43</td>\n",
                            "    </tr>\n",
                            "    <tr>\n",
                            "      <th id=\"T_872ec_level0_row6\" class=\"row_heading level0 row6\" >6</th>\n",
                            "      <td id=\"T_872ec_row6_col0\" class=\"data row6 col0\" >Medical</td>\n",
                            "      <td id=\"T_872ec_row6_col1\" class=\"data row6 col1\" >662</td>\n",
                            "      <td id=\"T_872ec_row6_col2\" class=\"data row6 col2\" >3.62</td>\n",
                            "    </tr>\n",
                            "    <tr>\n",
                            "      <th id=\"T_872ec_level0_row7\" class=\"row_heading level0 row7\" >7</th>\n",
                            "      <td id=\"T_872ec_row7_col0\" class=\"data row7 col0\" >Productivity</td>\n",
                            "      <td id=\"T_872ec_row7_col1\" class=\"data row7 col1\" >794</td>\n",
                            "      <td id=\"T_872ec_row7_col2\" class=\"data row7 col2\" >4.34</td>\n",
                            "    </tr>\n",
                            "    <tr>\n",
                            "      <th id=\"T_872ec_level0_row8\" class=\"row_heading level0 row8\" >8</th>\n",
                            "      <td id=\"T_872ec_row8_col0\" class=\"data row8 col0\" >Social Networking</td>\n",
                            "      <td id=\"T_872ec_row8_col1\" class=\"data row8 col1\" >2,699</td>\n",
                            "      <td id=\"T_872ec_row8_col2\" class=\"data row8 col2\" >14.74</td>\n",
                            "    </tr>\n",
                            "    <tr>\n",
                            "      <th id=\"T_872ec_level0_row9\" class=\"row_heading level0 row9\" >9</th>\n",
                            "      <td id=\"T_872ec_row9_col0\" class=\"data row9 col0\" >Utilities</td>\n",
                            "      <td id=\"T_872ec_row9_col1\" class=\"data row9 col1\" >3,072</td>\n",
                            "      <td id=\"T_872ec_row9_col2\" class=\"data row9 col2\" >16.78</td>\n",
                            "    </tr>\n",
                            "  </tbody>\n",
                            "</table>\n"
                        ],
                        "text/plain": [
                            "<pandas.io.formats.style.Styler at 0x7fb010868be0>"
                        ]
                    },
                    "execution_count": 4,
                    "metadata": {},
                    "output_type": "execute_result"
                }
            ],
            "source": [
                "ov.summary"
            ]
        },
        {
            "cell_type": "markdown",
            "metadata": {},
            "source": [
                "## AppVoC Dataset Variables\n",
                "The dataset contains 13 variables, offering a multifaceted view of user interactions and app attributes. \n",
                "\n",
                "- **id**: Unique identifier for each review.\n",
                "- **app_id**: Unique identifier for the app being reviewed.\n",
                "- **app_name**: Name of the mobile application being reviewed.\n",
                "- **category_id**: Four-digit identifier representing the category or genre of the app.\n",
                "- **category**: Category or genre name of the app.\n",
                "- **author**: Name or identifier of the reviewer.\n",
                "- **rating**: Numeric rating provided by the author for the app.\n",
                "- **title**: Title of the review.\n",
                "- **content**: Detailed content of the review provided by the author.\n",
                "- **review_length**: Length of the review in words.\n",
                "- **vote_sum**: Total sum of votes on the usefulness of the rating.\n",
                "- **vote_count**: Number of votes on the usefulness of the rating.\n",
                "- **date**: Date when the review was written.\n",
                "\n",
                "These variables collectively evince the mobile app user experience and provide a basis for analyzing user feedback and extracting actionable intelligence about areas for improvement, feature requests, unmet needs, and user preferences."
            ]
        },
        {
            "cell_type": "markdown",
            "metadata": {},
            "source": [
                "## AppVOC Preprocessing\n",
                "\n",
                "In advance of the exploratory and interactive analyses,  our aim for the next few sections is to ensure that the text data are clean, structured, and ready for in-depth examination and modeling. With that, our six-stage data preprocessing effort will unfold as follows:\n",
                "\n",
                "1. **Data Normalization**: Standardize data types and encoding to resolve technical anomalies before further processing and analysis.\n",
                "2. **Data Quality Analysis**: Identify and rectify noise within the dataset, including profanity, excessive special characters, and identifiable patterns like emails and URLs.\n",
                "3. **Cleaning**: Purge biased or distorted observations detected during the data quality analysis, ensuring data integrity.\n",
                "4. **Feature Engineering**: Enhance data by transforming date fields into informative features such as month, day of the week, and day of the month. Additionally, anonymize author information to uphold privacy.\n",
                "5. **Text Preprocessing**: Optimize textual data for downstream tasks such as word cloud generation and topic modeling, utilizing techniques like tokenization and stemming.\n",
                "6. **Metrics**: Establish an Analytics Precomputation Layer (APL) to calculate aggregate statistical summaries, facilitating swift query responses and cost-effective analytics.\n",
                "\n",
                "These next steps will ensure that the dataset is clean, consistent, and well-structured for exploratory data analysis. Next up? Data quality analysis."
            ]
        }
    ],
    "metadata": {
        "kernelspec": {
            "display_name": "appvocai-discover",
            "language": "python",
            "name": "python3"
        },
        "language_info": {
            "codemirror_mode": {
                "name": "ipython",
                "version": 3
            },
            "file_extension": ".py",
            "mimetype": "text/x-python",
            "name": "python",
            "nbconvert_exporter": "python",
            "pygments_lexer": "ipython3",
            "version": "3.10.14"
        }
    },
    "nbformat": 4,
    "nbformat_minor": 2
}