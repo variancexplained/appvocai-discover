{
 "cells": [
  {
   "cell_type": "code",
   "execution_count": 1,
   "metadata": {
    "tags": [
     "remove-cell"
    ]
   },
   "outputs": [],
   "source": [
    "import os\n",
    "if 'jbook' in os.getcwd():\n",
    "    os.chdir(os.path.abspath(os.path.join(\"../..\")))\n",
    "import warnings\n",
    "warnings.filterwarnings(\"ignore\")"
   ]
  },
  {
   "cell_type": "markdown",
   "metadata": {},
   "source": [
    "# Normalization\n",
    "\n",
    "To prepare the dataset for analysis, normalization preprocessing is performed. This involves standardizing data types, ensuring consistent encoding, and removing new lines from text. These steps help resolve technical anomalies and streamline subsequent data processing and analysis."
   ]
  },
  {
   "cell_type": "code",
   "execution_count": 2,
   "metadata": {},
   "outputs": [],
   "source": [
    "from appvocai-discover.data_prep.normalize import StageConfig, Stage"
   ]
  },
  {
   "cell_type": "markdown",
   "metadata": {},
   "source": [
    "To implement the normalization preprocessing described above, the following code snippet is utilized. It initializes the normalization configuration, executes the normalization process, and then displays information about the resulting dataset using the `info()` function."
   ]
  },
  {
   "cell_type": "code",
   "execution_count": 3,
   "metadata": {},
   "outputs": [
    {
     "name": "stdout",
     "output_type": "stream",
     "text": [
      "\n",
      "\n",
      "# ============================================================================ #\n",
      "#                              Stage Pipeline                              #\n",
      "# ============================================================================ #\n",
      "\n",
      "Task Reader completed successfully.\n",
      "Task StageDataTask completed successfully.\n",
      "Task Writer completed successfully.\n",
      "\n",
      "\n",
      "                                   Stage                                    \n",
      "                          Pipeline Start | 2024-06-05 09:01:46.165994\n",
      "                           Pipeline Stop | 2024-06-05 09:06:05.153115\n",
      "                        Pipeline Runtime | 04 Minutes 18.987121 Seconds\n",
      "\n",
      "\n",
      "\n",
      "\n",
      "# ============================================================================ #\n",
      "\n",
      "<class 'pandas.core.frame.DataFrame'>\n",
      "Index: 18301026 entries, 6739829 to 16939968\n",
      "Data columns (total 13 columns):\n",
      " #   Column         Dtype         \n",
      "---  ------         -----         \n",
      " 0   id             string        \n",
      " 1   app_id         string        \n",
      " 2   app_name       string        \n",
      " 3   category_id    category      \n",
      " 4   category       category      \n",
      " 5   author         string        \n",
      " 6   rating         int64         \n",
      " 7   title          string        \n",
      " 8   content        string        \n",
      " 9   vote_sum       int64         \n",
      " 10  vote_count     int64         \n",
      " 11  date           datetime64[ms]\n",
      " 12  eda_review_length  int64         \n",
      "dtypes: category(2), datetime64[ms](1), int64(4), string(6)\n",
      "memory usage: 1.7 GB\n"
     ]
    }
   ],
   "source": [
    "config = StageConfig(force=False)\n",
    "norm = Stage(config=config)\n",
    "data = norm.execute()\n",
    "data.info()"
   ]
  },
  {
   "cell_type": "markdown",
   "metadata": {},
   "source": [
    "The code snippet successfully casts data types to their appropriate formats, ensuring consistency and accuracy throughout the DataFrame."
   ]
  }
 ],
 "metadata": {
  "kernelspec": {
   "display_name": "appvocai-discover",
   "language": "python",
   "name": "python3"
  },
  "language_info": {
   "codemirror_mode": {
    "name": "ipython",
    "version": 3
   },
   "file_extension": ".py",
   "mimetype": "text/x-python",
   "name": "python",
   "nbconvert_exporter": "python",
   "pygments_lexer": "ipython3",
   "version": "3.10.14"
  }
 },
 "nbformat": 4,
 "nbformat_minor": 2
}
