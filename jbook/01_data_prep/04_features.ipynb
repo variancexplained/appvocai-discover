{
 "cells": [
  {
   "cell_type": "code",
   "execution_count": 1,
   "metadata": {
    "tags": [
     "remove-cell"
    ]
   },
   "outputs": [],
   "source": [
    "import os\n",
    "if 'jbook' in os.getcwd():\n",
    "    os.chdir(os.path.abspath(os.path.join(\"../..\")))\n",
    "import warnings\n",
    "warnings.filterwarnings(\"ignore\")"
   ]
  },
  {
   "cell_type": "markdown",
   "metadata": {},
   "source": [
    "# Feature Engineering\n",
    "\n",
    "Let's handle the two feature engineering tasks: anonymizing the review author and some date parsing for temporal analysis.\n",
    "\n",
    "1. Anonymizing Author with Blake2 Hashing Algorithm\n",
    "We will use the blake2b hashing function from the hashlib library to anonymize the author names.\n",
    "\n",
    "2. Parsing Dates for Temporal Analysis\n",
    "We will use the pandas library to parse dates into day of the week, month, and year."
   ]
  },
  {
   "cell_type": "code",
   "execution_count": 2,
   "metadata": {},
   "outputs": [],
   "source": [
    "from appvocai-discover.data_prep.feature import FeatureEngineer, FeatureEngineeringConfig"
   ]
  },
  {
   "cell_type": "markdown",
   "metadata": {},
   "source": [
    " The following code snippet sets up and executes this process, which involves configuring the feature engineering parameters and applying the transformations to the dataset:"
   ]
  },
  {
   "cell_type": "code",
   "execution_count": 3,
   "metadata": {},
   "outputs": [
    {
     "name": "stdout",
     "output_type": "stream",
     "text": [
      "\n",
      "\n",
      "# ============================================================================ #\n",
      "#                         FeatureEngineering Pipeline                          #\n",
      "# ============================================================================ #\n",
      "\n",
      "Task ReadTask completed successfully.\n",
      "Task ParseDatesTask completed successfully.\n",
      "Task AnonymizeAuthorsTask completed successfully.\n",
      "Task DropFeaturesTask completed successfully.\n",
      "Task CastDatatypesTask completed successfully.\n",
      "Task WriteTask completed successfully.\n",
      "\n",
      "\n",
      "                               FeatureEngineering                               \n",
      "                          Pipeline Start | 2024-06-07 02:52:48.424546\n",
      "                           Pipeline Stop | 2024-06-07 02:52:49.518716\n",
      "                        Pipeline Runtime | 00 Minutes 01.094170 Seconds\n",
      "\n",
      "\n",
      "\n",
      "\n",
      "# ============================================================================ #\n",
      "\n"
     ]
    }
   ],
   "source": [
    "config =  FeatureEngineeringConfig(force=True)\n",
    "features = FeatureEngineer(config=config)\n",
    "data_fe =features.execute()"
   ]
  },
  {
   "cell_type": "markdown",
   "metadata": {},
   "source": [
    "Let's review the results, subsetting on the key features."
   ]
  },
  {
   "cell_type": "code",
   "execution_count": 4,
   "metadata": {},
   "outputs": [
    {
     "data": {
      "text/html": [
       "<div>\n",
       "<style scoped>\n",
       "    .dataframe tbody tr th:only-of-type {\n",
       "        vertical-align: middle;\n",
       "    }\n",
       "\n",
       "    .dataframe tbody tr th {\n",
       "        vertical-align: top;\n",
       "    }\n",
       "\n",
       "    .dataframe thead th {\n",
       "        text-align: right;\n",
       "    }\n",
       "</style>\n",
       "<table border=\"1\" class=\"dataframe\">\n",
       "  <thead>\n",
       "    <tr style=\"text-align: right;\">\n",
       "      <th></th>\n",
       "      <th>id</th>\n",
       "      <th>app_name</th>\n",
       "      <th>category</th>\n",
       "      <th>author</th>\n",
       "      <th>year</th>\n",
       "      <th>month</th>\n",
       "      <th>day</th>\n",
       "      <th>year_month</th>\n",
       "      <th>ymd</th>\n",
       "    </tr>\n",
       "  </thead>\n",
       "  <tbody>\n",
       "    <tr>\n",
       "      <th>7604307</th>\n",
       "      <td>1005351188</td>\n",
       "      <td>MyFitnessPal: Calorie Counter</td>\n",
       "      <td>Health &amp; Fitness</td>\n",
       "      <td>ce3907557610831af7db</td>\n",
       "      <td>2014</td>\n",
       "      <td>June</td>\n",
       "      <td>Friday</td>\n",
       "      <td>2014-06</td>\n",
       "      <td>2014-06-06</td>\n",
       "    </tr>\n",
       "    <tr>\n",
       "      <th>8267885</th>\n",
       "      <td>7686300705</td>\n",
       "      <td>Seed to Spoon - Growing Food</td>\n",
       "      <td>Health &amp; Fitness</td>\n",
       "      <td>fe0763ad8fadee1fc8d6</td>\n",
       "      <td>2021</td>\n",
       "      <td>August</td>\n",
       "      <td>Friday</td>\n",
       "      <td>2021-08</td>\n",
       "      <td>2021-08-13</td>\n",
       "    </tr>\n",
       "    <tr>\n",
       "      <th>5468322</th>\n",
       "      <td>9757470455</td>\n",
       "      <td>Gym Workouts, Gym Plan Fitness</td>\n",
       "      <td>Health &amp; Fitness</td>\n",
       "      <td>87cb31e00c30d4f56091</td>\n",
       "      <td>2023</td>\n",
       "      <td>March</td>\n",
       "      <td>Monday</td>\n",
       "      <td>2023-03</td>\n",
       "      <td>2023-03-27</td>\n",
       "    </tr>\n",
       "    <tr>\n",
       "      <th>10587128</th>\n",
       "      <td>5010441450</td>\n",
       "      <td>Hulu: Watch TV shows &amp; movies</td>\n",
       "      <td>Entertainment</td>\n",
       "      <td>a456c8352581b4ff27cd</td>\n",
       "      <td>2019</td>\n",
       "      <td>October</td>\n",
       "      <td>Friday</td>\n",
       "      <td>2019-10</td>\n",
       "      <td>2019-10-25</td>\n",
       "    </tr>\n",
       "    <tr>\n",
       "      <th>6892464</th>\n",
       "      <td>1670012324</td>\n",
       "      <td>Stupid Simple Macro Tracker</td>\n",
       "      <td>Health &amp; Fitness</td>\n",
       "      <td>deac1388df3d6ef3108a</td>\n",
       "      <td>2017</td>\n",
       "      <td>July</td>\n",
       "      <td>Wednesday</td>\n",
       "      <td>2017-07</td>\n",
       "      <td>2017-07-05</td>\n",
       "    </tr>\n",
       "  </tbody>\n",
       "</table>\n",
       "</div>"
      ],
      "text/plain": [
       "                  id                        app_name          category  \\\n",
       "7604307   1005351188   MyFitnessPal: Calorie Counter  Health & Fitness   \n",
       "8267885   7686300705    Seed to Spoon - Growing Food  Health & Fitness   \n",
       "5468322   9757470455  Gym Workouts, Gym Plan Fitness  Health & Fitness   \n",
       "10587128  5010441450   Hulu: Watch TV shows & movies     Entertainment   \n",
       "6892464   1670012324     Stupid Simple Macro Tracker  Health & Fitness   \n",
       "\n",
       "                        author  year    month        day year_month  \\\n",
       "7604307   ce3907557610831af7db  2014     June     Friday    2014-06   \n",
       "8267885   fe0763ad8fadee1fc8d6  2021   August     Friday    2021-08   \n",
       "5468322   87cb31e00c30d4f56091  2023    March     Monday    2023-03   \n",
       "10587128  a456c8352581b4ff27cd  2019  October     Friday    2019-10   \n",
       "6892464   deac1388df3d6ef3108a  2017     July  Wednesday    2017-07   \n",
       "\n",
       "                 ymd  \n",
       "7604307   2014-06-06  \n",
       "8267885   2021-08-13  \n",
       "5468322   2023-03-27  \n",
       "10587128  2019-10-25  \n",
       "6892464   2017-07-05  "
      ]
     },
     "execution_count": 4,
     "metadata": {},
     "output_type": "execute_result"
    }
   ],
   "source": [
    "data_fe[[\"id\", \"app_name\", \"category\", \"author\", \"year\", \"month\", \"day\", \"year_month\", \"ymd\"]].sample(n=5)"
   ]
  },
  {
   "cell_type": "markdown",
   "metadata": {},
   "source": [
    "The author information has been effectively anonymized, and the date parsing has been completed successfully. Having completed the initial stages of data cleaning and feature engineering, we now move on to a critical phase in our data preparation: text processing. This phase involves transforming raw text data into a structured format that can be effectively used in our analysis and modeling tasks. We will utilize PySpark, a powerful big data processing framework, to handle the large volume of text data efficiently."
   ]
  }
 ],
 "metadata": {
  "kernelspec": {
   "display_name": "appvocai-discover",
   "language": "python",
   "name": "python3"
  },
  "language_info": {
   "codemirror_mode": {
    "name": "ipython",
    "version": 3
   },
   "file_extension": ".py",
   "mimetype": "text/x-python",
   "name": "python",
   "nbconvert_exporter": "python",
   "pygments_lexer": "ipython3",
   "version": "3.10.14"
  }
 },
 "nbformat": 4,
 "nbformat_minor": 2
}
