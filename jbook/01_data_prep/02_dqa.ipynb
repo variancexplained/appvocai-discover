{
 "cells": [
  {
   "cell_type": "code",
   "execution_count": 1,
   "metadata": {
    "tags": [
     "remove-cell"
    ]
   },
   "outputs": [],
   "source": [
    "import os\n",
    "if 'jbook' in os.getcwd():\n",
    "    os.chdir(os.path.abspath(os.path.join(\"../..\")))\n",
    "import warnings\n",
    "warnings.filterwarnings(\"ignore\")"
   ]
  },
  {
   "cell_type": "markdown",
   "metadata": {},
   "source": [
    "# Data Quality Assessment\n",
    "The second stage of data processing is the Data Quality Assessment. This stage ensures that our dataset is ready for subsequent analysis and modeling tasks. By identifying and rectifying data quality issues early, we can avoid potential pitfalls that might compromise the integrity and accuracy of our results.\n",
    "\n",
    "## Data Quality Checks\n",
    "In this stage, we employ a series of tasks designed to identify and address any noise or irregularities within the dataset. Each task focuses on a specific aspect of data quality, ranging from detecting duplicate entries to identifying profanity, special patterns, and other potential sources of bias or distortion.\n",
    "1. **Duplicate Rows**: We identify and remove duplicate entries to ensure that each observation is unique, preventing skewed analyses and inflated metrics.\n",
    "2. **Null Values**: We detect and handle missing data appropriately, which could involve imputation, deletion, or flagging incomplete records for further investigation.\n",
    "3. **Outliers**: Check for outliers in numeric columns using the non-parametric Interquartile Range (IQR) method.\n",
    "4. **Non-English Text**: We check for and address non-English text in reviews and app names, as they may not be relevant to our analysis or could require special handling.\n",
    "5. **Emojis**: Emojis can carry significant meaning in certain contexts but might also introduce noise. We identify and decide on their treatment—whether to retain, remove, or translate them into textual representations.\n",
    "6. **Excessive Special Characters**: Special characters can disrupt text analysis and need to be managed, either by cleaning or encoding them appropriately.\n",
    "7. **Invalid Dates**: We verify that date values fall within expected ranges and formats, correcting or flagging anomalies for further review.\n",
    "8. **Invalid Ratings**: Ratings that fall outside the expected scale (e.g., 1 to 5) are identified and corrected or flagged.\n",
    "9. **Profanity**: We detect and handle profane content to ensure that our dataset adheres to appropriate usage standards, especially if it's intended for public or sensitive applications.\n",
    "10. **Special Patterns**: We identify and manage special patterns such as URLs, phone numbers, and emails. These patterns could be indicative of spam or need to be anonymized to protect privacy.\n",
    "\n",
    "By conducting these data quality checks, we ensure that our dataset is clean, reliable, and ready for detailed analysis. This foundational step sets the stage for accurate insights and robust conclusions in the subsequent phases of our data processing pipeline."
   ]
  },
  {
   "cell_type": "code",
   "execution_count": 2,
   "metadata": {},
   "outputs": [],
   "source": [
    "\n",
    "from appvocai-discover.data_prep.dqa import DataQualityAssessment, DQAConfig"
   ]
  },
  {
   "cell_type": "markdown",
   "metadata": {},
   "source": [
    "We've encapsulated the data quality assessment process in a `DataQualityAssessment` class. Configured with source and target files, this class conducts the 10 data quality checks, marking the observations that require attention."
   ]
  },
  {
   "cell_type": "code",
   "execution_count": 3,
   "metadata": {},
   "outputs": [
    {
     "name": "stdout",
     "output_type": "stream",
     "text": [
      "\n",
      "\n",
      "# ============================================================================ #\n",
      "#                        DataQualityAssessment Pipeline                        #\n",
      "# ============================================================================ #\n",
      "\n",
      "Task Reader completed successfully.\n",
      "Task RemoveDuplicateRowTask completed successfully.\n",
      "Task RemoveDuplicateRowTask completed successfully.\n",
      "Task DetectNullValuesTask completed successfully.\n",
      "Task DetectOutliersTask completed successfully.\n",
      "Task RemoveNonEnglishTask completed successfully.\n",
      "Task RemoveNonEnglishTask completed successfully.\n",
      "Task DetectEmojiTask completed successfully.\n",
      "Task DetectSpecialCharacterTask completed successfully.\n",
      "Task DetectInvalidDatesTask completed successfully.\n",
      "Task DetectInvalidRatingsTask completed successfully.\n",
      "Task DetectProfanityTask completed successfully.\n",
      "Task DetectSpecialPatternsTask completed successfully.\n",
      "Task Writer completed successfully.\n",
      "\n",
      "\n",
      "                             DataQualityAssessment                              \n",
      "                          Pipeline Start | 2024-06-07 02:41:01.871334\n",
      "                           Pipeline Stop | 2024-06-07 02:41:22.675083\n",
      "                        Pipeline Runtime | 00 Minutes 20.803749 Seconds\n",
      "\n",
      "\n",
      "\n",
      "\n",
      "# ============================================================================ #\n",
      "\n"
     ]
    }
   ],
   "source": [
    "config = DQAConfig(force=False)\n",
    "dqa = DataQualityAssessment(config=config)\n",
    "data = dqa.execute()"
   ]
  },
  {
   "cell_type": "markdown",
   "metadata": {},
   "source": [
    "Let's get a summary of the data quality issues by type."
   ]
  },
  {
   "cell_type": "code",
   "execution_count": 4,
   "metadata": {},
   "outputs": [
    {
     "data": {
      "text/html": [
       "<style type=\"text/css\">\n",
       "</style>\n",
       "<table id=\"T_2a5cd\">\n",
       "  <thead>\n",
       "    <tr>\n",
       "      <th class=\"blank level0\" >&nbsp;</th>\n",
       "      <th id=\"T_2a5cd_level0_col0\" class=\"col_heading level0 col0\" >Count</th>\n",
       "      <th id=\"T_2a5cd_level0_col1\" class=\"col_heading level0 col1\" >Percent</th>\n",
       "    </tr>\n",
       "  </thead>\n",
       "  <tbody>\n",
       "    <tr>\n",
       "      <th id=\"T_2a5cd_level0_row0\" class=\"row_heading level0 row0\" >dqa_is_duplicate</th>\n",
       "      <td id=\"T_2a5cd_row0_col0\" class=\"data row0 col0\" >4</td>\n",
       "      <td id=\"T_2a5cd_row0_col1\" class=\"data row0 col1\" >0.02</td>\n",
       "    </tr>\n",
       "    <tr>\n",
       "      <th id=\"T_2a5cd_level0_row1\" class=\"row_heading level0 row1\" >dqa_is_duplicate_rating_id</th>\n",
       "      <td id=\"T_2a5cd_row1_col0\" class=\"data row1 col0\" >5</td>\n",
       "      <td id=\"T_2a5cd_row1_col1\" class=\"data row1 col1\" >0.03</td>\n",
       "    </tr>\n",
       "    <tr>\n",
       "      <th id=\"T_2a5cd_level0_row2\" class=\"row_heading level0 row2\" >dqa_has_null</th>\n",
       "      <td id=\"T_2a5cd_row2_col0\" class=\"data row2 col0\" >5</td>\n",
       "      <td id=\"T_2a5cd_row2_col1\" class=\"data row2 col1\" >0.03</td>\n",
       "    </tr>\n",
       "    <tr>\n",
       "      <th id=\"T_2a5cd_level0_row3\" class=\"row_heading level0 row3\" >dqa_vote_sum_outlier</th>\n",
       "      <td id=\"T_2a5cd_row3_col0\" class=\"data row3 col0\" >749</td>\n",
       "      <td id=\"T_2a5cd_row3_col1\" class=\"data row3 col1\" >4.09</td>\n",
       "    </tr>\n",
       "    <tr>\n",
       "      <th id=\"T_2a5cd_level0_row4\" class=\"row_heading level0 row4\" >dqa_vote_count_outlier</th>\n",
       "      <td id=\"T_2a5cd_row4_col0\" class=\"data row4 col0\" >995</td>\n",
       "      <td id=\"T_2a5cd_row4_col1\" class=\"data row4 col1\" >5.44</td>\n",
       "    </tr>\n",
       "    <tr>\n",
       "      <th id=\"T_2a5cd_level0_row5\" class=\"row_heading level0 row5\" >dqa_eda_review_length_outlier</th>\n",
       "      <td id=\"T_2a5cd_row5_col0\" class=\"data row5 col0\" >1,234</td>\n",
       "      <td id=\"T_2a5cd_row5_col1\" class=\"data row5 col1\" >6.74</td>\n",
       "    </tr>\n",
       "    <tr>\n",
       "      <th id=\"T_2a5cd_level0_row6\" class=\"row_heading level0 row6\" >dqa_content_non_english</th>\n",
       "      <td id=\"T_2a5cd_row6_col0\" class=\"data row6 col0\" >937</td>\n",
       "      <td id=\"T_2a5cd_row6_col1\" class=\"data row6 col1\" >5.12</td>\n",
       "    </tr>\n",
       "    <tr>\n",
       "      <th id=\"T_2a5cd_level0_row7\" class=\"row_heading level0 row7\" >dqa_app_name_non_english</th>\n",
       "      <td id=\"T_2a5cd_row7_col0\" class=\"data row7 col0\" >2,227</td>\n",
       "      <td id=\"T_2a5cd_row7_col1\" class=\"data row7 col1\" >12.17</td>\n",
       "    </tr>\n",
       "    <tr>\n",
       "      <th id=\"T_2a5cd_level0_row8\" class=\"row_heading level0 row8\" >dqa_has_emoji</th>\n",
       "      <td id=\"T_2a5cd_row8_col0\" class=\"data row8 col0\" >832</td>\n",
       "      <td id=\"T_2a5cd_row8_col1\" class=\"data row8 col1\" >4.54</td>\n",
       "    </tr>\n",
       "    <tr>\n",
       "      <th id=\"T_2a5cd_level0_row9\" class=\"row_heading level0 row9\" >dqa_has_excessive_special_chars</th>\n",
       "      <td id=\"T_2a5cd_row9_col0\" class=\"data row9 col0\" >204</td>\n",
       "      <td id=\"T_2a5cd_row9_col1\" class=\"data row9 col1\" >1.11</td>\n",
       "    </tr>\n",
       "    <tr>\n",
       "      <th id=\"T_2a5cd_level0_row10\" class=\"row_heading level0 row10\" >dqa_date_invalid</th>\n",
       "      <td id=\"T_2a5cd_row10_col0\" class=\"data row10 col0\" >0</td>\n",
       "      <td id=\"T_2a5cd_row10_col1\" class=\"data row10 col1\" >0.00</td>\n",
       "    </tr>\n",
       "    <tr>\n",
       "      <th id=\"T_2a5cd_level0_row11\" class=\"row_heading level0 row11\" >dqa_rating_invalid</th>\n",
       "      <td id=\"T_2a5cd_row11_col0\" class=\"data row11 col0\" >0</td>\n",
       "      <td id=\"T_2a5cd_row11_col1\" class=\"data row11 col1\" >0.00</td>\n",
       "    </tr>\n",
       "    <tr>\n",
       "      <th id=\"T_2a5cd_level0_row12\" class=\"row_heading level0 row12\" >dqa_has_profanity</th>\n",
       "      <td id=\"T_2a5cd_row12_col0\" class=\"data row12 col0\" >184</td>\n",
       "      <td id=\"T_2a5cd_row12_col1\" class=\"data row12 col1\" >1.01</td>\n",
       "    </tr>\n",
       "    <tr>\n",
       "      <th id=\"T_2a5cd_level0_row13\" class=\"row_heading level0 row13\" >dqa_contains_email</th>\n",
       "      <td id=\"T_2a5cd_row13_col0\" class=\"data row13 col0\" >5</td>\n",
       "      <td id=\"T_2a5cd_row13_col1\" class=\"data row13 col1\" >0.03</td>\n",
       "    </tr>\n",
       "    <tr>\n",
       "      <th id=\"T_2a5cd_level0_row14\" class=\"row_heading level0 row14\" >dqa_contains_url</th>\n",
       "      <td id=\"T_2a5cd_row14_col0\" class=\"data row14 col0\" >5</td>\n",
       "      <td id=\"T_2a5cd_row14_col1\" class=\"data row14 col1\" >0.03</td>\n",
       "    </tr>\n",
       "    <tr>\n",
       "      <th id=\"T_2a5cd_level0_row15\" class=\"row_heading level0 row15\" >dqa_contains_phone_number</th>\n",
       "      <td id=\"T_2a5cd_row15_col0\" class=\"data row15 col0\" >14</td>\n",
       "      <td id=\"T_2a5cd_row15_col1\" class=\"data row15 col1\" >0.08</td>\n",
       "    </tr>\n",
       "  </tbody>\n",
       "</table>\n"
      ],
      "text/plain": [
       "<pandas.io.formats.style.Styler at 0x7f227beaaa10>"
      ]
     },
     "execution_count": 4,
     "metadata": {},
     "output_type": "execute_result"
    }
   ],
   "source": [
    "dqa.overview()"
   ]
  },
  {
   "cell_type": "markdown",
   "metadata": {},
   "source": [
    "## Data Quality Impressions\n",
    "\n",
    "The data quality assessment (DQA) conducted on the AppVoC dataset revealed several key issues that need to be addressed to ensure the integrity and reliability of the analysis. These issues include:\n",
    "\n",
    "- **Duplicates**: A small percentage of records were identified as duplicates or had duplicate rating IDs.\n",
    "- **Null Values**: Fortunately, there were no null values detected in the dataset.\n",
    "- **Invalid Entries**: There were no invalid dates or invalid ratings found.\n",
    "- **Outliers**: Outliers were identified in vote sums, vote counts, and review lengths, which could potentially distort analysis results.\n",
    "- **Non-English and Special Characters**: A notable portion of the data was flagged for being non-English or containing excessive special characters, which may impact text analysis.\n",
    "- **Profanity and Sensitive Information**: Instances of profanity and the presence of email addresses, URLs, or phone numbers were minimal.\n",
    "\n",
    "Given these findings, the next step is to clean the dataset. This will involve:\n",
    "\n",
    "- **Removing Duplicates**: Eliminating duplicate records and duplicate rating IDs.\n",
    "- **Handling Outliers**: Identifying and appropriately managing outliers in vote sums, vote counts, and review lengths.\n",
    "- **Addressing Non-English Text and Special Characters**: Filtering or translating non-English reviews and managing reviews with excessive special characters to ensure uniformity in text analysis.\n",
    "- **Ensuring Clean Content**: Checking for and addressing instances of profanity, and ensuring there are no email addresses, URLs, or phone numbers that could compromise data integrity.\n",
    "\n",
    "Cue the action!"
   ]
  }
 ],
 "metadata": {
  "kernelspec": {
   "display_name": "appvocai-discover",
   "language": "python",
   "name": "python3"
  },
  "language_info": {
   "codemirror_mode": {
    "name": "ipython",
    "version": 3
   },
   "file_extension": ".py",
   "mimetype": "text/x-python",
   "name": "python",
   "nbconvert_exporter": "python",
   "pygments_lexer": "ipython3",
   "version": "3.10.14"
  }
 },
 "nbformat": 4,
 "nbformat_minor": 2
}
