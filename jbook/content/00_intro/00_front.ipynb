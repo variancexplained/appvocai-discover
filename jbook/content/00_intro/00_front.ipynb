{
 "cells": [
  {
   "cell_type": "markdown",
   "metadata": {},
   "source": [
    "John James   \n",
    "ORCID iD: 0009-0000-5294-6189   \n",
    "Email: john.james.ai.studio@gmail.com ; john@variancexplained.com   \n",
    "Author's Role(s): Generative AI Engineer, Analyst   "
   ]
  }
 ],
 "metadata": {
  "language_info": {
   "name": "python"
  }
 },
 "nbformat": 4,
 "nbformat_minor": 2
}
